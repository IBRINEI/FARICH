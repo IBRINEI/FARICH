{
 "cells": [
  {
   "metadata": {},
   "cell_type": "code",
   "outputs": [],
   "execution_count": null,
   "source": [
    "from farich_functions import *\n",
    "warnings.filterwarnings(\"ignore\")"
   ],
   "id": "5b46ac76490c6f55"
  },
  {
   "cell_type": "code",
   "execution_count": null,
   "id": "initial_id",
   "metadata": {
    "collapsed": true
   },
   "outputs": [],
   "source": [
    "filepath = os.path.join(\"data\", f\"fullsim_mu_{1000}_musystem.root\")\n",
    "file = uproot.open(filepath)"
   ]
  },
  {
   "metadata": {},
   "cell_type": "code",
   "outputs": [],
   "execution_count": null,
   "source": "np.array(file[file.keys()[0]]['allGenParticles.core.pdgId'].array())",
   "id": "cedd76d6f4630f49"
  },
  {
   "metadata": {},
   "cell_type": "code",
   "outputs": [],
   "execution_count": null,
   "source": "file[file.keys()[0]]['MuonBarrelG4Hits'].keys()",
   "id": "306eb482deb106e2"
  },
  {
   "metadata": {},
   "cell_type": "code",
   "outputs": [],
   "execution_count": null,
   "source": "np.array(file[file.keys()[0]]['MuonBarrelG4Hits.momentum.py'].array())",
   "id": "1cdea374de689277"
  },
  {
   "metadata": {},
   "cell_type": "code",
   "outputs": [],
   "execution_count": null,
   "source": [
    "np.concatenate(np.array(file[file.keys()[0]]['MuonBarrelG4Hits.pdgId'].array()))\n",
    "unique_values, counts = np.unique(np.concatenate(np.array(file[file.keys()[0]]['MuonBarrelG4Hits.pdgId'].array())), return_counts=True)\n",
    "\n",
    "unique_labels = [str(val) for val in unique_values]\n",
    "\n",
    "# Plot\n",
    "plt.bar(unique_labels, counts)\n",
    "plt.xlabel(\"Unique Values\")\n",
    "plt.ylabel(\"Count\")\n",
    "plt.title(\"Frequency of Unique Values\")\n",
    "\n",
    "plt.xticks(rotation=90)  # Rotate labels if they are long\n",
    "plt.show()"
   ],
   "id": "1e16f51aa23151bc"
  },
  {
   "metadata": {},
   "cell_type": "code",
   "outputs": [],
   "execution_count": null,
   "source": [
    "plt.hist(np.array([arr[arr==211].shape[0] for arr in np.array(file[file.keys()[0]]['MuonBarrelG4Hits.pdgId'].array())]), bins='auto')\n",
    "plt.show()"
   ],
   "id": "16cffc7afdd6b318"
  },
  {
   "metadata": {},
   "cell_type": "code",
   "outputs": [],
   "execution_count": null,
   "source": [
    "plt.hist(np.concatenate(np.array(file[file.keys()[0]]['MuonBarrelG4Hits.postStepPosition.y'].array())), bins='auto')\n",
    "plt.show()"
   ],
   "id": "3cc01d407711c372"
  },
  {
   "metadata": {},
   "cell_type": "code",
   "outputs": [],
   "execution_count": null,
   "source": "x = np.array(file[file.keys()[0]]['MuonBarrelG4Hits.postStepPosition.y'].array())",
   "id": "1de9121436c44f9a"
  },
  {
   "metadata": {},
   "cell_type": "code",
   "outputs": [],
   "execution_count": null,
   "source": "y = np.concatenate(np.array(file[file.keys()[0]]['MuonBarrelG4Hits.postStepPosition.y'].array()))",
   "id": "5da0c79d877c746a"
  },
  {
   "metadata": {},
   "cell_type": "code",
   "outputs": [],
   "execution_count": null,
   "source": "y.shape[0]/1000/18",
   "id": "8e4d9a718831e4f3"
  },
  {
   "metadata": {},
   "cell_type": "code",
   "outputs": [],
   "execution_count": null,
   "source": [
    "plt.hist(x[1], bins='auto')\n",
    "plt.xlabel('Y, mm')\n",
    "plt.ylabel('Counts')\n",
    "plt.show()"
   ],
   "id": "c19768a069af8643"
  },
  {
   "metadata": {},
   "cell_type": "code",
   "outputs": [],
   "execution_count": null,
   "source": [
    "plt.hist(y[(y<3000) & (y > 1800)], bins='auto')\n",
    "plt.xlabel('Y, mm')\n",
    "plt.ylabel('Counts')\n",
    "plt.show()"
   ],
   "id": "96a63934a1dbca1c"
  },
  {
   "metadata": {},
   "cell_type": "code",
   "outputs": [],
   "execution_count": null,
   "source": [
    "mu_sys_bins = [(1940, 1970), (2010, 2040), (2080, 2110), (2160, 2190), (2240, 2270), (2360, 2390), (2480, 2510), (2600, 2630)]\n",
    "# mu_sys_bins = [1940, 1970, 2010, 2040, 2080, 2110, 2160, 2190, 2240, 2270, 2360, 2390, 2480, 2510, 2600, 2630] # delete every second?"
   ],
   "id": "46225a4878154391"
  },
  {
   "metadata": {},
   "cell_type": "code",
   "outputs": [],
   "execution_count": null,
   "source": [
    "i = 0\n",
    "j = 0\n",
    "# hits_in_layers = np.zeros((1000, 8))\n",
    "hits_in_layers = np.array([np.array([x[i][(x[i] > mu_sys_bins[j][0]) & (x[i] < mu_sys_bins[j][1])].shape[0] for i in range(1000)]) for j in range(8)])\n",
    "hits_in_layers.shape"
   ],
   "id": "cd4ba649440ae5d3"
  },
  {
   "metadata": {},
   "cell_type": "code",
   "outputs": [],
   "execution_count": null,
   "source": [
    "# hits_in_layers[:,5]\n",
    "# np.argmax(hits_in_layers[:,6] == 0)\n",
    "mean_in_layers_mu = np.zeros(1000)\n",
    "first_zero_mu = np.zeros(1000)\n",
    "mean_in_layers_pi = np.zeros(1000)\n",
    "first_zero_pi = np.zeros(1000)\n",
    "j= 4000\n",
    "filepath = os.path.join(\"data\", f\"fullsim_mu_{j}_musystem.root\")\n",
    "file = uproot.open(filepath)\n",
    "x = np.array(file[file.keys()[0]]['MuonBarrelG4Hits.postStepPosition.y'].array())\n",
    "hits_in_layers_mu = np.array([np.array([x[i][(x[i] > mu_sys_bins[j][0]) & (x[i] < mu_sys_bins[j][1])].shape[0] for i in range(1000)]) for j in range(8)])\n",
    "filepath = os.path.join(\"data\", f\"fullsim_pi_{j}_musystem.root\")\n",
    "file = uproot.open(filepath)\n",
    "x = np.array(file[file.keys()[0]]['MuonBarrelG4Hits.postStepPosition.y'].array())\n",
    "hits_in_layers_pi = np.array([np.array([x[i][(x[i] > mu_sys_bins[j][0]) & (x[i] < mu_sys_bins[j][1])].shape[0] for i in range(1000)]) for j in range(8)])\n",
    "for i in range(1000):\n",
    "    first_zero_mu[i] =  np.flatnonzero(hits_in_layers_mu[:,i])[-1] + 1 if np.count_nonzero(hits_in_layers_mu[:,i])>0 else 0\n",
    "    mean_in_layers_mu[i] = np.sum(hits_in_layers_mu[:,i])\n",
    "plt.scatter(first_zero_mu+.1, mean_in_layers_mu, s=1, label='Mu')\n",
    "for i in range(1000):\n",
    "    first_zero_pi[i] =  np.flatnonzero(hits_in_layers_pi[:,i])[-1] + 1 if np.count_nonzero(hits_in_layers_pi[:,i])>0 else 0\n",
    "    mean_in_layers_pi[i] = np.sum(hits_in_layers_pi[:,i])\n",
    "plt.scatter(first_zero_pi, mean_in_layers_pi, s=1, label='Pi')\n",
    "plt.xlabel('Last layer with hits')\n",
    "plt.ylabel('Total number of hits in event')\n",
    "plt.legend()\n",
    "cut = np.percentile(mean_in_layers_mu, 99)\n",
    "plt.title(f'Momentum {j} MeV\\n{((mean_in_layers_pi <  cut) & (hits_in_layers_pi == 8)).sum() / 10}% Pi for {(mean_in_layers_mu <= cut).sum() / 10}% Mu\\nCut: {  round(cut)}' )\n",
    "plt.show()"
   ],
   "id": "ce2662261bbdbe29"
  },
  {
   "metadata": {},
   "cell_type": "code",
   "outputs": [],
   "execution_count": null,
   "source": "np.percentile(mean_in_layers_mu, 99)",
   "id": "6bbcbed80c82ff2"
  },
  {
   "metadata": {},
   "cell_type": "code",
   "outputs": [],
   "execution_count": null,
   "source": "sorted(mean_in_layers_mu)",
   "id": "5bd21711e93aaa56"
  },
  {
   "metadata": {},
   "cell_type": "code",
   "outputs": [],
   "execution_count": null,
   "source": "(mean_in_layers_mu < 200).sum() / 10",
   "id": "d2b155c33b25c182"
  },
  {
   "metadata": {},
   "cell_type": "code",
   "outputs": [],
   "execution_count": null,
   "source": "hits_in_layers_pi[:,0]",
   "id": "d5d8e9a218d39ad9"
  },
  {
   "metadata": {},
   "cell_type": "code",
   "outputs": [],
   "execution_count": null,
   "source": "np.flatnonzero(hits_in_layers_pi[:,i])[-1] + 1 if np.count_nonzero(hits_in_layers_pi[:,i])>0 else 0",
   "id": "b60edb9d0b3ff5f0"
  },
  {
   "metadata": {},
   "cell_type": "code",
   "outputs": [],
   "execution_count": null,
   "source": "((hits_in_layers_pi[7,:] == 0) & (hits_in_layers_pi[6,:] != 0)).sum()",
   "id": "76be4dd191b23ac5"
  },
  {
   "metadata": {},
   "cell_type": "code",
   "outputs": [],
   "execution_count": null,
   "source": "((mean_in_layers_pi < 200) & (hits_in_layers_pi == 8)).sum()",
   "id": "c9be4b96f6f200d2"
  },
  {
   "metadata": {},
   "cell_type": "code",
   "outputs": [],
   "execution_count": null,
   "source": "(hits_in_layers_pi[6,:] == 0).sum()",
   "id": "1d5b97326fb78f2d"
  },
  {
   "metadata": {},
   "cell_type": "code",
   "outputs": [],
   "execution_count": null,
   "source": "np.flatnonzero(hits_in_layers_pi[:,1])[-1] + 1",
   "id": "c6cf7d4f5508ab7"
  },
  {
   "metadata": {},
   "cell_type": "code",
   "outputs": [],
   "execution_count": null,
   "source": "(first_zero_pi == 8).sum()",
   "id": "dffc403fe8571626"
  },
  {
   "metadata": {},
   "cell_type": "code",
   "outputs": [],
   "execution_count": null,
   "source": [
    "# Create a figure with two subplots side by side.\n",
    "fig, axes = plt.subplots(1, 2, figsize=(12, 4))\n",
    "\n",
    "# Create the first 2D histogram and capture its QuadMesh object (at index 3).\n",
    "h1 = axes[0].hist2d(first_zero_mu, mean_in_layers_mu, bins=[np.arange(10), np.arange(0, 300, 10)])\n",
    "\n",
    "# Create the second 2D histogram.\n",
    "h2 = axes[1].hist2d(first_zero_pi, mean_in_layers_pi, bins=[np.arange(10), np.arange(0, 300, 10)], vmax=23)\n",
    "\n",
    "# Add one shared colorbar for both plots.\n",
    "fig.colorbar(h1[3], ax=axes.ravel().tolist(), label='Counts')\n",
    "\n",
    "plt.show()"
   ],
   "id": "2011a55098b111b3"
  },
  {
   "metadata": {},
   "cell_type": "code",
   "outputs": [],
   "execution_count": null,
   "source": [
    "for i in [1000]:\n",
    "    filepath = os.path.join(\"data\", f\"fullsim_mu_{i}_musystem.root\")\n",
    "    file = uproot.open(filepath)\n",
    "    x = np.array(file[file.keys()[0]]['MuonBarrelG4Hits.postStepPosition.y'].array())\n",
    "    hits_in_layers_mu = np.array([np.array([x[i][(x[i] > mu_sys_bins[j][0]) & (x[i] < mu_sys_bins[j][1])].shape[0] for i in range(1000)]) for j in range(8)])\n",
    "    filepath = os.path.join(\"data\", f\"fullsim_pi_{i}_musystem.root\")\n",
    "    file = uproot.open(filepath)\n",
    "    x = np.array(file[file.keys()[0]]['MuonBarrelG4Hits.postStepPosition.y'].array())\n",
    "    hits_in_layers_pi = np.array([np.array([x[i][(x[i] > mu_sys_bins[j][0]) & (x[i] < mu_sys_bins[j][1])].shape[0] for i in range(1000)]) for j in range(8)])\n",
    "    plt.figure(figsize=(24,10))\n",
    "    plt.suptitle(f'Momentum: {i} MeV')\n",
    "    \n",
    "    for j in range(8):\n",
    "        plt.subplot(2, 4, j+1)\n",
    "        bins = np.arange(0, 300, 1)\n",
    "        plt.hist(hits_in_layers_pi[j], bins=bins, color='red', edgecolor='black', alpha=0.4, label='Pi')\n",
    "        bins = np.arange(0, 100, 1)\n",
    "        # plt.hist(hits_in_layers_mu[j], bins=bins, color='blue', edgecolor='black', alpha=0.5, label='Mu')\n",
    "\n",
    "        plt.xlabel('Hits in Layer')\n",
    "        plt.ylabel('Events')\n",
    "        plt.legend()\n",
    "        plt.title(f'Layer {j+1}')\n",
    "    plt.show()"
   ],
   "id": "74e38002914c6a2f"
  },
  {
   "metadata": {},
   "cell_type": "code",
   "outputs": [],
   "execution_count": null,
   "source": [
    "plt.hist(hits_in_layers[7], bins='auto')\n",
    "plt.show()"
   ],
   "id": "67705ba165a23b46"
  },
  {
   "metadata": {},
   "cell_type": "code",
   "outputs": [],
   "execution_count": null,
   "source": [
    "plt.hist(y, bins=mu_sys_bins)\n",
    "plt.show()"
   ],
   "id": "26c715539fd67724"
  },
  {
   "metadata": {},
   "cell_type": "code",
   "outputs": [],
   "execution_count": null,
   "source": [
    "plt.hist(y[(y<2650) & (y > 2600)], bins='auto')\n",
    "plt.show()"
   ],
   "id": "a65d8974de162cfa"
  },
  {
   "metadata": {},
   "cell_type": "code",
   "outputs": [],
   "execution_count": null,
   "source": [
    "shapes = np.zeros((4, 1000))\n",
    "for i in [1000, 2000, 3000, 4000]:\n",
    "    filepath = os.path.join(\"data\", f\"fullsim_mu_{i}_musystem.root\")\n",
    "    file = uproot.open(filepath)\n",
    "    shapes[int(i/1000 - 1)] = [arr[arr==13].shape[0] for arr in np.array(file[file.keys()[0]]['MuonBarrelG4Hits.pdgId'].array())]\n",
    "np.array(file[file.keys()[0]]['MuonBarrelG4Hits.pdgId'].array())\n",
    "\n",
    "[arr.shape[0] for arr in np.array(file[file.keys()[0]]['MuonBarrelG4Hits.pdgId'].array())]\n",
    "\n",
    "shapes\n",
    "\n",
    "plt.figure(figsize=(24, 5))\n",
    "plt.subplot(1, 4, 1)  \n",
    "plt.hist(shapes[0], bins=np.linspace(15, 30, 15))\n",
    "plt.ylabel('Hits in event')\n",
    "plt.title('1000 Muons 1 GeV')\n",
    "plt.subplot(1, 4, 2)  \n",
    "plt.hist(shapes[1], bins=np.linspace(15, 30, 15))\n",
    "plt.ylabel('Hits in event')\n",
    "plt.title('1000 Muons 2 GeV')\n",
    "plt.subplot(1, 4, 3)  \n",
    "plt.hist(shapes[2], bins=np.linspace(15, 30, 15))\n",
    "plt.ylabel('Hits in event')\n",
    "plt.title('1000 Muons 3 GeV')\n",
    "plt.subplot(1, 4, 4)  \n",
    "plt.hist(shapes[3], bins=np.linspace(15, 30, 15))\n",
    "plt.ylabel('Hits in event')\n",
    "plt.title('1000 Muons 4 GeV')\n",
    "plt.show()"
   ],
   "id": "76ad506eee559b98"
  },
  {
   "metadata": {},
   "cell_type": "code",
   "outputs": [],
   "execution_count": null,
   "source": [
    "plt.figure(figsize=(24, 5))\n",
    "for i in [1000, 2000, 3000, 4000]:\n",
    "    filepath = os.path.join(\"data\", f\"fullsim_mu_{i}_musystem.root\")\n",
    "    file = uproot.open(filepath)\n",
    "    unique_values, counts = np.unique(np.concatenate(np.array(file[file.keys()[0]]['MuonBarrelG4Hits.pdgId'].array())), return_counts=True)\n",
    "    \n",
    "    unique_labels = [str(val) for val in unique_values]\n",
    "    \n",
    "    # Plot\n",
    "    plt.subplot(1, 4, int(i/1000))\n",
    "    plt.bar(unique_labels, counts)\n",
    "    plt.xlabel(\"Unique PDGID\")\n",
    "    plt.ylabel(\"Counts\")\n",
    "    plt.title(f\"Frequency of Unique Particles for Mu {int(i/1000)} GeV\")\n",
    "    \n",
    "    plt.xticks(rotation=60)  # Rotate labels if they are long\n",
    "plt.show()"
   ],
   "id": "6792e16463b67474"
  },
  {
   "metadata": {},
   "cell_type": "code",
   "outputs": [],
   "execution_count": null,
   "source": [
    "plt.scatter([1000, 2000, 3000, 4000], np.mean(shapes, axis=1))\n",
    "plt.title('Muons')\n",
    "plt.xlabel('Momentum, MeV')\n",
    "plt.ylabel('Mean number of hits in event')\n",
    "plt.show()"
   ],
   "id": "9920c01bd871f08f"
  },
  {
   "metadata": {},
   "cell_type": "code",
   "outputs": [],
   "execution_count": null,
   "source": [
    "shapes = np.zeros((4, 1000))\n",
    "for i in [1000, 2000, 3000, 4000]:\n",
    "    filepath = os.path.join(\"data\", f\"fullsim_pi_{i}_musystem.root\")\n",
    "    file = uproot.open(filepath)\n",
    "    shapes[int(i/1000 - 1)] = [arr[arr==211].shape[0] for arr in np.array(file[file.keys()[0]]['MuonBarrelG4Hits.pdgId'].array())]\n",
    "np.array(file[file.keys()[0]]['MuonBarrelG4Hits.pdgId'].array())\n",
    "\n",
    "[arr.shape[0] for arr in np.array(file[file.keys()[0]]['MuonBarrelG4Hits.pdgId'].array())]\n",
    "\n",
    "shapes\n",
    "\n",
    "plt.figure(figsize=(24, 5))\n",
    "plt.subplot(1, 4, 1)  \n",
    "plt.hist(shapes[0], bins='auto')\n",
    "plt.ylabel('Hits in event')\n",
    "plt.title('1000 Pions 1 GeV')\n",
    "plt.subplot(1, 4, 2)  \n",
    "plt.hist(shapes[1], bins='auto')\n",
    "plt.ylabel('Hits in event')\n",
    "plt.title('1000 Pions 2 GeV')\n",
    "plt.subplot(1, 4, 3)  \n",
    "plt.hist(shapes[2], bins='auto')\n",
    "plt.ylabel('Hits in event')\n",
    "plt.title('1000 Pions 3 GeV')\n",
    "plt.subplot(1, 4, 4)  \n",
    "plt.hist(shapes[3], bins='auto')\n",
    "plt.ylabel('Hits in event')\n",
    "plt.title('1000 Pions 4 GeV')\n",
    "plt.show()"
   ],
   "id": "f8f593e6fb13810f"
  },
  {
   "metadata": {},
   "cell_type": "code",
   "outputs": [],
   "execution_count": null,
   "source": [
    "plt.figure(figsize=(24, 5))\n",
    "for i in [1000, 2000, 3000, 4000]:\n",
    "    filepath = os.path.join(\"data\", f\"fullsim_pi_{i}_musystem.root\")\n",
    "    file = uproot.open(filepath)\n",
    "    unique_values, counts = np.unique(np.concatenate(np.array(file[file.keys()[0]]['MuonBarrelG4Hits.pdgId'].array())), return_counts=True)\n",
    "    \n",
    "    unique_labels = [str(val) for val in unique_values]\n",
    "    \n",
    "    # Plot\n",
    "    plt.subplot(1, 4, int(i/1000))\n",
    "    plt.bar(unique_labels, counts)\n",
    "    plt.xlabel(\"Unique PDGID\")\n",
    "    plt.ylabel(\"Counts\")\n",
    "    plt.title(f\"Frequency of Unique Particles for Pi {int(i/1000)} GeV\")\n",
    "    \n",
    "    plt.xticks(rotation=90)  # Rotate labels if they are long\n",
    "plt.show()"
   ],
   "id": "145da54b3d7c2b37"
  },
  {
   "metadata": {},
   "cell_type": "code",
   "outputs": [],
   "execution_count": null,
   "source": [
    "plt.scatter([1000, 2000, 3000, 4000], np.mean(shapes, axis=1))\n",
    "plt.title('Pions')\n",
    "plt.xlabel('Momentum, MeV')\n",
    "plt.ylabel('Mean number of hits in event')\n",
    "plt.show()"
   ],
   "id": "e4f6ace5ec40e6d0"
  }
 ],
 "metadata": {
  "kernelspec": {
   "display_name": "Python 3",
   "language": "python",
   "name": "python3"
  },
  "language_info": {
   "codemirror_mode": {
    "name": "ipython",
    "version": 2
   },
   "file_extension": ".py",
   "mimetype": "text/x-python",
   "name": "python",
   "nbconvert_exporter": "python",
   "pygments_lexer": "ipython2",
   "version": "2.7.6"
  }
 },
 "nbformat": 4,
 "nbformat_minor": 5
}
