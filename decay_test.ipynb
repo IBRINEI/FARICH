{
 "cells": [
  {
   "cell_type": "code",
   "id": "initial_id",
   "metadata": {
    "collapsed": true,
    "ExecuteTime": {
     "end_time": "2025-03-24T07:47:27.016061Z",
     "start_time": "2025-03-24T07:47:27.013595Z"
    }
   },
   "source": [
    "import os.path\n",
    "\n",
    "from sklearn.metrics import confusion_matrix, ConfusionMatrixDisplay\n",
    "import seaborn as sns\n",
    "\n",
    "from farich_functions import *\n",
    "\n",
    "plt.rcParams['font.size'] = 12"
   ],
   "outputs": [],
   "execution_count": 92
  },
  {
   "metadata": {
    "ExecuteTime": {
     "end_time": "2025-03-24T07:17:53.505505Z",
     "start_time": "2025-03-24T07:17:53.502863Z"
    }
   },
   "cell_type": "code",
   "source": "warnings.filterwarnings(\"ignore\")",
   "id": "9c583ee19ef8b1af",
   "outputs": [],
   "execution_count": 19
  },
  {
   "metadata": {
    "ExecuteTime": {
     "end_time": "2025-03-24T07:17:53.522256Z",
     "start_time": "2025-03-24T07:17:53.520021Z"
    }
   },
   "cell_type": "code",
   "source": "filepath = os.path.join(\"data\", \"decay_test_ka2.root\")",
   "id": "52d3ed8ede78aca1",
   "outputs": [],
   "execution_count": 20
  },
  {
   "metadata": {
    "ExecuteTime": {
     "end_time": "2025-03-24T07:17:55.573618Z",
     "start_time": "2025-03-24T07:17:55.558686Z"
    }
   },
   "cell_type": "code",
   "source": "file = uproot.open(filepath)",
   "id": "cd37b1925f8911ed",
   "outputs": [],
   "execution_count": 21
  },
  {
   "metadata": {
    "ExecuteTime": {
     "end_time": "2025-03-24T07:17:57.676112Z",
     "start_time": "2025-03-24T07:17:57.663265Z"
    }
   },
   "cell_type": "code",
   "source": "primary_pdgid = np.array(file[file.keys()[0]]['allGenParticles']['allGenParticles.core.pdgId'].array())",
   "id": "5ff703c19500290f",
   "outputs": [],
   "execution_count": 22
  },
  {
   "metadata": {
    "ExecuteTime": {
     "end_time": "2025-03-24T07:17:59.750419Z",
     "start_time": "2025-03-24T07:17:59.718398Z"
    }
   },
   "cell_type": "code",
   "source": "farich_pdgid = np.array(file[file.keys()[0]]['FarichBarrelG4Hits']['FarichBarrelG4Hits.pdgId'].array()) # 40% К куда-то пропадают в фариче",
   "id": "79edc7e600e3cfc4",
   "outputs": [],
   "execution_count": 23
  },
  {
   "metadata": {
    "ExecuteTime": {
     "end_time": "2025-03-24T08:59:40.383440Z",
     "start_time": "2025-03-24T08:59:40.379624Z"
    }
   },
   "cell_type": "code",
   "source": [
    "def primary_particle_match_test(primary_particles_array, ids_to_check, ids_to_match, verbose=False):\n",
    "    for i in range(len(ids_to_check)):\n",
    "        if primary_particles_array[ids_to_check[i]] != ids_to_match[i]:\n",
    "            if verbose:\n",
    "                print(f'Expected {ids_to_match[i]} but got {primary_particles_array[ids_to_check[i]]} in {ids_to_check[i]}-th position')\n",
    "            return False    \n",
    "    return True"
   ],
   "id": "c10b8166952967dc",
   "outputs": [],
   "execution_count": 94
  },
  {
   "metadata": {
    "ExecuteTime": {
     "end_time": "2025-03-24T09:20:47.679686Z",
     "start_time": "2025-03-24T09:20:47.675841Z"
    }
   },
   "cell_type": "code",
   "source": [
    "def find_primary_in_farich(primary_particles_array, farich_particles_array, primary_id, pdg_id, verbose=False):\n",
    "    find_index_of_pdg_id = lambda arr: (idx[-1] if (idx := np.flatnonzero(arr == pdg_id)).size and (idx[-1] < arr.size) else False)\n",
    "    if primary_particles_array[primary_id] == pdg_id:\n",
    "        if find_index_of_pdg_id(farich_particles_array) is not False:\n",
    "            if primary_particles_array[primary_id] != farich_particles_array[find_index_ka(farich_pdgid[i])]:\n",
    "                if verbose:\n",
    "                    print('Mismatch', i)\n",
    "                mismatches.append(i)\n",
    "                is_good = False\n",
    "        else:\n",
    "            if verbose:\n",
    "                print('No ka in event', i)\n",
    "            is_good = False\n",
    "            no_ka.append(i)\n",
    "    if is_good:\n",
    "        good_events.append(i)\n",
    "        primary_particle_idx.append(find_index_ka(farich_pdgid[i]))\n",
    "        primary_particle_in_primary_idx.append(2)"
   ],
   "id": "d727cf76513f1120",
   "outputs": [],
   "execution_count": 99
  },
  {
   "metadata": {
    "ExecuteTime": {
     "end_time": "2025-03-24T09:30:01.333034Z",
     "start_time": "2025-03-24T09:30:01.210706Z"
    }
   },
   "cell_type": "code",
   "source": [
    "i = 0\n",
    "empty_farich = 0\n",
    "important_particle_ind = 3\n",
    "mismatches = []\n",
    "good_events = []\n",
    "good_mu_events = []\n",
    "good_ka_events = []\n",
    "primary_particle_idx = []\n",
    "primary_particle_in_primary_idx = []\n",
    "no_mu_in_mu = []\n",
    "no_ka = []\n",
    "# find_index = lambda arr: (idx[-1]+1 if (idx := np.flatnonzero(arr == -22)).size and (idx[-1]+1 < arr.size) else 0) # моржовый оператор :)\n",
    "find_index = lambda arr: (idx[-1] + 1 if (idx := np.flatnonzero(np.isin(arr, [-22, -11]))).size and (idx[-1] + 1 < arr.size) else 0)\n",
    "find_index_mu = lambda arr: (idx[-1] if (idx := np.flatnonzero(arr == -13)).size and (idx[-1] < arr.size) else False)\n",
    "find_index_ka = lambda arr: (idx[-1] if (idx := np.flatnonzero(arr == -321)).size and (idx[-1] < arr.size) else False)\n",
    "\n",
    "# need 2 rings per event now...\n",
    "\n",
    "for primary_particles in primary_pdgid:\n",
    "    is_good = True\n",
    "                \n",
    "    if farich_pdgid[i].shape[0] == 0 or np.flatnonzero(farich_pdgid[i] + 22).shape[0] == 0:\n",
    "        empty_farich += 1\n",
    "        is_good = False\n",
    "        \n",
    "    if is_good:\n",
    "        is_good = primary_particle_match_test(primary_particles, [0, 1, 2], [30443, 421, -321], True)\n",
    "\n",
    "    if primary_particles[2] == -321 and is_good:\n",
    "        if farich_pdgid[i].shape[0] != 0 and np.flatnonzero(farich_pdgid[i] + 22).shape[0] != 0:\n",
    "            if find_index_ka(farich_pdgid[i]) is not False:\n",
    "                if primary_particles[2] != farich_pdgid[i][find_index_ka(farich_pdgid[i])]:\n",
    "                    print('Mismatch', i)\n",
    "                    mismatches.append(i)\n",
    "                    is_good = False\n",
    "            else:\n",
    "                # print('No ka in event', i)\n",
    "                is_good = False\n",
    "                no_ka.append(i)\n",
    "        if is_good:\n",
    "            good_events.append(i)\n",
    "            primary_particle_idx.append(find_index_ka(farich_pdgid[i]))\n",
    "            primary_particle_in_primary_idx.append(2)\n",
    "            \n",
    "            \n",
    "    if primary_particles[important_particle_ind] == -13 and is_good:\n",
    "        if farich_pdgid[i].shape[0] != 0 and np.flatnonzero(farich_pdgid[i] + 22).shape[0] != 0:\n",
    "            if find_index_mu(farich_pdgid[i]) is not False:\n",
    "                if primary_particles[important_particle_ind] != farich_pdgid[i][find_index_mu(farich_pdgid[i])]:\n",
    "                    print('Mismatch', i)\n",
    "                    mismatches.append(i)\n",
    "                    is_good = False\n",
    "            else:\n",
    "                # print('No mu in mu event', i)\n",
    "                is_good = False\n",
    "                no_mu_in_mu.append(i)\n",
    "        if is_good:\n",
    "            good_events.append(i)\n",
    "            primary_particle_idx.append(find_index_mu(farich_pdgid[i]))\n",
    "            primary_particle_in_primary_idx.append(important_particle_ind)\n",
    "        if not is_good:\n",
    "            if len(good_events) != 0:\n",
    "                good_events.pop()\n",
    "                primary_particle_idx.pop()\n",
    "                primary_particle_in_primary_idx.pop()\n",
    "    \n",
    "\n",
    "    # if is_good:\n",
    "    #     good_events.append(i)\n",
    "    #     primary_particle_idx.append(find_index(farich_pdgid[i]))\n",
    "    i += 1\n",
    "    \n",
    "\n",
    "print('Empty Farich:',empty_farich)\n",
    "print('Mismatches: ',len(mismatches))\n",
    "print('Missing K: ',len(no_ka))\n",
    "print('Missing Mu in Mu event: ',len(no_mu_in_mu))\n",
    "print('Full bad events: ', len(mismatches) + empty_farich + len(set(np.concatenate([no_mu_in_mu, no_ka]))))\n",
    "print('Good Events:', i - len(mismatches) - empty_farich - len(set(np.concatenate([no_mu_in_mu, no_ka]))))\n",
    "print(len(good_events))\n",
    "print(len(set(good_events)))\n",
    "print(- len(set(good_events)) + len(good_events))"
   ],
   "id": "ddcb03ca1b966225",
   "outputs": [
    {
     "name": "stdout",
     "output_type": "stream",
     "text": [
      "Empty Farich: 753\n",
      "Mismatches:  0\n",
      "Missing K:  3235\n",
      "Missing Mu in Mu event:  542\n",
      "Full bad events:  4530\n",
      "Good Events: 5470\n",
      "7931\n",
      "5470\n",
      "2461\n"
     ]
    }
   ],
   "execution_count": 100
  },
  {
   "metadata": {
    "ExecuteTime": {
     "end_time": "2025-03-24T07:18:04.656760Z",
     "start_time": "2025-03-24T07:18:04.004671Z"
    }
   },
   "cell_type": "code",
   "source": [
    "farich_energy = np.array(file[file.keys()[0]]['FarichBarrelG4Hits']['FarichBarrelG4Hits.energy'].array())[good_events]\n",
    "farich_momentum_x = np.array(file[file.keys()[0]]['FarichBarrelG4Hits']['FarichBarrelG4Hits.momentum.px'].array())[good_events]\n",
    "farich_momentum_y = np.array(file[file.keys()[0]]['FarichBarrelG4Hits']['FarichBarrelG4Hits.momentum.py'].array())[good_events]\n",
    "farich_momentum_z = np.array(file[file.keys()[0]]['FarichBarrelG4Hits']['FarichBarrelG4Hits.momentum.pz'].array())[good_events]\n",
    "\n",
    "primary_momentum_x = np.array(file[file.keys()[0]]['allGenParticles']['allGenParticles.core.p4.px'].array())[good_events]\n",
    "primary_momentum_y = np.array(file[file.keys()[0]]['allGenParticles']['allGenParticles.core.p4.py'].array())[good_events]\n",
    "primary_momentum_z = np.array(file[file.keys()[0]]['allGenParticles']['allGenParticles.core.p4.pz'].array())[good_events]\n",
    "\n",
    "farich_x = np.array(file[file.keys()[0]]['FarichBarrelG4Hits'][\"FarichBarrelG4Hits.postStepPosition.x\"].array())[good_events]\n",
    "farich_y = np.array(file[file.keys()[0]]['FarichBarrelG4Hits'][\"FarichBarrelG4Hits.postStepPosition.y\"].array())[good_events]\n",
    "farich_z = np.array(file[file.keys()[0]]['FarichBarrelG4Hits'][\"FarichBarrelG4Hits.postStepPosition.z\"].array())[good_events]\n",
    "farich_t = np.array(file[file.keys()[0]]['FarichBarrelG4Hits'][\"FarichBarrelG4Hits.localTime\"].array())[good_events]"
   ],
   "id": "b25e1fd9f14a5c2",
   "outputs": [],
   "execution_count": 25
  },
  {
   "metadata": {
    "ExecuteTime": {
     "end_time": "2025-03-24T07:18:06.761337Z",
     "start_time": "2025-03-24T07:18:06.756241Z"
    }
   },
   "cell_type": "code",
   "source": "np.sum([primary_pdgid[i][2] == -321 for i in range(10000)]) ",
   "id": "ce7666ccddc4b5c9",
   "outputs": [
    {
     "data": {
      "text/plain": [
       "10000"
      ]
     },
     "execution_count": 26,
     "metadata": {},
     "output_type": "execute_result"
    }
   ],
   "execution_count": 26
  },
  {
   "metadata": {
    "ExecuteTime": {
     "end_time": "2025-03-24T07:18:08.893449Z",
     "start_time": "2025-03-24T07:18:08.807673Z"
    }
   },
   "cell_type": "code",
   "source": [
    "plt.hist([np.sqrt((primary_momentum_x[i][2]) ** 2 + (primary_momentum_y[i][2]) ** 2 + (primary_momentum_z[i][2]) ** 2) * 1000 for i in range(len(good_events))], bins='auto')\n",
    "plt.show()"
   ],
   "id": "16297e2057200d0f",
   "outputs": [
    {
     "data": {
      "text/plain": [
       "<Figure size 640x480 with 1 Axes>"
      ],
      "image/png": "[encoded data removed]"
     },
     "metadata": {},
     "output_type": "display_data"
    }
   ],
   "execution_count": 27
  },
  {
   "metadata": {
    "ExecuteTime": {
     "end_time": "2025-03-24T07:18:10.956312Z",
     "start_time": "2025-03-24T07:18:10.948769Z"
    }
   },
   "cell_type": "code",
   "source": [
    "def init_coords_decay(file, grid):\n",
    "    x = np.array(file[file.keys()[0]]['FarichBarrelG4Hits'][\"FarichBarrelG4Hits.postStepPosition.x\"].array())[good_events]\n",
    "    y = np.array(file[file.keys()[0]]['FarichBarrelG4Hits'][\"FarichBarrelG4Hits.postStepPosition.y\"].array())[good_events]\n",
    "    z = np.array(file[file.keys()[0]]['FarichBarrelG4Hits'][\"FarichBarrelG4Hits.postStepPosition.z\"].array())[good_events]\n",
    "    wvs = (1239.841 / np.array(file[file.keys()[0]]['FarichBarrelG4Hits'][\"FarichBarrelG4Hits.energy\"].array()) * 1e-9)[good_events]\n",
    "    t = np.array(file[file.keys()[0]]['FarichBarrelG4Hits'][\"FarichBarrelG4Hits.localTime\"].array())[good_events]\n",
    "    \n",
    "    farich_momentum_x = np.array(file[file.keys()[0]]['FarichBarrelG4Hits']['FarichBarrelG4Hits.momentum.px'].array())[good_events]\n",
    "    farich_momentum_y = np.array(file[file.keys()[0]]['FarichBarrelG4Hits']['FarichBarrelG4Hits.momentum.py'].array())[good_events]\n",
    "    farich_momentum_z = np.array(file[file.keys()[0]]['FarichBarrelG4Hits']['FarichBarrelG4Hits.momentum.pz'].array())[good_events]\n",
    "    farich_pdgid =      np.array(file[file.keys()[0]]['FarichBarrelG4Hits']['FarichBarrelG4Hits.pdgId'].array())[good_events]\n",
    "        \n",
    "    x3 = np.array([farich_momentum_x[i][primary_particle_idx[i]] for i in range(farich_momentum_x.shape[0])])\n",
    "    y3 = np.array([farich_momentum_y[i][primary_particle_idx[i]] for i in range(farich_momentum_y.shape[0])])\n",
    "    z3 = np.array([farich_momentum_z[i][primary_particle_idx[i]] for i in range(farich_momentum_z.shape[0])])\n",
    "    id = np.array([farich_pdgid[i][primary_particle_idx[i]] for i in range(farich_pdgid.shape[0])])\n",
    "  \n",
    "    xi = np.array([x[i][primary_particle_idx[i]] for i in range(x.shape[0])])\n",
    "    yi = np.array([y[i][primary_particle_idx[i]] for i in range(y.shape[0])])\n",
    "    zi = np.array([z[i][primary_particle_idx[i]] for i in range(z.shape[0])])\n",
    "    \n",
    "    x3 = np.array(file[file.keys()[0]]['allGenParticles']['allGenParticles.core.p4.px'].array())[good_events]\n",
    "    y3 = np.array(file[file.keys()[0]]['allGenParticles']['allGenParticles.core.p4.py'].array())[good_events]\n",
    "    z3 = np.array(file[file.keys()[0]]['allGenParticles']['allGenParticles.core.p4.pz'].array())[good_events]\n",
    "    x3 = np.array([x3[i][primary_particle_in_primary_idx[i]] for i in range(len(good_events))])\n",
    "    y3 = np.array([y3[i][primary_particle_in_primary_idx[i]] for i in range(len(good_events))])\n",
    "    z3 = np.array([z3[i][primary_particle_in_primary_idx[i]] for i in range(len(good_events))])\n",
    "    # Объединяем массивы, сохраняя структуру массивов\n",
    "    true_direction_coordinates = np.stack((x3, y3, z3), axis=1)\n",
    "    intersections = np.stack((xi, yi, zi), axis=1)\n",
    "    for i in range(len(wvs)):\n",
    "        wvs[i] = lin_move_to_grid(wvs[i], grid[2])\n",
    "    coordinates = np.column_stack((x, y, z, wvs, t))\n",
    "    return coordinates, true_direction_coordinates, intersections, id\n"
   ],
   "id": "b297da19301cfa70",
   "outputs": [],
   "execution_count": 28
  },
  {
   "metadata": {
    "ExecuteTime": {
     "end_time": "2025-03-24T07:18:14.607579Z",
     "start_time": "2025-03-24T07:18:12.990963Z"
    }
   },
   "cell_type": "code",
   "source": [
    "datadir = \"data\"\n",
    "sipm_eff, PDE_wvs = init_sipm_eff()\n",
    "for key in sipm_eff.keys():\n",
    "    sipm_eff[key] = sipm_eff[key] / 0.55414 * 0.38\n",
    "\n",
    "x_grid = np.arange(\n",
    "    -3 * norm_r * np.sin(np.pi / 27),\n",
    "    3 * norm_r * np.sin(np.pi / 27),\n",
    "    SIPM_CELL_SIZE,\n",
    ")\n",
    "z_grid = np.arange(-1400, 1400, SIPM_CELL_SIZE)\n",
    "grid = (x_grid, z_grid, PDE_wvs)\n",
    "\n",
    "decay_file = uproot.open(filepath)\n",
    "coordinates, true_direction_coordinates, intersections, ids = init_coords_decay(\n",
    "    decay_file, grid\n",
    ")\n"
   ],
   "id": "6fb233627e2830e3",
   "outputs": [],
   "execution_count": 29
  },
  {
   "metadata": {
    "ExecuteTime": {
     "end_time": "2025-03-24T07:18:16.643437Z",
     "start_time": "2025-03-24T07:18:16.639468Z"
    }
   },
   "cell_type": "code",
   "source": "intersections / np.linalg.norm(intersections, axis=1)[:, None] * np.linalg.norm(true_direction_coordinates, axis=1)[:, None]",
   "id": "dd53982e3b296709",
   "outputs": [
    {
     "data": {
      "text/plain": [
       "array([[ 0.49400845,  0.46695158, -0.32004154],\n",
       "       [-0.37547314, -0.48471576, -0.5920265 ],\n",
       "       [ 0.28605416,  0.16623537,  0.1641188 ],\n",
       "       ...,\n",
       "       [ 0.16258612, -0.55150247,  0.07975789],\n",
       "       [ 0.00072456,  0.41843048, -0.36699966],\n",
       "       [-0.32155937,  0.2185532 ,  0.48274177]], dtype=float32)"
      ]
     },
     "execution_count": 30,
     "metadata": {},
     "output_type": "execute_result"
    }
   ],
   "execution_count": 30
  },
  {
   "metadata": {
    "ExecuteTime": {
     "end_time": "2025-03-24T07:18:18.761730Z",
     "start_time": "2025-03-24T07:18:18.758932Z"
    }
   },
   "cell_type": "code",
   "source": [
    "def find_cylinder_intersections(vectors, R=1000):\n",
    "    # vectors - массив размерности (N, 3)\n",
    "    # R - радиус цилиндра\n",
    "    \n",
    "    # Вычисляем t для каждого вектора\n",
    "    a_x = vectors[:, 0]\n",
    "    a_y = vectors[:, 1]\n",
    "    denominator = np.sqrt(a_x**2 + a_y**2)\n",
    "    \n",
    "    # Избегаем деления на ноль (векторы, параллельные оси z)\n",
    "    mask = denominator != 0\n",
    "    t = np.zeros_like(denominator)\n",
    "    t[mask] = R / denominator[mask]\n",
    "    \n",
    "    # Вычисляем координаты пересечения\n",
    "    intersections = vectors * t[:, np.newaxis]\n",
    "    \n",
    "    return intersections\n"
   ],
   "id": "a577a1137a5c3650",
   "outputs": [],
   "execution_count": 31
  },
  {
   "metadata": {
    "ExecuteTime": {
     "end_time": "2025-03-24T07:18:18.807591Z",
     "start_time": "2025-03-24T07:18:18.804584Z"
    }
   },
   "cell_type": "code",
   "source": "intersection_diffs = np.sqrt(np.sum((find_cylinder_intersections(intersections, R=1000) - intersections) ** 2, axis=1))",
   "id": "3dae8a51258cb3e6",
   "outputs": [],
   "execution_count": 32
  },
  {
   "metadata": {
    "ExecuteTime": {
     "end_time": "2025-03-24T07:18:19.034993Z",
     "start_time": "2025-03-24T07:18:19.031961Z"
    }
   },
   "cell_type": "code",
   "source": "intersection_diffs[intersection_diffs > 100].shape ",
   "id": "46fb158719bd86f",
   "outputs": [
    {
     "data": {
      "text/plain": [
       "(0,)"
      ]
     },
     "execution_count": 33,
     "metadata": {},
     "output_type": "execute_result"
    }
   ],
   "execution_count": 33
  },
  {
   "metadata": {
    "ExecuteTime": {
     "end_time": "2025-03-24T07:18:21.592124Z",
     "start_time": "2025-03-24T07:18:21.542201Z"
    }
   },
   "cell_type": "code",
   "source": [
    "plt.hist(intersection_diffs[intersection_diffs < 100], bins='auto') # Короче, просто используем intersections, координаты важнее\n",
    "plt.show() "
   ],
   "id": "2b84de34723cbf3e",
   "outputs": [
    {
     "data": {
      "text/plain": [
       "<Figure size 640x480 with 1 Axes>"
      ],
      "image/png": "[encoded data removed]"
     },
     "metadata": {},
     "output_type": "display_data"
    }
   ],
   "execution_count": 34
  },
  {
   "metadata": {
    "ExecuteTime": {
     "end_time": "2025-03-24T07:18:28.051276Z",
     "start_time": "2025-03-24T07:18:28.047614Z"
    }
   },
   "cell_type": "code",
   "source": [
    "def find_intersections_for_decay(full_coords):\n",
    "    intersections = np.zeros((full_coords.shape[0], 3))\n",
    "    zeros = np.zeros((1, 3))\n",
    "    for i in range(full_coords.shape[0]):\n",
    "        event_coords = full_coords[i] / 1000\n",
    "        pca = PCA(n_components=1)\n",
    "\n",
    "        # if event_coords[0].shape[0] == 1:\n",
    "        # print(event_coords)\n",
    "        event_coords = [[0, arr] for arr in event_coords]\n",
    "        # print(event_coords)\n",
    "        pca.fit(np.column_stack(event_coords))\n",
    "        line_direction = pca.components_[0]\n",
    "        line_point = pca.mean_\n",
    "\n",
    "        # Calculate the parameter t for the intersection with the plane y=1000\n",
    "        p_y = line_point[1]\n",
    "        d_y = line_direction[1]\n",
    "        t = (1000 - p_y) / d_y\n",
    "\n",
    "        # Find the intersection point\n",
    "        intersection_point = line_point + t * line_direction\n",
    "\n",
    "        # print(f\"Line direction: {line_direction}\")\n",
    "        # print(f\"Point on the line: {line_point}\")\n",
    "        # print(f\"Intersection point with the plane y=1000: {intersection_point}\")\n",
    "        for j in range(3):\n",
    "            intersections[i][j] = intersection_point[j]\n",
    "    return intersections\n"
   ],
   "id": "74a2345b5b2041f",
   "outputs": [],
   "execution_count": 37
  },
  {
   "metadata": {
    "ExecuteTime": {
     "end_time": "2025-03-24T07:18:30.145418Z",
     "start_time": "2025-03-24T07:18:30.141823Z"
    }
   },
   "cell_type": "code",
   "source": [
    "def rotate_lines_for_decay(full_coords):\n",
    "    angles = np.zeros(full_coords.shape[0])\n",
    "    for i in range(full_coords.shape[0]):\n",
    "        event_coords = full_coords[i]\n",
    "        rotated_event_coords, angles[i] = rotate_line_for_decay(event_coords)\n",
    "\n",
    "        for j in range(3):\n",
    "            full_coords[i][j] = rotated_event_coords[:, j]\n",
    "    return angles\n",
    "\n",
    "\n",
    "def rotate_line_for_decay(coords):\n",
    "    angles = np.arctan2(coords[1], coords[0]) % (2 * np.pi)\n",
    "    # print(angles)\n",
    "    try:\n",
    "        median_angle = angles\n",
    "    except IndexError:\n",
    "        print(angles)\n",
    "        median_angle = np.median(angles)\n",
    "    median_angle = lin_move_to_grid(np.array([median_angle]), plane_angles)\n",
    "    # print(angles)\n",
    "    angle_to_rotate = np.pi / 2 - median_angle\n",
    "    # print(angle_to_rotate)\n",
    "    x, y = rotate_point_on_line(coords, angle_to_rotate)\n",
    "    return np.column_stack((x, y, coords[2])), median_angle\n"
   ],
   "id": "541d3a7f93491af0",
   "outputs": [],
   "execution_count": 38
  },
  {
   "metadata": {
    "ExecuteTime": {
     "end_time": "2025-03-24T07:18:32.277241Z",
     "start_time": "2025-03-24T07:18:32.267561Z"
    }
   },
   "cell_type": "code",
   "source": [
    "def create_edf_decay(\n",
    "    filepath=\"fullsim_optical_2000_pi_bin_1_FARICH_35mm_no_no_trackers.root\",\n",
    "    uncertain_angle=False,\n",
    "):\n",
    "    datadir = \"data\"\n",
    "    sipm_eff, PDE_wvs = init_sipm_eff()\n",
    "    for key in sipm_eff.keys():\n",
    "        sipm_eff[key] = sipm_eff[key] / 0.55414 * 0.38\n",
    "\n",
    "    x_grid = np.arange(\n",
    "        -3 * norm_r * np.sin(np.pi / 27),\n",
    "        3 * norm_r * np.sin(np.pi / 27),\n",
    "        SIPM_CELL_SIZE,\n",
    "    )\n",
    "    z_grid = np.arange(-1400, 1400, SIPM_CELL_SIZE)\n",
    "    grid = (x_grid, z_grid, PDE_wvs)\n",
    "\n",
    "    decay_file = uproot.open(os.path.join(datadir, filepath))\n",
    "    coordinates, true_direction_coordinates, intersections, ids = init_coords_decay(\n",
    "        decay_file, grid\n",
    "    )\n",
    "    \n",
    "    \n",
    "    idx_to_drop = []\n",
    "    for i in range(coordinates.shape[0]):\n",
    "        if coordinates[i][0].shape[0] == 0:\n",
    "            idx_to_drop.append(i)\n",
    "\n",
    "    coordinates = np.delete(coordinates, idx_to_drop, axis=0)\n",
    "    true_direction_coordinates = np.delete(\n",
    "        true_direction_coordinates, idx_to_drop, axis=0\n",
    "    )\n",
    "    intersections = np.delete(intersections, idx_to_drop, axis=0)\n",
    "    ids = np.delete(ids, idx_to_drop)\n",
    "    print(coordinates.shape)\n",
    "    print(true_direction_coordinates.shape)\n",
    "\n",
    "    true_direction_coordinates = intersections / np.linalg.norm(intersections, axis=1)[:, None] * np.linalg.norm(true_direction_coordinates, axis=1)[:, None]\n",
    "\n",
    "    if uncertain_angle:\n",
    "        uncertainty_introduction_to_direction(true_direction_coordinates)\n",
    "    \n",
    "    sipm_sim(coordinates, sipm_eff)\n",
    "\n",
    "    idx_to_drop = []\n",
    "    for i in range(coordinates.shape[0]):\n",
    "        if coordinates[i][0].shape[0] == 0:\n",
    "            idx_to_drop.append(i)\n",
    "    coordinates = np.delete(coordinates, idx_to_drop, axis=0)\n",
    "    true_direction_coordinates = np.delete(\n",
    "        true_direction_coordinates, idx_to_drop, axis=0\n",
    "    )\n",
    "    intersections = np.delete(intersections, idx_to_drop, axis=0)\n",
    "    ids = np.delete(ids, idx_to_drop)\n",
    "    print(coordinates.shape)\n",
    "    print(true_direction_coordinates.shape)\n",
    "\n",
    "    main_angles = rotate_lines_for_decay(intersections) # Rotates intersection points\n",
    "    \n",
    "    intersections = find_intersections_for_decay(intersections)  # May need to rewrite both to treat elements as scalasrs and to change reference point from 0\n",
    "    \n",
    "    rotate_events(coordinates, main_angles)   # There are events with extra rings somewhere around angle idx 13-16\n",
    "    move_events_to_grid(coordinates, grid)\n",
    "    repeat_nums = np.array([coord[0].shape[0] for coord in coordinates])\n",
    "    edf = pd.DataFrame(coordinates, columns=[\"x_c\", \"y_c\", \"z_c\", \"wv_c\", \"t_c\"])\n",
    "\n",
    "    unraveled_data = {col: [] for col in edf.columns}\n",
    "    row_indices = []\n",
    "\n",
    "    # Iterate over the DataFrame and unravel the arrays\n",
    "    for i, row in edf.iterrows():\n",
    "        max_length = max(len(row[col]) for col in edf.columns)\n",
    "        for k in range(max_length):\n",
    "            row_indices.append((i, k))\n",
    "            for col in edf.columns:\n",
    "                if k < len(row[col]):\n",
    "                    unraveled_data[col].append(row[col][k])\n",
    "                else:\n",
    "                    unraveled_data[col].append(\n",
    "                        np.nan\n",
    "                    )  # Handle cases where arrays are of different lengths\n",
    "\n",
    "    # Create a new DataFrame from the unraveled data\n",
    "    unraveled_df = pd.DataFrame(unraveled_data)\n",
    "\n",
    "    # Create a MultiIndex for the rows\n",
    "    multi_index = pd.MultiIndex.from_tuples(row_indices, names=[\"entry\", \"subentry\"])\n",
    "    unraveled_df.index = multi_index\n",
    "\n",
    "    edf = unraveled_df\n",
    "\n",
    "    edf[\"x_i\"] = np.repeat(intersections[:, 0], repeat_nums, axis=0)\n",
    "    edf[\"z_i\"] = np.repeat(intersections[:, 2], repeat_nums, axis=0)\n",
    "\n",
    "    x = y = z = x3 = y3 = z3 = unraveled_data = row_indices   = wvs = coordinates = file = coordinates_low = file_low = 0 # = main_angles\n",
    "\n",
    "    bdf = pd.DataFrame()\n",
    "    gdf = pd.DataFrame()\n",
    "    gdf[\"nhits\"] = repeat_nums\n",
    "\n",
    "    mu_mass = 105.65\n",
    "    pi_mass = 139.57\n",
    "    ka_mass = 493.68\n",
    "    # mass = mu_mass if is_mu else (ka_mass if is_ka else pi_mass)\n",
    "    mass = np.array([mu_mass if ids[i] == -13 else ka_mass for i in range(ids.shape[0])])\n",
    "    # edf.drop(\"y_c\", axis=1, inplace=True)\n",
    "    edf.rename(columns={\"y_c\": \"tmp_c\"}, inplace=True)\n",
    "    edf.drop(\"wv_c\", axis=1, inplace=True)\n",
    "    edf.rename(columns={\"z_c\": \"y_c\", \"z_i\": \"y_i\"}, inplace=True)\n",
    "    edf.rename(columns={\"tmp_c\": \"z_c\"}, inplace=True)\n",
    "    # edf[\"z_c\"] = np.zeros(edf.shape[0]) + 1000  \n",
    "    # edf[\"mass\"] = np.ones(edf.shape[0]) * mass\n",
    "    edf[\"mass\"] = np.repeat(\n",
    "        mass,\n",
    "        repeat_nums,\n",
    "        axis=0,\n",
    "    )\n",
    "    edf[\"true_p\"] = np.repeat(\n",
    "        np.linalg.norm(true_direction_coordinates.astype(\"float\"), axis=1) * 1000,\n",
    "        repeat_nums,\n",
    "        axis=0,\n",
    "    )\n",
    "    edf[\"beta\"] = edf.true_p / np.sqrt(edf.mass**2 + edf.true_p**2)\n",
    "    edf[\"x_p\"] = np.zeros(edf.shape[0])\n",
    "    edf[\"y_p\"] = np.zeros(edf.shape[0])\n",
    "    edf[\"z_p\"] = np.zeros(edf.shape[0])\n",
    "    edf[\"nx_p\"] = np.repeat(\n",
    "        (\n",
    "            intersections\n",
    "            / np.array(\n",
    "                [\n",
    "                    np.linalg.norm(intersections.astype(\"float\"), axis=1)\n",
    "                    for i in range(3)\n",
    "                ]\n",
    "            ).T\n",
    "        ).astype(\"float\")[:, 0],\n",
    "        repeat_nums,\n",
    "        axis=0,\n",
    "    )\n",
    "    edf[\"ny_p\"] = np.repeat(\n",
    "        (\n",
    "            intersections\n",
    "            / np.array(\n",
    "                [\n",
    "                    np.linalg.norm(intersections.astype(\"float\"), axis=1)\n",
    "                    for i in range(3)\n",
    "                ]\n",
    "            ).T\n",
    "        ).astype(\"float\")[:, 2],\n",
    "        repeat_nums,\n",
    "        axis=0,\n",
    "    )\n",
    "    edf[\"nz_p\"] = np.repeat(\n",
    "        (\n",
    "            intersections\n",
    "            / np.array(\n",
    "                [\n",
    "                    np.linalg.norm(intersections.astype(\"float\"), axis=1)\n",
    "                    for i in range(3)\n",
    "                ]\n",
    "            ).T\n",
    "        ).astype(\"float\")[:, 1],\n",
    "        repeat_nums,\n",
    "        axis=0,\n",
    "    )\n",
    "\n",
    "    true_direction_coordinates = repeat_nums = true_direction_coordinates_low = mass = intersections = 0\n",
    "    return edf, bdf, gdf, main_angles\n"
   ],
   "id": "b7f52a6a0fb07e21",
   "outputs": [],
   "execution_count": 39
  },
  {
   "metadata": {
    "ExecuteTime": {
     "end_time": "2025-03-24T07:19:04.964171Z",
     "start_time": "2025-03-24T07:19:04.961986Z"
    }
   },
   "cell_type": "code",
   "source": [
    "def enforce_float32(df):\n",
    "    return df.astype({col: np.float32 for col in df.select_dtypes(include=['float64']).columns})"
   ],
   "id": "2bdb16c6a9cb44b5",
   "outputs": [],
   "execution_count": 53
  },
  {
   "metadata": {
    "ExecuteTime": {
     "end_time": "2025-03-24T11:19:30.536582Z",
     "start_time": "2025-03-24T11:19:30.531461Z"
    }
   },
   "cell_type": "code",
   "source": [
    "idf = pd.DataFrame()\n",
    "idf['W'] = [35.]\n",
    "# idf['W'] = [40.]\n",
    "\n",
    "idf['zdis'] = [800.]\n",
    "idf['distance'] = [205.]  # 200\n",
    "idf['n_mean'] = [1.04511]\n",
    "# \n",
    "# idf['n_mean'] = [1.0502]\n",
    "\n",
    "idf['pixel_size'] = [3.16]\n",
    "mu_mass = 105.65\n",
    "pi_mass = 139.57\n",
    "ka_mass = 493.68"
   ],
   "id": "87e2c6d757d6b7b9",
   "outputs": [],
   "execution_count": 104
  },
  {
   "metadata": {
    "ExecuteTime": {
     "end_time": "2025-03-24T11:20:39.248423Z",
     "start_time": "2025-03-24T11:19:32.909510Z"
    }
   },
   "cell_type": "code",
   "source": [
    "mu_pi_ka = True\n",
    "if mu_pi_ka:\n",
    "    edf_mu, bdf_mu, gdf_mu = create_edf('fullsim_3particles_2000_mu_bin_1_FARICH_35mm_no_no_trackers.root', sample_num=None, num_of_files=11,\n",
    "                               uncertain_angle=False, is_mu=True, is_ka=False)\n",
    "    edf_pi, bdf_pi, gdf_pi = create_edf('fullsim_3particles_2000_pi_bin_1_FARICH_35mm_no_no_trackers.root', sample_num=None, num_of_files=10,\n",
    "                               uncertain_angle=False, is_mu=False, is_ka=False)\n",
    "    edf_ka, bdf_ka, gdf_ka = create_edf('fullsim_3particles_2000_ka_bin_1_FARICH_35mm_no_no_trackers.root', sample_num=None, num_of_files=10,\n",
    "                                    uncertain_angle=False, is_mu=False, is_ka=True)\n",
    "    \n",
    "    shift_ind = np.array(edf_mu.index.get_level_values(0))[-1] + 1\n",
    "    new_index = edf_pi.index.map(lambda idx: (idx[0] + shift_ind, idx[1]))\n",
    "    edf_pi.index = pd.MultiIndex.from_tuples(new_index, names=edf_mu.index.names)\n",
    "    gdf_pi.index = np.array(gdf_pi.index) + np.array(gdf_mu.index)[-1] + 1\n",
    "\n",
    "    shift_ind = np.array(edf_pi.index.get_level_values(0))[-1] + 1\n",
    "    new_index = edf_ka.index.map(lambda idx: (idx[0] + shift_ind, idx[1]))\n",
    "    edf_ka.index = pd.MultiIndex.from_tuples(new_index, names=edf_pi.index.names)\n",
    "    gdf_ka.index = np.array(gdf_ka.index) + np.array(gdf_pi.index)[-1] + 1\n",
    "\n",
    "\n",
    "    edf_conc = pd.concat([edf_mu, edf_pi, edf_ka])\n",
    "    gdf_conc = pd.concat([gdf_mu, gdf_pi, gdf_ka])\n",
    "    \n",
    "    edf_mu = gdf_mu = edf_ka = gdf_ka = edf_pi = gdf_pi = 0\n",
    "    edf_conc = enforce_float32(edf_conc)"
   ],
   "id": "97e551bceca13bf3",
   "outputs": [
    {
     "name": "stdout",
     "output_type": "stream",
     "text": [
      "(22000, 5)\n",
      "(22000, 3)\n",
      "(21104, 5)\n",
      "(21104, 3)\n",
      "(19993, 5)\n",
      "(19993, 3)\n",
      "(19878, 5)\n",
      "(19878, 3)\n",
      "(19986, 5)\n",
      "(19986, 3)\n",
      "(19857, 5)\n",
      "(19857, 3)\n"
     ]
    }
   ],
   "execution_count": 105
  },
  {
   "metadata": {
    "ExecuteTime": {
     "end_time": "2025-03-24T11:20:43.414083Z",
     "start_time": "2025-03-24T11:20:43.409494Z"
    }
   },
   "cell_type": "code",
   "source": [
    "avg_sigmas = (4, 5)\n",
    "avg_t_sigmas = (4, 5)\n",
    "num_of_groups = 10\n",
    "what_to_group = 'beta'\n",
    "r_width = float(idf.pixel_size.iloc[0]) * 2\n",
    "t_width = 0.25\n",
    "t_step = 0.25\n",
    "r_factor = 2 # not to change\n",
    "t_factor = int(t_width / t_step)\n",
    "weighed = True\n",
    "deg_lim = False\n",
    "param_fit = False\n",
    "useuse_decision_tree = True\n",
    "\n",
    "\n",
    "calibration_func = pol # pol\n",
    "param_calibration_func = pol2_pol2 # d3pol2\n",
    "p0 = (0.9, -5, 340) # (.95, 0, 300) #(.01, 1e-3, 1e-4)\n",
    "p0_c =  (1.219, -0.5588, 0.2946, 864.4, -1922, 1055, -2535, 6572, -3751)\n",
    "num_of_calibration_params = 3 # 3\n",
    "num_of_param_fit_params = 3 # for param fit both prev and this number are important, cal_func as well, therefore p0 and p0_C\n",
    "target_variable = 'beta'\n",
    "target_angle = 'theta_p'\n",
    "num_of_theta_intervals = 11 # 11\n",
    "\n",
    "\n",
    "# sample_size = 12\n",
    "cal_arr = False\n",
    "errs = False\n",
    "\n",
    "beta_sigms = []\n",
    "beta_sigms_yerr = []\n",
    "beta_sigms_deglim = []\n",
    "beta_sigms_yerr_deglim = []\n",
    "\n",
    "\n",
    "r_bins = np.arange(16, 80, step=3.3)\n",
    "r_bins = np.array([[r_bins[i], r_bins[i + 2]] for i in range(len(r_bins) - 2)])\n",
    "t_bins = np.arange(0, 7, step=0.25)\n",
    "t_bins = np.array([[t_bins[i], t_bins[i + 1]] for i in range(len(t_bins) - 1)])\n",
    "\n",
    "background_means_dict = {'1e6': 0.012, '1e5': 0.0015}\n",
    "background_stds_dict = {'1e6': 0.0175, '1e5': 0.0055}\n",
    "\n",
    "background_mean = background_means_dict['1e6']\n",
    "background_std = background_stds_dict['1e6']\n",
    "\n",
    "batch_size = 10000\n",
    "num_of_classes = 4"
   ],
   "id": "90dc0963ea60837d",
   "outputs": [],
   "execution_count": 106
  },
  {
   "metadata": {
    "ExecuteTime": {
     "end_time": "2025-03-24T11:21:49.165844Z",
     "start_time": "2025-03-24T11:20:46.246179Z"
    }
   },
   "cell_type": "code",
   "source": [
    "dcr = '0'\n",
    "print(dcr)\n",
    "timer_start = perf_counter()\n",
    "edf_d = edf_conc.copy()\n",
    "gdf_d = gdf_conc.copy()\n",
    "bdf_d = pd.DataFrame()\n",
    "edf_d = addNoise(idf, edf_d, gdf_d, (0, 7), float(dcr))\n",
    "edf_d = applySpaceCut(edf_d)\n",
    "planeRecalculation(edf_d, idf)\n",
    "planeRotation(edf_d)\n",
    "edf_d = applySecondSpaceCut(edf_d)\n",
    "edf_to_bdf(edf_d.mass, bdf_d)\n",
    "edf_to_bdf(edf_d.true_p, bdf_d)\n",
    "bdf_d.rename(columns={'true_p': 'momentum'}, inplace=True)\n",
    "edf_to_bdf(edf_d.beta, bdf_d)\n",
    "recoAngles(edf_d, idf)\n",
    "primaryDirectionRecalculation(edf_d)\n",
    "\n",
    "recoAngles(edf_d, idf, rotation_mode=True)\n",
    "\n",
    "calculateSignalCounts(edf_d, bdf_d)\n",
    "\n",
    "cal_arr, errs = rSlidingWindow(edf_d, idf, bdf_d, avg_sigmas=avg_sigmas, avg_t_sigmas=avg_t_sigmas, cal_arr=cal_arr, errs=errs, num_of_groups=num_of_groups,\n",
    "                           step=r_width, t_window_width=t_width, r_width_factor=r_factor, t_width_factor=t_factor, weighed=weighed, deg_lim=deg_lim, param_fit=param_fit,\n",
    "                           calibration_func=calibration_func, param_calibration_func=param_calibration_func, num_of_calibration_params=num_of_calibration_params, num_of_param_fit_params=num_of_param_fit_params,\n",
    "                           target_variable=target_variable, target_angle=target_angle, num_of_theta_intervals=num_of_theta_intervals, p0=p0, p0_c=p0_c, what_to_group=what_to_group, use_decision_tree=useuse_decision_tree)\n",
    "    \n",
    "print('Time elapsed on current DCR: ', round(perf_counter() - timer_start))"
   ],
   "id": "dac96e89cb8e3bb3",
   "outputs": [
    {
     "name": "stdout",
     "output_type": "stream",
     "text": [
      "0\n",
      "    Generate noise with DCR per mm^2 0.0, mean number of hits per event: 0.00.\n",
      "Time elapsed on current DCR:  63\n"
     ]
    }
   ],
   "execution_count": 107
  },
  {
   "metadata": {
    "ExecuteTime": {
     "end_time": "2025-03-24T11:43:29.478613Z",
     "start_time": "2025-03-24T11:43:29.468104Z"
    }
   },
   "cell_type": "code",
   "source": "pd.read_pickle(os.path.join('data', 'pickled_bdf_1e5.pkl'))",
   "id": "9e26bbf370a5e93",
   "outputs": [
    {
     "data": {
      "text/plain": [
       "             mass     momentum      beta signal_counts  param_group   theta_p  \\\n",
       "0      105.650002   373.608704  0.962266            13          7.0  0.597453   \n",
       "1        0.000000   765.634766  0.983788             0          9.0  0.711210   \n",
       "2        0.000000   722.940369  0.989490             0         10.0  0.737575   \n",
       "3      493.679993  3321.506104  0.989134            38         10.0  0.560077   \n",
       "4      493.679993  2036.828491  0.971861            13          8.0  0.193191   \n",
       "...           ...          ...       ...           ...          ...       ...   \n",
       "60825    0.000000  1891.088623  0.967573             0          3.0  0.144120   \n",
       "60826    0.000000   984.110107  0.994287             0          9.0  0.202445   \n",
       "60827    0.000000   585.144287  0.972713             0          4.0  0.169712   \n",
       "60828    0.000000  1924.597656  0.968640             0          3.0  0.570708   \n",
       "60829  105.650002   550.242493  0.982061            33          6.0  0.487172   \n",
       "\n",
       "       cos_theta_p  unfixed_calculated_r_2d_4_rsigms_4_tsigms  \\\n",
       "0         0.826771                                  27.690175   \n",
       "1         0.757572                                  20.556289   \n",
       "2         0.740101                                  45.823519   \n",
       "3         0.847214                                  54.930403   \n",
       "4         0.981397                                  31.987790   \n",
       "...            ...                                        ...   \n",
       "60825     0.989633                                  17.402254   \n",
       "60826     0.979578                                  14.252245   \n",
       "60827     0.985633                                  23.712441   \n",
       "60828     0.841519                                  19.634244   \n",
       "60829     0.883660                                  47.697175   \n",
       "\n",
       "       beta_from_calc_r_4_rsigms_4_tsigms  delta_beta_4_rsigms_4_tsigms  \\\n",
       "0                                0.966547                      0.004281   \n",
       "1                                0.966879                     -0.016909   \n",
       "2                                0.973899                     -0.015590   \n",
       "3                                0.988765                     -0.000369   \n",
       "4                                0.972440                      0.000579   \n",
       "...                                   ...                           ...   \n",
       "60825                            0.968940                      0.001367   \n",
       "60826                            0.969550                     -0.024736   \n",
       "60827                            0.965893                     -0.006820   \n",
       "60828                            0.967585                     -0.001055   \n",
       "60829                            0.983412                      0.001351   \n",
       "\n",
       "       eps_beta_4_rsigms_4_tsigms   distance    bckg_proba  mu_proba  \\\n",
       "0                        0.444936  38.888112  2.340884e-06  0.999254   \n",
       "1                       -1.718748   7.772325  9.900118e-01  0.000015   \n",
       "2                       -1.575603   7.148423  9.725231e-01  0.000051   \n",
       "3                       -0.037270  58.589274  2.233170e-06  0.000004   \n",
       "4                        0.059576  45.435754  1.326287e-06  0.000019   \n",
       "...                           ...        ...           ...       ...   \n",
       "60825                    0.141260   9.147904  9.562100e-01  0.000007   \n",
       "60826                   -2.487842   5.321678  9.990835e-01  0.000022   \n",
       "60827                   -0.701104   6.747280  9.833426e-01  0.000158   \n",
       "60828                   -0.108916   9.147904  9.875181e-01  0.000001   \n",
       "60829                    0.137574  70.228200  1.718820e-07  0.999766   \n",
       "\n",
       "       pi_proba      ka_proba   mass_reco  \n",
       "0      0.000735  8.570173e-06  105.650002  \n",
       "1      0.009970  3.146877e-06    0.000000  \n",
       "2      0.027423  3.007071e-06    0.000000  \n",
       "3      0.001380  9.986137e-01  493.679993  \n",
       "4      0.000053  9.999270e-01  493.679993  \n",
       "...         ...           ...         ...  \n",
       "60825  0.000052  4.373035e-02    0.000000  \n",
       "60826  0.000892  1.762444e-06    0.000000  \n",
       "60827  0.016486  1.353686e-05    0.000000  \n",
       "60828  0.000041  1.243911e-02    0.000000  \n",
       "60829  0.000234  2.845947e-07  105.650002  \n",
       "\n",
       "[60830 rows x 17 columns]"
      ],
      "text/html": [
       "<div>\n",
       "<style scoped>\n",
       "    .dataframe tbody tr th:only-of-type {\n",
       "        vertical-align: middle;\n",
       "    }\n",
       "\n",
       "    .dataframe tbody tr th {\n",
       "        vertical-align: top;\n",
       "    }\n",
       "\n",
       "    .dataframe thead th {\n",
       "        text-align: right;\n",
       "    }\n",
       "</style>\n",
       "<table border=\"1\" class=\"dataframe\">\n",
       "  <thead>\n",
       "    <tr style=\"text-align: right;\">\n",
       "      <th></th>\n",
       "      <th>mass</th>\n",
       "      <th>momentum</th>\n",
       "      <th>beta</th>\n",
       "      <th>signal_counts</th>\n",
       "      <th>param_group</th>\n",
       "      <th>theta_p</th>\n",
       "      <th>cos_theta_p</th>\n",
       "      <th>unfixed_calculated_r_2d_4_rsigms_4_tsigms</th>\n",
       "      <th>beta_from_calc_r_4_rsigms_4_tsigms</th>\n",
       "      <th>delta_beta_4_rsigms_4_tsigms</th>\n",
       "      <th>eps_beta_4_rsigms_4_tsigms</th>\n",
       "      <th>distance</th>\n",
       "      <th>bckg_proba</th>\n",
       "      <th>mu_proba</th>\n",
       "      <th>pi_proba</th>\n",
       "      <th>ka_proba</th>\n",
       "      <th>mass_reco</th>\n",
       "    </tr>\n",
       "  </thead>\n",
       "  <tbody>\n",
       "    <tr>\n",
       "      <th>0</th>\n",
       "      <td>105.650002</td>\n",
       "      <td>373.608704</td>\n",
       "      <td>0.962266</td>\n",
       "      <td>13</td>\n",
       "      <td>7.0</td>\n",
       "      <td>0.597453</td>\n",
       "      <td>0.826771</td>\n",
       "      <td>27.690175</td>\n",
       "      <td>0.966547</td>\n",
       "      <td>0.004281</td>\n",
       "      <td>0.444936</td>\n",
       "      <td>38.888112</td>\n",
       "      <td>2.340884e-06</td>\n",
       "      <td>0.999254</td>\n",
       "      <td>0.000735</td>\n",
       "      <td>8.570173e-06</td>\n",
       "      <td>105.650002</td>\n",
       "    </tr>\n",
       "    <tr>\n",
       "      <th>1</th>\n",
       "      <td>0.000000</td>\n",
       "      <td>765.634766</td>\n",
       "      <td>0.983788</td>\n",
       "      <td>0</td>\n",
       "      <td>9.0</td>\n",
       "      <td>0.711210</td>\n",
       "      <td>0.757572</td>\n",
       "      <td>20.556289</td>\n",
       "      <td>0.966879</td>\n",
       "      <td>-0.016909</td>\n",
       "      <td>-1.718748</td>\n",
       "      <td>7.772325</td>\n",
       "      <td>9.900118e-01</td>\n",
       "      <td>0.000015</td>\n",
       "      <td>0.009970</td>\n",
       "      <td>3.146877e-06</td>\n",
       "      <td>0.000000</td>\n",
       "    </tr>\n",
       "    <tr>\n",
       "      <th>2</th>\n",
       "      <td>0.000000</td>\n",
       "      <td>722.940369</td>\n",
       "      <td>0.989490</td>\n",
       "      <td>0</td>\n",
       "      <td>10.0</td>\n",
       "      <td>0.737575</td>\n",
       "      <td>0.740101</td>\n",
       "      <td>45.823519</td>\n",
       "      <td>0.973899</td>\n",
       "      <td>-0.015590</td>\n",
       "      <td>-1.575603</td>\n",
       "      <td>7.148423</td>\n",
       "      <td>9.725231e-01</td>\n",
       "      <td>0.000051</td>\n",
       "      <td>0.027423</td>\n",
       "      <td>3.007071e-06</td>\n",
       "      <td>0.000000</td>\n",
       "    </tr>\n",
       "    <tr>\n",
       "      <th>3</th>\n",
       "      <td>493.679993</td>\n",
       "      <td>3321.506104</td>\n",
       "      <td>0.989134</td>\n",
       "      <td>38</td>\n",
       "      <td>10.0</td>\n",
       "      <td>0.560077</td>\n",
       "      <td>0.847214</td>\n",
       "      <td>54.930403</td>\n",
       "      <td>0.988765</td>\n",
       "      <td>-0.000369</td>\n",
       "      <td>-0.037270</td>\n",
       "      <td>58.589274</td>\n",
       "      <td>2.233170e-06</td>\n",
       "      <td>0.000004</td>\n",
       "      <td>0.001380</td>\n",
       "      <td>9.986137e-01</td>\n",
       "      <td>493.679993</td>\n",
       "    </tr>\n",
       "    <tr>\n",
       "      <th>4</th>\n",
       "      <td>493.679993</td>\n",
       "      <td>2036.828491</td>\n",
       "      <td>0.971861</td>\n",
       "      <td>13</td>\n",
       "      <td>8.0</td>\n",
       "      <td>0.193191</td>\n",
       "      <td>0.981397</td>\n",
       "      <td>31.987790</td>\n",
       "      <td>0.972440</td>\n",
       "      <td>0.000579</td>\n",
       "      <td>0.059576</td>\n",
       "      <td>45.435754</td>\n",
       "      <td>1.326287e-06</td>\n",
       "      <td>0.000019</td>\n",
       "      <td>0.000053</td>\n",
       "      <td>9.999270e-01</td>\n",
       "      <td>493.679993</td>\n",
       "    </tr>\n",
       "    <tr>\n",
       "      <th>...</th>\n",
       "      <td>...</td>\n",
       "      <td>...</td>\n",
       "      <td>...</td>\n",
       "      <td>...</td>\n",
       "      <td>...</td>\n",
       "      <td>...</td>\n",
       "      <td>...</td>\n",
       "      <td>...</td>\n",
       "      <td>...</td>\n",
       "      <td>...</td>\n",
       "      <td>...</td>\n",
       "      <td>...</td>\n",
       "      <td>...</td>\n",
       "      <td>...</td>\n",
       "      <td>...</td>\n",
       "      <td>...</td>\n",
       "      <td>...</td>\n",
       "    </tr>\n",
       "    <tr>\n",
       "      <th>60825</th>\n",
       "      <td>0.000000</td>\n",
       "      <td>1891.088623</td>\n",
       "      <td>0.967573</td>\n",
       "      <td>0</td>\n",
       "      <td>3.0</td>\n",
       "      <td>0.144120</td>\n",
       "      <td>0.989633</td>\n",
       "      <td>17.402254</td>\n",
       "      <td>0.968940</td>\n",
       "      <td>0.001367</td>\n",
       "      <td>0.141260</td>\n",
       "      <td>9.147904</td>\n",
       "      <td>9.562100e-01</td>\n",
       "      <td>0.000007</td>\n",
       "      <td>0.000052</td>\n",
       "      <td>4.373035e-02</td>\n",
       "      <td>0.000000</td>\n",
       "    </tr>\n",
       "    <tr>\n",
       "      <th>60826</th>\n",
       "      <td>0.000000</td>\n",
       "      <td>984.110107</td>\n",
       "      <td>0.994287</td>\n",
       "      <td>0</td>\n",
       "      <td>9.0</td>\n",
       "      <td>0.202445</td>\n",
       "      <td>0.979578</td>\n",
       "      <td>14.252245</td>\n",
       "      <td>0.969550</td>\n",
       "      <td>-0.024736</td>\n",
       "      <td>-2.487842</td>\n",
       "      <td>5.321678</td>\n",
       "      <td>9.990835e-01</td>\n",
       "      <td>0.000022</td>\n",
       "      <td>0.000892</td>\n",
       "      <td>1.762444e-06</td>\n",
       "      <td>0.000000</td>\n",
       "    </tr>\n",
       "    <tr>\n",
       "      <th>60827</th>\n",
       "      <td>0.000000</td>\n",
       "      <td>585.144287</td>\n",
       "      <td>0.972713</td>\n",
       "      <td>0</td>\n",
       "      <td>4.0</td>\n",
       "      <td>0.169712</td>\n",
       "      <td>0.985633</td>\n",
       "      <td>23.712441</td>\n",
       "      <td>0.965893</td>\n",
       "      <td>-0.006820</td>\n",
       "      <td>-0.701104</td>\n",
       "      <td>6.747280</td>\n",
       "      <td>9.833426e-01</td>\n",
       "      <td>0.000158</td>\n",
       "      <td>0.016486</td>\n",
       "      <td>1.353686e-05</td>\n",
       "      <td>0.000000</td>\n",
       "    </tr>\n",
       "    <tr>\n",
       "      <th>60828</th>\n",
       "      <td>0.000000</td>\n",
       "      <td>1924.597656</td>\n",
       "      <td>0.968640</td>\n",
       "      <td>0</td>\n",
       "      <td>3.0</td>\n",
       "      <td>0.570708</td>\n",
       "      <td>0.841519</td>\n",
       "      <td>19.634244</td>\n",
       "      <td>0.967585</td>\n",
       "      <td>-0.001055</td>\n",
       "      <td>-0.108916</td>\n",
       "      <td>9.147904</td>\n",
       "      <td>9.875181e-01</td>\n",
       "      <td>0.000001</td>\n",
       "      <td>0.000041</td>\n",
       "      <td>1.243911e-02</td>\n",
       "      <td>0.000000</td>\n",
       "    </tr>\n",
       "    <tr>\n",
       "      <th>60829</th>\n",
       "      <td>105.650002</td>\n",
       "      <td>550.242493</td>\n",
       "      <td>0.982061</td>\n",
       "      <td>33</td>\n",
       "      <td>6.0</td>\n",
       "      <td>0.487172</td>\n",
       "      <td>0.883660</td>\n",
       "      <td>47.697175</td>\n",
       "      <td>0.983412</td>\n",
       "      <td>0.001351</td>\n",
       "      <td>0.137574</td>\n",
       "      <td>70.228200</td>\n",
       "      <td>1.718820e-07</td>\n",
       "      <td>0.999766</td>\n",
       "      <td>0.000234</td>\n",
       "      <td>2.845947e-07</td>\n",
       "      <td>105.650002</td>\n",
       "    </tr>\n",
       "  </tbody>\n",
       "</table>\n",
       "<p>60830 rows × 17 columns</p>\n",
       "</div>"
      ]
     },
     "execution_count": 117,
     "metadata": {},
     "output_type": "execute_result"
    }
   ],
   "execution_count": 117
  },
  {
   "metadata": {
    "ExecuteTime": {
     "end_time": "2025-03-24T07:27:00.438388Z",
     "start_time": "2025-03-24T07:27:00.428969Z"
    }
   },
   "cell_type": "code",
   "source": "Ы",
   "id": "db555820962dd616",
   "outputs": [
    {
     "ename": "NameError",
     "evalue": "name 'Ы' is not defined",
     "output_type": "error",
     "traceback": [
      "\u001B[1;31m---------------------------------------------------------------------------\u001B[0m",
      "\u001B[1;31mNameError\u001B[0m                                 Traceback (most recent call last)",
      "Cell \u001B[1;32mIn[61], line 1\u001B[0m\n\u001B[1;32m----> 1\u001B[0m \u001B[43mЫ\u001B[49m\n",
      "\u001B[1;31mNameError\u001B[0m: name 'Ы' is not defined"
     ]
    }
   ],
   "execution_count": 61
  },
  {
   "metadata": {
    "ExecuteTime": {
     "end_time": "2025-03-24T11:41:43.797249Z",
     "start_time": "2025-03-24T11:41:43.794114Z"
    }
   },
   "cell_type": "code",
   "source": "bdf_d['mass'].fillna(0, inplace=True)",
   "id": "b97d94fa79c919cb",
   "outputs": [],
   "execution_count": 110
  },
  {
   "metadata": {
    "ExecuteTime": {
     "end_time": "2025-03-24T11:41:49.282050Z",
     "start_time": "2025-03-24T11:41:48.869017Z"
    }
   },
   "cell_type": "code",
   "source": [
    "import pandas as pd\n",
    "from sklearn.model_selection import train_test_split\n",
    "from sklearn.preprocessing import LabelEncoder\n",
    "from sklearn.metrics import accuracy_score, classification_report\n",
    "import xgboost as xgb\n",
    "\n",
    "# Assuming `bdf_d` is your pandas DataFrame\n",
    "# Step 1: Extract features and target\n",
    "X = bdf_d[['momentum', 'unfixed_calculated_r_2d_4_rsigms_4_tsigms', 'theta_p', 'distance']]\n",
    "y = bdf_d['mass']\n",
    "\n",
    "# Step 2: Encode the target variable\n",
    "label_encoder = LabelEncoder()\n",
    "y_encoded = label_encoder.fit_transform(y)  # mass: [139.57 -> 0, 105.65 -> 1]\n",
    "\n",
    "# Step 3: Split the data\n",
    "X_train, X_test, y_train, y_test = train_test_split(X, y_encoded, test_size=0.2, random_state=42)\n",
    "\n",
    "# Step 4: Initialize and train XGBoost classifier\n",
    "model = xgb.XGBClassifier(\n",
    "    objective='multi:softprob',  # Правильный режим для multi-class\n",
    "    num_class=4,\n",
    "    eval_metric='mlogloss',  # Log loss для многоклассовой задачи\n",
    "    use_label_encoder=False\n",
    ")\n",
    "model.fit(X_train, y_train)\n",
    "\n",
    "# Step 5: Evaluate the model\n",
    "y_pred = model.predict(X_test)\n",
    "accuracy = accuracy_score(y_test, y_pred)\n",
    "print(\"Accuracy:\", accuracy)\n",
    "print(\"Classification Report:\\n\", classification_report(y_test, y_pred))\n",
    "\n",
    "# Optional: Map back predictions to mass values if needed\n",
    "y_pred_mass = label_encoder.inverse_transform(y_pred)\n",
    "\n",
    "X_test['mass'] = label_encoder.inverse_transform(y_test)\n",
    "X_test['mass_reco'] = y_pred_mass"
   ],
   "id": "47ba292e6982c79a",
   "outputs": [
    {
     "name": "stdout",
     "output_type": "stream",
     "text": [
      "Accuracy: 0.9280900723208415\n",
      "Classification Report:\n",
      "               precision    recall  f1-score   support\n",
      "\n",
      "           0       0.91      0.97      0.94      3018\n",
      "           1       0.91      0.92      0.92      3201\n",
      "           2       0.91      0.87      0.89      2976\n",
      "           3       0.98      0.95      0.97      2973\n",
      "\n",
      "    accuracy                           0.93     12168\n",
      "   macro avg       0.93      0.93      0.93     12168\n",
      "weighted avg       0.93      0.93      0.93     12168\n",
      "\n"
     ]
    }
   ],
   "execution_count": 111
  },
  {
   "metadata": {
    "ExecuteTime": {
     "end_time": "2025-03-24T11:42:09.624916Z",
     "start_time": "2025-03-24T11:42:09.506468Z"
    }
   },
   "cell_type": "code",
   "source": [
    "X_test[['bckg_proba', 'mu_proba', 'pi_proba', 'ka_proba']] = model.predict_proba(X_test[['momentum', 'unfixed_calculated_r_2d_4_rsigms_4_tsigms', 'theta_p', 'distance']])\n",
    "bdf_d[['bckg_proba', 'mu_proba', 'pi_proba', 'ka_proba']] = model.predict_proba(bdf_d[['momentum', 'unfixed_calculated_r_2d_4_rsigms_4_tsigms', 'theta_p', 'distance']])\n",
    "bdf_d['mass_reco'] = label_encoder.inverse_transform(model.predict(X))"
   ],
   "id": "3b7160408104bae5",
   "outputs": [],
   "execution_count": 112
  },
  {
   "metadata": {
    "ExecuteTime": {
     "end_time": "2025-03-24T07:34:39.432587Z",
     "start_time": "2025-03-24T07:34:32.499088Z"
    }
   },
   "cell_type": "code",
   "source": "edf, bdf, gdf, main_angles_tmp = create_edf_decay('decay_test_ka2.root')",
   "id": "3b529c2b7fe16a88",
   "outputs": [
    {
     "name": "stdout",
     "output_type": "stream",
     "text": [
      "(7931, 5)\n",
      "(7931, 3)\n",
      "(6611, 5)\n",
      "(6611, 3)\n"
     ]
    }
   ],
   "execution_count": 66
  },
  {
   "metadata": {
    "ExecuteTime": {
     "end_time": "2025-03-24T07:34:44.508600Z",
     "start_time": "2025-03-24T07:34:44.505067Z"
    }
   },
   "cell_type": "code",
   "source": "np.random.permutation(gdf.index.shape[0]).shape[0]",
   "id": "bc14a0b99ce6525d",
   "outputs": [
    {
     "data": {
      "text/plain": [
       "6611"
      ]
     },
     "execution_count": 68,
     "metadata": {},
     "output_type": "execute_result"
    }
   ],
   "execution_count": 68
  },
  {
   "metadata": {
    "ExecuteTime": {
     "end_time": "2025-03-24T07:34:47.222786Z",
     "start_time": "2025-03-24T07:34:47.220335Z"
    }
   },
   "cell_type": "code",
   "source": "batch_size=10000",
   "id": "41d89c5c3dfbf5cd",
   "outputs": [],
   "execution_count": 69
  },
  {
   "metadata": {
    "ExecuteTime": {
     "end_time": "2025-03-24T07:35:07.921046Z",
     "start_time": "2025-03-24T07:34:47.240791Z"
    }
   },
   "cell_type": "code",
   "source": [
    "for dcr in  ['1e5'] : # ['0', '1e3', '1e4', '1e5', '1e6']\n",
    "    print(dcr)\n",
    "    timer_start = perf_counter()\n",
    "\n",
    "    sample_idx = np.random.permutation(gdf.index.shape[0])\n",
    "    \n",
    "    max_iter = int(np.ceil(sample_idx.shape[0] / batch_size))\n",
    "    print(max_iter)\n",
    "    \n",
    "    for sample in range(max_iter):\n",
    "        sample_timer = perf_counter()\n",
    "        if sample == max_iter - 1:\n",
    "            sample_ind = sample_idx[batch_size * sample :]\n",
    "            batch_size = sample_idx.shape[0] - batch_size * sample\n",
    "        else:\n",
    "            sample_ind = sample_idx[batch_size * sample : batch_size * (sample + 1)]\n",
    "            \n",
    "        edf_d = edf.loc[sample_ind]\n",
    "        gdf_d = gdf.loc[sample_ind]\n",
    "    \n",
    "        index_map = dict(zip(np.array(gdf_d.index), np.linspace(0, batch_size - 1, batch_size, dtype=np.int16)))\n",
    "        new_new_index = edf_d.index.map(lambda idx: (index_map[idx[0]], idx[1]))\n",
    "        edf_d.index = pd.MultiIndex.from_tuples(new_new_index, names=edf_d.index.names)\n",
    "        gdf_d.index = np.linspace(0, batch_size - 1, batch_size, dtype=np.int16)\n",
    "    \n",
    "    \n",
    "        bdf = pd.DataFrame()\n",
    "        edf_d = addNoise(idf, edf_d, gdf_d, (0, 7), float(dcr))\n",
    "        edf_d = enforce_float32(edf_d)\n",
    "\n",
    "        # sample_ind_2 = np.random.choice(gdf_d.index, size=int(np.ceil(batch_size / num_of_classes)), replace=False)\n",
    "        # edf_slice = edf_d.loc[(sample_ind_2)]\n",
    "        # edf_d.loc[sample_ind_2] = edf_slice[edf_slice.signal == False] \n",
    "        # \n",
    "    \n",
    "        edf_d = applySpaceCut(edf_d)\n",
    "        planeRecalculation(edf_d, idf)\n",
    "        planeRotation(edf_d)\n",
    "        edf_d = applySecondSpaceCut(edf_d)\n",
    "        edf_to_bdf(edf_d.mass, bdf)\n",
    "        print(np.unique(bdf.mass, return_counts=True))\n",
    "        edf_to_bdf(edf_d.true_p, bdf)\n",
    "        bdf.rename(columns={'true_p': 'momentum'}, inplace=True)\n",
    "        edf_to_bdf(edf_d.beta, bdf)\n",
    "        recoAngles(edf_d, idf, for_decay=True)\n",
    "        primaryDirectionRecalculation(edf_d)\n",
    "        \n",
    "        recoAngles(edf_d, idf, rotation_mode=True, for_decay=True)\n",
    "        \n",
    "        calculateSignalCounts(edf_d, bdf)\n",
    "        edf_d = enforce_float32(edf_d)\n",
    "        cal_arr, errs = rSlidingWindow(edf_d, idf, bdf, avg_sigmas=avg_sigmas, avg_t_sigmas=avg_t_sigmas, cal_arr=cal_arr, errs=errs, num_of_groups=num_of_groups,\n",
    "                                   step=r_width, t_window_width=t_width, r_width_factor=r_factor, t_width_factor=t_factor, weighed=weighed, deg_lim=deg_lim, param_fit=param_fit,\n",
    "                                   calibration_func=calibration_func, param_calibration_func=param_calibration_func, num_of_calibration_params=num_of_calibration_params, num_of_param_fit_params=num_of_param_fit_params,\n",
    "                                   target_variable=target_variable, target_angle=target_angle, num_of_theta_intervals=num_of_theta_intervals, p0=p0, p0_c=p0_c, what_to_group=what_to_group, use_decision_tree=useuse_decision_tree)\n",
    "        edf_d = enforce_float32(edf_d)\n",
    "        dists_from_mean_edf = []\n",
    "        for entry, event in edf_d.groupby(level=0):\n",
    "            data = np.array(event[['rotated_r_c', 't_c']])\n",
    "            in_x_bins = (data[:, 0][:, None] >= r_bins[:, 0]) & (data[:, 0][:, None] < r_bins[:, 1])\n",
    "            in_y_bins = (data[:, 1][:, None] >= t_bins[:, 0]) & (data[:, 1][:, None] < t_bins[:, 1])\n",
    "            \n",
    "            # Compute 2D histogram by combining x and y conditions\n",
    "            hist = np.dot(in_x_bins.T.astype(int), in_y_bins.astype(int))  # Shape: (len(x_bins), len(y_bins))\n",
    "            r_bin_centers = r_bins.mean(axis=1)\n",
    "            hist = hist / r_bin_centers[:, None]\n",
    "            \n",
    "            max_signal = np.max(hist)\n",
    "            \n",
    "            dists_from_mean_edf.append((max_signal - background_mean) / background_std)\n",
    "        \n",
    "        bdf['distance'] = dists_from_mean_edf\n",
    "        \n",
    "        if sample == 0:\n",
    "            c_bdf_d = bdf\n",
    "        else:\n",
    "            c_bdf_d = pd.concat([c_bdf_d, bdf], ignore_index=True)\n",
    "        print('    Time elapsed on current sample: ', round(perf_counter() - sample_timer))\n",
    "    print('Time elapsed on current DCR: ', round(perf_counter() - timer_start))\n",
    "bdf = c_bdf_d"
   ],
   "id": "53bba64083d03a36",
   "outputs": [
    {
     "name": "stdout",
     "output_type": "stream",
     "text": [
      "1e5\n",
      "1\n",
      "    Generate noise with DCR per mm^2 100000.0, mean number of hits per event: 175.00.\n",
      "(array([105.65, 493.68,    nan], dtype=float32), array([2026,   62, 4523], dtype=int64))\n",
      "    Time elapsed on current sample:  21\n",
      "Time elapsed on current DCR:  21\n"
     ]
    }
   ],
   "execution_count": 70
  },
  {
   "metadata": {
    "ExecuteTime": {
     "end_time": "2025-03-24T07:27:00.686710Z",
     "start_time": "2025-03-19T09:05:58.653212Z"
    }
   },
   "cell_type": "code",
   "source": "# bdf = bdf[bdf.beta>0.98]",
   "id": "328e55bf36ac6368",
   "outputs": [],
   "execution_count": 124
  },
  {
   "metadata": {
    "ExecuteTime": {
     "end_time": "2025-03-24T07:35:57.218243Z",
     "start_time": "2025-03-24T07:35:57.214804Z"
    }
   },
   "cell_type": "code",
   "source": [
    "bdf['mass'].fillna(ka_mass, inplace=True)\n",
    "bdf[bdf.mass > 490].mass = ka_mass"
   ],
   "id": "94082a997ec3fd6d",
   "outputs": [],
   "execution_count": 73
  },
  {
   "metadata": {
    "ExecuteTime": {
     "end_time": "2025-03-24T07:41:33.137070Z",
     "start_time": "2025-03-24T07:41:33.133844Z"
    }
   },
   "cell_type": "code",
   "source": "bdf = bdf[~bdf.mass.isna()]",
   "id": "3f0dbce8e744c337",
   "outputs": [],
   "execution_count": 87
  },
  {
   "metadata": {
    "ExecuteTime": {
     "end_time": "2025-03-24T07:45:35.207722Z",
     "start_time": "2025-03-24T07:45:35.204580Z"
    }
   },
   "cell_type": "code",
   "source": "np.unique(bdf.mass, return_counts=True)",
   "id": "477545f1189207b7",
   "outputs": [
    {
     "data": {
      "text/plain": [
       "(array([105.65000153, 493.67999268, 493.68      ]),\n",
       " array([2026,   62, 4523], dtype=int64))"
      ]
     },
     "execution_count": 89,
     "metadata": {},
     "output_type": "execute_result"
    }
   ],
   "execution_count": 89
  },
  {
   "metadata": {
    "ExecuteTime": {
     "end_time": "2025-03-24T07:36:38.693048Z",
     "start_time": "2025-03-24T07:36:38.679898Z"
    }
   },
   "cell_type": "code",
   "source": "bdf[['bckg_proba', 'mu_proba', 'pi_proba', 'ka_proba']] = model.predict_proba(bdf[['momentum', 'unfixed_calculated_r_2d_4_rsigms_4_tsigms', 'theta_p', 'distance']])",
   "id": "f3d40dfd064e62f9",
   "outputs": [],
   "execution_count": 75
  },
  {
   "metadata": {
    "ExecuteTime": {
     "end_time": "2025-03-24T07:36:41.237681Z",
     "start_time": "2025-03-24T07:36:41.224614Z"
    }
   },
   "cell_type": "code",
   "source": "bdf['mass_reco'] = label_encoder.inverse_transform(model.predict(bdf[['momentum', 'unfixed_calculated_r_2d_4_rsigms_4_tsigms', 'theta_p', 'distance']]))",
   "id": "1460a165c4a238ab",
   "outputs": [],
   "execution_count": 76
  },
  {
   "metadata": {
    "ExecuteTime": {
     "end_time": "2025-03-24T07:46:36.140612Z",
     "start_time": "2025-03-24T07:46:36.137359Z"
    }
   },
   "cell_type": "code",
   "source": "pi_rel_eff = bdf[(bdf.mass_reco  == pi_mass) & (bdf.mass == pi_mass) & (bdf.theta_p < 0.79)].shape[0] / (bdf[(bdf.mass == pi_mass) & (bdf.theta_p < 0.79)].shape[0] + 1e-4)",
   "id": "543d5114dcdf1686",
   "outputs": [],
   "execution_count": 90
  },
  {
   "metadata": {
    "ExecuteTime": {
     "end_time": "2025-03-24T07:36:53.749348Z",
     "start_time": "2025-03-24T07:36:53.745822Z"
    }
   },
   "cell_type": "code",
   "source": "bkg_rel_eff = bdf[(bdf.mass_reco  == 0) & (bdf.mass == ka_mass) & (bdf.theta_p < 0.79)].shape[0] / bdf[(bdf.mass > 490) & (bdf.theta_p < 0.79)].shape[0]",
   "id": "7450a96531ca0a15",
   "outputs": [],
   "execution_count": 79
  },
  {
   "metadata": {
    "ExecuteTime": {
     "end_time": "2025-03-24T07:36:44.522830Z",
     "start_time": "2025-03-24T07:36:44.518449Z"
    }
   },
   "cell_type": "code",
   "source": "mu_rel_eff = bdf[(bdf.mass_reco  == mu_mass) & (bdf.mass < 0.1 + mu_mass) & (bdf.theta_p < 0.79) & (bdf.momentum > 500)].shape[0] / bdf[(bdf.mass < mu_mass + 0.1) & (bdf.theta_p < 0.79)& (bdf.momentum > 500)].shape[0]",
   "id": "d3e691811c25ff87",
   "outputs": [],
   "execution_count": 77
  },
  {
   "metadata": {
    "ExecuteTime": {
     "end_time": "2025-03-24T07:36:47.181758Z",
     "start_time": "2025-03-24T07:36:47.178871Z"
    }
   },
   "cell_type": "code",
   "source": "mu_rel_eff",
   "id": "bf8816465259f8af",
   "outputs": [
    {
     "data": {
      "text/plain": [
       "0.9983857949959645"
      ]
     },
     "execution_count": 78,
     "metadata": {},
     "output_type": "execute_result"
    }
   ],
   "execution_count": 78
  },
  {
   "metadata": {
    "ExecuteTime": {
     "end_time": "2025-03-24T07:36:56.804594Z",
     "start_time": "2025-03-24T07:36:56.793099Z"
    }
   },
   "cell_type": "code",
   "source": "print(bkg_rel_eff, mu_rel_eff)",
   "id": "c0aaf085af6138d1",
   "outputs": [
    {
     "name": "stdout",
     "output_type": "stream",
     "text": [
      "0.9630414312617702 0.9983857949959645\n"
     ]
    }
   ],
   "execution_count": 80
  },
  {
   "metadata": {
    "ExecuteTime": {
     "end_time": "2025-03-24T07:46:39.543813Z",
     "start_time": "2025-03-24T07:46:39.540947Z"
    }
   },
   "cell_type": "code",
   "source": "print(pi_rel_eff, mu_rel_eff)",
   "id": "e0b5d1fdf332e73e",
   "outputs": [
    {
     "name": "stdout",
     "output_type": "stream",
     "text": [
      "0.0 0.9983857949959645\n"
     ]
    }
   ],
   "execution_count": 91
  },
  {
   "metadata": {
    "ExecuteTime": {
     "end_time": "2025-03-24T07:47:42.605245Z",
     "start_time": "2025-03-24T07:47:42.539070Z"
    }
   },
   "cell_type": "code",
   "source": [
    "y_test_2 = label_encoder.transform(bdf[bdf.theta_p < 0.79].mass)\n",
    "# y_pred_2 = model.predict(bdf[['momentum', 'unfixed_calculated_r_2d_4_rsigms_4_tsigms', 'theta_p', 'distance']])\n",
    "y_pred_2 = label_encoder.transform(bdf[bdf.theta_p < 0.79].mass_reco)\n",
    "cm = confusion_matrix(y_test_2, y_pred_2)\n",
    "cm_normalized = cm.astype('float') / cm.sum(axis=1)[:, np.newaxis]\n",
    "\n",
    "class_names = ['Background', 'Mu', 'Pi', 'Ka']\n",
    "# Plotting using seaborn\n",
    "plt.figure(figsize=(8, 6))\n",
    "sns.heatmap(cm_normalized, annot=True, fmt='.2f', cmap='Blues', xticklabels=class_names, yticklabels=class_names)\n",
    "plt.xlabel('Predicted')\n",
    "plt.ylabel('Actual')\n",
    "plt.title('Confusion Matrix')\n",
    "plt.show()"
   ],
   "id": "abf7d0b68b25e5c6",
   "outputs": [
    {
     "data": {
      "text/plain": [
       "<Figure size 800x600 with 2 Axes>"
      ],
      "image/png": "[encoded data removed]"
     },
     "metadata": {},
     "output_type": "display_data"
    }
   ],
   "execution_count": 93
  }
 ],
 "metadata": {
  "kernelspec": {
   "display_name": "Python 3",
   "language": "python",
   "name": "python3"
  },
  "language_info": {
   "codemirror_mode": {
    "name": "ipython",
    "version": 2
   },
   "file_extension": ".py",
   "mimetype": "text/x-python",
   "name": "python",
   "nbconvert_exporter": "python",
   "pygments_lexer": "ipython2",
   "version": "2.7.6"
  }
 },
 "nbformat": 4,
 "nbformat_minor": 5
}
