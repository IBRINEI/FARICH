{
 "cells": [
  {
   "cell_type": "code",
   "id": "initial_id",
   "metadata": {
    "collapsed": true,
    "ExecuteTime": {
     "end_time": "2025-04-10T06:56:47.459049Z",
     "start_time": "2025-04-10T06:56:46.948212Z"
    }
   },
   "source": [
    "import os.path\n",
    "\n",
    "import matplotlib.pyplot as plt\n",
    "import numpy as np\n",
    "from sklearn.metrics import confusion_matrix, ConfusionMatrixDisplay\n",
    "import seaborn as sns\n",
    "\n",
    "from farich_functions import *\n",
    "\n",
    "plt.rcParams['font.size'] = 12"
   ],
   "outputs": [],
   "execution_count": 1
  },
  {
   "metadata": {
    "ExecuteTime": {
     "end_time": "2025-04-10T06:56:47.470724Z",
     "start_time": "2025-04-10T06:56:47.468569Z"
    }
   },
   "cell_type": "code",
   "source": "warnings.filterwarnings(\"ignore\")",
   "id": "9c583ee19ef8b1af",
   "outputs": [],
   "execution_count": 2
  },
  {
   "metadata": {
    "ExecuteTime": {
     "end_time": "2025-04-10T06:56:47.482092Z",
     "start_time": "2025-04-10T06:56:47.473730Z"
    }
   },
   "cell_type": "code",
   "source": "# xgb.__version__",
   "id": "94729d0df203a379",
   "outputs": [],
   "execution_count": 3
  },
  {
   "metadata": {
    "ExecuteTime": {
     "end_time": "2025-04-10T06:56:47.493796Z",
     "start_time": "2025-04-10T06:56:47.484100Z"
    }
   },
   "cell_type": "code",
   "source": "# momentum_from_beta(beta_from_momentum(500, pi_mass), ka_mass)",
   "id": "f10182a3afa6239c",
   "outputs": [],
   "execution_count": 4
  },
  {
   "metadata": {
    "ExecuteTime": {
     "end_time": "2025-04-10T18:57:44.524322Z",
     "start_time": "2025-04-10T18:57:44.521562Z"
    }
   },
   "cell_type": "code",
   "source": [
    "filepath = os.path.join(\"data\", \"decay_test_ka2.root\")\n",
    "filepath = os.path.join(\"data\", \"decay_test_2gamma.root\")\n",
    "filepath = os.path.join(\"data\", \"decay_test_KmuKpi.root\")"
   ],
   "id": "52d3ed8ede78aca1",
   "outputs": [],
   "execution_count": 162
  },
  {
   "metadata": {
    "ExecuteTime": {
     "end_time": "2025-04-10T18:57:46.659006Z",
     "start_time": "2025-04-10T18:57:46.637885Z"
    }
   },
   "cell_type": "code",
   "source": "file = uproot.open(filepath)",
   "id": "cd37b1925f8911ed",
   "outputs": [],
   "execution_count": 163
  },
  {
   "metadata": {
    "ExecuteTime": {
     "end_time": "2025-04-10T18:57:46.681144Z",
     "start_time": "2025-04-10T18:57:46.666823Z"
    }
   },
   "cell_type": "code",
   "source": "primary_pdgid = np.array(file[file.keys()[0]]['allGenParticles']['allGenParticles.core.pdgId'].array())",
   "id": "5ff703c19500290f",
   "outputs": [],
   "execution_count": 164
  },
  {
   "metadata": {
    "ExecuteTime": {
     "end_time": "2025-04-10T18:57:48.581675Z",
     "start_time": "2025-04-10T18:57:48.549492Z"
    }
   },
   "cell_type": "code",
   "source": "farich_pdgid = np.array(file[file.keys()[0]]['FarichBarrelG4Hits']['FarichBarrelG4Hits.pdgId'].array()) # 40% К куда-то пропадают в фариче",
   "id": "79edc7e600e3cfc4",
   "outputs": [],
   "execution_count": 165
  },
  {
   "metadata": {
    "ExecuteTime": {
     "end_time": "2025-04-10T17:24:58.329875Z",
     "start_time": "2025-04-10T17:24:58.326659Z"
    }
   },
   "cell_type": "code",
   "source": "primary_pdgid[3]",
   "id": "486183575e2f8152",
   "outputs": [
    {
     "data": {
      "text/plain": [
       "array([    30443,       421,      -321,       211,       111,        22,\n",
       "              22,      -421, 480000000])"
      ]
     },
     "execution_count": 121,
     "metadata": {},
     "output_type": "execute_result"
    }
   ],
   "execution_count": 121
  },
  {
   "metadata": {
    "ExecuteTime": {
     "end_time": "2025-04-09T10:19:33.000048Z",
     "start_time": "2025-04-09T10:19:32.992623Z"
    }
   },
   "cell_type": "code",
   "source": [
    "pis = mus = 0\n",
    "for i in range(len(primary_pdgid)):\n",
    "    if primary_pdgid[i][3] != 211 and primary_pdgid[i][3] != -13:\n",
    "        print('First not gamma')\n",
    "    if primary_pdgid[i][3] == 211:\n",
    "        pis += 1\n",
    "    if primary_pdgid[i][3] == -13:\n",
    "        mus += 1\n",
    "print(pis, mus, pis/mus, 0.013580300000000002/0.034700000)\n",
    "    # if primary_pdgid[i][6] != 22:\n",
    "    #     print('Second not gamma')"
   ],
   "id": "51a93595037a35eb",
   "outputs": [
    {
     "name": "stdout",
     "output_type": "stream",
     "text": [
      "2718 7282 0.3732491073880802 0.3913631123919309\n"
     ]
    }
   ],
   "execution_count": 10
  },
  {
   "metadata": {
    "ExecuteTime": {
     "end_time": "2025-04-09T10:19:34.429067Z",
     "start_time": "2025-04-09T10:19:34.416525Z"
    }
   },
   "cell_type": "code",
   "source": "file[file.keys()[0]]['allGenParticles'].keys()",
   "id": "edb763f8d42dcbd8",
   "outputs": [
    {
     "data": {
      "text/plain": [
       "[b'allGenParticles.core.pdgId',\n",
       " b'allGenParticles.core.charge',\n",
       " b'allGenParticles.core.status',\n",
       " b'allGenParticles.core.vertex.x',\n",
       " b'allGenParticles.core.vertex.y',\n",
       " b'allGenParticles.core.vertex.z',\n",
       " b'allGenParticles.core.p4.mass',\n",
       " b'allGenParticles.core.p4.px',\n",
       " b'allGenParticles.core.p4.py',\n",
       " b'allGenParticles.core.p4.pz',\n",
       " b'allGenParticles.core.bits']"
      ]
     },
     "execution_count": 11,
     "metadata": {},
     "output_type": "execute_result"
    }
   ],
   "execution_count": 11
  },
  {
   "metadata": {
    "ExecuteTime": {
     "end_time": "2025-04-10T18:28:14.785190Z",
     "start_time": "2025-04-10T18:28:14.636969Z"
    }
   },
   "cell_type": "code",
   "source": [
    "psi_px = np.array([arr[2] for arr in np.array(file[file.keys()[0]]['allGenParticles']['allGenParticles.core.p4.px'].array())])\n",
    "psi_py = np.array([arr[2] for arr in np.array(file[file.keys()[0]]['allGenParticles']['allGenParticles.core.p4.py'].array())])\n",
    "psi_pz = np.array([arr[2] for arr in np.array(file[file.keys()[0]]['allGenParticles']['allGenParticles.core.p4.pz'].array())])\n",
    "psi_p = np.sqrt(psi_px**2+psi_py**2+psi_pz**2)\n",
    "\n",
    "pi0_px = np.array([arr[4] for arr in np.array(file[file.keys()[0]]['allGenParticles']['allGenParticles.core.p4.px'].array())])\n",
    "pi0_py = np.array([arr[4] for arr in np.array(file[file.keys()[0]]['allGenParticles']['allGenParticles.core.p4.py'].array())])\n",
    "pi0_pz = np.array([arr[4] for arr in np.array(file[file.keys()[0]]['allGenParticles']['allGenParticles.core.p4.pz'].array())])\n",
    "pi0_p = np.sqrt(pi0_px**2+pi0_py**2+pi0_pz**2)\n",
    "\n",
    "gamma1_px = np.array([arr[5] for arr in np.array(file[file.keys()[0]]['allGenParticles']['allGenParticles.core.p4.px'].array())])\n",
    "gamma1_py = np.array([arr[5] for arr in np.array(file[file.keys()[0]]['allGenParticles']['allGenParticles.core.p4.py'].array())])\n",
    "gamma1_pz = np.array([arr[5] for arr in np.array(file[file.keys()[0]]['allGenParticles']['allGenParticles.core.p4.pz'].array())])\n",
    "gamma1_p = np.sqrt(gamma1_px**2+gamma1_py**2+gamma1_pz**2)\n",
    "\n",
    "\n",
    "gamma2_px = np.array([arr[6] for arr in np.array(file[file.keys()[0]]['allGenParticles']['allGenParticles.core.p4.px'].array())])\n",
    "gamma2_py = np.array([arr[6] for arr in np.array(file[file.keys()[0]]['allGenParticles']['allGenParticles.core.p4.py'].array())])\n",
    "gamma2_pz = np.array([arr[6] for arr in np.array(file[file.keys()[0]]['allGenParticles']['allGenParticles.core.p4.pz'].array())])\n",
    "gamma2_p = np.sqrt(gamma2_px**2+gamma2_py**2+gamma2_pz**2)"
   ],
   "id": "3046e88de85f0208",
   "outputs": [],
   "execution_count": 153
  },
  {
   "metadata": {
    "ExecuteTime": {
     "end_time": "2025-04-10T17:42:29.228323Z",
     "start_time": "2025-04-10T17:42:29.225394Z"
    }
   },
   "cell_type": "code",
   "source": "np.sum(gamma1_p  * 1000 < 30)",
   "id": "306cf61e3414737a",
   "outputs": [
    {
     "data": {
      "text/plain": [
       "386"
      ]
     },
     "execution_count": 146,
     "metadata": {},
     "output_type": "execute_result"
    }
   ],
   "execution_count": 146
  },
  {
   "metadata": {
    "ExecuteTime": {
     "end_time": "2025-04-10T18:28:17.075185Z",
     "start_time": "2025-04-10T18:28:16.865783Z"
    }
   },
   "cell_type": "code",
   "source": [
    "plt.hist(psi_p*1000, bins=100)\n",
    "plt.title(r'$\\gamma$2')\n",
    "plt.xlabel('Momentum, MeV/c')\n",
    "plt.show()"
   ],
   "id": "f2d7c1195dec8360",
   "outputs": [
    {
     "data": {
      "text/plain": [
       "<Figure size 640x480 with 1 Axes>"
      ],
      "image/png": "[encoded data removed]"
     },
     "metadata": {},
     "output_type": "display_data"
    }
   ],
   "execution_count": 154
  },
  {
   "metadata": {
    "ExecuteTime": {
     "end_time": "2025-04-10T17:41:32.500496Z",
     "start_time": "2025-04-10T17:41:32.408390Z"
    }
   },
   "cell_type": "code",
   "source": [
    "plt.hist(gamma1_pz / gamma1_p, bins=100)\n",
    "plt.title(r'$\\gamma$1')\n",
    "plt.xlabel('cos(theta)')\n",
    "plt.show()"
   ],
   "id": "a70cd4b8636ba20",
   "outputs": [
    {
     "data": {
      "text/plain": [
       "<Figure size 640x480 with 1 Axes>"
      ],
      "image/png": "[encoded data removed]"
     },
     "metadata": {},
     "output_type": "display_data"
    }
   ],
   "execution_count": 144
  },
  {
   "metadata": {
    "ExecuteTime": {
     "end_time": "2025-04-10T17:36:55.857998Z",
     "start_time": "2025-04-10T17:36:55.854358Z"
    }
   },
   "cell_type": "code",
   "source": [
    "m_pi = 135.0\n",
    "\n",
    "# входной массив импульсов пиона (в МэВ/c)\n",
    "p_pion_lab = pi0_p * 1000  # сюда подставь свой массив\n",
    "\n",
    "# Энергия пиона\n",
    "E_pion_lab = np.sqrt(p_pion_lab**2 + m_pi**2)\n",
    "\n",
    "# beta и gamma\n",
    "beta = p_pion_lab / E_pion_lab\n",
    "gamma = E_pion_lab / m_pi\n",
    "\n",
    "# Сэмплируем cos(theta*) из равномерного распределения [-1, 1]\n",
    "cos_theta_star = np.random.uniform(-1, 1, size=len(p_pion_lab))\n",
    "\n",
    "# Энергии (и импульсы) фотонов\n",
    "E_gamma_1 = 0.5 * m_pi * gamma * (1 + beta * cos_theta_star)\n",
    "E_gamma_2 = 0.5 * m_pi * gamma * (1 - beta * cos_theta_star)"
   ],
   "id": "e7a3801c216f171c",
   "outputs": [],
   "execution_count": 130
  },
  {
   "metadata": {
    "ExecuteTime": {
     "end_time": "2025-04-10T17:37:32.503205Z",
     "start_time": "2025-04-10T17:37:32.433575Z"
    }
   },
   "cell_type": "code",
   "source": [
    "plt.hist(E_gamma_1, bins=100)\n",
    "plt.show()"
   ],
   "id": "52aa3a55dd72b502",
   "outputs": [
    {
     "data": {
      "text/plain": [
       "<Figure size 640x480 with 1 Axes>"
      ],
      "image/png": "[encoded data removed]"
     },
     "metadata": {},
     "output_type": "display_data"
    }
   ],
   "execution_count": 131
  },
  {
   "metadata": {
    "ExecuteTime": {
     "end_time": "2025-04-07T13:44:23.213023Z",
     "start_time": "2025-04-07T13:44:23.180947Z"
    }
   },
   "cell_type": "code",
   "source": [
    "cos_theta_lim = 1280 / np.sqrt(1280 ** 2 + 210 ** 2)\n",
    "\n",
    "good_gamma_ind = []\n",
    "for i in range(len(gamma1_p)):\n",
    "    if gamma1_p[i] < 30 / 1000:\n",
    "        continue\n",
    "    if gamma2_p[i] < 30 / 1000:\n",
    "        continue\n",
    "    if np.abs(gamma1_pz[i] / gamma1_p[i]) > cos_theta_lim:\n",
    "        continue\n",
    "    if np.abs(gamma2_pz[i] / gamma2_p[i]) > cos_theta_lim:\n",
    "        continue\n",
    "    good_gamma_ind.append(i)"
   ],
   "id": "907a7cb12d878716",
   "outputs": [],
   "execution_count": 40
  },
  {
   "metadata": {
    "ExecuteTime": {
     "end_time": "2025-04-07T18:05:37.408758Z",
     "start_time": "2025-04-07T18:05:37.406284Z"
    }
   },
   "cell_type": "code",
   "source": "(10000 - len(good_gamma_ind)) / 100",
   "id": "b9e5bd54734271aa",
   "outputs": [
    {
     "data": {
      "text/plain": [
       "9.77"
      ]
     },
     "execution_count": 77,
     "metadata": {},
     "output_type": "execute_result"
    }
   ],
   "execution_count": 77
  },
  {
   "metadata": {
    "ExecuteTime": {
     "end_time": "2025-04-07T18:04:18.518338Z",
     "start_time": "2025-04-07T18:04:18.515465Z"
    }
   },
   "cell_type": "code",
   "source": "0.139000000 * (10000 - len(good_gamma_ind)) / 10000",
   "id": "e1c08cd30a1db31e",
   "outputs": [
    {
     "data": {
      "text/plain": [
       "0.013580300000000002"
      ]
     },
     "execution_count": 75,
     "metadata": {},
     "output_type": "execute_result"
    }
   ],
   "execution_count": 75
  },
  {
   "metadata": {
    "ExecuteTime": {
     "end_time": "2025-04-10T06:56:57.058895Z",
     "start_time": "2025-04-10T06:56:57.056283Z"
    }
   },
   "cell_type": "code",
   "source": [
    "def primary_particle_match_test(primary_particles_array, ids_to_check, ids_to_match, verbose=False):\n",
    "    for i in range(len(ids_to_check)):\n",
    "        if primary_particles_array[ids_to_check[i]] != ids_to_match[i]:\n",
    "            if verbose:\n",
    "                print(f'Expected {ids_to_match[i]} but got {primary_particles_array[ids_to_check[i]]} in {ids_to_check[i]}-th position')\n",
    "            return False    \n",
    "    return True"
   ],
   "id": "c10b8166952967dc",
   "outputs": [],
   "execution_count": 12
  },
  {
   "metadata": {
    "ExecuteTime": {
     "end_time": "2025-04-10T06:56:57.214860Z",
     "start_time": "2025-04-10T06:56:57.211122Z"
    }
   },
   "cell_type": "code",
   "source": [
    "def find_primary_in_farich(primary_particles_array, farich_particles_array, primary_id, pdg_id, verbose=False):\n",
    "    find_index_of_pdg_id = lambda arr: (idx[-1] if (idx := np.flatnonzero(arr == pdg_id)).size and (idx[-1] < arr.size) else False)\n",
    "    if primary_particles_array[primary_id] == pdg_id:\n",
    "        if find_index_of_pdg_id(farich_particles_array) is not False:\n",
    "            if primary_particles_array[primary_id] != farich_particles_array[find_index_ka(farich_pdgid[i])]:\n",
    "                if verbose:\n",
    "                    print('Mismatch', i)\n",
    "                mismatches.append(i)\n",
    "                is_good = False\n",
    "        else:\n",
    "            if verbose:\n",
    "                print('No ka in event', i)\n",
    "            is_good = False\n",
    "            no_ka.append(i)\n",
    "    if is_good:\n",
    "        good_events.append(i)\n",
    "        primary_particle_idx.append(find_index_ka(farich_pdgid[i]))\n",
    "        primary_particle_in_primary_idx.append(2)"
   ],
   "id": "d727cf76513f1120",
   "outputs": [],
   "execution_count": 13
  },
  {
   "metadata": {
    "ExecuteTime": {
     "end_time": "2025-04-10T06:56:57.695149Z",
     "start_time": "2025-04-10T06:56:57.531029Z"
    }
   },
   "cell_type": "code",
   "source": [
    "i = 0\n",
    "empty_farich = 0\n",
    "important_particle_ind = 3\n",
    "mismatches = []\n",
    "good_events = []\n",
    "good_mu_events = []\n",
    "good_ka_events = []\n",
    "primary_particle_idx = []\n",
    "primary_particle_in_primary_idx = []\n",
    "no_mu_in_mu = []\n",
    "no_pi_in_pi = []\n",
    "no_ka = []\n",
    "# find_index = lambda arr: (idx[-1]+1 if (idx := np.flatnonzero(arr == -22)).size and (idx[-1]+1 < arr.size) else 0) # моржовый оператор :)\n",
    "find_index = lambda arr: (idx[-1] + 1 if (idx := np.flatnonzero(np.isin(arr, [-22, -11]))).size and (idx[-1] + 1 < arr.size) else 0)\n",
    "find_index_mu = lambda arr: (idx[-1] if (idx := np.flatnonzero(arr == -13)).size and (idx[-1] < arr.size) else False)\n",
    "find_index_pi = lambda arr: (idx[-1] if (idx := np.flatnonzero(arr == 211)).size and (idx[-1] < arr.size) else False)\n",
    "find_index_ka = lambda arr: (idx[-1] if (idx := np.flatnonzero(arr == -321)).size and (idx[-1] < arr.size) else False)\n",
    "\n",
    "# need 2 rings per event now...\n",
    "\n",
    "for primary_particles in primary_pdgid:\n",
    "    is_good = True\n",
    "                \n",
    "    if farich_pdgid[i].shape[0] == 0 or np.flatnonzero(farich_pdgid[i] + 22).shape[0] == 0:\n",
    "        empty_farich += 1\n",
    "        is_good = False\n",
    "        \n",
    "    if is_good:\n",
    "        is_good = primary_particle_match_test(primary_particles, [0, 1, 2], [30443, 421, -321], True)\n",
    "\n",
    "    if primary_particles[2] == -321 and is_good:\n",
    "        if farich_pdgid[i].shape[0] != 0 and np.flatnonzero(farich_pdgid[i] + 22).shape[0] != 0:\n",
    "            if find_index_ka(farich_pdgid[i]) is not False:\n",
    "                if primary_particles[2] != farich_pdgid[i][find_index_ka(farich_pdgid[i])]:\n",
    "                    print('Mismatch', i)\n",
    "                    mismatches.append(i)\n",
    "                    is_good = False\n",
    "            else:\n",
    "                # print('No ka in event', i)\n",
    "                is_good = False\n",
    "                no_ka.append(i)\n",
    "        if is_good:\n",
    "            good_events.append(i)\n",
    "            primary_particle_idx.append(find_index_ka(farich_pdgid[i]))\n",
    "            primary_particle_in_primary_idx.append(2)\n",
    "            \n",
    "            \n",
    "    if primary_particles[important_particle_ind] == -13 and is_good:\n",
    "        if farich_pdgid[i].shape[0] != 0 and np.flatnonzero(farich_pdgid[i] + 22).shape[0] != 0:\n",
    "            if find_index_mu(farich_pdgid[i]) is not False:\n",
    "                if primary_particles[important_particle_ind] != farich_pdgid[i][find_index_mu(farich_pdgid[i])]:\n",
    "                    print('Mismatch', i)\n",
    "                    mismatches.append(i)\n",
    "                    is_good = False\n",
    "            else:\n",
    "                # print('No mu in mu event', i)\n",
    "                is_good = False\n",
    "                no_mu_in_mu.append(i)\n",
    "        if is_good:\n",
    "            good_events.append(i)\n",
    "            primary_particle_idx.append(find_index_mu(farich_pdgid[i]))\n",
    "            primary_particle_in_primary_idx.append(important_particle_ind)\n",
    "        if not is_good:\n",
    "            if len(good_events) != 0:\n",
    "                good_events.pop()\n",
    "                primary_particle_idx.pop()\n",
    "                primary_particle_in_primary_idx.pop()\n",
    "    \n",
    "    elif primary_particles[important_particle_ind] == 211 and is_good:\n",
    "        if farich_pdgid[i].shape[0] != 0 and np.flatnonzero(farich_pdgid[i] + 22).shape[0] != 0:\n",
    "            if find_index_pi(farich_pdgid[i]) is not False:\n",
    "                if primary_particles[important_particle_ind] != farich_pdgid[i][find_index_mu(farich_pdgid[i])]:\n",
    "                    print('Mismatch', i)\n",
    "                    mismatches.append(i)\n",
    "                    is_good = False\n",
    "            else:\n",
    "                # print('No mu in mu event', i)\n",
    "                is_good = False\n",
    "                no_pi_in_pi.append(i)\n",
    "        if is_good:\n",
    "            good_events.append(i)\n",
    "            primary_particle_idx.append(find_index_pi(farich_pdgid[i]))\n",
    "            primary_particle_in_primary_idx.append(important_particle_ind)\n",
    "        if not is_good:\n",
    "            if len(good_events) != 0:\n",
    "                good_events.pop()\n",
    "                primary_particle_idx.pop()\n",
    "                primary_particle_in_primary_idx.pop()\n",
    "\n",
    "    # if is_good:\n",
    "    #     good_events.append(i)\n",
    "    #     primary_particle_idx.append(find_index(farich_pdgid[i]))\n",
    "    i += 1\n",
    "    \n",
    "\n",
    "print('Empty Farich:',empty_farich)\n",
    "print('Mismatches: ',len(mismatches))\n",
    "print('Missing K: ',len(no_ka))\n",
    "print('Missing Mu in Mu event: ',len(no_mu_in_mu))\n",
    "print('Missing Pi in Pi event: ',len(no_pi_in_pi))\n",
    "print('Full bad events: ', len(mismatches) + empty_farich + len(set(np.concatenate([no_mu_in_mu, no_ka, no_pi_in_pi]))))\n",
    "print('Good Events:', i - len(mismatches) - empty_farich - len(set(np.concatenate([no_mu_in_mu, no_ka, no_pi_in_pi]))))\n",
    "print(len(good_events))\n",
    "print(len(set(good_events)))\n",
    "print(- len(set(good_events)) + len(good_events))"
   ],
   "id": "ddcb03ca1b966225",
   "outputs": [
    {
     "name": "stdout",
     "output_type": "stream",
     "text": [
      "Empty Farich: 738\n",
      "Mismatches:  0\n",
      "Missing K:  3356\n",
      "Missing Mu in Mu event:  784\n",
      "Missing Pi in Pi event:  343\n",
      "Full bad events:  5221\n",
      "Good Events: 4779\n",
      "9558\n",
      "4779\n",
      "4779\n"
     ]
    }
   ],
   "execution_count": 14
  },
  {
   "metadata": {
    "ExecuteTime": {
     "end_time": "2025-04-10T06:57:03.300811Z",
     "start_time": "2025-04-10T06:57:02.543838Z"
    }
   },
   "cell_type": "code",
   "source": [
    "farich_energy = np.array(file[file.keys()[0]]['FarichBarrelG4Hits']['FarichBarrelG4Hits.energy'].array())[good_events]\n",
    "farich_momentum_x = np.array(file[file.keys()[0]]['FarichBarrelG4Hits']['FarichBarrelG4Hits.momentum.px'].array())[good_events]\n",
    "farich_momentum_y = np.array(file[file.keys()[0]]['FarichBarrelG4Hits']['FarichBarrelG4Hits.momentum.py'].array())[good_events]\n",
    "farich_momentum_z = np.array(file[file.keys()[0]]['FarichBarrelG4Hits']['FarichBarrelG4Hits.momentum.pz'].array())[good_events]\n",
    "\n",
    "primary_momentum_x = np.array(file[file.keys()[0]]['allGenParticles']['allGenParticles.core.p4.px'].array())[good_events]\n",
    "primary_momentum_y = np.array(file[file.keys()[0]]['allGenParticles']['allGenParticles.core.p4.py'].array())[good_events]\n",
    "primary_momentum_z = np.array(file[file.keys()[0]]['allGenParticles']['allGenParticles.core.p4.pz'].array())[good_events]\n",
    "\n",
    "farich_x = np.array(file[file.keys()[0]]['FarichBarrelG4Hits'][\"FarichBarrelG4Hits.postStepPosition.x\"].array())[good_events]\n",
    "farich_y = np.array(file[file.keys()[0]]['FarichBarrelG4Hits'][\"FarichBarrelG4Hits.postStepPosition.y\"].array())[good_events]\n",
    "farich_z = np.array(file[file.keys()[0]]['FarichBarrelG4Hits'][\"FarichBarrelG4Hits.postStepPosition.z\"].array())[good_events]\n",
    "farich_t = np.array(file[file.keys()[0]]['FarichBarrelG4Hits'][\"FarichBarrelG4Hits.localTime\"].array())[good_events]"
   ],
   "id": "b25e1fd9f14a5c2",
   "outputs": [],
   "execution_count": 15
  },
  {
   "metadata": {
    "ExecuteTime": {
     "end_time": "2025-04-10T18:53:13.582317Z",
     "start_time": "2025-04-10T18:53:13.558697Z"
    }
   },
   "cell_type": "code",
   "source": [
    "primary_momentum = primary_momentum_x.copy()\n",
    "for i in range(len(primary_momentum_x)):\n",
    "    primary_momentum[i] = np.sqrt(primary_momentum_x[i] ** 2 + primary_momentum_y[i] ** 2 + primary_momentum_z[i] ** 2)"
   ],
   "id": "90dae8f4f34e4e5a",
   "outputs": [],
   "execution_count": 158
  },
  {
   "metadata": {
    "ExecuteTime": {
     "end_time": "2025-04-10T18:58:01.829092Z",
     "start_time": "2025-04-10T18:58:01.825219Z"
    }
   },
   "cell_type": "code",
   "source": "primary_pdgid[good_events[2]]",
   "id": "1345c82844cdbe69",
   "outputs": [
    {
     "data": {
      "text/plain": [
       "array([    30443,       421,      -321,       -13,        14,      -421,\n",
       "       480000000])"
      ]
     },
     "execution_count": 168,
     "metadata": {},
     "output_type": "execute_result"
    }
   ],
   "execution_count": 168
  },
  {
   "metadata": {
    "ExecuteTime": {
     "end_time": "2025-04-10T18:59:55.569562Z",
     "start_time": "2025-04-10T18:59:55.562940Z"
    }
   },
   "cell_type": "code",
   "source": [
    "cos_mu = []\n",
    "cos_pi = []\n",
    "cos_ka_mu = []\n",
    "cos_ka_pi = []\n",
    "for i in range(len(set(good_events))):\n",
    "    if primary_pdgid[good_events[i]][3] == -13:\n",
    "        cos_mu.append(primary_momentum_z[i][3] / primary_momentum[i][3])\n",
    "        cos_ka_mu.append(primary_momentum_z[i][2] / primary_momentum[i][2])\n",
    "    elif primary_pdgid[good_events[i]][3] == 211:\n",
    "        cos_pi.append(primary_momentum_z[i][3] / primary_momentum[i][3])\n",
    "        cos_ka_pi.append(primary_momentum_z[i][2] / primary_momentum[i][2])\n",
    "# primary_momentum[0]"
   ],
   "id": "535fd2637df7c044",
   "outputs": [],
   "execution_count": 169
  },
  {
   "metadata": {
    "ExecuteTime": {
     "end_time": "2025-04-10T19:02:21.083220Z",
     "start_time": "2025-04-10T19:02:20.973554Z"
    }
   },
   "cell_type": "code",
   "source": [
    "plt.hist(cos_ka_pi, bins=100)\n",
    "plt.xlabel('cos(theta)')\n",
    "plt.title(r'K from $K\\pi\\pi$')\n",
    "plt.show()"
   ],
   "id": "91eb927a7bba0d6a",
   "outputs": [
    {
     "data": {
      "text/plain": [
       "<Figure size 640x480 with 1 Axes>"
      ],
      "image/png": "[encoded data removed]"
     },
     "metadata": {},
     "output_type": "display_data"
    }
   ],
   "execution_count": 177
  },
  {
   "metadata": {
    "ExecuteTime": {
     "end_time": "2025-04-10T19:08:03.683862Z",
     "start_time": "2025-04-10T19:08:03.679431Z"
    }
   },
   "cell_type": "code",
   "source": "np.sum([primary_pdgid[good_events[i]][3] == 211 for i in range(len(good_events))]) ",
   "id": "3a3516e5fae295",
   "outputs": [
    {
     "data": {
      "text/plain": [
       "2422"
      ]
     },
     "execution_count": 179,
     "metadata": {},
     "output_type": "execute_result"
    }
   ],
   "execution_count": 179
  },
  {
   "metadata": {
    "ExecuteTime": {
     "end_time": "2025-04-10T19:07:53.825449Z",
     "start_time": "2025-04-10T19:07:53.818553Z"
    }
   },
   "cell_type": "code",
   "source": "np.sum([primary_pdgid[good_events[i]][3] == 211 for i in range(len(good_events))]) / np.sum([primary_pdgid[good_events[i]][3] == -13 for i in range(len(good_events))]) # pi / mu",
   "id": "baaf09dacc5daf61",
   "outputs": [
    {
     "data": {
      "text/plain": [
       "0.3394058295964126"
      ]
     },
     "execution_count": 178,
     "metadata": {},
     "output_type": "execute_result"
    }
   ],
   "execution_count": 178
  },
  {
   "metadata": {
    "ExecuteTime": {
     "end_time": "2025-04-10T06:57:06.596450Z",
     "start_time": "2025-04-10T06:57:06.592068Z"
    }
   },
   "cell_type": "code",
   "source": "np.sum([primary_pdgid[good_events[i]][primary_particle_in_primary_idx[i]] == -321 for i in range(0, len(good_events), 2)]) # every even is k",
   "id": "b97625c146048a0d",
   "outputs": [
    {
     "data": {
      "text/plain": [
       "4779"
      ]
     },
     "execution_count": 17,
     "metadata": {},
     "output_type": "execute_result"
    }
   ],
   "execution_count": 17
  },
  {
   "metadata": {
    "ExecuteTime": {
     "end_time": "2025-04-10T06:57:06.748307Z",
     "start_time": "2025-04-10T06:57:06.743854Z"
    }
   },
   "cell_type": "code",
   "source": "np.sum([primary_pdgid[i][2] == -321 for i in range(10000)]) ",
   "id": "ce7666ccddc4b5c9",
   "outputs": [
    {
     "data": {
      "text/plain": [
       "10000"
      ]
     },
     "execution_count": 18,
     "metadata": {},
     "output_type": "execute_result"
    }
   ],
   "execution_count": 18
  },
  {
   "metadata": {
    "ExecuteTime": {
     "end_time": "2025-04-10T06:57:10.432971Z",
     "start_time": "2025-04-10T06:57:10.303695Z"
    }
   },
   "cell_type": "code",
   "source": [
    "plt.hist([np.sqrt((primary_momentum_x[i][2]) ** 2 + (primary_momentum_y[i][2]) ** 2 + (primary_momentum_z[i][2]) ** 2) * 1000 for i in range(len(good_events))], bins='auto')\n",
    "plt.show()"
   ],
   "id": "16297e2057200d0f",
   "outputs": [
    {
     "data": {
      "text/plain": [
       "<Figure size 640x480 with 1 Axes>"
      ],
      "image/png": "[encoded data removed]"
     },
     "metadata": {},
     "output_type": "display_data"
    }
   ],
   "execution_count": 19
  },
  {
   "metadata": {
    "ExecuteTime": {
     "end_time": "2025-04-10T06:57:13.473719Z",
     "start_time": "2025-04-10T06:57:13.466360Z"
    }
   },
   "cell_type": "code",
   "source": [
    "def init_coords_decay(file, grid):\n",
    "    x = np.array(file[file.keys()[0]]['FarichBarrelG4Hits'][\"FarichBarrelG4Hits.postStepPosition.x\"].array())[good_events]\n",
    "    y = np.array(file[file.keys()[0]]['FarichBarrelG4Hits'][\"FarichBarrelG4Hits.postStepPosition.y\"].array())[good_events]\n",
    "    z = np.array(file[file.keys()[0]]['FarichBarrelG4Hits'][\"FarichBarrelG4Hits.postStepPosition.z\"].array())[good_events]\n",
    "    wvs = (1239.841 / np.array(file[file.keys()[0]]['FarichBarrelG4Hits'][\"FarichBarrelG4Hits.energy\"].array()) * 1e-9)[good_events]\n",
    "    t = np.array(file[file.keys()[0]]['FarichBarrelG4Hits'][\"FarichBarrelG4Hits.localTime\"].array())[good_events]\n",
    "    \n",
    "    farich_momentum_x = np.array(file[file.keys()[0]]['FarichBarrelG4Hits']['FarichBarrelG4Hits.momentum.px'].array())[good_events]\n",
    "    farich_momentum_y = np.array(file[file.keys()[0]]['FarichBarrelG4Hits']['FarichBarrelG4Hits.momentum.py'].array())[good_events]\n",
    "    farich_momentum_z = np.array(file[file.keys()[0]]['FarichBarrelG4Hits']['FarichBarrelG4Hits.momentum.pz'].array())[good_events]\n",
    "    farich_pdgid =      np.array(file[file.keys()[0]]['FarichBarrelG4Hits']['FarichBarrelG4Hits.pdgId'].array())[good_events]\n",
    "        \n",
    "    x3 = np.array([farich_momentum_x[i][primary_particle_idx[i]] for i in range(farich_momentum_x.shape[0])])\n",
    "    y3 = np.array([farich_momentum_y[i][primary_particle_idx[i]] for i in range(farich_momentum_y.shape[0])])\n",
    "    z3 = np.array([farich_momentum_z[i][primary_particle_idx[i]] for i in range(farich_momentum_z.shape[0])])\n",
    "    id = np.array([farich_pdgid[i][primary_particle_idx[i]] for i in range(farich_pdgid.shape[0])])\n",
    "  \n",
    "    xi = np.array([x[i][primary_particle_idx[i]] for i in range(x.shape[0])])\n",
    "    yi = np.array([y[i][primary_particle_idx[i]] for i in range(y.shape[0])])\n",
    "    zi = np.array([z[i][primary_particle_idx[i]] for i in range(z.shape[0])])\n",
    "    \n",
    "    x3 = np.array(file[file.keys()[0]]['allGenParticles']['allGenParticles.core.p4.px'].array())[good_events]\n",
    "    y3 = np.array(file[file.keys()[0]]['allGenParticles']['allGenParticles.core.p4.py'].array())[good_events]\n",
    "    z3 = np.array(file[file.keys()[0]]['allGenParticles']['allGenParticles.core.p4.pz'].array())[good_events]\n",
    "    x3 = np.array([x3[i][primary_particle_in_primary_idx[i]] for i in range(len(good_events))])\n",
    "    y3 = np.array([y3[i][primary_particle_in_primary_idx[i]] for i in range(len(good_events))])\n",
    "    z3 = np.array([z3[i][primary_particle_in_primary_idx[i]] for i in range(len(good_events))])\n",
    "    # Объединяем массивы, сохраняя структуру массивов\n",
    "    true_direction_coordinates = np.stack((x3, y3, z3), axis=1)\n",
    "    intersections = np.stack((xi, yi, zi), axis=1)\n",
    "    for i in range(len(wvs)):\n",
    "        wvs[i] = lin_move_to_grid(wvs[i], grid[2])\n",
    "    coordinates = np.column_stack((x, y, z, wvs, t))\n",
    "    return coordinates, true_direction_coordinates, intersections, id\n"
   ],
   "id": "b297da19301cfa70",
   "outputs": [],
   "execution_count": 20
  },
  {
   "metadata": {
    "ExecuteTime": {
     "end_time": "2025-04-10T06:57:17.219792Z",
     "start_time": "2025-04-10T06:57:15.482250Z"
    }
   },
   "cell_type": "code",
   "source": [
    "datadir = \"data\"\n",
    "sipm_eff, PDE_wvs = init_sipm_eff()\n",
    "for key in sipm_eff.keys():\n",
    "    sipm_eff[key] = sipm_eff[key] / 0.55414 * 0.38\n",
    "\n",
    "x_grid = np.arange(\n",
    "    -3 * norm_r * np.sin(np.pi / 27),\n",
    "    3 * norm_r * np.sin(np.pi / 27),\n",
    "    SIPM_CELL_SIZE,\n",
    ")\n",
    "z_grid = np.arange(-1400, 1400, SIPM_CELL_SIZE)\n",
    "grid = (x_grid, z_grid, PDE_wvs)\n",
    "\n",
    "decay_file = uproot.open(filepath)\n",
    "coordinates, true_direction_coordinates, intersections, ids = init_coords_decay(\n",
    "    decay_file, grid\n",
    ")\n"
   ],
   "id": "6fb233627e2830e3",
   "outputs": [],
   "execution_count": 21
  },
  {
   "metadata": {
    "ExecuteTime": {
     "end_time": "2025-04-10T06:57:17.240395Z",
     "start_time": "2025-04-10T06:57:17.236798Z"
    }
   },
   "cell_type": "code",
   "source": "intersections / np.linalg.norm(intersections, axis=1)[:, None] * np.linalg.norm(true_direction_coordinates, axis=1)[:, None]",
   "id": "dd53982e3b296709",
   "outputs": [
    {
     "data": {
      "text/plain": [
       "array([[-1.7381977e-01, -7.3313612e-01, -3.4249816e-02],\n",
       "       [ 2.5178266e-01, -4.2465944e-02,  1.2554459e-01],\n",
       "       [-3.7547314e-01, -4.8471576e-01, -5.9202647e-01],\n",
       "       ...,\n",
       "       [ 1.6258612e-01, -5.5150247e-01,  7.9757892e-02],\n",
       "       [ 7.2456128e-04,  4.1843048e-01, -3.6699966e-01],\n",
       "       [-3.2155937e-01,  2.1855320e-01,  4.8274177e-01]], dtype=float32)"
      ]
     },
     "execution_count": 22,
     "metadata": {},
     "output_type": "execute_result"
    }
   ],
   "execution_count": 22
  },
  {
   "metadata": {
    "ExecuteTime": {
     "end_time": "2025-04-10T06:57:19.326307Z",
     "start_time": "2025-04-10T06:57:19.322745Z"
    }
   },
   "cell_type": "code",
   "source": [
    "def find_cylinder_intersections(vectors, R=1000):\n",
    "    # vectors - массив размерности (N, 3)\n",
    "    # R - радиус цилиндра\n",
    "    \n",
    "    # Вычисляем t для каждого вектора\n",
    "    a_x = vectors[:, 0]\n",
    "    a_y = vectors[:, 1]\n",
    "    denominator = np.sqrt(a_x**2 + a_y**2)\n",
    "    \n",
    "    # Избегаем деления на ноль (векторы, параллельные оси z)\n",
    "    mask = denominator != 0\n",
    "    t = np.zeros_like(denominator)\n",
    "    t[mask] = R / denominator[mask]\n",
    "    \n",
    "    # Вычисляем координаты пересечения\n",
    "    intersections = vectors * t[:, np.newaxis]\n",
    "    \n",
    "    return intersections\n"
   ],
   "id": "a577a1137a5c3650",
   "outputs": [],
   "execution_count": 23
  },
  {
   "metadata": {
    "ExecuteTime": {
     "end_time": "2025-04-10T06:57:19.452688Z",
     "start_time": "2025-04-10T06:57:19.450268Z"
    }
   },
   "cell_type": "code",
   "source": "intersection_diffs = np.sqrt(np.sum((find_cylinder_intersections(intersections, R=1000) - intersections) ** 2, axis=1))",
   "id": "3dae8a51258cb3e6",
   "outputs": [],
   "execution_count": 24
  },
  {
   "metadata": {
    "ExecuteTime": {
     "end_time": "2025-04-10T06:57:19.580329Z",
     "start_time": "2025-04-10T06:57:19.577209Z"
    }
   },
   "cell_type": "code",
   "source": "intersection_diffs[intersection_diffs > 100].shape ",
   "id": "46fb158719bd86f",
   "outputs": [
    {
     "data": {
      "text/plain": [
       "(0,)"
      ]
     },
     "execution_count": 25,
     "metadata": {},
     "output_type": "execute_result"
    }
   ],
   "execution_count": 25
  },
  {
   "metadata": {
    "ExecuteTime": {
     "end_time": "2025-04-10T06:57:21.617230Z",
     "start_time": "2025-04-10T06:57:21.422785Z"
    }
   },
   "cell_type": "code",
   "source": [
    "plt.hist(intersection_diffs[intersection_diffs < 100], bins='auto') # Короче, просто используем intersections, координаты важнее\n",
    "plt.show() "
   ],
   "id": "2b84de34723cbf3e",
   "outputs": [
    {
     "data": {
      "text/plain": [
       "<Figure size 640x480 with 1 Axes>"
      ],
      "image/png": "[encoded data removed]"
     },
     "metadata": {},
     "output_type": "display_data"
    }
   ],
   "execution_count": 26
  },
  {
   "metadata": {
    "ExecuteTime": {
     "end_time": "2025-04-10T06:57:23.655360Z",
     "start_time": "2025-04-10T06:57:23.652672Z"
    }
   },
   "cell_type": "code",
   "source": [
    "def find_intersections_for_decay(full_coords):\n",
    "    intersections = np.zeros((full_coords.shape[0], 3))\n",
    "    zeros = np.zeros((1, 3))\n",
    "    for i in range(full_coords.shape[0]):\n",
    "        event_coords = full_coords[i] / 1000\n",
    "        pca = PCA(n_components=1)\n",
    "\n",
    "        # if event_coords[0].shape[0] == 1:\n",
    "        # print(event_coords)\n",
    "        event_coords = [[0, arr] for arr in event_coords]\n",
    "        # print(event_coords)\n",
    "        pca.fit(np.column_stack(event_coords))\n",
    "        line_direction = pca.components_[0]\n",
    "        line_point = pca.mean_\n",
    "\n",
    "        # Calculate the parameter t for the intersection with the plane y=1000\n",
    "        p_y = line_point[1]\n",
    "        d_y = line_direction[1]\n",
    "        t = (1000 - p_y) / d_y\n",
    "\n",
    "        # Find the intersection point\n",
    "        intersection_point = line_point + t * line_direction\n",
    "\n",
    "        # print(f\"Line direction: {line_direction}\")\n",
    "        # print(f\"Point on the line: {line_point}\")\n",
    "        # print(f\"Intersection point with the plane y=1000: {intersection_point}\")\n",
    "        for j in range(3):\n",
    "            intersections[i][j] = intersection_point[j]\n",
    "    return intersections\n"
   ],
   "id": "74a2345b5b2041f",
   "outputs": [],
   "execution_count": 27
  },
  {
   "metadata": {
    "ExecuteTime": {
     "end_time": "2025-04-10T06:57:25.118759Z",
     "start_time": "2025-04-10T06:57:25.115943Z"
    }
   },
   "cell_type": "code",
   "source": [
    "def rotate_lines_for_decay(full_coords):\n",
    "    angles = np.zeros(full_coords.shape[0])\n",
    "    for i in range(full_coords.shape[0]):\n",
    "        event_coords = full_coords[i]\n",
    "        rotated_event_coords, angles[i] = rotate_line_for_decay(event_coords)\n",
    "\n",
    "        for j in range(3):\n",
    "            full_coords[i][j] = rotated_event_coords[:, j]\n",
    "    return angles\n",
    "\n",
    "\n",
    "def rotate_line_for_decay(coords):\n",
    "    angles = np.arctan2(coords[1], coords[0]) % (2 * np.pi)\n",
    "    # print(angles)\n",
    "    try:\n",
    "        median_angle = angles\n",
    "    except IndexError:\n",
    "        print(angles)\n",
    "        median_angle = np.median(angles)\n",
    "    median_angle = lin_move_to_grid(np.array([median_angle]), plane_angles)\n",
    "    # print(angles)\n",
    "    angle_to_rotate = np.pi / 2 - median_angle\n",
    "    # print(angle_to_rotate)\n",
    "    x, y = rotate_point_on_line(coords, angle_to_rotate)\n",
    "    return np.column_stack((x, y, coords[2])), median_angle\n"
   ],
   "id": "541d3a7f93491af0",
   "outputs": [],
   "execution_count": 28
  },
  {
   "metadata": {
    "ExecuteTime": {
     "end_time": "2025-04-10T06:57:26.682376Z",
     "start_time": "2025-04-10T06:57:26.673251Z"
    }
   },
   "cell_type": "code",
   "source": [
    "def create_edf_decay(\n",
    "    filepath=\"fullsim_optical_2000_pi_bin_1_FARICH_35mm_no_no_trackers.root\",\n",
    "    uncertain_angle=False,\n",
    "):\n",
    "    datadir = \"data\"\n",
    "    sipm_eff, PDE_wvs = init_sipm_eff()\n",
    "    for key in sipm_eff.keys():\n",
    "        sipm_eff[key] = sipm_eff[key] / 0.55414 * 0.38\n",
    "\n",
    "    x_grid = np.arange(\n",
    "        -3 * norm_r * np.sin(np.pi / 27),\n",
    "        3 * norm_r * np.sin(np.pi / 27),\n",
    "        SIPM_CELL_SIZE,\n",
    "    )\n",
    "    z_grid = np.arange(-1400, 1400, SIPM_CELL_SIZE)\n",
    "    grid = (x_grid, z_grid, PDE_wvs)\n",
    "\n",
    "    decay_file = uproot.open(os.path.join(datadir, filepath))\n",
    "    coordinates, true_direction_coordinates, intersections, ids = init_coords_decay(\n",
    "        decay_file, grid\n",
    "    )\n",
    "    \n",
    "    \n",
    "    idx_to_drop = []\n",
    "    for i in range(coordinates.shape[0]):\n",
    "        if coordinates[i][0].shape[0] == 0:\n",
    "            idx_to_drop.append(i)\n",
    "\n",
    "    coordinates = np.delete(coordinates, idx_to_drop, axis=0)\n",
    "    true_direction_coordinates = np.delete(\n",
    "        true_direction_coordinates, idx_to_drop, axis=0\n",
    "    )\n",
    "    intersections = np.delete(intersections, idx_to_drop, axis=0)\n",
    "    ids = np.delete(ids, idx_to_drop)\n",
    "    print(coordinates.shape)\n",
    "    print(true_direction_coordinates.shape)\n",
    "\n",
    "    true_direction_coordinates = intersections / np.linalg.norm(intersections, axis=1)[:, None] * np.linalg.norm(true_direction_coordinates, axis=1)[:, None]\n",
    "\n",
    "    if uncertain_angle:\n",
    "        uncertainty_introduction_to_direction(true_direction_coordinates)\n",
    "    \n",
    "    sipm_sim(coordinates, sipm_eff)\n",
    "    for i, coord in enumerate(coordinates):\n",
    "        # print(coord[0].shape)\n",
    "        # print(coord)\n",
    "        # if coord[0].shape[0] != 0:\n",
    "        #     break\n",
    "        if coord[0].shape[0] == 0:\n",
    "            coord[0] = np.atleast_1d(np.array(intersections[i][0]))\n",
    "            coord[1] = np.atleast_1d(np.array(intersections[i][1]))\n",
    "            coord[2] = np.atleast_1d(np.array(intersections[i][2]))\n",
    "            coord[3] = np.atleast_1d(np.array(450))\n",
    "            coord[4] = np.atleast_1d(np.array(0.633))\n",
    "    # idx_to_drop = []\n",
    "    # for i in range(coordinates.shape[0]):\n",
    "    #     if coordinates[i][0].shape[0] == 0:\n",
    "    #         idx_to_drop.append(i)\n",
    "    # coordinates = np.delete(coordinates, idx_to_drop, axis=0)\n",
    "    # true_direction_coordinates = np.delete(\n",
    "    #     true_direction_coordinates, idx_to_drop, axis=0\n",
    "    # )\n",
    "    # intersections = np.delete(intersections, idx_to_drop, axis=0)\n",
    "    # ids = np.delete(ids, idx_to_drop)\n",
    "    # print(coordinates.shape)\n",
    "    # print(true_direction_coordinates.shape)\n",
    "\n",
    "    main_angles = rotate_lines_for_decay(intersections) # Rotates intersection points\n",
    "    \n",
    "    intersections = find_intersections_for_decay(intersections)  # May need to rewrite both to treat elements as scalasrs and to change reference point from 0\n",
    "    \n",
    "    rotate_events(coordinates, main_angles)   # There are events with extra rings somewhere around angle idx 13-16\n",
    "    move_events_to_grid(coordinates, grid)\n",
    "    repeat_nums = np.array([coord[0].shape[0] for coord in coordinates])\n",
    "    edf = pd.DataFrame(coordinates, columns=[\"x_c\", \"y_c\", \"z_c\", \"wv_c\", \"t_c\"])\n",
    "\n",
    "    unraveled_data = {col: [] for col in edf.columns}\n",
    "    row_indices = []\n",
    "\n",
    "    # Iterate over the DataFrame and unravel the arrays\n",
    "    for i, row in edf.iterrows():\n",
    "        max_length = max(len(row[col]) for col in edf.columns)\n",
    "        for k in range(max_length):\n",
    "            row_indices.append((i, k))\n",
    "            for col in edf.columns:\n",
    "                if k < len(row[col]):\n",
    "                    unraveled_data[col].append(row[col][k])\n",
    "                else:\n",
    "                    unraveled_data[col].append(\n",
    "                        np.nan\n",
    "                    )  # Handle cases where arrays are of different lengths\n",
    "\n",
    "    # Create a new DataFrame from the unraveled data\n",
    "    unraveled_df = pd.DataFrame(unraveled_data)\n",
    "\n",
    "    # Create a MultiIndex for the rows\n",
    "    multi_index = pd.MultiIndex.from_tuples(row_indices, names=[\"entry\", \"subentry\"])\n",
    "    unraveled_df.index = multi_index\n",
    "\n",
    "    edf = unraveled_df\n",
    "\n",
    "    edf[\"x_i\"] = np.repeat(intersections[:, 0], repeat_nums, axis=0)\n",
    "    edf[\"z_i\"] = np.repeat(intersections[:, 2], repeat_nums, axis=0)\n",
    "\n",
    "    x = y = z = x3 = y3 = z3 = unraveled_data = row_indices   = wvs = coordinates = file = coordinates_low = file_low = 0 # = main_angles\n",
    "\n",
    "    bdf = pd.DataFrame()\n",
    "    gdf = pd.DataFrame()\n",
    "    gdf[\"nhits\"] = repeat_nums\n",
    "\n",
    "    mu_mass = 105.65\n",
    "    pi_mass = 139.57\n",
    "    ka_mass = 493.68\n",
    "    # mass = mu_mass if is_mu else (ka_mass if is_ka else pi_mass)\n",
    "    mass = np.array([mu_mass if ids[i] == -13 else (ka_mass if ids[i] == -321 else pi_mass) for i in range(ids.shape[0])])\n",
    "    # edf.drop(\"y_c\", axis=1, inplace=True)\n",
    "    edf.rename(columns={\"y_c\": \"tmp_c\"}, inplace=True)\n",
    "    edf.drop(\"wv_c\", axis=1, inplace=True)\n",
    "    edf.rename(columns={\"z_c\": \"y_c\", \"z_i\": \"y_i\"}, inplace=True)\n",
    "    edf.rename(columns={\"tmp_c\": \"z_c\"}, inplace=True)\n",
    "    # edf[\"z_c\"] = np.zeros(edf.shape[0]) + 1000  \n",
    "    # edf[\"mass\"] = np.ones(edf.shape[0]) * mass\n",
    "    edf[\"mass\"] = np.repeat(\n",
    "        mass,\n",
    "        repeat_nums,\n",
    "        axis=0,\n",
    "    )\n",
    "    edf[\"true_p\"] = np.repeat(\n",
    "        np.linalg.norm(true_direction_coordinates.astype(\"float\"), axis=1) * 1000,\n",
    "        repeat_nums,\n",
    "        axis=0,\n",
    "    )\n",
    "    edf[\"beta\"] = edf.true_p / np.sqrt(edf.mass**2 + edf.true_p**2)\n",
    "    edf[\"x_p\"] = np.zeros(edf.shape[0])\n",
    "    edf[\"y_p\"] = np.zeros(edf.shape[0])\n",
    "    edf[\"z_p\"] = np.zeros(edf.shape[0])\n",
    "    edf[\"nx_p\"] = np.repeat(\n",
    "        (\n",
    "            intersections\n",
    "            / np.array(\n",
    "                [\n",
    "                    np.linalg.norm(intersections.astype(\"float\"), axis=1)\n",
    "                    for i in range(3)\n",
    "                ]\n",
    "            ).T\n",
    "        ).astype(\"float\")[:, 0],\n",
    "        repeat_nums,\n",
    "        axis=0,\n",
    "    )\n",
    "    edf[\"ny_p\"] = np.repeat(\n",
    "        (\n",
    "            intersections\n",
    "            / np.array(\n",
    "                [\n",
    "                    np.linalg.norm(intersections.astype(\"float\"), axis=1)\n",
    "                    for i in range(3)\n",
    "                ]\n",
    "            ).T\n",
    "        ).astype(\"float\")[:, 2],\n",
    "        repeat_nums,\n",
    "        axis=0,\n",
    "    )\n",
    "    edf[\"nz_p\"] = np.repeat(\n",
    "        (\n",
    "            intersections\n",
    "            / np.array(\n",
    "                [\n",
    "                    np.linalg.norm(intersections.astype(\"float\"), axis=1)\n",
    "                    for i in range(3)\n",
    "                ]\n",
    "            ).T\n",
    "        ).astype(\"float\")[:, 1],\n",
    "        repeat_nums,\n",
    "        axis=0,\n",
    "    )\n",
    "\n",
    "    true_direction_coordinates = repeat_nums = true_direction_coordinates_low = mass = intersections = 0\n",
    "    return edf, bdf, gdf, main_angles\n"
   ],
   "id": "b7f52a6a0fb07e21",
   "outputs": [],
   "execution_count": 29
  },
  {
   "metadata": {
    "ExecuteTime": {
     "end_time": "2025-04-10T06:57:28.160278Z",
     "start_time": "2025-04-10T06:57:28.157345Z"
    }
   },
   "cell_type": "code",
   "source": [
    "def enforce_float32(df):\n",
    "    return df.astype({col: np.float32 for col in df.select_dtypes(include=['float64']).columns})"
   ],
   "id": "2bdb16c6a9cb44b5",
   "outputs": [],
   "execution_count": 30
  },
  {
   "metadata": {
    "ExecuteTime": {
     "end_time": "2025-04-10T06:57:29.560615Z",
     "start_time": "2025-04-10T06:57:29.555246Z"
    }
   },
   "cell_type": "code",
   "source": [
    "idf = pd.DataFrame()\n",
    "idf['W'] = [35.]\n",
    "# idf['W'] = [40.]\n",
    "\n",
    "idf['zdis'] = [800.]\n",
    "idf['distance'] = [205.]  # 200\n",
    "idf['n_mean'] = [1.04511]\n",
    "# \n",
    "# idf['n_mean'] = [1.0502]\n",
    "\n",
    "idf['pixel_size'] = [3.16]\n",
    "mu_mass = 105.65\n",
    "pi_mass = 139.57\n",
    "ka_mass = 493.68"
   ],
   "id": "87e2c6d757d6b7b9",
   "outputs": [],
   "execution_count": 31
  },
  {
   "metadata": {
    "ExecuteTime": {
     "end_time": "2025-04-10T06:58:44.198603Z",
     "start_time": "2025-04-10T06:57:31.051851Z"
    }
   },
   "cell_type": "code",
   "source": [
    "mu_pi_ka = True\n",
    "if mu_pi_ka:\n",
    "    edf_mu, bdf_mu, gdf_mu = create_edf('fullsim_3particles_2000_mu_bin_1_FARICH_35mm_no_no_trackers.root', sample_num=None, num_of_files=11,\n",
    "                               uncertain_angle=False, is_mu=True, is_ka=False)\n",
    "    edf_pi, bdf_pi, gdf_pi = create_edf('fullsim_3particles_2000_pi_bin_1_FARICH_35mm_no_no_trackers.root', sample_num=None, num_of_files=10,\n",
    "                               uncertain_angle=False, is_mu=False, is_ka=False)\n",
    "    edf_ka, bdf_ka, gdf_ka = create_edf('fullsim_3particles_2000_ka_bin_1_FARICH_35mm_no_no_trackers.root', sample_num=None, num_of_files=10,\n",
    "                                    uncertain_angle=False, is_mu=False, is_ka=True)\n",
    "    \n",
    "    shift_ind = np.array(edf_mu.index.get_level_values(0))[-1] + 1\n",
    "    new_index = edf_pi.index.map(lambda idx: (idx[0] + shift_ind, idx[1]))\n",
    "    edf_pi.index = pd.MultiIndex.from_tuples(new_index, names=edf_mu.index.names)\n",
    "    gdf_pi.index = np.array(gdf_pi.index) + np.array(gdf_mu.index)[-1] + 1\n",
    "\n",
    "    shift_ind = np.array(edf_pi.index.get_level_values(0))[-1] + 1\n",
    "    new_index = edf_ka.index.map(lambda idx: (idx[0] + shift_ind, idx[1]))\n",
    "    edf_ka.index = pd.MultiIndex.from_tuples(new_index, names=edf_pi.index.names)\n",
    "    gdf_ka.index = np.array(gdf_ka.index) + np.array(gdf_pi.index)[-1] + 1\n",
    "\n",
    "\n",
    "    edf_conc = pd.concat([edf_mu, edf_pi, edf_ka])\n",
    "    gdf_conc = pd.concat([gdf_mu, gdf_pi, gdf_ka])\n",
    "    \n",
    "    edf_mu = gdf_mu = edf_ka = gdf_ka = edf_pi = gdf_pi = 0\n",
    "    edf_conc = enforce_float32(edf_conc)"
   ],
   "id": "97e551bceca13bf3",
   "outputs": [
    {
     "name": "stdout",
     "output_type": "stream",
     "text": [
      "(22000, 5)\n",
      "(22000, 3)\n",
      "(21094, 5)\n",
      "(21094, 3)\n",
      "(19993, 5)\n",
      "(19993, 3)\n",
      "(19879, 5)\n",
      "(19879, 3)\n",
      "(19986, 5)\n",
      "(19986, 3)\n",
      "(19861, 5)\n",
      "(19861, 3)\n"
     ]
    }
   ],
   "execution_count": 32
  },
  {
   "metadata": {
    "ExecuteTime": {
     "end_time": "2025-04-10T06:58:45.631651Z",
     "start_time": "2025-04-10T06:58:45.626689Z"
    }
   },
   "cell_type": "code",
   "source": [
    "avg_sigmas = (4, 5)\n",
    "avg_t_sigmas = (4, 5)\n",
    "num_of_groups = 10\n",
    "what_to_group = 'beta'\n",
    "r_width = float(idf.pixel_size.iloc[0]) * 2\n",
    "t_width = 0.25\n",
    "t_step = 0.25\n",
    "r_factor = 2 # not to change\n",
    "t_factor = int(t_width / t_step)\n",
    "weighed = True\n",
    "deg_lim = False\n",
    "param_fit = False\n",
    "useuse_decision_tree = True\n",
    "\n",
    "\n",
    "calibration_func = pol # pol\n",
    "param_calibration_func = pol2_pol2 # d3pol2\n",
    "p0 = (0.9, -5, 340) # (.95, 0, 300) #(.01, 1e-3, 1e-4)\n",
    "p0_c =  (1.219, -0.5588, 0.2946, 864.4, -1922, 1055, -2535, 6572, -3751)\n",
    "num_of_calibration_params = 3 # 3\n",
    "num_of_param_fit_params = 3 # for param fit both prev and this number are important, cal_func as well, therefore p0 and p0_C\n",
    "target_variable = 'beta'\n",
    "target_angle = 'theta_p'\n",
    "num_of_theta_intervals = 11 # 11\n",
    "\n",
    "\n",
    "# sample_size = 12\n",
    "cal_arr = False\n",
    "errs = False\n",
    "\n",
    "beta_sigms = []\n",
    "beta_sigms_yerr = []\n",
    "beta_sigms_deglim = []\n",
    "beta_sigms_yerr_deglim = []\n",
    "\n",
    "\n",
    "r_bins = np.arange(16, 80, step=3.3)\n",
    "r_bins = np.array([[r_bins[i], r_bins[i + 2]] for i in range(len(r_bins) - 2)])\n",
    "t_bins = np.arange(0, 7, step=0.25)\n",
    "t_bins = np.array([[t_bins[i], t_bins[i + 1]] for i in range(len(t_bins) - 1)])\n",
    "\n",
    "background_means_dict = {'1e6': 0.012, '1e5': 0.0015}\n",
    "background_stds_dict = {'1e6': 0.0175, '1e5': 0.0055}\n",
    "\n",
    "background_mean = background_means_dict['1e5']\n",
    "background_std = background_stds_dict['1e5']\n",
    "\n",
    "batch_size = 10000\n",
    "num_of_classes = 4"
   ],
   "id": "90dc0963ea60837d",
   "outputs": [],
   "execution_count": 33
  },
  {
   "metadata": {
    "ExecuteTime": {
     "end_time": "2025-04-10T06:59:51.513158Z",
     "start_time": "2025-04-10T06:58:47.031178Z"
    }
   },
   "cell_type": "code",
   "source": [
    "dcr = '0'\n",
    "print(dcr)\n",
    "timer_start = perf_counter()\n",
    "edf_d = edf_conc.copy()\n",
    "gdf_d = gdf_conc.copy()\n",
    "bdf_d = pd.DataFrame()\n",
    "edf_d = addNoise(idf, edf_d, gdf_d, (0, 7), float(dcr))\n",
    "edf_d = applySpaceCut(edf_d)\n",
    "planeRecalculation(edf_d, idf)\n",
    "planeRotation(edf_d)\n",
    "edf_d = applySecondSpaceCut(edf_d)\n",
    "edf_to_bdf(edf_d.mass, bdf_d)\n",
    "edf_to_bdf(edf_d.true_p, bdf_d)\n",
    "bdf_d.rename(columns={'true_p': 'momentum'}, inplace=True)\n",
    "edf_to_bdf(edf_d.beta, bdf_d)\n",
    "recoAngles(edf_d, idf)\n",
    "primaryDirectionRecalculation(edf_d)\n",
    "\n",
    "recoAngles(edf_d, idf, rotation_mode=True)\n",
    "\n",
    "calculateSignalCounts(edf_d, bdf_d)\n",
    "\n",
    "cal_arr, errs = rSlidingWindow(edf_d, idf, bdf_d, avg_sigmas=avg_sigmas, avg_t_sigmas=avg_t_sigmas, cal_arr=cal_arr, errs=errs, num_of_groups=num_of_groups,\n",
    "                           step=r_width, t_window_width=t_width, r_width_factor=r_factor, t_width_factor=t_factor, weighed=weighed, deg_lim=deg_lim, param_fit=param_fit,\n",
    "                           calibration_func=calibration_func, param_calibration_func=param_calibration_func, num_of_calibration_params=num_of_calibration_params, num_of_param_fit_params=num_of_param_fit_params,\n",
    "                           target_variable=target_variable, target_angle=target_angle, num_of_theta_intervals=num_of_theta_intervals, p0=p0, p0_c=p0_c, what_to_group=what_to_group, use_decision_tree=useuse_decision_tree)\n",
    "    \n",
    "print('Time elapsed on current DCR: ', round(perf_counter() - timer_start))"
   ],
   "id": "dac96e89cb8e3bb3",
   "outputs": [
    {
     "name": "stdout",
     "output_type": "stream",
     "text": [
      "0\n",
      "    Generate noise with DCR per mm^2 0.0, mean number of hits per event: 0.00.\n",
      "Time elapsed on current DCR:  64\n"
     ]
    }
   ],
   "execution_count": 34
  },
  {
   "metadata": {
    "ExecuteTime": {
     "end_time": "2025-04-10T06:59:53.081996Z",
     "start_time": "2025-04-10T06:59:53.075497Z"
    }
   },
   "cell_type": "code",
   "source": "bdf_d = pd.read_pickle(os.path.join('data', 'pickled_bdf_1e5.pkl'))",
   "id": "9e26bbf370a5e93",
   "outputs": [],
   "execution_count": 35
  },
  {
   "metadata": {
    "ExecuteTime": {
     "end_time": "2025-04-03T12:47:43.847428Z",
     "start_time": "2025-04-03T12:47:43.500981Z"
    }
   },
   "cell_type": "code",
   "source": "Ы",
   "id": "db555820962dd616",
   "outputs": [
    {
     "ename": "NameError",
     "evalue": "name 'Ы' is not defined",
     "output_type": "error",
     "traceback": [
      "\u001B[1;31m---------------------------------------------------------------------------\u001B[0m",
      "\u001B[1;31mNameError\u001B[0m                                 Traceback (most recent call last)",
      "Cell \u001B[1;32mIn[31], line 1\u001B[0m\n\u001B[1;32m----> 1\u001B[0m \u001B[43mЫ\u001B[49m\n",
      "\u001B[1;31mNameError\u001B[0m: name 'Ы' is not defined"
     ]
    }
   ],
   "execution_count": 31
  },
  {
   "metadata": {
    "ExecuteTime": {
     "end_time": "2025-04-10T07:25:42.626709Z",
     "start_time": "2025-04-10T07:25:42.623866Z"
    }
   },
   "cell_type": "code",
   "source": "bdf_d['mass'].fillna(0, inplace=True)",
   "id": "b97d94fa79c919cb",
   "outputs": [],
   "execution_count": 36
  },
  {
   "metadata": {
    "ExecuteTime": {
     "end_time": "2025-04-10T07:25:44.677345Z",
     "start_time": "2025-04-10T07:25:44.674258Z"
    }
   },
   "cell_type": "code",
   "source": [
    "import pandas as pd\n",
    "from sklearn.model_selection import train_test_split\n",
    "from sklearn.preprocessing import LabelEncoder\n",
    "from sklearn.metrics import accuracy_score, classification_report, roc_auc_score\n",
    "from sklearn.preprocessing import PolynomialFeatures\n",
    "import xgboost as xgb"
   ],
   "id": "9ec56eaa6692caa9",
   "outputs": [],
   "execution_count": 37
  },
  {
   "metadata": {
    "ExecuteTime": {
     "end_time": "2025-04-10T07:25:46.300344Z",
     "start_time": "2025-04-10T07:25:46.293006Z"
    }
   },
   "cell_type": "code",
   "source": [
    "# Assuming `bdf_d` is your pandas DataFrame\n",
    "# Step 1: Extract features and target\n",
    "X = bdf_d[['momentum', 'unfixed_calculated_r_2d_4_rsigms_4_tsigms', 'theta_p', 'distance']]\n",
    "y = bdf_d['mass']\n",
    "\n",
    "# Step 2: Encode the target variable\n",
    "label_encoder = LabelEncoder()\n",
    "y_encoded = label_encoder.fit_transform(y)  # mass: [139.57 -> 0, 105.65 -> 1]\n",
    "# \n",
    "# poly = PolynomialFeatures(degree=2, include_bias=False)\n",
    "# X_poly = poly.fit_transform(X)\n",
    "\n",
    "# Step 3: Split the data\n",
    "X_train, X_test, y_train, y_test = train_test_split(X, y_encoded, test_size=0.2, random_state=42)"
   ],
   "id": "f0fc4043b6ca27eb",
   "outputs": [],
   "execution_count": 38
  },
  {
   "metadata": {
    "ExecuteTime": {
     "end_time": "2025-04-03T12:47:43.937313800Z",
     "start_time": "2025-03-28T14:48:42.626588Z"
    }
   },
   "cell_type": "code",
   "source": [
    "# Step 4: Initialize and train XGBoost classifier\n",
    "model = xgb.XGBClassifier(\n",
    "    objective='multi:softprob',  # Правильный режим для multi-class\n",
    "    num_class=4,\n",
    "    eval_metric='mlogloss',  # Log loss для многоклассовой задачи\n",
    "    multi_class='ovr',\n",
    "    use_label_encoder=False,\n",
    "    learning_rate=0.1,\n",
    "    n_estimators=1000,\n",
    "    max_depth=5,\n",
    "    min_child_weight=1,\n",
    "    gamma=0,\n",
    "    subsample=0.8,\n",
    "    colsample_bytree=0.8,\n",
    "    seed=42,\n",
    "    nthread=-1,\n",
    ")\n",
    "model.fit(X_train, y_train)\n",
    "\n",
    "# Step 5: Evaluate the model\n",
    "y_pred = model.predict(X_test)\n",
    "accuracy = accuracy_score(y_test, y_pred)\n",
    "print(\"Accuracy:\", accuracy)\n",
    "print(\"Classification Report:\\n\", classification_report(y_test, y_pred))\n",
    "\n",
    "# Optional: Map back predictions to mass values if needed\n",
    "y_pred_mass = label_encoder.inverse_transform(y_pred)\n",
    "\n",
    "X_test['mass'] = label_encoder.inverse_transform(y_test)\n",
    "X_test['mass_reco'] = y_pred_mass"
   ],
   "id": "4c8d37cf89462146",
   "outputs": [
    {
     "name": "stdout",
     "output_type": "stream",
     "text": [
      "Accuracy: 0.9300624589086127\n",
      "Classification Report:\n",
      "               precision    recall  f1-score   support\n",
      "\n",
      "           0       0.91      0.97      0.94      3018\n",
      "           1       0.91      0.93      0.92      3201\n",
      "           2       0.91      0.87      0.89      2976\n",
      "           3       0.99      0.95      0.97      2973\n",
      "\n",
      "    accuracy                           0.93     12168\n",
      "   macro avg       0.93      0.93      0.93     12168\n",
      "weighted avg       0.93      0.93      0.93     12168\n",
      "\n"
     ]
    },
    {
     "ename": "IndexError",
     "evalue": "only integers, slices (`:`), ellipsis (`...`), numpy.newaxis (`None`) and integer or boolean arrays are valid indices",
     "output_type": "error",
     "traceback": [
      "\u001B[1;31m---------------------------------------------------------------------------\u001B[0m",
      "\u001B[1;31mIndexError\u001B[0m                                Traceback (most recent call last)",
      "Cell \u001B[1;32mIn[33], line 29\u001B[0m\n\u001B[0;32m     26\u001B[0m \u001B[38;5;66;03m# Optional: Map back predictions to mass values if needed\u001B[39;00m\n\u001B[0;32m     27\u001B[0m y_pred_mass \u001B[38;5;241m=\u001B[39m label_encoder\u001B[38;5;241m.\u001B[39minverse_transform(y_pred)\n\u001B[1;32m---> 29\u001B[0m \u001B[43mX_test\u001B[49m\u001B[43m[\u001B[49m\u001B[38;5;124;43m'\u001B[39;49m\u001B[38;5;124;43mmass\u001B[39;49m\u001B[38;5;124;43m'\u001B[39;49m\u001B[43m]\u001B[49m \u001B[38;5;241m=\u001B[39m label_encoder\u001B[38;5;241m.\u001B[39minverse_transform(y_test)\n\u001B[0;32m     30\u001B[0m X_test[\u001B[38;5;124m'\u001B[39m\u001B[38;5;124mmass_reco\u001B[39m\u001B[38;5;124m'\u001B[39m] \u001B[38;5;241m=\u001B[39m y_pred_mass\n",
      "\u001B[1;31mIndexError\u001B[0m: only integers, slices (`:`), ellipsis (`...`), numpy.newaxis (`None`) and integer or boolean arrays are valid indices"
     ]
    }
   ],
   "execution_count": 33
  },
  {
   "metadata": {
    "ExecuteTime": {
     "end_time": "2025-04-03T12:47:43.937313800Z",
     "start_time": "2025-03-28T14:49:55.541396Z"
    }
   },
   "cell_type": "code",
   "source": [
    "def modelfit(alg, dtrain, target, use_train_cv=True, cv_folds=5, early_stopping_rounds=50):\n",
    "    \n",
    "    if use_train_cv:\n",
    "        xgb_param = alg.get_xgb_params()\n",
    "        xgtrain = xgb.DMatrix(dtrain, label=target)\n",
    "        cv_result = xgb.cv(\n",
    "            xgb_param, xgtrain,\n",
    "            num_boost_round=alg.get_params()['n_estimators'],\n",
    "            nfold=cv_folds,\n",
    "            metrics='auc',\n",
    "            early_stopping_rounds=early_stopping_rounds,\n",
    "            as_pandas=True\n",
    "        )\n",
    "        alg.set_params(n_estimators=cv_result.shape[0])\n",
    "    \n",
    "    # Обучение модели\n",
    "    alg.fit(dtrain, target)\n",
    "    \n",
    "    # Прогнозирование на обучающем наборе\n",
    "    dtrain_predictions = alg.predict(dtrain)\n",
    "    dtrain_predprob = alg.predict_proba(dtrain)\n",
    "    \n",
    "    # Вывод отчета о модели\n",
    "    print(\"\\nModel Report\")\n",
    "    print(f\"Estimated number of estimators: {alg.get_params()['n_estimators']}\")\n",
    "    print(f\"Accuracy : {accuracy_score(target, dtrain_predictions):.4g}\")\n",
    "    print(f\"AUC Score (Train): {roc_auc_score(target, dtrain_predprob, multi_class='ovr'):.6f}\")\n",
    "    print(\"Classification Report:\\n\", classification_report(target, dtrain_predictions))\n",
    "    # Важность признаков\n",
    "    feat_imp = pd.Series(alg.get_booster().get_score(importance_type='weight')).sort_values(ascending=False)\n",
    "    feat_imp.plot(kind='bar', title='Feature Importances')\n",
    "    plt.ylabel('Feature Importance Score')\n",
    "    plt.show()\n"
   ],
   "id": "65c704104fcc1a21",
   "outputs": [],
   "execution_count": 36
  },
  {
   "metadata": {
    "ExecuteTime": {
     "end_time": "2025-04-03T12:47:43.937313800Z",
     "start_time": "2025-03-28T14:49:58.136274Z"
    }
   },
   "cell_type": "code",
   "source": [
    "\n",
    "modelfit(model, X_train, y_train)"
   ],
   "id": "50cfa9c38f4ab5da",
   "outputs": [
    {
     "name": "stdout",
     "output_type": "stream",
     "text": [
      "\n",
      "Model Report\n",
      "Estimated number of estimators: 225\n",
      "Accuracy : 0.9564\n",
      "AUC Score (Train): 0.997255\n",
      "Classification Report:\n",
      "               precision    recall  f1-score   support\n",
      "\n",
      "           0       0.93      0.99      0.95     12266\n",
      "           1       0.95      0.96      0.96     12673\n",
      "           2       0.96      0.92      0.94     11949\n",
      "           3       0.99      0.96      0.98     11783\n",
      "\n",
      "    accuracy                           0.96     48671\n",
      "   macro avg       0.96      0.96      0.96     48671\n",
      "weighted avg       0.96      0.96      0.96     48671\n",
      "\n"
     ]
    },
    {
     "data": {
      "text/plain": [
       "<Figure size 640x480 with 1 Axes>"
      ],
      "image/png": "[encoded data removed]"
     },
     "metadata": {},
     "output_type": "display_data"
    }
   ],
   "execution_count": 37
  },
  {
   "metadata": {
    "ExecuteTime": {
     "end_time": "2025-04-03T12:47:43.938315500Z",
     "start_time": "2025-03-24T14:30:53.957371Z"
    }
   },
   "cell_type": "code",
   "source": [
    "from sklearn.model_selection import GridSearchCV\n",
    "\n",
    "param_test1 = {\n",
    " 'max_depth':range(1, 10),\n",
    " 'min_child_weight':range(1, 10)\n",
    "}\n",
    "gsearch1 = GridSearchCV(\n",
    "    estimator=xgb.XGBClassifier(\n",
    "        objective='multi:softprob',  # Правильный режим для multi-class\n",
    "        num_class=4,\n",
    "        eval_metric='mlogloss',  # Log loss для многоклассовой задачи\n",
    "        use_label_encoder=False,\n",
    "        learning_rate=0.1,\n",
    "        n_estimators=407,  # Подобрали выше\n",
    "        gamma=0,\n",
    "        subsample=0.8,\n",
    "        colsample_bytree=0.8,\n",
    "        seed=42,\n",
    "        n_jobs=-1  \n",
    "    ),\n",
    "    param_grid=param_test1,\n",
    "    scoring='roc_auc_ovr',  \n",
    "    n_jobs=-1,\n",
    "    cv=5\n",
    ")\n",
    "\n",
    "gsearch1.fit(X_train, y_train)\n",
    "print(gsearch1.best_params_, gsearch1.best_score_)\n"
   ],
   "id": "9ce2e4045324cfc8",
   "outputs": [
    {
     "name": "stdout",
     "output_type": "stream",
     "text": [
      "{'max_depth': 5, 'min_child_weight': 1} 0.9965279639934014\n"
     ]
    }
   ],
   "execution_count": 159
  },
  {
   "metadata": {
    "ExecuteTime": {
     "end_time": "2025-04-03T12:47:43.938315500Z",
     "start_time": "2025-03-24T14:48:09.767169Z"
    }
   },
   "cell_type": "code",
   "source": [
    "param_test2 = {\n",
    " 'gamma': np.linspace(0.5, .7, num=11),\n",
    "}\n",
    "gsearch2 = GridSearchCV(\n",
    "    estimator=xgb.XGBClassifier(\n",
    "        objective='multi:softprob',  # Правильный режим для multi-class\n",
    "        num_class=4,\n",
    "        eval_metric='mlogloss',  # Log loss для многоклассовой задачи\n",
    "        use_label_encoder=False,\n",
    "        learning_rate=0.1,\n",
    "        n_estimators=407,   # Подобрали выше\n",
    "        max_depth=5,        # Подобрали выше\n",
    "        min_child_weight=1, # Подобрали выше\n",
    "        gamma=0,\n",
    "        subsample=0.8,\n",
    "        colsample_bytree=0.8,\n",
    "        seed=42,\n",
    "        n_jobs=-1  \n",
    "    ),\n",
    "    param_grid=param_test2,\n",
    "    scoring='roc_auc_ovr',  \n",
    "    n_jobs=-1,\n",
    "    cv=5\n",
    ")\n",
    "\n",
    "gsearch2.fit(X_train, y_train)\n",
    "print(gsearch2.best_params_, gsearch2.best_score_)"
   ],
   "id": "3a42379d97d0c183",
   "outputs": [
    {
     "name": "stdout",
     "output_type": "stream",
     "text": [
      "{'gamma': 0.6} 0.9965919144515845\n"
     ]
    }
   ],
   "execution_count": 166
  },
  {
   "metadata": {
    "ExecuteTime": {
     "end_time": "2025-04-03T12:47:43.938315500Z",
     "start_time": "2025-03-24T14:51:24.247266Z"
    }
   },
   "cell_type": "code",
   "source": [
    "modelfit(xgb.XGBClassifier(\n",
    "        objective='multi:softprob',  # Правильный режим для multi-class\n",
    "        num_class=4,\n",
    "        eval_metric='mlogloss',  # Log loss для многоклассовой задачи\n",
    "        use_label_encoder=False,\n",
    "        learning_rate=0.1,\n",
    "        n_estimators=1000,   # Подбираем снова\n",
    "        max_depth=5,         # Подобрали выше\n",
    "        min_child_weight=1,  # Подобрали выше\n",
    "        gamma=0.6,           # Подобрали выше\n",
    "        subsample=0.8,\n",
    "        colsample_bytree=0.8,\n",
    "        seed=42,\n",
    "        n_jobs=-1  \n",
    "    ), X_train, y_train)"
   ],
   "id": "c4166adc8ed74e98",
   "outputs": [
    {
     "name": "stdout",
     "output_type": "stream",
     "text": [
      "\n",
      "Model Report\n",
      "Estimated number of estimators: 650\n",
      "Accuracy : 0.9786\n",
      "AUC Score (Train): 0.999271\n",
      "Classification Report:\n",
      "               precision    recall  f1-score   support\n",
      "\n",
      "           0       0.97      1.00      0.98     12289\n",
      "           1       0.97      0.98      0.97     12570\n",
      "           2       0.97      0.96      0.97     11918\n",
      "           3       1.00      0.98      0.99     11887\n",
      "\n",
      "    accuracy                           0.98     48664\n",
      "   macro avg       0.98      0.98      0.98     48664\n",
      "weighted avg       0.98      0.98      0.98     48664\n",
      "\n"
     ]
    }
   ],
   "execution_count": 170
  },
  {
   "metadata": {
    "ExecuteTime": {
     "end_time": "2025-04-03T12:47:43.939314700Z",
     "start_time": "2025-03-24T14:56:52.918905Z"
    }
   },
   "cell_type": "code",
   "source": [
    "param_test3 = {\n",
    "  'subsample':[i/100.0 for i in [85, 90, 95]],\n",
    "  'colsample_bytree':[i/100.0 for i in [75, 80, 85]],\n",
    "}\n",
    "gsearch3 = GridSearchCV(\n",
    "    estimator=xgb.XGBClassifier(\n",
    "        objective='multi:softprob',  # Правильный режим для multi-class\n",
    "        num_class=4,\n",
    "        eval_metric='mlogloss',  # Log loss для многоклассовой задачи\n",
    "        use_label_encoder=False,\n",
    "        learning_rate=0.1,\n",
    "        n_estimators=650,   # Подобрали выше\n",
    "        max_depth=5,        # Подобрали выше\n",
    "        min_child_weight=1, # Подобрали выше\n",
    "        gamma=0.6,          # Подобрали выше\n",
    "        subsample=0.8,\n",
    "        colsample_bytree=0.8,\n",
    "        seed=42,\n",
    "        n_jobs=-1  \n",
    "    ),\n",
    "    param_grid=param_test3,\n",
    "    scoring='roc_auc_ovr',  \n",
    "    n_jobs=-1,\n",
    "    cv=5\n",
    ")\n",
    "\n",
    "gsearch3.fit(X_train, y_train)\n",
    "print(gsearch3.best_params_, gsearch3.best_score_)"
   ],
   "id": "f167276ee67a02da",
   "outputs": [
    {
     "name": "stdout",
     "output_type": "stream",
     "text": [
      "{'colsample_bytree': 0.75, 'subsample': 0.9} 0.9966405653227426\n"
     ]
    }
   ],
   "execution_count": 172
  },
  {
   "metadata": {
    "ExecuteTime": {
     "end_time": "2025-04-03T12:47:43.939314700Z",
     "start_time": "2025-03-24T15:01:41.200546Z"
    }
   },
   "cell_type": "code",
   "source": [
    "param_test4 = {\n",
    "  'reg_alpha':[0.5 * 1e-5, 1e-5, 0.5 * 1e-6, 1e-6, 1e-4]\n",
    "}\n",
    "gsearch4 = GridSearchCV(\n",
    "    estimator=xgb.XGBClassifier(\n",
    "        objective='multi:softprob',  # Правильный режим для multi-class\n",
    "        num_class=4,\n",
    "        eval_metric='mlogloss',  # Log loss для многоклассовой задачи\n",
    "        use_label_encoder=False,\n",
    "        learning_rate=0.1,\n",
    "        n_estimators=650,     # Подобрали выше\n",
    "        max_depth=5,          # Подобрали выше\n",
    "        min_child_weight=1,   # Подобрали выше\n",
    "        gamma=0.6,            # Подобрали выше\n",
    "        subsample=0.9,        # Подобрали выше\n",
    "        colsample_bytree=0.75, # Подобрали выше\n",
    "        seed=42,\n",
    "        n_jobs=-1  \n",
    "    ),\n",
    "    param_grid=param_test4,\n",
    "    scoring='roc_auc_ovr',  \n",
    "    n_jobs=-1,\n",
    "    cv=5\n",
    ")\n",
    "\n",
    "gsearch4.fit(X_train, y_train)\n",
    "print(gsearch4.best_params_, gsearch4.best_score_)"
   ],
   "id": "c76d00586d320acb",
   "outputs": [
    {
     "name": "stdout",
     "output_type": "stream",
     "text": [
      "{'reg_alpha': 1e-05} 0.9966583745976845\n"
     ]
    }
   ],
   "execution_count": 174
  },
  {
   "metadata": {
    "ExecuteTime": {
     "end_time": "2025-04-03T12:47:43.939314700Z",
     "start_time": "2025-03-24T15:05:28.948699Z"
    }
   },
   "cell_type": "code",
   "source": [
    "modelfit(xgb.XGBClassifier(\n",
    "        objective='multi:softprob',  # Правильный режим для multi-class\n",
    "        num_class=4,\n",
    "        eval_metric='mlogloss',  # Log loss для многоклассовой задачи\n",
    "        use_label_encoder=False,\n",
    "        learning_rate=0.01,     # Уменьшили\n",
    "        n_estimators=10000,      # Подбираем снова\n",
    "        max_depth=5,           # Подобрали выше\n",
    "        min_child_weight=1,    # Подобрали выше\n",
    "        gamma=0.6,             # Подобрали выше\n",
    "        subsample=0.9,         # Подобрали выше\n",
    "        colsample_bytree=0.75, # Подобрали выше\n",
    "        reg_alpha=1e-5,        # Подобрали выше\n",
    "        seed=42,\n",
    "        n_jobs=-1  \n",
    "    ), X_train, y_train)"
   ],
   "id": "d78dcb283282526b",
   "outputs": [
    {
     "name": "stdout",
     "output_type": "stream",
     "text": [
      "\n",
      "Model Report\n",
      "Estimated number of estimators: 6884\n",
      "Accuracy : 0.9773\n",
      "AUC Score (Train): 0.999131\n",
      "Classification Report:\n",
      "               precision    recall  f1-score   support\n",
      "\n",
      "           0       0.97      1.00      0.98     12289\n",
      "           1       0.97      0.98      0.97     12570\n",
      "           2       0.97      0.96      0.97     11918\n",
      "           3       1.00      0.98      0.99     11887\n",
      "\n",
      "    accuracy                           0.98     48664\n",
      "   macro avg       0.98      0.98      0.98     48664\n",
      "weighted avg       0.98      0.98      0.98     48664\n",
      "\n"
     ]
    }
   ],
   "execution_count": 177
  },
  {
   "metadata": {
    "ExecuteTime": {
     "end_time": "2025-04-10T07:25:55.880851Z",
     "start_time": "2025-04-10T07:25:53.211679Z"
    }
   },
   "cell_type": "code",
   "source": [
    "model = xgb.XGBClassifier(\n",
    "    objective='multi:softprob',  # Правильный режим для multi-class\n",
    "    num_class=4,\n",
    "    eval_metric='mlogloss',  # Log loss для многоклассовой задачи\n",
    "    use_label_encoder=False,\n",
    "    learning_rate=0.1,     \n",
    "    n_estimators=650,      # Подбираем снова\n",
    "    max_depth=5,           # Подобрали выше\n",
    "    min_child_weight=1,    # Подобрали выше\n",
    "    gamma=0.6,             # Подобрали выше\n",
    "    subsample=0.9,         # Подобрали выше\n",
    "    colsample_bytree=0.75, # Подобрали выше\n",
    "    reg_alpha=1e-5,        # Подобрали выше\n",
    "    seed=42,\n",
    "    n_jobs=-1  \n",
    ")\n",
    "model.fit(X_train, y_train)\n",
    "\n",
    "# Step 5: Evaluate the model\n",
    "y_pred = model.predict(X_test[['momentum', 'unfixed_calculated_r_2d_4_rsigms_4_tsigms', 'theta_p', 'distance']])\n",
    "accuracy = accuracy_score(y_test, y_pred)\n",
    "print(\"Accuracy:\", accuracy)\n",
    "print(\"Classification Report:\\n\", classification_report(y_test, y_pred))\n",
    "\n",
    "# Optional: Map back predictions to mass values if needed\n",
    "y_pred_mass = label_encoder.inverse_transform(y_pred)\n",
    "\n",
    "X_test['mass'] = label_encoder.inverse_transform(y_test)\n",
    "X_test['mass_reco'] = y_pred_mass"
   ],
   "id": "402c49445f0d984f",
   "outputs": [
    {
     "name": "stdout",
     "output_type": "stream",
     "text": [
      "Accuracy: 0.9596416241985862\n",
      "Classification Report:\n",
      "               precision    recall  f1-score   support\n",
      "\n",
      "           0       0.96      0.99      0.98      2993\n",
      "           1       0.95      0.94      0.94      3282\n",
      "           2       0.93      0.93      0.93      2968\n",
      "           3       1.00      0.97      0.99      2923\n",
      "\n",
      "    accuracy                           0.96     12166\n",
      "   macro avg       0.96      0.96      0.96     12166\n",
      "weighted avg       0.96      0.96      0.96     12166\n",
      "\n"
     ]
    }
   ],
   "execution_count": 39
  },
  {
   "metadata": {
    "ExecuteTime": {
     "end_time": "2025-04-08T14:39:42.870506Z",
     "start_time": "2025-04-08T14:39:42.819043Z"
    }
   },
   "cell_type": "code",
   "source": [
    "plt.hist(X_test.momentum, bins='auto')\n",
    "plt.show()"
   ],
   "id": "bb590059597d5174",
   "outputs": [
    {
     "data": {
      "text/plain": [
       "<Figure size 640x480 with 1 Axes>"
      ],
      "image/png": "[encoded data removed]"
     },
     "metadata": {},
     "output_type": "display_data"
    }
   ],
   "execution_count": 38
  },
  {
   "metadata": {
    "ExecuteTime": {
     "end_time": "2025-04-03T13:17:52.912377Z",
     "start_time": "2025-04-03T13:17:52.906040Z"
    }
   },
   "cell_type": "code",
   "source": "X_test",
   "id": "d37ce62110d41ca2",
   "outputs": [
    {
     "data": {
      "text/plain": [
       "          momentum  unfixed_calculated_r_2d_4_rsigms_4_tsigms   theta_p  \\\n",
       "24221   543.753723                                  28.182239  0.174442   \n",
       "38845  2844.643311                                  60.032837  0.719279   \n",
       "8854   3011.468018                                  19.164121  0.440068   \n",
       "40472  2073.844971                                  33.532218  0.091515   \n",
       "8489    809.658936                                  67.438866  0.782710   \n",
       "...            ...                                        ...       ...   \n",
       "55292  1963.284546                                  29.271972  0.251942   \n",
       "20788   573.239380                                  22.038079  0.776762   \n",
       "26772   606.456787                                  44.370106  0.269527   \n",
       "14277  1893.974121                                  28.668418  0.099613   \n",
       "41391   413.589691                                  31.924001  0.488975   \n",
       "\n",
       "        distance        mass   mass_reco  \n",
       "24221  24.754599  139.570007  139.570007  \n",
       "38845  23.200367  493.679993  493.679993  \n",
       "8854    5.235825    0.000000    0.000000  \n",
       "40472  31.237670  493.679993  493.679993  \n",
       "8489   16.750386  105.650002  105.650002  \n",
       "...          ...         ...         ...  \n",
       "55292  30.962637  493.679993  493.679993  \n",
       "20788   5.235825    0.000000    0.000000  \n",
       "26772  31.824445  105.650002  105.650002  \n",
       "14277  20.840705  493.679993  493.679993  \n",
       "41391   6.621556  105.650002  105.650002  \n",
       "\n",
       "[12168 rows x 6 columns]"
      ],
      "text/html": [
       "<div>\n",
       "<style scoped>\n",
       "    .dataframe tbody tr th:only-of-type {\n",
       "        vertical-align: middle;\n",
       "    }\n",
       "\n",
       "    .dataframe tbody tr th {\n",
       "        vertical-align: top;\n",
       "    }\n",
       "\n",
       "    .dataframe thead th {\n",
       "        text-align: right;\n",
       "    }\n",
       "</style>\n",
       "<table border=\"1\" class=\"dataframe\">\n",
       "  <thead>\n",
       "    <tr style=\"text-align: right;\">\n",
       "      <th></th>\n",
       "      <th>momentum</th>\n",
       "      <th>unfixed_calculated_r_2d_4_rsigms_4_tsigms</th>\n",
       "      <th>theta_p</th>\n",
       "      <th>distance</th>\n",
       "      <th>mass</th>\n",
       "      <th>mass_reco</th>\n",
       "    </tr>\n",
       "  </thead>\n",
       "  <tbody>\n",
       "    <tr>\n",
       "      <th>24221</th>\n",
       "      <td>543.753723</td>\n",
       "      <td>28.182239</td>\n",
       "      <td>0.174442</td>\n",
       "      <td>24.754599</td>\n",
       "      <td>139.570007</td>\n",
       "      <td>139.570007</td>\n",
       "    </tr>\n",
       "    <tr>\n",
       "      <th>38845</th>\n",
       "      <td>2844.643311</td>\n",
       "      <td>60.032837</td>\n",
       "      <td>0.719279</td>\n",
       "      <td>23.200367</td>\n",
       "      <td>493.679993</td>\n",
       "      <td>493.679993</td>\n",
       "    </tr>\n",
       "    <tr>\n",
       "      <th>8854</th>\n",
       "      <td>3011.468018</td>\n",
       "      <td>19.164121</td>\n",
       "      <td>0.440068</td>\n",
       "      <td>5.235825</td>\n",
       "      <td>0.000000</td>\n",
       "      <td>0.000000</td>\n",
       "    </tr>\n",
       "    <tr>\n",
       "      <th>40472</th>\n",
       "      <td>2073.844971</td>\n",
       "      <td>33.532218</td>\n",
       "      <td>0.091515</td>\n",
       "      <td>31.237670</td>\n",
       "      <td>493.679993</td>\n",
       "      <td>493.679993</td>\n",
       "    </tr>\n",
       "    <tr>\n",
       "      <th>8489</th>\n",
       "      <td>809.658936</td>\n",
       "      <td>67.438866</td>\n",
       "      <td>0.782710</td>\n",
       "      <td>16.750386</td>\n",
       "      <td>105.650002</td>\n",
       "      <td>105.650002</td>\n",
       "    </tr>\n",
       "    <tr>\n",
       "      <th>...</th>\n",
       "      <td>...</td>\n",
       "      <td>...</td>\n",
       "      <td>...</td>\n",
       "      <td>...</td>\n",
       "      <td>...</td>\n",
       "      <td>...</td>\n",
       "    </tr>\n",
       "    <tr>\n",
       "      <th>55292</th>\n",
       "      <td>1963.284546</td>\n",
       "      <td>29.271972</td>\n",
       "      <td>0.251942</td>\n",
       "      <td>30.962637</td>\n",
       "      <td>493.679993</td>\n",
       "      <td>493.679993</td>\n",
       "    </tr>\n",
       "    <tr>\n",
       "      <th>20788</th>\n",
       "      <td>573.239380</td>\n",
       "      <td>22.038079</td>\n",
       "      <td>0.776762</td>\n",
       "      <td>5.235825</td>\n",
       "      <td>0.000000</td>\n",
       "      <td>0.000000</td>\n",
       "    </tr>\n",
       "    <tr>\n",
       "      <th>26772</th>\n",
       "      <td>606.456787</td>\n",
       "      <td>44.370106</td>\n",
       "      <td>0.269527</td>\n",
       "      <td>31.824445</td>\n",
       "      <td>105.650002</td>\n",
       "      <td>105.650002</td>\n",
       "    </tr>\n",
       "    <tr>\n",
       "      <th>14277</th>\n",
       "      <td>1893.974121</td>\n",
       "      <td>28.668418</td>\n",
       "      <td>0.099613</td>\n",
       "      <td>20.840705</td>\n",
       "      <td>493.679993</td>\n",
       "      <td>493.679993</td>\n",
       "    </tr>\n",
       "    <tr>\n",
       "      <th>41391</th>\n",
       "      <td>413.589691</td>\n",
       "      <td>31.924001</td>\n",
       "      <td>0.488975</td>\n",
       "      <td>6.621556</td>\n",
       "      <td>105.650002</td>\n",
       "      <td>105.650002</td>\n",
       "    </tr>\n",
       "  </tbody>\n",
       "</table>\n",
       "<p>12168 rows × 6 columns</p>\n",
       "</div>"
      ]
     },
     "execution_count": 43,
     "metadata": {},
     "output_type": "execute_result"
    }
   ],
   "execution_count": 43
  },
  {
   "metadata": {
    "ExecuteTime": {
     "end_time": "2025-04-08T14:39:48.037959Z",
     "start_time": "2025-04-08T14:39:47.913434Z"
    }
   },
   "cell_type": "code",
   "source": [
    "cm = confusion_matrix(label_encoder.transform(X_test[X_test.momentum > 1500].mass), model.predict(X_test[X_test.momentum > 1500][['momentum', 'unfixed_calculated_r_2d_4_rsigms_4_tsigms', 'theta_p', 'distance']]))\n",
    "cm_normalized = cm.astype('float') / cm.sum(axis=1)[:, np.newaxis]\n",
    "\n",
    "class_names = ['Background', 'Mu', 'Pi', 'Ka']\n",
    "# Plotting using seaborn\n",
    "plt.figure(figsize=(8, 6))\n",
    "sns.heatmap(cm_normalized, annot=True, fmt='.2f', cmap='Blues', xticklabels=class_names, yticklabels=class_names)\n",
    "plt.xlabel('Predicted')\n",
    "plt.ylabel('Actual')\n",
    "plt.title('Confusion Matrix')\n",
    "plt.show()"
   ],
   "id": "942336e5c4d34098",
   "outputs": [
    {
     "data": {
      "text/plain": [
       "<Figure size 800x600 with 2 Axes>"
      ],
      "image/png": "[encoded data removed]"
     },
     "metadata": {},
     "output_type": "display_data"
    }
   ],
   "execution_count": 39
  },
  {
   "metadata": {
    "ExecuteTime": {
     "end_time": "2025-04-10T07:26:05.456054Z",
     "start_time": "2025-04-10T07:26:05.381992Z"
    }
   },
   "cell_type": "code",
   "source": [
    "cm = confusion_matrix(y_test, y_pred)\n",
    "cm_normalized = cm.astype('float') / cm.sum(axis=1)[:, np.newaxis]\n",
    "\n",
    "class_names = ['Background', 'Mu', 'Pi', 'Ka']\n",
    "# Plotting using seaborn\n",
    "plt.figure(figsize=(8, 6))\n",
    "sns.heatmap(cm_normalized, annot=True, fmt='.2f', cmap='Blues', xticklabels=class_names, yticklabels=class_names)\n",
    "plt.xlabel('Predicted')\n",
    "plt.ylabel('Actual')\n",
    "plt.title('Confusion Matrix')\n",
    "plt.show()"
   ],
   "id": "bf6c66a7a475d997",
   "outputs": [
    {
     "data": {
      "text/plain": [
       "<Figure size 800x600 with 2 Axes>"
      ],
      "image/png": "[encoded data removed]"
     },
     "metadata": {},
     "output_type": "display_data"
    }
   ],
   "execution_count": 40
  },
  {
   "metadata": {
    "ExecuteTime": {
     "end_time": "2025-04-10T07:26:13.584613Z",
     "start_time": "2025-04-10T07:26:13.181034Z"
    }
   },
   "cell_type": "code",
   "source": [
    "X_test[['bckg_proba', 'mu_proba', 'pi_proba', 'ka_proba']] = model.predict_proba(X_test[['momentum', 'unfixed_calculated_r_2d_4_rsigms_4_tsigms', 'theta_p', 'distance']])\n",
    "bdf_d[['bckg_proba', 'mu_proba', 'pi_proba', 'ka_proba']] = model.predict_proba(bdf_d[['momentum', 'unfixed_calculated_r_2d_4_rsigms_4_tsigms', 'theta_p', 'distance']])\n",
    "bdf_d['mass_reco'] = label_encoder.inverse_transform(model.predict(X))"
   ],
   "id": "3b7160408104bae5",
   "outputs": [],
   "execution_count": 41
  },
  {
   "metadata": {
    "ExecuteTime": {
     "end_time": "2025-04-10T07:26:20.695368Z",
     "start_time": "2025-04-10T07:26:13.600121Z"
    }
   },
   "cell_type": "code",
   "source": "edf, bdf, gdf, main_angles_tmp = create_edf_decay('decay_test_KMuKPi.root')",
   "id": "3b529c2b7fe16a88",
   "outputs": [
    {
     "name": "stdout",
     "output_type": "stream",
     "text": [
      "(9558, 5)\n",
      "(9558, 3)\n"
     ]
    }
   ],
   "execution_count": 42
  },
  {
   "metadata": {
    "ExecuteTime": {
     "end_time": "2025-04-09T10:43:43.889775Z",
     "start_time": "2025-04-09T10:43:43.881284Z"
    }
   },
   "cell_type": "code",
   "source": "edf",
   "id": "13c7fad63c60cf55",
   "outputs": [
    {
     "data": {
      "text/plain": [
       "                       x_c     z_c      y_c       t_c         x_i  \\\n",
       "entry subentry                                                      \n",
       "0     0        -115.519869  1000.0   -45.92  0.633000 -116.801336   \n",
       "1     0         109.600131  1000.0   491.68  0.633000  109.342627   \n",
       "2     0         348.160131  1000.0   508.48  0.645435   77.452963   \n",
       "      1         348.160131  1000.0   505.12  0.638071   77.452963   \n",
       "3     0          99.520131  1000.0   488.32  0.663500  114.012507   \n",
       "...                    ...     ...      ...       ...         ...   \n",
       "9557  14        -21.439869  1000.0  1167.04  0.681934  -43.032831   \n",
       "      15          5.440131  1000.0  1187.20  0.771532  -43.032831   \n",
       "      16         12.160131  1000.0  1193.92  0.781055  -43.032831   \n",
       "      17          2.080131  1000.0  1187.20  0.768810  -43.032831   \n",
       "      18        -11.359869  1000.0  1173.76  0.716894  -43.032831   \n",
       "\n",
       "                        y_i    mass      true_p      beta  x_p  y_p  z_p  \\\n",
       "entry subentry                                                             \n",
       "0     0          -45.765738  493.68  754.237978  0.836703  0.0  0.0  0.0   \n",
       "1     0          494.609080  139.57  284.533490  0.897805  0.0  0.0  0.0   \n",
       "2     0         -968.471110  493.68  852.305574  0.865321  0.0  0.0  0.0   \n",
       "      1         -968.471110  493.68  852.305574  0.865321  0.0  0.0  0.0   \n",
       "3     0          499.266831  105.65  369.318512  0.961434  0.0  0.0  0.0   \n",
       "...                     ...     ...         ...       ...  ...  ...  ...   \n",
       "9557  14        1242.766813  105.65  619.843165  0.985783  0.0  0.0  0.0   \n",
       "      15        1242.766813  105.65  619.843165  0.985783  0.0  0.0  0.0   \n",
       "      16        1242.766813  105.65  619.843165  0.985783  0.0  0.0  0.0   \n",
       "      17        1242.766813  105.65  619.843165  0.985783  0.0  0.0  0.0   \n",
       "      18        1242.766813  105.65  619.843165  0.985783  0.0  0.0  0.0   \n",
       "\n",
       "                    nx_p      ny_p      nz_p  \n",
       "entry subentry                                \n",
       "0     0        -0.115893 -0.045410  0.992223  \n",
       "1     0         0.097542  0.441230  0.892077  \n",
       "2     0         0.055552 -0.694618  0.717231  \n",
       "      1         0.055552 -0.694618  0.717231  \n",
       "3     0         0.101479  0.444383  0.890071  \n",
       "...                  ...       ...       ...  \n",
       "9557  14       -0.026968  0.778813  0.626676  \n",
       "      15       -0.026968  0.778813  0.626676  \n",
       "      16       -0.026968  0.778813  0.626676  \n",
       "      17       -0.026968  0.778813  0.626676  \n",
       "      18       -0.026968  0.778813  0.626676  \n",
       "\n",
       "[185151 rows x 15 columns]"
      ],
      "text/html": [
       "<div>\n",
       "<style scoped>\n",
       "    .dataframe tbody tr th:only-of-type {\n",
       "        vertical-align: middle;\n",
       "    }\n",
       "\n",
       "    .dataframe tbody tr th {\n",
       "        vertical-align: top;\n",
       "    }\n",
       "\n",
       "    .dataframe thead th {\n",
       "        text-align: right;\n",
       "    }\n",
       "</style>\n",
       "<table border=\"1\" class=\"dataframe\">\n",
       "  <thead>\n",
       "    <tr style=\"text-align: right;\">\n",
       "      <th></th>\n",
       "      <th></th>\n",
       "      <th>x_c</th>\n",
       "      <th>z_c</th>\n",
       "      <th>y_c</th>\n",
       "      <th>t_c</th>\n",
       "      <th>x_i</th>\n",
       "      <th>y_i</th>\n",
       "      <th>mass</th>\n",
       "      <th>true_p</th>\n",
       "      <th>beta</th>\n",
       "      <th>x_p</th>\n",
       "      <th>y_p</th>\n",
       "      <th>z_p</th>\n",
       "      <th>nx_p</th>\n",
       "      <th>ny_p</th>\n",
       "      <th>nz_p</th>\n",
       "    </tr>\n",
       "    <tr>\n",
       "      <th>entry</th>\n",
       "      <th>subentry</th>\n",
       "      <th></th>\n",
       "      <th></th>\n",
       "      <th></th>\n",
       "      <th></th>\n",
       "      <th></th>\n",
       "      <th></th>\n",
       "      <th></th>\n",
       "      <th></th>\n",
       "      <th></th>\n",
       "      <th></th>\n",
       "      <th></th>\n",
       "      <th></th>\n",
       "      <th></th>\n",
       "      <th></th>\n",
       "      <th></th>\n",
       "    </tr>\n",
       "  </thead>\n",
       "  <tbody>\n",
       "    <tr>\n",
       "      <th>0</th>\n",
       "      <th>0</th>\n",
       "      <td>-115.519869</td>\n",
       "      <td>1000.0</td>\n",
       "      <td>-45.92</td>\n",
       "      <td>0.633000</td>\n",
       "      <td>-116.801336</td>\n",
       "      <td>-45.765738</td>\n",
       "      <td>493.68</td>\n",
       "      <td>754.237978</td>\n",
       "      <td>0.836703</td>\n",
       "      <td>0.0</td>\n",
       "      <td>0.0</td>\n",
       "      <td>0.0</td>\n",
       "      <td>-0.115893</td>\n",
       "      <td>-0.045410</td>\n",
       "      <td>0.992223</td>\n",
       "    </tr>\n",
       "    <tr>\n",
       "      <th>1</th>\n",
       "      <th>0</th>\n",
       "      <td>109.600131</td>\n",
       "      <td>1000.0</td>\n",
       "      <td>491.68</td>\n",
       "      <td>0.633000</td>\n",
       "      <td>109.342627</td>\n",
       "      <td>494.609080</td>\n",
       "      <td>139.57</td>\n",
       "      <td>284.533490</td>\n",
       "      <td>0.897805</td>\n",
       "      <td>0.0</td>\n",
       "      <td>0.0</td>\n",
       "      <td>0.0</td>\n",
       "      <td>0.097542</td>\n",
       "      <td>0.441230</td>\n",
       "      <td>0.892077</td>\n",
       "    </tr>\n",
       "    <tr>\n",
       "      <th rowspan=\"2\" valign=\"top\">2</th>\n",
       "      <th>0</th>\n",
       "      <td>348.160131</td>\n",
       "      <td>1000.0</td>\n",
       "      <td>508.48</td>\n",
       "      <td>0.645435</td>\n",
       "      <td>77.452963</td>\n",
       "      <td>-968.471110</td>\n",
       "      <td>493.68</td>\n",
       "      <td>852.305574</td>\n",
       "      <td>0.865321</td>\n",
       "      <td>0.0</td>\n",
       "      <td>0.0</td>\n",
       "      <td>0.0</td>\n",
       "      <td>0.055552</td>\n",
       "      <td>-0.694618</td>\n",
       "      <td>0.717231</td>\n",
       "    </tr>\n",
       "    <tr>\n",
       "      <th>1</th>\n",
       "      <td>348.160131</td>\n",
       "      <td>1000.0</td>\n",
       "      <td>505.12</td>\n",
       "      <td>0.638071</td>\n",
       "      <td>77.452963</td>\n",
       "      <td>-968.471110</td>\n",
       "      <td>493.68</td>\n",
       "      <td>852.305574</td>\n",
       "      <td>0.865321</td>\n",
       "      <td>0.0</td>\n",
       "      <td>0.0</td>\n",
       "      <td>0.0</td>\n",
       "      <td>0.055552</td>\n",
       "      <td>-0.694618</td>\n",
       "      <td>0.717231</td>\n",
       "    </tr>\n",
       "    <tr>\n",
       "      <th>3</th>\n",
       "      <th>0</th>\n",
       "      <td>99.520131</td>\n",
       "      <td>1000.0</td>\n",
       "      <td>488.32</td>\n",
       "      <td>0.663500</td>\n",
       "      <td>114.012507</td>\n",
       "      <td>499.266831</td>\n",
       "      <td>105.65</td>\n",
       "      <td>369.318512</td>\n",
       "      <td>0.961434</td>\n",
       "      <td>0.0</td>\n",
       "      <td>0.0</td>\n",
       "      <td>0.0</td>\n",
       "      <td>0.101479</td>\n",
       "      <td>0.444383</td>\n",
       "      <td>0.890071</td>\n",
       "    </tr>\n",
       "    <tr>\n",
       "      <th>...</th>\n",
       "      <th>...</th>\n",
       "      <td>...</td>\n",
       "      <td>...</td>\n",
       "      <td>...</td>\n",
       "      <td>...</td>\n",
       "      <td>...</td>\n",
       "      <td>...</td>\n",
       "      <td>...</td>\n",
       "      <td>...</td>\n",
       "      <td>...</td>\n",
       "      <td>...</td>\n",
       "      <td>...</td>\n",
       "      <td>...</td>\n",
       "      <td>...</td>\n",
       "      <td>...</td>\n",
       "      <td>...</td>\n",
       "    </tr>\n",
       "    <tr>\n",
       "      <th rowspan=\"5\" valign=\"top\">9557</th>\n",
       "      <th>14</th>\n",
       "      <td>-21.439869</td>\n",
       "      <td>1000.0</td>\n",
       "      <td>1167.04</td>\n",
       "      <td>0.681934</td>\n",
       "      <td>-43.032831</td>\n",
       "      <td>1242.766813</td>\n",
       "      <td>105.65</td>\n",
       "      <td>619.843165</td>\n",
       "      <td>0.985783</td>\n",
       "      <td>0.0</td>\n",
       "      <td>0.0</td>\n",
       "      <td>0.0</td>\n",
       "      <td>-0.026968</td>\n",
       "      <td>0.778813</td>\n",
       "      <td>0.626676</td>\n",
       "    </tr>\n",
       "    <tr>\n",
       "      <th>15</th>\n",
       "      <td>5.440131</td>\n",
       "      <td>1000.0</td>\n",
       "      <td>1187.20</td>\n",
       "      <td>0.771532</td>\n",
       "      <td>-43.032831</td>\n",
       "      <td>1242.766813</td>\n",
       "      <td>105.65</td>\n",
       "      <td>619.843165</td>\n",
       "      <td>0.985783</td>\n",
       "      <td>0.0</td>\n",
       "      <td>0.0</td>\n",
       "      <td>0.0</td>\n",
       "      <td>-0.026968</td>\n",
       "      <td>0.778813</td>\n",
       "      <td>0.626676</td>\n",
       "    </tr>\n",
       "    <tr>\n",
       "      <th>16</th>\n",
       "      <td>12.160131</td>\n",
       "      <td>1000.0</td>\n",
       "      <td>1193.92</td>\n",
       "      <td>0.781055</td>\n",
       "      <td>-43.032831</td>\n",
       "      <td>1242.766813</td>\n",
       "      <td>105.65</td>\n",
       "      <td>619.843165</td>\n",
       "      <td>0.985783</td>\n",
       "      <td>0.0</td>\n",
       "      <td>0.0</td>\n",
       "      <td>0.0</td>\n",
       "      <td>-0.026968</td>\n",
       "      <td>0.778813</td>\n",
       "      <td>0.626676</td>\n",
       "    </tr>\n",
       "    <tr>\n",
       "      <th>17</th>\n",
       "      <td>2.080131</td>\n",
       "      <td>1000.0</td>\n",
       "      <td>1187.20</td>\n",
       "      <td>0.768810</td>\n",
       "      <td>-43.032831</td>\n",
       "      <td>1242.766813</td>\n",
       "      <td>105.65</td>\n",
       "      <td>619.843165</td>\n",
       "      <td>0.985783</td>\n",
       "      <td>0.0</td>\n",
       "      <td>0.0</td>\n",
       "      <td>0.0</td>\n",
       "      <td>-0.026968</td>\n",
       "      <td>0.778813</td>\n",
       "      <td>0.626676</td>\n",
       "    </tr>\n",
       "    <tr>\n",
       "      <th>18</th>\n",
       "      <td>-11.359869</td>\n",
       "      <td>1000.0</td>\n",
       "      <td>1173.76</td>\n",
       "      <td>0.716894</td>\n",
       "      <td>-43.032831</td>\n",
       "      <td>1242.766813</td>\n",
       "      <td>105.65</td>\n",
       "      <td>619.843165</td>\n",
       "      <td>0.985783</td>\n",
       "      <td>0.0</td>\n",
       "      <td>0.0</td>\n",
       "      <td>0.0</td>\n",
       "      <td>-0.026968</td>\n",
       "      <td>0.778813</td>\n",
       "      <td>0.626676</td>\n",
       "    </tr>\n",
       "  </tbody>\n",
       "</table>\n",
       "<p>185151 rows × 15 columns</p>\n",
       "</div>"
      ]
     },
     "execution_count": 57,
     "metadata": {},
     "output_type": "execute_result"
    }
   ],
   "execution_count": 57
  },
  {
   "metadata": {
    "ExecuteTime": {
     "end_time": "2025-04-08T15:31:48.050932Z",
     "start_time": "2025-04-08T15:31:48.047782Z"
    }
   },
   "cell_type": "code",
   "source": "np.random.permutation(gdf.index.shape[0]).shape[0]",
   "id": "bc14a0b99ce6525d",
   "outputs": [
    {
     "data": {
      "text/plain": [
       "9558"
      ]
     },
     "execution_count": 75,
     "metadata": {},
     "output_type": "execute_result"
    }
   ],
   "execution_count": 75
  },
  {
   "metadata": {
    "ExecuteTime": {
     "end_time": "2025-04-10T07:26:24.848048Z",
     "start_time": "2025-04-10T07:26:24.845993Z"
    }
   },
   "cell_type": "code",
   "source": "batch_size=10000",
   "id": "41d89c5c3dfbf5cd",
   "outputs": [],
   "execution_count": 43
  },
  {
   "metadata": {
    "ExecuteTime": {
     "end_time": "2025-04-10T07:26:55.925296Z",
     "start_time": "2025-04-10T07:26:26.789764Z"
    }
   },
   "cell_type": "code",
   "source": [
    "for dcr in  ['1e5'] : # ['0', '1e3', '1e4', '1e5', '1e6']\n",
    "    print(dcr)\n",
    "    timer_start = perf_counter()\n",
    "\n",
    "    sample_idx = np.array(sorted(np.random.permutation(gdf.index.shape[0])))\n",
    "    \n",
    "    max_iter = int(np.ceil(sample_idx.shape[0] / batch_size))\n",
    "    print(max_iter)\n",
    "    \n",
    "    for sample in range(max_iter):\n",
    "        sample_timer = perf_counter()\n",
    "        if sample == max_iter - 1:\n",
    "            sample_ind = sample_idx[batch_size * sample :]\n",
    "            batch_size = sample_idx.shape[0] - batch_size * sample\n",
    "        else:\n",
    "            sample_ind = sample_idx[batch_size * sample : batch_size * (sample + 1)]\n",
    "            \n",
    "        edf_d = edf.loc[sample_ind]\n",
    "        gdf_d = gdf.loc[sample_ind]\n",
    "    \n",
    "        index_map = dict(zip(np.array(gdf_d.index), np.linspace(0, batch_size - 1, batch_size, dtype=np.int16)))\n",
    "        new_new_index = edf_d.index.map(lambda idx: (index_map[idx[0]], idx[1]))\n",
    "        edf_d.index = pd.MultiIndex.from_tuples(new_new_index, names=edf_d.index.names)\n",
    "        gdf_d.index = np.linspace(0, batch_size - 1, batch_size, dtype=np.int16)\n",
    "    \n",
    "    \n",
    "        bdf = pd.DataFrame()\n",
    "        edf_d = addNoise(idf, edf_d, gdf_d, (0, 7), float(dcr))\n",
    "        edf_d = enforce_float32(edf_d)\n",
    "\n",
    "        # sample_ind_2 = np.random.choice(gdf_d.index, size=int(np.ceil(batch_size / num_of_classes)), replace=False)\n",
    "        # edf_slice = edf_d.loc[(sample_ind_2)]\n",
    "        # edf_d.loc[sample_ind_2] = edf_slice[edf_slice.signal == False] \n",
    "        # \n",
    "        edf_to_bdf(edf_d.mass, bdf)\n",
    "        edf_d = applySpaceCut(edf_d)\n",
    "        planeRecalculation(edf_d, idf)\n",
    "        planeRotation(edf_d)\n",
    "        edf_d = applySecondSpaceCut(edf_d)\n",
    "        \n",
    "        print(np.unique(bdf.mass, return_counts=True))\n",
    "        edf_to_bdf(edf_d.true_p, bdf)\n",
    "        bdf.rename(columns={'true_p': 'momentum'}, inplace=True)\n",
    "        edf_to_bdf(edf_d.beta, bdf)\n",
    "        recoAngles(edf_d, idf, for_decay=True)\n",
    "        primaryDirectionRecalculation(edf_d)\n",
    "        \n",
    "        recoAngles(edf_d, idf, rotation_mode=True, for_decay=True)\n",
    "        \n",
    "        calculateSignalCounts(edf_d, bdf)\n",
    "        edf_d = enforce_float32(edf_d)\n",
    "        cal_arr, errs = rSlidingWindow(edf_d, idf, bdf, avg_sigmas=avg_sigmas, avg_t_sigmas=avg_t_sigmas, cal_arr=cal_arr, errs=errs, num_of_groups=num_of_groups,\n",
    "                                   step=r_width, t_window_width=t_width, r_width_factor=r_factor, t_width_factor=t_factor, weighed=weighed, deg_lim=deg_lim, param_fit=param_fit,\n",
    "                                   calibration_func=calibration_func, param_calibration_func=param_calibration_func, num_of_calibration_params=num_of_calibration_params, num_of_param_fit_params=num_of_param_fit_params,\n",
    "                                   target_variable=target_variable, target_angle=target_angle, num_of_theta_intervals=num_of_theta_intervals, p0=p0, p0_c=p0_c, what_to_group=what_to_group, use_decision_tree=useuse_decision_tree)\n",
    "        edf_d = enforce_float32(edf_d)\n",
    "        dists_from_mean_edf = []\n",
    "        for entry, event in edf_d.groupby(level=0):\n",
    "            data = np.array(event[['rotated_r_c', 't_c']])\n",
    "            in_x_bins = (data[:, 0][:, None] >= r_bins[:, 0]) & (data[:, 0][:, None] < r_bins[:, 1])\n",
    "            in_y_bins = (data[:, 1][:, None] >= t_bins[:, 0]) & (data[:, 1][:, None] < t_bins[:, 1])\n",
    "            \n",
    "            # Compute 2D histogram by combining x and y conditions\n",
    "            hist = np.dot(in_x_bins.T.astype(int), in_y_bins.astype(int))  # Shape: (len(x_bins), len(y_bins))\n",
    "            r_bin_centers = r_bins.mean(axis=1)\n",
    "            hist = hist / r_bin_centers[:, None]\n",
    "            \n",
    "            max_signal = np.max(hist)\n",
    "            \n",
    "            dists_from_mean_edf.append((max_signal - background_mean) / background_std)\n",
    "        \n",
    "        bdf['distance'] = dists_from_mean_edf\n",
    "        \n",
    "        if sample == 0:\n",
    "            c_bdf_d = bdf\n",
    "        else:\n",
    "            c_bdf_d = pd.concat([c_bdf_d, bdf], ignore_index=True)\n",
    "        print('    Time elapsed on current sample: ', round(perf_counter() - sample_timer))\n",
    "    print('Time elapsed on current DCR: ', round(perf_counter() - timer_start))\n",
    "bdf = c_bdf_d"
   ],
   "id": "53bba64083d03a36",
   "outputs": [
    {
     "name": "stdout",
     "output_type": "stream",
     "text": [
      "1e5\n",
      "1\n",
      "    Generate noise with DCR per mm^2 100000.0, mean number of hits per event: 175.00.\n",
      "(array([105.65, 139.57, 493.68], dtype=float32), array([3568, 1211, 4779], dtype=int64))\n",
      "    Time elapsed on current sample:  29\n",
      "Time elapsed on current DCR:  29\n"
     ]
    }
   ],
   "execution_count": 44
  },
  {
   "metadata": {
    "ExecuteTime": {
     "end_time": "2025-04-03T12:47:43.949313700Z",
     "start_time": "2025-03-27T12:29:22.799608Z"
    }
   },
   "cell_type": "code",
   "source": "# bdf = bdf[bdf.beta>0.98]",
   "id": "328e55bf36ac6368",
   "outputs": [],
   "execution_count": 41
  },
  {
   "metadata": {
    "ExecuteTime": {
     "end_time": "2025-04-08T15:38:28.236181Z",
     "start_time": "2025-04-08T15:38:28.232590Z"
    }
   },
   "cell_type": "code",
   "source": [
    "bdf['mass'].fillna(0, inplace=True)\n",
    "bdf[bdf.mass > 490].mass = ka_mass"
   ],
   "id": "94082a997ec3fd6d",
   "outputs": [],
   "execution_count": 79
  },
  {
   "metadata": {
    "ExecuteTime": {
     "end_time": "2025-04-03T12:47:43.949313700Z",
     "start_time": "2025-03-27T12:35:49.274513Z"
    }
   },
   "cell_type": "code",
   "source": "bdf = bdf[~bdf.mass.isna()]",
   "id": "3f0dbce8e744c337",
   "outputs": [],
   "execution_count": 68
  },
  {
   "metadata": {
    "ExecuteTime": {
     "end_time": "2025-04-09T11:14:36.290518Z",
     "start_time": "2025-04-09T11:14:36.286711Z"
    }
   },
   "cell_type": "code",
   "source": "np.unique(bdf.mass, return_counts=True)",
   "id": "477545f1189207b7",
   "outputs": [
    {
     "data": {
      "text/plain": [
       "(array([105.65, 139.57, 493.68], dtype=float32),\n",
       " array([3568, 1211, 4779], dtype=int64))"
      ]
     },
     "execution_count": 89,
     "metadata": {},
     "output_type": "execute_result"
    }
   ],
   "execution_count": 89
  },
  {
   "metadata": {
    "ExecuteTime": {
     "end_time": "2025-04-09T11:14:23.570711Z",
     "start_time": "2025-04-09T11:14:23.563134Z"
    }
   },
   "cell_type": "code",
   "source": "bdf",
   "id": "4defb7b9f43f21ef",
   "outputs": [
    {
     "data": {
      "text/plain": [
       "            mass    momentum      beta  signal_counts  param_group   theta_p  \\\n",
       "0     493.679993  754.237976  0.836703              1          8.0  0.124795   \n",
       "1     139.570007  284.533478  0.897805              1          9.0  0.468875   \n",
       "2     493.679993  852.305603  0.865321              0          9.0  0.770976   \n",
       "3     105.650002  369.318512  0.961434              7         10.0  0.473296   \n",
       "4     493.679993  768.594788  0.841386              0          8.0  0.387151   \n",
       "...          ...         ...       ...            ...          ...       ...   \n",
       "9553  105.650002  547.405945  0.981880             30         10.0  0.413319   \n",
       "9554  493.679993  727.354126  0.827413              0          8.0  0.344697   \n",
       "9555  105.650002  580.474426  0.983837             33         10.0  0.151214   \n",
       "9556  493.679993  556.572876  0.748111              0          7.0  0.720011   \n",
       "9557  105.650002  619.843140  0.985783             19         10.0  0.893515   \n",
       "\n",
       "      cos_theta_p  unfixed_calculated_r_2d_4_rsigms_4_tsigms  \\\n",
       "0        0.992223                                  66.034126   \n",
       "1        0.892077                                  29.739145   \n",
       "2        0.717231                                  21.035341   \n",
       "3        0.890071                                  22.557066   \n",
       "4        0.925988                                  23.274046   \n",
       "...           ...                                        ...   \n",
       "9553     0.915793                                  44.435650   \n",
       "9554     0.941178                                  26.744026   \n",
       "9555     0.988589                                  42.648880   \n",
       "9556     0.751798                                  29.835943   \n",
       "9557     0.626676                                  64.353508   \n",
       "\n",
       "      beta_from_calc_r_4_rsigms_4_tsigms  delta_beta_4_rsigms_4_tsigms  \\\n",
       "0                               0.972353                      0.135649   \n",
       "1                               0.967876                      0.070071   \n",
       "2                               0.975124                      0.109803   \n",
       "3                               0.967674                      0.006240   \n",
       "4                               0.966143                      0.124757   \n",
       "...                                  ...                           ...   \n",
       "9553                            0.981792                     -0.000088   \n",
       "9554                            0.966376                      0.138963   \n",
       "9555                            0.984539                      0.000701   \n",
       "9556                            0.967224                      0.219113   \n",
       "9557                            0.987534                      0.001751   \n",
       "\n",
       "      eps_beta_4_rsigms_4_tsigms   distance  \n",
       "0                      16.212376   3.698648  \n",
       "1                       7.804653   3.726861  \n",
       "2                      12.689322   5.235826  \n",
       "3                       0.648988  10.345725  \n",
       "4                      14.827594   5.235826  \n",
       "...                          ...        ...  \n",
       "9553                   -0.008990  20.305540  \n",
       "9554                   16.794891   3.726861  \n",
       "9555                    0.071277  21.821320  \n",
       "9556                   29.288912   5.185127  \n",
       "9557                    0.177584   9.783206  \n",
       "\n",
       "[9558 rows x 12 columns]"
      ],
      "text/html": [
       "<div>\n",
       "<style scoped>\n",
       "    .dataframe tbody tr th:only-of-type {\n",
       "        vertical-align: middle;\n",
       "    }\n",
       "\n",
       "    .dataframe tbody tr th {\n",
       "        vertical-align: top;\n",
       "    }\n",
       "\n",
       "    .dataframe thead th {\n",
       "        text-align: right;\n",
       "    }\n",
       "</style>\n",
       "<table border=\"1\" class=\"dataframe\">\n",
       "  <thead>\n",
       "    <tr style=\"text-align: right;\">\n",
       "      <th></th>\n",
       "      <th>mass</th>\n",
       "      <th>momentum</th>\n",
       "      <th>beta</th>\n",
       "      <th>signal_counts</th>\n",
       "      <th>param_group</th>\n",
       "      <th>theta_p</th>\n",
       "      <th>cos_theta_p</th>\n",
       "      <th>unfixed_calculated_r_2d_4_rsigms_4_tsigms</th>\n",
       "      <th>beta_from_calc_r_4_rsigms_4_tsigms</th>\n",
       "      <th>delta_beta_4_rsigms_4_tsigms</th>\n",
       "      <th>eps_beta_4_rsigms_4_tsigms</th>\n",
       "      <th>distance</th>\n",
       "    </tr>\n",
       "  </thead>\n",
       "  <tbody>\n",
       "    <tr>\n",
       "      <th>0</th>\n",
       "      <td>493.679993</td>\n",
       "      <td>754.237976</td>\n",
       "      <td>0.836703</td>\n",
       "      <td>1</td>\n",
       "      <td>8.0</td>\n",
       "      <td>0.124795</td>\n",
       "      <td>0.992223</td>\n",
       "      <td>66.034126</td>\n",
       "      <td>0.972353</td>\n",
       "      <td>0.135649</td>\n",
       "      <td>16.212376</td>\n",
       "      <td>3.698648</td>\n",
       "    </tr>\n",
       "    <tr>\n",
       "      <th>1</th>\n",
       "      <td>139.570007</td>\n",
       "      <td>284.533478</td>\n",
       "      <td>0.897805</td>\n",
       "      <td>1</td>\n",
       "      <td>9.0</td>\n",
       "      <td>0.468875</td>\n",
       "      <td>0.892077</td>\n",
       "      <td>29.739145</td>\n",
       "      <td>0.967876</td>\n",
       "      <td>0.070071</td>\n",
       "      <td>7.804653</td>\n",
       "      <td>3.726861</td>\n",
       "    </tr>\n",
       "    <tr>\n",
       "      <th>2</th>\n",
       "      <td>493.679993</td>\n",
       "      <td>852.305603</td>\n",
       "      <td>0.865321</td>\n",
       "      <td>0</td>\n",
       "      <td>9.0</td>\n",
       "      <td>0.770976</td>\n",
       "      <td>0.717231</td>\n",
       "      <td>21.035341</td>\n",
       "      <td>0.975124</td>\n",
       "      <td>0.109803</td>\n",
       "      <td>12.689322</td>\n",
       "      <td>5.235826</td>\n",
       "    </tr>\n",
       "    <tr>\n",
       "      <th>3</th>\n",
       "      <td>105.650002</td>\n",
       "      <td>369.318512</td>\n",
       "      <td>0.961434</td>\n",
       "      <td>7</td>\n",
       "      <td>10.0</td>\n",
       "      <td>0.473296</td>\n",
       "      <td>0.890071</td>\n",
       "      <td>22.557066</td>\n",
       "      <td>0.967674</td>\n",
       "      <td>0.006240</td>\n",
       "      <td>0.648988</td>\n",
       "      <td>10.345725</td>\n",
       "    </tr>\n",
       "    <tr>\n",
       "      <th>4</th>\n",
       "      <td>493.679993</td>\n",
       "      <td>768.594788</td>\n",
       "      <td>0.841386</td>\n",
       "      <td>0</td>\n",
       "      <td>8.0</td>\n",
       "      <td>0.387151</td>\n",
       "      <td>0.925988</td>\n",
       "      <td>23.274046</td>\n",
       "      <td>0.966143</td>\n",
       "      <td>0.124757</td>\n",
       "      <td>14.827594</td>\n",
       "      <td>5.235826</td>\n",
       "    </tr>\n",
       "    <tr>\n",
       "      <th>...</th>\n",
       "      <td>...</td>\n",
       "      <td>...</td>\n",
       "      <td>...</td>\n",
       "      <td>...</td>\n",
       "      <td>...</td>\n",
       "      <td>...</td>\n",
       "      <td>...</td>\n",
       "      <td>...</td>\n",
       "      <td>...</td>\n",
       "      <td>...</td>\n",
       "      <td>...</td>\n",
       "      <td>...</td>\n",
       "    </tr>\n",
       "    <tr>\n",
       "      <th>9553</th>\n",
       "      <td>105.650002</td>\n",
       "      <td>547.405945</td>\n",
       "      <td>0.981880</td>\n",
       "      <td>30</td>\n",
       "      <td>10.0</td>\n",
       "      <td>0.413319</td>\n",
       "      <td>0.915793</td>\n",
       "      <td>44.435650</td>\n",
       "      <td>0.981792</td>\n",
       "      <td>-0.000088</td>\n",
       "      <td>-0.008990</td>\n",
       "      <td>20.305540</td>\n",
       "    </tr>\n",
       "    <tr>\n",
       "      <th>9554</th>\n",
       "      <td>493.679993</td>\n",
       "      <td>727.354126</td>\n",
       "      <td>0.827413</td>\n",
       "      <td>0</td>\n",
       "      <td>8.0</td>\n",
       "      <td>0.344697</td>\n",
       "      <td>0.941178</td>\n",
       "      <td>26.744026</td>\n",
       "      <td>0.966376</td>\n",
       "      <td>0.138963</td>\n",
       "      <td>16.794891</td>\n",
       "      <td>3.726861</td>\n",
       "    </tr>\n",
       "    <tr>\n",
       "      <th>9555</th>\n",
       "      <td>105.650002</td>\n",
       "      <td>580.474426</td>\n",
       "      <td>0.983837</td>\n",
       "      <td>33</td>\n",
       "      <td>10.0</td>\n",
       "      <td>0.151214</td>\n",
       "      <td>0.988589</td>\n",
       "      <td>42.648880</td>\n",
       "      <td>0.984539</td>\n",
       "      <td>0.000701</td>\n",
       "      <td>0.071277</td>\n",
       "      <td>21.821320</td>\n",
       "    </tr>\n",
       "    <tr>\n",
       "      <th>9556</th>\n",
       "      <td>493.679993</td>\n",
       "      <td>556.572876</td>\n",
       "      <td>0.748111</td>\n",
       "      <td>0</td>\n",
       "      <td>7.0</td>\n",
       "      <td>0.720011</td>\n",
       "      <td>0.751798</td>\n",
       "      <td>29.835943</td>\n",
       "      <td>0.967224</td>\n",
       "      <td>0.219113</td>\n",
       "      <td>29.288912</td>\n",
       "      <td>5.185127</td>\n",
       "    </tr>\n",
       "    <tr>\n",
       "      <th>9557</th>\n",
       "      <td>105.650002</td>\n",
       "      <td>619.843140</td>\n",
       "      <td>0.985783</td>\n",
       "      <td>19</td>\n",
       "      <td>10.0</td>\n",
       "      <td>0.893515</td>\n",
       "      <td>0.626676</td>\n",
       "      <td>64.353508</td>\n",
       "      <td>0.987534</td>\n",
       "      <td>0.001751</td>\n",
       "      <td>0.177584</td>\n",
       "      <td>9.783206</td>\n",
       "    </tr>\n",
       "  </tbody>\n",
       "</table>\n",
       "<p>9558 rows × 12 columns</p>\n",
       "</div>"
      ]
     },
     "execution_count": 88,
     "metadata": {},
     "output_type": "execute_result"
    }
   ],
   "execution_count": 88
  },
  {
   "metadata": {
    "ExecuteTime": {
     "end_time": "2025-04-10T07:28:28.306150Z",
     "start_time": "2025-04-10T07:28:28.209897Z"
    }
   },
   "cell_type": "code",
   "source": "np.sum([round(bdf.loc[i].mass) == round(ka_mass) for i in range(0, len(good_events), 2)])",
   "id": "cf62488bd663fb9",
   "outputs": [
    {
     "data": {
      "text/plain": [
       "4779"
      ]
     },
     "execution_count": 45,
     "metadata": {},
     "output_type": "execute_result"
    }
   ],
   "execution_count": 45
  },
  {
   "metadata": {
    "ExecuteTime": {
     "end_time": "2025-04-10T07:28:30.721584Z",
     "start_time": "2025-04-10T07:28:30.678476Z"
    }
   },
   "cell_type": "code",
   "source": "bdf[['bckg_proba', 'mu_proba', 'pi_proba', 'ka_proba']] = model.predict_proba(bdf[['momentum', 'unfixed_calculated_r_2d_4_rsigms_4_tsigms', 'theta_p', 'distance']])",
   "id": "f3d40dfd064e62f9",
   "outputs": [],
   "execution_count": 46
  },
  {
   "metadata": {
    "ExecuteTime": {
     "end_time": "2025-04-10T07:28:32.378611Z",
     "start_time": "2025-04-10T07:28:32.345198Z"
    }
   },
   "cell_type": "code",
   "source": "bdf['mass_reco'] = label_encoder.inverse_transform(model.predict(bdf[['momentum', 'unfixed_calculated_r_2d_4_rsigms_4_tsigms', 'theta_p', 'distance']]))",
   "id": "1460a165c4a238ab",
   "outputs": [],
   "execution_count": 47
  },
  {
   "metadata": {
    "ExecuteTime": {
     "end_time": "2025-04-10T07:28:32.385416Z",
     "start_time": "2025-04-10T07:28:32.381616Z"
    }
   },
   "cell_type": "code",
   "source": "pi_rel_eff = bdf[(bdf.mass_reco  == pi_mass) & (bdf.mass == pi_mass) & (bdf.theta_p < 0.79)].shape[0] / (bdf[(bdf.mass == pi_mass) & (bdf.theta_p < 0.79)].shape[0] + 1e-4)",
   "id": "543d5114dcdf1686",
   "outputs": [],
   "execution_count": 48
  },
  {
   "metadata": {
    "ExecuteTime": {
     "end_time": "2025-04-10T07:28:33.921811Z",
     "start_time": "2025-04-10T07:28:33.918452Z"
    }
   },
   "cell_type": "code",
   "source": "bkg_rel_eff = bdf[(bdf.mass_reco  == 0) & ((bdf.mass == 0) | (bdf.mass == ka_mass)) & (bdf.theta_p < 0.79)].shape[0] / bdf[((bdf.mass == 0) | (bdf.mass == ka_mass)) & (bdf.theta_p < 0.79)].shape[0]",
   "id": "7450a96531ca0a15",
   "outputs": [],
   "execution_count": 49
  },
  {
   "metadata": {
    "ExecuteTime": {
     "end_time": "2025-04-10T07:28:35.481225Z",
     "start_time": "2025-04-10T07:28:35.477151Z"
    }
   },
   "cell_type": "code",
   "source": "mu_rel_eff = bdf[(bdf.mass_reco  == mu_mass) & (bdf.mass == mu_mass) & (bdf.theta_p < 0.79) & (bdf.momentum > 500)].shape[0] / bdf[(bdf.mass == mu_mass) & (bdf.theta_p < 0.79)& (bdf.momentum > 500)].shape[0]",
   "id": "d3e691811c25ff87",
   "outputs": [],
   "execution_count": 50
  },
  {
   "metadata": {
    "ExecuteTime": {
     "end_time": "2025-04-10T07:28:55.564015Z",
     "start_time": "2025-04-10T07:28:55.560803Z"
    }
   },
   "cell_type": "code",
   "source": "mu_rel_eff",
   "id": "bf8816465259f8af",
   "outputs": [
    {
     "data": {
      "text/plain": [
       "0.9960629921259843"
      ]
     },
     "execution_count": 51,
     "metadata": {},
     "output_type": "execute_result"
    }
   ],
   "execution_count": 51
  },
  {
   "metadata": {
    "ExecuteTime": {
     "end_time": "2025-04-10T07:28:57.497649Z",
     "start_time": "2025-04-10T07:28:57.494586Z"
    }
   },
   "cell_type": "code",
   "source": "print(bkg_rel_eff, mu_rel_eff)",
   "id": "1b87493e55ff2e41",
   "outputs": [
    {
     "name": "stdout",
     "output_type": "stream",
     "text": [
      "0.9679458239277653 0.9960629921259843\n"
     ]
    }
   ],
   "execution_count": 52
  },
  {
   "metadata": {
    "ExecuteTime": {
     "end_time": "2025-04-10T07:28:57.576667Z",
     "start_time": "2025-04-10T07:28:57.574586Z"
    }
   },
   "cell_type": "code",
   "source": "print(bkg_rel_eff, mu_rel_eff)",
   "id": "c0aaf085af6138d1",
   "outputs": [
    {
     "name": "stdout",
     "output_type": "stream",
     "text": [
      "0.9679458239277653 0.9960629921259843\n"
     ]
    }
   ],
   "execution_count": 53
  },
  {
   "metadata": {
    "ExecuteTime": {
     "end_time": "2025-04-10T07:28:59.157720Z",
     "start_time": "2025-04-10T07:28:59.154909Z"
    }
   },
   "cell_type": "code",
   "source": "print(pi_rel_eff, mu_rel_eff)",
   "id": "e0b5d1fdf332e73e",
   "outputs": [
    {
     "name": "stdout",
     "output_type": "stream",
     "text": [
      "0.5955356611128874 0.9960629921259843\n"
     ]
    }
   ],
   "execution_count": 54
  },
  {
   "metadata": {
    "ExecuteTime": {
     "end_time": "2025-04-10T07:29:24.740099Z",
     "start_time": "2025-04-10T07:29:23.909681Z"
    }
   },
   "cell_type": "code",
   "source": [
    "kamu_gen = 0\n",
    "kapi_gen = 0\n",
    "kamu_reco = 0\n",
    "kamu_misreco = 0\n",
    "for i in range(bdf.shape[0]):\n",
    "    if bdf.loc[i].theta_p < 0.79 and bdf.loc[i + 1].theta_p < 0.79:\n",
    "        if round(bdf.loc[i + 1].mass) == round(mu_mass):\n",
    "            kamu_gen += 1\n",
    "            if bdf.loc[i].mass_reco == 0 and round(bdf.loc[i + 1].mass_reco) == round(mu_mass):\n",
    "                kamu_reco += 1\n",
    "        elif round(bdf.loc[i + 1].mass) == round(pi_mass):\n",
    "            kapi_gen += 1\n",
    "            if bdf.loc[i].mass_reco == 0 and round(bdf.loc[i + 1].mass_reco) == round(mu_mass):\n",
    "                kamu_misreco += 1\n",
    "        # elif bdf.loc[i].mass_reco == ka_mass and bdf.loc[i + 1].mass_reco == mu_mass:\n",
    "print('Efficiency', kamu_reco / kamu_gen)\n",
    "print('MisId', kamu_misreco / kapi_gen)"
   ],
   "id": "f6e2c60796f113cd",
   "outputs": [
    {
     "name": "stdout",
     "output_type": "stream",
     "text": [
      "Efficiency 0.9104674127715603\n",
      "MisId 0.17403846153846153\n"
     ]
    }
   ],
   "execution_count": 55
  },
  {
   "metadata": {
    "ExecuteTime": {
     "end_time": "2025-04-10T07:29:59.773251Z",
     "start_time": "2025-04-10T07:29:59.701159Z"
    }
   },
   "cell_type": "code",
   "source": [
    "y_test_2 = label_encoder.transform(bdf[bdf.theta_p < 0.79].mass)\n",
    "# y_pred_2 = model.predict(bdf[['momentum', 'unfixed_calculated_r_2d_4_rsigms_4_tsigms', 'theta_p', 'distance']])\n",
    "y_pred_2 = label_encoder.transform(bdf[bdf.theta_p < 0.79].mass_reco)\n",
    "cm = confusion_matrix(y_test_2, y_pred_2)\n",
    "cm_normalized = cm.astype('float') / cm.sum(axis=1)[:, np.newaxis]\n",
    "\n",
    "class_names = ['Background', 'Mu', 'Pi', 'Ka']\n",
    "# Plotting using seaborn\n",
    "plt.figure(figsize=(8, 6))\n",
    "sns.heatmap(cm_normalized, annot=True, fmt='.2f', cmap='Blues', xticklabels=class_names, yticklabels=class_names)\n",
    "plt.xlabel('Predicted')\n",
    "plt.ylabel('Actual')\n",
    "plt.title('Confusion Matrix')\n",
    "plt.show()"
   ],
   "id": "abf7d0b68b25e5c6",
   "outputs": [
    {
     "data": {
      "text/plain": [
       "<Figure size 800x600 with 2 Axes>"
      ],
      "image/png": "[encoded data removed]"
     },
     "metadata": {},
     "output_type": "display_data"
    }
   ],
   "execution_count": 56
  },
  {
   "metadata": {
    "ExecuteTime": {
     "end_time": "2025-04-10T16:49:46.305939Z",
     "start_time": "2025-04-10T16:49:46.226488Z"
    }
   },
   "cell_type": "code",
   "source": [
    "plt.hist(bdf[(bdf.mass == mu_mass)].momentum, bins=100)\n",
    "plt.title('Muon')\n",
    "plt.xlabel('Momentum, MeV/c')\n",
    "plt.show()"
   ],
   "id": "a90fd66abd7ad0ea",
   "outputs": [
    {
     "data": {
      "text/plain": [
       "<Figure size 640x480 with 1 Axes>"
      ],
      "image/png": "[encoded data removed]"
     },
     "metadata": {},
     "output_type": "display_data"
    }
   ],
   "execution_count": 83
  },
  {
   "metadata": {
    "ExecuteTime": {
     "end_time": "2025-04-10T17:21:45.226420Z",
     "start_time": "2025-04-10T17:21:45.149411Z"
    }
   },
   "cell_type": "code",
   "source": [
    "plt.hist(bdf[(bdf.mass == mu_mass)].theta_p, bins=100)\n",
    "plt.title('Muon')\n",
    "plt.xlabel('cos(theta)')\n",
    "plt.show()"
   ],
   "id": "66c2108c8a14fbed",
   "outputs": [
    {
     "data": {
      "text/plain": [
       "<Figure size 640x480 with 1 Axes>"
      ],
      "image/png": "[encoded data removed]"
     },
     "metadata": {},
     "output_type": "display_data"
    }
   ],
   "execution_count": 110
  },
  {
   "metadata": {
    "ExecuteTime": {
     "end_time": "2025-04-10T16:50:03.216282Z",
     "start_time": "2025-04-10T16:50:03.125383Z"
    }
   },
   "cell_type": "code",
   "source": [
    "plt.hist(bdf[(bdf.mass == pi_mass)].momentum, bins=100)\n",
    "plt.title('Pi')\n",
    "plt.xlabel('Momentum, MeV/c')\n",
    "plt.show()"
   ],
   "id": "e79a7f56b1ee38df",
   "outputs": [
    {
     "data": {
      "text/plain": [
       "<Figure size 640x480 with 1 Axes>"
      ],
      "image/png": "[encoded data removed]"
     },
     "metadata": {},
     "output_type": "display_data"
    }
   ],
   "execution_count": 84
  },
  {
   "metadata": {
    "ExecuteTime": {
     "end_time": "2025-04-10T17:21:40.458002Z",
     "start_time": "2025-04-10T17:21:40.379812Z"
    }
   },
   "cell_type": "code",
   "source": [
    "plt.hist(bdf[(bdf.mass == pi_mass)].theta_p, bins=100)\n",
    "plt.title('Pi')\n",
    "plt.xlabel('cos(theta)')\n",
    "plt.show()"
   ],
   "id": "bc59bc9bd2a89c06",
   "outputs": [
    {
     "data": {
      "text/plain": [
       "<Figure size 640x480 with 1 Axes>"
      ],
      "image/png": "[encoded data removed]"
     },
     "metadata": {},
     "output_type": "display_data"
    }
   ],
   "execution_count": 109
  },
  {
   "metadata": {
    "ExecuteTime": {
     "end_time": "2025-04-10T13:47:59.740693Z",
     "start_time": "2025-04-10T13:47:59.690411Z"
    }
   },
   "cell_type": "code",
   "source": [
    "plt.hist(bdf[(bdf.mass == ka_mass)].momentum, bins='auto')\n",
    "plt.show()"
   ],
   "id": "2a6754449ec574a5",
   "outputs": [
    {
     "data": {
      "text/plain": [
       "<Figure size 640x480 with 1 Axes>"
      ],
      "image/png": "[encoded data removed]"
     },
     "metadata": {},
     "output_type": "display_data"
    }
   ],
   "execution_count": 72
  },
  {
   "metadata": {
    "ExecuteTime": {
     "end_time": "2025-04-10T07:31:52.063125Z",
     "start_time": "2025-04-10T07:31:52.012619Z"
    }
   },
   "cell_type": "code",
   "source": [
    "plt.hist(bdf[(bdf.mass == pi_mass) & (bdf.mass_reco == mu_mass)].momentum, bins='auto')\n",
    "plt.show()"
   ],
   "id": "70a5d293df021fb2",
   "outputs": [
    {
     "data": {
      "text/plain": [
       "<Figure size 640x480 with 1 Axes>"
      ],
      "image/png": "[encoded data removed]"
     },
     "metadata": {},
     "output_type": "display_data"
    }
   ],
   "execution_count": 59
  },
  {
   "metadata": {
    "ExecuteTime": {
     "end_time": "2025-04-10T07:34:47.155351Z",
     "start_time": "2025-04-10T07:34:47.107263Z"
    }
   },
   "cell_type": "code",
   "source": [
    "plt.hist(bdf[(bdf.mass == mu_mass)].signal_counts, bins='auto')\n",
    "plt.show()"
   ],
   "id": "f5e7b3be56142db",
   "outputs": [
    {
     "data": {
      "text/plain": [
       "<Figure size 640x480 with 1 Axes>"
      ],
      "image/png": "[encoded data removed]"
     },
     "metadata": {},
     "output_type": "display_data"
    }
   ],
   "execution_count": 65
  },
  {
   "metadata": {
    "ExecuteTime": {
     "end_time": "2025-04-10T13:52:22.551064Z",
     "start_time": "2025-04-10T13:52:22.502381Z"
    }
   },
   "cell_type": "code",
   "source": [
    "plt.scatter(bdf[bdf.mass == mu_mass].momentum, bdf[bdf.mass == mu_mass].signal_counts)\n",
    "plt.show()"
   ],
   "id": "9f82c409443f12fc",
   "outputs": [
    {
     "data": {
      "text/plain": [
       "<Figure size 640x480 with 1 Axes>"
      ],
      "image/png": "[encoded data removed]"
     },
     "metadata": {},
     "output_type": "display_data"
    }
   ],
   "execution_count": 73
  },
  {
   "metadata": {
    "ExecuteTime": {
     "end_time": "2025-04-10T15:11:52.480607Z",
     "start_time": "2025-04-10T15:11:52.475893Z"
    }
   },
   "cell_type": "code",
   "source": "bdf[(bdf.mass == mu_mass) & (bdf.mass_reco == mu_mass) & (bdf.signal_counts > 1)].shape[0] / bdf[(bdf.mass == mu_mass) & (bdf.signal_counts > 1)].shape[0]",
   "id": "7e50f22781f8ddb",
   "outputs": [
    {
     "data": {
      "text/plain": [
       "0.9920387677397023"
      ]
     },
     "execution_count": 75,
     "metadata": {},
     "output_type": "execute_result"
    }
   ],
   "execution_count": 75
  },
  {
   "metadata": {
    "ExecuteTime": {
     "end_time": "2025-04-10T07:40:02.870430Z",
     "start_time": "2025-04-10T07:40:02.866073Z"
    }
   },
   "cell_type": "code",
   "source": "bdf[(bdf.mass == pi_mass) & (bdf.mass_reco == mu_mass) & (bdf.signal_counts > 1)].shape[0] / bdf[(bdf.mass == pi_mass) & (bdf.signal_counts > 1)].shape[0]",
   "id": "e07d5d78bfb41e7c",
   "outputs": [
    {
     "data": {
      "text/plain": [
       "0.06337135614702155"
      ]
     },
     "execution_count": 69,
     "metadata": {},
     "output_type": "execute_result"
    }
   ],
   "execution_count": 69
  },
  {
   "metadata": {},
   "cell_type": "markdown",
   "source": [
    "спектры всех частиц из своих каналов, пи0 и гамма тоже, и углы\n",
    "посчитать испульс в поле 1 тесла чтобы попал под углом 45\n",
    "кусок про откуда координаты и время переписать\n"
   ],
   "id": "fd6666dc8a8d47ea"
  },
  {
   "metadata": {
    "ExecuteTime": {
     "end_time": "2025-04-10T18:09:58.451890Z",
     "start_time": "2025-04-10T18:09:58.448898Z"
    }
   },
   "cell_type": "code",
   "source": "800 / (2 * np.sin(np.pi / 8))",
   "id": "a160d9f8fac11ec3",
   "outputs": [
    {
     "data": {
      "text/plain": [
       "1045.2503719011013"
      ]
     },
     "execution_count": 147,
     "metadata": {},
     "output_type": "execute_result"
    }
   ],
   "execution_count": 147
  },
  {
   "metadata": {
    "ExecuteTime": {
     "end_time": "2025-04-10T18:13:45.547304Z",
     "start_time": "2025-04-10T18:13:45.544355Z"
    }
   },
   "cell_type": "code",
   "source": "1.045 / 3.3",
   "id": "5fdd07e2f2bcaaca",
   "outputs": [
    {
     "data": {
      "text/plain": [
       "0.31666666666666665"
      ]
     },
     "execution_count": 148,
     "metadata": {},
     "output_type": "execute_result"
    }
   ],
   "execution_count": 148
  },
  {
   "metadata": {
    "ExecuteTime": {
     "end_time": "2025-04-10T17:14:31.346207Z",
     "start_time": "2025-04-10T17:14:31.202469Z"
    }
   },
   "cell_type": "code",
   "source": [
    "ka_from_mu = []\n",
    "ka_from_pi = []\n",
    "for i in range(0, bdf.shape[0], 2):\n",
    "    if round(bdf.loc[i+1].mass) == round(mu_mass):\n",
    "        ka_from_mu.append(i)\n",
    "    elif round(bdf.loc[i+1].mass) == round(pi_mass):\n",
    "        ka_from_pi.append(i)"
   ],
   "id": "1b9cbe5f1fb59ad1",
   "outputs": [],
   "execution_count": 90
  },
  {
   "metadata": {
    "ExecuteTime": {
     "end_time": "2025-04-10T17:15:09.840621Z",
     "start_time": "2025-04-10T17:15:09.830555Z"
    }
   },
   "cell_type": "code",
   "source": "bdf.loc[ka_from_mu]",
   "id": "f9768b1099374f5e",
   "outputs": [
    {
     "data": {
      "text/plain": [
       "            mass    momentum      beta  signal_counts  param_group   theta_p  \\\n",
       "2     493.679993  852.305603  0.865321              0          9.0  0.770976   \n",
       "4     493.679993  768.594788  0.841386              0          8.0  0.387151   \n",
       "6     493.679993  720.657532  0.824988              0          8.0  0.413711   \n",
       "12    493.679993  943.804626  0.886099              1          9.0  0.427525   \n",
       "14    493.679993  593.852966  0.768983              0          7.0  0.115821   \n",
       "...          ...         ...       ...            ...          ...       ...   \n",
       "9548  493.679993  912.090149  0.879441              0          9.0  0.096998   \n",
       "9550  493.679993  544.677246  0.740942              1          7.0  0.629928   \n",
       "9552  493.679993  839.401489  0.861973              0          8.0  0.863243   \n",
       "9554  493.679993  727.354126  0.827413              0          8.0  0.344697   \n",
       "9556  493.679993  556.572876  0.748111              0          7.0  0.720011   \n",
       "\n",
       "      cos_theta_p  unfixed_calculated_r_2d_4_rsigms_4_tsigms  \\\n",
       "2        0.717231                                  30.630986   \n",
       "4        0.925988                                  20.556289   \n",
       "6        0.915635                                  26.896685   \n",
       "12       0.909995                                  45.823519   \n",
       "14       0.993300                                  23.712441   \n",
       "...           ...                                        ...   \n",
       "9548     0.995299                                  30.027940   \n",
       "9550     0.808070                                  14.252245   \n",
       "9552     0.649976                                  18.536404   \n",
       "9554     0.941178                                  62.450278   \n",
       "9556     0.751798                                  17.402254   \n",
       "\n",
       "      beta_from_calc_r_4_rsigms_4_tsigms  delta_beta_4_rsigms_4_tsigms  \\\n",
       "2                               0.967734                      0.102413   \n",
       "4                               0.969761                      0.128375   \n",
       "6                               0.966375                      0.141387   \n",
       "12                              0.983159                      0.097060   \n",
       "14                              0.965896                      0.196913   \n",
       "...                                  ...                           ...   \n",
       "9548                            0.971745                      0.092304   \n",
       "9550                            0.973839                      0.232897   \n",
       "9552                            0.964351                      0.102379   \n",
       "9554                            0.976234                      0.148821   \n",
       "9556                            0.971329                      0.223218   \n",
       "\n",
       "      eps_beta_4_rsigms_4_tsigms  distance  bckg_proba  mu_proba  pi_proba  \\\n",
       "2                      11.835266  5.953923    0.998789  0.000003  0.001203   \n",
       "4                      15.257592  7.772325    0.986411  0.000082  0.013473   \n",
       "6                      17.138062  6.747280    0.999093  0.000014  0.000889   \n",
       "12                     10.953650  7.148423    0.979778  0.000012  0.020185   \n",
       "14                     25.606867  6.747280    0.995446  0.000017  0.004531   \n",
       "...                          ...       ...         ...       ...       ...   \n",
       "9548                   10.495739  5.321678    0.999893  0.000012  0.000094   \n",
       "9550                   31.432507  9.147904    0.990721  0.000579  0.008684   \n",
       "9552                   11.877253  9.147904    0.987713  0.000022  0.012245   \n",
       "9554                   17.986254  5.278973    0.998943  0.000174  0.000863   \n",
       "9556                   29.837599  9.147904    0.981685  0.000406  0.017890   \n",
       "\n",
       "      ka_proba  mass_reco  \n",
       "2     0.000006        0.0  \n",
       "4     0.000034        0.0  \n",
       "6     0.000004        0.0  \n",
       "12    0.000024        0.0  \n",
       "14    0.000006        0.0  \n",
       "...        ...        ...  \n",
       "9548  0.000001        0.0  \n",
       "9550  0.000017        0.0  \n",
       "9552  0.000020        0.0  \n",
       "9554  0.000020        0.0  \n",
       "9556  0.000019        0.0  \n",
       "\n",
       "[3568 rows x 17 columns]"
      ],
      "text/html": [
       "<div>\n",
       "<style scoped>\n",
       "    .dataframe tbody tr th:only-of-type {\n",
       "        vertical-align: middle;\n",
       "    }\n",
       "\n",
       "    .dataframe tbody tr th {\n",
       "        vertical-align: top;\n",
       "    }\n",
       "\n",
       "    .dataframe thead th {\n",
       "        text-align: right;\n",
       "    }\n",
       "</style>\n",
       "<table border=\"1\" class=\"dataframe\">\n",
       "  <thead>\n",
       "    <tr style=\"text-align: right;\">\n",
       "      <th></th>\n",
       "      <th>mass</th>\n",
       "      <th>momentum</th>\n",
       "      <th>beta</th>\n",
       "      <th>signal_counts</th>\n",
       "      <th>param_group</th>\n",
       "      <th>theta_p</th>\n",
       "      <th>cos_theta_p</th>\n",
       "      <th>unfixed_calculated_r_2d_4_rsigms_4_tsigms</th>\n",
       "      <th>beta_from_calc_r_4_rsigms_4_tsigms</th>\n",
       "      <th>delta_beta_4_rsigms_4_tsigms</th>\n",
       "      <th>eps_beta_4_rsigms_4_tsigms</th>\n",
       "      <th>distance</th>\n",
       "      <th>bckg_proba</th>\n",
       "      <th>mu_proba</th>\n",
       "      <th>pi_proba</th>\n",
       "      <th>ka_proba</th>\n",
       "      <th>mass_reco</th>\n",
       "    </tr>\n",
       "  </thead>\n",
       "  <tbody>\n",
       "    <tr>\n",
       "      <th>2</th>\n",
       "      <td>493.679993</td>\n",
       "      <td>852.305603</td>\n",
       "      <td>0.865321</td>\n",
       "      <td>0</td>\n",
       "      <td>9.0</td>\n",
       "      <td>0.770976</td>\n",
       "      <td>0.717231</td>\n",
       "      <td>30.630986</td>\n",
       "      <td>0.967734</td>\n",
       "      <td>0.102413</td>\n",
       "      <td>11.835266</td>\n",
       "      <td>5.953923</td>\n",
       "      <td>0.998789</td>\n",
       "      <td>0.000003</td>\n",
       "      <td>0.001203</td>\n",
       "      <td>0.000006</td>\n",
       "      <td>0.0</td>\n",
       "    </tr>\n",
       "    <tr>\n",
       "      <th>4</th>\n",
       "      <td>493.679993</td>\n",
       "      <td>768.594788</td>\n",
       "      <td>0.841386</td>\n",
       "      <td>0</td>\n",
       "      <td>8.0</td>\n",
       "      <td>0.387151</td>\n",
       "      <td>0.925988</td>\n",
       "      <td>20.556289</td>\n",
       "      <td>0.969761</td>\n",
       "      <td>0.128375</td>\n",
       "      <td>15.257592</td>\n",
       "      <td>7.772325</td>\n",
       "      <td>0.986411</td>\n",
       "      <td>0.000082</td>\n",
       "      <td>0.013473</td>\n",
       "      <td>0.000034</td>\n",
       "      <td>0.0</td>\n",
       "    </tr>\n",
       "    <tr>\n",
       "      <th>6</th>\n",
       "      <td>493.679993</td>\n",
       "      <td>720.657532</td>\n",
       "      <td>0.824988</td>\n",
       "      <td>0</td>\n",
       "      <td>8.0</td>\n",
       "      <td>0.413711</td>\n",
       "      <td>0.915635</td>\n",
       "      <td>26.896685</td>\n",
       "      <td>0.966375</td>\n",
       "      <td>0.141387</td>\n",
       "      <td>17.138062</td>\n",
       "      <td>6.747280</td>\n",
       "      <td>0.999093</td>\n",
       "      <td>0.000014</td>\n",
       "      <td>0.000889</td>\n",
       "      <td>0.000004</td>\n",
       "      <td>0.0</td>\n",
       "    </tr>\n",
       "    <tr>\n",
       "      <th>12</th>\n",
       "      <td>493.679993</td>\n",
       "      <td>943.804626</td>\n",
       "      <td>0.886099</td>\n",
       "      <td>1</td>\n",
       "      <td>9.0</td>\n",
       "      <td>0.427525</td>\n",
       "      <td>0.909995</td>\n",
       "      <td>45.823519</td>\n",
       "      <td>0.983159</td>\n",
       "      <td>0.097060</td>\n",
       "      <td>10.953650</td>\n",
       "      <td>7.148423</td>\n",
       "      <td>0.979778</td>\n",
       "      <td>0.000012</td>\n",
       "      <td>0.020185</td>\n",
       "      <td>0.000024</td>\n",
       "      <td>0.0</td>\n",
       "    </tr>\n",
       "    <tr>\n",
       "      <th>14</th>\n",
       "      <td>493.679993</td>\n",
       "      <td>593.852966</td>\n",
       "      <td>0.768983</td>\n",
       "      <td>0</td>\n",
       "      <td>7.0</td>\n",
       "      <td>0.115821</td>\n",
       "      <td>0.993300</td>\n",
       "      <td>23.712441</td>\n",
       "      <td>0.965896</td>\n",
       "      <td>0.196913</td>\n",
       "      <td>25.606867</td>\n",
       "      <td>6.747280</td>\n",
       "      <td>0.995446</td>\n",
       "      <td>0.000017</td>\n",
       "      <td>0.004531</td>\n",
       "      <td>0.000006</td>\n",
       "      <td>0.0</td>\n",
       "    </tr>\n",
       "    <tr>\n",
       "      <th>...</th>\n",
       "      <td>...</td>\n",
       "      <td>...</td>\n",
       "      <td>...</td>\n",
       "      <td>...</td>\n",
       "      <td>...</td>\n",
       "      <td>...</td>\n",
       "      <td>...</td>\n",
       "      <td>...</td>\n",
       "      <td>...</td>\n",
       "      <td>...</td>\n",
       "      <td>...</td>\n",
       "      <td>...</td>\n",
       "      <td>...</td>\n",
       "      <td>...</td>\n",
       "      <td>...</td>\n",
       "      <td>...</td>\n",
       "      <td>...</td>\n",
       "    </tr>\n",
       "    <tr>\n",
       "      <th>9548</th>\n",
       "      <td>493.679993</td>\n",
       "      <td>912.090149</td>\n",
       "      <td>0.879441</td>\n",
       "      <td>0</td>\n",
       "      <td>9.0</td>\n",
       "      <td>0.096998</td>\n",
       "      <td>0.995299</td>\n",
       "      <td>30.027940</td>\n",
       "      <td>0.971745</td>\n",
       "      <td>0.092304</td>\n",
       "      <td>10.495739</td>\n",
       "      <td>5.321678</td>\n",
       "      <td>0.999893</td>\n",
       "      <td>0.000012</td>\n",
       "      <td>0.000094</td>\n",
       "      <td>0.000001</td>\n",
       "      <td>0.0</td>\n",
       "    </tr>\n",
       "    <tr>\n",
       "      <th>9550</th>\n",
       "      <td>493.679993</td>\n",
       "      <td>544.677246</td>\n",
       "      <td>0.740942</td>\n",
       "      <td>1</td>\n",
       "      <td>7.0</td>\n",
       "      <td>0.629928</td>\n",
       "      <td>0.808070</td>\n",
       "      <td>14.252245</td>\n",
       "      <td>0.973839</td>\n",
       "      <td>0.232897</td>\n",
       "      <td>31.432507</td>\n",
       "      <td>9.147904</td>\n",
       "      <td>0.990721</td>\n",
       "      <td>0.000579</td>\n",
       "      <td>0.008684</td>\n",
       "      <td>0.000017</td>\n",
       "      <td>0.0</td>\n",
       "    </tr>\n",
       "    <tr>\n",
       "      <th>9552</th>\n",
       "      <td>493.679993</td>\n",
       "      <td>839.401489</td>\n",
       "      <td>0.861973</td>\n",
       "      <td>0</td>\n",
       "      <td>8.0</td>\n",
       "      <td>0.863243</td>\n",
       "      <td>0.649976</td>\n",
       "      <td>18.536404</td>\n",
       "      <td>0.964351</td>\n",
       "      <td>0.102379</td>\n",
       "      <td>11.877253</td>\n",
       "      <td>9.147904</td>\n",
       "      <td>0.987713</td>\n",
       "      <td>0.000022</td>\n",
       "      <td>0.012245</td>\n",
       "      <td>0.000020</td>\n",
       "      <td>0.0</td>\n",
       "    </tr>\n",
       "    <tr>\n",
       "      <th>9554</th>\n",
       "      <td>493.679993</td>\n",
       "      <td>727.354126</td>\n",
       "      <td>0.827413</td>\n",
       "      <td>0</td>\n",
       "      <td>8.0</td>\n",
       "      <td>0.344697</td>\n",
       "      <td>0.941178</td>\n",
       "      <td>62.450278</td>\n",
       "      <td>0.976234</td>\n",
       "      <td>0.148821</td>\n",
       "      <td>17.986254</td>\n",
       "      <td>5.278973</td>\n",
       "      <td>0.998943</td>\n",
       "      <td>0.000174</td>\n",
       "      <td>0.000863</td>\n",
       "      <td>0.000020</td>\n",
       "      <td>0.0</td>\n",
       "    </tr>\n",
       "    <tr>\n",
       "      <th>9556</th>\n",
       "      <td>493.679993</td>\n",
       "      <td>556.572876</td>\n",
       "      <td>0.748111</td>\n",
       "      <td>0</td>\n",
       "      <td>7.0</td>\n",
       "      <td>0.720011</td>\n",
       "      <td>0.751798</td>\n",
       "      <td>17.402254</td>\n",
       "      <td>0.971329</td>\n",
       "      <td>0.223218</td>\n",
       "      <td>29.837599</td>\n",
       "      <td>9.147904</td>\n",
       "      <td>0.981685</td>\n",
       "      <td>0.000406</td>\n",
       "      <td>0.017890</td>\n",
       "      <td>0.000019</td>\n",
       "      <td>0.0</td>\n",
       "    </tr>\n",
       "  </tbody>\n",
       "</table>\n",
       "<p>3568 rows × 17 columns</p>\n",
       "</div>"
      ]
     },
     "execution_count": 95,
     "metadata": {},
     "output_type": "execute_result"
    }
   ],
   "execution_count": 95
  },
  {
   "metadata": {
    "ExecuteTime": {
     "end_time": "2025-04-10T17:17:29.372929Z",
     "start_time": "2025-04-10T17:17:29.290570Z"
    }
   },
   "cell_type": "code",
   "source": [
    "plt.hist(bdf[(bdf.mass == ka_mass)].loc[ka_from_pi].momentum, bins=100)\n",
    "plt.title(r'K from $K\\pi\\pi$')\n",
    "plt.xlabel('Momentum, MeV/c')\n",
    "plt.show()"
   ],
   "id": "b1a1af59ae4cae40",
   "outputs": [
    {
     "data": {
      "text/plain": [
       "<Figure size 640x480 with 1 Axes>"
      ],
      "image/png": "[encoded data removed]"
     },
     "metadata": {},
     "output_type": "display_data"
    }
   ],
   "execution_count": 107
  },
  {
   "metadata": {
    "ExecuteTime": {
     "end_time": "2025-04-10T17:22:11.597837Z",
     "start_time": "2025-04-10T17:22:11.494507Z"
    }
   },
   "cell_type": "code",
   "source": [
    "plt.hist(bdf[(bdf.mass == ka_mass)].loc[ka_from_pi].cos_theta_p, bins=100)\n",
    "plt.title(r'K from $K\\pi\\pi$')\n",
    "plt.xlabel('cos(theta)')\n",
    "plt.show()"
   ],
   "id": "46ec5901b9f18a4f",
   "outputs": [
    {
     "data": {
      "text/plain": [
       "<Figure size 640x480 with 1 Axes>"
      ],
      "image/png": "[encoded data removed]"
     },
     "metadata": {},
     "output_type": "display_data"
    }
   ],
   "execution_count": 112
  },
  {
   "metadata": {
    "ExecuteTime": {
     "end_time": "2025-04-10T17:17:04.262120Z",
     "start_time": "2025-04-10T17:17:04.176144Z"
    }
   },
   "cell_type": "code",
   "source": [
    "plt.hist(bdf[(bdf.mass == ka_mass)].loc[ka_from_mu].momentum, bins=100)\n",
    "plt.title(r'K from $K\\mu\\nu$')\n",
    "plt.xlabel('Momentum, MeV/c')\n",
    "plt.show()"
   ],
   "id": "57f20f811557557e",
   "outputs": [
    {
     "data": {
      "text/plain": [
       "<Figure size 640x480 with 1 Axes>"
      ],
      "image/png": "[encoded data removed]"
     },
     "metadata": {},
     "output_type": "display_data"
    }
   ],
   "execution_count": 103
  },
  {
   "metadata": {
    "ExecuteTime": {
     "end_time": "2025-04-10T17:22:51.405187Z",
     "start_time": "2025-04-10T17:22:51.276598Z"
    }
   },
   "cell_type": "code",
   "source": [
    "plt.hist(bdf[(bdf.mass == ka_mass)].loc[ka_from_mu].cos_theta_p, bins=100)\n",
    "plt.title(r'K from $K\\mu\\nu$')\n",
    "plt.xlabel('cos(theta)')\n",
    "plt.show()"
   ],
   "id": "e9773c788884f16a",
   "outputs": [
    {
     "data": {
      "text/plain": [
       "<Figure size 640x480 with 1 Axes>"
      ],
      "image/png": "[encoded data removed]"
     },
     "metadata": {},
     "output_type": "display_data"
    }
   ],
   "execution_count": 116
  }
 ],
 "metadata": {
  "kernelspec": {
   "display_name": "Python 3",
   "language": "python",
   "name": "python3"
  },
  "language_info": {
   "codemirror_mode": {
    "name": "ipython",
    "version": 2
   },
   "file_extension": ".py",
   "mimetype": "text/x-python",
   "name": "python",
   "nbconvert_exporter": "python",
   "pygments_lexer": "ipython2",
   "version": "2.7.6"
  }
 },
 "nbformat": 4,
 "nbformat_minor": 5
}
