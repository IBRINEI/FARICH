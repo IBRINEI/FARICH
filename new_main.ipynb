{
 "cells": [
  {
   "cell_type": "code",
   "metadata": {
    "collapsed": true,
    "ExecuteTime": {
     "end_time": "2024-09-04T14:50:44.776438Z",
     "start_time": "2024-09-04T14:50:43.254777Z"
    }
   },
   "source": [
    "import os, sys, time\n",
    "import uproot3 as uproot\n",
    "import numpy as np\n",
    "import pandas as pd\n",
    "import matplotlib.pyplot as plt\n",
    "from numbers import Integral\n",
    "from scipy.optimize import curve_fit\n",
    "from sklearn.linear_model import LinearRegression\n",
    "from scipy.stats import norm, truncnorm, foldnorm\n",
    "import warnings\n",
    "from time import perf_counter\n",
    "from scipy.spatial.distance import cdist\n",
    "from sklearn.decomposition import PCA\n",
    "\n",
    "\n",
    "from farich_functions import *"
   ],
   "outputs": [],
   "execution_count": 1
  },
  {
   "cell_type": "code",
   "source": [
    "# %load_ext autoreload\n",
    "# %autoreload 2"
   ],
   "metadata": {
    "collapsed": false,
    "ExecuteTime": {
     "end_time": "2024-09-04T14:50:44.779187Z",
     "start_time": "2024-09-04T14:50:44.777440Z"
    }
   },
   "outputs": [],
   "execution_count": 2
  },
  {
   "cell_type": "code",
   "source": [
    "datadir = 'data'"
   ],
   "metadata": {
    "collapsed": false,
    "ExecuteTime": {
     "end_time": "2024-09-04T14:50:44.790589Z",
     "start_time": "2024-09-04T14:50:44.779187Z"
    }
   },
   "outputs": [],
   "execution_count": 3
  },
  {
   "cell_type": "code",
   "source": [
    "filepath = os.path.join(datadir, 'fullsim_optical_1000_pi_1500_no.root')\n",
    "# filepath_fixed = os.path.join(datadir, 'fullsim_optical_1000_pi_1500_fixed.root')\n",
    "filepath_fixed = os.path.join(datadir, 'fullsim_optical_10000_pi_500_1500_no.root')\n",
    "filepath_monodir = os.path.join(datadir, 'fullsim_optical_1000_pi_1500_monodir_no.root')\n",
    "filepath_2pi = os.path.join(datadir, 'fullsim_optical_1000_pi_1500_2pi_phi.root')\n",
    "filepath_prototype = os.path.join(datadir, 'farichsim_10kevt.root')\n",
    "filepath_new = os.path.join(datadir, 'fullsim_optical_1000_pi_1500_spectre_test_3.root')"
   ],
   "metadata": {
    "collapsed": false,
    "ExecuteTime": {
     "end_time": "2024-09-04T14:50:44.801820Z",
     "start_time": "2024-09-04T14:50:44.790589Z"
    }
   },
   "outputs": [],
   "execution_count": 4
  },
  {
   "cell_type": "code",
   "source": [
    "# file = uproot.open(filepath)\n",
    "file = uproot.open(filepath_fixed)\n",
    "# file = uproot.open(filepath_monodir)\n",
    "# file_2pi = uproot.open(filepath_2pi)\n",
    "# file_prototype = uproot.open(filepath_prototype)\n",
    "# file_new = uproot.open(filepath_new)"
   ],
   "metadata": {
    "collapsed": false,
    "ExecuteTime": {
     "end_time": "2024-09-04T14:50:44.830154Z",
     "start_time": "2024-09-04T14:50:44.802827Z"
    }
   },
   "outputs": [],
   "execution_count": 5
  },
  {
   "cell_type": "code",
   "source": [
    "plt.style.use('default')"
   ],
   "metadata": {
    "collapsed": false,
    "ExecuteTime": {
     "end_time": "2024-09-04T14:50:44.832911Z",
     "start_time": "2024-09-04T14:50:44.830154Z"
    }
   },
   "outputs": [],
   "execution_count": 6
  },
  {
   "cell_type": "code",
   "source": [],
   "metadata": {
    "collapsed": false,
    "ExecuteTime": {
     "end_time": "2024-09-04T14:50:44.834672Z",
     "start_time": "2024-09-04T14:50:44.832911Z"
    }
   },
   "outputs": [],
   "execution_count": 6
  },
  {
   "cell_type": "code",
   "source": "# plot_cyl(file, transposed=True)",
   "metadata": {
    "collapsed": false,
    "ExecuteTime": {
     "end_time": "2024-09-04T14:50:44.843826Z",
     "start_time": "2024-09-04T14:50:44.834672Z"
    }
   },
   "outputs": [],
   "execution_count": 7
  },
  {
   "cell_type": "code",
   "source": "# np.concatenate(np.array(file['events;1']['FarichBarrelG4Hits.postStepPosition.x'].array())).shape",
   "metadata": {
    "collapsed": false,
    "ExecuteTime": {
     "end_time": "2024-09-04T14:50:44.854749Z",
     "start_time": "2024-09-04T14:50:44.843826Z"
    }
   },
   "outputs": [],
   "execution_count": 8
  },
  {
   "cell_type": "markdown",
   "source": [
    "# Main (tmp obv)"
   ],
   "metadata": {
    "collapsed": false
   }
  },
  {
   "metadata": {
    "ExecuteTime": {
     "end_time": "2024-09-04T14:50:44.869124Z",
     "start_time": "2024-09-04T14:50:44.854749Z"
    }
   },
   "cell_type": "code",
   "source": [
    "def init_sipm_eff():\n",
    "  pdes_tmp = pd.read_csv('PDE.csv', sep=';', names=['A'])\n",
    "  t1 = []\n",
    "  t2 = []\n",
    "  for inedx, row in pdes_tmp.iterrows():\n",
    "      t1.append(float(row['A'].split(';')[0].replace(',', '.')))\n",
    "      t2.append(float(row['A'].split(';')[1].replace(',', '.')))\n",
    "  PDE_wvs = np.linspace(200, 900, 128)\n",
    "  PDEs = np.interp(PDE_wvs, t1, t2, left=0, right=0)\n",
    "  sipm_eff = fix_PDE_plot(PDEs, PDE_wvs)\n",
    "  return sipm_eff, PDE_wvs"
   ],
   "outputs": [],
   "execution_count": 9
  },
  {
   "cell_type": "code",
   "source": "sipm_eff, PDE_wvs = init_sipm_eff()",
   "metadata": {
    "collapsed": false,
    "ExecuteTime": {
     "end_time": "2024-09-04T14:50:44.890451Z",
     "start_time": "2024-09-04T14:50:44.869124Z"
    }
   },
   "outputs": [],
   "execution_count": 10
  },
  {
   "cell_type": "code",
   "source": [
    "x_grid = np.arange(-3*norm_r * np.sin(np.pi / 27), 3*norm_r * np.sin(np.pi / 27), SIPM_CELL_SIZE)\n",
    "z_grid = np.arange(-1400, 1400, SIPM_CELL_SIZE)\n",
    "grid = (x_grid, z_grid, PDE_wvs)"
   ],
   "metadata": {
    "collapsed": false,
    "ExecuteTime": {
     "end_time": "2024-09-04T14:50:44.892842Z",
     "start_time": "2024-09-04T14:50:44.890451Z"
    }
   },
   "outputs": [],
   "execution_count": 11
  },
  {
   "cell_type": "code",
   "source": [
    "x = np.array(file['events;13']['FarichBarrelG4Hits.postStepPosition.x'].array())\n",
    "y = np.array(file['events;13']['FarichBarrelG4Hits.postStepPosition.y'].array())\n",
    "z = np.array(file['events;13']['FarichBarrelG4Hits.postStepPosition.z'].array())\n",
    "wvs = 1239.841 / np.array(file['events;13']['FarichBarrelG4Hits.energy'].array()) * 1e-9"
   ],
   "metadata": {
    "collapsed": false,
    "ExecuteTime": {
     "end_time": "2024-09-04T14:50:45.714615Z",
     "start_time": "2024-09-04T14:50:44.892842Z"
    }
   },
   "outputs": [],
   "execution_count": 12
  },
  {
   "cell_type": "code",
   "source": [
    "# x1 = np.array(file['events;2']['DriftChamberG4Hits.postStepPosition.x'].array())\n",
    "# y1 = np.array(file['events;2']['DriftChamberG4Hits.postStepPosition.y'].array())\n",
    "# z1 = np.array(file['events;2']['DriftChamberG4Hits.postStepPosition.z'].array())\n",
    "# drift_chamber_coordinates = np.column_stack((x1, y1, z1))"
   ],
   "metadata": {
    "collapsed": false,
    "ExecuteTime": {
     "end_time": "2024-09-04T14:50:45.717782Z",
     "start_time": "2024-09-04T14:50:45.715627Z"
    }
   },
   "outputs": [],
   "execution_count": 13
  },
  {
   "metadata": {
    "ExecuteTime": {
     "end_time": "2024-09-04T14:50:45.730602Z",
     "start_time": "2024-09-04T14:50:45.717782Z"
    }
   },
   "cell_type": "code",
   "source": [
    "# x2 = np.array(file['events;2']['TPCG4Hits.postStepPosition.x'].array())\n",
    "# y2 = np.array(file['events;2']['TPCG4Hits.postStepPosition.y'].array())\n",
    "# z2 = np.array(file['events;2']['TPCG4Hits.postStepPosition.z'].array())\n",
    "# tpc_coordinates = np.column_stack((x2, y2, z2))"
   ],
   "outputs": [],
   "execution_count": 14
  },
  {
   "metadata": {
    "ExecuteTime": {
     "end_time": "2024-09-04T14:50:45.799568Z",
     "start_time": "2024-09-04T14:50:45.730602Z"
    }
   },
   "cell_type": "code",
   "source": [
    "x3 = np.array(file['events;13']['allGenParticles.core.p4.px'].array())\n",
    "y3 = np.array(file['events;13']['allGenParticles.core.p4.py'].array())\n",
    "z3 = np.array(file['events;13']['allGenParticles.core.p4.pz'].array())\n",
    "true_direction_coordinates = np.column_stack((x3, y3, z3))"
   ],
   "outputs": [],
   "execution_count": 15
  },
  {
   "cell_type": "code",
   "source": [
    "for i in range(len(wvs)):\n",
    "    wvs[i] = lin_move_to_grid(wvs[i], grid[2])"
   ],
   "metadata": {
    "collapsed": false,
    "ExecuteTime": {
     "end_time": "2024-09-04T14:50:47.705551Z",
     "start_time": "2024-09-04T14:50:45.799568Z"
    }
   },
   "outputs": [],
   "execution_count": 16
  },
  {
   "cell_type": "code",
   "source": [
    "coordinates = np.column_stack((x, y, z, wvs))\n",
    "\n",
    "coordinates.shape"
   ],
   "metadata": {
    "collapsed": false,
    "ExecuteTime": {
     "end_time": "2024-09-04T14:50:47.710064Z",
     "start_time": "2024-09-04T14:50:47.705551Z"
    }
   },
   "outputs": [
    {
     "data": {
      "text/plain": [
       "(10000, 4)"
      ]
     },
     "execution_count": 17,
     "metadata": {},
     "output_type": "execute_result"
    }
   ],
   "execution_count": 17
  },
  {
   "cell_type": "code",
   "source": [
    "idx_to_drop = []\n",
    "for i in range(coordinates.shape[0]):\n",
    "    if coordinates[i][0].shape[0] == 0:\n",
    "        idx_to_drop.append(i)"
   ],
   "metadata": {
    "collapsed": false,
    "ExecuteTime": {
     "end_time": "2024-09-04T14:50:47.722825Z",
     "start_time": "2024-09-04T14:50:47.710064Z"
    }
   },
   "outputs": [],
   "execution_count": 18
  },
  {
   "cell_type": "code",
   "source": [
    "coordinates = np.delete(coordinates, idx_to_drop, axis=0)\n",
    "# drift_chamber_coordinates = np.delete(drift_chamber_coordinates, idx_to_drop, axis=0)\n",
    "# tpc_coordinates = np.delete(tpc_coordinates, idx_to_drop, axis=0)\n",
    "true_direction_coordinates = np.delete(true_direction_coordinates, idx_to_drop, axis=0)\n",
    "print(coordinates.shape)\n",
    "# print(drift_chamber_coordinates.shape)\n",
    "# print(tpc_coordinates.shape)\n",
    "print(true_direction_coordinates.shape)"
   ],
   "metadata": {
    "collapsed": false,
    "ExecuteTime": {
     "end_time": "2024-09-04T14:50:47.734998Z",
     "start_time": "2024-09-04T14:50:47.722825Z"
    }
   },
   "outputs": [
    {
     "name": "stdout",
     "output_type": "stream",
     "text": [
      "(9977, 4)\n",
      "(9977, 3)\n"
     ]
    }
   ],
   "execution_count": 19
  },
  {
   "cell_type": "code",
   "source": [
    "sipm_sim(coordinates, sipm_eff)"
   ],
   "metadata": {
    "collapsed": false,
    "ExecuteTime": {
     "end_time": "2024-09-04T14:50:48.364692Z",
     "start_time": "2024-09-04T14:50:47.734998Z"
    }
   },
   "outputs": [],
   "execution_count": 20
  },
  {
   "cell_type": "code",
   "source": "# plot_cyl(file, coordinates, True)",
   "metadata": {
    "collapsed": false,
    "ExecuteTime": {
     "end_time": "2024-09-04T14:50:48.366870Z",
     "start_time": "2024-09-04T14:50:48.364692Z"
    }
   },
   "outputs": [],
   "execution_count": 21
  },
  {
   "cell_type": "code",
   "source": [
    "idx_to_drop = []\n",
    "for i in range(coordinates.shape[0]):\n",
    "    if coordinates[i][0].shape[0] == 0:\n",
    "        idx_to_drop.append(i)\n",
    "coordinates = np.delete(coordinates, idx_to_drop, axis=0)\n",
    "# drift_chamber_coordinates = np.delete(drift_chamber_coordinates, idx_to_drop, axis=0)\n",
    "# tpc_coordinates = np.delete(tpc_coordinates, idx_to_drop, axis=0)\n",
    "true_direction_coordinates = np.delete(true_direction_coordinates, idx_to_drop, axis=0)\n",
    "\n",
    "print(coordinates.shape)\n",
    "# print(drift_chamber_coordinates.shape)\n",
    "# print(tpc_coordinates.shape)\n",
    "print(true_direction_coordinates.shape)"
   ],
   "metadata": {
    "collapsed": false,
    "ExecuteTime": {
     "end_time": "2024-09-04T14:50:48.381003Z",
     "start_time": "2024-09-04T14:50:48.366870Z"
    }
   },
   "outputs": [
    {
     "name": "stdout",
     "output_type": "stream",
     "text": [
      "(9834, 4)\n",
      "(9834, 3)\n"
     ]
    }
   ],
   "execution_count": 22
  },
  {
   "metadata": {
    "ExecuteTime": {
     "end_time": "2024-09-04T14:50:48.640086Z",
     "start_time": "2024-09-04T14:50:48.381003Z"
    }
   },
   "cell_type": "code",
   "source": "main_angles = rotate_lines(true_direction_coordinates)",
   "outputs": [],
   "execution_count": 23
  },
  {
   "metadata": {
    "ExecuteTime": {
     "end_time": "2024-09-04T14:50:50.300466Z",
     "start_time": "2024-09-04T14:50:48.640086Z"
    }
   },
   "cell_type": "code",
   "source": "intersections = find_intersections(true_direction_coordinates)",
   "outputs": [],
   "execution_count": 24
  },
  {
   "metadata": {
    "ExecuteTime": {
     "end_time": "2024-09-04T14:50:50.302837Z",
     "start_time": "2024-09-04T14:50:50.300466Z"
    }
   },
   "cell_type": "code",
   "source": [
    "\n",
    "# num = 7 # unturned events\n",
    "# # plt.scatter(rotate_event(coordinates[0], main_angles[0])[:,0], rotate_event(coordinates[0], main_angles[0])[:,2])\n",
    "# plt.scatter(coordinates[num][0], coordinates[num][2])\n",
    "# plt.scatter(intersections[num][0], intersections[num][2])\n",
    "# plt.show()"
   ],
   "outputs": [],
   "execution_count": 25
  },
  {
   "metadata": {
    "ExecuteTime": {
     "end_time": "2024-09-04T14:50:50.314243Z",
     "start_time": "2024-09-04T14:50:50.302837Z"
    }
   },
   "cell_type": "code",
   "source": "# plot_event(coordinates[num], drift_chamber_coordinates[num],tpc_coordinates[num] , transposed=True)",
   "outputs": [],
   "execution_count": 26
  },
  {
   "cell_type": "code",
   "source": [
    "rotate_events(coordinates, main_angles)"
   ],
   "metadata": {
    "collapsed": false,
    "ExecuteTime": {
     "end_time": "2024-09-04T14:50:51.170447Z",
     "start_time": "2024-09-04T14:50:50.314243Z"
    }
   },
   "outputs": [],
   "execution_count": 27
  },
  {
   "cell_type": "code",
   "source": "# plot_cyl(file, coordinates)",
   "metadata": {
    "collapsed": false,
    "ExecuteTime": {
     "end_time": "2024-09-04T14:50:51.172555Z",
     "start_time": "2024-09-04T14:50:51.170447Z"
    }
   },
   "outputs": [],
   "execution_count": 28
  },
  {
   "cell_type": "code",
   "source": [
    "move_events_to_grid(coordinates, grid)"
   ],
   "metadata": {
    "collapsed": false,
    "ExecuteTime": {
     "end_time": "2024-09-04T14:50:55.173599Z",
     "start_time": "2024-09-04T14:50:51.172555Z"
    }
   },
   "outputs": [],
   "execution_count": 29
  },
  {
   "cell_type": "code",
   "source": "# plot_cyl(file, coordinates, True)",
   "metadata": {
    "collapsed": false,
    "ExecuteTime": {
     "end_time": "2024-09-04T14:50:55.175958Z",
     "start_time": "2024-09-04T14:50:55.173599Z"
    }
   },
   "outputs": [],
   "execution_count": 30
  },
  {
   "cell_type": "code",
   "source": [
    "# num = 2\n",
    "# # plt.scatter(rotate_event(coordinates[0], main_angles[0])[:,0], rotate_event(coordinates[0], main_angles[0])[:,2])\n",
    "# plt.scatter(coordinates[num][0], coordinates[num][2])\n",
    "# plt.scatter(intersections[num][0], intersections[num][2])\n",
    "# plt.show()"
   ],
   "metadata": {
    "collapsed": false,
    "ExecuteTime": {
     "end_time": "2024-09-04T14:50:55.186802Z",
     "start_time": "2024-09-04T14:50:55.175958Z"
    }
   },
   "outputs": [],
   "execution_count": 31
  },
  {
   "cell_type": "code",
   "source": [
    "r_c = (coordinates[:,0] - intersections[:,0]) ** 2 + (coordinates[:,1] - intersections[:,1]) ** 2"
   ],
   "metadata": {
    "collapsed": false,
    "ExecuteTime": {
     "end_time": "2024-09-04T14:50:55.236390Z",
     "start_time": "2024-09-04T14:50:55.186802Z"
    }
   },
   "outputs": [],
   "execution_count": 32
  },
  {
   "metadata": {
    "ExecuteTime": {
     "end_time": "2024-09-04T14:50:55.240622Z",
     "start_time": "2024-09-04T14:50:55.236390Z"
    }
   },
   "cell_type": "code",
   "source": "repeat_nums = np.array([coord[0].shape[0] for coord in coordinates])",
   "outputs": [],
   "execution_count": 33
  },
  {
   "cell_type": "code",
   "source": [
    "edf = pd.DataFrame(coordinates, columns=['x_c', 'y_c', 'z_c', 'wv_c'])\n",
    "edf['r_c'] = r_c"
   ],
   "metadata": {
    "collapsed": false,
    "ExecuteTime": {
     "end_time": "2024-09-04T14:50:55.252375Z",
     "start_time": "2024-09-04T14:50:55.240622Z"
    }
   },
   "outputs": [],
   "execution_count": 34
  },
  {
   "cell_type": "code",
   "source": [
    "unraveled_data = {col: [] for col in edf.columns}\n",
    "row_indices = []\n",
    "\n",
    "# Iterate over the DataFrame and unravel the arrays\n",
    "for i, row in edf.iterrows():\n",
    "    max_length = max(len(row[col]) for col in edf.columns)\n",
    "    for k in range(max_length):\n",
    "        row_indices.append((i, k))\n",
    "        for col in edf.columns:\n",
    "            if k < len(row[col]):\n",
    "                unraveled_data[col].append(row[col][k])\n",
    "            else:\n",
    "                unraveled_data[col].append(np.nan)  # Handle cases where arrays are of different lengths\n",
    "\n",
    "# Create a new DataFrame from the unraveled data\n",
    "unraveled_df = pd.DataFrame(unraveled_data)\n",
    "\n",
    "# Create a MultiIndex for the rows\n",
    "multi_index = pd.MultiIndex.from_tuples(row_indices, names=['entry', 'subentry'])\n",
    "unraveled_df.index = multi_index\n"
   ],
   "metadata": {
    "collapsed": false,
    "ExecuteTime": {
     "end_time": "2024-09-04T14:51:03.719707Z",
     "start_time": "2024-09-04T14:50:55.252375Z"
    }
   },
   "outputs": [],
   "execution_count": 35
  },
  {
   "cell_type": "code",
   "source": [
    "unraveled_df['r_c'] = np.sqrt(unraveled_df.r_c)"
   ],
   "metadata": {
    "collapsed": false,
    "ExecuteTime": {
     "end_time": "2024-09-04T14:51:03.724756Z",
     "start_time": "2024-09-04T14:51:03.719707Z"
    }
   },
   "outputs": [],
   "execution_count": 36
  },
  {
   "cell_type": "code",
   "source": [
    "edf = unraveled_df"
   ],
   "metadata": {
    "collapsed": false,
    "ExecuteTime": {
     "end_time": "2024-09-04T14:51:03.732992Z",
     "start_time": "2024-09-04T14:51:03.724756Z"
    }
   },
   "outputs": [],
   "execution_count": 37
  },
  {
   "metadata": {
    "ExecuteTime": {
     "end_time": "2024-09-04T14:51:03.752247Z",
     "start_time": "2024-09-04T14:51:03.736147Z"
    }
   },
   "cell_type": "code",
   "source": [
    "edf['x_i'] = np.repeat(intersections[:,0], repeat_nums, axis=0)\n",
    "edf['z_i'] = np.repeat(intersections[:,2], repeat_nums, axis=0)"
   ],
   "outputs": [],
   "execution_count": 38
  },
  {
   "metadata": {
    "ExecuteTime": {
     "end_time": "2024-09-04T14:51:03.810999Z",
     "start_time": "2024-09-04T14:51:03.752247Z"
    }
   },
   "cell_type": "code",
   "source": "x = y = z = x3 = y3 = z3 = unraveled_data = row_indices = main_angles = intersections = wvs = coordinates = file =  0",
   "outputs": [],
   "execution_count": 39
  },
  {
   "cell_type": "code",
   "source": [
    "plt.hist(edf[edf.r_c<1000].r_c, bins='doane')\n",
    "plt.show()"
   ],
   "metadata": {
    "collapsed": false,
    "ExecuteTime": {
     "end_time": "2024-09-04T14:51:03.926762Z",
     "start_time": "2024-09-04T14:51:03.811508Z"
    }
   },
   "outputs": [
    {
     "data": {
      "text/plain": [
       "<Figure size 640x480 with 1 Axes>"
      ],
      "image/png": "[encoded data removed]"
     },
     "metadata": {},
     "output_type": "display_data"
    }
   ],
   "execution_count": 40
  },
  {
   "metadata": {
    "ExecuteTime": {
     "end_time": "2024-09-04T14:51:04.164935Z",
     "start_time": "2024-09-04T14:51:03.926762Z"
    }
   },
   "cell_type": "code",
   "source": [
    "bdf = pd.DataFrame()\n",
    "edf['t_c'] = np.zeros(edf.shape[0])\n",
    "edf.drop('y_c', axis=1, inplace=True)\n",
    "edf.rename(columns={'z_c': 'y_c', 'z_i': 'y_i'}, inplace=True)\n",
    "edf['z_c'] = np.zeros(edf.shape[0]) + 2000\n",
    "edf['true_p'] = np.repeat(np.linalg.norm(true_direction_coordinates.astype('float'), axis=1)*1000, repeat_nums, axis=0)\n",
    "edf['beta'] = edf.true_p / np.sqrt(139.57 ** 2 + edf.true_p ** 2)\n",
    "edf['nx_p'] = np.repeat((true_direction_coordinates / np.array([np.linalg.norm(true_direction_coordinates.astype('float'), axis=1) for i in range(3)]).T).astype('float')\n",
    "[:,0], repeat_nums, axis=0)\n",
    "edf['ny_p'] = np.repeat((true_direction_coordinates / np.array([np.linalg.norm(true_direction_coordinates.astype('float'), axis=1) for i in range(3)]).T).astype('float')\n",
    "[:,2], repeat_nums, axis=0)\n",
    "edf['nz_p'] = np.repeat((true_direction_coordinates / np.array([np.linalg.norm(true_direction_coordinates.astype('float'), axis=1) for i in range(3)]).T).astype('float')\n",
    "[:,1], repeat_nums, axis=0)"
   ],
   "outputs": [
    {
     "name": "stderr",
     "output_type": "stream",
     "text": [
      "C:\\Users\\BRINE\\AppData\\Local\\Temp\\ipykernel_3952\\1986587013.py:6: DeprecationWarning: Conversion of an array with ndim > 0 to a scalar is deprecated, and will error in future. Ensure you extract a single element from your array before performing this operation. (Deprecated NumPy 1.25.)\n",
      "  edf['true_p'] = np.repeat(np.linalg.norm(true_direction_coordinates.astype('float'), axis=1)*1000, repeat_nums, axis=0)\n",
      "C:\\Users\\BRINE\\AppData\\Local\\Temp\\ipykernel_3952\\1986587013.py:8: DeprecationWarning: Conversion of an array with ndim > 0 to a scalar is deprecated, and will error in future. Ensure you extract a single element from your array before performing this operation. (Deprecated NumPy 1.25.)\n",
      "  edf['nx_p'] = np.repeat((true_direction_coordinates / np.array([np.linalg.norm(true_direction_coordinates.astype('float'), axis=1) for i in range(3)]).T).astype('float')\n",
      "C:\\Users\\BRINE\\AppData\\Local\\Temp\\ipykernel_3952\\1986587013.py:10: DeprecationWarning: Conversion of an array with ndim > 0 to a scalar is deprecated, and will error in future. Ensure you extract a single element from your array before performing this operation. (Deprecated NumPy 1.25.)\n",
      "  edf['ny_p'] = np.repeat((true_direction_coordinates / np.array([np.linalg.norm(true_direction_coordinates.astype('float'), axis=1) for i in range(3)]).T).astype('float')\n",
      "C:\\Users\\BRINE\\AppData\\Local\\Temp\\ipykernel_3952\\1986587013.py:12: DeprecationWarning: Conversion of an array with ndim > 0 to a scalar is deprecated, and will error in future. Ensure you extract a single element from your array before performing this operation. (Deprecated NumPy 1.25.)\n",
      "  edf['nz_p'] = np.repeat((true_direction_coordinates / np.array([np.linalg.norm(true_direction_coordinates.astype('float'), axis=1) for i in range(3)]).T).astype('float')\n"
     ]
    }
   ],
   "execution_count": 41
  },
  {
   "metadata": {
    "ExecuteTime": {
     "end_time": "2024-09-04T14:51:04.168399Z",
     "start_time": "2024-09-04T14:51:04.164935Z"
    }
   },
   "cell_type": "code",
   "source": "true_direction_coordinates = repeat_nums = 0",
   "outputs": [],
   "execution_count": 42
  },
  {
   "metadata": {
    "ExecuteTime": {
     "end_time": "2024-09-04T14:51:04.179838Z",
     "start_time": "2024-09-04T14:51:04.168399Z"
    }
   },
   "cell_type": "code",
   "source": "edf.shape[0]",
   "outputs": [
    {
     "data": {
      "text/plain": [
       "750499"
      ]
     },
     "execution_count": 43,
     "metadata": {},
     "output_type": "execute_result"
    }
   ],
   "execution_count": 43
  },
  {
   "metadata": {
    "ExecuteTime": {
     "end_time": "2024-09-04T14:51:04.192092Z",
     "start_time": "2024-09-04T14:51:04.179838Z"
    }
   },
   "cell_type": "code",
   "source": [
    "idf = pd.DataFrame()\n",
    "# idf['W'] = [35.]\n",
    "idf['W'] = [40.]\n",
    "\n",
    "idf['zdis'] = [800.]\n",
    "idf['distance'] = [200.]\n",
    "# idf['n_mean'] = [1.0454]\n",
    "\n",
    "idf['n_mean'] = [1.0502]\n",
    "\n",
    "idf['pixel_size'] = [3.16]"
   ],
   "outputs": [],
   "execution_count": 44
  },
  {
   "metadata": {
    "ExecuteTime": {
     "end_time": "2024-09-04T14:51:04.206415Z",
     "start_time": "2024-09-04T14:51:04.192092Z"
    }
   },
   "cell_type": "code",
   "source": "idf",
   "outputs": [
    {
     "data": {
      "text/plain": [
       "      W   zdis  distance  n_mean  pixel_size\n",
       "0  40.0  800.0     200.0  1.0502        3.16"
      ],
      "text/html": [
       "<div>\n",
       "<style scoped>\n",
       "    .dataframe tbody tr th:only-of-type {\n",
       "        vertical-align: middle;\n",
       "    }\n",
       "\n",
       "    .dataframe tbody tr th {\n",
       "        vertical-align: top;\n",
       "    }\n",
       "\n",
       "    .dataframe thead th {\n",
       "        text-align: right;\n",
       "    }\n",
       "</style>\n",
       "<table border=\"1\" class=\"dataframe\">\n",
       "  <thead>\n",
       "    <tr style=\"text-align: right;\">\n",
       "      <th></th>\n",
       "      <th>W</th>\n",
       "      <th>zdis</th>\n",
       "      <th>distance</th>\n",
       "      <th>n_mean</th>\n",
       "      <th>pixel_size</th>\n",
       "    </tr>\n",
       "  </thead>\n",
       "  <tbody>\n",
       "    <tr>\n",
       "      <th>0</th>\n",
       "      <td>40.0</td>\n",
       "      <td>800.0</td>\n",
       "      <td>200.0</td>\n",
       "      <td>1.0502</td>\n",
       "      <td>3.16</td>\n",
       "    </tr>\n",
       "  </tbody>\n",
       "</table>\n",
       "</div>"
      ]
     },
     "execution_count": 45,
     "metadata": {},
     "output_type": "execute_result"
    }
   ],
   "execution_count": 45
  },
  {
   "metadata": {
    "ExecuteTime": {
     "end_time": "2024-09-04T14:51:04.244193Z",
     "start_time": "2024-09-04T14:51:04.206415Z"
    }
   },
   "cell_type": "code",
   "source": "edf = applySpaceCut(edf)",
   "outputs": [],
   "execution_count": 46
  },
  {
   "metadata": {
    "ExecuteTime": {
     "end_time": "2024-09-04T14:51:04.322270Z",
     "start_time": "2024-09-04T14:51:04.244193Z"
    }
   },
   "cell_type": "code",
   "source": "planeRecalculation(edf, idf)",
   "outputs": [
    {
     "name": "stderr",
     "output_type": "stream",
     "text": [
      "Z:\\Prog\\FARICH\\farich_functions.py:359: FutureWarning: Calling float on a single element Series is deprecated and will raise a TypeError in the future. Use float(ser.iloc[0]) instead\n",
      "  alpha = (float(dist)) / N[:, 2]\n",
      "Z:\\Prog\\FARICH\\farich_functions.py:372: SettingWithCopyWarning: \n",
      "A value is trying to be set on a copy of a slice from a DataFrame.\n",
      "Try using .loc[row_indexer,col_indexer] = value instead\n",
      "\n",
      "See the caveats in the documentation: https://pandas.pydata.org/pandas-docs/stable/user_guide/indexing.html#returning-a-view-versus-a-copy\n",
      "  edf['t_c'] = edf['t_c'] + np.sign(R_new[:, 2] - R[:, 2]) * t_dif\n",
      "Z:\\Prog\\FARICH\\farich_functions.py:374: SettingWithCopyWarning: \n",
      "A value is trying to be set on a copy of a slice from a DataFrame.\n",
      "Try using .loc[row_indexer,col_indexer] = value instead\n",
      "\n",
      "See the caveats in the documentation: https://pandas.pydata.org/pandas-docs/stable/user_guide/indexing.html#returning-a-view-versus-a-copy\n",
      "  edf['recalculated_x'] = R_new[:, 0]\n",
      "Z:\\Prog\\FARICH\\farich_functions.py:375: SettingWithCopyWarning: \n",
      "A value is trying to be set on a copy of a slice from a DataFrame.\n",
      "Try using .loc[row_indexer,col_indexer] = value instead\n",
      "\n",
      "See the caveats in the documentation: https://pandas.pydata.org/pandas-docs/stable/user_guide/indexing.html#returning-a-view-versus-a-copy\n",
      "  edf['recalculated_y'] = R_new[:, 1]\n",
      "Z:\\Prog\\FARICH\\farich_functions.py:376: SettingWithCopyWarning: \n",
      "A value is trying to be set on a copy of a slice from a DataFrame.\n",
      "Try using .loc[row_indexer,col_indexer] = value instead\n",
      "\n",
      "See the caveats in the documentation: https://pandas.pydata.org/pandas-docs/stable/user_guide/indexing.html#returning-a-view-versus-a-copy\n",
      "  edf['recalculated_z'] = R_new[:, 2]\n"
     ]
    }
   ],
   "execution_count": 47
  },
  {
   "metadata": {
    "ExecuteTime": {
     "end_time": "2024-09-04T14:51:04.329937Z",
     "start_time": "2024-09-04T14:51:04.322270Z"
    }
   },
   "cell_type": "code",
   "source": [
    "edf['x_p'] = np.zeros(edf.shape[0])\n",
    "edf['y_p'] = np.zeros(edf.shape[0])\n",
    "edf['z_p'] = np.zeros(edf.shape[0])\n"
   ],
   "outputs": [
    {
     "name": "stderr",
     "output_type": "stream",
     "text": [
      "C:\\Users\\BRINE\\AppData\\Local\\Temp\\ipykernel_3952\\210028248.py:1: SettingWithCopyWarning: \n",
      "A value is trying to be set on a copy of a slice from a DataFrame.\n",
      "Try using .loc[row_indexer,col_indexer] = value instead\n",
      "\n",
      "See the caveats in the documentation: https://pandas.pydata.org/pandas-docs/stable/user_guide/indexing.html#returning-a-view-versus-a-copy\n",
      "  edf['x_p'] = np.zeros(edf.shape[0])\n",
      "C:\\Users\\BRINE\\AppData\\Local\\Temp\\ipykernel_3952\\210028248.py:2: SettingWithCopyWarning: \n",
      "A value is trying to be set on a copy of a slice from a DataFrame.\n",
      "Try using .loc[row_indexer,col_indexer] = value instead\n",
      "\n",
      "See the caveats in the documentation: https://pandas.pydata.org/pandas-docs/stable/user_guide/indexing.html#returning-a-view-versus-a-copy\n",
      "  edf['y_p'] = np.zeros(edf.shape[0])\n",
      "C:\\Users\\BRINE\\AppData\\Local\\Temp\\ipykernel_3952\\210028248.py:3: SettingWithCopyWarning: \n",
      "A value is trying to be set on a copy of a slice from a DataFrame.\n",
      "Try using .loc[row_indexer,col_indexer] = value instead\n",
      "\n",
      "See the caveats in the documentation: https://pandas.pydata.org/pandas-docs/stable/user_guide/indexing.html#returning-a-view-versus-a-copy\n",
      "  edf['z_p'] = np.zeros(edf.shape[0])\n"
     ]
    }
   ],
   "execution_count": 48
  },
  {
   "metadata": {
    "ExecuteTime": {
     "end_time": "2024-09-04T14:51:04.532283Z",
     "start_time": "2024-09-04T14:51:04.329937Z"
    }
   },
   "cell_type": "code",
   "source": "planeRotation(edf)",
   "outputs": [
    {
     "name": "stderr",
     "output_type": "stream",
     "text": [
      "Z:\\Prog\\FARICH\\farich_functions.py:408: SettingWithCopyWarning: \n",
      "A value is trying to be set on a copy of a slice from a DataFrame.\n",
      "Try using .loc[row_indexer,col_indexer] = value instead\n",
      "\n",
      "See the caveats in the documentation: https://pandas.pydata.org/pandas-docs/stable/user_guide/indexing.html#returning-a-view-versus-a-copy\n",
      "  edf['rotated_x'] = rotated_R[:,0]\n",
      "Z:\\Prog\\FARICH\\farich_functions.py:409: SettingWithCopyWarning: \n",
      "A value is trying to be set on a copy of a slice from a DataFrame.\n",
      "Try using .loc[row_indexer,col_indexer] = value instead\n",
      "\n",
      "See the caveats in the documentation: https://pandas.pydata.org/pandas-docs/stable/user_guide/indexing.html#returning-a-view-versus-a-copy\n",
      "  edf['rotated_y'] = rotated_R[:,1]\n",
      "Z:\\Prog\\FARICH\\farich_functions.py:410: SettingWithCopyWarning: \n",
      "A value is trying to be set on a copy of a slice from a DataFrame.\n",
      "Try using .loc[row_indexer,col_indexer] = value instead\n",
      "\n",
      "See the caveats in the documentation: https://pandas.pydata.org/pandas-docs/stable/user_guide/indexing.html#returning-a-view-versus-a-copy\n",
      "  edf['rotated_z'] = rotated_R[:,2]\n",
      "Z:\\Prog\\FARICH\\farich_functions.py:411: SettingWithCopyWarning: \n",
      "A value is trying to be set on a copy of a slice from a DataFrame.\n",
      "Try using .loc[row_indexer,col_indexer] = value instead\n",
      "\n",
      "See the caveats in the documentation: https://pandas.pydata.org/pandas-docs/stable/user_guide/indexing.html#returning-a-view-versus-a-copy\n",
      "  edf['rotated_x_i'] = rotated_R_i[:,0]\n",
      "Z:\\Prog\\FARICH\\farich_functions.py:412: SettingWithCopyWarning: \n",
      "A value is trying to be set on a copy of a slice from a DataFrame.\n",
      "Try using .loc[row_indexer,col_indexer] = value instead\n",
      "\n",
      "See the caveats in the documentation: https://pandas.pydata.org/pandas-docs/stable/user_guide/indexing.html#returning-a-view-versus-a-copy\n",
      "  edf['rotated_y_i'] = rotated_R_i[:,1]\n",
      "Z:\\Prog\\FARICH\\farich_functions.py:413: SettingWithCopyWarning: \n",
      "A value is trying to be set on a copy of a slice from a DataFrame.\n",
      "Try using .loc[row_indexer,col_indexer] = value instead\n",
      "\n",
      "See the caveats in the documentation: https://pandas.pydata.org/pandas-docs/stable/user_guide/indexing.html#returning-a-view-versus-a-copy\n",
      "  edf['rotated_z_i'] = rotated_R_i[:,2]\n",
      "Z:\\Prog\\FARICH\\farich_functions.py:414: SettingWithCopyWarning: \n",
      "A value is trying to be set on a copy of a slice from a DataFrame.\n",
      "Try using .loc[row_indexer,col_indexer] = value instead\n",
      "\n",
      "See the caveats in the documentation: https://pandas.pydata.org/pandas-docs/stable/user_guide/indexing.html#returning-a-view-versus-a-copy\n",
      "  edf['rotated_nx_p'] = rotated_n[:,0]\n",
      "Z:\\Prog\\FARICH\\farich_functions.py:415: SettingWithCopyWarning: \n",
      "A value is trying to be set on a copy of a slice from a DataFrame.\n",
      "Try using .loc[row_indexer,col_indexer] = value instead\n",
      "\n",
      "See the caveats in the documentation: https://pandas.pydata.org/pandas-docs/stable/user_guide/indexing.html#returning-a-view-versus-a-copy\n",
      "  edf['rotated_ny_p'] = rotated_n[:,1]\n",
      "Z:\\Prog\\FARICH\\farich_functions.py:416: SettingWithCopyWarning: \n",
      "A value is trying to be set on a copy of a slice from a DataFrame.\n",
      "Try using .loc[row_indexer,col_indexer] = value instead\n",
      "\n",
      "See the caveats in the documentation: https://pandas.pydata.org/pandas-docs/stable/user_guide/indexing.html#returning-a-view-versus-a-copy\n",
      "  edf['rotated_nz_p'] = rotated_n[:,2]\n"
     ]
    }
   ],
   "execution_count": 49
  },
  {
   "metadata": {
    "ExecuteTime": {
     "end_time": "2024-09-04T14:51:04.588922Z",
     "start_time": "2024-09-04T14:51:04.532283Z"
    }
   },
   "cell_type": "code",
   "source": "edf = applySecondSpaceCut(edf)",
   "outputs": [],
   "execution_count": 50
  },
  {
   "metadata": {
    "ExecuteTime": {
     "end_time": "2024-09-04T14:51:06.604750Z",
     "start_time": "2024-09-04T14:51:04.588922Z"
    }
   },
   "cell_type": "code",
   "source": [
    "bdf = pd.DataFrame()\n",
    "edf_to_bdf(edf.r_c.groupby(level=0).transform('mean'), bdf)\n",
    "bdf.rename(columns={'r_c': 'r_c_mean'}, inplace=True)\n",
    "edf_to_bdf(edf.r_c.groupby(level=0).transform('std'), bdf)\n",
    "bdf.rename(columns={'r_c': 'r_c_std'}, inplace=True)\n",
    "edf_to_bdf(edf.r_c.groupby(level=0).transform(lambda x: x.max() - x.min()), bdf)\n",
    "bdf.rename(columns={'r_c': 'r_c_width'}, inplace=True)\n",
    "edf_to_bdf(edf.true_p, bdf)\n",
    "bdf.rename(columns={'true_p': 'momentum'}, inplace=True)"
   ],
   "outputs": [],
   "execution_count": 51
  },
  {
   "metadata": {
    "ExecuteTime": {
     "end_time": "2024-09-04T14:51:06.788524Z",
     "start_time": "2024-09-04T14:51:06.604750Z"
    }
   },
   "cell_type": "code",
   "source": "edf",
   "outputs": [
    {
     "data": {
      "text/plain": [
       "                       x_c     y_c        wv_c        r_c        x_i  \\\n",
       "entry subentry                                                         \n",
       "0     0          35.680131   54.88  492.125984  35.559083  71.239214   \n",
       "      1          32.320131  155.68  414.960630  38.919083  71.239214   \n",
       "      2         133.120131   95.20  508.661417  61.880917  71.239214   \n",
       "      3          65.920131  169.12  365.354331   5.319083  71.239214   \n",
       "      4           8.800131  112.00  525.196850  62.439083  71.239214   \n",
       "...                    ...     ...         ...        ...        ...   \n",
       "9833  91        -95.359869 -220.64  453.543307  17.832543 -77.527326   \n",
       "      92        -38.239869 -314.72  420.472441  39.287457 -77.527326   \n",
       "      93       -115.519869 -314.72  470.078740  37.992543 -77.527326   \n",
       "      94        -91.999869 -217.28  359.842520  14.472543 -77.527326   \n",
       "      95        -98.719869 -220.64  381.889764  21.192543 -77.527326   \n",
       "\n",
       "                       y_i       t_c     z_c       true_p      beta  ...  z_p  \\\n",
       "entry subentry                                                       ...        \n",
       "0     0         102.379707  0.024780  2000.0  1408.464406  0.995126  ...  0.0   \n",
       "      1         102.379707 -0.008931  2000.0  1408.464406  0.995126  ...  0.0   \n",
       "      2         102.379707 -0.012211  2000.0  1408.464406  0.995126  ...  0.0   \n",
       "      3         102.379707 -0.021416  2000.0  1408.464406  0.995126  ...  0.0   \n",
       "      4         102.379707  0.011572  2000.0  1408.464406  0.995126  ...  0.0   \n",
       "...                    ...       ...     ...          ...       ...  ...  ...   \n",
       "9833  91       -264.051181  0.033536  2000.0  1394.755125  0.995031  ...  0.0   \n",
       "      92       -264.051181 -0.033907  2000.0  1394.755125  0.995031  ...  0.0   \n",
       "      93       -264.051181 -0.053340  2000.0  1394.755125  0.995031  ...  0.0   \n",
       "      94       -264.051181  0.037387  2000.0  1394.755125  0.995031  ...  0.0   \n",
       "      95       -264.051181  0.032664  2000.0  1394.755125  0.995031  ...  0.0   \n",
       "\n",
       "                 rotated_x   rotated_y    rotated_z  rotated_x_i  rotated_y_i  \\\n",
       "entry subentry                                                                  \n",
       "0     0        -106.657084 -149.653800  2000.059575   -70.691475  -101.592538   \n",
       "      1        -109.456665  -48.318415  2000.059575   -70.691475  -101.592538   \n",
       "      2          -8.912215 -108.620782  2000.059575   -70.691475  -101.592538   \n",
       "      3         -75.824064  -34.987904  2000.059575   -70.691475  -101.592538   \n",
       "      4        -133.399209  -92.066573  2000.059575   -70.691475  -101.592538   \n",
       "...                    ...         ...          ...          ...          ...   \n",
       "9833  91         57.027686  299.265484  2001.332499    74.748496   254.586731   \n",
       "      92        113.433111  203.448014  2001.332499    74.748496   254.586731   \n",
       "      93         36.850950  203.179241  2001.332499    74.748496   254.586731   \n",
       "      94         60.432435  302.803082  2001.332499    74.748496   254.586731   \n",
       "      95         53.636903  299.232456  2001.332499    74.748496   254.586731   \n",
       "\n",
       "                rotated_z_i  rotated_nx_p  rotated_ny_p  rotated_nz_p  \n",
       "entry subentry                                                         \n",
       "0     0         2000.059575     -0.035277     -0.050698      0.998091  \n",
       "      1         2000.059575     -0.035277     -0.050698      0.998091  \n",
       "      2         2000.059575     -0.035277     -0.050698      0.998091  \n",
       "      3         2000.059575     -0.035277     -0.050698      0.998091  \n",
       "      4         2000.059575     -0.035277     -0.050698      0.998091  \n",
       "...                     ...           ...           ...           ...  \n",
       "9833  91        2001.332499      0.037025      0.126105      0.991326  \n",
       "      92        2001.332499      0.037025      0.126105      0.991326  \n",
       "      93        2001.332499      0.037025      0.126105      0.991326  \n",
       "      94        2001.332499      0.037025      0.126105      0.991326  \n",
       "      95        2001.332499      0.037025      0.126105      0.991326  \n",
       "\n",
       "[730388 rows x 28 columns]"
      ],
      "text/html": [
       "<div>\n",
       "<style scoped>\n",
       "    .dataframe tbody tr th:only-of-type {\n",
       "        vertical-align: middle;\n",
       "    }\n",
       "\n",
       "    .dataframe tbody tr th {\n",
       "        vertical-align: top;\n",
       "    }\n",
       "\n",
       "    .dataframe thead th {\n",
       "        text-align: right;\n",
       "    }\n",
       "</style>\n",
       "<table border=\"1\" class=\"dataframe\">\n",
       "  <thead>\n",
       "    <tr style=\"text-align: right;\">\n",
       "      <th></th>\n",
       "      <th></th>\n",
       "      <th>x_c</th>\n",
       "      <th>y_c</th>\n",
       "      <th>wv_c</th>\n",
       "      <th>r_c</th>\n",
       "      <th>x_i</th>\n",
       "      <th>y_i</th>\n",
       "      <th>t_c</th>\n",
       "      <th>z_c</th>\n",
       "      <th>true_p</th>\n",
       "      <th>beta</th>\n",
       "      <th>...</th>\n",
       "      <th>z_p</th>\n",
       "      <th>rotated_x</th>\n",
       "      <th>rotated_y</th>\n",
       "      <th>rotated_z</th>\n",
       "      <th>rotated_x_i</th>\n",
       "      <th>rotated_y_i</th>\n",
       "      <th>rotated_z_i</th>\n",
       "      <th>rotated_nx_p</th>\n",
       "      <th>rotated_ny_p</th>\n",
       "      <th>rotated_nz_p</th>\n",
       "    </tr>\n",
       "    <tr>\n",
       "      <th>entry</th>\n",
       "      <th>subentry</th>\n",
       "      <th></th>\n",
       "      <th></th>\n",
       "      <th></th>\n",
       "      <th></th>\n",
       "      <th></th>\n",
       "      <th></th>\n",
       "      <th></th>\n",
       "      <th></th>\n",
       "      <th></th>\n",
       "      <th></th>\n",
       "      <th></th>\n",
       "      <th></th>\n",
       "      <th></th>\n",
       "      <th></th>\n",
       "      <th></th>\n",
       "      <th></th>\n",
       "      <th></th>\n",
       "      <th></th>\n",
       "      <th></th>\n",
       "      <th></th>\n",
       "      <th></th>\n",
       "    </tr>\n",
       "  </thead>\n",
       "  <tbody>\n",
       "    <tr>\n",
       "      <th rowspan=\"5\" valign=\"top\">0</th>\n",
       "      <th>0</th>\n",
       "      <td>35.680131</td>\n",
       "      <td>54.88</td>\n",
       "      <td>492.125984</td>\n",
       "      <td>35.559083</td>\n",
       "      <td>71.239214</td>\n",
       "      <td>102.379707</td>\n",
       "      <td>0.024780</td>\n",
       "      <td>2000.0</td>\n",
       "      <td>1408.464406</td>\n",
       "      <td>0.995126</td>\n",
       "      <td>...</td>\n",
       "      <td>0.0</td>\n",
       "      <td>-106.657084</td>\n",
       "      <td>-149.653800</td>\n",
       "      <td>2000.059575</td>\n",
       "      <td>-70.691475</td>\n",
       "      <td>-101.592538</td>\n",
       "      <td>2000.059575</td>\n",
       "      <td>-0.035277</td>\n",
       "      <td>-0.050698</td>\n",
       "      <td>0.998091</td>\n",
       "    </tr>\n",
       "    <tr>\n",
       "      <th>1</th>\n",
       "      <td>32.320131</td>\n",
       "      <td>155.68</td>\n",
       "      <td>414.960630</td>\n",
       "      <td>38.919083</td>\n",
       "      <td>71.239214</td>\n",
       "      <td>102.379707</td>\n",
       "      <td>-0.008931</td>\n",
       "      <td>2000.0</td>\n",
       "      <td>1408.464406</td>\n",
       "      <td>0.995126</td>\n",
       "      <td>...</td>\n",
       "      <td>0.0</td>\n",
       "      <td>-109.456665</td>\n",
       "      <td>-48.318415</td>\n",
       "      <td>2000.059575</td>\n",
       "      <td>-70.691475</td>\n",
       "      <td>-101.592538</td>\n",
       "      <td>2000.059575</td>\n",
       "      <td>-0.035277</td>\n",
       "      <td>-0.050698</td>\n",
       "      <td>0.998091</td>\n",
       "    </tr>\n",
       "    <tr>\n",
       "      <th>2</th>\n",
       "      <td>133.120131</td>\n",
       "      <td>95.20</td>\n",
       "      <td>508.661417</td>\n",
       "      <td>61.880917</td>\n",
       "      <td>71.239214</td>\n",
       "      <td>102.379707</td>\n",
       "      <td>-0.012211</td>\n",
       "      <td>2000.0</td>\n",
       "      <td>1408.464406</td>\n",
       "      <td>0.995126</td>\n",
       "      <td>...</td>\n",
       "      <td>0.0</td>\n",
       "      <td>-8.912215</td>\n",
       "      <td>-108.620782</td>\n",
       "      <td>2000.059575</td>\n",
       "      <td>-70.691475</td>\n",
       "      <td>-101.592538</td>\n",
       "      <td>2000.059575</td>\n",
       "      <td>-0.035277</td>\n",
       "      <td>-0.050698</td>\n",
       "      <td>0.998091</td>\n",
       "    </tr>\n",
       "    <tr>\n",
       "      <th>3</th>\n",
       "      <td>65.920131</td>\n",
       "      <td>169.12</td>\n",
       "      <td>365.354331</td>\n",
       "      <td>5.319083</td>\n",
       "      <td>71.239214</td>\n",
       "      <td>102.379707</td>\n",
       "      <td>-0.021416</td>\n",
       "      <td>2000.0</td>\n",
       "      <td>1408.464406</td>\n",
       "      <td>0.995126</td>\n",
       "      <td>...</td>\n",
       "      <td>0.0</td>\n",
       "      <td>-75.824064</td>\n",
       "      <td>-34.987904</td>\n",
       "      <td>2000.059575</td>\n",
       "      <td>-70.691475</td>\n",
       "      <td>-101.592538</td>\n",
       "      <td>2000.059575</td>\n",
       "      <td>-0.035277</td>\n",
       "      <td>-0.050698</td>\n",
       "      <td>0.998091</td>\n",
       "    </tr>\n",
       "    <tr>\n",
       "      <th>4</th>\n",
       "      <td>8.800131</td>\n",
       "      <td>112.00</td>\n",
       "      <td>525.196850</td>\n",
       "      <td>62.439083</td>\n",
       "      <td>71.239214</td>\n",
       "      <td>102.379707</td>\n",
       "      <td>0.011572</td>\n",
       "      <td>2000.0</td>\n",
       "      <td>1408.464406</td>\n",
       "      <td>0.995126</td>\n",
       "      <td>...</td>\n",
       "      <td>0.0</td>\n",
       "      <td>-133.399209</td>\n",
       "      <td>-92.066573</td>\n",
       "      <td>2000.059575</td>\n",
       "      <td>-70.691475</td>\n",
       "      <td>-101.592538</td>\n",
       "      <td>2000.059575</td>\n",
       "      <td>-0.035277</td>\n",
       "      <td>-0.050698</td>\n",
       "      <td>0.998091</td>\n",
       "    </tr>\n",
       "    <tr>\n",
       "      <th>...</th>\n",
       "      <th>...</th>\n",
       "      <td>...</td>\n",
       "      <td>...</td>\n",
       "      <td>...</td>\n",
       "      <td>...</td>\n",
       "      <td>...</td>\n",
       "      <td>...</td>\n",
       "      <td>...</td>\n",
       "      <td>...</td>\n",
       "      <td>...</td>\n",
       "      <td>...</td>\n",
       "      <td>...</td>\n",
       "      <td>...</td>\n",
       "      <td>...</td>\n",
       "      <td>...</td>\n",
       "      <td>...</td>\n",
       "      <td>...</td>\n",
       "      <td>...</td>\n",
       "      <td>...</td>\n",
       "      <td>...</td>\n",
       "      <td>...</td>\n",
       "      <td>...</td>\n",
       "    </tr>\n",
       "    <tr>\n",
       "      <th rowspan=\"5\" valign=\"top\">9833</th>\n",
       "      <th>91</th>\n",
       "      <td>-95.359869</td>\n",
       "      <td>-220.64</td>\n",
       "      <td>453.543307</td>\n",
       "      <td>17.832543</td>\n",
       "      <td>-77.527326</td>\n",
       "      <td>-264.051181</td>\n",
       "      <td>0.033536</td>\n",
       "      <td>2000.0</td>\n",
       "      <td>1394.755125</td>\n",
       "      <td>0.995031</td>\n",
       "      <td>...</td>\n",
       "      <td>0.0</td>\n",
       "      <td>57.027686</td>\n",
       "      <td>299.265484</td>\n",
       "      <td>2001.332499</td>\n",
       "      <td>74.748496</td>\n",
       "      <td>254.586731</td>\n",
       "      <td>2001.332499</td>\n",
       "      <td>0.037025</td>\n",
       "      <td>0.126105</td>\n",
       "      <td>0.991326</td>\n",
       "    </tr>\n",
       "    <tr>\n",
       "      <th>92</th>\n",
       "      <td>-38.239869</td>\n",
       "      <td>-314.72</td>\n",
       "      <td>420.472441</td>\n",
       "      <td>39.287457</td>\n",
       "      <td>-77.527326</td>\n",
       "      <td>-264.051181</td>\n",
       "      <td>-0.033907</td>\n",
       "      <td>2000.0</td>\n",
       "      <td>1394.755125</td>\n",
       "      <td>0.995031</td>\n",
       "      <td>...</td>\n",
       "      <td>0.0</td>\n",
       "      <td>113.433111</td>\n",
       "      <td>203.448014</td>\n",
       "      <td>2001.332499</td>\n",
       "      <td>74.748496</td>\n",
       "      <td>254.586731</td>\n",
       "      <td>2001.332499</td>\n",
       "      <td>0.037025</td>\n",
       "      <td>0.126105</td>\n",
       "      <td>0.991326</td>\n",
       "    </tr>\n",
       "    <tr>\n",
       "      <th>93</th>\n",
       "      <td>-115.519869</td>\n",
       "      <td>-314.72</td>\n",
       "      <td>470.078740</td>\n",
       "      <td>37.992543</td>\n",
       "      <td>-77.527326</td>\n",
       "      <td>-264.051181</td>\n",
       "      <td>-0.053340</td>\n",
       "      <td>2000.0</td>\n",
       "      <td>1394.755125</td>\n",
       "      <td>0.995031</td>\n",
       "      <td>...</td>\n",
       "      <td>0.0</td>\n",
       "      <td>36.850950</td>\n",
       "      <td>203.179241</td>\n",
       "      <td>2001.332499</td>\n",
       "      <td>74.748496</td>\n",
       "      <td>254.586731</td>\n",
       "      <td>2001.332499</td>\n",
       "      <td>0.037025</td>\n",
       "      <td>0.126105</td>\n",
       "      <td>0.991326</td>\n",
       "    </tr>\n",
       "    <tr>\n",
       "      <th>94</th>\n",
       "      <td>-91.999869</td>\n",
       "      <td>-217.28</td>\n",
       "      <td>359.842520</td>\n",
       "      <td>14.472543</td>\n",
       "      <td>-77.527326</td>\n",
       "      <td>-264.051181</td>\n",
       "      <td>0.037387</td>\n",
       "      <td>2000.0</td>\n",
       "      <td>1394.755125</td>\n",
       "      <td>0.995031</td>\n",
       "      <td>...</td>\n",
       "      <td>0.0</td>\n",
       "      <td>60.432435</td>\n",
       "      <td>302.803082</td>\n",
       "      <td>2001.332499</td>\n",
       "      <td>74.748496</td>\n",
       "      <td>254.586731</td>\n",
       "      <td>2001.332499</td>\n",
       "      <td>0.037025</td>\n",
       "      <td>0.126105</td>\n",
       "      <td>0.991326</td>\n",
       "    </tr>\n",
       "    <tr>\n",
       "      <th>95</th>\n",
       "      <td>-98.719869</td>\n",
       "      <td>-220.64</td>\n",
       "      <td>381.889764</td>\n",
       "      <td>21.192543</td>\n",
       "      <td>-77.527326</td>\n",
       "      <td>-264.051181</td>\n",
       "      <td>0.032664</td>\n",
       "      <td>2000.0</td>\n",
       "      <td>1394.755125</td>\n",
       "      <td>0.995031</td>\n",
       "      <td>...</td>\n",
       "      <td>0.0</td>\n",
       "      <td>53.636903</td>\n",
       "      <td>299.232456</td>\n",
       "      <td>2001.332499</td>\n",
       "      <td>74.748496</td>\n",
       "      <td>254.586731</td>\n",
       "      <td>2001.332499</td>\n",
       "      <td>0.037025</td>\n",
       "      <td>0.126105</td>\n",
       "      <td>0.991326</td>\n",
       "    </tr>\n",
       "  </tbody>\n",
       "</table>\n",
       "<p>730388 rows × 28 columns</p>\n",
       "</div>"
      ]
     },
     "execution_count": 52,
     "metadata": {},
     "output_type": "execute_result"
    }
   ],
   "execution_count": 52
  },
  {
   "metadata": {
    "ExecuteTime": {
     "end_time": "2024-09-04T14:51:06.792552Z",
     "start_time": "2024-09-04T14:51:06.788524Z"
    }
   },
   "cell_type": "code",
   "source": "bdf.isna().sum()",
   "outputs": [
    {
     "data": {
      "text/plain": [
       "r_c_mean     0\n",
       "r_c_std      0\n",
       "r_c_width    0\n",
       "momentum     0\n",
       "dtype: int64"
      ]
     },
     "execution_count": 53,
     "metadata": {},
     "output_type": "execute_result"
    }
   ],
   "execution_count": 53
  },
  {
   "metadata": {
    "ExecuteTime": {
     "end_time": "2024-09-04T14:51:06.874872Z",
     "start_time": "2024-09-04T14:51:06.792552Z"
    }
   },
   "cell_type": "code",
   "source": [
    "plt.hist(bdf[bdf.r_c_width < 1000].r_c_width, bins='auto')\n",
    "plt.show()"
   ],
   "outputs": [
    {
     "data": {
      "text/plain": [
       "<Figure size 640x480 with 1 Axes>"
      ],
      "image/png": "[encoded data removed]"
     },
     "metadata": {},
     "output_type": "display_data"
    }
   ],
   "execution_count": 54
  },
  {
   "metadata": {
    "ExecuteTime": {
     "end_time": "2024-09-04T14:51:06.974668Z",
     "start_time": "2024-09-04T14:51:06.874872Z"
    }
   },
   "cell_type": "code",
   "source": [
    "plt.hist(bdf[bdf.r_c_std < 1000].r_c_std, bins='auto')\n",
    "plt.show()"
   ],
   "outputs": [
    {
     "data": {
      "text/plain": [
       "<Figure size 640x480 with 1 Axes>"
      ],
      "image/png": "[encoded data removed]"
     },
     "metadata": {},
     "output_type": "display_data"
    }
   ],
   "execution_count": 55
  },
  {
   "metadata": {
    "ExecuteTime": {
     "end_time": "2024-09-04T14:51:07.145669Z",
     "start_time": "2024-09-04T14:51:06.974668Z"
    }
   },
   "cell_type": "code",
   "source": [
    "plt.hist(bdf[bdf.r_c_mean < 1000].r_c_mean, bins='auto')\n",
    "plt.show()"
   ],
   "outputs": [
    {
     "data": {
      "text/plain": [
       "<Figure size 640x480 with 1 Axes>"
      ],
      "image/png": "[encoded data removed]"
     },
     "metadata": {},
     "output_type": "display_data"
    }
   ],
   "execution_count": 56
  },
  {
   "metadata": {
    "ExecuteTime": {
     "end_time": "2024-09-04T14:51:07.147806Z",
     "start_time": "2024-09-04T14:51:07.145669Z"
    }
   },
   "cell_type": "code",
   "source": "# np.tan(1 / (edf.beta.iloc[0] * idf.n_mean)) ",
   "outputs": [],
   "execution_count": 57
  },
  {
   "metadata": {
    "ExecuteTime": {
     "end_time": "2024-09-04T14:51:07.159919Z",
     "start_time": "2024-09-04T14:51:07.147806Z"
    }
   },
   "cell_type": "code",
   "source": "# idf.W * np.tan(1/(idf.n_mean * edf.beta.iloc[0]))",
   "outputs": [],
   "execution_count": 58
  },
  {
   "metadata": {
    "ExecuteTime": {
     "end_time": "2024-09-04T14:51:07.170565Z",
     "start_time": "2024-09-04T14:51:07.159919Z"
    }
   },
   "cell_type": "code",
   "source": [
    "# num = 7\n",
    "# event = edf.loc[num]\n",
    "# plt.scatter(event.rotated_x, event.rotated_y)\n",
    "# plt.scatter(event.rotated_x_i, event.rotated_y_i)\n",
    "# plt.show()"
   ],
   "outputs": [],
   "execution_count": 59
  },
  {
   "metadata": {
    "ExecuteTime": {
     "end_time": "2024-09-04T14:51:12.790112Z",
     "start_time": "2024-09-04T14:51:07.170565Z"
    }
   },
   "cell_type": "code",
   "source": "primaryDirectionRecalculation(edf)",
   "outputs": [],
   "execution_count": 60
  },
  {
   "metadata": {
    "ExecuteTime": {
     "end_time": "2024-09-04T14:51:12.801134Z",
     "start_time": "2024-09-04T14:51:12.790112Z"
    }
   },
   "cell_type": "code",
   "source": [
    "edf['rotated_r_c'] = np.sqrt((edf['rotated_x_i'] - edf['rotated_x']) ** 2 + (edf['rotated_y_i'] - edf['rotated_y']) ** 2)\n",
    "edf['signal'] = np.ones(edf.shape[0])"
   ],
   "outputs": [],
   "execution_count": 61
  },
  {
   "metadata": {
    "ExecuteTime": {
     "end_time": "2024-09-04T14:51:12.803046Z",
     "start_time": "2024-09-04T14:51:12.801644Z"
    }
   },
   "cell_type": "code",
   "source": "",
   "outputs": [],
   "execution_count": 61
  },
  {
   "metadata": {
    "ExecuteTime": {
     "end_time": "2024-09-04T14:51:12.937406Z",
     "start_time": "2024-09-04T14:51:12.803046Z"
    }
   },
   "cell_type": "code",
   "source": "recoAngles(edf, idf)",
   "outputs": [
    {
     "name": "stderr",
     "output_type": "stream",
     "text": [
      "Z:\\Prog\\FARICH\\farich_functions.py:478: FutureWarning: Calling float on a single element Series is deprecated and will raise a TypeError in the future. Use float(ser.iloc[0]) instead\n",
      "  dist = float(idf['distance'])\n",
      "Z:\\Prog\\FARICH\\farich_functions.py:481: FutureWarning: Calling float on a single element Series is deprecated and will raise a TypeError in the future. Use float(ser.iloc[0]) instead\n",
      "  W = float(idf['W'])\n",
      "Z:\\Prog\\FARICH\\farich_functions.py:484: FutureWarning: Calling float on a single element Series is deprecated and will raise a TypeError in the future. Use float(ser.iloc[0]) instead\n",
      "  rad_pos = float(idf['zdis'])\n"
     ]
    }
   ],
   "execution_count": 62
  },
  {
   "metadata": {
    "ExecuteTime": {
     "end_time": "2024-09-04T14:51:13.045267Z",
     "start_time": "2024-09-04T14:51:12.937406Z"
    }
   },
   "cell_type": "code",
   "source": "recoAngles(edf, idf, rotation_mode=True)",
   "outputs": [
    {
     "name": "stderr",
     "output_type": "stream",
     "text": [
      "Z:\\Prog\\FARICH\\farich_functions.py:478: FutureWarning: Calling float on a single element Series is deprecated and will raise a TypeError in the future. Use float(ser.iloc[0]) instead\n",
      "  dist = float(idf['distance'])\n",
      "Z:\\Prog\\FARICH\\farich_functions.py:481: FutureWarning: Calling float on a single element Series is deprecated and will raise a TypeError in the future. Use float(ser.iloc[0]) instead\n",
      "  W = float(idf['W'])\n",
      "Z:\\Prog\\FARICH\\farich_functions.py:484: FutureWarning: Calling float on a single element Series is deprecated and will raise a TypeError in the future. Use float(ser.iloc[0]) instead\n",
      "  rad_pos = float(idf['zdis'])\n",
      "Z:\\Prog\\FARICH\\farich_functions.py:499: FutureWarning: Calling float on a single element Series is deprecated and will raise a TypeError in the future. Use float(ser.iloc[0]) instead\n",
      "  n_mean = float(idf['n_mean'])\n"
     ]
    }
   ],
   "execution_count": 63
  },
  {
   "metadata": {
    "ExecuteTime": {
     "end_time": "2024-09-04T14:51:13.047742Z",
     "start_time": "2024-09-04T14:51:13.045267Z"
    }
   },
   "cell_type": "code",
   "source": [
    "# event = edf.loc[23]\n",
    "# plt.subplot()\n",
    "# plt.scatter(event.phi_c, event.theta_c)\n",
    "# plt.show()\n",
    "# plt.subplot()\n",
    "# plt.gca().invert_yaxis()\n",
    "# plt.scatter(event.rotated_x, event.rotated_y)\n",
    "# plt.show()"
   ],
   "outputs": [],
   "execution_count": 64
  },
  {
   "metadata": {
    "ExecuteTime": {
     "end_time": "2024-09-04T14:51:13.060043Z",
     "start_time": "2024-09-04T14:51:13.047742Z"
    }
   },
   "cell_type": "code",
   "source": [
    "def calibration(edf: pd.DataFrame, bdf: pd.DataFrame, avg_sigmas: tuple, avg_t_sigmas: tuple, step=float(idf.pixel_size), method='N/r', t_window_width=2,\n",
    "                        r_width_factor=2, t_width_factor=8, full_width_t_hist = False, weighed=True, deg_lim=False, param_fit=False):\n",
    "  target_variable = 'momentum'\n",
    "  target_angle = 'theta_p'\n",
    "  \n",
    "  num_of_theta_intervals = 11\n",
    "\n",
    "  to_return_unbinned = np.full((np.ptp(avg_sigmas), np.ptp(avg_t_sigmas), num_of_theta_intervals - 1, 3), 0.)\n",
    "\n",
    "  errs_tmp = np.full((np.ptp(avg_sigmas), np.ptp(avg_t_sigmas), num_of_theta_intervals - 1, 3), 0.)\n",
    "  fit_params = np.full((np.ptp(avg_sigmas), np.ptp(avg_t_sigmas), 3, 3), 0.)\n",
    "  \n",
    "  \n",
    "  dir_to_save = f\"{'weighed' if weighed else 'unweighed'}_rw={step}_tw={t_window_width}_rs={r_width_factor}_ts={t_width_factor}\"\n",
    "  if not os.path.exists(os.path.join('calibrations_barrel', dir_to_save)):\n",
    "    os.mkdir(os.path.join('calibrations_barrel', dir_to_save))\n",
    "      \n",
    "      \n",
    "  for r_sigms in range(*avg_sigmas):\n",
    "    fig, axs = plt.subplots(num_of_theta_intervals - 1, np.ptp(avg_t_sigmas), figsize=(16 * np.ptp(avg_t_sigmas), 90))\n",
    "    for t_sigms in range(*avg_t_sigmas):\n",
    "      chosen_column = f'unfixed_calculated_r_2d_{r_sigms}_rsigms_{t_sigms}_tsigms'\n",
    "\n",
    "      calibration_loop(bdf, chosen_column, r_sigms, t_sigms, num_of_theta_intervals, to_return_unbinned, errs_tmp, fig, axs, avg_sigmas, avg_t_sigmas, target_variable, target_angle)\n",
    "      if param_fit:\n",
    "        param_fit_calibration(bdf, chosen_column, r_sigms, t_sigms, avg_sigmas, avg_t_sigmas, fit_params, target_variable, target_angle)   \n",
    "    save_calibration_plot(fig, dir_to_save, deg_lim, r_sigms, avg_t_sigmas)        \n",
    "\n",
    "\n",
    "\n",
    "  if param_fit:\n",
    "    return fit_params\n",
    "  return to_return_unbinned\n",
    "# cal_arr = np.array(calibration(edf, bdf, avg_sigmas=(1, 5), avg_t_sigmas=(1, 5))) # add r and t calibr - done"
   ],
   "outputs": [
    {
     "name": "stderr",
     "output_type": "stream",
     "text": [
      "C:\\Users\\BRINE\\AppData\\Local\\Temp\\ipykernel_3952\\1782848624.py:1: FutureWarning: Calling float on a single element Series is deprecated and will raise a TypeError in the future. Use float(ser.iloc[0]) instead\n",
      "  def calibration(edf: pd.DataFrame, bdf: pd.DataFrame, avg_sigmas: tuple, avg_t_sigmas: tuple, step=float(idf.pixel_size), method='N/r', t_window_width=2,\n"
     ]
    }
   ],
   "execution_count": 65
  },
  {
   "metadata": {
    "ExecuteTime": {
     "end_time": "2024-09-04T14:51:13.072073Z",
     "start_time": "2024-09-04T14:51:13.060043Z"
    }
   },
   "cell_type": "code",
   "source": [
    "def rSlidingWindow(edf: pd.DataFrame, idf: pd.DataFrame, bdf: pd.DataFrame, avg_sigmas: tuple, avg_t_sigmas: tuple, step=float(idf.pixel_size), method='N/r', cal_arr=False, t_window_width=2,\n",
    "                        r_width_factor=2, t_width_factor=8, full_width_t_hist = True, num_of_groups=5, weighed=True, deg_lim=False, param_fit=False):\n",
    "  rSlidingWindowIntro(edf, idf, bdf, avg_sigmas, avg_t_sigmas, step=step, method=method, cal_arr=cal_arr, t_window_width=t_window_width,\n",
    "                      r_width_factor=r_width_factor, t_width_factor=t_width_factor, num_of_groups=num_of_groups)\n",
    "  calculateSignalCounts(edf, bdf)\n",
    "  rSlidingWindowLoop1(edf, idf, bdf, avg_sigmas, avg_t_sigmas, step=step, method=method, cal_arr=cal_arr, t_window_width=t_window_width,\n",
    "                      r_width_factor=r_width_factor, t_width_factor=t_width_factor, full_width_t_hist=full_width_t_hist, weighed=weighed)\n",
    "  if cal_arr is False:\n",
    "    cal_arr = np.array(calibration(edf, bdf, avg_sigmas=avg_sigmas, avg_t_sigmas=avg_t_sigmas, step=step, t_window_width=t_window_width,\n",
    "                                   r_width_factor=r_width_factor, t_width_factor=t_width_factor, weighed=weighed, deg_lim=deg_lim, param_fit=param_fit)) # add r and t calibr - done\n",
    "  rSlidingWindowLoop2(edf, idf, bdf, avg_sigmas, avg_t_sigmas, step=step, method=method, cal_arr=cal_arr, t_window_width=t_window_width,\n",
    "                      r_width_factor=r_width_factor, t_width_factor=t_width_factor, param_fit=param_fit)\n",
    "  return cal_arr"
   ],
   "outputs": [
    {
     "name": "stderr",
     "output_type": "stream",
     "text": [
      "C:\\Users\\BRINE\\AppData\\Local\\Temp\\ipykernel_3952\\4254145861.py:1: FutureWarning: Calling float on a single element Series is deprecated and will raise a TypeError in the future. Use float(ser.iloc[0]) instead\n",
      "  def rSlidingWindow(edf: pd.DataFrame, idf: pd.DataFrame, bdf: pd.DataFrame, avg_sigmas: tuple, avg_t_sigmas: tuple, step=float(idf.pixel_size), method='N/r', cal_arr=False, t_window_width=2,\n"
     ]
    }
   ],
   "execution_count": 66
  },
  {
   "metadata": {
    "ExecuteTime": {
     "end_time": "2024-09-04T14:51:13.083623Z",
     "start_time": "2024-09-04T14:51:13.072073Z"
    }
   },
   "cell_type": "code",
   "source": [
    "avg_sigmas = (4, 5)\n",
    "avg_t_sigmas = (4, 5)\n",
    "num_of_groups = 10\n",
    "r_width = float(idf.pixel_size) * 2\n",
    "t_width = 0.25\n",
    "t_step = 0.25\n",
    "r_factor = 2 # not to change\n",
    "t_factor = int(t_width / t_step)\n",
    "weighed = True\n",
    "deg_lim = False\n",
    "param_fit = False # WORKS\n",
    "# sample_size = 12\n",
    "cal_arr = False\n",
    "beta_sigms = []\n",
    "beta_sigms_yerr = []\n",
    "beta_sigms_deglim = []\n",
    "beta_sigms_yerr_deglim = []"
   ],
   "outputs": [
    {
     "name": "stderr",
     "output_type": "stream",
     "text": [
      "C:\\Users\\BRINE\\AppData\\Local\\Temp\\ipykernel_3952\\1724634637.py:4: FutureWarning: Calling float on a single element Series is deprecated and will raise a TypeError in the future. Use float(ser.iloc[0]) instead\n",
      "  r_width = float(idf.pixel_size) * 2\n"
     ]
    }
   ],
   "execution_count": 67
  },
  {
   "metadata": {
    "ExecuteTime": {
     "end_time": "2024-09-04T14:51:23.793135Z",
     "start_time": "2024-09-04T14:51:13.083623Z"
    }
   },
   "cell_type": "code",
   "source": [
    "cal_arr = rSlidingWindow(edf, idf, bdf, avg_sigmas=avg_sigmas, avg_t_sigmas=avg_t_sigmas, cal_arr=cal_arr, num_of_groups=num_of_groups,\n",
    "                               step=r_width, t_window_width=t_width, r_width_factor=r_factor, t_width_factor=t_factor, weighed=weighed, deg_lim=deg_lim, param_fit=param_fit)"
   ],
   "outputs": [
    {
     "name": "stderr",
     "output_type": "stream",
     "text": [
      "Z:\\Prog\\FARICH\\farich_functions.py:574: RuntimeWarning: invalid value encountered in scalar divide\n",
      "  return weighted_sum / weighted_den\n",
      "Z:\\Prog\\FARICH\\farich_functions.py:574: RuntimeWarning: invalid value encountered in scalar divide\n",
      "  return weighted_sum / weighted_den\n",
      "Z:\\Prog\\FARICH\\farich_functions.py:574: RuntimeWarning: invalid value encountered in scalar divide\n",
      "  return weighted_sum / weighted_den\n",
      "Z:\\Prog\\FARICH\\farich_functions.py:574: RuntimeWarning: invalid value encountered in scalar divide\n",
      "  return weighted_sum / weighted_den\n",
      "Z:\\Prog\\FARICH\\farich_functions.py:574: RuntimeWarning: invalid value encountered in scalar divide\n",
      "  return weighted_sum / weighted_den\n",
      "Z:\\Prog\\FARICH\\farich_functions.py:574: RuntimeWarning: invalid value encountered in scalar divide\n",
      "  return weighted_sum / weighted_den\n",
      "Z:\\Prog\\FARICH\\farich_functions.py:574: RuntimeWarning: invalid value encountered in scalar divide\n",
      "  return weighted_sum / weighted_den\n",
      "Z:\\Prog\\FARICH\\farich_functions.py:574: RuntimeWarning: invalid value encountered in scalar divide\n",
      "  return weighted_sum / weighted_den\n",
      "Z:\\Prog\\FARICH\\farich_functions.py:574: RuntimeWarning: invalid value encountered in scalar divide\n",
      "  return weighted_sum / weighted_den\n",
      "Z:\\Prog\\FARICH\\farich_functions.py:574: RuntimeWarning: invalid value encountered in scalar divide\n",
      "  return weighted_sum / weighted_den\n",
      "Z:\\Prog\\FARICH\\farich_functions.py:574: RuntimeWarning: invalid value encountered in scalar divide\n",
      "  return weighted_sum / weighted_den\n",
      "Z:\\Prog\\FARICH\\farich_functions.py:574: RuntimeWarning: invalid value encountered in scalar divide\n",
      "  return weighted_sum / weighted_den\n",
      "Z:\\Prog\\FARICH\\farich_functions.py:574: RuntimeWarning: invalid value encountered in scalar divide\n",
      "  return weighted_sum / weighted_den\n",
      "Z:\\Prog\\FARICH\\farich_functions.py:574: RuntimeWarning: invalid value encountered in scalar divide\n",
      "  return weighted_sum / weighted_den\n",
      "Z:\\Prog\\FARICH\\farich_functions.py:574: RuntimeWarning: invalid value encountered in scalar divide\n",
      "  return weighted_sum / weighted_den\n",
      "Z:\\Prog\\FARICH\\farich_functions.py:574: RuntimeWarning: invalid value encountered in scalar divide\n",
      "  return weighted_sum / weighted_den\n",
      "Z:\\Prog\\FARICH\\farich_functions.py:574: RuntimeWarning: invalid value encountered in scalar divide\n",
      "  return weighted_sum / weighted_den\n",
      "Z:\\Prog\\FARICH\\farich_functions.py:574: RuntimeWarning: invalid value encountered in scalar divide\n",
      "  return weighted_sum / weighted_den\n",
      "Z:\\Prog\\FARICH\\farich_functions.py:574: RuntimeWarning: invalid value encountered in scalar divide\n",
      "  return weighted_sum / weighted_den\n",
      "Z:\\Prog\\FARICH\\farich_functions.py:574: RuntimeWarning: invalid value encountered in scalar divide\n",
      "  return weighted_sum / weighted_den\n",
      "Z:\\Prog\\FARICH\\farich_functions.py:574: RuntimeWarning: invalid value encountered in scalar divide\n",
      "  return weighted_sum / weighted_den\n",
      "Z:\\Prog\\FARICH\\farich_functions.py:574: RuntimeWarning: invalid value encountered in scalar divide\n",
      "  return weighted_sum / weighted_den\n",
      "Z:\\Prog\\FARICH\\farich_functions.py:574: RuntimeWarning: invalid value encountered in scalar divide\n",
      "  return weighted_sum / weighted_den\n",
      "Z:\\Prog\\FARICH\\farich_functions.py:574: RuntimeWarning: invalid value encountered in scalar divide\n",
      "  return weighted_sum / weighted_den\n",
      "Z:\\Prog\\FARICH\\farich_functions.py:574: RuntimeWarning: invalid value encountered in scalar divide\n",
      "  return weighted_sum / weighted_den\n",
      "Z:\\Prog\\FARICH\\farich_functions.py:574: RuntimeWarning: invalid value encountered in scalar divide\n",
      "  return weighted_sum / weighted_den\n",
      "Z:\\Prog\\FARICH\\farich_functions.py:574: RuntimeWarning: invalid value encountered in scalar divide\n",
      "  return weighted_sum / weighted_den\n",
      "Z:\\Prog\\FARICH\\farich_functions.py:574: RuntimeWarning: invalid value encountered in scalar divide\n",
      "  return weighted_sum / weighted_den\n",
      "Z:\\Prog\\FARICH\\farich_functions.py:574: RuntimeWarning: invalid value encountered in scalar divide\n",
      "  return weighted_sum / weighted_den\n",
      "Z:\\Prog\\FARICH\\farich_functions.py:574: RuntimeWarning: invalid value encountered in scalar divide\n",
      "  return weighted_sum / weighted_den\n",
      "Z:\\Prog\\FARICH\\farich_functions.py:574: RuntimeWarning: invalid value encountered in scalar divide\n",
      "  return weighted_sum / weighted_den\n",
      "Z:\\Prog\\FARICH\\farich_functions.py:574: RuntimeWarning: invalid value encountered in scalar divide\n",
      "  return weighted_sum / weighted_den\n",
      "Z:\\Prog\\FARICH\\farich_functions.py:574: RuntimeWarning: invalid value encountered in scalar divide\n",
      "  return weighted_sum / weighted_den\n",
      "Z:\\Prog\\FARICH\\farich_functions.py:574: RuntimeWarning: invalid value encountered in scalar divide\n",
      "  return weighted_sum / weighted_den\n",
      "Z:\\Prog\\FARICH\\farich_functions.py:574: RuntimeWarning: invalid value encountered in scalar divide\n",
      "  return weighted_sum / weighted_den\n",
      "Z:\\Prog\\FARICH\\farich_functions.py:574: RuntimeWarning: invalid value encountered in scalar divide\n",
      "  return weighted_sum / weighted_den\n",
      "Z:\\Prog\\FARICH\\farich_functions.py:574: RuntimeWarning: invalid value encountered in scalar divide\n",
      "  return weighted_sum / weighted_den\n",
      "Z:\\Prog\\FARICH\\farich_functions.py:574: RuntimeWarning: invalid value encountered in scalar divide\n",
      "  return weighted_sum / weighted_den\n",
      "Z:\\Prog\\FARICH\\farich_functions.py:574: RuntimeWarning: invalid value encountered in scalar divide\n",
      "  return weighted_sum / weighted_den\n",
      "Z:\\Prog\\FARICH\\farich_functions.py:574: RuntimeWarning: invalid value encountered in scalar divide\n",
      "  return weighted_sum / weighted_den\n",
      "Z:\\Prog\\FARICH\\farich_functions.py:574: RuntimeWarning: invalid value encountered in scalar divide\n",
      "  return weighted_sum / weighted_den\n",
      "Z:\\Prog\\FARICH\\farich_functions.py:574: RuntimeWarning: invalid value encountered in scalar divide\n",
      "  return weighted_sum / weighted_den\n",
      "Z:\\Prog\\FARICH\\farich_functions.py:574: RuntimeWarning: invalid value encountered in scalar divide\n",
      "  return weighted_sum / weighted_den\n",
      "Z:\\Prog\\FARICH\\farich_functions.py:574: RuntimeWarning: invalid value encountered in scalar divide\n",
      "  return weighted_sum / weighted_den\n",
      "Z:\\Prog\\FARICH\\farich_functions.py:574: RuntimeWarning: invalid value encountered in scalar divide\n",
      "  return weighted_sum / weighted_den\n",
      "Z:\\Prog\\FARICH\\farich_functions.py:574: RuntimeWarning: invalid value encountered in scalar divide\n",
      "  return weighted_sum / weighted_den\n",
      "Z:\\Prog\\FARICH\\farich_functions.py:574: RuntimeWarning: invalid value encountered in scalar divide\n",
      "  return weighted_sum / weighted_den\n",
      "Z:\\Prog\\FARICH\\farich_functions.py:574: RuntimeWarning: invalid value encountered in scalar divide\n",
      "  return weighted_sum / weighted_den\n",
      "Z:\\Prog\\FARICH\\farich_functions.py:574: RuntimeWarning: invalid value encountered in scalar divide\n",
      "  return weighted_sum / weighted_den\n",
      "Z:\\Prog\\FARICH\\farich_functions.py:574: RuntimeWarning: invalid value encountered in scalar divide\n",
      "  return weighted_sum / weighted_den\n",
      "Z:\\Prog\\FARICH\\farich_functions.py:574: RuntimeWarning: invalid value encountered in scalar divide\n",
      "  return weighted_sum / weighted_den\n",
      "Z:\\Prog\\FARICH\\farich_functions.py:574: RuntimeWarning: invalid value encountered in scalar divide\n",
      "  return weighted_sum / weighted_den\n",
      "Z:\\Prog\\FARICH\\farich_functions.py:574: RuntimeWarning: invalid value encountered in scalar divide\n",
      "  return weighted_sum / weighted_den\n",
      "Z:\\Prog\\FARICH\\farich_functions.py:574: RuntimeWarning: invalid value encountered in scalar divide\n",
      "  return weighted_sum / weighted_den\n",
      "Z:\\Prog\\FARICH\\farich_functions.py:574: RuntimeWarning: invalid value encountered in scalar divide\n",
      "  return weighted_sum / weighted_den\n",
      "Z:\\Prog\\FARICH\\farich_functions.py:574: RuntimeWarning: invalid value encountered in scalar divide\n",
      "  return weighted_sum / weighted_den\n",
      "Z:\\Prog\\FARICH\\farich_functions.py:574: RuntimeWarning: invalid value encountered in scalar divide\n",
      "  return weighted_sum / weighted_den\n",
      "Z:\\Prog\\FARICH\\farich_functions.py:574: RuntimeWarning: invalid value encountered in scalar divide\n",
      "  return weighted_sum / weighted_den\n",
      "Z:\\Prog\\FARICH\\farich_functions.py:574: RuntimeWarning: invalid value encountered in scalar divide\n",
      "  return weighted_sum / weighted_den\n",
      "Z:\\Prog\\FARICH\\farich_functions.py:574: RuntimeWarning: invalid value encountered in scalar divide\n",
      "  return weighted_sum / weighted_den\n",
      "Z:\\Prog\\FARICH\\farich_functions.py:574: RuntimeWarning: invalid value encountered in scalar divide\n",
      "  return weighted_sum / weighted_den\n",
      "Z:\\Prog\\FARICH\\farich_functions.py:574: RuntimeWarning: invalid value encountered in scalar divide\n",
      "  return weighted_sum / weighted_den\n",
      "Z:\\Prog\\FARICH\\farich_functions.py:574: RuntimeWarning: invalid value encountered in scalar divide\n",
      "  return weighted_sum / weighted_den\n",
      "Z:\\Prog\\FARICH\\farich_functions.py:574: RuntimeWarning: invalid value encountered in scalar divide\n",
      "  return weighted_sum / weighted_den\n",
      "Z:\\Prog\\FARICH\\farich_functions.py:574: RuntimeWarning: invalid value encountered in scalar divide\n",
      "  return weighted_sum / weighted_den\n",
      "Z:\\Prog\\FARICH\\farich_functions.py:574: RuntimeWarning: invalid value encountered in scalar divide\n",
      "  return weighted_sum / weighted_den\n",
      "Z:\\Prog\\FARICH\\farich_functions.py:574: RuntimeWarning: invalid value encountered in scalar divide\n",
      "  return weighted_sum / weighted_den\n",
      "Z:\\Prog\\FARICH\\farich_functions.py:574: RuntimeWarning: invalid value encountered in scalar divide\n",
      "  return weighted_sum / weighted_den\n",
      "Z:\\Prog\\FARICH\\farich_functions.py:574: RuntimeWarning: invalid value encountered in scalar divide\n",
      "  return weighted_sum / weighted_den\n",
      "Z:\\Prog\\FARICH\\farich_functions.py:574: RuntimeWarning: invalid value encountered in scalar divide\n",
      "  return weighted_sum / weighted_den\n",
      "Z:\\Prog\\FARICH\\farich_functions.py:574: RuntimeWarning: invalid value encountered in scalar divide\n",
      "  return weighted_sum / weighted_den\n",
      "Z:\\Prog\\FARICH\\farich_functions.py:574: RuntimeWarning: invalid value encountered in scalar divide\n",
      "  return weighted_sum / weighted_den\n",
      "Z:\\Prog\\FARICH\\farich_functions.py:574: RuntimeWarning: invalid value encountered in scalar divide\n",
      "  return weighted_sum / weighted_den\n",
      "Z:\\Prog\\FARICH\\farich_functions.py:574: RuntimeWarning: invalid value encountered in scalar divide\n",
      "  return weighted_sum / weighted_den\n",
      "Z:\\Prog\\FARICH\\farich_functions.py:574: RuntimeWarning: invalid value encountered in scalar divide\n",
      "  return weighted_sum / weighted_den\n",
      "Z:\\Prog\\FARICH\\farich_functions.py:574: RuntimeWarning: invalid value encountered in scalar divide\n",
      "  return weighted_sum / weighted_den\n",
      "Z:\\Prog\\FARICH\\farich_functions.py:574: RuntimeWarning: invalid value encountered in scalar divide\n",
      "  return weighted_sum / weighted_den\n",
      "Z:\\Prog\\FARICH\\farich_functions.py:574: RuntimeWarning: invalid value encountered in scalar divide\n",
      "  return weighted_sum / weighted_den\n",
      "Z:\\Prog\\FARICH\\farich_functions.py:574: RuntimeWarning: invalid value encountered in scalar divide\n",
      "  return weighted_sum / weighted_den\n",
      "Z:\\Prog\\FARICH\\farich_functions.py:574: RuntimeWarning: invalid value encountered in scalar divide\n",
      "  return weighted_sum / weighted_den\n",
      "Z:\\Prog\\FARICH\\farich_functions.py:574: RuntimeWarning: invalid value encountered in scalar divide\n",
      "  return weighted_sum / weighted_den\n",
      "Z:\\Prog\\FARICH\\farich_functions.py:574: RuntimeWarning: invalid value encountered in scalar divide\n",
      "  return weighted_sum / weighted_den\n",
      "Z:\\Prog\\FARICH\\farich_functions.py:574: RuntimeWarning: invalid value encountered in scalar divide\n",
      "  return weighted_sum / weighted_den\n",
      "Z:\\Prog\\FARICH\\farich_functions.py:574: RuntimeWarning: invalid value encountered in scalar divide\n",
      "  return weighted_sum / weighted_den\n",
      "Z:\\Prog\\FARICH\\farich_functions.py:574: RuntimeWarning: invalid value encountered in scalar divide\n",
      "  return weighted_sum / weighted_den\n",
      "Z:\\Prog\\FARICH\\farich_functions.py:574: RuntimeWarning: invalid value encountered in scalar divide\n",
      "  return weighted_sum / weighted_den\n",
      "Z:\\Prog\\FARICH\\farich_functions.py:574: RuntimeWarning: invalid value encountered in scalar divide\n",
      "  return weighted_sum / weighted_den\n",
      "Z:\\Prog\\FARICH\\farich_functions.py:574: RuntimeWarning: invalid value encountered in scalar divide\n",
      "  return weighted_sum / weighted_den\n",
      "Z:\\Prog\\FARICH\\venv\\Lib\\site-packages\\pandas\\core\\arraylike.py:399: RuntimeWarning: overflow encountered in exp\n",
      "  result = getattr(ufunc, method)(*inputs, **kwargs)\n",
      "Z:\\Prog\\FARICH\\venv\\Lib\\site-packages\\pandas\\core\\arraylike.py:399: RuntimeWarning: invalid value encountered in sqrt\n",
      "  result = getattr(ufunc, method)(*inputs, **kwargs)\n",
      "Z:\\Prog\\FARICH\\farich_functions.py:820: OptimizeWarning: Covariance of the parameters could not be estimated\n",
      "  pol_param, cov = curve_fit(momentum_pol, t_bdf[chosen_column], t_bdf[target_variable], maxfev=50000)\n",
      "Z:\\Prog\\FARICH\\farich_functions.py:592: RuntimeWarning: overflow encountered in exp\n",
      "  return a * np.exp((x - b) ** 2 / c ** 2)\n",
      "Z:\\Prog\\FARICH\\farich_functions.py:606: RuntimeWarning: overflow encountered in square\n",
      "  return mass * beta / np.sqrt(1 - beta ** 2)\n",
      "Z:\\Prog\\FARICH\\farich_functions.py:606: RuntimeWarning: invalid value encountered in sqrt\n",
      "  return mass * beta / np.sqrt(1 - beta ** 2)\n",
      "Z:\\Prog\\FARICH\\farich_functions.py:592: RuntimeWarning: overflow encountered in exp\n",
      "  return a * np.exp((x - b) ** 2 / c ** 2)\n"
     ]
    }
   ],
   "execution_count": 68
  },
  {
   "metadata": {
    "ExecuteTime": {
     "end_time": "2024-09-04T14:51:23.796242Z",
     "start_time": "2024-09-04T14:51:23.793135Z"
    }
   },
   "cell_type": "code",
   "source": "cal_arr",
   "outputs": [
    {
     "data": {
      "text/plain": [
       "array([[[[1., 1., 1.],\n",
       "         [1., 1., 1.],\n",
       "         [1., 1., 1.],\n",
       "         [1., 1., 1.],\n",
       "         [1., 1., 1.],\n",
       "         [1., 1., 1.],\n",
       "         [1., 1., 1.],\n",
       "         [1., 1., 1.],\n",
       "         [1., 1., 1.],\n",
       "         [1., 1., 1.]]]])"
      ]
     },
     "execution_count": 69,
     "metadata": {},
     "output_type": "execute_result"
    }
   ],
   "execution_count": 69
  },
  {
   "metadata": {
    "ExecuteTime": {
     "end_time": "2024-09-04T14:51:23.812087Z",
     "start_time": "2024-09-04T14:51:23.796242Z"
    }
   },
   "cell_type": "code",
   "source": "bdf",
   "outputs": [
    {
     "data": {
      "text/plain": [
       "       r_c_mean    r_c_std   r_c_width     momentum  beta_group   theta_p  \\\n",
       "0     40.557457  16.264597   61.038166  1408.464406        10.0  0.124085   \n",
       "1     37.112284  19.044692   64.938893   932.768102         8.0  0.454187   \n",
       "2     42.339086  24.390027   77.280000   770.366650         7.0  0.761376   \n",
       "3     32.354427  16.208369   54.514728   868.738138         8.0  0.117904   \n",
       "4     33.942284  19.183909   65.593319   891.133356         8.0  0.307330   \n",
       "...         ...        ...         ...          ...         ...       ...   \n",
       "9743  37.806679  27.082881  100.800000   538.915435         2.0  0.348391   \n",
       "9744  24.307009  12.967153   42.408221   554.631405         3.0  0.118930   \n",
       "9745  20.430665  12.061577   36.960000   521.496106         1.0  0.282434   \n",
       "9746  41.315502  20.721342   71.973012   816.505682         7.0  0.582811   \n",
       "9747  39.245932  19.255232   65.134914  1394.755125        10.0  0.268550   \n",
       "\n",
       "      cos_theta_p      beta  signal_counts  \\\n",
       "0        0.992311  0.995126           79.0   \n",
       "1        0.898618  0.988990           63.0   \n",
       "2        0.723888  0.983981           67.0   \n",
       "3        0.993057  0.987339           73.0   \n",
       "4        0.953145  0.987956           70.0   \n",
       "...           ...       ...            ...   \n",
       "9743     0.939923  0.968062          108.0   \n",
       "9744     0.992936  0.969766           24.0   \n",
       "9745     0.960380  0.966002           18.0   \n",
       "9746     0.834919  0.985703           84.0   \n",
       "9747     0.964157  0.995031           96.0   \n",
       "\n",
       "      unfixed_calculated_r_2d_4_rsigms_4_tsigms  \\\n",
       "0                                     54.986929   \n",
       "1                                     60.316622   \n",
       "2                                     65.588331   \n",
       "3                                     49.504315   \n",
       "4                                     52.236540   \n",
       "...                                         ...   \n",
       "9743                                  32.947322   \n",
       "9744                                  34.618348   \n",
       "9745                                  28.810052   \n",
       "9746                                  51.884852   \n",
       "9747                                  55.711263   \n",
       "\n",
       "      beta_from_calc_r_4_rsigms_4_tsigms  delta_beta_4_rsigms_4_tsigms  \\\n",
       "0                                    inf                           inf   \n",
       "1                                    inf                           inf   \n",
       "2                                    inf                           inf   \n",
       "3                                    inf                           inf   \n",
       "4                                    inf                           inf   \n",
       "...                                  ...                           ...   \n",
       "9743                                 inf                           inf   \n",
       "9744                                 inf                           inf   \n",
       "9745                                 inf                           inf   \n",
       "9746                                 inf                           inf   \n",
       "9747                                 inf                           inf   \n",
       "\n",
       "      eps_beta_4_rsigms_4_tsigms  \n",
       "0                            inf  \n",
       "1                            inf  \n",
       "2                            inf  \n",
       "3                            inf  \n",
       "4                            inf  \n",
       "...                          ...  \n",
       "9743                         inf  \n",
       "9744                         inf  \n",
       "9745                         inf  \n",
       "9746                         inf  \n",
       "9747                         inf  \n",
       "\n",
       "[9748 rows x 13 columns]"
      ],
      "text/html": [
       "<div>\n",
       "<style scoped>\n",
       "    .dataframe tbody tr th:only-of-type {\n",
       "        vertical-align: middle;\n",
       "    }\n",
       "\n",
       "    .dataframe tbody tr th {\n",
       "        vertical-align: top;\n",
       "    }\n",
       "\n",
       "    .dataframe thead th {\n",
       "        text-align: right;\n",
       "    }\n",
       "</style>\n",
       "<table border=\"1\" class=\"dataframe\">\n",
       "  <thead>\n",
       "    <tr style=\"text-align: right;\">\n",
       "      <th></th>\n",
       "      <th>r_c_mean</th>\n",
       "      <th>r_c_std</th>\n",
       "      <th>r_c_width</th>\n",
       "      <th>momentum</th>\n",
       "      <th>beta_group</th>\n",
       "      <th>theta_p</th>\n",
       "      <th>cos_theta_p</th>\n",
       "      <th>beta</th>\n",
       "      <th>signal_counts</th>\n",
       "      <th>unfixed_calculated_r_2d_4_rsigms_4_tsigms</th>\n",
       "      <th>beta_from_calc_r_4_rsigms_4_tsigms</th>\n",
       "      <th>delta_beta_4_rsigms_4_tsigms</th>\n",
       "      <th>eps_beta_4_rsigms_4_tsigms</th>\n",
       "    </tr>\n",
       "  </thead>\n",
       "  <tbody>\n",
       "    <tr>\n",
       "      <th>0</th>\n",
       "      <td>40.557457</td>\n",
       "      <td>16.264597</td>\n",
       "      <td>61.038166</td>\n",
       "      <td>1408.464406</td>\n",
       "      <td>10.0</td>\n",
       "      <td>0.124085</td>\n",
       "      <td>0.992311</td>\n",
       "      <td>0.995126</td>\n",
       "      <td>79.0</td>\n",
       "      <td>54.986929</td>\n",
       "      <td>inf</td>\n",
       "      <td>inf</td>\n",
       "      <td>inf</td>\n",
       "    </tr>\n",
       "    <tr>\n",
       "      <th>1</th>\n",
       "      <td>37.112284</td>\n",
       "      <td>19.044692</td>\n",
       "      <td>64.938893</td>\n",
       "      <td>932.768102</td>\n",
       "      <td>8.0</td>\n",
       "      <td>0.454187</td>\n",
       "      <td>0.898618</td>\n",
       "      <td>0.988990</td>\n",
       "      <td>63.0</td>\n",
       "      <td>60.316622</td>\n",
       "      <td>inf</td>\n",
       "      <td>inf</td>\n",
       "      <td>inf</td>\n",
       "    </tr>\n",
       "    <tr>\n",
       "      <th>2</th>\n",
       "      <td>42.339086</td>\n",
       "      <td>24.390027</td>\n",
       "      <td>77.280000</td>\n",
       "      <td>770.366650</td>\n",
       "      <td>7.0</td>\n",
       "      <td>0.761376</td>\n",
       "      <td>0.723888</td>\n",
       "      <td>0.983981</td>\n",
       "      <td>67.0</td>\n",
       "      <td>65.588331</td>\n",
       "      <td>inf</td>\n",
       "      <td>inf</td>\n",
       "      <td>inf</td>\n",
       "    </tr>\n",
       "    <tr>\n",
       "      <th>3</th>\n",
       "      <td>32.354427</td>\n",
       "      <td>16.208369</td>\n",
       "      <td>54.514728</td>\n",
       "      <td>868.738138</td>\n",
       "      <td>8.0</td>\n",
       "      <td>0.117904</td>\n",
       "      <td>0.993057</td>\n",
       "      <td>0.987339</td>\n",
       "      <td>73.0</td>\n",
       "      <td>49.504315</td>\n",
       "      <td>inf</td>\n",
       "      <td>inf</td>\n",
       "      <td>inf</td>\n",
       "    </tr>\n",
       "    <tr>\n",
       "      <th>4</th>\n",
       "      <td>33.942284</td>\n",
       "      <td>19.183909</td>\n",
       "      <td>65.593319</td>\n",
       "      <td>891.133356</td>\n",
       "      <td>8.0</td>\n",
       "      <td>0.307330</td>\n",
       "      <td>0.953145</td>\n",
       "      <td>0.987956</td>\n",
       "      <td>70.0</td>\n",
       "      <td>52.236540</td>\n",
       "      <td>inf</td>\n",
       "      <td>inf</td>\n",
       "      <td>inf</td>\n",
       "    </tr>\n",
       "    <tr>\n",
       "      <th>...</th>\n",
       "      <td>...</td>\n",
       "      <td>...</td>\n",
       "      <td>...</td>\n",
       "      <td>...</td>\n",
       "      <td>...</td>\n",
       "      <td>...</td>\n",
       "      <td>...</td>\n",
       "      <td>...</td>\n",
       "      <td>...</td>\n",
       "      <td>...</td>\n",
       "      <td>...</td>\n",
       "      <td>...</td>\n",
       "      <td>...</td>\n",
       "    </tr>\n",
       "    <tr>\n",
       "      <th>9743</th>\n",
       "      <td>37.806679</td>\n",
       "      <td>27.082881</td>\n",
       "      <td>100.800000</td>\n",
       "      <td>538.915435</td>\n",
       "      <td>2.0</td>\n",
       "      <td>0.348391</td>\n",
       "      <td>0.939923</td>\n",
       "      <td>0.968062</td>\n",
       "      <td>108.0</td>\n",
       "      <td>32.947322</td>\n",
       "      <td>inf</td>\n",
       "      <td>inf</td>\n",
       "      <td>inf</td>\n",
       "    </tr>\n",
       "    <tr>\n",
       "      <th>9744</th>\n",
       "      <td>24.307009</td>\n",
       "      <td>12.967153</td>\n",
       "      <td>42.408221</td>\n",
       "      <td>554.631405</td>\n",
       "      <td>3.0</td>\n",
       "      <td>0.118930</td>\n",
       "      <td>0.992936</td>\n",
       "      <td>0.969766</td>\n",
       "      <td>24.0</td>\n",
       "      <td>34.618348</td>\n",
       "      <td>inf</td>\n",
       "      <td>inf</td>\n",
       "      <td>inf</td>\n",
       "    </tr>\n",
       "    <tr>\n",
       "      <th>9745</th>\n",
       "      <td>20.430665</td>\n",
       "      <td>12.061577</td>\n",
       "      <td>36.960000</td>\n",
       "      <td>521.496106</td>\n",
       "      <td>1.0</td>\n",
       "      <td>0.282434</td>\n",
       "      <td>0.960380</td>\n",
       "      <td>0.966002</td>\n",
       "      <td>18.0</td>\n",
       "      <td>28.810052</td>\n",
       "      <td>inf</td>\n",
       "      <td>inf</td>\n",
       "      <td>inf</td>\n",
       "    </tr>\n",
       "    <tr>\n",
       "      <th>9746</th>\n",
       "      <td>41.315502</td>\n",
       "      <td>20.721342</td>\n",
       "      <td>71.973012</td>\n",
       "      <td>816.505682</td>\n",
       "      <td>7.0</td>\n",
       "      <td>0.582811</td>\n",
       "      <td>0.834919</td>\n",
       "      <td>0.985703</td>\n",
       "      <td>84.0</td>\n",
       "      <td>51.884852</td>\n",
       "      <td>inf</td>\n",
       "      <td>inf</td>\n",
       "      <td>inf</td>\n",
       "    </tr>\n",
       "    <tr>\n",
       "      <th>9747</th>\n",
       "      <td>39.245932</td>\n",
       "      <td>19.255232</td>\n",
       "      <td>65.134914</td>\n",
       "      <td>1394.755125</td>\n",
       "      <td>10.0</td>\n",
       "      <td>0.268550</td>\n",
       "      <td>0.964157</td>\n",
       "      <td>0.995031</td>\n",
       "      <td>96.0</td>\n",
       "      <td>55.711263</td>\n",
       "      <td>inf</td>\n",
       "      <td>inf</td>\n",
       "      <td>inf</td>\n",
       "    </tr>\n",
       "  </tbody>\n",
       "</table>\n",
       "<p>9748 rows × 13 columns</p>\n",
       "</div>"
      ]
     },
     "execution_count": 70,
     "metadata": {},
     "output_type": "execute_result"
    }
   ],
   "execution_count": 70
  },
  {
   "metadata": {
    "ExecuteTime": {
     "end_time": "2024-09-04T14:51:23.880675Z",
     "start_time": "2024-09-04T14:51:23.812087Z"
    }
   },
   "cell_type": "code",
   "source": [
    "plt.hist(bdf.unfixed_calculated_r_2d_4_rsigms_4_tsigms, bins='auto')\n",
    "plt.show()"
   ],
   "outputs": [
    {
     "data": {
      "text/plain": [
       "<Figure size 640x480 with 1 Axes>"
      ],
      "image/png": "[encoded data removed]"
     },
     "metadata": {},
     "output_type": "display_data"
    }
   ],
   "execution_count": 71
  },
  {
   "metadata": {
    "ExecuteTime": {
     "end_time": "2024-09-04T14:51:24.564305Z",
     "start_time": "2024-09-04T14:51:23.880675Z"
    }
   },
   "cell_type": "code",
   "source": [
    "plt.hist(bdf.beta - bdf.beta_from_calc_r_4_rsigms_4_tsigms, bins='auto')\n",
    "plt.show()"
   ],
   "outputs": [
    {
     "ename": "ValueError",
     "evalue": "supplied range of [-inf, -1.869232217983901e+76] is not finite",
     "output_type": "error",
     "traceback": [
      "\u001B[1;31m---------------------------------------------------------------------------\u001B[0m",
      "\u001B[1;31mValueError\u001B[0m                                Traceback (most recent call last)",
      "Cell \u001B[1;32mIn[72], line 1\u001B[0m\n\u001B[1;32m----> 1\u001B[0m \u001B[43mplt\u001B[49m\u001B[38;5;241;43m.\u001B[39;49m\u001B[43mhist\u001B[49m\u001B[43m(\u001B[49m\u001B[43mbdf\u001B[49m\u001B[38;5;241;43m.\u001B[39;49m\u001B[43mbeta\u001B[49m\u001B[43m \u001B[49m\u001B[38;5;241;43m-\u001B[39;49m\u001B[43m \u001B[49m\u001B[43mbdf\u001B[49m\u001B[38;5;241;43m.\u001B[39;49m\u001B[43mbeta_from_calc_r_4_rsigms_4_tsigms\u001B[49m\u001B[43m,\u001B[49m\u001B[43m \u001B[49m\u001B[43mbins\u001B[49m\u001B[38;5;241;43m=\u001B[39;49m\u001B[38;5;124;43m'\u001B[39;49m\u001B[38;5;124;43mauto\u001B[39;49m\u001B[38;5;124;43m'\u001B[39;49m\u001B[43m)\u001B[49m\n\u001B[0;32m      2\u001B[0m plt\u001B[38;5;241m.\u001B[39mshow()\n",
      "File \u001B[1;32mZ:\\Prog\\FARICH\\venv\\Lib\\site-packages\\matplotlib\\pyplot.py:3354\u001B[0m, in \u001B[0;36mhist\u001B[1;34m(x, bins, range, density, weights, cumulative, bottom, histtype, align, orientation, rwidth, log, color, label, stacked, data, **kwargs)\u001B[0m\n\u001B[0;32m   3329\u001B[0m \u001B[38;5;129m@_copy_docstring_and_deprecators\u001B[39m(Axes\u001B[38;5;241m.\u001B[39mhist)\n\u001B[0;32m   3330\u001B[0m \u001B[38;5;28;01mdef\u001B[39;00m \u001B[38;5;21mhist\u001B[39m(\n\u001B[0;32m   3331\u001B[0m     x: ArrayLike \u001B[38;5;241m|\u001B[39m Sequence[ArrayLike],\n\u001B[1;32m   (...)\u001B[0m\n\u001B[0;32m   3352\u001B[0m     BarContainer \u001B[38;5;241m|\u001B[39m Polygon \u001B[38;5;241m|\u001B[39m \u001B[38;5;28mlist\u001B[39m[BarContainer \u001B[38;5;241m|\u001B[39m Polygon],\n\u001B[0;32m   3353\u001B[0m ]:\n\u001B[1;32m-> 3354\u001B[0m     \u001B[38;5;28;01mreturn\u001B[39;00m \u001B[43mgca\u001B[49m\u001B[43m(\u001B[49m\u001B[43m)\u001B[49m\u001B[38;5;241;43m.\u001B[39;49m\u001B[43mhist\u001B[49m\u001B[43m(\u001B[49m\n\u001B[0;32m   3355\u001B[0m \u001B[43m        \u001B[49m\u001B[43mx\u001B[49m\u001B[43m,\u001B[49m\n\u001B[0;32m   3356\u001B[0m \u001B[43m        \u001B[49m\u001B[43mbins\u001B[49m\u001B[38;5;241;43m=\u001B[39;49m\u001B[43mbins\u001B[49m\u001B[43m,\u001B[49m\n\u001B[0;32m   3357\u001B[0m \u001B[43m        \u001B[49m\u001B[38;5;28;43mrange\u001B[39;49m\u001B[38;5;241;43m=\u001B[39;49m\u001B[38;5;28;43mrange\u001B[39;49m\u001B[43m,\u001B[49m\n\u001B[0;32m   3358\u001B[0m \u001B[43m        \u001B[49m\u001B[43mdensity\u001B[49m\u001B[38;5;241;43m=\u001B[39;49m\u001B[43mdensity\u001B[49m\u001B[43m,\u001B[49m\n\u001B[0;32m   3359\u001B[0m \u001B[43m        \u001B[49m\u001B[43mweights\u001B[49m\u001B[38;5;241;43m=\u001B[39;49m\u001B[43mweights\u001B[49m\u001B[43m,\u001B[49m\n\u001B[0;32m   3360\u001B[0m \u001B[43m        \u001B[49m\u001B[43mcumulative\u001B[49m\u001B[38;5;241;43m=\u001B[39;49m\u001B[43mcumulative\u001B[49m\u001B[43m,\u001B[49m\n\u001B[0;32m   3361\u001B[0m \u001B[43m        \u001B[49m\u001B[43mbottom\u001B[49m\u001B[38;5;241;43m=\u001B[39;49m\u001B[43mbottom\u001B[49m\u001B[43m,\u001B[49m\n\u001B[0;32m   3362\u001B[0m \u001B[43m        \u001B[49m\u001B[43mhisttype\u001B[49m\u001B[38;5;241;43m=\u001B[39;49m\u001B[43mhisttype\u001B[49m\u001B[43m,\u001B[49m\n\u001B[0;32m   3363\u001B[0m \u001B[43m        \u001B[49m\u001B[43malign\u001B[49m\u001B[38;5;241;43m=\u001B[39;49m\u001B[43malign\u001B[49m\u001B[43m,\u001B[49m\n\u001B[0;32m   3364\u001B[0m \u001B[43m        \u001B[49m\u001B[43morientation\u001B[49m\u001B[38;5;241;43m=\u001B[39;49m\u001B[43morientation\u001B[49m\u001B[43m,\u001B[49m\n\u001B[0;32m   3365\u001B[0m \u001B[43m        \u001B[49m\u001B[43mrwidth\u001B[49m\u001B[38;5;241;43m=\u001B[39;49m\u001B[43mrwidth\u001B[49m\u001B[43m,\u001B[49m\n\u001B[0;32m   3366\u001B[0m \u001B[43m        \u001B[49m\u001B[43mlog\u001B[49m\u001B[38;5;241;43m=\u001B[39;49m\u001B[43mlog\u001B[49m\u001B[43m,\u001B[49m\n\u001B[0;32m   3367\u001B[0m \u001B[43m        \u001B[49m\u001B[43mcolor\u001B[49m\u001B[38;5;241;43m=\u001B[39;49m\u001B[43mcolor\u001B[49m\u001B[43m,\u001B[49m\n\u001B[0;32m   3368\u001B[0m \u001B[43m        \u001B[49m\u001B[43mlabel\u001B[49m\u001B[38;5;241;43m=\u001B[39;49m\u001B[43mlabel\u001B[49m\u001B[43m,\u001B[49m\n\u001B[0;32m   3369\u001B[0m \u001B[43m        \u001B[49m\u001B[43mstacked\u001B[49m\u001B[38;5;241;43m=\u001B[39;49m\u001B[43mstacked\u001B[49m\u001B[43m,\u001B[49m\n\u001B[0;32m   3370\u001B[0m \u001B[43m        \u001B[49m\u001B[38;5;241;43m*\u001B[39;49m\u001B[38;5;241;43m*\u001B[39;49m\u001B[43m(\u001B[49m\u001B[43m{\u001B[49m\u001B[38;5;124;43m\"\u001B[39;49m\u001B[38;5;124;43mdata\u001B[39;49m\u001B[38;5;124;43m\"\u001B[39;49m\u001B[43m:\u001B[49m\u001B[43m \u001B[49m\u001B[43mdata\u001B[49m\u001B[43m}\u001B[49m\u001B[43m \u001B[49m\u001B[38;5;28;43;01mif\u001B[39;49;00m\u001B[43m \u001B[49m\u001B[43mdata\u001B[49m\u001B[43m \u001B[49m\u001B[38;5;129;43;01mis\u001B[39;49;00m\u001B[43m \u001B[49m\u001B[38;5;129;43;01mnot\u001B[39;49;00m\u001B[43m \u001B[49m\u001B[38;5;28;43;01mNone\u001B[39;49;00m\u001B[43m \u001B[49m\u001B[38;5;28;43;01melse\u001B[39;49;00m\u001B[43m \u001B[49m\u001B[43m{\u001B[49m\u001B[43m}\u001B[49m\u001B[43m)\u001B[49m\u001B[43m,\u001B[49m\n\u001B[0;32m   3371\u001B[0m \u001B[43m        \u001B[49m\u001B[38;5;241;43m*\u001B[39;49m\u001B[38;5;241;43m*\u001B[39;49m\u001B[43mkwargs\u001B[49m\u001B[43m,\u001B[49m\n\u001B[0;32m   3372\u001B[0m \u001B[43m    \u001B[49m\u001B[43m)\u001B[49m\n",
      "File \u001B[1;32mZ:\\Prog\\FARICH\\venv\\Lib\\site-packages\\matplotlib\\__init__.py:1486\u001B[0m, in \u001B[0;36m_preprocess_data.<locals>.inner\u001B[1;34m(ax, data, *args, **kwargs)\u001B[0m\n\u001B[0;32m   1483\u001B[0m \u001B[38;5;129m@functools\u001B[39m\u001B[38;5;241m.\u001B[39mwraps(func)\n\u001B[0;32m   1484\u001B[0m \u001B[38;5;28;01mdef\u001B[39;00m \u001B[38;5;21minner\u001B[39m(ax, \u001B[38;5;241m*\u001B[39margs, data\u001B[38;5;241m=\u001B[39m\u001B[38;5;28;01mNone\u001B[39;00m, \u001B[38;5;241m*\u001B[39m\u001B[38;5;241m*\u001B[39mkwargs):\n\u001B[0;32m   1485\u001B[0m     \u001B[38;5;28;01mif\u001B[39;00m data \u001B[38;5;129;01mis\u001B[39;00m \u001B[38;5;28;01mNone\u001B[39;00m:\n\u001B[1;32m-> 1486\u001B[0m         \u001B[38;5;28;01mreturn\u001B[39;00m \u001B[43mfunc\u001B[49m\u001B[43m(\u001B[49m\n\u001B[0;32m   1487\u001B[0m \u001B[43m            \u001B[49m\u001B[43max\u001B[49m\u001B[43m,\u001B[49m\n\u001B[0;32m   1488\u001B[0m \u001B[43m            \u001B[49m\u001B[38;5;241;43m*\u001B[39;49m\u001B[38;5;28;43mmap\u001B[39;49m\u001B[43m(\u001B[49m\u001B[43msanitize_sequence\u001B[49m\u001B[43m,\u001B[49m\u001B[43m \u001B[49m\u001B[43margs\u001B[49m\u001B[43m)\u001B[49m\u001B[43m,\u001B[49m\n\u001B[0;32m   1489\u001B[0m \u001B[43m            \u001B[49m\u001B[38;5;241;43m*\u001B[39;49m\u001B[38;5;241;43m*\u001B[39;49m\u001B[43m{\u001B[49m\u001B[43mk\u001B[49m\u001B[43m:\u001B[49m\u001B[43m \u001B[49m\u001B[43msanitize_sequence\u001B[49m\u001B[43m(\u001B[49m\u001B[43mv\u001B[49m\u001B[43m)\u001B[49m\u001B[43m \u001B[49m\u001B[38;5;28;43;01mfor\u001B[39;49;00m\u001B[43m \u001B[49m\u001B[43mk\u001B[49m\u001B[43m,\u001B[49m\u001B[43m \u001B[49m\u001B[43mv\u001B[49m\u001B[43m \u001B[49m\u001B[38;5;129;43;01min\u001B[39;49;00m\u001B[43m \u001B[49m\u001B[43mkwargs\u001B[49m\u001B[38;5;241;43m.\u001B[39;49m\u001B[43mitems\u001B[49m\u001B[43m(\u001B[49m\u001B[43m)\u001B[49m\u001B[43m}\u001B[49m\u001B[43m)\u001B[49m\n\u001B[0;32m   1491\u001B[0m     bound \u001B[38;5;241m=\u001B[39m new_sig\u001B[38;5;241m.\u001B[39mbind(ax, \u001B[38;5;241m*\u001B[39margs, \u001B[38;5;241m*\u001B[39m\u001B[38;5;241m*\u001B[39mkwargs)\n\u001B[0;32m   1492\u001B[0m     auto_label \u001B[38;5;241m=\u001B[39m (bound\u001B[38;5;241m.\u001B[39marguments\u001B[38;5;241m.\u001B[39mget(label_namer)\n\u001B[0;32m   1493\u001B[0m                   \u001B[38;5;129;01mor\u001B[39;00m bound\u001B[38;5;241m.\u001B[39mkwargs\u001B[38;5;241m.\u001B[39mget(label_namer))\n",
      "File \u001B[1;32mZ:\\Prog\\FARICH\\venv\\Lib\\site-packages\\matplotlib\\axes\\_axes.py:7001\u001B[0m, in \u001B[0;36mAxes.hist\u001B[1;34m(self, x, bins, range, density, weights, cumulative, bottom, histtype, align, orientation, rwidth, log, color, label, stacked, **kwargs)\u001B[0m\n\u001B[0;32m   6997\u001B[0m \u001B[38;5;66;03m# Loop through datasets\u001B[39;00m\n\u001B[0;32m   6998\u001B[0m \u001B[38;5;28;01mfor\u001B[39;00m i \u001B[38;5;129;01min\u001B[39;00m \u001B[38;5;28mrange\u001B[39m(nx):\n\u001B[0;32m   6999\u001B[0m     \u001B[38;5;66;03m# this will automatically overwrite bins,\u001B[39;00m\n\u001B[0;32m   7000\u001B[0m     \u001B[38;5;66;03m# so that each histogram uses the same bins\u001B[39;00m\n\u001B[1;32m-> 7001\u001B[0m     m, bins \u001B[38;5;241m=\u001B[39m \u001B[43mnp\u001B[49m\u001B[38;5;241;43m.\u001B[39;49m\u001B[43mhistogram\u001B[49m\u001B[43m(\u001B[49m\u001B[43mx\u001B[49m\u001B[43m[\u001B[49m\u001B[43mi\u001B[49m\u001B[43m]\u001B[49m\u001B[43m,\u001B[49m\u001B[43m \u001B[49m\u001B[43mbins\u001B[49m\u001B[43m,\u001B[49m\u001B[43m \u001B[49m\u001B[43mweights\u001B[49m\u001B[38;5;241;43m=\u001B[39;49m\u001B[43mw\u001B[49m\u001B[43m[\u001B[49m\u001B[43mi\u001B[49m\u001B[43m]\u001B[49m\u001B[43m,\u001B[49m\u001B[43m \u001B[49m\u001B[38;5;241;43m*\u001B[39;49m\u001B[38;5;241;43m*\u001B[39;49m\u001B[43mhist_kwargs\u001B[49m\u001B[43m)\u001B[49m\n\u001B[0;32m   7002\u001B[0m     tops\u001B[38;5;241m.\u001B[39mappend(m)\n\u001B[0;32m   7003\u001B[0m tops \u001B[38;5;241m=\u001B[39m np\u001B[38;5;241m.\u001B[39marray(tops, \u001B[38;5;28mfloat\u001B[39m)  \u001B[38;5;66;03m# causes problems later if it's an int\u001B[39;00m\n",
      "File \u001B[1;32mZ:\\Prog\\FARICH\\venv\\Lib\\site-packages\\numpy\\lib\\histograms.py:780\u001B[0m, in \u001B[0;36mhistogram\u001B[1;34m(a, bins, range, density, weights)\u001B[0m\n\u001B[0;32m    680\u001B[0m \u001B[38;5;250m\u001B[39m\u001B[38;5;124mr\u001B[39m\u001B[38;5;124;03m\"\"\"\u001B[39;00m\n\u001B[0;32m    681\u001B[0m \u001B[38;5;124;03mCompute the histogram of a dataset.\u001B[39;00m\n\u001B[0;32m    682\u001B[0m \n\u001B[1;32m   (...)\u001B[0m\n\u001B[0;32m    776\u001B[0m \n\u001B[0;32m    777\u001B[0m \u001B[38;5;124;03m\"\"\"\u001B[39;00m\n\u001B[0;32m    778\u001B[0m a, weights \u001B[38;5;241m=\u001B[39m _ravel_and_check_weights(a, weights)\n\u001B[1;32m--> 780\u001B[0m bin_edges, uniform_bins \u001B[38;5;241m=\u001B[39m \u001B[43m_get_bin_edges\u001B[49m\u001B[43m(\u001B[49m\u001B[43ma\u001B[49m\u001B[43m,\u001B[49m\u001B[43m \u001B[49m\u001B[43mbins\u001B[49m\u001B[43m,\u001B[49m\u001B[43m \u001B[49m\u001B[38;5;28;43mrange\u001B[39;49m\u001B[43m,\u001B[49m\u001B[43m \u001B[49m\u001B[43mweights\u001B[49m\u001B[43m)\u001B[49m\n\u001B[0;32m    782\u001B[0m \u001B[38;5;66;03m# Histogram is an integer or a float array depending on the weights.\u001B[39;00m\n\u001B[0;32m    783\u001B[0m \u001B[38;5;28;01mif\u001B[39;00m weights \u001B[38;5;129;01mis\u001B[39;00m \u001B[38;5;28;01mNone\u001B[39;00m:\n",
      "File \u001B[1;32mZ:\\Prog\\FARICH\\venv\\Lib\\site-packages\\numpy\\lib\\histograms.py:396\u001B[0m, in \u001B[0;36m_get_bin_edges\u001B[1;34m(a, bins, range, weights)\u001B[0m\n\u001B[0;32m    392\u001B[0m \u001B[38;5;28;01mif\u001B[39;00m weights \u001B[38;5;129;01mis\u001B[39;00m \u001B[38;5;129;01mnot\u001B[39;00m \u001B[38;5;28;01mNone\u001B[39;00m:\n\u001B[0;32m    393\u001B[0m     \u001B[38;5;28;01mraise\u001B[39;00m \u001B[38;5;167;01mTypeError\u001B[39;00m(\u001B[38;5;124m\"\u001B[39m\u001B[38;5;124mAutomated estimation of the number of \u001B[39m\u001B[38;5;124m\"\u001B[39m\n\u001B[0;32m    394\u001B[0m                     \u001B[38;5;124m\"\u001B[39m\u001B[38;5;124mbins is not supported for weighted data\u001B[39m\u001B[38;5;124m\"\u001B[39m)\n\u001B[1;32m--> 396\u001B[0m first_edge, last_edge \u001B[38;5;241m=\u001B[39m \u001B[43m_get_outer_edges\u001B[49m\u001B[43m(\u001B[49m\u001B[43ma\u001B[49m\u001B[43m,\u001B[49m\u001B[43m \u001B[49m\u001B[38;5;28;43mrange\u001B[39;49m\u001B[43m)\u001B[49m\n\u001B[0;32m    398\u001B[0m \u001B[38;5;66;03m# truncate the range if needed\u001B[39;00m\n\u001B[0;32m    399\u001B[0m \u001B[38;5;28;01mif\u001B[39;00m \u001B[38;5;28mrange\u001B[39m \u001B[38;5;129;01mis\u001B[39;00m \u001B[38;5;129;01mnot\u001B[39;00m \u001B[38;5;28;01mNone\u001B[39;00m:\n",
      "File \u001B[1;32mZ:\\Prog\\FARICH\\venv\\Lib\\site-packages\\numpy\\lib\\histograms.py:315\u001B[0m, in \u001B[0;36m_get_outer_edges\u001B[1;34m(a, range)\u001B[0m\n\u001B[0;32m    312\u001B[0m         \u001B[38;5;28;01mraise\u001B[39;00m \u001B[38;5;167;01mValueError\u001B[39;00m(\n\u001B[0;32m    313\u001B[0m             \u001B[38;5;124m'\u001B[39m\u001B[38;5;124mmax must be larger than min in range parameter.\u001B[39m\u001B[38;5;124m'\u001B[39m)\n\u001B[0;32m    314\u001B[0m     \u001B[38;5;28;01mif\u001B[39;00m \u001B[38;5;129;01mnot\u001B[39;00m (np\u001B[38;5;241m.\u001B[39misfinite(first_edge) \u001B[38;5;129;01mand\u001B[39;00m np\u001B[38;5;241m.\u001B[39misfinite(last_edge)):\n\u001B[1;32m--> 315\u001B[0m         \u001B[38;5;28;01mraise\u001B[39;00m \u001B[38;5;167;01mValueError\u001B[39;00m(\n\u001B[0;32m    316\u001B[0m             \u001B[38;5;124m\"\u001B[39m\u001B[38;5;124msupplied range of [\u001B[39m\u001B[38;5;132;01m{}\u001B[39;00m\u001B[38;5;124m, \u001B[39m\u001B[38;5;132;01m{}\u001B[39;00m\u001B[38;5;124m] is not finite\u001B[39m\u001B[38;5;124m\"\u001B[39m\u001B[38;5;241m.\u001B[39mformat(first_edge, last_edge))\n\u001B[0;32m    317\u001B[0m \u001B[38;5;28;01melif\u001B[39;00m a\u001B[38;5;241m.\u001B[39msize \u001B[38;5;241m==\u001B[39m \u001B[38;5;241m0\u001B[39m:\n\u001B[0;32m    318\u001B[0m     \u001B[38;5;66;03m# handle empty arrays. Can't determine range, so use 0-1.\u001B[39;00m\n\u001B[0;32m    319\u001B[0m     first_edge, last_edge \u001B[38;5;241m=\u001B[39m \u001B[38;5;241m0\u001B[39m, \u001B[38;5;241m1\u001B[39m\n",
      "\u001B[1;31mValueError\u001B[0m: supplied range of [-inf, -1.869232217983901e+76] is not finite"
     ]
    },
    {
     "data": {
      "text/plain": [
       "<Figure size 640x480 with 1 Axes>"
      ],
      "image/png": "[encoded data removed]"
     },
     "metadata": {},
     "output_type": "display_data"
    }
   ],
   "execution_count": 72
  },
  {
   "metadata": {
    "ExecuteTime": {
     "end_time": "2024-09-04T14:51:24.566318Z",
     "start_time": "2024-09-04T14:51:24.566318Z"
    }
   },
   "cell_type": "code",
   "source": [
    "def rms90(arr):\n",
    "    # Calculate the mean and standard deviation of the array\n",
    "    arr = arr.dropna()\n",
    "    # arr_mean = np.mean(arr)\n",
    "    # arr_std = np.std(arr)\n",
    "\n",
    "    # Define the upper and lower limits for the 90% range\n",
    "    lower_limit = np.percentile(arr, 5)\n",
    "    upper_limit = np.percentile(arr, 95)\n",
    "    # print(lower_limit, upper_limit)\n",
    "    # print(arr)\n",
    "    # Select the values within the 90% range\n",
    "    arr_filtered = arr[(arr >= lower_limit) & (arr <= upper_limit)]\n",
    "    # print(arr_filtered)\n",
    "    assert arr_filtered.shape\n",
    "    # Calculate the root mean square of the filtered values\n",
    "    rms = np.std(arr_filtered)\n",
    "\n",
    "    return rms"
   ],
   "outputs": [],
   "execution_count": null
  },
  {
   "metadata": {},
   "cell_type": "code",
   "source": [
    "def betaGroupsRMS90(bdf: pd.DataFrame, avg_sigmas: tuple, avg_t_sigmas: tuple, n = 5):\n",
    "  beta_sigms = np.full((np.ptp(avg_sigmas), np.ptp(avg_t_sigmas), n), 0.)\n",
    "  beta_epss = np.full((np.ptp(avg_sigmas), np.ptp(avg_t_sigmas), n), 0.)\n",
    "  beta_sigms_sigms = np.full((np.ptp(avg_sigmas), np.ptp(avg_t_sigmas), n), 0.)\n",
    "\n",
    "  for group in range(1, n + 1):\n",
    "    data = bdf[bdf['beta_group'] == group]\n",
    "    for i in range(np.ptp(avg_sigmas)):\n",
    "      for j in range(np.ptp(avg_t_sigmas)):\n",
    "        population_fourth_moment = np.mean(bdf[f'delta_beta_{i + avg_sigmas[0]}_rsigms_{j + avg_t_sigmas[0]}_tsigms'] ** 4)\n",
    "        sample_fourth_moment = np.mean(data[f'delta_beta_{i + avg_sigmas[0]}_rsigms_{j + avg_t_sigmas[0]}_tsigms'] ** 4)\n",
    "        # print(np.std(data[f'delta_beta_{i + avg_sigmas[0]}_rsigms_{j + avg_t_sigmas[0]}_tsigms']))\n",
    "        beta_sigms[i, j, group - 1] = rms90(data[f'delta_beta_{i + avg_sigmas[0]}_rsigms_{j + avg_t_sigmas[0]}_tsigms'])\n",
    "        # assert not np.isnan(beta_sigms[i, j, group - 1])\n",
    "        beta_epss[i, j, group - 1] = rms90(data[f'eps_beta_{i + avg_sigmas[0]}_rsigms_{j + avg_t_sigmas[0]}_tsigms'])\n",
    "        beta_sigms_sigms[i, j, group - 1] = np.sqrt(2 * np.abs(sample_fourth_moment - population_fourth_moment) / (data.shape[0]))\n",
    "\n",
    "  return beta_sigms, beta_epss, beta_sigms_sigms"
   ],
   "outputs": [],
   "execution_count": null
  },
  {
   "metadata": {},
   "cell_type": "code",
   "source": [
    "def plot_final_graph(beta_sigms, beta_sigms_yerr, avg_sigmas, avg_t_sigmas, r_width, t_width, r_factor, t_factor, weighed, to_save=True, deg_lim=False, num_of_groups=10, iteration=0):\n",
    "  # labels = ['0', '1e3', '1e4', '1e5', '1e6']\n",
    "  labels = ['0']\n",
    "  labels = ['DCR = ' + i + ' $Hz/mm^2$' for i in labels]\n",
    "  colors = ['c', 'y', 'g', 'r', 'm']\n",
    "  weight = 'weighed' if weighed else 'unweighed'\n",
    "  y = np.arange(1, num_of_groups + 1)\n",
    "  x = (y * (max(edf['beta']) - min(edf['beta'])) - max(edf['beta']) + (num_of_groups + 1) * min(edf['beta'])) / num_of_groups\n",
    "\n",
    "  fig, axs = plt.subplots(np.ptp(avg_sigmas), np.ptp(avg_t_sigmas), figsize=(10 * np.ptp(avg_t_sigmas), 10 * np.ptp(avg_sigmas)))\n",
    "  title = f'Method: N(r) / r; {weight} Avg\\nR Width = {r_width}mm, T Width = {t_width}ns\\nR step factor = {r_factor}, T step factor = {t_factor}'\n",
    "  if deg_lim:\n",
    "    title += '\\n' + r'$\\theta_p < 10\\deg$'\n",
    "  # fig.suptitle(title)\n",
    "\n",
    "  if np.ptp(avg_sigmas) > 1:\n",
    "    for i in range(np.ptp(avg_sigmas)):\n",
    "      for j in range(np.ptp(avg_t_sigmas)):\n",
    "        for k in range(beta_sigms.shape[0]):\n",
    "          axs[i, j].plot(x, beta_sigms[k, i, j], label=labels[k], c=colors[k])\n",
    "          axs[i, j].errorbar(x, beta_sigms[k, i, j], xerr=[np.diff(x)[0]/4 for _ in x], linestyle='', c=colors[k])\n",
    "          axs[i, j].errorbar(x, beta_sigms[k, i, j], yerr=beta_sigms_yerr[k, i, j], linestyle='', c=colors[k])\n",
    "        axs[i, j].legend(loc='upper right')\n",
    "        axs[i, j].set_xlabel('Beta Group')\n",
    "        axs[i, j].set_ylabel(r'RMS90($\\Delta\\beta$)')\n",
    "        if deg_lim:\n",
    "          axs[i, j].set_ylim((0, 0.004))\n",
    "        axs[i, j].set_title(f'Velocity resoultion for\\nr window width = {avg_sigmas[0] + i}$\\sigma$\\nt window width = {avg_t_sigmas[0] + j}$\\sigma$')\n",
    "        axs[i, j].grid()\n",
    "  elif np.ptp(avg_t_sigmas) > 1:\n",
    "    for j in range(np.ptp(avg_t_sigmas)):\n",
    "      for k in range(beta_sigms.shape[0]):\n",
    "        axs[j].plot(x, beta_sigms[k, 0, j], label=labels[k], c=colors[k])\n",
    "        axs[j].errorbar(x, beta_sigms[k, 0, j], xerr=[np.diff(x)[0]/4 for _ in x], linestyle='', c=colors[k])\n",
    "        axs[j].errorbar(x, beta_sigms[k, 0, j], yerr=beta_sigms_yerr[k, 0, j], linestyle='', c=colors[k])\n",
    "      axs[j].legend(loc='upper right')\n",
    "      axs[j].set_xlabel('Beta Group')\n",
    "      axs[j].set_ylabel(r'RMS90($\\Delta\\beta)$')\n",
    "      if deg_lim:\n",
    "        axs[j].set_ylim((0, 0.004))\n",
    "      axs[j].set_title(f'Velocity resoultion for\\nr window width = {avg_sigmas[0]}$\\sigma$\\nt window width = {avg_t_sigmas[0] + j}$\\sigma$')\n",
    "      axs[j].grid()\n",
    "  else:\n",
    "    for k in range(beta_sigms.shape[0]):\n",
    "      axs.plot(x, beta_sigms[k, 0, 0], label=labels[k], c=colors[k])\n",
    "      axs.errorbar(x, beta_sigms[k, 0, 0], xerr=[np.diff(x)[0]/4 for _ in x], linestyle='', c=colors[k])\n",
    "      axs.errorbar(x, beta_sigms[k, 0, 0], yerr=beta_sigms_yerr[k, 0, 0], linestyle='', c=colors[k])\n",
    "    axs.legend(loc='upper right')\n",
    "    axs.set_xlabel('Beta Group')\n",
    "    axs.set_ylabel(r'RMS90($\\Delta\\beta$)')\n",
    "    if deg_lim:\n",
    "      # axs.set_ylim((0, 0.002))\n",
    "        # revert back\n",
    "      axs.set_ylim((0, 0.004))\n",
    "        \n",
    "        \n",
    "        \n",
    "    axs.set_title(f'Velocity resoultion for\\nr window width = {avg_sigmas[0]}$\\sigma$\\nt window width = {avg_t_sigmas[0]}$\\sigma$')\n",
    "    axs.grid()\n",
    "\n",
    "  if to_save:\n",
    "    filename = f'{weight}_avg_rw={r_width}_tw={t_width}_rs={r_factor}_ts={t_factor}_rsigms={avg_sigmas[0]}-{avg_sigmas[-1]-1}_tsigms={avg_t_sigmas[0]}-{avg_t_sigmas[-1]-1}'\n",
    "    if deg_lim:\n",
    "      filename += '_10deg'\n",
    "    filename += f'_{iteration}'\n",
    "    filename += '.png'\n",
    "    fig.savefig(os.path.join('results_barrel', f'{filename}'))\n",
    "    plt.close(fig)\n",
    "  else:\n",
    "    plt.show()"
   ],
   "outputs": [],
   "execution_count": null
  },
  {
   "metadata": {},
   "cell_type": "code",
   "source": [
    "bg = betaGroupsRMS90(bdf, avg_sigmas=avg_sigmas, avg_t_sigmas=avg_t_sigmas, n=num_of_groups)\n",
    "beta_sigms.append(bg[0])\n",
    "beta_sigms_yerr.append(bg[2])"
   ],
   "outputs": [],
   "execution_count": null
  },
  {
   "metadata": {},
   "cell_type": "code",
   "source": [
    "beta_sigms = np.array(beta_sigms)\n",
    "beta_sigms_yerr = np.array(beta_sigms_yerr)"
   ],
   "outputs": [],
   "execution_count": null
  },
  {
   "metadata": {},
   "cell_type": "code",
   "source": "",
   "outputs": [],
   "execution_count": null
  },
  {
   "metadata": {},
   "cell_type": "code",
   "source": "plot_final_graph(beta_sigms, beta_sigms_yerr, avg_sigmas, avg_t_sigmas, r_width, t_width, r_factor, t_factor, weighed, deg_lim=False, num_of_groups=num_of_groups, iteration=0)\n",
   "outputs": [],
   "execution_count": null
  },
  {
   "metadata": {},
   "cell_type": "code",
   "source": [
    "edf_d = edf[edf.theta_p <= 10. * np.pi / 180]\n",
    "edf_d = edf_d[edf_d.signal_counts >= 5]\n",
    "bdf_d = bdf[bdf.theta_p <= 10. * np.pi / 180]\n",
    "bdf_d = bdf_d[bdf_d.signal_counts >= 5]"
   ],
   "outputs": [],
   "execution_count": null
  },
  {
   "metadata": {},
   "cell_type": "code",
   "source": [
    "bg_deglim = betaGroupsRMS90(bdf_d, avg_sigmas=avg_sigmas, avg_t_sigmas=avg_t_sigmas, n=num_of_groups)\n",
    "beta_sigms_deglim.append(bg_deglim[0])\n",
    "beta_sigms_yerr_deglim.append(bg_deglim[2])"
   ],
   "outputs": [],
   "execution_count": null
  },
  {
   "metadata": {},
   "cell_type": "code",
   "source": [
    "beta_sigms_deglim = np.array(beta_sigms_deglim)\n",
    "beta_sigms_yerr_deglim = np.array(beta_sigms_yerr_deglim)"
   ],
   "outputs": [],
   "execution_count": null
  },
  {
   "metadata": {},
   "cell_type": "code",
   "source": "plot_final_graph(beta_sigms_deglim, beta_sigms_yerr_deglim, avg_sigmas, avg_t_sigmas, r_width, t_width, r_factor, t_factor, weighed, deg_lim=True, num_of_groups=num_of_groups, iteration=0)",
   "outputs": [],
   "execution_count": null
  },
  {
   "metadata": {},
   "cell_type": "code",
   "source": "",
   "outputs": [],
   "execution_count": null
  },
  {
   "metadata": {},
   "cell_type": "code",
   "source": "bdf",
   "outputs": [],
   "execution_count": null
  },
  {
   "metadata": {},
   "cell_type": "code",
   "source": "ы",
   "outputs": [],
   "execution_count": null
  },
  {
   "metadata": {},
   "cell_type": "code",
   "source": [
    "plt.hist(bdf.beta, bins='auto')\n",
    "plt.xlabel('beta')\n",
    "plt.show()"
   ],
   "outputs": [],
   "execution_count": null
  },
  {
   "metadata": {},
   "cell_type": "code",
   "source": [
    "plt.subplot()\n",
    "plt.hist(bdf.cos_theta_p, bins='auto')\n",
    "plt.xlabel('cos_theta_p')\n",
    "plt.show()\n",
    "plt.subplot()\n",
    "plt.hist(bdf.theta_p, bins='auto')\n",
    "plt.xlabel('theta_p')\n",
    "plt.show()"
   ],
   "outputs": [],
   "execution_count": null
  },
  {
   "cell_type": "markdown",
   "source": [
    "primary particle - last with wv = 0"
   ],
   "metadata": {
    "collapsed": false
   }
  },
  {
   "metadata": {},
   "cell_type": "code",
   "source": "",
   "outputs": [],
   "execution_count": null
  },
  {
   "cell_type": "code",
   "source": [
    "# coordinates[:,3]\n",
    "lambdas = np.concatenate(coordinates[:,3])"
   ],
   "metadata": {
    "collapsed": false
   },
   "outputs": [],
   "execution_count": null
  },
  {
   "cell_type": "code",
   "source": [
    "lambdas.shape"
   ],
   "metadata": {
    "collapsed": false
   },
   "outputs": [],
   "execution_count": null
  },
  {
   "cell_type": "code",
   "source": [
    "lambdas.shape[0] / coordinates.shape[0]"
   ],
   "metadata": {
    "collapsed": false
   },
   "outputs": [],
   "execution_count": null
  },
  {
   "cell_type": "code",
   "source": [
    "plt.hist(lambdas, bins=PDE_wvs)\n",
    "plt.xlabel('Wavelength, nm')\n",
    "plt.title(f'Energy: 1500 MeV\\nMean: {round(lambdas.mean(), 1)} nm' + '\\n' + f'Std: {round(lambdas.std(), 1)} nm')\n",
    "plt.ylabel('Hits')\n",
    "# plt.xlim((200, 900))\n",
    "plt.show()"
   ],
   "metadata": {
    "collapsed": false
   },
   "outputs": [],
   "execution_count": null
  },
  {
   "cell_type": "code",
   "source": [
    "# delta_r = np.sqrt(x ** 2 + y ** 2 - 1000 ** 2)\n",
    "plt.scatter(coordinates[0][0], coordinates[0][2], c='red', s=3)\n",
    "# plt.plot(1000 * np.cos(np.linspace(0, 2*np.pi,1000)), 1000 * np.sin(np.linspace(0, 2*np.pi,1000)))\n",
    "# plt.xlim((-160, 50))\n",
    "# plt.ylim((-1100, -650))\n",
    "plt.xlabel('X, mm')\n",
    "plt.ylabel('Z, mm')\n",
    "# plt.title('p = 1500 MeV' + f'\\n{coordinates[0][0].shape[0]} Hits')\n",
    "plt.show()"
   ],
   "metadata": {
    "collapsed": false
   },
   "outputs": [],
   "execution_count": null
  },
  {
   "cell_type": "code",
   "source": [
    "print(coordinates[0][0].shape)"
   ],
   "metadata": {
    "collapsed": false
   },
   "outputs": [],
   "execution_count": null
  },
  {
   "cell_type": "code",
   "source": [
    "plt.scatter(PDE_wvs, PDEs)\n",
    "plt.show()"
   ],
   "metadata": {
    "collapsed": false
   },
   "outputs": [],
   "execution_count": null
  },
  {
   "cell_type": "code",
   "source": [],
   "metadata": {
    "collapsed": false
   },
   "outputs": [],
   "execution_count": null
  },
  {
   "cell_type": "code",
   "source": [
    "events_len = []\n",
    "for i in range(coordinates.shape[0]):\n",
    "    events_len.append(len(coordinates[i][0]))\n",
    "events_len = np.array(events_len)\n",
    "plt.hist(events_len, bins='auto')\n",
    "plt.xlabel('Hits in event')\n",
    "plt.title(f'Energy: 1500 MeV\\nMean: {round(events_len.mean(), 1)}' + '\\n' + f'Std: {round(events_len.std(), 1)}')\n",
    "plt.ylabel('Events')\n",
    "plt.show()"
   ],
   "metadata": {
    "collapsed": false
   },
   "outputs": [],
   "execution_count": null
  },
  {
   "cell_type": "markdown",
   "source": [
    "# End of main"
   ],
   "metadata": {
    "collapsed": false
   }
  },
  {
   "cell_type": "code",
   "source": [
    "coordinates[0]"
   ],
   "metadata": {
    "collapsed": false
   },
   "outputs": [],
   "execution_count": null
  },
  {
   "cell_type": "code",
   "source": [
    "lambdas = 1239.841 / np.array(file['events;2']['FarichBarrelG4Hits.energy'].array()) * 1e-9"
   ],
   "metadata": {
    "collapsed": false
   },
   "outputs": [],
   "execution_count": null
  },
  {
   "cell_type": "code",
   "source": [
    "lambdas = np.concatenate(lambdas)"
   ],
   "metadata": {
    "collapsed": false
   },
   "outputs": [],
   "execution_count": null
  },
  {
   "cell_type": "code",
   "source": [
    "lambdas = lambdas[lambdas > 150]"
   ],
   "metadata": {
    "collapsed": false
   },
   "outputs": [],
   "execution_count": null
  },
  {
   "cell_type": "code",
   "source": [
    "mask = (lambdas >= 380) & (lambdas <= 780)"
   ],
   "metadata": {
    "collapsed": false
   },
   "outputs": [],
   "execution_count": null
  },
  {
   "cell_type": "code",
   "source": [
    "lambdas[mask].shape[0] / lambdas.shape[0]"
   ],
   "metadata": {
    "collapsed": false
   },
   "outputs": [],
   "execution_count": null
  },
  {
   "cell_type": "code",
   "source": [
    "lambdas.shape[0]"
   ],
   "metadata": {
    "collapsed": false
   },
   "outputs": [],
   "execution_count": null
  },
  {
   "cell_type": "code",
   "source": [
    "plt.hist(lambdas, bins='auto')\n",
    "plt.xlabel('Wavelength, nm')\n",
    "plt.title(f'Energy: 1500 MeV\\nMean: {round(lambdas.mean(), 1)} nm' + '\\n' + f'Std: {round(lambdas.std(), 1)} nm')\n",
    "plt.ylabel('Hits')\n",
    "plt.show()"
   ],
   "metadata": {
    "collapsed": false
   },
   "outputs": [],
   "execution_count": null
  },
  {
   "cell_type": "code",
   "source": [
    "cut_shapes = np.zeros(1000)\n",
    "for num in range(1000):\n",
    "    # arr = 1239.841 / np.array(file['events;2']['FarichBarrelG4Hits.energy'].array())[num] * 1e-9\n",
    "    # mask = (arr >= 350) & (arr <= 800)\n",
    "    # cut_shapes[num] = arr[mask].shape[0]\n",
    "    cut_shapes[num] = np.array(file['events;2']['FarichBarrelG4Hits.energy'].array())[num].shape[0]"
   ],
   "metadata": {
    "collapsed": false
   },
   "outputs": [],
   "execution_count": null
  },
  {
   "cell_type": "code",
   "source": [
    "plt.hist(cut_shapes, bins='auto')\n",
    "plt.title(f'Energy: 1500 MeV\\nMean: {round(cut_shapes.mean(), 1)}' + '\\n' + f'Std: {round(cut_shapes.std(), 1)}')\n",
    "plt.xlabel('Photons in event')\n",
    "plt.show()"
   ],
   "metadata": {
    "collapsed": false
   },
   "outputs": [],
   "execution_count": null
  },
  {
   "cell_type": "code",
   "source": [
    "num = 5\n",
    "plt.hist(1239.841 / (1 * (np.array(file['events;2']['FarichBarrelG4Hits.energy'].array())[num][np.array(file['events;2']['FarichBarrelG4Hits.energy'].array())[num] < 1e-8] * 1e9)), bins='auto')\n",
    "plt.show()"
   ],
   "metadata": {
    "collapsed": false
   },
   "outputs": [],
   "execution_count": null
  },
  {
   "cell_type": "code",
   "source": [
    "plt.hist([np.array(file['events;2']['FarichBarrelG4Hits.energy'].array())[i].shape[0] for i in range(1000)], bins='doane')\n",
    "plt.show()"
   ],
   "metadata": {
    "collapsed": false
   },
   "outputs": [],
   "execution_count": null
  },
  {
   "cell_type": "code",
   "source": [
    "minn = 1\n",
    "for i in range(1000):\n",
    "    try:\n",
    "        tmp  = min(np.array(file['events;2']['FarichBarrelG4Hits.energy'].array())[i])\n",
    "    except ValueError:\n",
    "        pass\n",
    "    minn = min(minn, tmp)\n",
    "print(minn)"
   ],
   "metadata": {
    "collapsed": false
   },
   "outputs": [],
   "execution_count": null
  },
  {
   "cell_type": "code",
   "source": [
    "pdes_tmp = pd.read_csv('PDE.csv', sep=';', names=['A'])\n",
    "t1 = []\n",
    "t2 = []\n",
    "for inedx, row in pdes_tmp.iterrows():\n",
    "    t1.append(float(row['A'].split(';')[0].replace(',', '.')))\n",
    "    t2.append(float(row['A'].split(';')[1].replace(',', '.')))"
   ],
   "metadata": {
    "collapsed": false
   },
   "outputs": [],
   "execution_count": null
  },
  {
   "cell_type": "code",
   "source": [
    "t1 = np.array(t1)\n",
    "t2 = np.array(t2)"
   ],
   "metadata": {
    "collapsed": false
   },
   "outputs": [],
   "execution_count": null
  },
  {
   "cell_type": "code",
   "source": [
    "plt.scatter(t1, t2)\n",
    "plt.show()"
   ],
   "metadata": {
    "collapsed": false
   },
   "outputs": [],
   "execution_count": null
  },
  {
   "cell_type": "code",
   "source": [
    "t1.shape"
   ],
   "metadata": {
    "collapsed": false
   },
   "outputs": [],
   "execution_count": null
  },
  {
   "cell_type": "code",
   "source": [
    "a1, a2_ = np.histogram(lambdas, bins=128)"
   ],
   "metadata": {
    "collapsed": false
   },
   "outputs": [],
   "execution_count": null
  },
  {
   "cell_type": "code",
   "source": [
    "PDE_wvs = (PDE_wvs[1:] + PDE_wvs[:-1]) / 2"
   ],
   "metadata": {
    "collapsed": false
   },
   "outputs": [],
   "execution_count": null
  },
  {
   "cell_type": "code",
   "source": [
    "PDE_wvs.shape"
   ],
   "metadata": {
    "collapsed": false
   },
   "outputs": [],
   "execution_count": null
  },
  {
   "cell_type": "code",
   "source": [
    "plt.step(PDE_wvs, a1, where='post')\n",
    "plt.show()"
   ],
   "metadata": {
    "collapsed": false
   },
   "outputs": [],
   "execution_count": null
  },
  {
   "cell_type": "code",
   "source": [
    "a1.shape"
   ],
   "metadata": {
    "collapsed": false
   },
   "outputs": [],
   "execution_count": null
  },
  {
   "cell_type": "code",
   "source": [
    "a1.sum()"
   ],
   "metadata": {
    "collapsed": false
   },
   "outputs": [],
   "execution_count": null
  },
  {
   "cell_type": "code",
   "source": [
    "# conv_x = np.arange(min(t1.min(), a2.min()), max(t1.max(), a2.max()) + 1)\n"
   ],
   "metadata": {
    "collapsed": false
   },
   "outputs": [],
   "execution_count": null
  },
  {
   "cell_type": "code",
   "source": [
    "PDEs = np.interp(PDE_wvs, t1, t2, left=0, right=0)\n",
    "# dist1_interpolated = dist1_interpolated / dist1_interpolated.sum()\n",
    "# dist2_interpolated = np.interp(conv_x, a2, a1 / a1.sum(), left=0, right=0)\n",
    "\n",
    "# Perform convolution\n",
    "convolution_result = np.convolve(PDEs, a1, mode='same')\n"
   ],
   "metadata": {
    "collapsed": false
   },
   "outputs": [],
   "execution_count": null
  },
  {
   "cell_type": "code",
   "source": [
    "plt.scatter(PDE_wvs, PDEs)\n",
    "plt.show()"
   ],
   "metadata": {
    "collapsed": false
   },
   "outputs": [],
   "execution_count": null
  },
  {
   "cell_type": "code",
   "source": [
    "PDEs.sum()"
   ],
   "metadata": {
    "collapsed": false
   },
   "outputs": [],
   "execution_count": null
  },
  {
   "cell_type": "code",
   "source": [
    "dist2_interpolated.shape[0]"
   ],
   "metadata": {
    "collapsed": false
   },
   "outputs": [],
   "execution_count": null
  },
  {
   "cell_type": "code",
   "source": [
    "convolution_result.sum()"
   ],
   "metadata": {
    "collapsed": false
   },
   "outputs": [],
   "execution_count": null
  },
  {
   "cell_type": "code",
   "source": [
    "fig, ax1 = plt.subplots()\n",
    "\n",
    "ax2 = ax1.twinx()\n",
    "\n",
    "ax2.step(PDE_wvs, PDEs, label='SiPM Sensitivity')\n",
    "ax1.step(PDE_wvs, a1, label='Original Distribution', c='g')\n",
    "ax1.step(PDE_wvs, a1 * PDEs, label='Convolution', c='orange')\n",
    "\n",
    "ax1.set_title('Convolution of Distributions')\n",
    "ax1.set_xlabel('Wavelength, nm')\n",
    "ax1.set_ylabel('Hits')\n",
    "plt.ylabel('PDE, %')\n",
    "# ax1.legend()\n",
    "ax2.legend()\n",
    "plt.show()"
   ],
   "metadata": {
    "collapsed": false
   },
   "outputs": [],
   "execution_count": null
  },
  {
   "cell_type": "code",
   "source": [
    "response = a1 * PDEs"
   ],
   "metadata": {
    "collapsed": false
   },
   "outputs": [],
   "execution_count": null
  },
  {
   "cell_type": "code",
   "source": [
    "response.sum() / a1.sum()"
   ],
   "metadata": {
    "collapsed": false
   },
   "outputs": [],
   "execution_count": null
  },
  {
   "cell_type": "code",
   "source": [
    "response.sum()"
   ],
   "metadata": {
    "collapsed": false
   },
   "outputs": [],
   "execution_count": null
  },
  {
   "cell_type": "code",
   "source": [
    "plt.step(PDE_wvs, a1 * PDEs, label='conv')\n",
    "plt.title('Свёрнутый спектр')\n",
    "plt.xlabel('Wavelength, nm')\n",
    "plt.ylabel('Hits')\n",
    "plt.show()"
   ],
   "metadata": {
    "collapsed": false
   },
   "outputs": [],
   "execution_count": null
  },
  {
   "cell_type": "code",
   "source": [
    "cut_shapes = np.zeros(1000)\n",
    "for num in range(1000):\n",
    "    arr = 1239.841 / np.array(file['events;2']['FarichBarrelG4Hits.energy'].array())[num] * 1e-9\n",
    "    arr = arr[arr > 150]\n",
    "    arr_bins = np.histogram(arr, bins=a1.shape[0])\n",
    "    cut_shapes[num] = (arr_bins[0] * PDEs).sum()\n"
   ],
   "metadata": {
    "collapsed": false
   },
   "outputs": [],
   "execution_count": null
  },
  {
   "cell_type": "code",
   "source": [
    "cut_shapes = np.zeros(1000)\n",
    "for num in range(1000):\n",
    "    arr = 1239.841 / np.array(file['events;1']['FarichBarrelG4Hits.energy'].array())[num] * 1e-9 # for 500\n",
    "    arr = arr[arr > 150]\n",
    "    arr_bins = np.histogram(arr, bins=a1.shape[0])\n",
    "    cut_shapes[num] = (arr_bins[0] * PDEs).sum()\n"
   ],
   "metadata": {
    "collapsed": false
   },
   "outputs": [],
   "execution_count": null
  },
  {
   "cell_type": "code",
   "source": [
    "plt.hist(cut_shapes, bins='auto')\n",
    "plt.title(f'Energy: 500\\nMean: {round(cut_shapes.mean(), 1)}' + '\\n' + f'Std: {round(cut_shapes.std(), 1)}')\n",
    "plt.show()"
   ],
   "metadata": {
    "collapsed": false
   },
   "outputs": [],
   "execution_count": null
  },
  {
   "cell_type": "code",
   "source": [
    "arr_bins = np.histogram(arr, bins=a1.shape[0])"
   ],
   "metadata": {
    "collapsed": false
   },
   "outputs": [],
   "execution_count": null
  },
  {
   "cell_type": "code",
   "source": [
    "(arr_bins[0] * PDEs).sum() / arr_bins[0].sum()"
   ],
   "metadata": {
    "collapsed": false
   },
   "outputs": [],
   "execution_count": null
  },
  {
   "cell_type": "code",
   "source": [
    "plt.hist(arr, bins=a1.shape[0])\n",
    "plt.step(PDE_wvs, arr_bins[0])\n",
    "plt.step(PDE_wvs, arr_bins[0] * PDEs)\n",
    "plt.show()"
   ],
   "metadata": {
    "collapsed": false
   },
   "outputs": [],
   "execution_count": null
  },
  {
   "cell_type": "code",
   "source": [
    "mins = np.zeros(1000)\n",
    "for num in range(1000):\n",
    "    arr = 1239.841 / np.array(file['events;1']['FarichBarrelG4Hits.energy'].array())[num] * 1e-9 # for 500\n",
    "    try:\n",
    "        mins[num] = min(arr)\n",
    "    except ValueError:\n",
    "        pass"
   ],
   "metadata": {
    "collapsed": false
   },
   "outputs": [],
   "execution_count": null
  },
  {
   "cell_type": "code",
   "source": [
    "plt.hist(mins)\n",
    "plt.show()"
   ],
   "metadata": {
    "collapsed": false
   },
   "outputs": [],
   "execution_count": null
  },
  {
   "cell_type": "code",
   "source": [
    "energies = np.array(file['events;1']['FarichBarrelG4Hits.energy'].array())"
   ],
   "metadata": {
    "collapsed": false
   },
   "outputs": [],
   "execution_count": null
  },
  {
   "cell_type": "code",
   "source": [
    "energies = np.concatenate(energies)"
   ],
   "metadata": {
    "collapsed": false
   },
   "outputs": [],
   "execution_count": null
  },
  {
   "cell_type": "code",
   "source": [
    "energies.shape"
   ],
   "metadata": {
    "collapsed": false
   },
   "outputs": [],
   "execution_count": null
  },
  {
   "cell_type": "code",
   "source": [
    "energies = energies[energies < 1e-7]"
   ],
   "metadata": {
    "collapsed": false
   },
   "outputs": [],
   "execution_count": null
  },
  {
   "cell_type": "code",
   "source": [
    "energies.shape"
   ],
   "metadata": {
    "collapsed": false
   },
   "outputs": [],
   "execution_count": null
  },
  {
   "cell_type": "code",
   "source": [
    "energies = energies * 1e9"
   ],
   "metadata": {
    "collapsed": false
   },
   "outputs": [],
   "execution_count": null
  },
  {
   "cell_type": "code",
   "source": [
    "energies = energies[energies < 7.5]"
   ],
   "metadata": {
    "collapsed": false
   },
   "outputs": [],
   "execution_count": null
  },
  {
   "cell_type": "code",
   "source": [
    "energies.shape"
   ],
   "metadata": {
    "collapsed": false
   },
   "outputs": [],
   "execution_count": null
  },
  {
   "cell_type": "code",
   "source": [
    "plt.hist(energies[energies < 7.5], bins='auto')\n",
    "plt.show()"
   ],
   "metadata": {
    "collapsed": false
   },
   "outputs": [],
   "execution_count": null
  },
  {
   "cell_type": "code",
   "source": [
    "plt.hist(1239.8 / energies,bins='auto')\n",
    "plt.show()"
   ],
   "metadata": {
    "collapsed": false
   },
   "outputs": [],
   "execution_count": null
  },
  {
   "cell_type": "code",
   "source": [
    "wavelengths_prototype = np.concatenate(file_prototype['raw_data;2']['event']['m_hits']['m_hits.m_photon_wl'].array())"
   ],
   "metadata": {
    "collapsed": false
   },
   "outputs": [],
   "execution_count": null
  },
  {
   "cell_type": "code",
   "source": [
    "wavelengths_prototype_1500 = file_prototype['raw_data;2']['event']['m_hits']['m_hits.m_photon_wl'].array()\n"
   ],
   "metadata": {
    "collapsed": false
   },
   "outputs": [],
   "execution_count": null
  },
  {
   "cell_type": "code",
   "source": [
    "wavelengths_prototype_1500.shape"
   ],
   "metadata": {
    "collapsed": false
   },
   "outputs": [],
   "execution_count": null
  },
  {
   "cell_type": "code",
   "source": [
    "wv_res = []\n",
    "wv_res_len = 0\n",
    "wv_res_sizes = []"
   ],
   "metadata": {
    "collapsed": false
   },
   "outputs": [],
   "execution_count": null
  },
  {
   "cell_type": "code",
   "source": [
    "for i in range(wavelengths_prototype_1500.shape[0]):\n",
    "    if betas_prototype[i] >= 0.99569:\n",
    "        wv_res.extend(wavelengths_prototype_1500[i])\n",
    "        wv_res_len += 1\n",
    "        wv_res_sizes.append(wavelengths_prototype_1500[i].shape[0])"
   ],
   "metadata": {
    "collapsed": false
   },
   "outputs": [],
   "execution_count": null
  },
  {
   "cell_type": "code",
   "source": [
    "wv_res = np.array(wv_res)\n",
    "wv_res_sizes = np.array(wv_res_sizes)"
   ],
   "metadata": {
    "collapsed": false
   },
   "outputs": [],
   "execution_count": null
  },
  {
   "cell_type": "code",
   "source": [
    "print(wv_res.shape[0], wv_res_len, wv_res.shape[0]/wv_res_len)"
   ],
   "metadata": {
    "collapsed": false
   },
   "outputs": [],
   "execution_count": null
  },
  {
   "cell_type": "code",
   "source": [
    "plt.hist(wv_res, bins='doane')\n",
    "plt.show()"
   ],
   "metadata": {
    "collapsed": false
   },
   "outputs": [],
   "execution_count": null
  },
  {
   "cell_type": "code",
   "source": [
    "plt.hist(wv_res_sizes, bins='auto')\n",
    "plt.xlabel('Hits in event')\n",
    "plt.title(f'Mean: {round(wv_res_sizes.mean(), 1)}' + '\\n' + f'Std: {round(wv_res_sizes.std(), 1)}')\n",
    "plt.ylabel('Events')\n",
    "plt.show()"
   ],
   "metadata": {
    "collapsed": false
   },
   "outputs": [],
   "execution_count": null
  },
  {
   "cell_type": "code",
   "source": [
    "mask = betas_prototype >= 0.99569"
   ],
   "metadata": {
    "collapsed": false
   },
   "outputs": [],
   "execution_count": null
  },
  {
   "cell_type": "code",
   "source": [
    "mask.sum()"
   ],
   "metadata": {
    "collapsed": false
   },
   "outputs": [],
   "execution_count": null
  },
  {
   "cell_type": "code",
   "source": [
    "wv_res.shape[0] / mask.sum()"
   ],
   "metadata": {
    "collapsed": false
   },
   "outputs": [],
   "execution_count": null
  },
  {
   "cell_type": "code",
   "source": [
    "betas_prototype = file_prototype['raw_data;2']['event']['m_beta_primary'].array()"
   ],
   "metadata": {
    "collapsed": false
   },
   "outputs": [],
   "execution_count": null
  },
  {
   "cell_type": "code",
   "source": [
    "wavelengths_prototype_1500 = wavelengths_prototype_1500[mask]\n"
   ],
   "metadata": {
    "collapsed": false
   },
   "outputs": [],
   "execution_count": null
  },
  {
   "cell_type": "code",
   "source": [
    "betas_prototype[0]"
   ],
   "metadata": {
    "collapsed": false
   },
   "outputs": [],
   "execution_count": null
  },
  {
   "cell_type": "code",
   "source": [
    "betas_prototype.shape"
   ],
   "metadata": {
    "collapsed": false
   },
   "outputs": [],
   "execution_count": null
  },
  {
   "cell_type": "code",
   "source": [
    "wavelengths_prototype.shape"
   ],
   "metadata": {
    "collapsed": false
   },
   "outputs": [],
   "execution_count": null
  },
  {
   "cell_type": "code",
   "source": [
    "plt.figure(figsize=(12, 4))\n",
    "plt.subplot(121)\n",
    "plt.hist(1239.8/wavelengths_prototype, bins='auto', density=False)\n",
    "plt.subplot(122)\n",
    "plt.hist(wavelengths_prototype, bins='auto', density=False)\n",
    "plt.show()"
   ],
   "metadata": {
    "collapsed": false
   },
   "outputs": [],
   "execution_count": null
  },
  {
   "cell_type": "code",
   "source": [
    "plt.figure(figsize=(12, 4))\n",
    "plt.subplot(121)\n",
    "plt.hist(1239.8/wv_res, bins='auto', density=False)\n",
    "plt.subplot(122)\n",
    "plt.hist(wv_res, bins='auto', density=False)\n",
    "plt.show()"
   ],
   "metadata": {
    "collapsed": false
   },
   "outputs": [],
   "execution_count": null
  },
  {
   "cell_type": "code",
   "source": [
    "xml_energies, xml_r = [], []\n",
    "xml_data = []\n",
    "with open(os.path.join(datadir, 'rindex.txt')) as f:\n",
    "    for line in f:\n",
    "        xml_data.append(np.array(line.split('*eV '), dtype='float64'))\n",
    "        # print(np.array(line.split('*eV '), dtype='float64'))\n",
    "        # break\n",
    "xml_data = np.array(xml_data)"
   ],
   "metadata": {
    "collapsed": false
   },
   "outputs": [],
   "execution_count": null
  },
  {
   "cell_type": "code",
   "source": [
    "xml_data.shape"
   ],
   "metadata": {
    "collapsed": false
   },
   "outputs": [],
   "execution_count": null
  },
  {
   "cell_type": "code",
   "source": [
    "# plt.subplots(1, 2)\n",
    "plt.figure(figsize=(12, 4))\n",
    "\n",
    "plt.subplot(121)\n",
    "plt.plot(xml_data[:,0], xml_data[:,1])\n",
    "plt.xlabel('Energy, eV')\n",
    "plt.ylabel('Refractive index n')\n",
    "plt.subplot(122)\n",
    "plt.plot(1239.8 / xml_data[:,0], xml_data[:,1])\n",
    "plt.xlabel('Wavelength, nm')\n",
    "plt.ylabel('Refractive index n')\n",
    "plt.show()"
   ],
   "metadata": {
    "collapsed": false
   },
   "outputs": [],
   "execution_count": null
  },
  {
   "cell_type": "code",
   "source": [
    "binned_wavelengths_prototype = np.histogram(wavelengths_prototype, 1239.8 / xml_data[:,0])\n",
    "binned_wavelengths_full = np.histogram(lambdas, 1239.8 / xml_data[:,0])\n",
    "\n",
    "binned_energies_prototype = np.histogram(1239.841 / wavelengths_prototype, xml_data[:,0][::-1])"
   ],
   "metadata": {
    "collapsed": false
   },
   "outputs": [],
   "execution_count": null
  },
  {
   "cell_type": "code",
   "source": [
    "plt.figure(figsize=(12, 4))\n",
    "plt.subplot(121)\n",
    "plt.hist(1239.8/wavelengths_prototype, bins= new_bins, density=False)\n",
    "plt.subplot(122)\n",
    "plt.hist(wavelengths_prototype, bins= new_wv_bins, density=False)\n",
    "plt.show()"
   ],
   "metadata": {
    "collapsed": false
   },
   "outputs": [],
   "execution_count": null
  },
  {
   "cell_type": "code",
   "source": [
    "plt.figure(figsize=(12, 4))\n",
    "\n",
    "plt.subplot(121)\n",
    "plt.hist(wavelengths_prototype, bins=1239.8 / xml_data[:,0], density=False)\n",
    "plt.step(binned_wavelengths_prototype[1][1:], binned_wavelengths_prototype[0])\n",
    "\n",
    "plt.subplot(122)\n",
    "plt.hist(lambdas, bins=1239.8 / xml_data[:,0], density=False)\n",
    "plt.step(binned_wavelengths_full[1][1:], binned_wavelengths_full[0])\n",
    "plt.show()"
   ],
   "metadata": {
    "collapsed": false
   },
   "outputs": [],
   "execution_count": null
  },
  {
   "cell_type": "code",
   "source": [
    "xml_data[:,1]"
   ],
   "metadata": {
    "collapsed": false
   },
   "outputs": [],
   "execution_count": null
  },
  {
   "cell_type": "code",
   "source": [
    "plt.figure(figsize=(12, 4))\n",
    "\n",
    "plt.subplot(121)\n",
    "plt.hist(lambdas, bins=1239.8 / xml_data[:,0], density=True, alpha=1)\n",
    "\n",
    "# plt.hist(wavelengths_prototype, bins=1239.8 / xml_data[:,0], density=True, alpha=0.5)\n",
    "plt.xlabel('Wavelength, nm')\n",
    "plt.ylabel('Hits')\n",
    "\n",
    "plt.subplot(122)\n",
    "plt.hist(wavelengths_prototype, bins=1239.8 / xml_data[:,0], density=True)\n",
    "plt.step(binned_wavelengths_prototype[1][1:], binned_wavelengths_prototype[0] / binned_wavelengths_prototype[0].sum() / 10)\n",
    "plt.xlabel('Wavelength, nm')\n",
    "plt.ylabel('Hits')\n",
    "\n",
    "plt.show()"
   ],
   "metadata": {
    "collapsed": false
   },
   "outputs": [],
   "execution_count": null
  },
  {
   "cell_type": "code",
   "source": [
    "(binned_wavelengths_prototype[0] / binned_wavelengths_prototype[0].sum() / 10).sum()"
   ],
   "metadata": {
    "collapsed": false
   },
   "outputs": [],
   "execution_count": null
  },
  {
   "cell_type": "code",
   "source": [
    "(binned_wavelengths_full[0] / binned_wavelengths_full[0].sum()).sum()"
   ],
   "metadata": {
    "collapsed": false
   },
   "outputs": [],
   "execution_count": null
  },
  {
   "cell_type": "code",
   "source": [
    "reg = LinearRegression().fit((binned_wavelengths_full[0] / binned_wavelengths_full[0].sum()).reshape(-1, 1), xml_data[:,1][1:])"
   ],
   "metadata": {
    "collapsed": false
   },
   "outputs": [],
   "execution_count": null
  },
  {
   "cell_type": "code",
   "source": [
    "print(reg.coef_, reg.intercept_)"
   ],
   "metadata": {
    "collapsed": false
   },
   "outputs": [],
   "execution_count": null
  },
  {
   "cell_type": "code",
   "source": [
    "\n",
    "plt.figure(figsize=(12, 4))\n",
    "\n",
    "plt.subplot(121)\n",
    "plt.plot(xml_data[:,0], xml_data[:,1])\n",
    "plt.plot(xml_data[:,0][1:], (binned_wavelengths_prototype[0] / binned_wavelengths_prototype[0].sum())*reg.coef_+ reg.intercept_ )\n",
    "plt.xlabel('Energy, eV')\n",
    "plt.ylabel('Refractive index n')\n",
    "plt.subplot(122)\n",
    "plt.plot(1239.8 / xml_data[:,0], xml_data[:,1])\n",
    "plt.plot(binned_wavelengths_prototype[1][1:], (binned_wavelengths_prototype[0] / binned_wavelengths_prototype[0].sum())*reg.coef_+ reg.intercept_ )\n",
    "plt.xlabel('Wavelength, nm')\n",
    "plt.ylabel('Refractive index n')\n",
    "plt.show()"
   ],
   "metadata": {
    "collapsed": false
   },
   "outputs": [],
   "execution_count": null
  },
  {
   "cell_type": "code",
   "source": [
    "out = (binned_wavelengths_prototype[0] / binned_wavelengths_prototype[0].sum())*reg.coef_+ reg.intercept_"
   ],
   "metadata": {
    "collapsed": false
   },
   "outputs": [],
   "execution_count": null
  },
  {
   "cell_type": "code",
   "source": [
    "out"
   ],
   "metadata": {
    "collapsed": false
   },
   "outputs": [],
   "execution_count": null
  },
  {
   "cell_type": "code",
   "source": [
    "with open(os.path.join(datadir, 'rindex_out.txt'), 'w') as f:\n",
    "    f.write('6.19921*eV 1.04929\\n')\n",
    "    for en, n in zip(xml_data[:,0][1:], out):\n",
    "        f.write('    {:.5f}*eV {:.5f}\\n'.format(round(en, 5), round(n, 5)))\n"
   ],
   "metadata": {
    "collapsed": false
   },
   "outputs": [],
   "execution_count": null
  },
  {
   "cell_type": "code",
   "source": [
    "new_bins = np.linspace(1.37760, 5.90401, 101)\n",
    "new_wv_bins = np.linspace(200, 900, 101)"
   ],
   "metadata": {
    "collapsed": false
   },
   "outputs": [],
   "execution_count": null
  },
  {
   "cell_type": "code",
   "source": [
    "wavelengths_prototype.shape[0] / betas_prototype.shape[0]"
   ],
   "metadata": {
    "collapsed": false
   },
   "outputs": [],
   "execution_count": null
  },
  {
   "cell_type": "code",
   "source": [
    "wv_res.shape[0] / mask.sum()"
   ],
   "metadata": {
    "collapsed": false
   },
   "outputs": [],
   "execution_count": null
  },
  {
   "cell_type": "code",
   "source": [
    "test_num = 35\n",
    "filepath_new = os.path.join(datadir, f'fullsim_optical_1000_pi_1500_spectre_test_{test_num}.root')\n",
    "file_new = uproot.open(filepath_new)\n",
    "energies_new = np.array(file_new['events;1']['FarichBarrelG4Hits.energy'].array()) * 1e9\n",
    "energies_new = np.concatenate(energies_new)\n",
    "energies_new = energies_new[energies_new < 7.5]\n",
    "lambdas_new = 1239.841 / energies_new\n",
    "# lambdas_new = np.concatenate(lambdas_new)\n",
    "# lambdas_new = lambdas_new[lambdas_new > 150]\n",
    "print(lambdas_new.shape)\n",
    "print(lambdas_new.shape[0] / np.array(file_new['events;1']['allGenParticles.core.pdgId'].array()).shape[0])"
   ],
   "metadata": {
    "collapsed": false
   },
   "outputs": [],
   "execution_count": null
  },
  {
   "cell_type": "code",
   "source": [
    "plt.figure(figsize=(12, 4))\n",
    "plt.subplot(121)\n",
    "plt.hist(energies_new, bins=new_bins)\n",
    "plt.xlabel('Energy, eV')\n",
    "plt.ylabel('Hits')\n",
    "plt.subplot(122)\n",
    "plt.hist(lambdas_new, bins=new_wv_bins)\n",
    "plt.xlabel('Wavelength, nm')\n",
    "plt.ylabel('Hits')\n",
    "plt.show()"
   ],
   "metadata": {
    "collapsed": false
   },
   "outputs": [],
   "execution_count": null
  },
  {
   "cell_type": "code",
   "source": [
    "plot_cyl(file)"
   ],
   "metadata": {
    "collapsed": false
   },
   "outputs": [],
   "execution_count": null
  },
  {
   "cell_type": "code",
   "source": [],
   "metadata": {
    "collapsed": false
   },
   "outputs": [],
   "execution_count": null
  }
 ],
 "metadata": {
  "kernelspec": {
   "display_name": "Python 3",
   "language": "python",
   "name": "python3"
  },
  "language_info": {
   "codemirror_mode": {
    "name": "ipython",
    "version": 2
   },
   "file_extension": ".py",
   "mimetype": "text/x-python",
   "name": "python",
   "nbconvert_exporter": "python",
   "pygments_lexer": "ipython2",
   "version": "2.7.6"
  }
 },
 "nbformat": 4,
 "nbformat_minor": 0
}
