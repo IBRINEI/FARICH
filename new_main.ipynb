{
 "cells": [
  {
   "cell_type": "code",
   "metadata": {
    "collapsed": true,
    "ExecuteTime": {
     "end_time": "2024-10-18T11:39:12.296168Z",
     "start_time": "2024-10-18T11:39:10.645005Z"
    }
   },
   "source": [
    "import os, sys, time\n",
    "import uproot3 as uproot\n",
    "import numpy as np\n",
    "import pandas as pd\n",
    "import matplotlib.pyplot as plt\n",
    "from numbers import Integral\n",
    "from scipy.optimize import curve_fit\n",
    "from sklearn.linear_model import LinearRegression\n",
    "from scipy.stats import norm, truncnorm, foldnorm\n",
    "import warnings\n",
    "from time import perf_counter\n",
    "from scipy.spatial.distance import cdist\n",
    "from sklearn.decomposition import PCA\n",
    "\n",
    "\n",
    "from farich_functions import *"
   ],
   "outputs": [],
   "execution_count": 1
  },
  {
   "cell_type": "code",
   "source": [
    "# %load_ext autoreload\n",
    "# %autoreload 2"
   ],
   "metadata": {
    "collapsed": false,
    "ExecuteTime": {
     "end_time": "2024-10-18T11:39:12.298699Z",
     "start_time": "2024-10-18T11:39:12.296168Z"
    }
   },
   "outputs": [],
   "execution_count": 2
  },
  {
   "cell_type": "code",
   "source": "datadir = 'data'",
   "metadata": {
    "collapsed": false,
    "ExecuteTime": {
     "end_time": "2024-10-18T11:39:12.334751Z",
     "start_time": "2024-10-18T11:39:12.298699Z"
    }
   },
   "outputs": [],
   "execution_count": 3
  },
  {
   "cell_type": "code",
   "source": [
    "# filepath = os.path.join(datadir, 'fullsim_optical_1000_pi_1500_no.root')\n",
    "# filepath_fixed = os.path.join(datadir, 'fullsim_optical_1000_pi_1500_fixed.root')\n",
    "# filepath_fixed = os.path.join(datadir, 'fullsim_optical_10000_pi_500_1500_FARICH_35mm_no.root')\n",
    "filepath_fixed = os.path.join(datadir, 'fullsim_optical_10000_pi_500_1500_FARICH_35mm_no_no_trackers.root')\n",
    "filepath_low_energies = os.path.join(datadir, 'fullsim_optical_10000_pi_500_800_FARICH_35mm_no_no_trackers.root')\n",
    "# filepath_monodir = os.path.join(datadir, 'fullsim_optical_1000_pi_1500_monodir_no.root')\n",
    "filepath_monodir = os.path.join(datadir, 'fullsim_optical_10000_pi_1500_monodir_FARICH_no.root')\n",
    "\n",
    "# filepath_2pi = os.path.join(datadir, 'fullsim_optical_1000_pi_1500_2pi_phi.root')\n",
    "# filepath_prototype = os.path.join(datadir, 'farichsim_10kevt.root')\n",
    "# filepath_new = os.path.join(datadir, 'fullsim_optical_1000_pi_1500_spectre_test_3.root')"
   ],
   "metadata": {
    "collapsed": false,
    "ExecuteTime": {
     "end_time": "2024-10-18T11:39:12.345603Z",
     "start_time": "2024-10-18T11:39:12.335929Z"
    }
   },
   "outputs": [],
   "execution_count": 4
  },
  {
   "cell_type": "code",
   "source": [
    "# file = uproot.open(filepath)\n",
    "file = uproot.open(filepath_fixed)\n",
    "file_low= uproot.open(filepath_low_energies)\n",
    "# file = uproot.open(filepath_monodir)\n",
    "# file_2pi = uproot.open(filepath_2pi)\n",
    "# file_prototype = uproot.open(filepath_prototype)\n",
    "# file_new = uproot.open(filepath_new)"
   ],
   "metadata": {
    "collapsed": false,
    "ExecuteTime": {
     "end_time": "2024-10-18T11:39:12.389835Z",
     "start_time": "2024-10-18T11:39:12.345603Z"
    }
   },
   "outputs": [],
   "execution_count": 5
  },
  {
   "cell_type": "code",
   "source": [
    "plt.style.use('default')"
   ],
   "metadata": {
    "collapsed": false,
    "ExecuteTime": {
     "end_time": "2024-10-18T11:39:12.392623Z",
     "start_time": "2024-10-18T11:39:12.389835Z"
    }
   },
   "outputs": [],
   "execution_count": 6
  },
  {
   "metadata": {
    "ExecuteTime": {
     "end_time": "2024-10-18T11:39:12.394426Z",
     "start_time": "2024-10-18T11:39:12.392623Z"
    }
   },
   "cell_type": "code",
   "source": "",
   "outputs": [],
   "execution_count": 6
  },
  {
   "metadata": {
    "ExecuteTime": {
     "end_time": "2024-10-18T11:39:12.403618Z",
     "start_time": "2024-10-18T11:39:12.394426Z"
    }
   },
   "cell_type": "code",
   "source": "# plot_cyl(file, transposed=True)",
   "outputs": [],
   "execution_count": 7
  },
  {
   "cell_type": "code",
   "source": "# np.concatenate(np.array(file['events;1']['FarichBarrelG4Hits.postStepPosition.x'].array())).shape",
   "metadata": {
    "collapsed": false,
    "ExecuteTime": {
     "end_time": "2024-10-18T11:39:12.414683Z",
     "start_time": "2024-10-18T11:39:12.403618Z"
    }
   },
   "outputs": [],
   "execution_count": 8
  },
  {
   "cell_type": "markdown",
   "source": [
    "# Main (tmp obv)"
   ],
   "metadata": {
    "collapsed": false
   }
  },
  {
   "metadata": {
    "ExecuteTime": {
     "end_time": "2024-10-18T11:39:12.425626Z",
     "start_time": "2024-10-18T11:39:12.416137Z"
    }
   },
   "cell_type": "code",
   "source": [
    "def init_sipm_eff():\n",
    "    pdes_tmp = pd.read_csv('PDE.csv', sep=';', names=['A'])\n",
    "    t1 = []\n",
    "    t2 = []\n",
    "    for inedx, row in pdes_tmp.iterrows():\n",
    "        t1.append(float(row['A'].split(';')[0].replace(',', '.')))\n",
    "        t2.append(float(row['A'].split(';')[1].replace(',', '.')))\n",
    "    PDE_wvs = np.linspace(200, 900, 128)\n",
    "    PDEs = np.interp(PDE_wvs, t1, t2, left=0, right=0)\n",
    "    sipm_eff = fix_PDE_plot(PDEs, PDE_wvs)\n",
    "    return sipm_eff, PDE_wvs"
   ],
   "outputs": [],
   "execution_count": 9
  },
  {
   "cell_type": "code",
   "source": "sipm_eff, PDE_wvs = init_sipm_eff()",
   "metadata": {
    "collapsed": false,
    "ExecuteTime": {
     "end_time": "2024-10-18T11:39:12.447353Z",
     "start_time": "2024-10-18T11:39:12.425626Z"
    }
   },
   "outputs": [],
   "execution_count": 10
  },
  {
   "metadata": {
    "ExecuteTime": {
     "end_time": "2024-10-18T11:39:12.451217Z",
     "start_time": "2024-10-18T11:39:12.447353Z"
    }
   },
   "cell_type": "code",
   "source": "max(sipm_eff.values())",
   "outputs": [
    {
     "data": {
      "text/plain": [
       "0.55414"
      ]
     },
     "execution_count": 11,
     "metadata": {},
     "output_type": "execute_result"
    }
   ],
   "execution_count": 11
  },
  {
   "metadata": {},
   "cell_type": "markdown",
   "source": "максисмальное значение в старом моделировании - 38%"
  },
  {
   "metadata": {
    "ExecuteTime": {
     "end_time": "2024-10-18T11:39:12.463628Z",
     "start_time": "2024-10-18T11:39:12.451217Z"
    }
   },
   "cell_type": "code",
   "source": [
    "for key in sipm_eff.keys():\n",
    "    sipm_eff[key] = sipm_eff[key] / 0.55414 * 0.38"
   ],
   "outputs": [],
   "execution_count": 12
  },
  {
   "metadata": {
    "ExecuteTime": {
     "end_time": "2024-10-18T11:39:12.474926Z",
     "start_time": "2024-10-18T11:39:12.463628Z"
    }
   },
   "cell_type": "code",
   "source": "max(sipm_eff.values())",
   "outputs": [
    {
     "data": {
      "text/plain": [
       "0.38"
      ]
     },
     "execution_count": 13,
     "metadata": {},
     "output_type": "execute_result"
    }
   ],
   "execution_count": 13
  },
  {
   "cell_type": "code",
   "source": [
    "x_grid = np.arange(-3*norm_r * np.sin(np.pi / 27), 3*norm_r * np.sin(np.pi / 27), SIPM_CELL_SIZE)\n",
    "z_grid = np.arange(-1400, 1400, SIPM_CELL_SIZE)\n",
    "grid = (x_grid, z_grid, PDE_wvs)"
   ],
   "metadata": {
    "collapsed": false,
    "ExecuteTime": {
     "end_time": "2024-10-18T11:39:12.485766Z",
     "start_time": "2024-10-18T11:39:12.474926Z"
    }
   },
   "outputs": [],
   "execution_count": 14
  },
  {
   "metadata": {
    "ExecuteTime": {
     "end_time": "2024-10-18T11:39:12.487672Z",
     "start_time": "2024-10-18T11:39:12.485766Z"
    }
   },
   "cell_type": "code",
   "source": "",
   "outputs": [],
   "execution_count": 14
  },
  {
   "metadata": {
    "ExecuteTime": {
     "end_time": "2024-10-18T11:39:12.497076Z",
     "start_time": "2024-10-18T11:39:12.487672Z"
    }
   },
   "cell_type": "code",
   "source": [
    "def init_coords(file, MAXIMUM_EVENT_GROUP_NUMBER):\n",
    "    x = np.array(file[f'events;{MAXIMUM_EVENT_GROUP_NUMBER}']['FarichBarrelG4Hits.postStepPosition.x'].array())\n",
    "    y = np.array(file[f'events;{MAXIMUM_EVENT_GROUP_NUMBER}']['FarichBarrelG4Hits.postStepPosition.y'].array())\n",
    "    z = np.array(file[f'events;{MAXIMUM_EVENT_GROUP_NUMBER}']['FarichBarrelG4Hits.postStepPosition.z'].array())\n",
    "    wvs = 1239.841 / np.array(file[f'events;{MAXIMUM_EVENT_GROUP_NUMBER}']['FarichBarrelG4Hits.energy'].array()) * 1e-9\n",
    "    x3 = np.array(file[f'events;{MAXIMUM_EVENT_GROUP_NUMBER}']['allGenParticles.core.p4.px'].array())\n",
    "    y3 = np.array(file[f'events;{MAXIMUM_EVENT_GROUP_NUMBER}']['allGenParticles.core.p4.py'].array())\n",
    "    z3 = np.array(file[f'events;{MAXIMUM_EVENT_GROUP_NUMBER}']['allGenParticles.core.p4.pz'].array())\n",
    "    true_direction_coordinates = np.column_stack((x3, y3, z3))\n",
    "    for i in range(len(wvs)):\n",
    "        wvs[i] = lin_move_to_grid(wvs[i], grid[2])\n",
    "    coordinates = np.column_stack((x, y, z, wvs))\n",
    "    return coordinates, true_direction_coordinates"
   ],
   "outputs": [],
   "execution_count": 15
  },
  {
   "metadata": {
    "ExecuteTime": {
     "end_time": "2024-10-18T11:39:12.508349Z",
     "start_time": "2024-10-18T11:39:12.497076Z"
    }
   },
   "cell_type": "code",
   "source": [
    "MAXIMUM_EVENT_GROUP_NUMBER = 9 # 13\n",
    "MAXIMUM_EVENT_GROUP_NUMBER_LOW = 6"
   ],
   "outputs": [],
   "execution_count": 16
  },
  {
   "metadata": {
    "ExecuteTime": {
     "end_time": "2024-10-18T11:39:14.691105Z",
     "start_time": "2024-10-18T11:39:12.508349Z"
    }
   },
   "cell_type": "code",
   "source": "coordinates, true_direction_coordinates = init_coords(file, MAXIMUM_EVENT_GROUP_NUMBER)",
   "outputs": [],
   "execution_count": 17
  },
  {
   "metadata": {
    "ExecuteTime": {
     "end_time": "2024-10-18T11:39:16.221882Z",
     "start_time": "2024-10-18T11:39:14.692111Z"
    }
   },
   "cell_type": "code",
   "source": "coordinates_low, true_direction_coordinates_low = init_coords(file_low, MAXIMUM_EVENT_GROUP_NUMBER_LOW)",
   "outputs": [],
   "execution_count": 18
  },
  {
   "metadata": {
    "ExecuteTime": {
     "end_time": "2024-10-18T11:39:16.224998Z",
     "start_time": "2024-10-18T11:39:16.221882Z"
    }
   },
   "cell_type": "code",
   "source": [
    "coordinates = np.concatenate((coordinates, coordinates_low), axis=0)\n",
    "true_direction_coordinates = np.concatenate((true_direction_coordinates, true_direction_coordinates_low), axis=0)"
   ],
   "outputs": [],
   "execution_count": 19
  },
  {
   "cell_type": "code",
   "source": [
    "# x = np.array(file[f'events;{MAXIMUM_EVENT_GROUP_NUMBER}']['FarichBarrelG4Hits.postStepPosition.x'].array())\n",
    "# y = np.array(file[f'events;{MAXIMUM_EVENT_GROUP_NUMBER}']['FarichBarrelG4Hits.postStepPosition.y'].array())\n",
    "# z = np.array(file[f'events;{MAXIMUM_EVENT_GROUP_NUMBER}']['FarichBarrelG4Hits.postStepPosition.z'].array())\n",
    "# wvs = 1239.841 / np.array(file[f'events;{MAXIMUM_EVENT_GROUP_NUMBER}']['FarichBarrelG4Hits.energy'].array()) * 1e-9"
   ],
   "metadata": {
    "collapsed": false,
    "ExecuteTime": {
     "end_time": "2024-10-18T11:39:16.239087Z",
     "start_time": "2024-10-18T11:39:16.224998Z"
    }
   },
   "outputs": [],
   "execution_count": 20
  },
  {
   "cell_type": "code",
   "source": [
    "# x1 = np.array(file['events;2']['DriftChamberG4Hits.postStepPosition.x'].array())\n",
    "# y1 = np.array(file['events;2']['DriftChamberG4Hits.postStepPosition.y'].array())\n",
    "# z1 = np.array(file['events;2']['DriftChamberG4Hits.postStepPosition.z'].array())\n",
    "# drift_chamber_coordinates = np.column_stack((x1, y1, z1))"
   ],
   "metadata": {
    "collapsed": false,
    "ExecuteTime": {
     "end_time": "2024-10-18T11:39:16.250250Z",
     "start_time": "2024-10-18T11:39:16.239087Z"
    }
   },
   "outputs": [],
   "execution_count": 21
  },
  {
   "metadata": {
    "ExecuteTime": {
     "end_time": "2024-10-18T11:39:16.262494Z",
     "start_time": "2024-10-18T11:39:16.250250Z"
    }
   },
   "cell_type": "code",
   "source": [
    "# x2 = np.array(file['events;2']['TPCG4Hits.postStepPosition.x'].array())\n",
    "# y2 = np.array(file['events;2']['TPCG4Hits.postStepPosition.y'].array())\n",
    "# z2 = np.array(file['events;2']['TPCG4Hits.postStepPosition.z'].array())\n",
    "# tpc_coordinates = np.column_stack((x2, y2, z2))"
   ],
   "outputs": [],
   "execution_count": 22
  },
  {
   "metadata": {
    "ExecuteTime": {
     "end_time": "2024-10-18T11:39:16.273470Z",
     "start_time": "2024-10-18T11:39:16.262494Z"
    }
   },
   "cell_type": "code",
   "source": [
    "# x3 = np.array(file[f'events;{MAXIMUM_EVENT_GROUP_NUMBER}']['allGenParticles.core.p4.px'].array())\n",
    "# y3 = np.array(file[f'events;{MAXIMUM_EVENT_GROUP_NUMBER}']['allGenParticles.core.p4.py'].array())\n",
    "# z3 = np.array(file[f'events;{MAXIMUM_EVENT_GROUP_NUMBER}']['allGenParticles.core.p4.pz'].array())\n",
    "# true_direction_coordinates = np.column_stack((x3, y3, z3))"
   ],
   "outputs": [],
   "execution_count": 23
  },
  {
   "cell_type": "code",
   "source": [
    "# for i in range(len(wvs)):\n",
    "#     wvs[i] = lin_move_to_grid(wvs[i], grid[2])"
   ],
   "metadata": {
    "collapsed": false,
    "ExecuteTime": {
     "end_time": "2024-10-18T11:39:16.284789Z",
     "start_time": "2024-10-18T11:39:16.273977Z"
    }
   },
   "outputs": [],
   "execution_count": 24
  },
  {
   "metadata": {
    "ExecuteTime": {
     "end_time": "2024-10-18T11:39:16.287498Z",
     "start_time": "2024-10-18T11:39:16.284789Z"
    }
   },
   "cell_type": "code",
   "source": "",
   "outputs": [],
   "execution_count": 24
  },
  {
   "cell_type": "code",
   "source": [
    "# coordinates = np.column_stack((x, y, z, wvs))\n",
    "\n",
    "coordinates.shape"
   ],
   "metadata": {
    "collapsed": false,
    "ExecuteTime": {
     "end_time": "2024-10-18T11:39:16.298141Z",
     "start_time": "2024-10-18T11:39:16.289804Z"
    }
   },
   "outputs": [
    {
     "data": {
      "text/plain": [
       "(19996, 4)"
      ]
     },
     "execution_count": 25,
     "metadata": {},
     "output_type": "execute_result"
    }
   ],
   "execution_count": 25
  },
  {
   "metadata": {
    "ExecuteTime": {
     "end_time": "2024-10-18T11:39:16.300040Z",
     "start_time": "2024-10-18T11:39:16.298141Z"
    }
   },
   "cell_type": "code",
   "source": "",
   "outputs": [],
   "execution_count": 25
  },
  {
   "cell_type": "code",
   "source": [
    "idx_to_drop = []\n",
    "for i in range(coordinates.shape[0]):\n",
    "    if coordinates[i][0].shape[0] == 0:\n",
    "        idx_to_drop.append(i)"
   ],
   "metadata": {
    "collapsed": false,
    "ExecuteTime": {
     "end_time": "2024-10-18T11:39:16.311785Z",
     "start_time": "2024-10-18T11:39:16.300040Z"
    }
   },
   "outputs": [],
   "execution_count": 26
  },
  {
   "cell_type": "code",
   "source": [
    "coordinates = np.delete(coordinates, idx_to_drop, axis=0)\n",
    "# drift_chamber_coordinates = np.delete(drift_chamber_coordinates, idx_to_drop, axis=0)\n",
    "# tpc_coordinates = np.delete(tpc_coordinates, idx_to_drop, axis=0)\n",
    "true_direction_coordinates = np.delete(true_direction_coordinates, idx_to_drop, axis=0)\n",
    "print(coordinates.shape)\n",
    "# print(drift_chamber_coordinates.shape)\n",
    "# print(tpc_coordinates.shape)\n",
    "print(true_direction_coordinates.shape)"
   ],
   "metadata": {
    "collapsed": false,
    "ExecuteTime": {
     "end_time": "2024-10-18T11:39:16.323992Z",
     "start_time": "2024-10-18T11:39:16.311785Z"
    }
   },
   "outputs": [
    {
     "name": "stdout",
     "output_type": "stream",
     "text": [
      "(19987, 4)\n",
      "(19987, 3)\n"
     ]
    }
   ],
   "execution_count": 27
  },
  {
   "metadata": {
    "ExecuteTime": {
     "end_time": "2024-10-18T11:39:16.334001Z",
     "start_time": "2024-10-18T11:39:16.323992Z"
    }
   },
   "cell_type": "code",
   "source": [
    "# ev = 123\n",
    "# plot_event(coordinates[ev], None, None, np.stack([np.concatenate(true_direction_coordinates[ev]), np.concatenate(true_direction_coordinates[ev] * 3000)], axis=1))\n",
    "# То есть есть события, когда направление первичной частицы не попадает в кольцо. Почему?\n"
   ],
   "outputs": [],
   "execution_count": 28
  },
  {
   "cell_type": "code",
   "source": "sipm_sim(coordinates, sipm_eff)",
   "metadata": {
    "collapsed": false,
    "ExecuteTime": {
     "end_time": "2024-10-18T11:39:17.222569Z",
     "start_time": "2024-10-18T11:39:16.334001Z"
    }
   },
   "outputs": [],
   "execution_count": 29
  },
  {
   "cell_type": "code",
   "source": "# plot_cyl(file, coordinates, True)",
   "metadata": {
    "collapsed": false,
    "ExecuteTime": {
     "end_time": "2024-10-18T11:39:17.224745Z",
     "start_time": "2024-10-18T11:39:17.222569Z"
    }
   },
   "outputs": [],
   "execution_count": 30
  },
  {
   "cell_type": "code",
   "source": [
    "idx_to_drop = []\n",
    "for i in range(coordinates.shape[0]):\n",
    "    if coordinates[i][0].shape[0] == 0:\n",
    "        idx_to_drop.append(i)\n",
    "coordinates = np.delete(coordinates, idx_to_drop, axis=0)\n",
    "# drift_chamber_coordinates = np.delete(drift_chamber_coordinates, idx_to_drop, axis=0)\n",
    "# tpc_coordinates = np.delete(tpc_coordinates, idx_to_drop, axis=0)\n",
    "true_direction_coordinates = np.delete(true_direction_coordinates, idx_to_drop, axis=0)\n",
    "\n",
    "print(coordinates.shape)\n",
    "# print(drift_chamber_coordinates.shape)\n",
    "# print(tpc_coordinates.shape)\n",
    "print(true_direction_coordinates.shape)"
   ],
   "metadata": {
    "collapsed": false,
    "ExecuteTime": {
     "end_time": "2024-10-18T11:39:17.241800Z",
     "start_time": "2024-10-18T11:39:17.224745Z"
    }
   },
   "outputs": [
    {
     "name": "stdout",
     "output_type": "stream",
     "text": [
      "(19888, 4)\n",
      "(19888, 3)\n"
     ]
    }
   ],
   "execution_count": 31
  },
  {
   "metadata": {
    "ExecuteTime": {
     "end_time": "2024-10-18T11:39:17.743822Z",
     "start_time": "2024-10-18T11:39:17.241800Z"
    }
   },
   "cell_type": "code",
   "source": "main_angles = rotate_lines(true_direction_coordinates)",
   "outputs": [],
   "execution_count": 32
  },
  {
   "metadata": {
    "ExecuteTime": {
     "end_time": "2024-10-18T11:39:21.339706Z",
     "start_time": "2024-10-18T11:39:17.743822Z"
    }
   },
   "cell_type": "code",
   "source": "intersections = find_intersections(true_direction_coordinates)",
   "outputs": [],
   "execution_count": 33
  },
  {
   "metadata": {
    "ExecuteTime": {
     "end_time": "2024-10-18T11:39:21.417578Z",
     "start_time": "2024-10-18T11:39:21.339706Z"
    }
   },
   "cell_type": "code",
   "source": [
    "\n",
    "num = 30 # unturned events\n",
    "# plt.scatter(rotate_event(coordinates[0], main_angles[0])[:,0], rotate_event(coordinates[0], main_angles[0])[:,2])\n",
    "plt.scatter(coordinates[num][0], coordinates[num][2])\n",
    "plt.scatter(intersections[num][0], intersections[num][2])\n",
    "print(true_direction_coordinates[num])\n",
    "plt.show()"
   ],
   "outputs": [
    {
     "name": "stdout",
     "output_type": "stream",
     "text": [
      "[array([0.00329075]) array([1.06504879]) array([0.96075904])]\n"
     ]
    },
    {
     "data": {
      "text/plain": [
       "<Figure size 640x480 with 1 Axes>"
      ],
      "image/png": "[encoded data removed]"
     },
     "metadata": {},
     "output_type": "display_data"
    }
   ],
   "execution_count": 34
  },
  {
   "metadata": {
    "ExecuteTime": {
     "end_time": "2024-10-18T11:39:21.419384Z",
     "start_time": "2024-10-18T11:39:21.417578Z"
    }
   },
   "cell_type": "code",
   "source": "",
   "outputs": [],
   "execution_count": 34
  },
  {
   "metadata": {
    "ExecuteTime": {
     "end_time": "2024-10-18T11:39:21.421235Z",
     "start_time": "2024-10-18T11:39:21.419384Z"
    }
   },
   "cell_type": "code",
   "source": "# plot_event(coordinates[num], drift_chamber_coordinates[num],tpc_coordinates[num] , transposed=True)",
   "outputs": [],
   "execution_count": 35
  },
  {
   "cell_type": "code",
   "source": [
    "rotate_events(coordinates, main_angles)"
   ],
   "metadata": {
    "collapsed": false,
    "ExecuteTime": {
     "end_time": "2024-10-18T11:39:22.369984Z",
     "start_time": "2024-10-18T11:39:21.421235Z"
    }
   },
   "outputs": [],
   "execution_count": 36
  },
  {
   "cell_type": "code",
   "source": "# plot_cyl(file, coordinates)",
   "metadata": {
    "collapsed": false,
    "ExecuteTime": {
     "end_time": "2024-10-18T11:39:22.372129Z",
     "start_time": "2024-10-18T11:39:22.369984Z"
    }
   },
   "outputs": [],
   "execution_count": 37
  },
  {
   "cell_type": "code",
   "source": [
    "move_events_to_grid(coordinates, grid)"
   ],
   "metadata": {
    "collapsed": false,
    "ExecuteTime": {
     "end_time": "2024-10-18T11:39:26.319298Z",
     "start_time": "2024-10-18T11:39:22.372129Z"
    }
   },
   "outputs": [],
   "execution_count": 38
  },
  {
   "cell_type": "code",
   "source": "# plot_cyl(file, coordinates, True)",
   "metadata": {
    "collapsed": false,
    "ExecuteTime": {
     "end_time": "2024-10-18T11:39:26.321746Z",
     "start_time": "2024-10-18T11:39:26.319298Z"
    }
   },
   "outputs": [],
   "execution_count": 39
  },
  {
   "cell_type": "code",
   "source": [
    "# num = 2\n",
    "# # plt.scatter(rotate_event(coordinates[0], main_angles[0])[:,0], rotate_event(coordinates[0], main_angles[0])[:,2])\n",
    "# plt.scatter(coordinates[num][0], coordinates[num][2])\n",
    "# plt.scatter(intersections[num][0], intersections[num][2])\n",
    "# plt.show()"
   ],
   "metadata": {
    "collapsed": false,
    "ExecuteTime": {
     "end_time": "2024-10-18T11:39:26.333621Z",
     "start_time": "2024-10-18T11:39:26.321746Z"
    }
   },
   "outputs": [],
   "execution_count": 40
  },
  {
   "cell_type": "code",
   "source": [
    "r_c = (coordinates[:,0] - intersections[:,0]) ** 2 + (coordinates[:,1] - intersections[:,1]) ** 2"
   ],
   "metadata": {
    "collapsed": false,
    "ExecuteTime": {
     "end_time": "2024-10-18T11:39:26.412454Z",
     "start_time": "2024-10-18T11:39:26.333621Z"
    }
   },
   "outputs": [],
   "execution_count": 41
  },
  {
   "metadata": {
    "ExecuteTime": {
     "end_time": "2024-10-18T11:39:26.418046Z",
     "start_time": "2024-10-18T11:39:26.412971Z"
    }
   },
   "cell_type": "code",
   "source": "repeat_nums = np.array([coord[0].shape[0] for coord in coordinates])",
   "outputs": [],
   "execution_count": 42
  },
  {
   "cell_type": "code",
   "source": [
    "edf = pd.DataFrame(coordinates, columns=['x_c', 'y_c', 'z_c', 'wv_c'])\n",
    "edf['r_c'] = r_c"
   ],
   "metadata": {
    "collapsed": false,
    "ExecuteTime": {
     "end_time": "2024-10-18T11:39:26.430731Z",
     "start_time": "2024-10-18T11:39:26.418046Z"
    }
   },
   "outputs": [],
   "execution_count": 43
  },
  {
   "cell_type": "code",
   "source": [
    "unraveled_data = {col: [] for col in edf.columns}\n",
    "row_indices = []\n",
    "\n",
    "# Iterate over the DataFrame and unravel the arrays\n",
    "for i, row in edf.iterrows():\n",
    "    max_length = max(len(row[col]) for col in edf.columns)\n",
    "    for k in range(max_length):\n",
    "        row_indices.append((i, k))\n",
    "        for col in edf.columns:\n",
    "            if k < len(row[col]):\n",
    "                unraveled_data[col].append(row[col][k])\n",
    "            else:\n",
    "                unraveled_data[col].append(np.nan)  # Handle cases where arrays are of different lengths\n",
    "\n",
    "# Create a new DataFrame from the unraveled data\n",
    "unraveled_df = pd.DataFrame(unraveled_data)\n",
    "\n",
    "# Create a MultiIndex for the rows\n",
    "multi_index = pd.MultiIndex.from_tuples(row_indices, names=['entry', 'subentry'])\n",
    "unraveled_df.index = multi_index\n"
   ],
   "metadata": {
    "collapsed": false,
    "ExecuteTime": {
     "end_time": "2024-10-18T11:39:33.437676Z",
     "start_time": "2024-10-18T11:39:26.430731Z"
    }
   },
   "outputs": [],
   "execution_count": 44
  },
  {
   "cell_type": "code",
   "source": [
    "unraveled_df['r_c'] = np.sqrt(unraveled_df.r_c)"
   ],
   "metadata": {
    "collapsed": false,
    "ExecuteTime": {
     "end_time": "2024-10-18T11:39:33.442845Z",
     "start_time": "2024-10-18T11:39:33.437676Z"
    }
   },
   "outputs": [],
   "execution_count": 45
  },
  {
   "cell_type": "code",
   "source": [
    "edf = unraveled_df"
   ],
   "metadata": {
    "collapsed": false,
    "ExecuteTime": {
     "end_time": "2024-10-18T11:39:33.451091Z",
     "start_time": "2024-10-18T11:39:33.442845Z"
    }
   },
   "outputs": [],
   "execution_count": 46
  },
  {
   "metadata": {
    "ExecuteTime": {
     "end_time": "2024-10-18T11:39:33.469031Z",
     "start_time": "2024-10-18T11:39:33.451091Z"
    }
   },
   "cell_type": "code",
   "source": [
    "edf['x_i'] = np.repeat(intersections[:,0], repeat_nums, axis=0)\n",
    "edf['z_i'] = np.repeat(intersections[:,2], repeat_nums, axis=0)"
   ],
   "outputs": [],
   "execution_count": 47
  },
  {
   "metadata": {
    "ExecuteTime": {
     "end_time": "2024-10-18T11:39:33.519855Z",
     "start_time": "2024-10-18T11:39:33.469031Z"
    }
   },
   "cell_type": "code",
   "source": "x = y = z = x3 = y3 = z3 = unraveled_data = row_indices = main_angles = intersections = wvs = coordinates = file = coordinates_low = file_low = 0",
   "outputs": [],
   "execution_count": 48
  },
  {
   "metadata": {
    "ExecuteTime": {
     "end_time": "2024-10-18T11:39:33.530362Z",
     "start_time": "2024-10-18T11:39:33.519855Z"
    }
   },
   "cell_type": "code",
   "source": "# edf[edf.wv_c < 1]",
   "outputs": [],
   "execution_count": 49
  },
  {
   "metadata": {
    "ExecuteTime": {
     "end_time": "2024-10-18T11:39:33.541614Z",
     "start_time": "2024-10-18T11:39:33.530362Z"
    }
   },
   "cell_type": "code",
   "source": [
    "# min_r_c = []\n",
    "# for entry, subentry in edf[edf.wv_c < 1].r_c.groupby(level=0):\n",
    "#     # print(min(subentry))\n",
    "#     min_r_c.append(min(subentry))"
   ],
   "outputs": [],
   "execution_count": 50
  },
  {
   "metadata": {
    "ExecuteTime": {
     "end_time": "2024-10-18T11:39:33.552588Z",
     "start_time": "2024-10-18T11:39:33.541614Z"
    }
   },
   "cell_type": "code",
   "source": "# min_r_c = np.array(min_r_c)",
   "outputs": [],
   "execution_count": 51
  },
  {
   "metadata": {
    "ExecuteTime": {
     "end_time": "2024-10-18T11:39:33.566219Z",
     "start_time": "2024-10-18T11:39:33.552588Z"
    }
   },
   "cell_type": "code",
   "source": "# min_r_c.shape",
   "outputs": [],
   "execution_count": 52
  },
  {
   "metadata": {
    "ExecuteTime": {
     "end_time": "2024-10-18T11:39:33.577538Z",
     "start_time": "2024-10-18T11:39:33.566219Z"
    }
   },
   "cell_type": "code",
   "source": "/",
   "outputs": [
    {
     "data": {
      "text/plain": [
       "()"
      ]
     },
     "execution_count": 53,
     "metadata": {},
     "output_type": "execute_result"
    }
   ],
   "execution_count": 53
  },
  {
   "cell_type": "code",
   "source": [
    "plt.hist(edf[edf.r_c<1000].r_c, bins='doane')\n",
    "plt.show()"
   ],
   "metadata": {
    "collapsed": false,
    "ExecuteTime": {
     "end_time": "2024-10-18T11:39:33.669004Z",
     "start_time": "2024-10-18T11:39:33.577538Z"
    }
   },
   "outputs": [
    {
     "data": {
      "text/plain": [
       "<Figure size 640x480 with 1 Axes>"
      ],
      "image/png": "[encoded data removed]"
     },
     "metadata": {},
     "output_type": "display_data"
    }
   ],
   "execution_count": 54
  },
  {
   "metadata": {
    "ExecuteTime": {
     "end_time": "2024-10-18T11:39:34.114516Z",
     "start_time": "2024-10-18T11:39:33.669004Z"
    }
   },
   "cell_type": "code",
   "source": [
    "bdf = pd.DataFrame()\n",
    "edf['t_c'] = np.zeros(edf.shape[0])\n",
    "edf.drop('y_c', axis=1, inplace=True)\n",
    "edf.rename(columns={'z_c': 'y_c', 'z_i': 'y_i'}, inplace=True)\n",
    "edf['z_c'] = np.zeros(edf.shape[0]) + 2000\n",
    "edf['true_p'] = np.repeat(np.linalg.norm(true_direction_coordinates.astype('float'), axis=1)*1000, repeat_nums, axis=0)\n",
    "edf['beta'] = edf.true_p / np.sqrt(139.57 ** 2 + edf.true_p ** 2)\n",
    "edf['nx_p'] = np.repeat((true_direction_coordinates / np.array([np.linalg.norm(true_direction_coordinates.astype('float'), axis=1) for i in range(3)]).T).astype('float')\n",
    "[:,0], repeat_nums, axis=0)\n",
    "edf['ny_p'] = np.repeat((true_direction_coordinates / np.array([np.linalg.norm(true_direction_coordinates.astype('float'), axis=1) for i in range(3)]).T).astype('float')\n",
    "[:,2], repeat_nums, axis=0)\n",
    "edf['nz_p'] = np.repeat((true_direction_coordinates / np.array([np.linalg.norm(true_direction_coordinates.astype('float'), axis=1) for i in range(3)]).T).astype('float')\n",
    "[:,1], repeat_nums, axis=0)"
   ],
   "outputs": [
    {
     "name": "stderr",
     "output_type": "stream",
     "text": [
      "C:\\Users\\BRINE\\AppData\\Local\\Temp\\ipykernel_13968\\1986587013.py:6: DeprecationWarning: Conversion of an array with ndim > 0 to a scalar is deprecated, and will error in future. Ensure you extract a single element from your array before performing this operation. (Deprecated NumPy 1.25.)\n",
      "  edf['true_p'] = np.repeat(np.linalg.norm(true_direction_coordinates.astype('float'), axis=1)*1000, repeat_nums, axis=0)\n",
      "C:\\Users\\BRINE\\AppData\\Local\\Temp\\ipykernel_13968\\1986587013.py:8: DeprecationWarning: Conversion of an array with ndim > 0 to a scalar is deprecated, and will error in future. Ensure you extract a single element from your array before performing this operation. (Deprecated NumPy 1.25.)\n",
      "  edf['nx_p'] = np.repeat((true_direction_coordinates / np.array([np.linalg.norm(true_direction_coordinates.astype('float'), axis=1) for i in range(3)]).T).astype('float')\n",
      "C:\\Users\\BRINE\\AppData\\Local\\Temp\\ipykernel_13968\\1986587013.py:10: DeprecationWarning: Conversion of an array with ndim > 0 to a scalar is deprecated, and will error in future. Ensure you extract a single element from your array before performing this operation. (Deprecated NumPy 1.25.)\n",
      "  edf['ny_p'] = np.repeat((true_direction_coordinates / np.array([np.linalg.norm(true_direction_coordinates.astype('float'), axis=1) for i in range(3)]).T).astype('float')\n",
      "C:\\Users\\BRINE\\AppData\\Local\\Temp\\ipykernel_13968\\1986587013.py:12: DeprecationWarning: Conversion of an array with ndim > 0 to a scalar is deprecated, and will error in future. Ensure you extract a single element from your array before performing this operation. (Deprecated NumPy 1.25.)\n",
      "  edf['nz_p'] = np.repeat((true_direction_coordinates / np.array([np.linalg.norm(true_direction_coordinates.astype('float'), axis=1) for i in range(3)]).T).astype('float')\n"
     ]
    }
   ],
   "execution_count": 55
  },
  {
   "metadata": {
    "ExecuteTime": {
     "end_time": "2024-10-18T11:39:34.122075Z",
     "start_time": "2024-10-18T11:39:34.114516Z"
    }
   },
   "cell_type": "code",
   "source": "true_direction_coordinates = repeat_nums = true_direction_coordinates_low = 0",
   "outputs": [],
   "execution_count": 56
  },
  {
   "metadata": {
    "ExecuteTime": {
     "end_time": "2024-10-18T11:39:34.139489Z",
     "start_time": "2024-10-18T11:39:34.122075Z"
    }
   },
   "cell_type": "code",
   "source": "edf.shape[0]",
   "outputs": [
    {
     "data": {
      "text/plain": [
       "625657"
      ]
     },
     "execution_count": 57,
     "metadata": {},
     "output_type": "execute_result"
    }
   ],
   "execution_count": 57
  },
  {
   "metadata": {
    "ExecuteTime": {
     "end_time": "2024-10-18T11:39:34.148019Z",
     "start_time": "2024-10-18T11:39:34.139489Z"
    }
   },
   "cell_type": "code",
   "source": [
    "idf = pd.DataFrame()\n",
    "idf['W'] = [35.]\n",
    "# idf['W'] = [40.]\n",
    "\n",
    "idf['zdis'] = [800.]\n",
    "idf['distance'] = [205.] # 200\n",
    "idf['n_mean'] = [1.04511]\n",
    "# \n",
    "# idf['n_mean'] = [1.0502]\n",
    "\n",
    "idf['pixel_size'] = [3.16]"
   ],
   "outputs": [],
   "execution_count": 58
  },
  {
   "metadata": {
    "ExecuteTime": {
     "end_time": "2024-10-18T11:39:34.163203Z",
     "start_time": "2024-10-18T11:39:34.148019Z"
    }
   },
   "cell_type": "code",
   "source": "idf",
   "outputs": [
    {
     "data": {
      "text/plain": [
       "      W   zdis  distance   n_mean  pixel_size\n",
       "0  35.0  800.0     205.0  1.04511        3.16"
      ],
      "text/html": [
       "<div>\n",
       "<style scoped>\n",
       "    .dataframe tbody tr th:only-of-type {\n",
       "        vertical-align: middle;\n",
       "    }\n",
       "\n",
       "    .dataframe tbody tr th {\n",
       "        vertical-align: top;\n",
       "    }\n",
       "\n",
       "    .dataframe thead th {\n",
       "        text-align: right;\n",
       "    }\n",
       "</style>\n",
       "<table border=\"1\" class=\"dataframe\">\n",
       "  <thead>\n",
       "    <tr style=\"text-align: right;\">\n",
       "      <th></th>\n",
       "      <th>W</th>\n",
       "      <th>zdis</th>\n",
       "      <th>distance</th>\n",
       "      <th>n_mean</th>\n",
       "      <th>pixel_size</th>\n",
       "    </tr>\n",
       "  </thead>\n",
       "  <tbody>\n",
       "    <tr>\n",
       "      <th>0</th>\n",
       "      <td>35.0</td>\n",
       "      <td>800.0</td>\n",
       "      <td>205.0</td>\n",
       "      <td>1.04511</td>\n",
       "      <td>3.16</td>\n",
       "    </tr>\n",
       "  </tbody>\n",
       "</table>\n",
       "</div>"
      ]
     },
     "execution_count": 59,
     "metadata": {},
     "output_type": "execute_result"
    }
   ],
   "execution_count": 59
  },
  {
   "metadata": {
    "ExecuteTime": {
     "end_time": "2024-10-18T11:39:34.203239Z",
     "start_time": "2024-10-18T11:39:34.163203Z"
    }
   },
   "cell_type": "code",
   "source": "edf = applySpaceCut(edf)",
   "outputs": [],
   "execution_count": 60
  },
  {
   "metadata": {
    "ExecuteTime": {
     "end_time": "2024-10-18T11:39:34.258501Z",
     "start_time": "2024-10-18T11:39:34.203239Z"
    }
   },
   "cell_type": "code",
   "source": "planeRecalculation(edf, idf)",
   "outputs": [
    {
     "name": "stderr",
     "output_type": "stream",
     "text": [
      "Z:\\Prog\\FARICH\\farich_functions.py:513: FutureWarning: Calling float on a single element Series is deprecated and will raise a TypeError in the future. Use float(ser.iloc[0]) instead\n",
      "  alpha = (float(dist)) / N[:, 2]\n",
      "Z:\\Prog\\FARICH\\farich_functions.py:526: SettingWithCopyWarning: \n",
      "A value is trying to be set on a copy of a slice from a DataFrame.\n",
      "Try using .loc[row_indexer,col_indexer] = value instead\n",
      "\n",
      "See the caveats in the documentation: https://pandas.pydata.org/pandas-docs/stable/user_guide/indexing.html#returning-a-view-versus-a-copy\n",
      "  edf[\"t_c\"] = edf[\"t_c\"] + np.sign(R_new[:, 2] - R[:, 2]) * t_dif\n",
      "Z:\\Prog\\FARICH\\farich_functions.py:528: SettingWithCopyWarning: \n",
      "A value is trying to be set on a copy of a slice from a DataFrame.\n",
      "Try using .loc[row_indexer,col_indexer] = value instead\n",
      "\n",
      "See the caveats in the documentation: https://pandas.pydata.org/pandas-docs/stable/user_guide/indexing.html#returning-a-view-versus-a-copy\n",
      "  edf[\"recalculated_x\"] = R_new[:, 0]\n",
      "Z:\\Prog\\FARICH\\farich_functions.py:529: SettingWithCopyWarning: \n",
      "A value is trying to be set on a copy of a slice from a DataFrame.\n",
      "Try using .loc[row_indexer,col_indexer] = value instead\n",
      "\n",
      "See the caveats in the documentation: https://pandas.pydata.org/pandas-docs/stable/user_guide/indexing.html#returning-a-view-versus-a-copy\n",
      "  edf[\"recalculated_y\"] = R_new[:, 1]\n",
      "Z:\\Prog\\FARICH\\farich_functions.py:530: SettingWithCopyWarning: \n",
      "A value is trying to be set on a copy of a slice from a DataFrame.\n",
      "Try using .loc[row_indexer,col_indexer] = value instead\n",
      "\n",
      "See the caveats in the documentation: https://pandas.pydata.org/pandas-docs/stable/user_guide/indexing.html#returning-a-view-versus-a-copy\n",
      "  edf[\"recalculated_z\"] = R_new[:, 2]\n"
     ]
    }
   ],
   "execution_count": 61
  },
  {
   "metadata": {
    "ExecuteTime": {
     "end_time": "2024-10-18T11:39:34.265603Z",
     "start_time": "2024-10-18T11:39:34.258501Z"
    }
   },
   "cell_type": "code",
   "source": [
    "edf['x_p'] = np.zeros(edf.shape[0])\n",
    "edf['y_p'] = np.zeros(edf.shape[0])\n",
    "edf['z_p'] = np.zeros(edf.shape[0])\n"
   ],
   "outputs": [
    {
     "name": "stderr",
     "output_type": "stream",
     "text": [
      "C:\\Users\\BRINE\\AppData\\Local\\Temp\\ipykernel_13968\\210028248.py:1: SettingWithCopyWarning: \n",
      "A value is trying to be set on a copy of a slice from a DataFrame.\n",
      "Try using .loc[row_indexer,col_indexer] = value instead\n",
      "\n",
      "See the caveats in the documentation: https://pandas.pydata.org/pandas-docs/stable/user_guide/indexing.html#returning-a-view-versus-a-copy\n",
      "  edf['x_p'] = np.zeros(edf.shape[0])\n",
      "C:\\Users\\BRINE\\AppData\\Local\\Temp\\ipykernel_13968\\210028248.py:2: SettingWithCopyWarning: \n",
      "A value is trying to be set on a copy of a slice from a DataFrame.\n",
      "Try using .loc[row_indexer,col_indexer] = value instead\n",
      "\n",
      "See the caveats in the documentation: https://pandas.pydata.org/pandas-docs/stable/user_guide/indexing.html#returning-a-view-versus-a-copy\n",
      "  edf['y_p'] = np.zeros(edf.shape[0])\n",
      "C:\\Users\\BRINE\\AppData\\Local\\Temp\\ipykernel_13968\\210028248.py:3: SettingWithCopyWarning: \n",
      "A value is trying to be set on a copy of a slice from a DataFrame.\n",
      "Try using .loc[row_indexer,col_indexer] = value instead\n",
      "\n",
      "See the caveats in the documentation: https://pandas.pydata.org/pandas-docs/stable/user_guide/indexing.html#returning-a-view-versus-a-copy\n",
      "  edf['z_p'] = np.zeros(edf.shape[0])\n"
     ]
    }
   ],
   "execution_count": 62
  },
  {
   "metadata": {
    "ExecuteTime": {
     "end_time": "2024-10-18T11:39:34.441359Z",
     "start_time": "2024-10-18T11:39:34.265603Z"
    }
   },
   "cell_type": "code",
   "source": "planeRotation(edf)",
   "outputs": [
    {
     "name": "stderr",
     "output_type": "stream",
     "text": [
      "Z:\\Prog\\FARICH\\farich_functions.py:571: SettingWithCopyWarning: \n",
      "A value is trying to be set on a copy of a slice from a DataFrame.\n",
      "Try using .loc[row_indexer,col_indexer] = value instead\n",
      "\n",
      "See the caveats in the documentation: https://pandas.pydata.org/pandas-docs/stable/user_guide/indexing.html#returning-a-view-versus-a-copy\n",
      "  edf[\"rotated_x\"] = rotated_R[:, 0]\n",
      "Z:\\Prog\\FARICH\\farich_functions.py:572: SettingWithCopyWarning: \n",
      "A value is trying to be set on a copy of a slice from a DataFrame.\n",
      "Try using .loc[row_indexer,col_indexer] = value instead\n",
      "\n",
      "See the caveats in the documentation: https://pandas.pydata.org/pandas-docs/stable/user_guide/indexing.html#returning-a-view-versus-a-copy\n",
      "  edf[\"rotated_y\"] = rotated_R[:, 1]\n",
      "Z:\\Prog\\FARICH\\farich_functions.py:573: SettingWithCopyWarning: \n",
      "A value is trying to be set on a copy of a slice from a DataFrame.\n",
      "Try using .loc[row_indexer,col_indexer] = value instead\n",
      "\n",
      "See the caveats in the documentation: https://pandas.pydata.org/pandas-docs/stable/user_guide/indexing.html#returning-a-view-versus-a-copy\n",
      "  edf[\"rotated_z\"] = rotated_R[:, 2]\n",
      "Z:\\Prog\\FARICH\\farich_functions.py:574: SettingWithCopyWarning: \n",
      "A value is trying to be set on a copy of a slice from a DataFrame.\n",
      "Try using .loc[row_indexer,col_indexer] = value instead\n",
      "\n",
      "See the caveats in the documentation: https://pandas.pydata.org/pandas-docs/stable/user_guide/indexing.html#returning-a-view-versus-a-copy\n",
      "  edf[\"rotated_x_i\"] = rotated_R_i[:, 0]\n",
      "Z:\\Prog\\FARICH\\farich_functions.py:575: SettingWithCopyWarning: \n",
      "A value is trying to be set on a copy of a slice from a DataFrame.\n",
      "Try using .loc[row_indexer,col_indexer] = value instead\n",
      "\n",
      "See the caveats in the documentation: https://pandas.pydata.org/pandas-docs/stable/user_guide/indexing.html#returning-a-view-versus-a-copy\n",
      "  edf[\"rotated_y_i\"] = rotated_R_i[:, 1]\n",
      "Z:\\Prog\\FARICH\\farich_functions.py:576: SettingWithCopyWarning: \n",
      "A value is trying to be set on a copy of a slice from a DataFrame.\n",
      "Try using .loc[row_indexer,col_indexer] = value instead\n",
      "\n",
      "See the caveats in the documentation: https://pandas.pydata.org/pandas-docs/stable/user_guide/indexing.html#returning-a-view-versus-a-copy\n",
      "  edf[\"rotated_z_i\"] = rotated_R_i[:, 2]\n",
      "Z:\\Prog\\FARICH\\farich_functions.py:577: SettingWithCopyWarning: \n",
      "A value is trying to be set on a copy of a slice from a DataFrame.\n",
      "Try using .loc[row_indexer,col_indexer] = value instead\n",
      "\n",
      "See the caveats in the documentation: https://pandas.pydata.org/pandas-docs/stable/user_guide/indexing.html#returning-a-view-versus-a-copy\n",
      "  edf[\"rotated_nx_p\"] = rotated_n[:, 0]\n",
      "Z:\\Prog\\FARICH\\farich_functions.py:578: SettingWithCopyWarning: \n",
      "A value is trying to be set on a copy of a slice from a DataFrame.\n",
      "Try using .loc[row_indexer,col_indexer] = value instead\n",
      "\n",
      "See the caveats in the documentation: https://pandas.pydata.org/pandas-docs/stable/user_guide/indexing.html#returning-a-view-versus-a-copy\n",
      "  edf[\"rotated_ny_p\"] = rotated_n[:, 1]\n",
      "Z:\\Prog\\FARICH\\farich_functions.py:579: SettingWithCopyWarning: \n",
      "A value is trying to be set on a copy of a slice from a DataFrame.\n",
      "Try using .loc[row_indexer,col_indexer] = value instead\n",
      "\n",
      "See the caveats in the documentation: https://pandas.pydata.org/pandas-docs/stable/user_guide/indexing.html#returning-a-view-versus-a-copy\n",
      "  edf[\"rotated_nz_p\"] = rotated_n[:, 2]\n"
     ]
    }
   ],
   "execution_count": 63
  },
  {
   "metadata": {
    "ExecuteTime": {
     "end_time": "2024-10-18T11:39:34.492144Z",
     "start_time": "2024-10-18T11:39:34.441359Z"
    }
   },
   "cell_type": "code",
   "source": "edf = applySecondSpaceCut(edf)",
   "outputs": [],
   "execution_count": 64
  },
  {
   "metadata": {
    "ExecuteTime": {
     "end_time": "2024-10-18T11:39:38.772951Z",
     "start_time": "2024-10-18T11:39:34.492144Z"
    }
   },
   "cell_type": "code",
   "source": [
    "bdf = pd.DataFrame()\n",
    "edf_to_bdf(edf.r_c.groupby(level=0).transform('mean'), bdf)\n",
    "bdf.rename(columns={'r_c': 'r_c_mean'}, inplace=True)\n",
    "edf_to_bdf(edf.r_c.groupby(level=0).transform('std'), bdf)\n",
    "bdf.rename(columns={'r_c': 'r_c_std'}, inplace=True)\n",
    "edf_to_bdf(edf.r_c.groupby(level=0).transform(lambda x: x.max() - x.min()), bdf)\n",
    "bdf.rename(columns={'r_c': 'r_c_width'}, inplace=True)\n",
    "edf_to_bdf(edf.true_p, bdf)\n",
    "bdf.rename(columns={'true_p': 'momentum'}, inplace=True)\n",
    "edf_to_bdf(edf.beta, bdf)"
   ],
   "outputs": [],
   "execution_count": 65
  },
  {
   "metadata": {
    "ExecuteTime": {
     "end_time": "2024-10-18T11:39:38.897418Z",
     "start_time": "2024-10-18T11:39:38.772951Z"
    }
   },
   "cell_type": "code",
   "source": "edf",
   "outputs": [
    {
     "data": {
      "text/plain": [
       "                       x_c     y_c        wv_c        r_c        x_i  \\\n",
       "entry subentry                                                         \n",
       "0     0          28.960131  135.52  398.425197  42.279083  71.239214   \n",
       "      1         123.040131  118.72  503.149606  51.800917  71.239214   \n",
       "      2         123.040131  128.80  376.377953  51.800917  71.239214   \n",
       "      3         126.400131   98.56  503.149606  55.160917  71.239214   \n",
       "      4          59.200131   54.88  508.661417  12.039083  71.239214   \n",
       "...                    ...     ...         ...        ...        ...   \n",
       "19887 6         -28.159869 -365.12  425.984252  30.396974   2.237105   \n",
       "      7         -14.719869 -341.60  481.102362  16.956974   2.237105   \n",
       "      8          25.600131 -388.64  409.448819  23.363026   2.237105   \n",
       "      9          18.880131 -341.60  767.716535  16.643026   2.237105   \n",
       "      10        -18.079869 -341.60  475.590551  20.316974   2.237105   \n",
       "\n",
       "                       y_i       t_c     z_c       true_p      beta  ...  z_p  \\\n",
       "entry subentry                                                       ...        \n",
       "0     0         102.379707 -0.001269  2000.0  1408.464406  0.995126  ...  0.0   \n",
       "      1         102.379707 -0.017801  2000.0  1408.464406  0.995126  ...  0.0   \n",
       "      2         102.379707 -0.021214  2000.0  1408.464406  0.995126  ...  0.0   \n",
       "      3         102.379707 -0.011760  2000.0  1408.464406  0.995126  ...  0.0   \n",
       "      4         102.379707  0.019134  2000.0  1408.464406  0.995126  ...  0.0   \n",
       "...                    ...       ...     ...          ...       ...  ...  ...   \n",
       "19887 6        -363.199793 -0.002061  2000.0   511.674644  0.964753  ...  0.0   \n",
       "      7        -363.199793  0.025961  2000.0   511.674644  0.964753  ...  0.0   \n",
       "      8        -363.199793 -0.030241  2000.0   511.674644  0.964753  ...  0.0   \n",
       "      9        -363.199793  0.025712  2000.0   511.674644  0.964753  ...  0.0   \n",
       "      10       -363.199793  0.025987  2000.0   511.674644  0.964753  ...  0.0   \n",
       "\n",
       "                 rotated_x   rotated_y    rotated_z  rotated_x_i  rotated_y_i  \\\n",
       "entry subentry                                                                  \n",
       "0     0        -112.947671  -68.449522  2000.059575   -70.691475  -101.592538   \n",
       "      1         -18.993455  -85.138406  2000.059575   -70.691475  -101.592538   \n",
       "      2         -19.013148  -75.090711  2000.059575   -70.691475  -101.592538   \n",
       "      3         -15.608553 -105.277016  2000.059575   -70.691475  -101.592538   \n",
       "      4         -82.929370 -149.524410  2000.059575   -70.691475  -101.592538   \n",
       "...                    ...         ...          ...          ...          ...   \n",
       "19887 6         -32.483377  339.386721  2003.839929    -2.102706   341.379863   \n",
       "      7         -19.176939  364.054275  2003.839929    -2.102706   341.379863   \n",
       "      8          21.088445  315.050330  2003.839929    -2.102706   341.379863   \n",
       "      9          14.643030  364.043961  2003.839929    -2.102706   341.379863   \n",
       "      10        -22.559169  364.055306  2003.839929    -2.102706   341.379863   \n",
       "\n",
       "                rotated_z_i  rotated_nx_p  rotated_ny_p  rotated_nz_p  \n",
       "entry subentry                                                         \n",
       "0     0         2000.059575     -0.035277     -0.050698      0.998091  \n",
       "      1         2000.059575     -0.035277     -0.050698      0.998091  \n",
       "      2         2000.059575     -0.035277     -0.050698      0.998091  \n",
       "      3         2000.059575     -0.035277     -0.050698      0.998091  \n",
       "      4         2000.059575     -0.035277     -0.050698      0.998091  \n",
       "...                     ...           ...           ...           ...  \n",
       "19887 6         2003.839929     -0.001034      0.167943      0.985796  \n",
       "      7         2003.839929     -0.001034      0.167943      0.985796  \n",
       "      8         2003.839929     -0.001034      0.167943      0.985796  \n",
       "      9         2003.839929     -0.001034      0.167943      0.985796  \n",
       "      10        2003.839929     -0.001034      0.167943      0.985796  \n",
       "\n",
       "[620206 rows x 28 columns]"
      ],
      "text/html": [
       "<div>\n",
       "<style scoped>\n",
       "    .dataframe tbody tr th:only-of-type {\n",
       "        vertical-align: middle;\n",
       "    }\n",
       "\n",
       "    .dataframe tbody tr th {\n",
       "        vertical-align: top;\n",
       "    }\n",
       "\n",
       "    .dataframe thead th {\n",
       "        text-align: right;\n",
       "    }\n",
       "</style>\n",
       "<table border=\"1\" class=\"dataframe\">\n",
       "  <thead>\n",
       "    <tr style=\"text-align: right;\">\n",
       "      <th></th>\n",
       "      <th></th>\n",
       "      <th>x_c</th>\n",
       "      <th>y_c</th>\n",
       "      <th>wv_c</th>\n",
       "      <th>r_c</th>\n",
       "      <th>x_i</th>\n",
       "      <th>y_i</th>\n",
       "      <th>t_c</th>\n",
       "      <th>z_c</th>\n",
       "      <th>true_p</th>\n",
       "      <th>beta</th>\n",
       "      <th>...</th>\n",
       "      <th>z_p</th>\n",
       "      <th>rotated_x</th>\n",
       "      <th>rotated_y</th>\n",
       "      <th>rotated_z</th>\n",
       "      <th>rotated_x_i</th>\n",
       "      <th>rotated_y_i</th>\n",
       "      <th>rotated_z_i</th>\n",
       "      <th>rotated_nx_p</th>\n",
       "      <th>rotated_ny_p</th>\n",
       "      <th>rotated_nz_p</th>\n",
       "    </tr>\n",
       "    <tr>\n",
       "      <th>entry</th>\n",
       "      <th>subentry</th>\n",
       "      <th></th>\n",
       "      <th></th>\n",
       "      <th></th>\n",
       "      <th></th>\n",
       "      <th></th>\n",
       "      <th></th>\n",
       "      <th></th>\n",
       "      <th></th>\n",
       "      <th></th>\n",
       "      <th></th>\n",
       "      <th></th>\n",
       "      <th></th>\n",
       "      <th></th>\n",
       "      <th></th>\n",
       "      <th></th>\n",
       "      <th></th>\n",
       "      <th></th>\n",
       "      <th></th>\n",
       "      <th></th>\n",
       "      <th></th>\n",
       "      <th></th>\n",
       "    </tr>\n",
       "  </thead>\n",
       "  <tbody>\n",
       "    <tr>\n",
       "      <th rowspan=\"5\" valign=\"top\">0</th>\n",
       "      <th>0</th>\n",
       "      <td>28.960131</td>\n",
       "      <td>135.52</td>\n",
       "      <td>398.425197</td>\n",
       "      <td>42.279083</td>\n",
       "      <td>71.239214</td>\n",
       "      <td>102.379707</td>\n",
       "      <td>-0.001269</td>\n",
       "      <td>2000.0</td>\n",
       "      <td>1408.464406</td>\n",
       "      <td>0.995126</td>\n",
       "      <td>...</td>\n",
       "      <td>0.0</td>\n",
       "      <td>-112.947671</td>\n",
       "      <td>-68.449522</td>\n",
       "      <td>2000.059575</td>\n",
       "      <td>-70.691475</td>\n",
       "      <td>-101.592538</td>\n",
       "      <td>2000.059575</td>\n",
       "      <td>-0.035277</td>\n",
       "      <td>-0.050698</td>\n",
       "      <td>0.998091</td>\n",
       "    </tr>\n",
       "    <tr>\n",
       "      <th>1</th>\n",
       "      <td>123.040131</td>\n",
       "      <td>118.72</td>\n",
       "      <td>503.149606</td>\n",
       "      <td>51.800917</td>\n",
       "      <td>71.239214</td>\n",
       "      <td>102.379707</td>\n",
       "      <td>-0.017801</td>\n",
       "      <td>2000.0</td>\n",
       "      <td>1408.464406</td>\n",
       "      <td>0.995126</td>\n",
       "      <td>...</td>\n",
       "      <td>0.0</td>\n",
       "      <td>-18.993455</td>\n",
       "      <td>-85.138406</td>\n",
       "      <td>2000.059575</td>\n",
       "      <td>-70.691475</td>\n",
       "      <td>-101.592538</td>\n",
       "      <td>2000.059575</td>\n",
       "      <td>-0.035277</td>\n",
       "      <td>-0.050698</td>\n",
       "      <td>0.998091</td>\n",
       "    </tr>\n",
       "    <tr>\n",
       "      <th>2</th>\n",
       "      <td>123.040131</td>\n",
       "      <td>128.80</td>\n",
       "      <td>376.377953</td>\n",
       "      <td>51.800917</td>\n",
       "      <td>71.239214</td>\n",
       "      <td>102.379707</td>\n",
       "      <td>-0.021214</td>\n",
       "      <td>2000.0</td>\n",
       "      <td>1408.464406</td>\n",
       "      <td>0.995126</td>\n",
       "      <td>...</td>\n",
       "      <td>0.0</td>\n",
       "      <td>-19.013148</td>\n",
       "      <td>-75.090711</td>\n",
       "      <td>2000.059575</td>\n",
       "      <td>-70.691475</td>\n",
       "      <td>-101.592538</td>\n",
       "      <td>2000.059575</td>\n",
       "      <td>-0.035277</td>\n",
       "      <td>-0.050698</td>\n",
       "      <td>0.998091</td>\n",
       "    </tr>\n",
       "    <tr>\n",
       "      <th>3</th>\n",
       "      <td>126.400131</td>\n",
       "      <td>98.56</td>\n",
       "      <td>503.149606</td>\n",
       "      <td>55.160917</td>\n",
       "      <td>71.239214</td>\n",
       "      <td>102.379707</td>\n",
       "      <td>-0.011760</td>\n",
       "      <td>2000.0</td>\n",
       "      <td>1408.464406</td>\n",
       "      <td>0.995126</td>\n",
       "      <td>...</td>\n",
       "      <td>0.0</td>\n",
       "      <td>-15.608553</td>\n",
       "      <td>-105.277016</td>\n",
       "      <td>2000.059575</td>\n",
       "      <td>-70.691475</td>\n",
       "      <td>-101.592538</td>\n",
       "      <td>2000.059575</td>\n",
       "      <td>-0.035277</td>\n",
       "      <td>-0.050698</td>\n",
       "      <td>0.998091</td>\n",
       "    </tr>\n",
       "    <tr>\n",
       "      <th>4</th>\n",
       "      <td>59.200131</td>\n",
       "      <td>54.88</td>\n",
       "      <td>508.661417</td>\n",
       "      <td>12.039083</td>\n",
       "      <td>71.239214</td>\n",
       "      <td>102.379707</td>\n",
       "      <td>0.019134</td>\n",
       "      <td>2000.0</td>\n",
       "      <td>1408.464406</td>\n",
       "      <td>0.995126</td>\n",
       "      <td>...</td>\n",
       "      <td>0.0</td>\n",
       "      <td>-82.929370</td>\n",
       "      <td>-149.524410</td>\n",
       "      <td>2000.059575</td>\n",
       "      <td>-70.691475</td>\n",
       "      <td>-101.592538</td>\n",
       "      <td>2000.059575</td>\n",
       "      <td>-0.035277</td>\n",
       "      <td>-0.050698</td>\n",
       "      <td>0.998091</td>\n",
       "    </tr>\n",
       "    <tr>\n",
       "      <th>...</th>\n",
       "      <th>...</th>\n",
       "      <td>...</td>\n",
       "      <td>...</td>\n",
       "      <td>...</td>\n",
       "      <td>...</td>\n",
       "      <td>...</td>\n",
       "      <td>...</td>\n",
       "      <td>...</td>\n",
       "      <td>...</td>\n",
       "      <td>...</td>\n",
       "      <td>...</td>\n",
       "      <td>...</td>\n",
       "      <td>...</td>\n",
       "      <td>...</td>\n",
       "      <td>...</td>\n",
       "      <td>...</td>\n",
       "      <td>...</td>\n",
       "      <td>...</td>\n",
       "      <td>...</td>\n",
       "      <td>...</td>\n",
       "      <td>...</td>\n",
       "      <td>...</td>\n",
       "    </tr>\n",
       "    <tr>\n",
       "      <th rowspan=\"5\" valign=\"top\">19887</th>\n",
       "      <th>6</th>\n",
       "      <td>-28.159869</td>\n",
       "      <td>-365.12</td>\n",
       "      <td>425.984252</td>\n",
       "      <td>30.396974</td>\n",
       "      <td>2.237105</td>\n",
       "      <td>-363.199793</td>\n",
       "      <td>-0.002061</td>\n",
       "      <td>2000.0</td>\n",
       "      <td>511.674644</td>\n",
       "      <td>0.964753</td>\n",
       "      <td>...</td>\n",
       "      <td>0.0</td>\n",
       "      <td>-32.483377</td>\n",
       "      <td>339.386721</td>\n",
       "      <td>2003.839929</td>\n",
       "      <td>-2.102706</td>\n",
       "      <td>341.379863</td>\n",
       "      <td>2003.839929</td>\n",
       "      <td>-0.001034</td>\n",
       "      <td>0.167943</td>\n",
       "      <td>0.985796</td>\n",
       "    </tr>\n",
       "    <tr>\n",
       "      <th>7</th>\n",
       "      <td>-14.719869</td>\n",
       "      <td>-341.60</td>\n",
       "      <td>481.102362</td>\n",
       "      <td>16.956974</td>\n",
       "      <td>2.237105</td>\n",
       "      <td>-363.199793</td>\n",
       "      <td>0.025961</td>\n",
       "      <td>2000.0</td>\n",
       "      <td>511.674644</td>\n",
       "      <td>0.964753</td>\n",
       "      <td>...</td>\n",
       "      <td>0.0</td>\n",
       "      <td>-19.176939</td>\n",
       "      <td>364.054275</td>\n",
       "      <td>2003.839929</td>\n",
       "      <td>-2.102706</td>\n",
       "      <td>341.379863</td>\n",
       "      <td>2003.839929</td>\n",
       "      <td>-0.001034</td>\n",
       "      <td>0.167943</td>\n",
       "      <td>0.985796</td>\n",
       "    </tr>\n",
       "    <tr>\n",
       "      <th>8</th>\n",
       "      <td>25.600131</td>\n",
       "      <td>-388.64</td>\n",
       "      <td>409.448819</td>\n",
       "      <td>23.363026</td>\n",
       "      <td>2.237105</td>\n",
       "      <td>-363.199793</td>\n",
       "      <td>-0.030241</td>\n",
       "      <td>2000.0</td>\n",
       "      <td>511.674644</td>\n",
       "      <td>0.964753</td>\n",
       "      <td>...</td>\n",
       "      <td>0.0</td>\n",
       "      <td>21.088445</td>\n",
       "      <td>315.050330</td>\n",
       "      <td>2003.839929</td>\n",
       "      <td>-2.102706</td>\n",
       "      <td>341.379863</td>\n",
       "      <td>2003.839929</td>\n",
       "      <td>-0.001034</td>\n",
       "      <td>0.167943</td>\n",
       "      <td>0.985796</td>\n",
       "    </tr>\n",
       "    <tr>\n",
       "      <th>9</th>\n",
       "      <td>18.880131</td>\n",
       "      <td>-341.60</td>\n",
       "      <td>767.716535</td>\n",
       "      <td>16.643026</td>\n",
       "      <td>2.237105</td>\n",
       "      <td>-363.199793</td>\n",
       "      <td>0.025712</td>\n",
       "      <td>2000.0</td>\n",
       "      <td>511.674644</td>\n",
       "      <td>0.964753</td>\n",
       "      <td>...</td>\n",
       "      <td>0.0</td>\n",
       "      <td>14.643030</td>\n",
       "      <td>364.043961</td>\n",
       "      <td>2003.839929</td>\n",
       "      <td>-2.102706</td>\n",
       "      <td>341.379863</td>\n",
       "      <td>2003.839929</td>\n",
       "      <td>-0.001034</td>\n",
       "      <td>0.167943</td>\n",
       "      <td>0.985796</td>\n",
       "    </tr>\n",
       "    <tr>\n",
       "      <th>10</th>\n",
       "      <td>-18.079869</td>\n",
       "      <td>-341.60</td>\n",
       "      <td>475.590551</td>\n",
       "      <td>20.316974</td>\n",
       "      <td>2.237105</td>\n",
       "      <td>-363.199793</td>\n",
       "      <td>0.025987</td>\n",
       "      <td>2000.0</td>\n",
       "      <td>511.674644</td>\n",
       "      <td>0.964753</td>\n",
       "      <td>...</td>\n",
       "      <td>0.0</td>\n",
       "      <td>-22.559169</td>\n",
       "      <td>364.055306</td>\n",
       "      <td>2003.839929</td>\n",
       "      <td>-2.102706</td>\n",
       "      <td>341.379863</td>\n",
       "      <td>2003.839929</td>\n",
       "      <td>-0.001034</td>\n",
       "      <td>0.167943</td>\n",
       "      <td>0.985796</td>\n",
       "    </tr>\n",
       "  </tbody>\n",
       "</table>\n",
       "<p>620206 rows × 28 columns</p>\n",
       "</div>"
      ]
     },
     "execution_count": 66,
     "metadata": {},
     "output_type": "execute_result"
    }
   ],
   "execution_count": 66
  },
  {
   "metadata": {
    "ExecuteTime": {
     "end_time": "2024-10-18T11:39:38.900901Z",
     "start_time": "2024-10-18T11:39:38.897418Z"
    }
   },
   "cell_type": "code",
   "source": "bdf.isna().sum()",
   "outputs": [
    {
     "data": {
      "text/plain": [
       "r_c_mean      0\n",
       "r_c_std      23\n",
       "r_c_width     0\n",
       "momentum      0\n",
       "beta          0\n",
       "dtype: int64"
      ]
     },
     "execution_count": 67,
     "metadata": {},
     "output_type": "execute_result"
    }
   ],
   "execution_count": 67
  },
  {
   "metadata": {
    "ExecuteTime": {
     "end_time": "2024-10-18T11:39:38.911723Z",
     "start_time": "2024-10-18T11:39:38.900901Z"
    }
   },
   "cell_type": "code",
   "source": "# np.tan(1 / (edf.beta.iloc[0] * idf.n_mean)) ",
   "outputs": [],
   "execution_count": 68
  },
  {
   "metadata": {
    "ExecuteTime": {
     "end_time": "2024-10-18T11:39:38.923447Z",
     "start_time": "2024-10-18T11:39:38.911723Z"
    }
   },
   "cell_type": "code",
   "source": "# idf.W * np.tan(1/(idf.n_mean * edf.beta.iloc[0]))",
   "outputs": [],
   "execution_count": 69
  },
  {
   "metadata": {
    "ExecuteTime": {
     "end_time": "2024-10-18T11:39:38.934506Z",
     "start_time": "2024-10-18T11:39:38.923447Z"
    }
   },
   "cell_type": "code",
   "source": [
    "# num = 7\n",
    "# event = edf.loc[num]\n",
    "# plt.scatter(event.rotated_x, event.rotated_y)\n",
    "# plt.scatter(event.rotated_x_i, event.rotated_y_i)\n",
    "# plt.show()"
   ],
   "outputs": [],
   "execution_count": 70
  },
  {
   "metadata": {
    "ExecuteTime": {
     "end_time": "2024-10-18T11:39:43.810362Z",
     "start_time": "2024-10-18T11:39:38.934506Z"
    }
   },
   "cell_type": "code",
   "source": "primaryDirectionRecalculation(edf)",
   "outputs": [],
   "execution_count": 71
  },
  {
   "metadata": {
    "ExecuteTime": {
     "end_time": "2024-10-18T11:39:43.820020Z",
     "start_time": "2024-10-18T11:39:43.810362Z"
    }
   },
   "cell_type": "code",
   "source": [
    "edf['rotated_r_c'] = np.sqrt((edf['rotated_x_i'] - edf['rotated_x']) ** 2 + (edf['rotated_y_i'] - edf['rotated_y']) ** 2)\n",
    "edf['signal'] = np.ones(edf.shape[0])"
   ],
   "outputs": [],
   "execution_count": 72
  },
  {
   "metadata": {
    "ExecuteTime": {
     "end_time": "2024-10-18T11:39:43.821996Z",
     "start_time": "2024-10-18T11:39:43.820020Z"
    }
   },
   "cell_type": "code",
   "source": "",
   "outputs": [],
   "execution_count": 72
  },
  {
   "metadata": {
    "ExecuteTime": {
     "end_time": "2024-10-18T11:39:43.927210Z",
     "start_time": "2024-10-18T11:39:43.821996Z"
    }
   },
   "cell_type": "code",
   "source": "recoAngles(edf, idf)",
   "outputs": [
    {
     "name": "stderr",
     "output_type": "stream",
     "text": [
      "Z:\\Prog\\FARICH\\farich_functions.py:646: FutureWarning: Calling float on a single element Series is deprecated and will raise a TypeError in the future. Use float(ser.iloc[0]) instead\n",
      "  dist = float(idf[\"distance\"])\n",
      "Z:\\Prog\\FARICH\\farich_functions.py:649: FutureWarning: Calling float on a single element Series is deprecated and will raise a TypeError in the future. Use float(ser.iloc[0]) instead\n",
      "  W = float(idf[\"W\"])\n",
      "Z:\\Prog\\FARICH\\farich_functions.py:652: FutureWarning: Calling float on a single element Series is deprecated and will raise a TypeError in the future. Use float(ser.iloc[0]) instead\n",
      "  rad_pos = float(idf[\"zdis\"])\n"
     ]
    }
   ],
   "execution_count": 73
  },
  {
   "metadata": {
    "ExecuteTime": {
     "end_time": "2024-10-18T11:39:44.015793Z",
     "start_time": "2024-10-18T11:39:43.927210Z"
    }
   },
   "cell_type": "code",
   "source": "recoAngles(edf, idf, rotation_mode=True)",
   "outputs": [
    {
     "name": "stderr",
     "output_type": "stream",
     "text": [
      "Z:\\Prog\\FARICH\\farich_functions.py:646: FutureWarning: Calling float on a single element Series is deprecated and will raise a TypeError in the future. Use float(ser.iloc[0]) instead\n",
      "  dist = float(idf[\"distance\"])\n",
      "Z:\\Prog\\FARICH\\farich_functions.py:649: FutureWarning: Calling float on a single element Series is deprecated and will raise a TypeError in the future. Use float(ser.iloc[0]) instead\n",
      "  W = float(idf[\"W\"])\n",
      "Z:\\Prog\\FARICH\\farich_functions.py:652: FutureWarning: Calling float on a single element Series is deprecated and will raise a TypeError in the future. Use float(ser.iloc[0]) instead\n",
      "  rad_pos = float(idf[\"zdis\"])\n",
      "Z:\\Prog\\FARICH\\farich_functions.py:673: FutureWarning: Calling float on a single element Series is deprecated and will raise a TypeError in the future. Use float(ser.iloc[0]) instead\n",
      "  n_mean = float(idf[\"n_mean\"])\n"
     ]
    }
   ],
   "execution_count": 74
  },
  {
   "metadata": {
    "ExecuteTime": {
     "end_time": "2024-10-18T11:39:44.047705Z",
     "start_time": "2024-10-18T11:39:44.015793Z"
    }
   },
   "cell_type": "code",
   "source": "calculateSignalCounts(edf, bdf)",
   "outputs": [],
   "execution_count": 75
  },
  {
   "metadata": {
    "ExecuteTime": {
     "end_time": "2024-10-18T11:39:44.056064Z",
     "start_time": "2024-10-18T11:39:44.052106Z"
    }
   },
   "cell_type": "code",
   "source": [
    "def exp_like(X, a, b):\n",
    "    return a * np.exp(b * X)\n",
    "def pol2_exp_like(X, a0, a1, a2, b0, b1, b2):\n",
    "    r, theta = X\n",
    "    return exp_like(r, a0 + a1 * theta + a2 * theta ** 2, b0 + b0 * theta + b1 * theta ** 2)\n",
    "def pol3(X, p0, p1, p2, p3):\n",
    "    return p0 + p1 * X + p2 * X ** 2 + p3 * X ** 3\n",
    "def lin(X, a, b):\n",
    "    return a * X + b\n",
    "def pol2_lin(X, a0, a1, a2, b0, b1, b2):\n",
    "    r, theta = X\n",
    "    return lin(r, a0 + a1 * theta + a2 * theta ** 2, b0 + b1 * theta + b2 * theta ** 2)\n",
    "def pol2_pol2(X, a0, a1, a2, b0, b1, b2, c0, c1, c2):\n",
    "    r, theta = X\n",
    "    return pol2(r, a0 + a1 * theta + a2 * theta ** 2, b0 + b1 * theta + b2 * theta ** 2, c0 + c1 * theta + c2 * theta ** 2)"
   ],
   "outputs": [],
   "execution_count": 76
  },
  {
   "metadata": {
    "ExecuteTime": {
     "end_time": "2024-10-18T11:39:44.068201Z",
     "start_time": "2024-10-18T11:39:44.056064Z"
    }
   },
   "cell_type": "code",
   "source": [
    "def calibration(edf: pd.DataFrame, bdf: pd.DataFrame, avg_sigmas: tuple, avg_t_sigmas: tuple, step=float(idf.pixel_size), method='N/r', t_window_width=2,\n",
    "                        r_width_factor=2, t_width_factor=8, full_width_t_hist = False, weighed=True, deg_lim=False, param_fit=False, calibration_func=pol, param_calibration_func=d3pol2, \n",
    "                num_of_calibration_params=3, num_of_param_fit_params=3, target_variable = 'momentum', target_angle = 'theta_p', num_of_theta_intervals=11, p0=(100, 1, 100), p0_c=(1.219, -0.5588, 0.2946, 864.4, -1922, 1055, -2535, 6572, -3751)):  \n",
    "  to_return_unbinned = np.full((np.ptp(avg_sigmas), np.ptp(avg_t_sigmas), num_of_theta_intervals - 1, num_of_calibration_params), 0.)\n",
    "\n",
    "  errs_tmp = np.full((np.ptp(avg_sigmas), np.ptp(avg_t_sigmas), num_of_theta_intervals - 1, num_of_calibration_params), 0.)\n",
    "  fit_params = np.full((np.ptp(avg_sigmas), np.ptp(avg_t_sigmas), num_of_calibration_params, num_of_param_fit_params), 0.)\n",
    "  fit_params = np.full((np.ptp(avg_sigmas), np.ptp(avg_t_sigmas), num_of_calibration_params * num_of_param_fit_params), 0.)\n",
    "\n",
    "  \n",
    "  \n",
    "  dir_to_save = f\"{'weighed' if weighed else 'unweighed'}_rw={step}_tw={t_window_width}_rs={r_width_factor}_ts={t_width_factor}\"\n",
    "  if not os.path.exists(os.path.join('calibrations_barrel', dir_to_save)):\n",
    "    os.mkdir(os.path.join('calibrations_barrel', dir_to_save))\n",
    "      \n",
    "      \n",
    "  for r_sigms in range(*avg_sigmas):\n",
    "    fig, axs = plt.subplots(num_of_theta_intervals - 1, np.ptp(avg_t_sigmas), figsize=(16 * np.ptp(avg_t_sigmas), 9 * (num_of_theta_intervals - 1)))\n",
    "    for t_sigms in range(*avg_t_sigmas):\n",
    "      chosen_column = f'unfixed_calculated_r_2d_{r_sigms}_rsigms_{t_sigms}_tsigms'\n",
    "\n",
    "      calibration_loop(bdf, chosen_column, r_sigms, t_sigms, num_of_theta_intervals, to_return_unbinned, errs_tmp, fig, axs, avg_sigmas, avg_t_sigmas, target_variable, target_angle, calibration_func, p0)\n",
    "      if param_fit:\n",
    "        param_fit_calibration(bdf, chosen_column, r_sigms, t_sigms, avg_sigmas, avg_t_sigmas, fit_params, num_of_calibration_params, num_of_param_fit_params, target_variable, target_angle, param_calibration_func, p0_c=p0_c)   \n",
    "    save_calibration_plot(fig, dir_to_save, deg_lim, r_sigms, avg_t_sigmas)        \n",
    "      \n",
    "  if param_fit:\n",
    "    return fit_params, errs_tmp\n",
    "  return to_return_unbinned, errs_tmp\n",
    "# cal_arr = np.array(calibration(edf, bdf, avg_sigmas=(1, 5), avg_t_sigmas=(1, 5))) # add r and t calibr - done"
   ],
   "outputs": [
    {
     "name": "stderr",
     "output_type": "stream",
     "text": [
      "C:\\Users\\BRINE\\AppData\\Local\\Temp\\ipykernel_13968\\4046434055.py:1: FutureWarning: Calling float on a single element Series is deprecated and will raise a TypeError in the future. Use float(ser.iloc[0]) instead\n",
      "  def calibration(edf: pd.DataFrame, bdf: pd.DataFrame, avg_sigmas: tuple, avg_t_sigmas: tuple, step=float(idf.pixel_size), method='N/r', t_window_width=2,\n"
     ]
    }
   ],
   "execution_count": 77
  },
  {
   "metadata": {
    "ExecuteTime": {
     "end_time": "2024-10-18T11:39:44.080306Z",
     "start_time": "2024-10-18T11:39:44.068201Z"
    }
   },
   "cell_type": "code",
   "source": [
    "def rSlidingWindow(edf: pd.DataFrame, idf: pd.DataFrame, bdf: pd.DataFrame, avg_sigmas: tuple, avg_t_sigmas: tuple, step=float(idf.pixel_size), method='N/r', cal_arr=False, t_window_width=2,\n",
    "                        r_width_factor=2, t_width_factor=8, full_width_t_hist = True, num_of_groups=5, weighed=True, deg_lim=False, param_fit=False, \n",
    "                   calibration_func=pol, param_calibration_func=d3pol2, num_of_calibration_params=3, num_of_param_fit_params=3, target_variable='beta', target_angle='cos_theta_p', num_of_theta_intervals=11, p0=(100, 1, 100), p0_c=(1.219, -0.5588, 0.2946, 864.4, -1922, 1055, -2535, 6572, -3751)):\n",
    "    rSlidingWindowIntro(edf, idf, bdf, avg_sigmas, avg_t_sigmas, step=step, method=method, cal_arr=cal_arr, t_window_width=t_window_width,\n",
    "                      r_width_factor=r_width_factor, t_width_factor=t_width_factor, num_of_groups=num_of_groups)\n",
    "    rSlidingWindowLoop1(edf, idf, bdf, avg_sigmas, avg_t_sigmas, step=step, method=method, cal_arr=cal_arr, t_window_width=t_window_width,\n",
    "                      r_width_factor=r_width_factor, t_width_factor=t_width_factor, full_width_t_hist=full_width_t_hist, weighed=weighed)\n",
    "    \n",
    "    bdf.dropna(subset=[f'unfixed_calculated_r_2d_{avg_sigmas[0]}_rsigms_4_tsigms'], inplace=True)\n",
    "    edf.dropna(subset=[f'unfixed_calculated_r_2d_{avg_sigmas[0]}_rsigms_4_tsigms'], inplace=True)\n",
    "\n",
    "    if cal_arr is False:\n",
    "        cal_arr, errs = calibration(edf, bdf, avg_sigmas=avg_sigmas, avg_t_sigmas=avg_t_sigmas, step=step, t_window_width=t_window_width,\n",
    "                                   r_width_factor=r_width_factor, t_width_factor=t_width_factor, weighed=weighed, deg_lim=deg_lim, param_fit=param_fit, calibration_func=calibration_func, param_calibration_func=param_calibration_func, num_of_calibration_params=num_of_calibration_params, num_of_param_fit_params=num_of_param_fit_params, target_variable=target_variable, target_angle=target_angle, num_of_theta_intervals=num_of_theta_intervals, p0=p0, p0_c=p0_c)\n",
    "\n",
    "    rSlidingWindowLoop2(edf, idf, bdf, avg_sigmas, avg_t_sigmas, step=step, method=method, cal_arr=cal_arr, t_window_width=t_window_width,\n",
    "                      r_width_factor=r_width_factor, t_width_factor=t_width_factor, param_fit=param_fit, calibration_func=calibration_func, param_calibration_func=param_calibration_func, target_variable=target_variable, target_angle=target_angle, num_of_theta_intervals=num_of_theta_intervals)\n",
    "\n",
    "    return cal_arr, errs"
   ],
   "outputs": [
    {
     "name": "stderr",
     "output_type": "stream",
     "text": [
      "C:\\Users\\BRINE\\AppData\\Local\\Temp\\ipykernel_13968\\4236704342.py:1: FutureWarning: Calling float on a single element Series is deprecated and will raise a TypeError in the future. Use float(ser.iloc[0]) instead\n",
      "  def rSlidingWindow(edf: pd.DataFrame, idf: pd.DataFrame, bdf: pd.DataFrame, avg_sigmas: tuple, avg_t_sigmas: tuple, step=float(idf.pixel_size), method='N/r', cal_arr=False, t_window_width=2,\n"
     ]
    }
   ],
   "execution_count": 78
  },
  {
   "metadata": {
    "ExecuteTime": {
     "end_time": "2024-10-18T11:40:51.327123Z",
     "start_time": "2024-10-18T11:40:51.323828Z"
    }
   },
   "cell_type": "code",
   "source": [
    "avg_sigmas = (4, 5)\n",
    "avg_t_sigmas = (4, 5)\n",
    "num_of_groups = 10\n",
    "r_width = float(idf.pixel_size.iloc[0]) * 2\n",
    "t_width = 0.25\n",
    "t_step = 0.25\n",
    "r_factor = 2 # not to change\n",
    "t_factor = int(t_width / t_step)\n",
    "weighed = True\n",
    "deg_lim = False\n",
    "param_fit = True # WORKS\n",
    "\n",
    "calibration_func = pol2 # pol\n",
    "param_calibration_func = pol2_pol2 # d3pol2\n",
    "p0 =  (.01, 1000, 1000)\n",
    "p0_c =  (1.219, -0.5588, 0.2946, 864.4, -1922, 1055, -2535, 6572, -3751)\n",
    "num_of_calibration_params = 3 # 3\n",
    "num_of_param_fit_params = 3 # for param fit both prev and this number are important, cal_func as well, therefore p0 and p0_C\n",
    "target_variable = 'beta'\n",
    "target_angle = 'theta_p'\n",
    "num_of_theta_intervals = 11 # 11\n",
    "\n",
    "\n",
    "# sample_size = 12\n",
    "cal_arr = False\n",
    "errs = False\n",
    "\n",
    "beta_sigms = []\n",
    "beta_sigms_yerr = []\n",
    "beta_sigms_deglim = []\n",
    "beta_sigms_yerr_deglim = []"
   ],
   "outputs": [],
   "execution_count": 92
  },
  {
   "metadata": {
    "ExecuteTime": {
     "end_time": "2024-10-18T11:41:10.430945Z",
     "start_time": "2024-10-18T11:40:51.540788Z"
    }
   },
   "cell_type": "code",
   "source": [
    "cal_arr, errs = rSlidingWindow(edf, idf, bdf, avg_sigmas=avg_sigmas, avg_t_sigmas=avg_t_sigmas, cal_arr=cal_arr, num_of_groups=num_of_groups,\n",
    "                               step=r_width, t_window_width=t_width, r_width_factor=r_factor, t_width_factor=t_factor, weighed=weighed, deg_lim=deg_lim, param_fit=param_fit, \n",
    "                         calibration_func=calibration_func, param_calibration_func=param_calibration_func, num_of_calibration_params=num_of_calibration_params, num_of_param_fit_params=num_of_param_fit_params, \n",
    "                         target_variable=target_variable, target_angle=target_angle, num_of_theta_intervals=num_of_theta_intervals, p0=p0, p0_c=p0_c)"
   ],
   "outputs": [
    {
     "name": "stdout",
     "output_type": "stream",
     "text": [
      "[ 1.00086569e+00 -4.64698375e-02  6.03493934e-02 -1.52758569e-03\n",
      "  2.68779776e-03 -2.73085257e-03  2.57896491e-05 -3.94493784e-05\n",
      "  2.81313795e-05]\n",
      "0\n"
     ]
    }
   ],
   "execution_count": 93
  },
  {
   "metadata": {},
   "cell_type": "markdown",
   "source": "need to run twice. To remove broken events?"
  },
  {
   "metadata": {
    "ExecuteTime": {
     "end_time": "2024-10-18T11:40:02.636469Z",
     "start_time": "2024-10-18T11:40:02.633609Z"
    }
   },
   "cell_type": "code",
   "source": "cal_arr",
   "outputs": [
    {
     "data": {
      "text/plain": [
       "array([[[ 9.63268294e-01, -8.12125138e-02,  1.50725088e-01,\n",
       "         -1.67203103e-04,  3.77501676e-03, -6.91404601e-03,\n",
       "          1.58212649e-05, -4.39447279e-05,  6.31999451e-05]]])"
      ]
     },
     "execution_count": 81,
     "metadata": {},
     "output_type": "execute_result"
    }
   ],
   "execution_count": 81
  },
  {
   "metadata": {
    "ExecuteTime": {
     "end_time": "2024-10-18T11:40:02.647586Z",
     "start_time": "2024-10-18T11:40:02.636469Z"
    }
   },
   "cell_type": "code",
   "source": "errs",
   "outputs": [
    {
     "data": {
      "text/plain": [
       "array([[[[1.90316354e-03, 9.48736284e-05, 1.16912538e-06],\n",
       "         [1.42547047e-03, 7.20240793e-05, 8.96306200e-07],\n",
       "         [1.63741828e-03, 8.24783435e-05, 1.02365589e-06],\n",
       "         [1.53716535e-03, 7.59935603e-05, 9.26866122e-07],\n",
       "         [1.42610498e-03, 6.78903227e-05, 7.95295947e-07],\n",
       "         [1.59316294e-03, 7.20588325e-05, 8.01581706e-07],\n",
       "         [1.48067289e-03, 6.39478999e-05, 6.80412783e-07],\n",
       "         [1.35662434e-03, 5.56151936e-05, 5.58008132e-07],\n",
       "         [1.39241810e-03, 5.33304480e-05, 5.00380800e-07],\n",
       "         [1.80662561e-03, 6.72396872e-05, 6.13962693e-07]]]])"
      ]
     },
     "execution_count": 82,
     "metadata": {},
     "output_type": "execute_result"
    }
   ],
   "execution_count": 82
  },
  {
   "metadata": {
    "ExecuteTime": {
     "end_time": "2024-10-18T11:41:17.035794Z",
     "start_time": "2024-10-18T11:41:17.032767Z"
    }
   },
   "cell_type": "code",
   "source": "((bdf.beta - bdf.beta_from_calc_r_4_rsigms_4_tsigms) ** 2 / bdf.beta_from_calc_r_4_rsigms_4_tsigms).sum() / num_of_calibration_params # chi2",
   "outputs": [
    {
     "data": {
      "text/plain": [
       "0.4743777540416103"
      ]
     },
     "execution_count": 95,
     "metadata": {},
     "output_type": "execute_result"
    }
   ],
   "execution_count": 95
  },
  {
   "metadata": {
    "ExecuteTime": {
     "end_time": "2024-10-18T11:41:13.525690Z",
     "start_time": "2024-10-18T11:41:13.521428Z"
    }
   },
   "cell_type": "code",
   "source": "print(bdf[round((bdf.momentum / bdf.beta * np.sqrt(1 - bdf.beta ** 2)), 2) == 139.57].shape[0] / bdf.shape[0])",
   "outputs": [
    {
     "name": "stdout",
     "output_type": "stream",
     "text": [
      "1.0\n"
     ]
    }
   ],
   "execution_count": 94
  },
  {
   "metadata": {
    "ExecuteTime": {
     "end_time": "2024-10-18T11:40:02.681147Z",
     "start_time": "2024-10-18T11:40:02.670606Z"
    }
   },
   "cell_type": "code",
   "source": [
    "print(bdf[round((bdf.momentum / bdf.beta * np.sqrt(1 - bdf.beta ** 2)), 2) == 139.57].shape[0])\n",
    "print(bdf.shape[0])"
   ],
   "outputs": [
    {
     "name": "stdout",
     "output_type": "stream",
     "text": [
      "19789\n",
      "19789\n"
     ]
    }
   ],
   "execution_count": 85
  },
  {
   "metadata": {
    "ExecuteTime": {
     "end_time": "2024-10-18T11:40:02.692221Z",
     "start_time": "2024-10-18T11:40:02.681147Z"
    }
   },
   "cell_type": "code",
   "source": "bdf.dropna(subset=[f'unfixed_calculated_r_2d_{avg_sigmas[0]}_rsigms_4_tsigms'], inplace=True)",
   "outputs": [],
   "execution_count": 86
  },
  {
   "metadata": {
    "ExecuteTime": {
     "end_time": "2024-10-18T11:40:02.702783Z",
     "start_time": "2024-10-18T11:40:02.692221Z"
    }
   },
   "cell_type": "code",
   "source": "bdf[round((bdf.momentum / bdf.beta * np.sqrt(1 - bdf.beta ** 2)), 2) == 139.57].shape[0] / bdf.shape[0]",
   "outputs": [
    {
     "data": {
      "text/plain": [
       "1.0"
      ]
     },
     "execution_count": 87,
     "metadata": {},
     "output_type": "execute_result"
    }
   ],
   "execution_count": 87
  },
  {
   "metadata": {
    "ExecuteTime": {
     "end_time": "2024-10-18T11:40:02.712762Z",
     "start_time": "2024-10-18T11:40:02.702783Z"
    }
   },
   "cell_type": "code",
   "source": [
    "print(bdf[round((bdf.momentum / bdf.beta * np.sqrt(1 - bdf.beta ** 2)), 2) == 139.57].shape[0])\n",
    "print(bdf.shape[0])"
   ],
   "outputs": [
    {
     "name": "stdout",
     "output_type": "stream",
     "text": [
      "19789\n",
      "19789\n"
     ]
    }
   ],
   "execution_count": 88
  },
  {
   "metadata": {},
   "cell_type": "markdown",
   "source": [
    "0.06363089185270614 - до обрезки\n",
    "0.07350276021667147 - после"
   ]
  },
  {
   "metadata": {},
   "cell_type": "markdown",
   "source": "пока что pol2 по качеству хуже pol"
  },
  {
   "metadata": {},
   "cell_type": "markdown",
   "source": "pol2_pol2 лучше чем pol, но на 10 градусах немного хуже"
  },
  {
   "metadata": {
    "ExecuteTime": {
     "end_time": "2024-10-18T11:40:02.739449Z",
     "start_time": "2024-10-18T11:40:02.712762Z"
    }
   },
   "cell_type": "code",
   "source": [
    "beta_on_grid = lin_move_to_grid(np.array(bdf.beta), np.linspace(min(bdf.beta), max(bdf.beta), 100))\n",
    "calc_beta_on_grid = lin_move_to_grid(np.array(bdf.beta_from_calc_r_4_rsigms_4_tsigms), np.linspace(min(bdf.beta), max(bdf.beta), 100))\n",
    "\n",
    "((beta_on_grid - calc_beta_on_grid) ** 2 / calc_beta_on_grid).sum() / num_of_calibration_params"
   ],
   "outputs": [
    {
     "data": {
      "text/plain": [
       "0.6771032164700911"
      ]
     },
     "execution_count": 89,
     "metadata": {},
     "output_type": "execute_result"
    }
   ],
   "execution_count": 89
  },
  {
   "metadata": {
    "ExecuteTime": {
     "end_time": "2024-10-18T11:40:02.744109Z",
     "start_time": "2024-10-18T11:40:02.739449Z"
    }
   },
   "cell_type": "code",
   "source": "np.linspace(min(bdf.theta_p), max(bdf.theta_p), num=num_of_theta_intervals-1)",
   "outputs": [
    {
     "data": {
      "text/plain": [
       "array([0.00234133, 0.0899407 , 0.17754006, 0.26513942, 0.35273879,\n",
       "       0.44033815, 0.52793751, 0.61553687, 0.70313624, 0.7907356 ])"
      ]
     },
     "execution_count": 90,
     "metadata": {},
     "output_type": "execute_result"
    }
   ],
   "execution_count": 90
  },
  {
   "metadata": {
    "ExecuteTime": {
     "end_time": "2024-10-18T11:40:03.011541Z",
     "start_time": "2024-10-18T11:40:02.744109Z"
    }
   },
   "cell_type": "code",
   "source": "cal_arr[0][0][:, 0]",
   "outputs": [
    {
     "ename": "IndexError",
     "evalue": "too many indices for array: array is 1-dimensional, but 2 were indexed",
     "output_type": "error",
     "traceback": [
      "\u001B[1;31m---------------------------------------------------------------------------\u001B[0m",
      "\u001B[1;31mIndexError\u001B[0m                                Traceback (most recent call last)",
      "Cell \u001B[1;32mIn[91], line 1\u001B[0m\n\u001B[1;32m----> 1\u001B[0m \u001B[43mcal_arr\u001B[49m\u001B[43m[\u001B[49m\u001B[38;5;241;43m0\u001B[39;49m\u001B[43m]\u001B[49m\u001B[43m[\u001B[49m\u001B[38;5;241;43m0\u001B[39;49m\u001B[43m]\u001B[49m\u001B[43m[\u001B[49m\u001B[43m:\u001B[49m\u001B[43m,\u001B[49m\u001B[43m \u001B[49m\u001B[38;5;241;43m0\u001B[39;49m\u001B[43m]\u001B[49m\n",
      "\u001B[1;31mIndexError\u001B[0m: too many indices for array: array is 1-dimensional, but 2 were indexed"
     ]
    }
   ],
   "execution_count": 91
  },
  {
   "metadata": {
    "ExecuteTime": {
     "end_time": "2024-10-18T11:40:03.011541Z",
     "start_time": "2024-10-18T11:40:03.011541Z"
    }
   },
   "cell_type": "code",
   "source": [
    "plt.subplots(1, 3, figsize=(27, 6))\n",
    "plt.subplot(1, 3, 1)\n",
    "plt.scatter(np.linspace(min(bdf.theta_p), max(bdf.theta_p), num=num_of_theta_intervals-1), cal_arr[0][0][:, 0])\n",
    "plt.errorbar(np.linspace(min(bdf.theta_p), max(bdf.theta_p), num=num_of_theta_intervals-1), cal_arr[0][0][:, 0], yerr=errs[0][0][:, 0], fmt='o')\n",
    "plt.ylim(())\n",
    "plt.subplot(1, 3, 2)\n",
    "plt.scatter(np.linspace(min(bdf.theta_p), max(bdf.theta_p), num=num_of_theta_intervals-1), cal_arr[0][0][:, 1])\n",
    "plt.errorbar(np.linspace(min(bdf.theta_p), max(bdf.theta_p), num=num_of_theta_intervals-1), cal_arr[0][0][:, 1], yerr=errs[0][0][:, 1], fmt='o')\n",
    "plt.subplot(1, 3, 3)\n",
    "plt.scatter(np.linspace(min(bdf.theta_p), max(bdf.theta_p), num=num_of_theta_intervals-1), cal_arr[0][0][:, 2])\n",
    "plt.errorbar(np.linspace(min(bdf.theta_p), max(bdf.theta_p), num=num_of_theta_intervals-1), cal_arr[0][0][:, 2], yerr=errs[0][0][:, 2], fmt='o')\n",
    "# plt.subplot(2, 3, 4)\n",
    "# plt.scatter(np.cos(np.linspace(min(bdf.theta_p), max(bdf.theta_p), num=num_of_theta_intervals-1)), cal_arr[0][0][:, 0])\n",
    "# plt.errorbar(np.cos(np.linspace(min(bdf.theta_p), max(bdf.theta_p), num=num_of_theta_intervals-1)), cal_arr[0][0][:, 0], yerr=errs[0][0][:, 0], fmt='o')\n",
    "# plt.subplot(2, 3, 5)\n",
    "# plt.scatter(np.cos(np.linspace(min(bdf.theta_p), max(bdf.theta_p), num=num_of_theta_intervals-1)), cal_arr[0][0][:, 1])\n",
    "# plt.errorbar(np.cos(np.linspace(min(bdf.theta_p), max(bdf.theta_p), num=num_of_theta_intervals-1)), cal_arr[0][0][:, 1], yerr=errs[0][0][:, 1], fmt='o')\n",
    "# plt.subplot(2, 3, 6)\n",
    "# plt.scatter(np.cos(np.linspace(min(bdf.theta_p), max(bdf.theta_p), num=num_of_theta_intervals-1)), cal_arr[0][0][:, 2])\n",
    "# plt.errorbar(np.cos(np.linspace(min(bdf.theta_p), max(bdf.theta_p), num=num_of_theta_intervals-1)), cal_arr[0][0][:, 2], yerr=errs[0][0][:, 2], fmt='o')\n",
    "plt.show()"
   ],
   "outputs": [],
   "execution_count": null
  },
  {
   "metadata": {
    "ExecuteTime": {
     "end_time": "2024-10-18T11:41:30.395216Z",
     "start_time": "2024-10-18T11:41:30.250605Z"
    }
   },
   "cell_type": "code",
   "source": [
    "plt.subplots(1, 3, figsize=(27, 6))\n",
    "\n",
    "plt.subplot(1, 3, 1)\n",
    "plt.plot((np.linspace(min(bdf.theta_p), max(bdf.theta_p))), pol2(np.cos(np.linspace(min(bdf.theta_p), max(bdf.theta_p))), *cal_arr[0][0][0:3]))\n",
    "# plt.ylim((0.945, 0.964))\n",
    "plt.subplot(1, 3, 2)\n",
    "plt.plot((np.linspace(min(bdf.theta_p), max(bdf.theta_p))), pol2(np.cos(np.linspace(min(bdf.theta_p), max(bdf.theta_p))), *cal_arr[0][0][3:6]))\n",
    "# plt.ylim((-27, 12))\n",
    "plt.subplot(1, 3, 3)\n",
    "plt.plot((np.linspace(min(bdf.theta_p), max(bdf.theta_p))), pol2(np.cos(np.linspace(min(bdf.theta_p), max(bdf.theta_p))), *cal_arr[0][0][6:9]))\n",
    "# plt.ylim((300, 390))\n",
    "plt.show()"
   ],
   "outputs": [
    {
     "data": {
      "text/plain": [
       "<Figure size 2700x600 with 3 Axes>"
      ],
      "image/png": "[encoded data removed]"
     },
     "metadata": {},
     "output_type": "display_data"
    }
   ],
   "execution_count": 96
  },
  {
   "metadata": {
    "ExecuteTime": {
     "end_time": "2024-10-18T11:41:31.262555Z",
     "start_time": "2024-10-18T11:41:31.254389Z"
    }
   },
   "cell_type": "code",
   "source": "bdf",
   "outputs": [
    {
     "data": {
      "text/plain": [
       "        r_c_mean    r_c_std   r_c_width     momentum      beta  signal_counts  \\\n",
       "0      37.282046  15.523336   53.760000  1408.464406  0.995126           40.0   \n",
       "1      34.971667  18.115836   60.480000   932.768102  0.988990           33.0   \n",
       "2      73.755915  58.008184  204.960000   770.366650  0.983981           92.0   \n",
       "3      33.467896  14.501161   43.680000   868.738138  0.987339           27.0   \n",
       "4      34.538068  14.141232   52.153319   891.133356  0.987956           38.0   \n",
       "...          ...        ...         ...          ...       ...            ...   \n",
       "19784  21.000000  13.095744   36.960000   517.175037  0.965461            8.0   \n",
       "19785  31.159836  19.610349   60.480000   554.111397  0.969712           35.0   \n",
       "19786  30.683805  14.406036   48.033041   713.275995  0.981389           32.0   \n",
       "19787  36.721910  15.286295   61.268628   614.955532  0.975199           27.0   \n",
       "19788  34.300000  16.895942   53.760000   703.000698  0.980856           24.0   \n",
       "\n",
       "       beta_group   theta_p  cos_theta_p  \\\n",
       "0            10.0  0.124085     0.992311   \n",
       "1             8.0  0.454187     0.898618   \n",
       "2             7.0  0.761376     0.723888   \n",
       "3             8.0  0.117904     0.993057   \n",
       "4             8.0  0.307330     0.953145   \n",
       "...           ...       ...          ...   \n",
       "19784         7.0  0.315050     0.950781   \n",
       "19785         7.0  0.668863     0.784528   \n",
       "19786         1.0  0.370776     0.932046   \n",
       "19787         7.0  0.212217     0.977566   \n",
       "19788         1.0  0.348391     0.939923   \n",
       "\n",
       "       unfixed_calculated_r_2d_4_rsigms_4_tsigms  \\\n",
       "0                                      49.649223   \n",
       "1                                      52.725422   \n",
       "2                                      59.152357   \n",
       "3                                      44.996531   \n",
       "4                                      46.784208   \n",
       "...                                          ...   \n",
       "19784                                  44.187813   \n",
       "19785                                  59.182045   \n",
       "19786                                  22.586773   \n",
       "19787                                  43.190265   \n",
       "19788                                  25.697639   \n",
       "\n",
       "       beta_from_calc_r_4_rsigms_4_tsigms  delta_beta_4_rsigms_4_tsigms  \\\n",
       "0                                0.987230                     -0.007896   \n",
       "1                                0.984346                     -0.004643   \n",
       "2                                0.979721                     -0.004261   \n",
       "3                                0.983631                     -0.003708   \n",
       "4                                0.983122                     -0.004834   \n",
       "...                                   ...                           ...   \n",
       "19784                            0.981696                     -0.002080   \n",
       "19785                            0.982459                     -0.001610   \n",
       "19786                            0.979127                      0.014416   \n",
       "19787                            0.981923                     -0.002736   \n",
       "19788                            0.978501                      0.013748   \n",
       "\n",
       "       eps_beta_4_rsigms_4_tsigms  \n",
       "0                       -0.793457  \n",
       "1                       -0.469519  \n",
       "2                       -0.433002  \n",
       "3                       -0.375521  \n",
       "4                       -0.489268  \n",
       "...                           ...  \n",
       "19784                   -0.211476  \n",
       "19785                   -0.163647  \n",
       "19786                    1.494285  \n",
       "19787                   -0.277844  \n",
       "19788                    1.424995  \n",
       "\n",
       "[19703 rows x 13 columns]"
      ],
      "text/html": [
       "<div>\n",
       "<style scoped>\n",
       "    .dataframe tbody tr th:only-of-type {\n",
       "        vertical-align: middle;\n",
       "    }\n",
       "\n",
       "    .dataframe tbody tr th {\n",
       "        vertical-align: top;\n",
       "    }\n",
       "\n",
       "    .dataframe thead th {\n",
       "        text-align: right;\n",
       "    }\n",
       "</style>\n",
       "<table border=\"1\" class=\"dataframe\">\n",
       "  <thead>\n",
       "    <tr style=\"text-align: right;\">\n",
       "      <th></th>\n",
       "      <th>r_c_mean</th>\n",
       "      <th>r_c_std</th>\n",
       "      <th>r_c_width</th>\n",
       "      <th>momentum</th>\n",
       "      <th>beta</th>\n",
       "      <th>signal_counts</th>\n",
       "      <th>beta_group</th>\n",
       "      <th>theta_p</th>\n",
       "      <th>cos_theta_p</th>\n",
       "      <th>unfixed_calculated_r_2d_4_rsigms_4_tsigms</th>\n",
       "      <th>beta_from_calc_r_4_rsigms_4_tsigms</th>\n",
       "      <th>delta_beta_4_rsigms_4_tsigms</th>\n",
       "      <th>eps_beta_4_rsigms_4_tsigms</th>\n",
       "    </tr>\n",
       "  </thead>\n",
       "  <tbody>\n",
       "    <tr>\n",
       "      <th>0</th>\n",
       "      <td>37.282046</td>\n",
       "      <td>15.523336</td>\n",
       "      <td>53.760000</td>\n",
       "      <td>1408.464406</td>\n",
       "      <td>0.995126</td>\n",
       "      <td>40.0</td>\n",
       "      <td>10.0</td>\n",
       "      <td>0.124085</td>\n",
       "      <td>0.992311</td>\n",
       "      <td>49.649223</td>\n",
       "      <td>0.987230</td>\n",
       "      <td>-0.007896</td>\n",
       "      <td>-0.793457</td>\n",
       "    </tr>\n",
       "    <tr>\n",
       "      <th>1</th>\n",
       "      <td>34.971667</td>\n",
       "      <td>18.115836</td>\n",
       "      <td>60.480000</td>\n",
       "      <td>932.768102</td>\n",
       "      <td>0.988990</td>\n",
       "      <td>33.0</td>\n",
       "      <td>8.0</td>\n",
       "      <td>0.454187</td>\n",
       "      <td>0.898618</td>\n",
       "      <td>52.725422</td>\n",
       "      <td>0.984346</td>\n",
       "      <td>-0.004643</td>\n",
       "      <td>-0.469519</td>\n",
       "    </tr>\n",
       "    <tr>\n",
       "      <th>2</th>\n",
       "      <td>73.755915</td>\n",
       "      <td>58.008184</td>\n",
       "      <td>204.960000</td>\n",
       "      <td>770.366650</td>\n",
       "      <td>0.983981</td>\n",
       "      <td>92.0</td>\n",
       "      <td>7.0</td>\n",
       "      <td>0.761376</td>\n",
       "      <td>0.723888</td>\n",
       "      <td>59.152357</td>\n",
       "      <td>0.979721</td>\n",
       "      <td>-0.004261</td>\n",
       "      <td>-0.433002</td>\n",
       "    </tr>\n",
       "    <tr>\n",
       "      <th>3</th>\n",
       "      <td>33.467896</td>\n",
       "      <td>14.501161</td>\n",
       "      <td>43.680000</td>\n",
       "      <td>868.738138</td>\n",
       "      <td>0.987339</td>\n",
       "      <td>27.0</td>\n",
       "      <td>8.0</td>\n",
       "      <td>0.117904</td>\n",
       "      <td>0.993057</td>\n",
       "      <td>44.996531</td>\n",
       "      <td>0.983631</td>\n",
       "      <td>-0.003708</td>\n",
       "      <td>-0.375521</td>\n",
       "    </tr>\n",
       "    <tr>\n",
       "      <th>4</th>\n",
       "      <td>34.538068</td>\n",
       "      <td>14.141232</td>\n",
       "      <td>52.153319</td>\n",
       "      <td>891.133356</td>\n",
       "      <td>0.987956</td>\n",
       "      <td>38.0</td>\n",
       "      <td>8.0</td>\n",
       "      <td>0.307330</td>\n",
       "      <td>0.953145</td>\n",
       "      <td>46.784208</td>\n",
       "      <td>0.983122</td>\n",
       "      <td>-0.004834</td>\n",
       "      <td>-0.489268</td>\n",
       "    </tr>\n",
       "    <tr>\n",
       "      <th>...</th>\n",
       "      <td>...</td>\n",
       "      <td>...</td>\n",
       "      <td>...</td>\n",
       "      <td>...</td>\n",
       "      <td>...</td>\n",
       "      <td>...</td>\n",
       "      <td>...</td>\n",
       "      <td>...</td>\n",
       "      <td>...</td>\n",
       "      <td>...</td>\n",
       "      <td>...</td>\n",
       "      <td>...</td>\n",
       "      <td>...</td>\n",
       "    </tr>\n",
       "    <tr>\n",
       "      <th>19784</th>\n",
       "      <td>21.000000</td>\n",
       "      <td>13.095744</td>\n",
       "      <td>36.960000</td>\n",
       "      <td>517.175037</td>\n",
       "      <td>0.965461</td>\n",
       "      <td>8.0</td>\n",
       "      <td>7.0</td>\n",
       "      <td>0.315050</td>\n",
       "      <td>0.950781</td>\n",
       "      <td>44.187813</td>\n",
       "      <td>0.981696</td>\n",
       "      <td>-0.002080</td>\n",
       "      <td>-0.211476</td>\n",
       "    </tr>\n",
       "    <tr>\n",
       "      <th>19785</th>\n",
       "      <td>31.159836</td>\n",
       "      <td>19.610349</td>\n",
       "      <td>60.480000</td>\n",
       "      <td>554.111397</td>\n",
       "      <td>0.969712</td>\n",
       "      <td>35.0</td>\n",
       "      <td>7.0</td>\n",
       "      <td>0.668863</td>\n",
       "      <td>0.784528</td>\n",
       "      <td>59.182045</td>\n",
       "      <td>0.982459</td>\n",
       "      <td>-0.001610</td>\n",
       "      <td>-0.163647</td>\n",
       "    </tr>\n",
       "    <tr>\n",
       "      <th>19786</th>\n",
       "      <td>30.683805</td>\n",
       "      <td>14.406036</td>\n",
       "      <td>48.033041</td>\n",
       "      <td>713.275995</td>\n",
       "      <td>0.981389</td>\n",
       "      <td>32.0</td>\n",
       "      <td>1.0</td>\n",
       "      <td>0.370776</td>\n",
       "      <td>0.932046</td>\n",
       "      <td>22.586773</td>\n",
       "      <td>0.979127</td>\n",
       "      <td>0.014416</td>\n",
       "      <td>1.494285</td>\n",
       "    </tr>\n",
       "    <tr>\n",
       "      <th>19787</th>\n",
       "      <td>36.721910</td>\n",
       "      <td>15.286295</td>\n",
       "      <td>61.268628</td>\n",
       "      <td>614.955532</td>\n",
       "      <td>0.975199</td>\n",
       "      <td>27.0</td>\n",
       "      <td>7.0</td>\n",
       "      <td>0.212217</td>\n",
       "      <td>0.977566</td>\n",
       "      <td>43.190265</td>\n",
       "      <td>0.981923</td>\n",
       "      <td>-0.002736</td>\n",
       "      <td>-0.277844</td>\n",
       "    </tr>\n",
       "    <tr>\n",
       "      <th>19788</th>\n",
       "      <td>34.300000</td>\n",
       "      <td>16.895942</td>\n",
       "      <td>53.760000</td>\n",
       "      <td>703.000698</td>\n",
       "      <td>0.980856</td>\n",
       "      <td>24.0</td>\n",
       "      <td>1.0</td>\n",
       "      <td>0.348391</td>\n",
       "      <td>0.939923</td>\n",
       "      <td>25.697639</td>\n",
       "      <td>0.978501</td>\n",
       "      <td>0.013748</td>\n",
       "      <td>1.424995</td>\n",
       "    </tr>\n",
       "  </tbody>\n",
       "</table>\n",
       "<p>19703 rows × 13 columns</p>\n",
       "</div>"
      ]
     },
     "execution_count": 97,
     "metadata": {},
     "output_type": "execute_result"
    }
   ],
   "execution_count": 97
  },
  {
   "metadata": {
    "ExecuteTime": {
     "end_time": "2024-10-18T15:12:54.002909Z",
     "start_time": "2024-10-18T15:12:53.879196Z"
    }
   },
   "cell_type": "code",
   "source": [
    "group = 8\n",
    "bdf_group = bdf[bdf.beta_group == group]\n",
    "plt.subplots(1, 3, figsize=(27, 6))\n",
    "\n",
    "plt.subplot(1, 3, 1)\n",
    "plt.hist((bdf_group.momentum / bdf_group.beta_from_calc_r_4_rsigms_4_tsigms * np.sqrt(1 - bdf_group.beta_from_calc_r_4_rsigms_4_tsigms ** 2)).dropna(), bins='auto')\n",
    "plt.subplot(1, 3, 2)\n",
    "plt.hist(bdf_group.theta_p, bins='auto')\n",
    "plt.subplot(1, 3, 3)\n",
    "plt.hist(bdf_group.momentum, bins='auto')\n",
    "plt.show()"
   ],
   "outputs": [
    {
     "data": {
      "text/plain": [
       "<Figure size 2700x600 with 3 Axes>"
      ],
      "image/png": "[encoded data removed]"
     },
     "metadata": {},
     "output_type": "display_data"
    }
   ],
   "execution_count": 117
  },
  {
   "metadata": {},
   "cell_type": "code",
   "outputs": [],
   "execution_count": null,
   "source": ""
  },
  {
   "metadata": {},
   "cell_type": "code",
   "source": [
    "bdf_slice = bdf.iloc[0000:1620]\n",
    "# bdf_slice = bdf.iloc[1000:2620]\n",
    "plt.hist((bdf_slice.momentum / bdf_slice.beta * np.sqrt(1 - bdf_slice.beta ** 2)), bins='doane')\n",
    "# plt.hist(bdf_slice.momentum, bins='auto')\n",
    "plt.show()"
   ],
   "outputs": [],
   "execution_count": null
  },
  {
   "metadata": {},
   "cell_type": "code",
   "source": [
    "\n",
    "plt.hist(bdf[round((bdf.momentum / bdf.beta * np.sqrt(1 - bdf.beta ** 2)), 2) == 139.57].beta, bins='auto')\n",
    "plt.show()"
   ],
   "outputs": [],
   "execution_count": null
  },
  {
   "metadata": {},
   "cell_type": "code",
   "source": "bdf[round((bdf.momentum / bdf.beta * np.sqrt(1 - bdf.beta ** 2)), 2) == 139.57].shape[0] \n",
   "outputs": [],
   "execution_count": null
  },
  {
   "metadata": {},
   "cell_type": "code",
   "source": "edf[round((edf.true_p / edf.beta * np.sqrt(1 - edf.beta ** 2)), 2) == 139.57]",
   "outputs": [],
   "execution_count": null
  },
  {
   "metadata": {},
   "cell_type": "code",
   "source": "len([sub.iloc[0] for _, sub in edf.true_p.groupby(level=0)])",
   "outputs": [],
   "execution_count": null
  },
  {
   "metadata": {},
   "cell_type": "code",
   "source": "round((bdf.momentum / bdf.beta * np.sqrt(1 - bdf.beta ** 2)), 2)",
   "outputs": [],
   "execution_count": null
  },
  {
   "metadata": {},
   "cell_type": "code",
   "source": "bdf",
   "outputs": [],
   "execution_count": null
  },
  {
   "metadata": {},
   "cell_type": "code",
   "source": "bdf.iloc[1621]",
   "outputs": [],
   "execution_count": null
  },
  {
   "metadata": {},
   "cell_type": "code",
   "source": "bdf_slice",
   "outputs": [],
   "execution_count": null
  },
  {
   "metadata": {},
   "cell_type": "code",
   "source": "(bdf_slice.momentum / bdf_slice.beta * np.sqrt(1 - bdf_slice.beta ** 2)).dropna().iloc[0:2000]",
   "outputs": [],
   "execution_count": null
  },
  {
   "metadata": {},
   "cell_type": "code",
   "source": "momentum_from_beta(0.985, 139.57)",
   "outputs": [],
   "execution_count": null
  },
  {
   "metadata": {},
   "cell_type": "code",
   "source": "momentum_from_beta(0.995704, 139.57)",
   "outputs": [],
   "execution_count": null
  },
  {
   "metadata": {},
   "cell_type": "code",
   "source": [
    "def beta_from_momentum(p, mass):\n",
    "    return p / np.sqrt(mass * mass + p * p)"
   ],
   "outputs": [],
   "execution_count": null
  },
  {
   "metadata": {},
   "cell_type": "code",
   "source": "beta_from_momentum(1500, 105.658)",
   "outputs": [],
   "execution_count": null
  },
  {
   "metadata": {},
   "cell_type": "code",
   "source": "",
   "outputs": [],
   "execution_count": null
  },
  {
   "metadata": {},
   "cell_type": "code",
   "source": "# edf.loc[30]",
   "outputs": [],
   "execution_count": null
  },
  {
   "metadata": {},
   "cell_type": "code",
   "source": "min(bdf.cos_theta_p)",
   "outputs": [],
   "execution_count": null
  },
  {
   "metadata": {},
   "cell_type": "code",
   "source": "ф",
   "outputs": [],
   "execution_count": null
  },
  {
   "metadata": {},
   "cell_type": "code",
   "source": "bdf[bdf.unfixed_calculated_r_2d_4_rsigms_4_tsigms.isna()] # All rings with intersections outside the ring itself",
   "outputs": [],
   "execution_count": null
  },
  {
   "metadata": {},
   "cell_type": "code",
   "source": "bdf.isna().sum()",
   "outputs": [],
   "execution_count": null
  },
  {
   "metadata": {},
   "cell_type": "code",
   "source": [
    "event = edf.loc[30]\n",
    "plt.subplot()\n",
    "plt.scatter(event.phi_c, event.theta_c)\n",
    "plt.show()\n",
    "plt.subplot()\n",
    "plt.gca().invert_yaxis()\n",
    "plt.scatter(event.rotated_x, event.rotated_y)\n",
    "plt.scatter(event.rotated_x_i, event.rotated_y_i)\n",
    "plt.show()"
   ],
   "outputs": [],
   "execution_count": null
  },
  {
   "metadata": {},
   "cell_type": "code",
   "source": "event",
   "outputs": [],
   "execution_count": null
  },
  {
   "metadata": {
    "ExecuteTime": {
     "end_time": "2024-10-18T11:43:12.325537Z",
     "start_time": "2024-10-18T11:43:12.320343Z"
    }
   },
   "cell_type": "code",
   "source": [
    "def betaGroupsRMS90(bdf: pd.DataFrame, avg_sigmas: tuple, avg_t_sigmas: tuple, n = 5):\n",
    "  beta_sigms = np.full((np.ptp(avg_sigmas), np.ptp(avg_t_sigmas), n), 0.)\n",
    "  beta_epss = np.full((np.ptp(avg_sigmas), np.ptp(avg_t_sigmas), n), 0.)\n",
    "  beta_sigms_sigms = np.full((np.ptp(avg_sigmas), np.ptp(avg_t_sigmas), n), 0.)\n",
    "\n",
    "  masses_mean = np.full((np.ptp(avg_sigmas), np.ptp(avg_t_sigmas), n), 0.)\n",
    "  masses_upper = np.full((np.ptp(avg_sigmas), np.ptp(avg_t_sigmas), n), 0.)\n",
    "  masses_lower = np.full((np.ptp(avg_sigmas), np.ptp(avg_t_sigmas), n), 0.)\n",
    "  \n",
    "  for group in range(1, n + 1):\n",
    "    data = bdf[bdf['param_group'] == group]\n",
    "    for i in range(np.ptp(avg_sigmas)):\n",
    "      for j in range(np.ptp(avg_t_sigmas)):\n",
    "        population_fourth_moment = np.mean(bdf[f'delta_beta_{i + avg_sigmas[0]}_rsigms_{j + avg_t_sigmas[0]}_tsigms'] ** 4)\n",
    "        sample_fourth_moment = np.mean(data[f'delta_beta_{i + avg_sigmas[0]}_rsigms_{j + avg_t_sigmas[0]}_tsigms'] ** 4)\n",
    "        # print(np.std(data[f'delta_beta_{i + avg_sigmas[0]}_rsigms_{j + avg_t_sigmas[0]}_tsigms']))\n",
    "        beta_sigms[i, j, group - 1] = rms90(data[f'delta_beta_{i + avg_sigmas[0]}_rsigms_{j + avg_t_sigmas[0]}_tsigms'])\n",
    "        # assert not np.isnan(beta_sigms[i, j, group - 1])\n",
    "        beta_epss[i, j, group - 1] = rms90(data[f'eps_beta_{i + avg_sigmas[0]}_rsigms_{j + avg_t_sigmas[0]}_tsigms'])\n",
    "        beta_sigms_sigms[i, j, group - 1] = np.sqrt(2 * np.abs(sample_fourth_moment - population_fourth_moment) / (data.shape[0]))\n",
    "              \n",
    "        masses_mean[i, j, group - 1] = np.mean((data.momentum / data.beta_from_calc_r_4_rsigms_4_tsigms * np.sqrt(1 - data.beta_from_calc_r_4_rsigms_4_tsigms ** 2)).dropna())\n",
    "        masses_upper[i, j, group - 1] = np.mean((data.momentum / (data.beta_from_calc_r_4_rsigms_4_tsigms - beta_sigms[i, j, group - 1]) * np.sqrt(1 - (data.beta_from_calc_r_4_rsigms_4_tsigms - beta_sigms[i, j, group - 1]) ** 2)).dropna()) - masses_mean[i, j, group - 1] \n",
    "        masses_lower[i, j, group - 1] = masses_mean[i, j, group - 1] - np.mean((data.momentum / (data.beta_from_calc_r_4_rsigms_4_tsigms + beta_sigms[i, j, group - 1]) * np.sqrt(1 - (data.beta_from_calc_r_4_rsigms_4_tsigms + beta_sigms[i, j, group - 1]) ** 2)).dropna())\n",
    "\n",
    "\n",
    "  return beta_sigms, beta_epss, beta_sigms_sigms, masses_mean, masses_upper, masses_lower"
   ],
   "outputs": [],
   "execution_count": 101
  },
  {
   "metadata": {
    "ExecuteTime": {
     "end_time": "2024-10-18T11:43:12.596055Z",
     "start_time": "2024-10-18T11:43:12.537132Z"
    }
   },
   "cell_type": "code",
   "source": [
    "plt.hist((bdf.momentum / bdf.beta_from_calc_r_4_rsigms_4_tsigms * np.sqrt(1 - bdf.beta_from_calc_r_4_rsigms_4_tsigms ** 2)).dropna(), bins='auto')\n",
    "plt.show()"
   ],
   "outputs": [
    {
     "name": "stderr",
     "output_type": "stream",
     "text": [
      "Z:\\Prog\\FARICH\\venv\\Lib\\site-packages\\pandas\\core\\arraylike.py:399: RuntimeWarning: invalid value encountered in sqrt\n",
      "  result = getattr(ufunc, method)(*inputs, **kwargs)\n"
     ]
    },
    {
     "data": {
      "text/plain": [
       "<Figure size 640x480 with 1 Axes>"
      ],
      "image/png": "[encoded data removed]"
     },
     "metadata": {},
     "output_type": "display_data"
    }
   ],
   "execution_count": 102
  },
  {
   "metadata": {
    "ExecuteTime": {
     "end_time": "2024-10-18T11:43:12.831871Z",
     "start_time": "2024-10-18T11:43:12.823409Z"
    }
   },
   "cell_type": "code",
   "source": [
    "def plot_final_graph(beta_sigms, beta_sigms_yerr, avg_sigmas, avg_t_sigmas, r_width, t_width, r_factor, t_factor, weighed, to_save=True, deg_lim=False, num_of_groups=10, iteration=0):\n",
    "  # labels = ['0', '1e3', '1e4', '1e5', '1e6']\n",
    "  pi_mass = 139.57\n",
    "  mu_mass = 105.65\n",
    "  ka_mass = 493.67\n",
    "  labels = ['0']\n",
    "  labels = ['DCR = ' + i + ' $Hz/mm^2$' for i in labels]\n",
    "  colors = ['c', 'y', 'g', 'r', 'm']\n",
    "  weight = 'weighed' if weighed else 'unweighed'\n",
    "  y = np.arange(1, num_of_groups + 1)\n",
    "  x = (y * (max(edf['beta']) - min(edf['beta'])) - max(edf['beta']) + (num_of_groups + 1) * min(edf['beta'])) / num_of_groups\n",
    "  required_separation = [(beta_from_momentum(momentum_from_beta(b, pi_mass), mu_mass) - b) / 3 for b in x]\n",
    "  fig, axs = plt.subplots(np.ptp(avg_sigmas), np.ptp(avg_t_sigmas), figsize=(10 * np.ptp(avg_t_sigmas), 10 * np.ptp(avg_sigmas)))\n",
    "  title = f'Method: N(r) / r; {weight} Avg\\nR Width = {r_width}mm, T Width = {t_width}ns\\nR step factor = {r_factor}, T step factor = {t_factor}'\n",
    "  if deg_lim:\n",
    "    title += '\\n' + r'$\\theta_p < 10\\deg$'\n",
    "  # fig.suptitle(title)\n",
    "\n",
    "  if np.ptp(avg_sigmas) > 1:\n",
    "    for i in range(np.ptp(avg_sigmas)):\n",
    "      for j in range(np.ptp(avg_t_sigmas)):\n",
    "        for k in range(beta_sigms.shape[0]):\n",
    "          axs[i, j].plot(x, beta_sigms[k, i, j], label=labels[k], c=colors[k])\n",
    "          axs[i, j].errorbar(x, beta_sigms[k, i, j], xerr=[np.diff(x)[0]/4 for _ in x], linestyle='', c=colors[k])\n",
    "          axs[i, j].errorbar(x, beta_sigms[k, i, j], yerr=beta_sigms_yerr[k, i, j], linestyle='', c=colors[k])\n",
    "        axs[i, j].legend(loc='upper right')\n",
    "        axs[i, j].set_xlabel('Beta Group')\n",
    "        axs[i, j].set_ylabel(r'RMS90($\\Delta\\beta$)')\n",
    "        axs[i, j].set_ylim((0, 0.004))\n",
    "        axs[i, j].set_title(f'Velocity resoultion for\\nr window width = {avg_sigmas[0] + i}$\\sigma$\\nt window width = {avg_t_sigmas[0] + j}$\\sigma$')\n",
    "        axs[i, j].grid()\n",
    "  elif np.ptp(avg_t_sigmas) > 1:\n",
    "    for j in range(np.ptp(avg_t_sigmas)):\n",
    "      for k in range(beta_sigms.shape[0]):\n",
    "        axs[j].plot(x, beta_sigms[k, 0, j], label=labels[k], c=colors[k])\n",
    "        axs[j].errorbar(x, beta_sigms[k, 0, j], xerr=[np.diff(x)[0]/4 for _ in x], linestyle='', c=colors[k])\n",
    "        axs[j].errorbar(x, beta_sigms[k, 0, j], yerr=beta_sigms_yerr[k, 0, j], linestyle='', c=colors[k])\n",
    "      axs[j].legend(loc='upper right')\n",
    "      axs[j].set_xlabel('Beta Group')\n",
    "      axs[j].set_ylabel(r'RMS90($\\Delta\\beta)$')\n",
    "      axs[j].set_ylim((0, 0.004))\n",
    "      axs[j].set_title(f'Velocity resoultion for\\nr window width = {avg_sigmas[0]}$\\sigma$\\nt window width = {avg_t_sigmas[0] + j}$\\sigma$')\n",
    "      axs[j].grid()\n",
    "  else:\n",
    "    for k in range(beta_sigms.shape[0]):\n",
    "      axs.plot(x, beta_sigms[k, 0, 0], label=labels[k], c=colors[k])\n",
    "      axs.errorbar(x, beta_sigms[k, 0, 0], xerr=[np.diff(x)[0]/4 for _ in x], linestyle='', c=colors[k])\n",
    "      axs.errorbar(x, beta_sigms[k, 0, 0], yerr=beta_sigms_yerr[k, 0, 0], linestyle='', c=colors[k])\n",
    "      axs.plot(x, required_separation, c='r', linestyle='--')\n",
    "    axs.legend(loc='upper right')\n",
    "    axs.set_xlabel('Beta Group')\n",
    "    axs.set_ylabel(r'RMS90($\\Delta\\beta$)')\n",
    "      # axs.set_ylim((0, 0.002))\n",
    "        # revert back\n",
    "    axs.set_ylim((0, 0.004))\n",
    "        \n",
    "        \n",
    "        \n",
    "    axs.set_title(f'Velocity resoultion for\\nr window width = {avg_sigmas[0]}$\\sigma$\\nt window width = {avg_t_sigmas[0]}$\\sigma$')\n",
    "    axs.grid()\n",
    "\n",
    "  if to_save:\n",
    "    filename = f'{weight}_avg_rw={r_width}_tw={t_width}_rs={r_factor}_ts={t_factor}_rsigms={avg_sigmas[0]}-{avg_sigmas[-1]-1}_tsigms={avg_t_sigmas[0]}-{avg_t_sigmas[-1]-1}'\n",
    "    if deg_lim:\n",
    "      filename += '_10deg'\n",
    "    filename += f'_{iteration}'\n",
    "    filename += '.png'\n",
    "    fig.savefig(os.path.join('results_barrel', f'{filename}'))\n",
    "    plt.close(fig)\n",
    "  else:\n",
    "    plt.show()"
   ],
   "outputs": [],
   "execution_count": 103
  },
  {
   "metadata": {
    "ExecuteTime": {
     "end_time": "2024-10-18T11:43:13.364985Z",
     "start_time": "2024-10-18T11:43:13.360046Z"
    }
   },
   "cell_type": "code",
   "source": [
    "def plot_final_mass_graph(mass_mean, mass_upper, mass_lower, avg_sigmas, avg_t_sigmas, r_width, t_width, r_factor, t_factor, weighed, to_save=True, deg_lim=False, num_of_groups=10, iteration=0):\n",
    "    labels = ['0']\n",
    "    labels = ['DCR = ' + i + ' $Hz/mm^2$' for i in labels]\n",
    "    colors = ['c', 'y', 'g', 'r', 'm']\n",
    "    weight = 'weighed' if weighed else 'unweighed'\n",
    "    pi_mass = 139.57\n",
    "    mu_mass = 105.65\n",
    "    ka_mass = 493.67\n",
    "    y = np.arange(1, num_of_groups + 1)\n",
    "    x = (y * (max(edf['beta']) - min(edf['beta'])) - max(edf['beta']) + (num_of_groups + 1) * min(edf['beta'])) / num_of_groups\n",
    "    \n",
    "    fig, axs = plt.subplots(1, 1, figsize=(10, 10))\n",
    "    title = f'Method: N(r) / r; {weight} Avg\\nR Width = {r_width}mm, T Width = {t_width}ns\\nR step factor = {r_factor}, T step factor = {t_factor}'\n",
    "    if deg_lim:\n",
    "        title += '\\n' + r'$\\theta_p < 10\\deg$'\n",
    "    for k in range(mass_mean.shape[0]):\n",
    "        axs.plot(x, mass_mean[k, 0], label=labels[k], c=colors[k])\n",
    "        axs.errorbar(x, mass_mean[k, 0], yerr= np.array(list(zip(mass_lower[k, 0], mass_upper[k, 0]))).T, linestyle='', c=colors[k])\n",
    "    \n",
    "    axs.plot((min(x), max(x)), (pi_mass, pi_mass), linestyle='--', c='red')\n",
    "    axs.plot((min(x), max(x)), (mu_mass, mu_mass), linestyle='--', c='red')\n",
    "    # axs.plot((min(x), max(x)), (ka_mass, ka_mass), linestyle='--', c='red')\n",
    "\n",
    "    axs.legend(loc='upper right')\n",
    "    axs.set_xlabel('Beta Group')\n",
    "    axs.set_ylabel(r'Measured Mass, MeV')\n",
    "    axs.set_title(f'Mass resoultion for\\nr window width = {avg_sigmas[0]}$\\sigma$\\nt window width = {avg_t_sigmas[0]}$\\sigma$')\n",
    "    axs.grid()\n",
    "    \n",
    "    if to_save:\n",
    "        filename = f'{weight}_avg_rw={r_width}_tw={t_width}_rs={r_factor}_ts={t_factor}_rsigms={avg_sigmas[0]}-{avg_sigmas[-1]-1}_tsigms={avg_t_sigmas[0]}-{avg_t_sigmas[-1]-1}'\n",
    "        if deg_lim:\n",
    "            filename += '_10deg'\n",
    "        filename += f'_{iteration}'\n",
    "        filename += '.png'\n",
    "        fig.savefig(os.path.join('results_barrel', f'{filename}'))\n",
    "        plt.close(fig)\n",
    "    else:\n",
    "        plt.show()"
   ],
   "outputs": [],
   "execution_count": 104
  },
  {
   "metadata": {
    "ExecuteTime": {
     "end_time": "2024-10-18T11:43:13.586197Z",
     "start_time": "2024-10-18T11:43:13.562950Z"
    }
   },
   "cell_type": "code",
   "source": [
    "bg = betaGroupsRMS90(bdf, avg_sigmas=avg_sigmas, avg_t_sigmas=avg_t_sigmas, n=num_of_groups)\n",
    "beta_sigms.append(bg[0])\n",
    "beta_sigms_yerr.append(bg[2])"
   ],
   "outputs": [
    {
     "name": "stderr",
     "output_type": "stream",
     "text": [
      "Z:\\Prog\\FARICH\\venv\\Lib\\site-packages\\pandas\\core\\arraylike.py:399: RuntimeWarning: invalid value encountered in sqrt\n",
      "  result = getattr(ufunc, method)(*inputs, **kwargs)\n"
     ]
    }
   ],
   "execution_count": 105
  },
  {
   "metadata": {
    "ExecuteTime": {
     "end_time": "2024-10-18T11:43:13.985514Z",
     "start_time": "2024-10-18T11:43:13.983053Z"
    }
   },
   "cell_type": "code",
   "source": "bg[3]",
   "outputs": [
    {
     "data": {
      "text/plain": [
       "array([[[152.54308728, 152.82214752, 154.70589908, 152.62443205,\n",
       "         149.46953597, 143.73440958, 145.06938831, 184.59852418,\n",
       "         173.21666755, 164.18674356]]])"
      ]
     },
     "execution_count": 106,
     "metadata": {},
     "output_type": "execute_result"
    }
   ],
   "execution_count": 106
  },
  {
   "metadata": {
    "ExecuteTime": {
     "end_time": "2024-10-18T11:43:14.196879Z",
     "start_time": "2024-10-18T11:43:14.194389Z"
    }
   },
   "cell_type": "code",
   "source": "bg[4]",
   "outputs": [
    {
     "data": {
      "text/plain": [
       "array([[[4.18892145, 3.46768883, 2.967056  , 2.69969711, 2.53983258,\n",
       "         2.50203379, 2.55660993, 3.56142246, 4.00211994, 4.64146943]]])"
      ]
     },
     "execution_count": 107,
     "metadata": {},
     "output_type": "execute_result"
    }
   ],
   "execution_count": 107
  },
  {
   "metadata": {
    "ExecuteTime": {
     "end_time": "2024-10-18T11:43:14.358881Z",
     "start_time": "2024-10-18T11:43:14.356234Z"
    }
   },
   "cell_type": "code",
   "source": "bg[5]",
   "outputs": [
    {
     "data": {
      "text/plain": [
       "array([[[4.29418302, 3.53841801, 3.0187374 , 2.74281982, 2.65318106,\n",
       "         2.59322701, 2.59797412, 3.62487654, 4.09398567, 4.76580155]]])"
      ]
     },
     "execution_count": 108,
     "metadata": {},
     "output_type": "execute_result"
    }
   ],
   "execution_count": 108
  },
  {
   "metadata": {
    "ExecuteTime": {
     "end_time": "2024-10-18T11:43:16.346536Z",
     "start_time": "2024-10-18T11:43:16.172950Z"
    }
   },
   "cell_type": "code",
   "source": "plot_final_mass_graph(bg[3], bg[4], bg[5], avg_sigmas, avg_t_sigmas, r_width, t_width, r_factor, t_factor, weighed, to_save=False, deg_lim=False, num_of_groups=num_of_groups, iteration=0)",
   "outputs": [
    {
     "data": {
      "text/plain": [
       "<Figure size 1000x1000 with 1 Axes>"
      ],
      "image/png": "[encoded data removed]"
     },
     "metadata": {},
     "output_type": "display_data"
    }
   ],
   "execution_count": 109
  },
  {
   "metadata": {},
   "cell_type": "code",
   "source": [
    "beta_sigms = np.array(beta_sigms)\n",
    "beta_sigms_yerr = np.array(beta_sigms_yerr)"
   ],
   "outputs": [],
   "execution_count": null
  },
  {
   "metadata": {},
   "cell_type": "code",
   "source": "",
   "outputs": [],
   "execution_count": null
  },
  {
   "metadata": {},
   "cell_type": "code",
   "source": "plot_final_graph(beta_sigms, beta_sigms_yerr, avg_sigmas, avg_t_sigmas, r_width, t_width, r_factor, t_factor, weighed, deg_lim=False, num_of_groups=num_of_groups, iteration=0)\n",
   "outputs": [],
   "execution_count": null
  },
  {
   "metadata": {},
   "cell_type": "code",
   "source": [
    "edf_d = edf[edf.theta_p <= 10. * np.pi / 180]\n",
    "edf_d = edf_d[edf_d.signal_counts >= 5]\n",
    "bdf_d = bdf[bdf.theta_p <= 10. * np.pi / 180]\n",
    "bdf_d = bdf_d[bdf_d.signal_counts >= 5]"
   ],
   "outputs": [],
   "execution_count": null
  },
  {
   "metadata": {},
   "cell_type": "code",
   "source": [
    "bg_deglim = betaGroupsRMS90(bdf_d, avg_sigmas=avg_sigmas, avg_t_sigmas=avg_t_sigmas, n=num_of_groups)\n",
    "beta_sigms_deglim.append(bg_deglim[0])\n",
    "beta_sigms_yerr_deglim.append(bg_deglim[2])"
   ],
   "outputs": [],
   "execution_count": null
  },
  {
   "metadata": {},
   "cell_type": "code",
   "source": "plot_final_mass_graph(bg_deglim[3], bg_deglim[4], bg_deglim[5], avg_sigmas, avg_t_sigmas, r_width, t_width, r_factor, t_factor, weighed, to_save=False, deg_lim=True, num_of_groups=num_of_groups, iteration=0)",
   "outputs": [],
   "execution_count": null
  },
  {
   "metadata": {},
   "cell_type": "code",
   "source": [
    "beta_sigms_deglim = np.array(beta_sigms_deglim)\n",
    "beta_sigms_yerr_deglim = np.array(beta_sigms_yerr_deglim)"
   ],
   "outputs": [],
   "execution_count": null
  },
  {
   "metadata": {},
   "cell_type": "code",
   "source": "plot_final_graph(beta_sigms_deglim, beta_sigms_yerr_deglim, avg_sigmas, avg_t_sigmas, r_width, t_width, r_factor, t_factor, weighed, deg_lim=True, num_of_groups=num_of_groups, iteration=0)",
   "outputs": [],
   "execution_count": null
  },
  {
   "metadata": {},
   "cell_type": "code",
   "source": "",
   "outputs": [],
   "execution_count": null
  },
  {
   "metadata": {},
   "cell_type": "code",
   "source": "bdf",
   "outputs": [],
   "execution_count": null
  },
  {
   "metadata": {},
   "cell_type": "code",
   "source": "ы",
   "outputs": [],
   "execution_count": null
  },
  {
   "metadata": {},
   "cell_type": "code",
   "source": [
    "plt.hist(bdf.beta, bins='auto')\n",
    "plt.xlabel('beta')\n",
    "plt.show()"
   ],
   "outputs": [],
   "execution_count": null
  },
  {
   "metadata": {},
   "cell_type": "code",
   "source": [
    "plt.subplot()\n",
    "plt.hist(bdf.cos_theta_p, bins='auto')\n",
    "plt.xlabel('cos_theta_p')\n",
    "plt.show()\n",
    "plt.subplot()\n",
    "plt.hist(bdf.theta_p, bins='auto')\n",
    "plt.xlabel('theta_p')\n",
    "plt.show()"
   ],
   "outputs": [],
   "execution_count": null
  },
  {
   "cell_type": "markdown",
   "source": [
    "primary particle - last with wv = 0"
   ],
   "metadata": {
    "collapsed": false
   }
  },
  {
   "metadata": {},
   "cell_type": "code",
   "source": "",
   "outputs": [],
   "execution_count": null
  },
  {
   "cell_type": "code",
   "source": [
    "# coordinates[:,3]\n",
    "lambdas = np.concatenate(coordinates[:,3])"
   ],
   "metadata": {
    "collapsed": false
   },
   "outputs": [],
   "execution_count": null
  },
  {
   "cell_type": "code",
   "source": [
    "lambdas.shape"
   ],
   "metadata": {
    "collapsed": false
   },
   "outputs": [],
   "execution_count": null
  },
  {
   "cell_type": "code",
   "source": [
    "lambdas.shape[0] / coordinates.shape[0]"
   ],
   "metadata": {
    "collapsed": false
   },
   "outputs": [],
   "execution_count": null
  },
  {
   "cell_type": "code",
   "source": [
    "plt.hist(lambdas, bins=PDE_wvs)\n",
    "plt.xlabel('Wavelength, nm')\n",
    "plt.title(f'Energy: 1500 MeV\\nMean: {round(lambdas.mean(), 1)} nm' + '\\n' + f'Std: {round(lambdas.std(), 1)} nm')\n",
    "plt.ylabel('Hits')\n",
    "# plt.xlim((200, 900))\n",
    "plt.show()"
   ],
   "metadata": {
    "collapsed": false
   },
   "outputs": [],
   "execution_count": null
  },
  {
   "cell_type": "code",
   "source": [
    "# delta_r = np.sqrt(x ** 2 + y ** 2 - 1000 ** 2)\n",
    "plt.scatter(coordinates[0][0], coordinates[0][2], c='red', s=3)\n",
    "# plt.plot(1000 * np.cos(np.linspace(0, 2*np.pi,1000)), 1000 * np.sin(np.linspace(0, 2*np.pi,1000)))\n",
    "# plt.xlim((-160, 50))\n",
    "# plt.ylim((-1100, -650))\n",
    "plt.xlabel('X, mm')\n",
    "plt.ylabel('Z, mm')\n",
    "# plt.title('p = 1500 MeV' + f'\\n{coordinates[0][0].shape[0]} Hits')\n",
    "plt.show()"
   ],
   "metadata": {
    "collapsed": false
   },
   "outputs": [],
   "execution_count": null
  },
  {
   "cell_type": "code",
   "source": [
    "print(coordinates[0][0].shape)"
   ],
   "metadata": {
    "collapsed": false
   },
   "outputs": [],
   "execution_count": null
  },
  {
   "cell_type": "code",
   "source": [
    "plt.scatter(PDE_wvs, PDEs)\n",
    "plt.show()"
   ],
   "metadata": {
    "collapsed": false
   },
   "outputs": [],
   "execution_count": null
  },
  {
   "cell_type": "code",
   "source": [],
   "metadata": {
    "collapsed": false
   },
   "outputs": [],
   "execution_count": null
  },
  {
   "cell_type": "code",
   "source": [
    "events_len = []\n",
    "for i in range(coordinates.shape[0]):\n",
    "    events_len.append(len(coordinates[i][0]))\n",
    "events_len = np.array(events_len)\n",
    "plt.hist(events_len, bins='auto')\n",
    "plt.xlabel('Hits in event')\n",
    "plt.title(f'Energy: 1500 MeV\\nMean: {round(events_len.mean(), 1)}' + '\\n' + f'Std: {round(events_len.std(), 1)}')\n",
    "plt.ylabel('Events')\n",
    "plt.show()"
   ],
   "metadata": {
    "collapsed": false
   },
   "outputs": [],
   "execution_count": null
  },
  {
   "cell_type": "markdown",
   "source": [
    "# End of main"
   ],
   "metadata": {
    "collapsed": false
   }
  },
  {
   "metadata": {},
   "cell_type": "code",
   "source": [
    "n = np.array(file_prototype['info_sim;1']['info_rad']['m_layers']['m_layers.first'].array())[0]\n",
    "n\n",
    "l = np.array(file_prototype['info_sim;1']['info_rad']['m_layers']['m_layers.second'].array())[0]\n",
    "l\n",
    "cos = 1 / n\n",
    "cos\n",
    "theta = np.arccos(cos)\n",
    "theta\n",
    "tg = np.tan(theta)\n",
    "tg\n",
    "2 * (tg[3] / tg[2] * (200 + l[3] / 2) - 200 - l[3])\n",
    "l[3] * (1 + l[3] / 200)\n",
    "l * tg"
   ],
   "outputs": [],
   "execution_count": null
  },
  {
   "metadata": {},
   "cell_type": "code",
   "source": [
    "d = 205\n",
    "L = 35\n",
    "W = 2.65 # 2.65\n",
    "l_calc = np.array((-(d * (d + L) ** 3) ** (1/4) + d + L, (d * (d + L) ** 3) ** (1/4) * (-(d * (d + L) ** 3) ** (1/4) + d + L) / (d + L), (d * (d + L))  * (-(d * (d + L) ** 3) ** (1/4) + d + L) / ((d * (d + L) ** 3) ** (1/2)), -(d ** 3 + 2 * d * d * L + d * L * L - (d * (d + L) ** 3) ** (3/4)) / (d + L) ** 2))\n",
    "l_calc"
   ],
   "outputs": [],
   "execution_count": null
  },
  {
   "metadata": {},
   "cell_type": "code",
   "source": [
    "n_calc = 1 / np.cos(np.arctan(W / l_calc))\n",
    "n_calc"
   ],
   "outputs": [],
   "execution_count": null
  },
  {
   "metadata": {},
   "cell_type": "code",
   "source": [
    "with open(r'data\\rindex.txt', 'r') as rindex:\n",
    "    aerogel_1050 = np.array(list(map(lambda y: np.array([float(y[0]), float(y[1][:-2])]), list(map(lambda x: x.split('*eV '), rindex.readlines())))))\n",
    "print(aerogel_1050[39])\n",
    "aerogel_1040 = np.array([aerogel_1050[:, 0], aerogel_1050[:, 1] * n_calc[0] / aerogel_1050[39][1]])\n",
    "aerogel_1043 = np.array([aerogel_1050[:, 0], aerogel_1050[:, 1] * n_calc[1] / aerogel_1050[39][1]])\n",
    "aerogel_1047 = np.array([aerogel_1050[:, 0], aerogel_1050[:, 1] * n_calc[2] / aerogel_1050[39][1]])\n",
    "aerogel_10506 = np.array([aerogel_1050[:, 0], aerogel_1050[:, 1] * n_calc[3] / aerogel_1050[39][1]])\n",
    "aerogel_1040\n",
    "# aerogel_10506\n",
    "plt.scatter(aerogel_1050[:,0], aerogel_1050[:,1], label='aerogel_1050')\n",
    "plt.scatter(aerogel_1040[0], aerogel_1040[1], label='aerogel_1040')\n",
    "plt.scatter(aerogel_1043[0], aerogel_1043[1], label='aerogel_1043')\n",
    "plt.scatter(aerogel_1047[0], aerogel_1047[1], label='aerogel_1047')\n",
    "plt.scatter(aerogel_10506[0], aerogel_10506[1], label='aerogel_10506')\n",
    "plt.xlabel('Energy, eV')\n",
    "plt.ylabel('n')\n",
    "plt.legend()\n",
    "plt.show()"
   ],
   "outputs": [],
   "execution_count": null
  },
  {
   "metadata": {},
   "cell_type": "code",
   "source": [
    "text_1040 = text_1043 = text_1047 = text_10506 = ''\n",
    "for i in range(aerogel_1040.shape[1]):\n",
    "    text_1040 += f'    {round(aerogel_1040[0][i], 5)}*eV {round(aerogel_1040[1][i], 5)}\\n'\n",
    "    text_1043 += f'    {round(aerogel_1043[0][i], 5)}*eV {round(aerogel_1043[1][i], 5)}\\n'\n",
    "    text_1047 += f'    {round(aerogel_1047[0][i], 5)}*eV {round(aerogel_1047[1][i], 5)}\\n'\n",
    "    text_10506 += f'    {round(aerogel_10506[0][i], 5)}*eV {round(aerogel_10506[1][i], 5)}\\n'\n",
    "with open(r'data\\rindex_1040.txt', 'w') as rindex:\n",
    "    rindex.write(text_1040)\n",
    "with open(r'data\\rindex_1043.txt', 'w') as rindex:\n",
    "    rindex.write(text_1043)\n",
    "with open(r'data\\rindex_1047.txt', 'w') as rindex:\n",
    "    rindex.write(text_1047)\n",
    "with open(r'data\\rindex_10506.txt', 'w') as rindex:\n",
    "    rindex.write(text_10506)"
   ],
   "outputs": [],
   "execution_count": null
  }
 ],
 "metadata": {
  "kernelspec": {
   "display_name": "Python 3",
   "language": "python",
   "name": "python3"
  },
  "language_info": {
   "codemirror_mode": {
    "name": "ipython",
    "version": 2
   },
   "file_extension": ".py",
   "mimetype": "text/x-python",
   "name": "python",
   "nbconvert_exporter": "python",
   "pygments_lexer": "ipython2",
   "version": "2.7.6"
  }
 },
 "nbformat": 4,
 "nbformat_minor": 0
}
