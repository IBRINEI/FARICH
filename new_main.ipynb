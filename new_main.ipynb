{
 "cells": [
  {
   "cell_type": "code",
   "metadata": {
    "collapsed": true,
    "ExecuteTime": {
     "end_time": "2024-10-15T13:46:34.273801Z",
     "start_time": "2024-10-15T13:46:32.699373Z"
    }
   },
   "source": [
    "import os, sys, time\n",
    "import uproot3 as uproot\n",
    "import numpy as np\n",
    "import pandas as pd\n",
    "import matplotlib.pyplot as plt\n",
    "from numbers import Integral\n",
    "from scipy.optimize import curve_fit\n",
    "from sklearn.linear_model import LinearRegression\n",
    "from scipy.stats import norm, truncnorm, foldnorm\n",
    "import warnings\n",
    "from time import perf_counter\n",
    "from scipy.spatial.distance import cdist\n",
    "from sklearn.decomposition import PCA\n",
    "\n",
    "\n",
    "from farich_functions import *"
   ],
   "outputs": [],
   "execution_count": 1
  },
  {
   "cell_type": "code",
   "source": [
    "# %load_ext autoreload\n",
    "# %autoreload 2"
   ],
   "metadata": {
    "collapsed": false,
    "ExecuteTime": {
     "end_time": "2024-10-15T13:46:34.276864Z",
     "start_time": "2024-10-15T13:46:34.274806Z"
    }
   },
   "outputs": [],
   "execution_count": 2
  },
  {
   "cell_type": "code",
   "source": "datadir = 'data'",
   "metadata": {
    "collapsed": false,
    "ExecuteTime": {
     "end_time": "2024-10-15T13:46:34.288340Z",
     "start_time": "2024-10-15T13:46:34.276864Z"
    }
   },
   "outputs": [],
   "execution_count": 3
  },
  {
   "cell_type": "code",
   "source": [
    "# filepath = os.path.join(datadir, 'fullsim_optical_1000_pi_1500_no.root')\n",
    "# filepath_fixed = os.path.join(datadir, 'fullsim_optical_1000_pi_1500_fixed.root')\n",
    "# filepath_fixed = os.path.join(datadir, 'fullsim_optical_10000_pi_500_1500_FARICH_35mm_no.root')\n",
    "filepath_fixed = os.path.join(datadir, 'fullsim_optical_10000_pi_500_1500_FARICH_35mm_no_no_trackers.root')\n",
    "filepath_low_energies = os.path.join(datadir, 'fullsim_optical_10000_pi_500_800_FARICH_35mm_no_no_trackers.root')\n",
    "# filepath_monodir = os.path.join(datadir, 'fullsim_optical_1000_pi_1500_monodir_no.root')\n",
    "filepath_monodir = os.path.join(datadir, 'fullsim_optical_10000_pi_1500_monodir_FARICH_no.root')\n",
    "\n",
    "# filepath_2pi = os.path.join(datadir, 'fullsim_optical_1000_pi_1500_2pi_phi.root')\n",
    "# filepath_prototype = os.path.join(datadir, 'farichsim_10kevt.root')\n",
    "# filepath_new = os.path.join(datadir, 'fullsim_optical_1000_pi_1500_spectre_test_3.root')"
   ],
   "metadata": {
    "collapsed": false,
    "ExecuteTime": {
     "end_time": "2024-10-15T13:46:34.304167Z",
     "start_time": "2024-10-15T13:46:34.289345Z"
    }
   },
   "outputs": [],
   "execution_count": 4
  },
  {
   "cell_type": "code",
   "source": [
    "# file = uproot.open(filepath)\n",
    "file = uproot.open(filepath_fixed)\n",
    "file_low= uproot.open(filepath_low_energies)\n",
    "# file = uproot.open(filepath_monodir)\n",
    "# file_2pi = uproot.open(filepath_2pi)\n",
    "# file_prototype = uproot.open(filepath_prototype)\n",
    "# file_new = uproot.open(filepath_new)"
   ],
   "metadata": {
    "collapsed": false,
    "ExecuteTime": {
     "end_time": "2024-10-15T13:46:34.344213Z",
     "start_time": "2024-10-15T13:46:34.304167Z"
    }
   },
   "outputs": [],
   "execution_count": 5
  },
  {
   "cell_type": "code",
   "source": [
    "plt.style.use('default')"
   ],
   "metadata": {
    "collapsed": false,
    "ExecuteTime": {
     "end_time": "2024-10-15T13:46:34.347792Z",
     "start_time": "2024-10-15T13:46:34.344213Z"
    }
   },
   "outputs": [],
   "execution_count": 6
  },
  {
   "metadata": {
    "ExecuteTime": {
     "end_time": "2024-10-15T13:46:34.349482Z",
     "start_time": "2024-10-15T13:46:34.347792Z"
    }
   },
   "cell_type": "code",
   "source": "",
   "outputs": [],
   "execution_count": 6
  },
  {
   "metadata": {
    "ExecuteTime": {
     "end_time": "2024-10-15T13:46:34.359087Z",
     "start_time": "2024-10-15T13:46:34.349482Z"
    }
   },
   "cell_type": "code",
   "source": "# plot_cyl(file, transposed=True)",
   "outputs": [],
   "execution_count": 7
  },
  {
   "cell_type": "code",
   "source": "# np.concatenate(np.array(file['events;1']['FarichBarrelG4Hits.postStepPosition.x'].array())).shape",
   "metadata": {
    "collapsed": false,
    "ExecuteTime": {
     "end_time": "2024-10-15T13:46:34.370140Z",
     "start_time": "2024-10-15T13:46:34.359087Z"
    }
   },
   "outputs": [],
   "execution_count": 8
  },
  {
   "cell_type": "markdown",
   "source": [
    "# Main (tmp obv)"
   ],
   "metadata": {
    "collapsed": false
   }
  },
  {
   "metadata": {
    "ExecuteTime": {
     "end_time": "2024-10-15T13:46:34.384277Z",
     "start_time": "2024-10-15T13:46:34.371145Z"
    }
   },
   "cell_type": "code",
   "source": [
    "def init_sipm_eff():\n",
    "    pdes_tmp = pd.read_csv('PDE.csv', sep=';', names=['A'])\n",
    "    t1 = []\n",
    "    t2 = []\n",
    "    for inedx, row in pdes_tmp.iterrows():\n",
    "        t1.append(float(row['A'].split(';')[0].replace(',', '.')))\n",
    "        t2.append(float(row['A'].split(';')[1].replace(',', '.')))\n",
    "    PDE_wvs = np.linspace(200, 900, 128)\n",
    "    PDEs = np.interp(PDE_wvs, t1, t2, left=0, right=0)\n",
    "    sipm_eff = fix_PDE_plot(PDEs, PDE_wvs)\n",
    "    return sipm_eff, PDE_wvs"
   ],
   "outputs": [],
   "execution_count": 9
  },
  {
   "cell_type": "code",
   "source": "sipm_eff, PDE_wvs = init_sipm_eff()",
   "metadata": {
    "collapsed": false,
    "ExecuteTime": {
     "end_time": "2024-10-15T13:46:34.407190Z",
     "start_time": "2024-10-15T13:46:34.384277Z"
    }
   },
   "outputs": [],
   "execution_count": 10
  },
  {
   "metadata": {
    "ExecuteTime": {
     "end_time": "2024-10-15T13:46:34.411036Z",
     "start_time": "2024-10-15T13:46:34.407190Z"
    }
   },
   "cell_type": "code",
   "source": "max(sipm_eff.values())",
   "outputs": [
    {
     "data": {
      "text/plain": [
       "0.55414"
      ]
     },
     "execution_count": 11,
     "metadata": {},
     "output_type": "execute_result"
    }
   ],
   "execution_count": 11
  },
  {
   "metadata": {},
   "cell_type": "markdown",
   "source": "максисмальное значение в старом моделировании - 38%"
  },
  {
   "metadata": {
    "ExecuteTime": {
     "end_time": "2024-10-15T13:46:34.424724Z",
     "start_time": "2024-10-15T13:46:34.411036Z"
    }
   },
   "cell_type": "code",
   "source": [
    "for key in sipm_eff.keys():\n",
    "    sipm_eff[key] = sipm_eff[key] / 0.55414 * 0.38"
   ],
   "outputs": [],
   "execution_count": 12
  },
  {
   "metadata": {
    "ExecuteTime": {
     "end_time": "2024-10-15T13:46:34.437598Z",
     "start_time": "2024-10-15T13:46:34.424724Z"
    }
   },
   "cell_type": "code",
   "source": "max(sipm_eff.values())",
   "outputs": [
    {
     "data": {
      "text/plain": [
       "0.38"
      ]
     },
     "execution_count": 13,
     "metadata": {},
     "output_type": "execute_result"
    }
   ],
   "execution_count": 13
  },
  {
   "cell_type": "code",
   "source": [
    "x_grid = np.arange(-3*norm_r * np.sin(np.pi / 27), 3*norm_r * np.sin(np.pi / 27), SIPM_CELL_SIZE)\n",
    "z_grid = np.arange(-1400, 1400, SIPM_CELL_SIZE)\n",
    "grid = (x_grid, z_grid, PDE_wvs)"
   ],
   "metadata": {
    "collapsed": false,
    "ExecuteTime": {
     "end_time": "2024-10-15T13:46:34.451085Z",
     "start_time": "2024-10-15T13:46:34.438612Z"
    }
   },
   "outputs": [],
   "execution_count": 14
  },
  {
   "metadata": {
    "ExecuteTime": {
     "end_time": "2024-10-15T13:46:34.453073Z",
     "start_time": "2024-10-15T13:46:34.451085Z"
    }
   },
   "cell_type": "code",
   "source": "",
   "outputs": [],
   "execution_count": 14
  },
  {
   "metadata": {
    "ExecuteTime": {
     "end_time": "2024-10-15T13:46:34.463921Z",
     "start_time": "2024-10-15T13:46:34.453073Z"
    }
   },
   "cell_type": "code",
   "source": [
    "def init_coords(file, MAXIMUM_EVENT_GROUP_NUMBER):\n",
    "    x = np.array(file[f'events;{MAXIMUM_EVENT_GROUP_NUMBER}']['FarichBarrelG4Hits.postStepPosition.x'].array())\n",
    "    y = np.array(file[f'events;{MAXIMUM_EVENT_GROUP_NUMBER}']['FarichBarrelG4Hits.postStepPosition.y'].array())\n",
    "    z = np.array(file[f'events;{MAXIMUM_EVENT_GROUP_NUMBER}']['FarichBarrelG4Hits.postStepPosition.z'].array())\n",
    "    wvs = 1239.841 / np.array(file[f'events;{MAXIMUM_EVENT_GROUP_NUMBER}']['FarichBarrelG4Hits.energy'].array()) * 1e-9\n",
    "    x3 = np.array(file[f'events;{MAXIMUM_EVENT_GROUP_NUMBER}']['allGenParticles.core.p4.px'].array())\n",
    "    y3 = np.array(file[f'events;{MAXIMUM_EVENT_GROUP_NUMBER}']['allGenParticles.core.p4.py'].array())\n",
    "    z3 = np.array(file[f'events;{MAXIMUM_EVENT_GROUP_NUMBER}']['allGenParticles.core.p4.pz'].array())\n",
    "    true_direction_coordinates = np.column_stack((x3, y3, z3))\n",
    "    for i in range(len(wvs)):\n",
    "        wvs[i] = lin_move_to_grid(wvs[i], grid[2])\n",
    "    coordinates = np.column_stack((x, y, z, wvs))\n",
    "    return coordinates, true_direction_coordinates"
   ],
   "outputs": [],
   "execution_count": 15
  },
  {
   "metadata": {
    "ExecuteTime": {
     "end_time": "2024-10-15T13:46:34.475456Z",
     "start_time": "2024-10-15T13:46:34.463921Z"
    }
   },
   "cell_type": "code",
   "source": [
    "MAXIMUM_EVENT_GROUP_NUMBER = 9 # 13\n",
    "MAXIMUM_EVENT_GROUP_NUMBER_LOW = 6"
   ],
   "outputs": [],
   "execution_count": 16
  },
  {
   "metadata": {
    "ExecuteTime": {
     "end_time": "2024-10-15T13:46:36.533339Z",
     "start_time": "2024-10-15T13:46:34.475456Z"
    }
   },
   "cell_type": "code",
   "source": "coordinates, true_direction_coordinates = init_coords(file, MAXIMUM_EVENT_GROUP_NUMBER)",
   "outputs": [],
   "execution_count": 17
  },
  {
   "metadata": {
    "ExecuteTime": {
     "end_time": "2024-10-15T13:46:38.011825Z",
     "start_time": "2024-10-15T13:46:36.533339Z"
    }
   },
   "cell_type": "code",
   "source": "coordinates_low, true_direction_coordinates_low = init_coords(file_low, MAXIMUM_EVENT_GROUP_NUMBER_LOW)",
   "outputs": [],
   "execution_count": 18
  },
  {
   "metadata": {
    "ExecuteTime": {
     "end_time": "2024-10-15T13:46:38.016334Z",
     "start_time": "2024-10-15T13:46:38.012827Z"
    }
   },
   "cell_type": "code",
   "source": [
    "coordinates = np.concatenate((coordinates, coordinates_low), axis=0)\n",
    "true_direction_coordinates = np.concatenate((true_direction_coordinates, true_direction_coordinates_low), axis=0)"
   ],
   "outputs": [],
   "execution_count": 19
  },
  {
   "cell_type": "code",
   "source": [
    "# x = np.array(file[f'events;{MAXIMUM_EVENT_GROUP_NUMBER}']['FarichBarrelG4Hits.postStepPosition.x'].array())\n",
    "# y = np.array(file[f'events;{MAXIMUM_EVENT_GROUP_NUMBER}']['FarichBarrelG4Hits.postStepPosition.y'].array())\n",
    "# z = np.array(file[f'events;{MAXIMUM_EVENT_GROUP_NUMBER}']['FarichBarrelG4Hits.postStepPosition.z'].array())\n",
    "# wvs = 1239.841 / np.array(file[f'events;{MAXIMUM_EVENT_GROUP_NUMBER}']['FarichBarrelG4Hits.energy'].array()) * 1e-9"
   ],
   "metadata": {
    "collapsed": false,
    "ExecuteTime": {
     "end_time": "2024-10-15T13:46:38.027619Z",
     "start_time": "2024-10-15T13:46:38.016852Z"
    }
   },
   "outputs": [],
   "execution_count": 20
  },
  {
   "cell_type": "code",
   "source": [
    "# x1 = np.array(file['events;2']['DriftChamberG4Hits.postStepPosition.x'].array())\n",
    "# y1 = np.array(file['events;2']['DriftChamberG4Hits.postStepPosition.y'].array())\n",
    "# z1 = np.array(file['events;2']['DriftChamberG4Hits.postStepPosition.z'].array())\n",
    "# drift_chamber_coordinates = np.column_stack((x1, y1, z1))"
   ],
   "metadata": {
    "collapsed": false,
    "ExecuteTime": {
     "end_time": "2024-10-15T13:46:38.039501Z",
     "start_time": "2024-10-15T13:46:38.027619Z"
    }
   },
   "outputs": [],
   "execution_count": 21
  },
  {
   "metadata": {
    "ExecuteTime": {
     "end_time": "2024-10-15T13:46:38.051568Z",
     "start_time": "2024-10-15T13:46:38.039501Z"
    }
   },
   "cell_type": "code",
   "source": [
    "# x2 = np.array(file['events;2']['TPCG4Hits.postStepPosition.x'].array())\n",
    "# y2 = np.array(file['events;2']['TPCG4Hits.postStepPosition.y'].array())\n",
    "# z2 = np.array(file['events;2']['TPCG4Hits.postStepPosition.z'].array())\n",
    "# tpc_coordinates = np.column_stack((x2, y2, z2))"
   ],
   "outputs": [],
   "execution_count": 22
  },
  {
   "metadata": {
    "ExecuteTime": {
     "end_time": "2024-10-15T13:46:38.062431Z",
     "start_time": "2024-10-15T13:46:38.051568Z"
    }
   },
   "cell_type": "code",
   "source": [
    "# x3 = np.array(file[f'events;{MAXIMUM_EVENT_GROUP_NUMBER}']['allGenParticles.core.p4.px'].array())\n",
    "# y3 = np.array(file[f'events;{MAXIMUM_EVENT_GROUP_NUMBER}']['allGenParticles.core.p4.py'].array())\n",
    "# z3 = np.array(file[f'events;{MAXIMUM_EVENT_GROUP_NUMBER}']['allGenParticles.core.p4.pz'].array())\n",
    "# true_direction_coordinates = np.column_stack((x3, y3, z3))"
   ],
   "outputs": [],
   "execution_count": 23
  },
  {
   "cell_type": "code",
   "source": [
    "# for i in range(len(wvs)):\n",
    "#     wvs[i] = lin_move_to_grid(wvs[i], grid[2])"
   ],
   "metadata": {
    "collapsed": false,
    "ExecuteTime": {
     "end_time": "2024-10-15T13:46:38.076301Z",
     "start_time": "2024-10-15T13:46:38.062431Z"
    }
   },
   "outputs": [],
   "execution_count": 24
  },
  {
   "metadata": {
    "ExecuteTime": {
     "end_time": "2024-10-15T13:46:38.078473Z",
     "start_time": "2024-10-15T13:46:38.076811Z"
    }
   },
   "cell_type": "code",
   "source": "",
   "outputs": [],
   "execution_count": 24
  },
  {
   "cell_type": "code",
   "source": [
    "# coordinates = np.column_stack((x, y, z, wvs))\n",
    "\n",
    "coordinates.shape"
   ],
   "metadata": {
    "collapsed": false,
    "ExecuteTime": {
     "end_time": "2024-10-15T13:46:38.088178Z",
     "start_time": "2024-10-15T13:46:38.080680Z"
    }
   },
   "outputs": [
    {
     "data": {
      "text/plain": [
       "(19996, 4)"
      ]
     },
     "execution_count": 25,
     "metadata": {},
     "output_type": "execute_result"
    }
   ],
   "execution_count": 25
  },
  {
   "metadata": {
    "ExecuteTime": {
     "end_time": "2024-10-15T13:46:38.089849Z",
     "start_time": "2024-10-15T13:46:38.088178Z"
    }
   },
   "cell_type": "code",
   "source": "",
   "outputs": [],
   "execution_count": 25
  },
  {
   "cell_type": "code",
   "source": [
    "idx_to_drop = []\n",
    "for i in range(coordinates.shape[0]):\n",
    "    if coordinates[i][0].shape[0] == 0:\n",
    "        idx_to_drop.append(i)"
   ],
   "metadata": {
    "collapsed": false,
    "ExecuteTime": {
     "end_time": "2024-10-15T13:46:38.101850Z",
     "start_time": "2024-10-15T13:46:38.089849Z"
    }
   },
   "outputs": [],
   "execution_count": 26
  },
  {
   "cell_type": "code",
   "source": [
    "coordinates = np.delete(coordinates, idx_to_drop, axis=0)\n",
    "# drift_chamber_coordinates = np.delete(drift_chamber_coordinates, idx_to_drop, axis=0)\n",
    "# tpc_coordinates = np.delete(tpc_coordinates, idx_to_drop, axis=0)\n",
    "true_direction_coordinates = np.delete(true_direction_coordinates, idx_to_drop, axis=0)\n",
    "print(coordinates.shape)\n",
    "# print(drift_chamber_coordinates.shape)\n",
    "# print(tpc_coordinates.shape)\n",
    "print(true_direction_coordinates.shape)"
   ],
   "metadata": {
    "collapsed": false,
    "ExecuteTime": {
     "end_time": "2024-10-15T13:46:38.113793Z",
     "start_time": "2024-10-15T13:46:38.101850Z"
    }
   },
   "outputs": [
    {
     "name": "stdout",
     "output_type": "stream",
     "text": [
      "(19987, 4)\n",
      "(19987, 3)\n"
     ]
    }
   ],
   "execution_count": 27
  },
  {
   "metadata": {
    "ExecuteTime": {
     "end_time": "2024-10-15T13:46:38.123893Z",
     "start_time": "2024-10-15T13:46:38.113793Z"
    }
   },
   "cell_type": "code",
   "source": [
    "# ev = 123\n",
    "# plot_event(coordinates[ev], None, None, np.stack([np.concatenate(true_direction_coordinates[ev]), np.concatenate(true_direction_coordinates[ev] * 3000)], axis=1))\n",
    "# То есть есть события, когда направление первичной частицы не попадает в кольцо. Почему?\n"
   ],
   "outputs": [],
   "execution_count": 28
  },
  {
   "cell_type": "code",
   "source": "sipm_sim(coordinates, sipm_eff)",
   "metadata": {
    "collapsed": false,
    "ExecuteTime": {
     "end_time": "2024-10-15T13:46:38.966630Z",
     "start_time": "2024-10-15T13:46:38.123893Z"
    }
   },
   "outputs": [],
   "execution_count": 29
  },
  {
   "cell_type": "code",
   "source": "# plot_cyl(file, coordinates, True)",
   "metadata": {
    "collapsed": false,
    "ExecuteTime": {
     "end_time": "2024-10-15T13:46:38.968873Z",
     "start_time": "2024-10-15T13:46:38.966630Z"
    }
   },
   "outputs": [],
   "execution_count": 30
  },
  {
   "cell_type": "code",
   "source": [
    "idx_to_drop = []\n",
    "for i in range(coordinates.shape[0]):\n",
    "    if coordinates[i][0].shape[0] == 0:\n",
    "        idx_to_drop.append(i)\n",
    "coordinates = np.delete(coordinates, idx_to_drop, axis=0)\n",
    "# drift_chamber_coordinates = np.delete(drift_chamber_coordinates, idx_to_drop, axis=0)\n",
    "# tpc_coordinates = np.delete(tpc_coordinates, idx_to_drop, axis=0)\n",
    "true_direction_coordinates = np.delete(true_direction_coordinates, idx_to_drop, axis=0)\n",
    "\n",
    "print(coordinates.shape)\n",
    "# print(drift_chamber_coordinates.shape)\n",
    "# print(tpc_coordinates.shape)\n",
    "print(true_direction_coordinates.shape)"
   ],
   "metadata": {
    "collapsed": false,
    "ExecuteTime": {
     "end_time": "2024-10-15T13:46:38.985314Z",
     "start_time": "2024-10-15T13:46:38.968873Z"
    }
   },
   "outputs": [
    {
     "name": "stdout",
     "output_type": "stream",
     "text": [
      "(19878, 4)\n",
      "(19878, 3)\n"
     ]
    }
   ],
   "execution_count": 31
  },
  {
   "metadata": {
    "ExecuteTime": {
     "end_time": "2024-10-15T13:46:39.486628Z",
     "start_time": "2024-10-15T13:46:38.985314Z"
    }
   },
   "cell_type": "code",
   "source": "main_angles = rotate_lines(true_direction_coordinates)",
   "outputs": [],
   "execution_count": 32
  },
  {
   "metadata": {
    "ExecuteTime": {
     "end_time": "2024-10-15T13:46:42.750421Z",
     "start_time": "2024-10-15T13:46:39.486628Z"
    }
   },
   "cell_type": "code",
   "source": "intersections = find_intersections(true_direction_coordinates)",
   "outputs": [],
   "execution_count": 33
  },
  {
   "metadata": {
    "ExecuteTime": {
     "end_time": "2024-10-15T13:46:42.823759Z",
     "start_time": "2024-10-15T13:46:42.750421Z"
    }
   },
   "cell_type": "code",
   "source": [
    "\n",
    "num = 30 # unturned events\n",
    "# plt.scatter(rotate_event(coordinates[0], main_angles[0])[:,0], rotate_event(coordinates[0], main_angles[0])[:,2])\n",
    "plt.scatter(coordinates[num][0], coordinates[num][2])\n",
    "plt.scatter(intersections[num][0], intersections[num][2])\n",
    "print(true_direction_coordinates[num])\n",
    "plt.show()"
   ],
   "outputs": [
    {
     "name": "stdout",
     "output_type": "stream",
     "text": [
      "[array([0.00329075]) array([1.06504879]) array([0.96075904])]\n"
     ]
    },
    {
     "data": {
      "text/plain": [
       "<Figure size 640x480 with 1 Axes>"
      ],
      "image/png": "[encoded data removed]"
     },
     "metadata": {},
     "output_type": "display_data"
    }
   ],
   "execution_count": 34
  },
  {
   "metadata": {
    "ExecuteTime": {
     "end_time": "2024-10-15T13:46:42.825360Z",
     "start_time": "2024-10-15T13:46:42.823759Z"
    }
   },
   "cell_type": "code",
   "source": "",
   "outputs": [],
   "execution_count": 34
  },
  {
   "metadata": {
    "ExecuteTime": {
     "end_time": "2024-10-15T13:46:42.827254Z",
     "start_time": "2024-10-15T13:46:42.825360Z"
    }
   },
   "cell_type": "code",
   "source": "# plot_event(coordinates[num], drift_chamber_coordinates[num],tpc_coordinates[num] , transposed=True)",
   "outputs": [],
   "execution_count": 35
  },
  {
   "cell_type": "code",
   "source": [
    "rotate_events(coordinates, main_angles)"
   ],
   "metadata": {
    "collapsed": false,
    "ExecuteTime": {
     "end_time": "2024-10-15T13:46:43.906383Z",
     "start_time": "2024-10-15T13:46:42.827254Z"
    }
   },
   "outputs": [],
   "execution_count": 36
  },
  {
   "cell_type": "code",
   "source": "# plot_cyl(file, coordinates)",
   "metadata": {
    "collapsed": false,
    "ExecuteTime": {
     "end_time": "2024-10-15T13:46:43.909334Z",
     "start_time": "2024-10-15T13:46:43.906887Z"
    }
   },
   "outputs": [],
   "execution_count": 37
  },
  {
   "cell_type": "code",
   "source": [
    "move_events_to_grid(coordinates, grid)"
   ],
   "metadata": {
    "collapsed": false,
    "ExecuteTime": {
     "end_time": "2024-10-15T13:46:47.781151Z",
     "start_time": "2024-10-15T13:46:43.909334Z"
    }
   },
   "outputs": [],
   "execution_count": 38
  },
  {
   "cell_type": "code",
   "source": "# plot_cyl(file, coordinates, True)",
   "metadata": {
    "collapsed": false,
    "ExecuteTime": {
     "end_time": "2024-10-15T13:46:47.783418Z",
     "start_time": "2024-10-15T13:46:47.781151Z"
    }
   },
   "outputs": [],
   "execution_count": 39
  },
  {
   "cell_type": "code",
   "source": [
    "# num = 2\n",
    "# # plt.scatter(rotate_event(coordinates[0], main_angles[0])[:,0], rotate_event(coordinates[0], main_angles[0])[:,2])\n",
    "# plt.scatter(coordinates[num][0], coordinates[num][2])\n",
    "# plt.scatter(intersections[num][0], intersections[num][2])\n",
    "# plt.show()"
   ],
   "metadata": {
    "collapsed": false,
    "ExecuteTime": {
     "end_time": "2024-10-15T13:46:47.794666Z",
     "start_time": "2024-10-15T13:46:47.783418Z"
    }
   },
   "outputs": [],
   "execution_count": 40
  },
  {
   "cell_type": "code",
   "source": [
    "r_c = (coordinates[:,0] - intersections[:,0]) ** 2 + (coordinates[:,1] - intersections[:,1]) ** 2"
   ],
   "metadata": {
    "collapsed": false,
    "ExecuteTime": {
     "end_time": "2024-10-15T13:46:47.867647Z",
     "start_time": "2024-10-15T13:46:47.794666Z"
    }
   },
   "outputs": [],
   "execution_count": 41
  },
  {
   "metadata": {
    "ExecuteTime": {
     "end_time": "2024-10-15T13:46:47.873412Z",
     "start_time": "2024-10-15T13:46:47.867647Z"
    }
   },
   "cell_type": "code",
   "source": "repeat_nums = np.array([coord[0].shape[0] for coord in coordinates])",
   "outputs": [],
   "execution_count": 42
  },
  {
   "cell_type": "code",
   "source": [
    "edf = pd.DataFrame(coordinates, columns=['x_c', 'y_c', 'z_c', 'wv_c'])\n",
    "edf['r_c'] = r_c"
   ],
   "metadata": {
    "collapsed": false,
    "ExecuteTime": {
     "end_time": "2024-10-15T13:46:47.885838Z",
     "start_time": "2024-10-15T13:46:47.873412Z"
    }
   },
   "outputs": [],
   "execution_count": 43
  },
  {
   "cell_type": "code",
   "source": [
    "unraveled_data = {col: [] for col in edf.columns}\n",
    "row_indices = []\n",
    "\n",
    "# Iterate over the DataFrame and unravel the arrays\n",
    "for i, row in edf.iterrows():\n",
    "    max_length = max(len(row[col]) for col in edf.columns)\n",
    "    for k in range(max_length):\n",
    "        row_indices.append((i, k))\n",
    "        for col in edf.columns:\n",
    "            if k < len(row[col]):\n",
    "                unraveled_data[col].append(row[col][k])\n",
    "            else:\n",
    "                unraveled_data[col].append(np.nan)  # Handle cases where arrays are of different lengths\n",
    "\n",
    "# Create a new DataFrame from the unraveled data\n",
    "unraveled_df = pd.DataFrame(unraveled_data)\n",
    "\n",
    "# Create a MultiIndex for the rows\n",
    "multi_index = pd.MultiIndex.from_tuples(row_indices, names=['entry', 'subentry'])\n",
    "unraveled_df.index = multi_index\n"
   ],
   "metadata": {
    "collapsed": false,
    "ExecuteTime": {
     "end_time": "2024-10-15T13:46:54.962983Z",
     "start_time": "2024-10-15T13:46:47.886347Z"
    }
   },
   "outputs": [],
   "execution_count": 44
  },
  {
   "cell_type": "code",
   "source": [
    "unraveled_df['r_c'] = np.sqrt(unraveled_df.r_c)"
   ],
   "metadata": {
    "collapsed": false,
    "ExecuteTime": {
     "end_time": "2024-10-15T13:46:54.967885Z",
     "start_time": "2024-10-15T13:46:54.962983Z"
    }
   },
   "outputs": [],
   "execution_count": 45
  },
  {
   "cell_type": "code",
   "source": [
    "edf = unraveled_df"
   ],
   "metadata": {
    "collapsed": false,
    "ExecuteTime": {
     "end_time": "2024-10-15T13:46:54.977067Z",
     "start_time": "2024-10-15T13:46:54.967885Z"
    }
   },
   "outputs": [],
   "execution_count": 46
  },
  {
   "metadata": {
    "ExecuteTime": {
     "end_time": "2024-10-15T13:46:54.994421Z",
     "start_time": "2024-10-15T13:46:54.977067Z"
    }
   },
   "cell_type": "code",
   "source": [
    "edf['x_i'] = np.repeat(intersections[:,0], repeat_nums, axis=0)\n",
    "edf['z_i'] = np.repeat(intersections[:,2], repeat_nums, axis=0)"
   ],
   "outputs": [],
   "execution_count": 47
  },
  {
   "metadata": {
    "ExecuteTime": {
     "end_time": "2024-10-15T13:46:55.053778Z",
     "start_time": "2024-10-15T13:46:54.994421Z"
    }
   },
   "cell_type": "code",
   "source": "x = y = z = x3 = y3 = z3 = unraveled_data = row_indices = main_angles = intersections = wvs = coordinates = file = coordinates_low = file_low = 0",
   "outputs": [],
   "execution_count": 48
  },
  {
   "metadata": {
    "ExecuteTime": {
     "end_time": "2024-10-15T13:46:55.064771Z",
     "start_time": "2024-10-15T13:46:55.053778Z"
    }
   },
   "cell_type": "code",
   "source": "# edf[edf.wv_c < 1]",
   "outputs": [],
   "execution_count": 49
  },
  {
   "metadata": {
    "ExecuteTime": {
     "end_time": "2024-10-15T13:46:55.075927Z",
     "start_time": "2024-10-15T13:46:55.064771Z"
    }
   },
   "cell_type": "code",
   "source": [
    "# min_r_c = []\n",
    "# for entry, subentry in edf[edf.wv_c < 1].r_c.groupby(level=0):\n",
    "#     # print(min(subentry))\n",
    "#     min_r_c.append(min(subentry))"
   ],
   "outputs": [],
   "execution_count": 50
  },
  {
   "metadata": {
    "ExecuteTime": {
     "end_time": "2024-10-15T13:46:55.087254Z",
     "start_time": "2024-10-15T13:46:55.076437Z"
    }
   },
   "cell_type": "code",
   "source": "# min_r_c = np.array(min_r_c)",
   "outputs": [],
   "execution_count": 51
  },
  {
   "metadata": {
    "ExecuteTime": {
     "end_time": "2024-10-15T13:46:55.098349Z",
     "start_time": "2024-10-15T13:46:55.087254Z"
    }
   },
   "cell_type": "code",
   "source": "# min_r_c.shape",
   "outputs": [],
   "execution_count": 52
  },
  {
   "metadata": {
    "ExecuteTime": {
     "end_time": "2024-10-15T13:46:55.109986Z",
     "start_time": "2024-10-15T13:46:55.098349Z"
    }
   },
   "cell_type": "code",
   "source": "/",
   "outputs": [
    {
     "data": {
      "text/plain": [
       "()"
      ]
     },
     "execution_count": 53,
     "metadata": {},
     "output_type": "execute_result"
    }
   ],
   "execution_count": 53
  },
  {
   "cell_type": "code",
   "source": [
    "plt.hist(edf[edf.r_c<1000].r_c, bins='doane')\n",
    "plt.show()"
   ],
   "metadata": {
    "collapsed": false,
    "ExecuteTime": {
     "end_time": "2024-10-15T13:46:55.226720Z",
     "start_time": "2024-10-15T13:46:55.109986Z"
    }
   },
   "outputs": [
    {
     "data": {
      "text/plain": [
       "<Figure size 640x480 with 1 Axes>"
      ],
      "image/png": "[encoded data removed]"
     },
     "metadata": {},
     "output_type": "display_data"
    }
   ],
   "execution_count": 54
  },
  {
   "metadata": {
    "ExecuteTime": {
     "end_time": "2024-10-15T13:46:55.660959Z",
     "start_time": "2024-10-15T13:46:55.226720Z"
    }
   },
   "cell_type": "code",
   "source": [
    "bdf = pd.DataFrame()\n",
    "edf['t_c'] = np.zeros(edf.shape[0])\n",
    "edf.drop('y_c', axis=1, inplace=True)\n",
    "edf.rename(columns={'z_c': 'y_c', 'z_i': 'y_i'}, inplace=True)\n",
    "edf['z_c'] = np.zeros(edf.shape[0]) + 2000\n",
    "edf['true_p'] = np.repeat(np.linalg.norm(true_direction_coordinates.astype('float'), axis=1)*1000, repeat_nums, axis=0)\n",
    "edf['beta'] = edf.true_p / np.sqrt(139.57 ** 2 + edf.true_p ** 2)\n",
    "edf['nx_p'] = np.repeat((true_direction_coordinates / np.array([np.linalg.norm(true_direction_coordinates.astype('float'), axis=1) for i in range(3)]).T).astype('float')\n",
    "[:,0], repeat_nums, axis=0)\n",
    "edf['ny_p'] = np.repeat((true_direction_coordinates / np.array([np.linalg.norm(true_direction_coordinates.astype('float'), axis=1) for i in range(3)]).T).astype('float')\n",
    "[:,2], repeat_nums, axis=0)\n",
    "edf['nz_p'] = np.repeat((true_direction_coordinates / np.array([np.linalg.norm(true_direction_coordinates.astype('float'), axis=1) for i in range(3)]).T).astype('float')\n",
    "[:,1], repeat_nums, axis=0)"
   ],
   "outputs": [
    {
     "name": "stderr",
     "output_type": "stream",
     "text": [
      "C:\\Users\\BRINE\\AppData\\Local\\Temp\\ipykernel_4464\\1986587013.py:6: DeprecationWarning: Conversion of an array with ndim > 0 to a scalar is deprecated, and will error in future. Ensure you extract a single element from your array before performing this operation. (Deprecated NumPy 1.25.)\n",
      "  edf['true_p'] = np.repeat(np.linalg.norm(true_direction_coordinates.astype('float'), axis=1)*1000, repeat_nums, axis=0)\n",
      "C:\\Users\\BRINE\\AppData\\Local\\Temp\\ipykernel_4464\\1986587013.py:8: DeprecationWarning: Conversion of an array with ndim > 0 to a scalar is deprecated, and will error in future. Ensure you extract a single element from your array before performing this operation. (Deprecated NumPy 1.25.)\n",
      "  edf['nx_p'] = np.repeat((true_direction_coordinates / np.array([np.linalg.norm(true_direction_coordinates.astype('float'), axis=1) for i in range(3)]).T).astype('float')\n",
      "C:\\Users\\BRINE\\AppData\\Local\\Temp\\ipykernel_4464\\1986587013.py:10: DeprecationWarning: Conversion of an array with ndim > 0 to a scalar is deprecated, and will error in future. Ensure you extract a single element from your array before performing this operation. (Deprecated NumPy 1.25.)\n",
      "  edf['ny_p'] = np.repeat((true_direction_coordinates / np.array([np.linalg.norm(true_direction_coordinates.astype('float'), axis=1) for i in range(3)]).T).astype('float')\n",
      "C:\\Users\\BRINE\\AppData\\Local\\Temp\\ipykernel_4464\\1986587013.py:12: DeprecationWarning: Conversion of an array with ndim > 0 to a scalar is deprecated, and will error in future. Ensure you extract a single element from your array before performing this operation. (Deprecated NumPy 1.25.)\n",
      "  edf['nz_p'] = np.repeat((true_direction_coordinates / np.array([np.linalg.norm(true_direction_coordinates.astype('float'), axis=1) for i in range(3)]).T).astype('float')\n"
     ]
    }
   ],
   "execution_count": 55
  },
  {
   "metadata": {
    "ExecuteTime": {
     "end_time": "2024-10-15T13:46:55.667504Z",
     "start_time": "2024-10-15T13:46:55.660959Z"
    }
   },
   "cell_type": "code",
   "source": "true_direction_coordinates = repeat_nums = true_direction_coordinates_low = 0",
   "outputs": [],
   "execution_count": 56
  },
  {
   "metadata": {
    "ExecuteTime": {
     "end_time": "2024-10-15T13:46:55.682793Z",
     "start_time": "2024-10-15T13:46:55.667504Z"
    }
   },
   "cell_type": "code",
   "source": "edf.shape[0]",
   "outputs": [
    {
     "data": {
      "text/plain": [
       "624325"
      ]
     },
     "execution_count": 57,
     "metadata": {},
     "output_type": "execute_result"
    }
   ],
   "execution_count": 57
  },
  {
   "metadata": {
    "ExecuteTime": {
     "end_time": "2024-10-15T13:46:55.694749Z",
     "start_time": "2024-10-15T13:46:55.683297Z"
    }
   },
   "cell_type": "code",
   "source": [
    "idf = pd.DataFrame()\n",
    "idf['W'] = [35.]\n",
    "# idf['W'] = [40.]\n",
    "\n",
    "idf['zdis'] = [800.]\n",
    "idf['distance'] = [205.] # 200\n",
    "idf['n_mean'] = [1.04511]\n",
    "# \n",
    "# idf['n_mean'] = [1.0502]\n",
    "\n",
    "idf['pixel_size'] = [3.16]"
   ],
   "outputs": [],
   "execution_count": 58
  },
  {
   "metadata": {
    "ExecuteTime": {
     "end_time": "2024-10-15T13:46:55.709914Z",
     "start_time": "2024-10-15T13:46:55.694749Z"
    }
   },
   "cell_type": "code",
   "source": "idf",
   "outputs": [
    {
     "data": {
      "text/plain": [
       "      W   zdis  distance   n_mean  pixel_size\n",
       "0  35.0  800.0     205.0  1.04511        3.16"
      ],
      "text/html": [
       "<div>\n",
       "<style scoped>\n",
       "    .dataframe tbody tr th:only-of-type {\n",
       "        vertical-align: middle;\n",
       "    }\n",
       "\n",
       "    .dataframe tbody tr th {\n",
       "        vertical-align: top;\n",
       "    }\n",
       "\n",
       "    .dataframe thead th {\n",
       "        text-align: right;\n",
       "    }\n",
       "</style>\n",
       "<table border=\"1\" class=\"dataframe\">\n",
       "  <thead>\n",
       "    <tr style=\"text-align: right;\">\n",
       "      <th></th>\n",
       "      <th>W</th>\n",
       "      <th>zdis</th>\n",
       "      <th>distance</th>\n",
       "      <th>n_mean</th>\n",
       "      <th>pixel_size</th>\n",
       "    </tr>\n",
       "  </thead>\n",
       "  <tbody>\n",
       "    <tr>\n",
       "      <th>0</th>\n",
       "      <td>35.0</td>\n",
       "      <td>800.0</td>\n",
       "      <td>205.0</td>\n",
       "      <td>1.04511</td>\n",
       "      <td>3.16</td>\n",
       "    </tr>\n",
       "  </tbody>\n",
       "</table>\n",
       "</div>"
      ]
     },
     "execution_count": 59,
     "metadata": {},
     "output_type": "execute_result"
    }
   ],
   "execution_count": 59
  },
  {
   "metadata": {
    "ExecuteTime": {
     "end_time": "2024-10-15T13:46:55.739799Z",
     "start_time": "2024-10-15T13:46:55.709914Z"
    }
   },
   "cell_type": "code",
   "source": "edf = applySpaceCut(edf)",
   "outputs": [],
   "execution_count": 60
  },
  {
   "metadata": {
    "ExecuteTime": {
     "end_time": "2024-10-15T13:46:55.793903Z",
     "start_time": "2024-10-15T13:46:55.739799Z"
    }
   },
   "cell_type": "code",
   "source": "planeRecalculation(edf, idf)",
   "outputs": [
    {
     "name": "stderr",
     "output_type": "stream",
     "text": [
      "Z:\\Prog\\FARICH\\farich_functions.py:513: FutureWarning: Calling float on a single element Series is deprecated and will raise a TypeError in the future. Use float(ser.iloc[0]) instead\n",
      "  alpha = (float(dist)) / N[:, 2]\n",
      "Z:\\Prog\\FARICH\\farich_functions.py:526: SettingWithCopyWarning: \n",
      "A value is trying to be set on a copy of a slice from a DataFrame.\n",
      "Try using .loc[row_indexer,col_indexer] = value instead\n",
      "\n",
      "See the caveats in the documentation: https://pandas.pydata.org/pandas-docs/stable/user_guide/indexing.html#returning-a-view-versus-a-copy\n",
      "  edf[\"t_c\"] = edf[\"t_c\"] + np.sign(R_new[:, 2] - R[:, 2]) * t_dif\n",
      "Z:\\Prog\\FARICH\\farich_functions.py:528: SettingWithCopyWarning: \n",
      "A value is trying to be set on a copy of a slice from a DataFrame.\n",
      "Try using .loc[row_indexer,col_indexer] = value instead\n",
      "\n",
      "See the caveats in the documentation: https://pandas.pydata.org/pandas-docs/stable/user_guide/indexing.html#returning-a-view-versus-a-copy\n",
      "  edf[\"recalculated_x\"] = R_new[:, 0]\n",
      "Z:\\Prog\\FARICH\\farich_functions.py:529: SettingWithCopyWarning: \n",
      "A value is trying to be set on a copy of a slice from a DataFrame.\n",
      "Try using .loc[row_indexer,col_indexer] = value instead\n",
      "\n",
      "See the caveats in the documentation: https://pandas.pydata.org/pandas-docs/stable/user_guide/indexing.html#returning-a-view-versus-a-copy\n",
      "  edf[\"recalculated_y\"] = R_new[:, 1]\n",
      "Z:\\Prog\\FARICH\\farich_functions.py:530: SettingWithCopyWarning: \n",
      "A value is trying to be set on a copy of a slice from a DataFrame.\n",
      "Try using .loc[row_indexer,col_indexer] = value instead\n",
      "\n",
      "See the caveats in the documentation: https://pandas.pydata.org/pandas-docs/stable/user_guide/indexing.html#returning-a-view-versus-a-copy\n",
      "  edf[\"recalculated_z\"] = R_new[:, 2]\n"
     ]
    }
   ],
   "execution_count": 61
  },
  {
   "metadata": {
    "ExecuteTime": {
     "end_time": "2024-10-15T13:46:55.800104Z",
     "start_time": "2024-10-15T13:46:55.793903Z"
    }
   },
   "cell_type": "code",
   "source": [
    "edf['x_p'] = np.zeros(edf.shape[0])\n",
    "edf['y_p'] = np.zeros(edf.shape[0])\n",
    "edf['z_p'] = np.zeros(edf.shape[0])\n"
   ],
   "outputs": [
    {
     "name": "stderr",
     "output_type": "stream",
     "text": [
      "C:\\Users\\BRINE\\AppData\\Local\\Temp\\ipykernel_4464\\210028248.py:1: SettingWithCopyWarning: \n",
      "A value is trying to be set on a copy of a slice from a DataFrame.\n",
      "Try using .loc[row_indexer,col_indexer] = value instead\n",
      "\n",
      "See the caveats in the documentation: https://pandas.pydata.org/pandas-docs/stable/user_guide/indexing.html#returning-a-view-versus-a-copy\n",
      "  edf['x_p'] = np.zeros(edf.shape[0])\n",
      "C:\\Users\\BRINE\\AppData\\Local\\Temp\\ipykernel_4464\\210028248.py:2: SettingWithCopyWarning: \n",
      "A value is trying to be set on a copy of a slice from a DataFrame.\n",
      "Try using .loc[row_indexer,col_indexer] = value instead\n",
      "\n",
      "See the caveats in the documentation: https://pandas.pydata.org/pandas-docs/stable/user_guide/indexing.html#returning-a-view-versus-a-copy\n",
      "  edf['y_p'] = np.zeros(edf.shape[0])\n",
      "C:\\Users\\BRINE\\AppData\\Local\\Temp\\ipykernel_4464\\210028248.py:3: SettingWithCopyWarning: \n",
      "A value is trying to be set on a copy of a slice from a DataFrame.\n",
      "Try using .loc[row_indexer,col_indexer] = value instead\n",
      "\n",
      "See the caveats in the documentation: https://pandas.pydata.org/pandas-docs/stable/user_guide/indexing.html#returning-a-view-versus-a-copy\n",
      "  edf['z_p'] = np.zeros(edf.shape[0])\n"
     ]
    }
   ],
   "execution_count": 62
  },
  {
   "metadata": {
    "ExecuteTime": {
     "end_time": "2024-10-15T13:46:55.978059Z",
     "start_time": "2024-10-15T13:46:55.800104Z"
    }
   },
   "cell_type": "code",
   "source": "planeRotation(edf)",
   "outputs": [
    {
     "name": "stderr",
     "output_type": "stream",
     "text": [
      "Z:\\Prog\\FARICH\\farich_functions.py:571: SettingWithCopyWarning: \n",
      "A value is trying to be set on a copy of a slice from a DataFrame.\n",
      "Try using .loc[row_indexer,col_indexer] = value instead\n",
      "\n",
      "See the caveats in the documentation: https://pandas.pydata.org/pandas-docs/stable/user_guide/indexing.html#returning-a-view-versus-a-copy\n",
      "  edf[\"rotated_x\"] = rotated_R[:, 0]\n",
      "Z:\\Prog\\FARICH\\farich_functions.py:572: SettingWithCopyWarning: \n",
      "A value is trying to be set on a copy of a slice from a DataFrame.\n",
      "Try using .loc[row_indexer,col_indexer] = value instead\n",
      "\n",
      "See the caveats in the documentation: https://pandas.pydata.org/pandas-docs/stable/user_guide/indexing.html#returning-a-view-versus-a-copy\n",
      "  edf[\"rotated_y\"] = rotated_R[:, 1]\n",
      "Z:\\Prog\\FARICH\\farich_functions.py:573: SettingWithCopyWarning: \n",
      "A value is trying to be set on a copy of a slice from a DataFrame.\n",
      "Try using .loc[row_indexer,col_indexer] = value instead\n",
      "\n",
      "See the caveats in the documentation: https://pandas.pydata.org/pandas-docs/stable/user_guide/indexing.html#returning-a-view-versus-a-copy\n",
      "  edf[\"rotated_z\"] = rotated_R[:, 2]\n",
      "Z:\\Prog\\FARICH\\farich_functions.py:574: SettingWithCopyWarning: \n",
      "A value is trying to be set on a copy of a slice from a DataFrame.\n",
      "Try using .loc[row_indexer,col_indexer] = value instead\n",
      "\n",
      "See the caveats in the documentation: https://pandas.pydata.org/pandas-docs/stable/user_guide/indexing.html#returning-a-view-versus-a-copy\n",
      "  edf[\"rotated_x_i\"] = rotated_R_i[:, 0]\n",
      "Z:\\Prog\\FARICH\\farich_functions.py:575: SettingWithCopyWarning: \n",
      "A value is trying to be set on a copy of a slice from a DataFrame.\n",
      "Try using .loc[row_indexer,col_indexer] = value instead\n",
      "\n",
      "See the caveats in the documentation: https://pandas.pydata.org/pandas-docs/stable/user_guide/indexing.html#returning-a-view-versus-a-copy\n",
      "  edf[\"rotated_y_i\"] = rotated_R_i[:, 1]\n",
      "Z:\\Prog\\FARICH\\farich_functions.py:576: SettingWithCopyWarning: \n",
      "A value is trying to be set on a copy of a slice from a DataFrame.\n",
      "Try using .loc[row_indexer,col_indexer] = value instead\n",
      "\n",
      "See the caveats in the documentation: https://pandas.pydata.org/pandas-docs/stable/user_guide/indexing.html#returning-a-view-versus-a-copy\n",
      "  edf[\"rotated_z_i\"] = rotated_R_i[:, 2]\n",
      "Z:\\Prog\\FARICH\\farich_functions.py:577: SettingWithCopyWarning: \n",
      "A value is trying to be set on a copy of a slice from a DataFrame.\n",
      "Try using .loc[row_indexer,col_indexer] = value instead\n",
      "\n",
      "See the caveats in the documentation: https://pandas.pydata.org/pandas-docs/stable/user_guide/indexing.html#returning-a-view-versus-a-copy\n",
      "  edf[\"rotated_nx_p\"] = rotated_n[:, 0]\n",
      "Z:\\Prog\\FARICH\\farich_functions.py:578: SettingWithCopyWarning: \n",
      "A value is trying to be set on a copy of a slice from a DataFrame.\n",
      "Try using .loc[row_indexer,col_indexer] = value instead\n",
      "\n",
      "See the caveats in the documentation: https://pandas.pydata.org/pandas-docs/stable/user_guide/indexing.html#returning-a-view-versus-a-copy\n",
      "  edf[\"rotated_ny_p\"] = rotated_n[:, 1]\n",
      "Z:\\Prog\\FARICH\\farich_functions.py:579: SettingWithCopyWarning: \n",
      "A value is trying to be set on a copy of a slice from a DataFrame.\n",
      "Try using .loc[row_indexer,col_indexer] = value instead\n",
      "\n",
      "See the caveats in the documentation: https://pandas.pydata.org/pandas-docs/stable/user_guide/indexing.html#returning-a-view-versus-a-copy\n",
      "  edf[\"rotated_nz_p\"] = rotated_n[:, 2]\n"
     ]
    }
   ],
   "execution_count": 63
  },
  {
   "metadata": {
    "ExecuteTime": {
     "end_time": "2024-10-15T13:46:56.031903Z",
     "start_time": "2024-10-15T13:46:55.978059Z"
    }
   },
   "cell_type": "code",
   "source": "edf = applySecondSpaceCut(edf)",
   "outputs": [],
   "execution_count": 64
  },
  {
   "metadata": {
    "ExecuteTime": {
     "end_time": "2024-10-15T13:46:59.724531Z",
     "start_time": "2024-10-15T13:46:56.031903Z"
    }
   },
   "cell_type": "code",
   "source": [
    "bdf = pd.DataFrame()\n",
    "edf_to_bdf(edf.r_c.groupby(level=0).transform('mean'), bdf)\n",
    "bdf.rename(columns={'r_c': 'r_c_mean'}, inplace=True)\n",
    "edf_to_bdf(edf.r_c.groupby(level=0).transform('std'), bdf)\n",
    "bdf.rename(columns={'r_c': 'r_c_std'}, inplace=True)\n",
    "edf_to_bdf(edf.r_c.groupby(level=0).transform(lambda x: x.max() - x.min()), bdf)\n",
    "bdf.rename(columns={'r_c': 'r_c_width'}, inplace=True)\n",
    "edf_to_bdf(edf.true_p, bdf)\n",
    "bdf.rename(columns={'true_p': 'momentum'}, inplace=True)"
   ],
   "outputs": [],
   "execution_count": 65
  },
  {
   "metadata": {
    "ExecuteTime": {
     "end_time": "2024-10-15T13:46:59.897150Z",
     "start_time": "2024-10-15T13:46:59.724531Z"
    }
   },
   "cell_type": "code",
   "source": "edf",
   "outputs": [
    {
     "data": {
      "text/plain": [
       "                       x_c     y_c        wv_c        r_c        x_i  \\\n",
       "entry subentry                                                         \n",
       "0     0         106.240131  145.60  514.173228  35.000917  71.239214   \n",
       "      1         112.960131   68.32  437.007874  41.720917  71.239214   \n",
       "      2         123.040131  125.44  348.818898  51.800917  71.239214   \n",
       "      3          99.520131  148.96  486.614173  28.280917  71.239214   \n",
       "      4         123.040131  128.80  376.377953  51.800917  71.239214   \n",
       "...                    ...     ...         ...        ...        ...   \n",
       "19877 4         -11.359869 -395.36  580.314961  13.596974   2.237105   \n",
       "      5         -14.719869 -341.60  425.984252  16.956974   2.237105   \n",
       "      6          32.320131 -381.92  558.267717  30.083026   2.237105   \n",
       "      7          25.600131 -388.64  409.448819  23.363026   2.237105   \n",
       "      8          18.880131 -341.60  767.716535  16.643026   2.237105   \n",
       "\n",
       "                       y_i       t_c     z_c       true_p      beta  ...  z_p  \\\n",
       "entry subentry                                                       ...        \n",
       "0     0         102.379707 -0.022938  2000.0  1408.464406  0.995126  ...  0.0   \n",
       "      1         102.379707  0.001716  2000.0  1408.464406  0.995126  ...  0.0   \n",
       "      2         102.379707 -0.020076  2000.0  1408.464406  0.995126  ...  0.0   \n",
       "      3         102.379707 -0.022493  2000.0  1408.464406  0.995126  ...  0.0   \n",
       "      4         102.379707 -0.021214  2000.0  1408.464406  0.995126  ...  0.0   \n",
       "...                    ...       ...     ...          ...       ...  ...  ...   \n",
       "19877 4        -363.199793 -0.037854  2000.0   511.674644  0.964753  ...  0.0   \n",
       "      5        -363.199793  0.025961  2000.0   511.674644  0.964753  ...  0.0   \n",
       "      6        -363.199793 -0.022385  2000.0   511.674644  0.964753  ...  0.0   \n",
       "      7        -363.199793 -0.030241  2000.0   511.674644  0.964753  ...  0.0   \n",
       "      8        -363.199793  0.025712  2000.0   511.674644  0.964753  ...  0.0   \n",
       "\n",
       "                rotated_x   rotated_y    rotated_z  rotated_x_i  rotated_y_i  \\\n",
       "entry subentry                                                                 \n",
       "0     0        -35.725632  -58.381565  2000.059575   -70.691475  -101.592538   \n",
       "      1        -28.965012 -135.685128  2000.059575   -70.691475  -101.592538   \n",
       "      2        -19.006587  -78.438008  2000.059575   -70.691475  -101.592538   \n",
       "      3        -42.406714  -55.040504  2000.059575   -70.691475  -101.592538   \n",
       "      4        -19.013148  -75.090711  2000.059575   -70.691475  -101.592538   \n",
       "...                   ...         ...          ...          ...          ...   \n",
       "19877 4        -15.561297  308.171074  2003.839929    -2.102706   341.379863   \n",
       "      5        -19.176939  364.054275  2003.839929    -2.102706   341.379863   \n",
       "      6         27.815032  321.963144  2003.839929    -2.102706   341.379863   \n",
       "      7         21.088445  315.050330  2003.839929    -2.102706   341.379863   \n",
       "      8         14.643030  364.043961  2003.839929    -2.102706   341.379863   \n",
       "\n",
       "                rotated_z_i  rotated_nx_p  rotated_ny_p  rotated_nz_p  \n",
       "entry subentry                                                         \n",
       "0     0         2000.059575     -0.035277     -0.050698      0.998091  \n",
       "      1         2000.059575     -0.035277     -0.050698      0.998091  \n",
       "      2         2000.059575     -0.035277     -0.050698      0.998091  \n",
       "      3         2000.059575     -0.035277     -0.050698      0.998091  \n",
       "      4         2000.059575     -0.035277     -0.050698      0.998091  \n",
       "...                     ...           ...           ...           ...  \n",
       "19877 4         2003.839929     -0.001034      0.167943      0.985796  \n",
       "      5         2003.839929     -0.001034      0.167943      0.985796  \n",
       "      6         2003.839929     -0.001034      0.167943      0.985796  \n",
       "      7         2003.839929     -0.001034      0.167943      0.985796  \n",
       "      8         2003.839929     -0.001034      0.167943      0.985796  \n",
       "\n",
       "[618844 rows x 28 columns]"
      ],
      "text/html": [
       "<div>\n",
       "<style scoped>\n",
       "    .dataframe tbody tr th:only-of-type {\n",
       "        vertical-align: middle;\n",
       "    }\n",
       "\n",
       "    .dataframe tbody tr th {\n",
       "        vertical-align: top;\n",
       "    }\n",
       "\n",
       "    .dataframe thead th {\n",
       "        text-align: right;\n",
       "    }\n",
       "</style>\n",
       "<table border=\"1\" class=\"dataframe\">\n",
       "  <thead>\n",
       "    <tr style=\"text-align: right;\">\n",
       "      <th></th>\n",
       "      <th></th>\n",
       "      <th>x_c</th>\n",
       "      <th>y_c</th>\n",
       "      <th>wv_c</th>\n",
       "      <th>r_c</th>\n",
       "      <th>x_i</th>\n",
       "      <th>y_i</th>\n",
       "      <th>t_c</th>\n",
       "      <th>z_c</th>\n",
       "      <th>true_p</th>\n",
       "      <th>beta</th>\n",
       "      <th>...</th>\n",
       "      <th>z_p</th>\n",
       "      <th>rotated_x</th>\n",
       "      <th>rotated_y</th>\n",
       "      <th>rotated_z</th>\n",
       "      <th>rotated_x_i</th>\n",
       "      <th>rotated_y_i</th>\n",
       "      <th>rotated_z_i</th>\n",
       "      <th>rotated_nx_p</th>\n",
       "      <th>rotated_ny_p</th>\n",
       "      <th>rotated_nz_p</th>\n",
       "    </tr>\n",
       "    <tr>\n",
       "      <th>entry</th>\n",
       "      <th>subentry</th>\n",
       "      <th></th>\n",
       "      <th></th>\n",
       "      <th></th>\n",
       "      <th></th>\n",
       "      <th></th>\n",
       "      <th></th>\n",
       "      <th></th>\n",
       "      <th></th>\n",
       "      <th></th>\n",
       "      <th></th>\n",
       "      <th></th>\n",
       "      <th></th>\n",
       "      <th></th>\n",
       "      <th></th>\n",
       "      <th></th>\n",
       "      <th></th>\n",
       "      <th></th>\n",
       "      <th></th>\n",
       "      <th></th>\n",
       "      <th></th>\n",
       "      <th></th>\n",
       "    </tr>\n",
       "  </thead>\n",
       "  <tbody>\n",
       "    <tr>\n",
       "      <th rowspan=\"5\" valign=\"top\">0</th>\n",
       "      <th>0</th>\n",
       "      <td>106.240131</td>\n",
       "      <td>145.60</td>\n",
       "      <td>514.173228</td>\n",
       "      <td>35.000917</td>\n",
       "      <td>71.239214</td>\n",
       "      <td>102.379707</td>\n",
       "      <td>-0.022938</td>\n",
       "      <td>2000.0</td>\n",
       "      <td>1408.464406</td>\n",
       "      <td>0.995126</td>\n",
       "      <td>...</td>\n",
       "      <td>0.0</td>\n",
       "      <td>-35.725632</td>\n",
       "      <td>-58.381565</td>\n",
       "      <td>2000.059575</td>\n",
       "      <td>-70.691475</td>\n",
       "      <td>-101.592538</td>\n",
       "      <td>2000.059575</td>\n",
       "      <td>-0.035277</td>\n",
       "      <td>-0.050698</td>\n",
       "      <td>0.998091</td>\n",
       "    </tr>\n",
       "    <tr>\n",
       "      <th>1</th>\n",
       "      <td>112.960131</td>\n",
       "      <td>68.32</td>\n",
       "      <td>437.007874</td>\n",
       "      <td>41.720917</td>\n",
       "      <td>71.239214</td>\n",
       "      <td>102.379707</td>\n",
       "      <td>0.001716</td>\n",
       "      <td>2000.0</td>\n",
       "      <td>1408.464406</td>\n",
       "      <td>0.995126</td>\n",
       "      <td>...</td>\n",
       "      <td>0.0</td>\n",
       "      <td>-28.965012</td>\n",
       "      <td>-135.685128</td>\n",
       "      <td>2000.059575</td>\n",
       "      <td>-70.691475</td>\n",
       "      <td>-101.592538</td>\n",
       "      <td>2000.059575</td>\n",
       "      <td>-0.035277</td>\n",
       "      <td>-0.050698</td>\n",
       "      <td>0.998091</td>\n",
       "    </tr>\n",
       "    <tr>\n",
       "      <th>2</th>\n",
       "      <td>123.040131</td>\n",
       "      <td>125.44</td>\n",
       "      <td>348.818898</td>\n",
       "      <td>51.800917</td>\n",
       "      <td>71.239214</td>\n",
       "      <td>102.379707</td>\n",
       "      <td>-0.020076</td>\n",
       "      <td>2000.0</td>\n",
       "      <td>1408.464406</td>\n",
       "      <td>0.995126</td>\n",
       "      <td>...</td>\n",
       "      <td>0.0</td>\n",
       "      <td>-19.006587</td>\n",
       "      <td>-78.438008</td>\n",
       "      <td>2000.059575</td>\n",
       "      <td>-70.691475</td>\n",
       "      <td>-101.592538</td>\n",
       "      <td>2000.059575</td>\n",
       "      <td>-0.035277</td>\n",
       "      <td>-0.050698</td>\n",
       "      <td>0.998091</td>\n",
       "    </tr>\n",
       "    <tr>\n",
       "      <th>3</th>\n",
       "      <td>99.520131</td>\n",
       "      <td>148.96</td>\n",
       "      <td>486.614173</td>\n",
       "      <td>28.280917</td>\n",
       "      <td>71.239214</td>\n",
       "      <td>102.379707</td>\n",
       "      <td>-0.022493</td>\n",
       "      <td>2000.0</td>\n",
       "      <td>1408.464406</td>\n",
       "      <td>0.995126</td>\n",
       "      <td>...</td>\n",
       "      <td>0.0</td>\n",
       "      <td>-42.406714</td>\n",
       "      <td>-55.040504</td>\n",
       "      <td>2000.059575</td>\n",
       "      <td>-70.691475</td>\n",
       "      <td>-101.592538</td>\n",
       "      <td>2000.059575</td>\n",
       "      <td>-0.035277</td>\n",
       "      <td>-0.050698</td>\n",
       "      <td>0.998091</td>\n",
       "    </tr>\n",
       "    <tr>\n",
       "      <th>4</th>\n",
       "      <td>123.040131</td>\n",
       "      <td>128.80</td>\n",
       "      <td>376.377953</td>\n",
       "      <td>51.800917</td>\n",
       "      <td>71.239214</td>\n",
       "      <td>102.379707</td>\n",
       "      <td>-0.021214</td>\n",
       "      <td>2000.0</td>\n",
       "      <td>1408.464406</td>\n",
       "      <td>0.995126</td>\n",
       "      <td>...</td>\n",
       "      <td>0.0</td>\n",
       "      <td>-19.013148</td>\n",
       "      <td>-75.090711</td>\n",
       "      <td>2000.059575</td>\n",
       "      <td>-70.691475</td>\n",
       "      <td>-101.592538</td>\n",
       "      <td>2000.059575</td>\n",
       "      <td>-0.035277</td>\n",
       "      <td>-0.050698</td>\n",
       "      <td>0.998091</td>\n",
       "    </tr>\n",
       "    <tr>\n",
       "      <th>...</th>\n",
       "      <th>...</th>\n",
       "      <td>...</td>\n",
       "      <td>...</td>\n",
       "      <td>...</td>\n",
       "      <td>...</td>\n",
       "      <td>...</td>\n",
       "      <td>...</td>\n",
       "      <td>...</td>\n",
       "      <td>...</td>\n",
       "      <td>...</td>\n",
       "      <td>...</td>\n",
       "      <td>...</td>\n",
       "      <td>...</td>\n",
       "      <td>...</td>\n",
       "      <td>...</td>\n",
       "      <td>...</td>\n",
       "      <td>...</td>\n",
       "      <td>...</td>\n",
       "      <td>...</td>\n",
       "      <td>...</td>\n",
       "      <td>...</td>\n",
       "      <td>...</td>\n",
       "    </tr>\n",
       "    <tr>\n",
       "      <th rowspan=\"5\" valign=\"top\">19877</th>\n",
       "      <th>4</th>\n",
       "      <td>-11.359869</td>\n",
       "      <td>-395.36</td>\n",
       "      <td>580.314961</td>\n",
       "      <td>13.596974</td>\n",
       "      <td>2.237105</td>\n",
       "      <td>-363.199793</td>\n",
       "      <td>-0.037854</td>\n",
       "      <td>2000.0</td>\n",
       "      <td>511.674644</td>\n",
       "      <td>0.964753</td>\n",
       "      <td>...</td>\n",
       "      <td>0.0</td>\n",
       "      <td>-15.561297</td>\n",
       "      <td>308.171074</td>\n",
       "      <td>2003.839929</td>\n",
       "      <td>-2.102706</td>\n",
       "      <td>341.379863</td>\n",
       "      <td>2003.839929</td>\n",
       "      <td>-0.001034</td>\n",
       "      <td>0.167943</td>\n",
       "      <td>0.985796</td>\n",
       "    </tr>\n",
       "    <tr>\n",
       "      <th>5</th>\n",
       "      <td>-14.719869</td>\n",
       "      <td>-341.60</td>\n",
       "      <td>425.984252</td>\n",
       "      <td>16.956974</td>\n",
       "      <td>2.237105</td>\n",
       "      <td>-363.199793</td>\n",
       "      <td>0.025961</td>\n",
       "      <td>2000.0</td>\n",
       "      <td>511.674644</td>\n",
       "      <td>0.964753</td>\n",
       "      <td>...</td>\n",
       "      <td>0.0</td>\n",
       "      <td>-19.176939</td>\n",
       "      <td>364.054275</td>\n",
       "      <td>2003.839929</td>\n",
       "      <td>-2.102706</td>\n",
       "      <td>341.379863</td>\n",
       "      <td>2003.839929</td>\n",
       "      <td>-0.001034</td>\n",
       "      <td>0.167943</td>\n",
       "      <td>0.985796</td>\n",
       "    </tr>\n",
       "    <tr>\n",
       "      <th>6</th>\n",
       "      <td>32.320131</td>\n",
       "      <td>-381.92</td>\n",
       "      <td>558.267717</td>\n",
       "      <td>30.083026</td>\n",
       "      <td>2.237105</td>\n",
       "      <td>-363.199793</td>\n",
       "      <td>-0.022385</td>\n",
       "      <td>2000.0</td>\n",
       "      <td>511.674644</td>\n",
       "      <td>0.964753</td>\n",
       "      <td>...</td>\n",
       "      <td>0.0</td>\n",
       "      <td>27.815032</td>\n",
       "      <td>321.963144</td>\n",
       "      <td>2003.839929</td>\n",
       "      <td>-2.102706</td>\n",
       "      <td>341.379863</td>\n",
       "      <td>2003.839929</td>\n",
       "      <td>-0.001034</td>\n",
       "      <td>0.167943</td>\n",
       "      <td>0.985796</td>\n",
       "    </tr>\n",
       "    <tr>\n",
       "      <th>7</th>\n",
       "      <td>25.600131</td>\n",
       "      <td>-388.64</td>\n",
       "      <td>409.448819</td>\n",
       "      <td>23.363026</td>\n",
       "      <td>2.237105</td>\n",
       "      <td>-363.199793</td>\n",
       "      <td>-0.030241</td>\n",
       "      <td>2000.0</td>\n",
       "      <td>511.674644</td>\n",
       "      <td>0.964753</td>\n",
       "      <td>...</td>\n",
       "      <td>0.0</td>\n",
       "      <td>21.088445</td>\n",
       "      <td>315.050330</td>\n",
       "      <td>2003.839929</td>\n",
       "      <td>-2.102706</td>\n",
       "      <td>341.379863</td>\n",
       "      <td>2003.839929</td>\n",
       "      <td>-0.001034</td>\n",
       "      <td>0.167943</td>\n",
       "      <td>0.985796</td>\n",
       "    </tr>\n",
       "    <tr>\n",
       "      <th>8</th>\n",
       "      <td>18.880131</td>\n",
       "      <td>-341.60</td>\n",
       "      <td>767.716535</td>\n",
       "      <td>16.643026</td>\n",
       "      <td>2.237105</td>\n",
       "      <td>-363.199793</td>\n",
       "      <td>0.025712</td>\n",
       "      <td>2000.0</td>\n",
       "      <td>511.674644</td>\n",
       "      <td>0.964753</td>\n",
       "      <td>...</td>\n",
       "      <td>0.0</td>\n",
       "      <td>14.643030</td>\n",
       "      <td>364.043961</td>\n",
       "      <td>2003.839929</td>\n",
       "      <td>-2.102706</td>\n",
       "      <td>341.379863</td>\n",
       "      <td>2003.839929</td>\n",
       "      <td>-0.001034</td>\n",
       "      <td>0.167943</td>\n",
       "      <td>0.985796</td>\n",
       "    </tr>\n",
       "  </tbody>\n",
       "</table>\n",
       "<p>618844 rows × 28 columns</p>\n",
       "</div>"
      ]
     },
     "execution_count": 66,
     "metadata": {},
     "output_type": "execute_result"
    }
   ],
   "execution_count": 66
  },
  {
   "metadata": {
    "ExecuteTime": {
     "end_time": "2024-10-15T13:46:59.901374Z",
     "start_time": "2024-10-15T13:46:59.897150Z"
    }
   },
   "cell_type": "code",
   "source": "bdf.isna().sum()",
   "outputs": [
    {
     "data": {
      "text/plain": [
       "r_c_mean      0\n",
       "r_c_std      18\n",
       "r_c_width     0\n",
       "momentum      0\n",
       "dtype: int64"
      ]
     },
     "execution_count": 67,
     "metadata": {},
     "output_type": "execute_result"
    }
   ],
   "execution_count": 67
  },
  {
   "metadata": {
    "ExecuteTime": {
     "end_time": "2024-10-15T13:47:00.016372Z",
     "start_time": "2024-10-15T13:46:59.901374Z"
    }
   },
   "cell_type": "code",
   "source": [
    "plt.hist(bdf[bdf.r_c_width < 1000].r_c_width, bins='auto')\n",
    "plt.show()"
   ],
   "outputs": [
    {
     "data": {
      "text/plain": [
       "<Figure size 640x480 with 1 Axes>"
      ],
      "image/png": "[encoded data removed]"
     },
     "metadata": {},
     "output_type": "display_data"
    }
   ],
   "execution_count": 68
  },
  {
   "metadata": {
    "ExecuteTime": {
     "end_time": "2024-10-15T13:47:00.129025Z",
     "start_time": "2024-10-15T13:47:00.016876Z"
    }
   },
   "cell_type": "code",
   "source": [
    "plt.hist(bdf[bdf.r_c_std < 1000].r_c_std, bins='auto')\n",
    "plt.show()"
   ],
   "outputs": [
    {
     "data": {
      "text/plain": [
       "<Figure size 640x480 with 1 Axes>"
      ],
      "image/png": "[encoded data removed]"
     },
     "metadata": {},
     "output_type": "display_data"
    }
   ],
   "execution_count": 69
  },
  {
   "metadata": {
    "ExecuteTime": {
     "end_time": "2024-10-15T13:47:00.265684Z",
     "start_time": "2024-10-15T13:47:00.129025Z"
    }
   },
   "cell_type": "code",
   "source": [
    "plt.hist(bdf[bdf.r_c_mean < 1000].r_c_mean, bins='auto')\n",
    "plt.show()"
   ],
   "outputs": [
    {
     "data": {
      "text/plain": [
       "<Figure size 640x480 with 1 Axes>"
      ],
      "image/png": "[encoded data removed]"
     },
     "metadata": {},
     "output_type": "display_data"
    }
   ],
   "execution_count": 70
  },
  {
   "metadata": {
    "ExecuteTime": {
     "end_time": "2024-10-15T13:47:00.268081Z",
     "start_time": "2024-10-15T13:47:00.265684Z"
    }
   },
   "cell_type": "code",
   "source": "# np.tan(1 / (edf.beta.iloc[0] * idf.n_mean)) ",
   "outputs": [],
   "execution_count": 71
  },
  {
   "metadata": {
    "ExecuteTime": {
     "end_time": "2024-10-15T13:47:00.281224Z",
     "start_time": "2024-10-15T13:47:00.268081Z"
    }
   },
   "cell_type": "code",
   "source": "# idf.W * np.tan(1/(idf.n_mean * edf.beta.iloc[0]))",
   "outputs": [],
   "execution_count": 72
  },
  {
   "metadata": {
    "ExecuteTime": {
     "end_time": "2024-10-15T13:47:00.294996Z",
     "start_time": "2024-10-15T13:47:00.281224Z"
    }
   },
   "cell_type": "code",
   "source": [
    "# num = 7\n",
    "# event = edf.loc[num]\n",
    "# plt.scatter(event.rotated_x, event.rotated_y)\n",
    "# plt.scatter(event.rotated_x_i, event.rotated_y_i)\n",
    "# plt.show()"
   ],
   "outputs": [],
   "execution_count": 73
  },
  {
   "metadata": {
    "ExecuteTime": {
     "end_time": "2024-10-15T13:47:05.176372Z",
     "start_time": "2024-10-15T13:47:00.294996Z"
    }
   },
   "cell_type": "code",
   "source": "primaryDirectionRecalculation(edf)",
   "outputs": [],
   "execution_count": 74
  },
  {
   "metadata": {
    "ExecuteTime": {
     "end_time": "2024-10-15T13:47:05.186486Z",
     "start_time": "2024-10-15T13:47:05.176372Z"
    }
   },
   "cell_type": "code",
   "source": [
    "edf['rotated_r_c'] = np.sqrt((edf['rotated_x_i'] - edf['rotated_x']) ** 2 + (edf['rotated_y_i'] - edf['rotated_y']) ** 2)\n",
    "edf['signal'] = np.ones(edf.shape[0])"
   ],
   "outputs": [],
   "execution_count": 75
  },
  {
   "metadata": {
    "ExecuteTime": {
     "end_time": "2024-10-15T13:47:05.188426Z",
     "start_time": "2024-10-15T13:47:05.186991Z"
    }
   },
   "cell_type": "code",
   "source": "",
   "outputs": [],
   "execution_count": 75
  },
  {
   "metadata": {
    "ExecuteTime": {
     "end_time": "2024-10-15T13:47:05.293390Z",
     "start_time": "2024-10-15T13:47:05.192663Z"
    }
   },
   "cell_type": "code",
   "source": "recoAngles(edf, idf)",
   "outputs": [
    {
     "name": "stderr",
     "output_type": "stream",
     "text": [
      "Z:\\Prog\\FARICH\\farich_functions.py:646: FutureWarning: Calling float on a single element Series is deprecated and will raise a TypeError in the future. Use float(ser.iloc[0]) instead\n",
      "  dist = float(idf[\"distance\"])\n",
      "Z:\\Prog\\FARICH\\farich_functions.py:649: FutureWarning: Calling float on a single element Series is deprecated and will raise a TypeError in the future. Use float(ser.iloc[0]) instead\n",
      "  W = float(idf[\"W\"])\n",
      "Z:\\Prog\\FARICH\\farich_functions.py:652: FutureWarning: Calling float on a single element Series is deprecated and will raise a TypeError in the future. Use float(ser.iloc[0]) instead\n",
      "  rad_pos = float(idf[\"zdis\"])\n"
     ]
    }
   ],
   "execution_count": 76
  },
  {
   "metadata": {
    "ExecuteTime": {
     "end_time": "2024-10-15T13:47:05.376361Z",
     "start_time": "2024-10-15T13:47:05.293390Z"
    }
   },
   "cell_type": "code",
   "source": "recoAngles(edf, idf, rotation_mode=True)",
   "outputs": [
    {
     "name": "stderr",
     "output_type": "stream",
     "text": [
      "Z:\\Prog\\FARICH\\farich_functions.py:646: FutureWarning: Calling float on a single element Series is deprecated and will raise a TypeError in the future. Use float(ser.iloc[0]) instead\n",
      "  dist = float(idf[\"distance\"])\n",
      "Z:\\Prog\\FARICH\\farich_functions.py:649: FutureWarning: Calling float on a single element Series is deprecated and will raise a TypeError in the future. Use float(ser.iloc[0]) instead\n",
      "  W = float(idf[\"W\"])\n",
      "Z:\\Prog\\FARICH\\farich_functions.py:652: FutureWarning: Calling float on a single element Series is deprecated and will raise a TypeError in the future. Use float(ser.iloc[0]) instead\n",
      "  rad_pos = float(idf[\"zdis\"])\n",
      "Z:\\Prog\\FARICH\\farich_functions.py:673: FutureWarning: Calling float on a single element Series is deprecated and will raise a TypeError in the future. Use float(ser.iloc[0]) instead\n",
      "  n_mean = float(idf[\"n_mean\"])\n"
     ]
    }
   ],
   "execution_count": 77
  },
  {
   "metadata": {
    "ExecuteTime": {
     "end_time": "2024-10-15T13:47:05.407440Z",
     "start_time": "2024-10-15T13:47:05.376361Z"
    }
   },
   "cell_type": "code",
   "source": "calculateSignalCounts(edf, bdf)",
   "outputs": [],
   "execution_count": 78
  },
  {
   "metadata": {
    "ExecuteTime": {
     "end_time": "2024-10-15T13:47:05.411882Z",
     "start_time": "2024-10-15T13:47:05.407440Z"
    }
   },
   "cell_type": "code",
   "source": [
    "def exp_like(X, a, b):\n",
    "    return a * np.exp(b * X)\n",
    "def pol2_exp_like(X, a0, a1, a2, b0, b1, b2):\n",
    "    r, theta = X\n",
    "    return exp_like(r, a0 + a1 * theta + a2 * theta ** 2, b0 + b0 * theta + b1 * theta ** 2)\n",
    "def pol3(X, p0, p1, p2, p3):\n",
    "    return p0 + p1 * X + p2 * X ** 2 + p3 * X ** 3\n",
    "def lin(X, a, b):\n",
    "    return a * X + b\n",
    "def pol2_lin(X, a0, a1, a2, b0, b1, b2):\n",
    "    r, theta = X\n",
    "    return lin(r, a0 + a1 * theta + a2 * theta ** 2, b0 + b1 * theta + b2 * theta ** 2)\n",
    "def pol2_pol2(X, a0, a1, a2, b0, b1, b2, c0, c1, c2):\n",
    "    r, theta = X\n",
    "    return pol2(r, a0 + a1 * theta + a2 * theta ** 2, b0 + b1 * theta + b2 * theta ** 2, c0 + c1 * theta + c2 * theta ** 2)"
   ],
   "outputs": [],
   "execution_count": 79
  },
  {
   "metadata": {
    "ExecuteTime": {
     "end_time": "2024-10-15T13:47:05.424879Z",
     "start_time": "2024-10-15T13:47:05.411882Z"
    }
   },
   "cell_type": "code",
   "source": [
    "def calibration(edf: pd.DataFrame, bdf: pd.DataFrame, avg_sigmas: tuple, avg_t_sigmas: tuple, step=float(idf.pixel_size), method='N/r', t_window_width=2,\n",
    "                        r_width_factor=2, t_width_factor=8, full_width_t_hist = False, weighed=True, deg_lim=False, param_fit=False, calibration_func=pol, param_calibration_func=d3pol2, \n",
    "                num_of_calibration_params=3, num_of_param_fit_params=3, target_variable = 'momentum', target_angle = 'theta_p', num_of_theta_intervals=11, p0=(100, 1, 100), p0_c=(1.219, -0.5588, 0.2946, 864.4, -1922, 1055, -2535, 6572, -3751)):  \n",
    "  to_return_unbinned = np.full((np.ptp(avg_sigmas), np.ptp(avg_t_sigmas), num_of_theta_intervals - 1, num_of_calibration_params), 0.)\n",
    "\n",
    "  errs_tmp = np.full((np.ptp(avg_sigmas), np.ptp(avg_t_sigmas), num_of_theta_intervals - 1, num_of_calibration_params), 0.)\n",
    "  fit_params = np.full((np.ptp(avg_sigmas), np.ptp(avg_t_sigmas), num_of_calibration_params, num_of_param_fit_params), 0.)\n",
    "  fit_params = np.full((np.ptp(avg_sigmas), np.ptp(avg_t_sigmas), num_of_calibration_params * num_of_param_fit_params), 0.)\n",
    "\n",
    "  \n",
    "  \n",
    "  dir_to_save = f\"{'weighed' if weighed else 'unweighed'}_rw={step}_tw={t_window_width}_rs={r_width_factor}_ts={t_width_factor}\"\n",
    "  if not os.path.exists(os.path.join('calibrations_barrel', dir_to_save)):\n",
    "    os.mkdir(os.path.join('calibrations_barrel', dir_to_save))\n",
    "      \n",
    "      \n",
    "  for r_sigms in range(*avg_sigmas):\n",
    "    fig, axs = plt.subplots(num_of_theta_intervals - 1, np.ptp(avg_t_sigmas), figsize=(16 * np.ptp(avg_t_sigmas), 9 * (num_of_theta_intervals - 1)))\n",
    "    for t_sigms in range(*avg_t_sigmas):\n",
    "      chosen_column = f'unfixed_calculated_r_2d_{r_sigms}_rsigms_{t_sigms}_tsigms'\n",
    "\n",
    "      calibration_loop(bdf, chosen_column, r_sigms, t_sigms, num_of_theta_intervals, to_return_unbinned, errs_tmp, fig, axs, avg_sigmas, avg_t_sigmas, target_variable, target_angle, calibration_func, p0)\n",
    "      if param_fit:\n",
    "        param_fit_calibration(bdf, chosen_column, r_sigms, t_sigms, avg_sigmas, avg_t_sigmas, fit_params, num_of_calibration_params, num_of_param_fit_params, target_variable, target_angle, param_calibration_func, p0_c=p0_c)   \n",
    "    save_calibration_plot(fig, dir_to_save, deg_lim, r_sigms, avg_t_sigmas)        \n",
    "      \n",
    "  if param_fit:\n",
    "    return fit_params, errs_tmp\n",
    "  return to_return_unbinned, errs_tmp\n",
    "# cal_arr = np.array(calibration(edf, bdf, avg_sigmas=(1, 5), avg_t_sigmas=(1, 5))) # add r and t calibr - done"
   ],
   "outputs": [
    {
     "name": "stderr",
     "output_type": "stream",
     "text": [
      "C:\\Users\\BRINE\\AppData\\Local\\Temp\\ipykernel_4464\\4046434055.py:1: FutureWarning: Calling float on a single element Series is deprecated and will raise a TypeError in the future. Use float(ser.iloc[0]) instead\n",
      "  def calibration(edf: pd.DataFrame, bdf: pd.DataFrame, avg_sigmas: tuple, avg_t_sigmas: tuple, step=float(idf.pixel_size), method='N/r', t_window_width=2,\n"
     ]
    }
   ],
   "execution_count": 80
  },
  {
   "metadata": {
    "ExecuteTime": {
     "end_time": "2024-10-15T13:47:05.441224Z",
     "start_time": "2024-10-15T13:47:05.424879Z"
    }
   },
   "cell_type": "code",
   "source": [
    "def rSlidingWindow(edf: pd.DataFrame, idf: pd.DataFrame, bdf: pd.DataFrame, avg_sigmas: tuple, avg_t_sigmas: tuple, step=float(idf.pixel_size), method='N/r', cal_arr=False, t_window_width=2,\n",
    "                        r_width_factor=2, t_width_factor=8, full_width_t_hist = True, num_of_groups=5, weighed=True, deg_lim=False, param_fit=False, \n",
    "                   calibration_func=pol, param_calibration_func=d3pol2, num_of_calibration_params=3, num_of_param_fit_params=3, target_variable='beta', target_angle='cos_theta_p', num_of_theta_intervals=11, p0=(100, 1, 100), p0_c=(1.219, -0.5588, 0.2946, 864.4, -1922, 1055, -2535, 6572, -3751)):\n",
    "  rSlidingWindowIntro(edf, idf, bdf, avg_sigmas, avg_t_sigmas, step=step, method=method, cal_arr=cal_arr, t_window_width=t_window_width,\n",
    "                      r_width_factor=r_width_factor, t_width_factor=t_width_factor, num_of_groups=num_of_groups)\n",
    "  rSlidingWindowLoop1(edf, idf, bdf, avg_sigmas, avg_t_sigmas, step=step, method=method, cal_arr=cal_arr, t_window_width=t_window_width,\n",
    "                      r_width_factor=r_width_factor, t_width_factor=t_width_factor, full_width_t_hist=full_width_t_hist, weighed=weighed)\n",
    "  bdf.dropna(subset=[f'unfixed_calculated_r_2d_{avg_sigmas[0]}_rsigms_4_tsigms'], inplace=True)\n",
    "  edf.dropna(subset=[f'unfixed_calculated_r_2d_{avg_sigmas[0]}_rsigms_4_tsigms'], inplace=True)\n",
    "  if cal_arr is False:\n",
    "    cal_arr, errs = calibration(edf, bdf, avg_sigmas=avg_sigmas, avg_t_sigmas=avg_t_sigmas, step=step, t_window_width=t_window_width,\n",
    "                                   r_width_factor=r_width_factor, t_width_factor=t_width_factor, weighed=weighed, deg_lim=deg_lim, param_fit=param_fit, calibration_func=calibration_func, param_calibration_func=param_calibration_func, num_of_calibration_params=num_of_calibration_params, num_of_param_fit_params=num_of_param_fit_params, target_variable=target_variable, target_angle=target_angle, num_of_theta_intervals=num_of_theta_intervals, p0=p0, p0_c=p0_c)\n",
    "\n",
    "  rSlidingWindowLoop2(edf, idf, bdf, avg_sigmas, avg_t_sigmas, step=step, method=method, cal_arr=cal_arr, t_window_width=t_window_width,\n",
    "                      r_width_factor=r_width_factor, t_width_factor=t_width_factor, param_fit=param_fit, calibration_func=calibration_func, param_calibration_func=param_calibration_func, target_variable=target_variable, target_angle=target_angle, num_of_theta_intervals=num_of_theta_intervals)\n",
    "  return cal_arr, errs"
   ],
   "outputs": [
    {
     "name": "stderr",
     "output_type": "stream",
     "text": [
      "C:\\Users\\BRINE\\AppData\\Local\\Temp\\ipykernel_4464\\3305970447.py:1: FutureWarning: Calling float on a single element Series is deprecated and will raise a TypeError in the future. Use float(ser.iloc[0]) instead\n",
      "  def rSlidingWindow(edf: pd.DataFrame, idf: pd.DataFrame, bdf: pd.DataFrame, avg_sigmas: tuple, avg_t_sigmas: tuple, step=float(idf.pixel_size), method='N/r', cal_arr=False, t_window_width=2,\n"
     ]
    }
   ],
   "execution_count": 81
  },
  {
   "metadata": {
    "ExecuteTime": {
     "end_time": "2024-10-15T13:48:21.578799Z",
     "start_time": "2024-10-15T13:48:21.574615Z"
    }
   },
   "cell_type": "code",
   "source": [
    "avg_sigmas = (4, 5)\n",
    "avg_t_sigmas = (4, 5)\n",
    "num_of_groups = 10\n",
    "r_width = float(idf.pixel_size.iloc[0]) * 2\n",
    "t_width = 0.25\n",
    "t_step = 0.25\n",
    "r_factor = 2 # not to change\n",
    "t_factor = int(t_width / t_step)\n",
    "weighed = True\n",
    "deg_lim = False\n",
    "param_fit = True # WORKS\n",
    "\n",
    "calibration_func = pol2 # pol\n",
    "param_calibration_func = pol2_pol2 # d3pol2\n",
    "p0 =  (.01, 1000, 1000)\n",
    "p0_c =  (1.219, -0.5588, 0.2946, 864.4, -1922, 1055, -2535, 6572, -3751)\n",
    "num_of_calibration_params = 3 # 3\n",
    "num_of_param_fit_params = 3 # for param fit both prev and this number are important, cal_func as well, therefore p0 and p0_C\n",
    "target_variable = 'beta'\n",
    "target_angle = 'theta_p'\n",
    "num_of_theta_intervals = 11 # 11\n",
    "\n",
    "\n",
    "# sample_size = 12\n",
    "cal_arr = False\n",
    "errs = False\n",
    "\n",
    "beta_sigms = []\n",
    "beta_sigms_yerr = []\n",
    "beta_sigms_deglim = []\n",
    "beta_sigms_yerr_deglim = []"
   ],
   "outputs": [],
   "execution_count": 90
  },
  {
   "metadata": {
    "ExecuteTime": {
     "end_time": "2024-10-15T13:48:41.651840Z",
     "start_time": "2024-10-15T13:48:21.753847Z"
    }
   },
   "cell_type": "code",
   "source": [
    "cal_arr, errs = rSlidingWindow(edf, idf, bdf, avg_sigmas=avg_sigmas, avg_t_sigmas=avg_t_sigmas, cal_arr=cal_arr, num_of_groups=num_of_groups,\n",
    "                               step=r_width, t_window_width=t_width, r_width_factor=r_factor, t_width_factor=t_factor, weighed=weighed, deg_lim=deg_lim, param_fit=param_fit, \n",
    "                         calibration_func=calibration_func, param_calibration_func=param_calibration_func, num_of_calibration_params=num_of_calibration_params, num_of_param_fit_params=num_of_param_fit_params, \n",
    "                         target_variable=target_variable, target_angle=target_angle, num_of_theta_intervals=num_of_theta_intervals, p0=p0, p0_c=p0_c)"
   ],
   "outputs": [
    {
     "name": "stdout",
     "output_type": "stream",
     "text": [
      "[ 9.61164757e-01 -8.02525749e-02  1.46601294e-01 -6.58215759e-05\n",
      "  3.83039040e-03 -6.91659699e-03  1.45680091e-05 -4.52279984e-05\n",
      "  6.48440763e-05]\n",
      "0\n"
     ]
    }
   ],
   "execution_count": 91
  },
  {
   "metadata": {},
   "cell_type": "markdown",
   "source": "need to run twice. To remove broken events?"
  },
  {
   "metadata": {
    "ExecuteTime": {
     "end_time": "2024-10-15T13:48:49.740543Z",
     "start_time": "2024-10-15T13:48:49.738162Z"
    }
   },
   "cell_type": "code",
   "source": "cal_arr",
   "outputs": [
    {
     "data": {
      "text/plain": [
       "array([[[ 9.61164757e-01, -8.02525749e-02,  1.46601294e-01,\n",
       "         -6.58215759e-05,  3.83039040e-03, -6.91659699e-03,\n",
       "          1.45680091e-05, -4.52279984e-05,  6.48440763e-05]]])"
      ]
     },
     "execution_count": 92,
     "metadata": {},
     "output_type": "execute_result"
    }
   ],
   "execution_count": 92
  },
  {
   "metadata": {
    "ExecuteTime": {
     "end_time": "2024-10-15T13:48:50.047263Z",
     "start_time": "2024-10-15T13:48:50.044939Z"
    }
   },
   "cell_type": "code",
   "source": "errs",
   "outputs": [
    {
     "data": {
      "text/plain": [
       "array([[[[1.53286217e-03, 8.03921872e-05, 1.02943589e-06],\n",
       "         [1.29867271e-03, 6.76031814e-05, 8.60315229e-07],\n",
       "         [1.29199977e-03, 6.69232639e-05, 8.47193831e-07],\n",
       "         [1.37324214e-03, 6.98463719e-05, 8.69297976e-07],\n",
       "         [1.40261919e-03, 6.79858260e-05, 8.08285183e-07],\n",
       "         [1.42939547e-03, 6.69973788e-05, 7.66283627e-07],\n",
       "         [1.69967400e-03, 7.34126538e-05, 7.76795536e-07],\n",
       "         [1.35417250e-03, 5.64175295e-05, 5.72622622e-07],\n",
       "         [1.43805513e-03, 5.54014358e-05, 5.20613785e-07],\n",
       "         [2.04403945e-03, 7.57516482e-05, 6.86532459e-07]]]])"
      ]
     },
     "execution_count": 93,
     "metadata": {},
     "output_type": "execute_result"
    }
   ],
   "execution_count": 93
  },
  {
   "metadata": {
    "ExecuteTime": {
     "end_time": "2024-10-15T13:48:51.224851Z",
     "start_time": "2024-10-15T13:48:51.221046Z"
    }
   },
   "cell_type": "code",
   "source": "((bdf.beta - bdf.beta_from_calc_r_4_rsigms_4_tsigms) ** 2 / bdf.beta_from_calc_r_4_rsigms_4_tsigms).sum() / num_of_calibration_params # chi2",
   "outputs": [
    {
     "data": {
      "text/plain": [
       "0.05984397653930202"
      ]
     },
     "execution_count": 94,
     "metadata": {},
     "output_type": "execute_result"
    }
   ],
   "execution_count": 94
  },
  {
   "metadata": {},
   "cell_type": "markdown",
   "source": [
    "0.06363089185270614 - до обрезки\n",
    "0.07350276021667147 - после"
   ]
  },
  {
   "metadata": {},
   "cell_type": "markdown",
   "source": "пока что pol2 по качеству хуже pol"
  },
  {
   "metadata": {},
   "cell_type": "markdown",
   "source": "pol2_pol2 лучше чем pol, но на 10 градусах немного хуже"
  },
  {
   "metadata": {
    "ExecuteTime": {
     "end_time": "2024-10-15T13:48:57.171100Z",
     "start_time": "2024-10-15T13:48:57.152739Z"
    }
   },
   "cell_type": "code",
   "source": [
    "beta_on_grid = lin_move_to_grid(np.array(bdf.beta), np.linspace(min(bdf.beta), max(bdf.beta), 100))\n",
    "calc_beta_on_grid = lin_move_to_grid(np.array(bdf.beta_from_calc_r_4_rsigms_4_tsigms), np.linspace(min(bdf.beta), max(bdf.beta), 100))\n",
    "\n",
    "((beta_on_grid - calc_beta_on_grid) ** 2 / calc_beta_on_grid).sum() / num_of_calibration_params"
   ],
   "outputs": [
    {
     "data": {
      "text/plain": [
       "0.049221806459170535"
      ]
     },
     "execution_count": 95,
     "metadata": {},
     "output_type": "execute_result"
    }
   ],
   "execution_count": 95
  },
  {
   "metadata": {
    "ExecuteTime": {
     "end_time": "2024-10-15T13:49:04.116323Z",
     "start_time": "2024-10-15T13:49:04.111992Z"
    }
   },
   "cell_type": "code",
   "source": "np.linspace(min(bdf.theta_p), max(bdf.theta_p), num=num_of_theta_intervals-1)",
   "outputs": [
    {
     "data": {
      "text/plain": [
       "array([0.00234133, 0.0899407 , 0.17754006, 0.26513942, 0.35273879,\n",
       "       0.44033815, 0.52793751, 0.61553687, 0.70313624, 0.7907356 ])"
      ]
     },
     "execution_count": 96,
     "metadata": {},
     "output_type": "execute_result"
    }
   ],
   "execution_count": 96
  },
  {
   "metadata": {
    "ExecuteTime": {
     "end_time": "2024-10-15T13:49:04.343686Z",
     "start_time": "2024-10-15T13:49:04.329099Z"
    }
   },
   "cell_type": "code",
   "source": "cal_arr[0][0][:, 0]",
   "outputs": [
    {
     "ename": "IndexError",
     "evalue": "too many indices for array: array is 1-dimensional, but 2 were indexed",
     "output_type": "error",
     "traceback": [
      "\u001B[1;31m---------------------------------------------------------------------------\u001B[0m",
      "\u001B[1;31mIndexError\u001B[0m                                Traceback (most recent call last)",
      "Cell \u001B[1;32mIn[97], line 1\u001B[0m\n\u001B[1;32m----> 1\u001B[0m \u001B[43mcal_arr\u001B[49m\u001B[43m[\u001B[49m\u001B[38;5;241;43m0\u001B[39;49m\u001B[43m]\u001B[49m\u001B[43m[\u001B[49m\u001B[38;5;241;43m0\u001B[39;49m\u001B[43m]\u001B[49m\u001B[43m[\u001B[49m\u001B[43m:\u001B[49m\u001B[43m,\u001B[49m\u001B[43m \u001B[49m\u001B[38;5;241;43m0\u001B[39;49m\u001B[43m]\u001B[49m\n",
      "\u001B[1;31mIndexError\u001B[0m: too many indices for array: array is 1-dimensional, but 2 were indexed"
     ]
    }
   ],
   "execution_count": 97
  },
  {
   "metadata": {
    "ExecuteTime": {
     "end_time": "2024-10-15T13:47:24.578026Z",
     "start_time": "2024-10-15T13:47:24.578026Z"
    }
   },
   "cell_type": "code",
   "source": [
    "plt.subplots(2, 3, figsize=(27, 12))\n",
    "plt.subplot(2, 3, 1)\n",
    "plt.scatter(np.linspace(min(bdf.theta_p), max(bdf.theta_p), num=num_of_theta_intervals-1), cal_arr[0][0][:, 0])\n",
    "plt.errorbar(np.linspace(min(bdf.theta_p), max(bdf.theta_p), num=num_of_theta_intervals-1), cal_arr[0][0][:, 0], yerr=errs[0][0][:, 0], fmt='o')\n",
    "plt.subplot(2, 3, 2)\n",
    "plt.scatter(np.linspace(min(bdf.theta_p), max(bdf.theta_p), num=num_of_theta_intervals-1), cal_arr[0][0][:, 1])\n",
    "plt.errorbar(np.linspace(min(bdf.theta_p), max(bdf.theta_p), num=num_of_theta_intervals-1), cal_arr[0][0][:, 1], yerr=errs[0][0][:, 1], fmt='o')\n",
    "plt.subplot(2, 3, 3)\n",
    "plt.scatter(np.linspace(min(bdf.theta_p), max(bdf.theta_p), num=num_of_theta_intervals-1), cal_arr[0][0][:, 2])\n",
    "plt.errorbar(np.linspace(min(bdf.theta_p), max(bdf.theta_p), num=num_of_theta_intervals-1), cal_arr[0][0][:, 2], yerr=errs[0][0][:, 2], fmt='o')\n",
    "plt.subplot(2, 3, 4)\n",
    "plt.scatter(np.cos(np.linspace(min(bdf.theta_p), max(bdf.theta_p), num=num_of_theta_intervals-1)), cal_arr[0][0][:, 0])\n",
    "plt.errorbar(np.cos(np.linspace(min(bdf.theta_p), max(bdf.theta_p), num=num_of_theta_intervals-1)), cal_arr[0][0][:, 0], yerr=errs[0][0][:, 0], fmt='o')\n",
    "plt.subplot(2, 3, 5)\n",
    "plt.scatter(np.cos(np.linspace(min(bdf.theta_p), max(bdf.theta_p), num=num_of_theta_intervals-1)), cal_arr[0][0][:, 1])\n",
    "plt.errorbar(np.cos(np.linspace(min(bdf.theta_p), max(bdf.theta_p), num=num_of_theta_intervals-1)), cal_arr[0][0][:, 1], yerr=errs[0][0][:, 1], fmt='o')\n",
    "plt.subplot(2, 3, 6)\n",
    "plt.scatter(np.cos(np.linspace(min(bdf.theta_p), max(bdf.theta_p), num=num_of_theta_intervals-1)), cal_arr[0][0][:, 2])\n",
    "plt.errorbar(np.cos(np.linspace(min(bdf.theta_p), max(bdf.theta_p), num=num_of_theta_intervals-1)), cal_arr[0][0][:, 2], yerr=errs[0][0][:, 2], fmt='o')\n",
    "plt.show()"
   ],
   "outputs": [],
   "execution_count": null
  },
  {
   "metadata": {
    "ExecuteTime": {
     "end_time": "2024-10-15T13:49:10.188906Z",
     "start_time": "2024-10-15T13:49:09.974307Z"
    }
   },
   "cell_type": "code",
   "source": [
    "plt.subplots(1, 3, figsize=(27, 6))\n",
    "\n",
    "plt.subplot(1, 3, 1)\n",
    "plt.plot((np.linspace(min(bdf.theta_p), max(bdf.theta_p))), pol2(np.cos(np.linspace(min(bdf.theta_p), max(bdf.theta_p))), *cal_arr[0][0][0:3]))\n",
    "# plt.ylim((0.945, 0.964))\n",
    "plt.subplot(1, 3, 2)\n",
    "plt.plot((np.linspace(min(bdf.theta_p), max(bdf.theta_p))), pol2(np.cos(np.linspace(min(bdf.theta_p), max(bdf.theta_p))), *cal_arr[0][0][3:6]))\n",
    "# plt.ylim((-27, 12))\n",
    "plt.subplot(1, 3, 3)\n",
    "plt.plot((np.linspace(min(bdf.theta_p), max(bdf.theta_p))), pol2(np.cos(np.linspace(min(bdf.theta_p), max(bdf.theta_p))), *cal_arr[0][0][6:9]))\n",
    "# plt.ylim((300, 390))\n",
    "plt.show()"
   ],
   "outputs": [
    {
     "data": {
      "text/plain": [
       "<Figure size 2700x600 with 3 Axes>"
      ],
      "image/png": "[encoded data removed]"
     },
     "metadata": {},
     "output_type": "display_data"
    }
   ],
   "execution_count": 98
  },
  {
   "metadata": {
    "ExecuteTime": {
     "end_time": "2024-10-15T13:49:19.752992Z",
     "start_time": "2024-10-15T13:49:19.744241Z"
    }
   },
   "cell_type": "code",
   "source": "bdf",
   "outputs": [
    {
     "data": {
      "text/plain": [
       "        r_c_mean    r_c_std   r_c_width     momentum  signal_counts  \\\n",
       "0      42.111908  12.301341   53.201834  1408.464406           40.0   \n",
       "1      39.684630  14.646902   58.218893   932.768102           30.0   \n",
       "2      82.556662  53.245302  193.277462   770.366650           89.0   \n",
       "3      29.861865  14.325736   47.794728   868.738138           33.0   \n",
       "4      33.220167  15.736159   52.153319   891.133356           40.0   \n",
       "...          ...        ...         ...          ...            ...   \n",
       "19779  21.444074  16.398986   49.406959   713.275995           19.0   \n",
       "19780  32.506897  16.992897   61.268628   614.955532           34.0   \n",
       "19781  31.946636  15.404777   53.333829   703.000698           32.0   \n",
       "19782  24.781982  11.988908   37.833036   544.728088           25.0   \n",
       "19783  20.179609  10.630189   31.168240   525.870384           18.0   \n",
       "\n",
       "       beta_group   theta_p  cos_theta_p      beta  \\\n",
       "0            10.0  0.124085     0.992311  0.995126   \n",
       "1             8.0  0.454187     0.898618  0.988990   \n",
       "2             7.0  0.761376     0.723888  0.983981   \n",
       "3             8.0  0.117904     0.993057  0.987339   \n",
       "4             8.0  0.307330     0.953145  0.987956   \n",
       "...           ...       ...          ...       ...   \n",
       "19779         7.0  0.668863     0.784528  0.984070   \n",
       "19780         1.0  0.370776     0.932046  0.964711   \n",
       "19781         1.0  0.453877     0.898754  0.964470   \n",
       "19782         7.0  0.212217     0.977566  0.984659   \n",
       "19783         1.0  0.348391     0.939923  0.964753   \n",
       "\n",
       "       unfixed_calculated_r_2d_4_rsigms_4_tsigms  \\\n",
       "0                                      50.059421   \n",
       "1                                      53.352148   \n",
       "2                                      59.629623   \n",
       "3                                      45.104880   \n",
       "4                                      46.755532   \n",
       "...                                          ...   \n",
       "19779                                  58.358399   \n",
       "19780                                  24.547567   \n",
       "19781                                  20.018626   \n",
       "19782                                  43.454626   \n",
       "19783                                  24.500853   \n",
       "\n",
       "       beta_from_calc_r_4_rsigms_4_tsigms  delta_beta_4_rsigms_4_tsigms  \\\n",
       "0                                0.993576                     -0.001550   \n",
       "1                                0.989211                      0.000221   \n",
       "2                                0.978952                     -0.005029   \n",
       "3                                0.987428                      0.000089   \n",
       "4                                0.986615                     -0.001341   \n",
       "...                                   ...                           ...   \n",
       "19779                            0.983552                     -0.000518   \n",
       "19780                            0.965514                      0.000803   \n",
       "19781                            0.962867                     -0.001603   \n",
       "19782                            0.984562                     -0.000097   \n",
       "19783                            0.965525                      0.000771   \n",
       "\n",
       "       eps_beta_4_rsigms_4_tsigms  \n",
       "0                       -0.155804  \n",
       "1                        0.022313  \n",
       "2                       -0.511076  \n",
       "3                        0.009016  \n",
       "4                       -0.135740  \n",
       "...                           ...  \n",
       "19779                   -0.052620  \n",
       "19780                    0.083231  \n",
       "19781                   -0.166158  \n",
       "19782                   -0.009851  \n",
       "19783                    0.079965  \n",
       "\n",
       "[19700 rows x 13 columns]"
      ],
      "text/html": [
       "<div>\n",
       "<style scoped>\n",
       "    .dataframe tbody tr th:only-of-type {\n",
       "        vertical-align: middle;\n",
       "    }\n",
       "\n",
       "    .dataframe tbody tr th {\n",
       "        vertical-align: top;\n",
       "    }\n",
       "\n",
       "    .dataframe thead th {\n",
       "        text-align: right;\n",
       "    }\n",
       "</style>\n",
       "<table border=\"1\" class=\"dataframe\">\n",
       "  <thead>\n",
       "    <tr style=\"text-align: right;\">\n",
       "      <th></th>\n",
       "      <th>r_c_mean</th>\n",
       "      <th>r_c_std</th>\n",
       "      <th>r_c_width</th>\n",
       "      <th>momentum</th>\n",
       "      <th>signal_counts</th>\n",
       "      <th>beta_group</th>\n",
       "      <th>theta_p</th>\n",
       "      <th>cos_theta_p</th>\n",
       "      <th>beta</th>\n",
       "      <th>unfixed_calculated_r_2d_4_rsigms_4_tsigms</th>\n",
       "      <th>beta_from_calc_r_4_rsigms_4_tsigms</th>\n",
       "      <th>delta_beta_4_rsigms_4_tsigms</th>\n",
       "      <th>eps_beta_4_rsigms_4_tsigms</th>\n",
       "    </tr>\n",
       "  </thead>\n",
       "  <tbody>\n",
       "    <tr>\n",
       "      <th>0</th>\n",
       "      <td>42.111908</td>\n",
       "      <td>12.301341</td>\n",
       "      <td>53.201834</td>\n",
       "      <td>1408.464406</td>\n",
       "      <td>40.0</td>\n",
       "      <td>10.0</td>\n",
       "      <td>0.124085</td>\n",
       "      <td>0.992311</td>\n",
       "      <td>0.995126</td>\n",
       "      <td>50.059421</td>\n",
       "      <td>0.993576</td>\n",
       "      <td>-0.001550</td>\n",
       "      <td>-0.155804</td>\n",
       "    </tr>\n",
       "    <tr>\n",
       "      <th>1</th>\n",
       "      <td>39.684630</td>\n",
       "      <td>14.646902</td>\n",
       "      <td>58.218893</td>\n",
       "      <td>932.768102</td>\n",
       "      <td>30.0</td>\n",
       "      <td>8.0</td>\n",
       "      <td>0.454187</td>\n",
       "      <td>0.898618</td>\n",
       "      <td>0.988990</td>\n",
       "      <td>53.352148</td>\n",
       "      <td>0.989211</td>\n",
       "      <td>0.000221</td>\n",
       "      <td>0.022313</td>\n",
       "    </tr>\n",
       "    <tr>\n",
       "      <th>2</th>\n",
       "      <td>82.556662</td>\n",
       "      <td>53.245302</td>\n",
       "      <td>193.277462</td>\n",
       "      <td>770.366650</td>\n",
       "      <td>89.0</td>\n",
       "      <td>7.0</td>\n",
       "      <td>0.761376</td>\n",
       "      <td>0.723888</td>\n",
       "      <td>0.983981</td>\n",
       "      <td>59.629623</td>\n",
       "      <td>0.978952</td>\n",
       "      <td>-0.005029</td>\n",
       "      <td>-0.511076</td>\n",
       "    </tr>\n",
       "    <tr>\n",
       "      <th>3</th>\n",
       "      <td>29.861865</td>\n",
       "      <td>14.325736</td>\n",
       "      <td>47.794728</td>\n",
       "      <td>868.738138</td>\n",
       "      <td>33.0</td>\n",
       "      <td>8.0</td>\n",
       "      <td>0.117904</td>\n",
       "      <td>0.993057</td>\n",
       "      <td>0.987339</td>\n",
       "      <td>45.104880</td>\n",
       "      <td>0.987428</td>\n",
       "      <td>0.000089</td>\n",
       "      <td>0.009016</td>\n",
       "    </tr>\n",
       "    <tr>\n",
       "      <th>4</th>\n",
       "      <td>33.220167</td>\n",
       "      <td>15.736159</td>\n",
       "      <td>52.153319</td>\n",
       "      <td>891.133356</td>\n",
       "      <td>40.0</td>\n",
       "      <td>8.0</td>\n",
       "      <td>0.307330</td>\n",
       "      <td>0.953145</td>\n",
       "      <td>0.987956</td>\n",
       "      <td>46.755532</td>\n",
       "      <td>0.986615</td>\n",
       "      <td>-0.001341</td>\n",
       "      <td>-0.135740</td>\n",
       "    </tr>\n",
       "    <tr>\n",
       "      <th>...</th>\n",
       "      <td>...</td>\n",
       "      <td>...</td>\n",
       "      <td>...</td>\n",
       "      <td>...</td>\n",
       "      <td>...</td>\n",
       "      <td>...</td>\n",
       "      <td>...</td>\n",
       "      <td>...</td>\n",
       "      <td>...</td>\n",
       "      <td>...</td>\n",
       "      <td>...</td>\n",
       "      <td>...</td>\n",
       "      <td>...</td>\n",
       "    </tr>\n",
       "    <tr>\n",
       "      <th>19779</th>\n",
       "      <td>21.444074</td>\n",
       "      <td>16.398986</td>\n",
       "      <td>49.406959</td>\n",
       "      <td>713.275995</td>\n",
       "      <td>19.0</td>\n",
       "      <td>7.0</td>\n",
       "      <td>0.668863</td>\n",
       "      <td>0.784528</td>\n",
       "      <td>0.984070</td>\n",
       "      <td>58.358399</td>\n",
       "      <td>0.983552</td>\n",
       "      <td>-0.000518</td>\n",
       "      <td>-0.052620</td>\n",
       "    </tr>\n",
       "    <tr>\n",
       "      <th>19780</th>\n",
       "      <td>32.506897</td>\n",
       "      <td>16.992897</td>\n",
       "      <td>61.268628</td>\n",
       "      <td>614.955532</td>\n",
       "      <td>34.0</td>\n",
       "      <td>1.0</td>\n",
       "      <td>0.370776</td>\n",
       "      <td>0.932046</td>\n",
       "      <td>0.964711</td>\n",
       "      <td>24.547567</td>\n",
       "      <td>0.965514</td>\n",
       "      <td>0.000803</td>\n",
       "      <td>0.083231</td>\n",
       "    </tr>\n",
       "    <tr>\n",
       "      <th>19781</th>\n",
       "      <td>31.946636</td>\n",
       "      <td>15.404777</td>\n",
       "      <td>53.333829</td>\n",
       "      <td>703.000698</td>\n",
       "      <td>32.0</td>\n",
       "      <td>1.0</td>\n",
       "      <td>0.453877</td>\n",
       "      <td>0.898754</td>\n",
       "      <td>0.964470</td>\n",
       "      <td>20.018626</td>\n",
       "      <td>0.962867</td>\n",
       "      <td>-0.001603</td>\n",
       "      <td>-0.166158</td>\n",
       "    </tr>\n",
       "    <tr>\n",
       "      <th>19782</th>\n",
       "      <td>24.781982</td>\n",
       "      <td>11.988908</td>\n",
       "      <td>37.833036</td>\n",
       "      <td>544.728088</td>\n",
       "      <td>25.0</td>\n",
       "      <td>7.0</td>\n",
       "      <td>0.212217</td>\n",
       "      <td>0.977566</td>\n",
       "      <td>0.984659</td>\n",
       "      <td>43.454626</td>\n",
       "      <td>0.984562</td>\n",
       "      <td>-0.000097</td>\n",
       "      <td>-0.009851</td>\n",
       "    </tr>\n",
       "    <tr>\n",
       "      <th>19783</th>\n",
       "      <td>20.179609</td>\n",
       "      <td>10.630189</td>\n",
       "      <td>31.168240</td>\n",
       "      <td>525.870384</td>\n",
       "      <td>18.0</td>\n",
       "      <td>1.0</td>\n",
       "      <td>0.348391</td>\n",
       "      <td>0.939923</td>\n",
       "      <td>0.964753</td>\n",
       "      <td>24.500853</td>\n",
       "      <td>0.965525</td>\n",
       "      <td>0.000771</td>\n",
       "      <td>0.079965</td>\n",
       "    </tr>\n",
       "  </tbody>\n",
       "</table>\n",
       "<p>19700 rows × 13 columns</p>\n",
       "</div>"
      ]
     },
     "execution_count": 99,
     "metadata": {},
     "output_type": "execute_result"
    }
   ],
   "execution_count": 99
  },
  {
   "metadata": {
    "ExecuteTime": {
     "end_time": "2024-10-15T13:49:19.961063Z",
     "start_time": "2024-10-15T13:49:19.958691Z"
    }
   },
   "cell_type": "code",
   "source": "",
   "outputs": [],
   "execution_count": 99
  },
  {
   "metadata": {
    "ExecuteTime": {
     "end_time": "2024-10-15T13:49:20.194968Z",
     "start_time": "2024-10-15T13:49:20.109020Z"
    }
   },
   "cell_type": "code",
   "source": "edf",
   "outputs": [
    {
     "data": {
      "text/plain": [
       "                       x_c     y_c        wv_c        r_c       x_i  \\\n",
       "entry subentry                                                        \n",
       "0     0         106.240131  145.60  514.173228  54.993305  71.59541   \n",
       "      1         112.960131   68.32  437.007874  53.909517  71.59541   \n",
       "      2         123.040131  125.44  348.818898  56.169292  71.59541   \n",
       "      3          99.520131  148.96  486.614173  53.871022  71.59541   \n",
       "      4         123.040131  128.80  376.377953  57.600384  71.59541   \n",
       "...                    ...     ...         ...        ...       ...   \n",
       "19877 4         -11.359869 -395.36  580.314961  33.255871   2.24829   \n",
       "      5         -14.719869 -341.60  425.984252  28.917430   2.24829   \n",
       "      6          32.320131 -381.92  558.267717  34.497360   2.24829   \n",
       "      7          25.600131 -388.64  409.448819  33.217640   2.24829   \n",
       "      8          18.880131 -341.60  767.716535  28.721376   2.24829   \n",
       "\n",
       "                       y_i       t_c     z_c       true_p      beta  ...  \\\n",
       "entry subentry                                                       ...   \n",
       "0     0         102.891605 -0.022938  2000.0  1408.464406  0.995126  ...   \n",
       "      1         102.891605  0.001716  2000.0  1408.464406  0.995126  ...   \n",
       "      2         102.891605 -0.020076  2000.0  1408.464406  0.995126  ...   \n",
       "      3         102.891605 -0.022493  2000.0  1408.464406  0.995126  ...   \n",
       "      4         102.891605 -0.021214  2000.0  1408.464406  0.995126  ...   \n",
       "...                    ...       ...     ...          ...       ...  ...   \n",
       "19877 4        -365.015792 -0.037854  2000.0   511.674644  0.964753  ...   \n",
       "      5        -365.015792  0.025961  2000.0   511.674644  0.964753  ...   \n",
       "      6        -365.015792 -0.022385  2000.0   511.674644  0.964753  ...   \n",
       "      7        -365.015792 -0.030241  2000.0   511.674644  0.964753  ...   \n",
       "      8        -365.015792  0.025712  2000.0   511.674644  0.964753  ...   \n",
       "\n",
       "                mean_rotated_r_c  dist_from_mean_rotated_r_c  \\\n",
       "entry subentry                                                 \n",
       "0     0                53.372206                    2.213748   \n",
       "      1                53.372206                    0.511024   \n",
       "      2                53.372206                    3.262235   \n",
       "      3                53.372206                    1.099067   \n",
       "      4                53.372206                    4.705297   \n",
       "...                          ...                         ...   \n",
       "19877 4                28.822792                    7.009558   \n",
       "      5                28.822792                    0.438671   \n",
       "      6                28.822792                    6.843439   \n",
       "      7                28.822792                    6.263869   \n",
       "      8                28.822792                    0.643349   \n",
       "\n",
       "                rotated_r_c_sigm  beta_group  slice_counts_4_sigms  \\\n",
       "entry subentry                                                       \n",
       "0     0                 2.244755        10.0              0.175809   \n",
       "      1                 2.244755        10.0              0.438169   \n",
       "      2                 2.244755        10.0              0.175809   \n",
       "      3                 2.244755        10.0              0.438169   \n",
       "      4                 2.244755        10.0              0.033906   \n",
       "...                          ...         ...                   ...   \n",
       "19877 4                 6.767329         1.0              0.026371   \n",
       "      5                 6.767329         1.0              0.067812   \n",
       "      6                 6.767329         1.0              0.083768   \n",
       "      7                 6.767329         1.0              0.083768   \n",
       "      8                 6.767329         1.0              0.067812   \n",
       "\n",
       "                unfixed_calculated_r_2d_4_rsigms_4_tsigms  cos_theta_p  \\\n",
       "entry subentry                                                           \n",
       "0     0                                         50.059421     0.992311   \n",
       "      1                                         50.059421     0.992311   \n",
       "      2                                         50.059421     0.992311   \n",
       "      3                                         50.059421     0.992311   \n",
       "      4                                         50.059421     0.992311   \n",
       "...                                                   ...          ...   \n",
       "19877 4                                         24.500853     0.939923   \n",
       "      5                                         24.500853     0.939923   \n",
       "      6                                         24.500853     0.939923   \n",
       "      7                                         24.500853     0.939923   \n",
       "      8                                         24.500853     0.939923   \n",
       "\n",
       "                beta_from_calc_r_4_rsigms_4_tsigms  \\\n",
       "entry subentry                                       \n",
       "0     0                                   0.993576   \n",
       "      1                                   0.993576   \n",
       "      2                                   0.993576   \n",
       "      3                                   0.993576   \n",
       "      4                                   0.993576   \n",
       "...                                            ...   \n",
       "19877 4                                   0.965525   \n",
       "      5                                   0.965525   \n",
       "      6                                   0.965525   \n",
       "      7                                   0.965525   \n",
       "      8                                   0.965525   \n",
       "\n",
       "                delta_beta_4_rsigms_4_tsigms  eps_beta_4_rsigms_4_tsigms  \n",
       "entry subentry                                                            \n",
       "0     0                            -0.001550                   -0.155804  \n",
       "      1                            -0.001550                   -0.155804  \n",
       "      2                            -0.001550                   -0.155804  \n",
       "      3                            -0.001550                   -0.155804  \n",
       "      4                            -0.001550                   -0.155804  \n",
       "...                                      ...                         ...  \n",
       "19877 4                             0.000771                    0.079965  \n",
       "      5                             0.000771                    0.079965  \n",
       "      6                             0.000771                    0.079965  \n",
       "      7                             0.000771                    0.079965  \n",
       "      8                             0.000771                    0.079965  \n",
       "\n",
       "[617770 rows x 51 columns]"
      ],
      "text/html": [
       "<div>\n",
       "<style scoped>\n",
       "    .dataframe tbody tr th:only-of-type {\n",
       "        vertical-align: middle;\n",
       "    }\n",
       "\n",
       "    .dataframe tbody tr th {\n",
       "        vertical-align: top;\n",
       "    }\n",
       "\n",
       "    .dataframe thead th {\n",
       "        text-align: right;\n",
       "    }\n",
       "</style>\n",
       "<table border=\"1\" class=\"dataframe\">\n",
       "  <thead>\n",
       "    <tr style=\"text-align: right;\">\n",
       "      <th></th>\n",
       "      <th></th>\n",
       "      <th>x_c</th>\n",
       "      <th>y_c</th>\n",
       "      <th>wv_c</th>\n",
       "      <th>r_c</th>\n",
       "      <th>x_i</th>\n",
       "      <th>y_i</th>\n",
       "      <th>t_c</th>\n",
       "      <th>z_c</th>\n",
       "      <th>true_p</th>\n",
       "      <th>beta</th>\n",
       "      <th>...</th>\n",
       "      <th>mean_rotated_r_c</th>\n",
       "      <th>dist_from_mean_rotated_r_c</th>\n",
       "      <th>rotated_r_c_sigm</th>\n",
       "      <th>beta_group</th>\n",
       "      <th>slice_counts_4_sigms</th>\n",
       "      <th>unfixed_calculated_r_2d_4_rsigms_4_tsigms</th>\n",
       "      <th>cos_theta_p</th>\n",
       "      <th>beta_from_calc_r_4_rsigms_4_tsigms</th>\n",
       "      <th>delta_beta_4_rsigms_4_tsigms</th>\n",
       "      <th>eps_beta_4_rsigms_4_tsigms</th>\n",
       "    </tr>\n",
       "    <tr>\n",
       "      <th>entry</th>\n",
       "      <th>subentry</th>\n",
       "      <th></th>\n",
       "      <th></th>\n",
       "      <th></th>\n",
       "      <th></th>\n",
       "      <th></th>\n",
       "      <th></th>\n",
       "      <th></th>\n",
       "      <th></th>\n",
       "      <th></th>\n",
       "      <th></th>\n",
       "      <th></th>\n",
       "      <th></th>\n",
       "      <th></th>\n",
       "      <th></th>\n",
       "      <th></th>\n",
       "      <th></th>\n",
       "      <th></th>\n",
       "      <th></th>\n",
       "      <th></th>\n",
       "      <th></th>\n",
       "      <th></th>\n",
       "    </tr>\n",
       "  </thead>\n",
       "  <tbody>\n",
       "    <tr>\n",
       "      <th rowspan=\"5\" valign=\"top\">0</th>\n",
       "      <th>0</th>\n",
       "      <td>106.240131</td>\n",
       "      <td>145.60</td>\n",
       "      <td>514.173228</td>\n",
       "      <td>54.993305</td>\n",
       "      <td>71.59541</td>\n",
       "      <td>102.891605</td>\n",
       "      <td>-0.022938</td>\n",
       "      <td>2000.0</td>\n",
       "      <td>1408.464406</td>\n",
       "      <td>0.995126</td>\n",
       "      <td>...</td>\n",
       "      <td>53.372206</td>\n",
       "      <td>2.213748</td>\n",
       "      <td>2.244755</td>\n",
       "      <td>10.0</td>\n",
       "      <td>0.175809</td>\n",
       "      <td>50.059421</td>\n",
       "      <td>0.992311</td>\n",
       "      <td>0.993576</td>\n",
       "      <td>-0.001550</td>\n",
       "      <td>-0.155804</td>\n",
       "    </tr>\n",
       "    <tr>\n",
       "      <th>1</th>\n",
       "      <td>112.960131</td>\n",
       "      <td>68.32</td>\n",
       "      <td>437.007874</td>\n",
       "      <td>53.909517</td>\n",
       "      <td>71.59541</td>\n",
       "      <td>102.891605</td>\n",
       "      <td>0.001716</td>\n",
       "      <td>2000.0</td>\n",
       "      <td>1408.464406</td>\n",
       "      <td>0.995126</td>\n",
       "      <td>...</td>\n",
       "      <td>53.372206</td>\n",
       "      <td>0.511024</td>\n",
       "      <td>2.244755</td>\n",
       "      <td>10.0</td>\n",
       "      <td>0.438169</td>\n",
       "      <td>50.059421</td>\n",
       "      <td>0.992311</td>\n",
       "      <td>0.993576</td>\n",
       "      <td>-0.001550</td>\n",
       "      <td>-0.155804</td>\n",
       "    </tr>\n",
       "    <tr>\n",
       "      <th>2</th>\n",
       "      <td>123.040131</td>\n",
       "      <td>125.44</td>\n",
       "      <td>348.818898</td>\n",
       "      <td>56.169292</td>\n",
       "      <td>71.59541</td>\n",
       "      <td>102.891605</td>\n",
       "      <td>-0.020076</td>\n",
       "      <td>2000.0</td>\n",
       "      <td>1408.464406</td>\n",
       "      <td>0.995126</td>\n",
       "      <td>...</td>\n",
       "      <td>53.372206</td>\n",
       "      <td>3.262235</td>\n",
       "      <td>2.244755</td>\n",
       "      <td>10.0</td>\n",
       "      <td>0.175809</td>\n",
       "      <td>50.059421</td>\n",
       "      <td>0.992311</td>\n",
       "      <td>0.993576</td>\n",
       "      <td>-0.001550</td>\n",
       "      <td>-0.155804</td>\n",
       "    </tr>\n",
       "    <tr>\n",
       "      <th>3</th>\n",
       "      <td>99.520131</td>\n",
       "      <td>148.96</td>\n",
       "      <td>486.614173</td>\n",
       "      <td>53.871022</td>\n",
       "      <td>71.59541</td>\n",
       "      <td>102.891605</td>\n",
       "      <td>-0.022493</td>\n",
       "      <td>2000.0</td>\n",
       "      <td>1408.464406</td>\n",
       "      <td>0.995126</td>\n",
       "      <td>...</td>\n",
       "      <td>53.372206</td>\n",
       "      <td>1.099067</td>\n",
       "      <td>2.244755</td>\n",
       "      <td>10.0</td>\n",
       "      <td>0.438169</td>\n",
       "      <td>50.059421</td>\n",
       "      <td>0.992311</td>\n",
       "      <td>0.993576</td>\n",
       "      <td>-0.001550</td>\n",
       "      <td>-0.155804</td>\n",
       "    </tr>\n",
       "    <tr>\n",
       "      <th>4</th>\n",
       "      <td>123.040131</td>\n",
       "      <td>128.80</td>\n",
       "      <td>376.377953</td>\n",
       "      <td>57.600384</td>\n",
       "      <td>71.59541</td>\n",
       "      <td>102.891605</td>\n",
       "      <td>-0.021214</td>\n",
       "      <td>2000.0</td>\n",
       "      <td>1408.464406</td>\n",
       "      <td>0.995126</td>\n",
       "      <td>...</td>\n",
       "      <td>53.372206</td>\n",
       "      <td>4.705297</td>\n",
       "      <td>2.244755</td>\n",
       "      <td>10.0</td>\n",
       "      <td>0.033906</td>\n",
       "      <td>50.059421</td>\n",
       "      <td>0.992311</td>\n",
       "      <td>0.993576</td>\n",
       "      <td>-0.001550</td>\n",
       "      <td>-0.155804</td>\n",
       "    </tr>\n",
       "    <tr>\n",
       "      <th>...</th>\n",
       "      <th>...</th>\n",
       "      <td>...</td>\n",
       "      <td>...</td>\n",
       "      <td>...</td>\n",
       "      <td>...</td>\n",
       "      <td>...</td>\n",
       "      <td>...</td>\n",
       "      <td>...</td>\n",
       "      <td>...</td>\n",
       "      <td>...</td>\n",
       "      <td>...</td>\n",
       "      <td>...</td>\n",
       "      <td>...</td>\n",
       "      <td>...</td>\n",
       "      <td>...</td>\n",
       "      <td>...</td>\n",
       "      <td>...</td>\n",
       "      <td>...</td>\n",
       "      <td>...</td>\n",
       "      <td>...</td>\n",
       "      <td>...</td>\n",
       "      <td>...</td>\n",
       "    </tr>\n",
       "    <tr>\n",
       "      <th rowspan=\"5\" valign=\"top\">19877</th>\n",
       "      <th>4</th>\n",
       "      <td>-11.359869</td>\n",
       "      <td>-395.36</td>\n",
       "      <td>580.314961</td>\n",
       "      <td>33.255871</td>\n",
       "      <td>2.24829</td>\n",
       "      <td>-365.015792</td>\n",
       "      <td>-0.037854</td>\n",
       "      <td>2000.0</td>\n",
       "      <td>511.674644</td>\n",
       "      <td>0.964753</td>\n",
       "      <td>...</td>\n",
       "      <td>28.822792</td>\n",
       "      <td>7.009558</td>\n",
       "      <td>6.767329</td>\n",
       "      <td>1.0</td>\n",
       "      <td>0.026371</td>\n",
       "      <td>24.500853</td>\n",
       "      <td>0.939923</td>\n",
       "      <td>0.965525</td>\n",
       "      <td>0.000771</td>\n",
       "      <td>0.079965</td>\n",
       "    </tr>\n",
       "    <tr>\n",
       "      <th>5</th>\n",
       "      <td>-14.719869</td>\n",
       "      <td>-341.60</td>\n",
       "      <td>425.984252</td>\n",
       "      <td>28.917430</td>\n",
       "      <td>2.24829</td>\n",
       "      <td>-365.015792</td>\n",
       "      <td>0.025961</td>\n",
       "      <td>2000.0</td>\n",
       "      <td>511.674644</td>\n",
       "      <td>0.964753</td>\n",
       "      <td>...</td>\n",
       "      <td>28.822792</td>\n",
       "      <td>0.438671</td>\n",
       "      <td>6.767329</td>\n",
       "      <td>1.0</td>\n",
       "      <td>0.067812</td>\n",
       "      <td>24.500853</td>\n",
       "      <td>0.939923</td>\n",
       "      <td>0.965525</td>\n",
       "      <td>0.000771</td>\n",
       "      <td>0.079965</td>\n",
       "    </tr>\n",
       "    <tr>\n",
       "      <th>6</th>\n",
       "      <td>32.320131</td>\n",
       "      <td>-381.92</td>\n",
       "      <td>558.267717</td>\n",
       "      <td>34.497360</td>\n",
       "      <td>2.24829</td>\n",
       "      <td>-365.015792</td>\n",
       "      <td>-0.022385</td>\n",
       "      <td>2000.0</td>\n",
       "      <td>511.674644</td>\n",
       "      <td>0.964753</td>\n",
       "      <td>...</td>\n",
       "      <td>28.822792</td>\n",
       "      <td>6.843439</td>\n",
       "      <td>6.767329</td>\n",
       "      <td>1.0</td>\n",
       "      <td>0.083768</td>\n",
       "      <td>24.500853</td>\n",
       "      <td>0.939923</td>\n",
       "      <td>0.965525</td>\n",
       "      <td>0.000771</td>\n",
       "      <td>0.079965</td>\n",
       "    </tr>\n",
       "    <tr>\n",
       "      <th>7</th>\n",
       "      <td>25.600131</td>\n",
       "      <td>-388.64</td>\n",
       "      <td>409.448819</td>\n",
       "      <td>33.217640</td>\n",
       "      <td>2.24829</td>\n",
       "      <td>-365.015792</td>\n",
       "      <td>-0.030241</td>\n",
       "      <td>2000.0</td>\n",
       "      <td>511.674644</td>\n",
       "      <td>0.964753</td>\n",
       "      <td>...</td>\n",
       "      <td>28.822792</td>\n",
       "      <td>6.263869</td>\n",
       "      <td>6.767329</td>\n",
       "      <td>1.0</td>\n",
       "      <td>0.083768</td>\n",
       "      <td>24.500853</td>\n",
       "      <td>0.939923</td>\n",
       "      <td>0.965525</td>\n",
       "      <td>0.000771</td>\n",
       "      <td>0.079965</td>\n",
       "    </tr>\n",
       "    <tr>\n",
       "      <th>8</th>\n",
       "      <td>18.880131</td>\n",
       "      <td>-341.60</td>\n",
       "      <td>767.716535</td>\n",
       "      <td>28.721376</td>\n",
       "      <td>2.24829</td>\n",
       "      <td>-365.015792</td>\n",
       "      <td>0.025712</td>\n",
       "      <td>2000.0</td>\n",
       "      <td>511.674644</td>\n",
       "      <td>0.964753</td>\n",
       "      <td>...</td>\n",
       "      <td>28.822792</td>\n",
       "      <td>0.643349</td>\n",
       "      <td>6.767329</td>\n",
       "      <td>1.0</td>\n",
       "      <td>0.067812</td>\n",
       "      <td>24.500853</td>\n",
       "      <td>0.939923</td>\n",
       "      <td>0.965525</td>\n",
       "      <td>0.000771</td>\n",
       "      <td>0.079965</td>\n",
       "    </tr>\n",
       "  </tbody>\n",
       "</table>\n",
       "<p>617770 rows × 51 columns</p>\n",
       "</div>"
      ]
     },
     "execution_count": 100,
     "metadata": {},
     "output_type": "execute_result"
    }
   ],
   "execution_count": 100
  },
  {
   "metadata": {
    "ExecuteTime": {
     "end_time": "2024-10-15T13:49:20.564728Z",
     "start_time": "2024-10-15T13:49:20.339155Z"
    }
   },
   "cell_type": "code",
   "source": [
    "plt.subplots(1, 2, figsize=(18, 6))\n",
    "plt.subplot(1, 2, 1)\n",
    "plt.hist(bdf.r_c_std, bins='auto')\n",
    "plt.subplot(1, 2, 2)\n",
    "plt.hist(bdf.r_c_width, bins='auto')\n",
    "plt.show()"
   ],
   "outputs": [
    {
     "data": {
      "text/plain": [
       "<Figure size 1800x600 with 2 Axes>"
      ],
      "image/png": "[encoded data removed]"
     },
     "metadata": {},
     "output_type": "display_data"
    }
   ],
   "execution_count": 101
  },
  {
   "metadata": {
    "ExecuteTime": {
     "end_time": "2024-10-15T13:49:20.568618Z",
     "start_time": "2024-10-15T13:49:20.564728Z"
    }
   },
   "cell_type": "code",
   "source": "np.tan(np.arccos(1 / (idf.n_mean * bdf.iloc[0].beta))) * 40",
   "outputs": [
    {
     "data": {
      "text/plain": [
       "0    11.428647\n",
       "Name: n_mean, dtype: float64"
      ]
     },
     "execution_count": 102,
     "metadata": {},
     "output_type": "execute_result"
    }
   ],
   "execution_count": 102
  },
  {
   "metadata": {
    "ExecuteTime": {
     "end_time": "2024-10-15T13:49:22.693548Z",
     "start_time": "2024-10-15T13:49:22.689735Z"
    }
   },
   "cell_type": "code",
   "source": "np.sin(np.arccos(1 / (idf.n_mean * bdf.iloc[0].beta))) ** 2 * 90 * 40",
   "outputs": [
    {
     "data": {
      "text/plain": [
       "0    271.701444\n",
       "Name: n_mean, dtype: float64"
      ]
     },
     "execution_count": 103,
     "metadata": {},
     "output_type": "execute_result"
    }
   ],
   "execution_count": 103
  },
  {
   "metadata": {
    "ExecuteTime": {
     "end_time": "2024-10-15T13:49:23.143825Z",
     "start_time": "2024-10-15T13:49:23.014509Z"
    }
   },
   "cell_type": "code",
   "source": [
    "event = edf.loc[12]\n",
    "plt.subplots(1, 3, figsize=(24, 6))\n",
    "plt.subplot(1, 3, 1)\n",
    "plt.scatter(event.x_c, event.y_c)\n",
    "plt.scatter(event.x_i, event.y_i)\n",
    "# plt.xlim((-70, 70))\n",
    "# plt.ylim((-70, 70))\n",
    "plt.subplot(1, 3, 2)\n",
    "plt.scatter(event.rotated_r_c, event.slice_counts_4_sigms)\n",
    "plt.xlim((45, 70))\n",
    "plt.subplot(1, 3, 3)\n",
    "plt.hist(event.rotated_r_c, bins='auto')\n",
    "plt.show()"
   ],
   "outputs": [
    {
     "data": {
      "text/plain": [
       "<Figure size 2400x600 with 3 Axes>"
      ],
      "image/png": "[encoded data removed]"
     },
     "metadata": {},
     "output_type": "display_data"
    }
   ],
   "execution_count": 104
  },
  {
   "metadata": {
    "ExecuteTime": {
     "end_time": "2024-10-15T13:49:23.336296Z",
     "start_time": "2024-10-15T13:49:23.184485Z"
    }
   },
   "cell_type": "code",
   "source": [
    "plt.scatter(bdf.beta, bdf.signal_counts)\n",
    "plt.show()"
   ],
   "outputs": [
    {
     "data": {
      "text/plain": [
       "<Figure size 640x480 with 1 Axes>"
      ],
      "image/png": "[encoded data removed]"
     },
     "metadata": {},
     "output_type": "display_data"
    }
   ],
   "execution_count": 105
  },
  {
   "metadata": {
    "ExecuteTime": {
     "end_time": "2024-10-15T13:49:24.713932Z",
     "start_time": "2024-10-15T13:49:24.695738Z"
    }
   },
   "cell_type": "code",
   "source": "event",
   "outputs": [
    {
     "data": {
      "text/plain": [
       "                 x_c     y_c        wv_c        r_c        x_i         y_i  \\\n",
       "subentry                                                                     \n",
       "0          92.800131 -375.20  387.401575  54.834579  82.445773 -321.351895   \n",
       "1         102.880131 -368.48  740.157480  51.367511  82.445773 -321.351895   \n",
       "2          39.040131 -344.96  464.566929  49.410448  82.445773 -321.351895   \n",
       "3          45.760131 -351.68  492.125984  47.598638  82.445773 -321.351895   \n",
       "4          62.560131 -277.76  425.984252  47.913382  82.445773 -321.351895   \n",
       "5         106.240131 -371.84  651.968504  55.814157  82.445773 -321.351895   \n",
       "6          35.680131 -314.72  321.259843  47.233541  82.445773 -321.351895   \n",
       "7          42.400131 -351.68  464.566929  50.233927  82.445773 -321.351895   \n",
       "8          86.080131 -274.40  525.196850  47.092346  82.445773 -321.351895   \n",
       "9          72.640131 -375.20  497.637795  54.733618  82.445773 -321.351895   \n",
       "10        126.400131 -348.32  602.362205  51.568054  82.445773 -321.351895   \n",
       "11         52.480131 -368.48  354.330709  55.847990  82.445773 -321.351895   \n",
       "12         99.520131 -375.20  420.472441  56.490283  82.445773 -321.351895   \n",
       "13         49.120131 -361.76  343.307087  52.377604  82.445773 -321.351895   \n",
       "14         62.560131 -368.48  481.102362  51.151706  82.445773 -321.351895   \n",
       "15         99.520131 -277.76  365.354331  46.816525  82.445773 -321.351895   \n",
       "16         35.680131 -318.08  685.039370  46.879960  82.445773 -321.351895   \n",
       "17         35.680131 -328.16  376.377953  47.258604  82.445773 -321.351895   \n",
       "18         52.480131 -287.84  525.196850  44.955388  82.445773 -321.351895   \n",
       "19        109.600131 -284.48  403.937008  45.791875  82.445773 -321.351895   \n",
       "20         79.360131 -274.40  519.685039  47.053179  82.445773 -321.351895   \n",
       "21        123.040131 -361.76  398.425197  57.277542  82.445773 -321.351895   \n",
       "22        129.760131 -338.24  381.889764  50.237998  82.445773 -321.351895   \n",
       "23        126.400131 -355.04  558.267717  55.379364  82.445773 -321.351895   \n",
       "24         65.920131 -277.76  519.685039  46.619204  82.445773 -321.351895   \n",
       "25         49.120131 -358.40  425.984252  49.831321  82.445773 -321.351895   \n",
       "26         49.120131 -368.48  337.795276  57.720505  82.445773 -321.351895   \n",
       "27        109.600131 -371.84  420.472441  57.327200  82.445773 -321.351895   \n",
       "28        129.760131 -331.52  541.732283  48.394615  82.445773 -321.351895   \n",
       "29         39.040131 -297.92  492.125984  49.326499  82.445773 -321.351895   \n",
       "30        123.040131 -294.56  431.496063  48.638539  82.445773 -321.351895   \n",
       "31         55.840131 -281.12  547.244094  48.233449  82.445773 -321.351895   \n",
       "32        102.880131 -281.12  337.795276  45.123922  82.445773 -321.351895   \n",
       "33        123.040131 -291.20  425.984252  50.567170  82.445773 -321.351895   \n",
       "34        133.120131 -344.96  343.307087  55.903784  82.445773 -321.351895   \n",
       "35         45.760131 -291.20  541.732283  47.486558  82.445773 -321.351895   \n",
       "36         82.720131 -381.92  359.842520  60.568726  82.445773 -321.351895   \n",
       "\n",
       "               t_c     z_c      true_p      beta  ...  mean_rotated_r_c  \\\n",
       "subentry                                          ...                     \n",
       "0        -0.060419  2000.0  801.335527  0.985169  ...          51.89699   \n",
       "1        -0.056171  2000.0  801.335527  0.985169  ...          51.89699   \n",
       "2        -0.014855  2000.0  801.335527  0.985169  ...          51.89699   \n",
       "3        -0.023658  2000.0  801.335527  0.985169  ...          51.89699   \n",
       "4         0.049918  2000.0  801.335527  0.985169  ...          51.89699   \n",
       "5        -0.060511  2000.0  801.335527  0.985169  ...          51.89699   \n",
       "6         0.017859  2000.0  801.335527  0.985169  ...          51.89699   \n",
       "7        -0.022763  2000.0  801.335527  0.985169  ...          51.89699   \n",
       "8         0.047048  2000.0  801.335527  0.985169  ...          51.89699   \n",
       "9        -0.055112  2000.0  801.335527  0.985169  ...          51.89699   \n",
       "10       -0.041628  2000.0  801.335527  0.985169  ...          51.89699   \n",
       "11       -0.042869  2000.0  801.335527  0.985169  ...          51.89699   \n",
       "12       -0.062189  2000.0  801.335527  0.985169  ...          51.89699   \n",
       "13       -0.035023  2000.0  801.335527  0.985169  ...          51.89699   \n",
       "14       -0.045529  2000.0  801.335527  0.985169  ...          51.89699   \n",
       "15        0.039758  2000.0  801.335527  0.985169  ...          51.89699   \n",
       "16        0.014303  2000.0  801.335527  0.985169  ...          51.89699   \n",
       "17        0.003667  2000.0  801.335527  0.985169  ...          51.89699   \n",
       "18        0.041882  2000.0  801.335527  0.985169  ...          51.89699   \n",
       "19        0.029830  2000.0  801.335527  0.985169  ...          51.89699   \n",
       "20        0.048897  2000.0  801.335527  0.985169  ...          51.89699   \n",
       "21       -0.054595  2000.0  801.335527  0.985169  ...          51.89699   \n",
       "22       -0.032086  2000.0  801.335527  0.985169  ...          51.89699   \n",
       "23       -0.048565  2000.0  801.335527  0.985169  ...          51.89699   \n",
       "24        0.048991  2000.0  801.335527  0.985169  ...          51.89699   \n",
       "25       -0.031537  2000.0  801.335527  0.985169  ...          51.89699   \n",
       "26       -0.041982  2000.0  801.335527  0.985169  ...          51.89699   \n",
       "27       -0.061398  2000.0  801.335527  0.985169  ...          51.89699   \n",
       "28       -0.025105  2000.0  801.335527  0.985169  ...          51.89699   \n",
       "29        0.034803  2000.0  801.335527  0.985169  ...          51.89699   \n",
       "30        0.015475  2000.0  801.335527  0.985169  ...          51.89699   \n",
       "31        0.048163  2000.0  801.335527  0.985169  ...          51.89699   \n",
       "32        0.035247  2000.0  801.335527  0.985169  ...          51.89699   \n",
       "33        0.019034  2000.0  801.335527  0.985169  ...          51.89699   \n",
       "34       -0.039944  2000.0  801.335527  0.985169  ...          51.89699   \n",
       "35        0.040136  2000.0  801.335527  0.985169  ...          51.89699   \n",
       "36       -0.064666  2000.0  801.335527  0.985169  ...          51.89699   \n",
       "\n",
       "          dist_from_mean_rotated_r_c  rotated_r_c_sigm  beta_group  \\\n",
       "subentry                                                             \n",
       "0                           5.700706          5.082047         7.0   \n",
       "1                           2.170334          5.082047         7.0   \n",
       "2                           2.107861          5.082047         7.0   \n",
       "3                           3.504592          5.082047         7.0   \n",
       "4                           3.404694          5.082047         7.0   \n",
       "5                           6.612821          5.082047         7.0   \n",
       "6                           4.848545          5.082047         7.0   \n",
       "7                           0.980876          5.082047         7.0   \n",
       "8                           4.357829          5.082047         7.0   \n",
       "9                           5.213046          5.082047         7.0   \n",
       "10                          1.323967          5.082047         7.0   \n",
       "11                          5.467840          5.082047         7.0   \n",
       "12                          7.364008          5.082047         7.0   \n",
       "13                          1.705301          5.082047         7.0   \n",
       "14                          1.187136          5.082047         7.0   \n",
       "15                          4.899239          5.082047         7.0   \n",
       "16                          5.207989          5.082047         7.0   \n",
       "17                          4.732864          5.082047         7.0   \n",
       "18                          6.721088          5.082047         7.0   \n",
       "19                          6.187194          5.082047         7.0   \n",
       "20                          4.320576          5.082047         7.0   \n",
       "21                          7.554099          5.082047         7.0   \n",
       "22                          0.512326          5.082047         7.0   \n",
       "23                          5.372536          5.082047         7.0   \n",
       "24                          4.756419          5.082047         7.0   \n",
       "25                          0.933809          5.082047         7.0   \n",
       "26                          7.204730          5.082047         7.0   \n",
       "27                          8.079126          5.082047         7.0   \n",
       "28                          2.659828          5.082047         7.0   \n",
       "29                          2.487062          5.082047         7.0   \n",
       "30                          3.430245          5.082047         7.0   \n",
       "31                          3.155021          5.082047         7.0   \n",
       "32                          6.748379          5.082047         7.0   \n",
       "33                          1.467493          5.082047         7.0   \n",
       "34                          5.355578          5.082047         7.0   \n",
       "35                          4.206514          5.082047         7.0   \n",
       "36                         11.319215          5.082047         7.0   \n",
       "\n",
       "          slice_counts_4_sigms  unfixed_calculated_r_2d_4_rsigms_4_tsigms  \\\n",
       "subentry                                                                    \n",
       "0                     0.169530                                  45.559851   \n",
       "1                     0.073028                                  45.559851   \n",
       "2                     0.197785                                  45.559851   \n",
       "3                     0.330215                                  45.559851   \n",
       "4                     0.197785                                  45.559851   \n",
       "5                     0.169530                                  45.559851   \n",
       "6                     0.330215                                  45.559851   \n",
       "7                     0.132911                                  45.559851   \n",
       "8                     0.330215                                  45.559851   \n",
       "9                     0.169530                                  45.559851   \n",
       "10                    0.073028                                  45.559851   \n",
       "11                    0.169530                                  45.559851   \n",
       "12                    0.065474                                  45.559851   \n",
       "13                    0.073028                                  45.559851   \n",
       "14                    0.073028                                  45.559851   \n",
       "15                    0.330215                                  45.559851   \n",
       "16                    0.330215                                  45.559851   \n",
       "17                    0.330215                                  45.559851   \n",
       "18                    0.258918                                  45.559851   \n",
       "19                    0.258918                                  45.559851   \n",
       "20                    0.330215                                  45.559851   \n",
       "21                    0.065474                                  45.559851   \n",
       "22                    0.132911                                  45.559851   \n",
       "23                    0.169530                                  45.559851   \n",
       "24                    0.330215                                  45.559851   \n",
       "25                    0.132911                                  45.559851   \n",
       "26                    0.065474                                  45.559851   \n",
       "27                    0.065474                                  45.559851   \n",
       "28                    0.197785                                  45.559851   \n",
       "29                    0.197785                                  45.559851   \n",
       "30                    0.197785                                  45.559851   \n",
       "31                    0.197785                                  45.559851   \n",
       "32                    0.258918                                  45.559851   \n",
       "33                    0.197785                                  45.559851   \n",
       "34                    0.169530                                  45.559851   \n",
       "35                    0.330215                                  45.559851   \n",
       "36                    0.015312                                  45.559851   \n",
       "\n",
       "          cos_theta_p  beta_from_calc_r_4_rsigms_4_tsigms  \\\n",
       "subentry                                                    \n",
       "0            0.949598                            0.985077   \n",
       "1            0.949598                            0.985077   \n",
       "2            0.949598                            0.985077   \n",
       "3            0.949598                            0.985077   \n",
       "4            0.949598                            0.985077   \n",
       "5            0.949598                            0.985077   \n",
       "6            0.949598                            0.985077   \n",
       "7            0.949598                            0.985077   \n",
       "8            0.949598                            0.985077   \n",
       "9            0.949598                            0.985077   \n",
       "10           0.949598                            0.985077   \n",
       "11           0.949598                            0.985077   \n",
       "12           0.949598                            0.985077   \n",
       "13           0.949598                            0.985077   \n",
       "14           0.949598                            0.985077   \n",
       "15           0.949598                            0.985077   \n",
       "16           0.949598                            0.985077   \n",
       "17           0.949598                            0.985077   \n",
       "18           0.949598                            0.985077   \n",
       "19           0.949598                            0.985077   \n",
       "20           0.949598                            0.985077   \n",
       "21           0.949598                            0.985077   \n",
       "22           0.949598                            0.985077   \n",
       "23           0.949598                            0.985077   \n",
       "24           0.949598                            0.985077   \n",
       "25           0.949598                            0.985077   \n",
       "26           0.949598                            0.985077   \n",
       "27           0.949598                            0.985077   \n",
       "28           0.949598                            0.985077   \n",
       "29           0.949598                            0.985077   \n",
       "30           0.949598                            0.985077   \n",
       "31           0.949598                            0.985077   \n",
       "32           0.949598                            0.985077   \n",
       "33           0.949598                            0.985077   \n",
       "34           0.949598                            0.985077   \n",
       "35           0.949598                            0.985077   \n",
       "36           0.949598                            0.985077   \n",
       "\n",
       "          delta_beta_4_rsigms_4_tsigms  eps_beta_4_rsigms_4_tsigms  \n",
       "subentry                                                            \n",
       "0                            -0.000091                   -0.009276  \n",
       "1                            -0.000091                   -0.009276  \n",
       "2                            -0.000091                   -0.009276  \n",
       "3                            -0.000091                   -0.009276  \n",
       "4                            -0.000091                   -0.009276  \n",
       "5                            -0.000091                   -0.009276  \n",
       "6                            -0.000091                   -0.009276  \n",
       "7                            -0.000091                   -0.009276  \n",
       "8                            -0.000091                   -0.009276  \n",
       "9                            -0.000091                   -0.009276  \n",
       "10                           -0.000091                   -0.009276  \n",
       "11                           -0.000091                   -0.009276  \n",
       "12                           -0.000091                   -0.009276  \n",
       "13                           -0.000091                   -0.009276  \n",
       "14                           -0.000091                   -0.009276  \n",
       "15                           -0.000091                   -0.009276  \n",
       "16                           -0.000091                   -0.009276  \n",
       "17                           -0.000091                   -0.009276  \n",
       "18                           -0.000091                   -0.009276  \n",
       "19                           -0.000091                   -0.009276  \n",
       "20                           -0.000091                   -0.009276  \n",
       "21                           -0.000091                   -0.009276  \n",
       "22                           -0.000091                   -0.009276  \n",
       "23                           -0.000091                   -0.009276  \n",
       "24                           -0.000091                   -0.009276  \n",
       "25                           -0.000091                   -0.009276  \n",
       "26                           -0.000091                   -0.009276  \n",
       "27                           -0.000091                   -0.009276  \n",
       "28                           -0.000091                   -0.009276  \n",
       "29                           -0.000091                   -0.009276  \n",
       "30                           -0.000091                   -0.009276  \n",
       "31                           -0.000091                   -0.009276  \n",
       "32                           -0.000091                   -0.009276  \n",
       "33                           -0.000091                   -0.009276  \n",
       "34                           -0.000091                   -0.009276  \n",
       "35                           -0.000091                   -0.009276  \n",
       "36                           -0.000091                   -0.009276  \n",
       "\n",
       "[37 rows x 51 columns]"
      ],
      "text/html": [
       "<div>\n",
       "<style scoped>\n",
       "    .dataframe tbody tr th:only-of-type {\n",
       "        vertical-align: middle;\n",
       "    }\n",
       "\n",
       "    .dataframe tbody tr th {\n",
       "        vertical-align: top;\n",
       "    }\n",
       "\n",
       "    .dataframe thead th {\n",
       "        text-align: right;\n",
       "    }\n",
       "</style>\n",
       "<table border=\"1\" class=\"dataframe\">\n",
       "  <thead>\n",
       "    <tr style=\"text-align: right;\">\n",
       "      <th></th>\n",
       "      <th>x_c</th>\n",
       "      <th>y_c</th>\n",
       "      <th>wv_c</th>\n",
       "      <th>r_c</th>\n",
       "      <th>x_i</th>\n",
       "      <th>y_i</th>\n",
       "      <th>t_c</th>\n",
       "      <th>z_c</th>\n",
       "      <th>true_p</th>\n",
       "      <th>beta</th>\n",
       "      <th>...</th>\n",
       "      <th>mean_rotated_r_c</th>\n",
       "      <th>dist_from_mean_rotated_r_c</th>\n",
       "      <th>rotated_r_c_sigm</th>\n",
       "      <th>beta_group</th>\n",
       "      <th>slice_counts_4_sigms</th>\n",
       "      <th>unfixed_calculated_r_2d_4_rsigms_4_tsigms</th>\n",
       "      <th>cos_theta_p</th>\n",
       "      <th>beta_from_calc_r_4_rsigms_4_tsigms</th>\n",
       "      <th>delta_beta_4_rsigms_4_tsigms</th>\n",
       "      <th>eps_beta_4_rsigms_4_tsigms</th>\n",
       "    </tr>\n",
       "    <tr>\n",
       "      <th>subentry</th>\n",
       "      <th></th>\n",
       "      <th></th>\n",
       "      <th></th>\n",
       "      <th></th>\n",
       "      <th></th>\n",
       "      <th></th>\n",
       "      <th></th>\n",
       "      <th></th>\n",
       "      <th></th>\n",
       "      <th></th>\n",
       "      <th></th>\n",
       "      <th></th>\n",
       "      <th></th>\n",
       "      <th></th>\n",
       "      <th></th>\n",
       "      <th></th>\n",
       "      <th></th>\n",
       "      <th></th>\n",
       "      <th></th>\n",
       "      <th></th>\n",
       "      <th></th>\n",
       "    </tr>\n",
       "  </thead>\n",
       "  <tbody>\n",
       "    <tr>\n",
       "      <th>0</th>\n",
       "      <td>92.800131</td>\n",
       "      <td>-375.20</td>\n",
       "      <td>387.401575</td>\n",
       "      <td>54.834579</td>\n",
       "      <td>82.445773</td>\n",
       "      <td>-321.351895</td>\n",
       "      <td>-0.060419</td>\n",
       "      <td>2000.0</td>\n",
       "      <td>801.335527</td>\n",
       "      <td>0.985169</td>\n",
       "      <td>...</td>\n",
       "      <td>51.89699</td>\n",
       "      <td>5.700706</td>\n",
       "      <td>5.082047</td>\n",
       "      <td>7.0</td>\n",
       "      <td>0.169530</td>\n",
       "      <td>45.559851</td>\n",
       "      <td>0.949598</td>\n",
       "      <td>0.985077</td>\n",
       "      <td>-0.000091</td>\n",
       "      <td>-0.009276</td>\n",
       "    </tr>\n",
       "    <tr>\n",
       "      <th>1</th>\n",
       "      <td>102.880131</td>\n",
       "      <td>-368.48</td>\n",
       "      <td>740.157480</td>\n",
       "      <td>51.367511</td>\n",
       "      <td>82.445773</td>\n",
       "      <td>-321.351895</td>\n",
       "      <td>-0.056171</td>\n",
       "      <td>2000.0</td>\n",
       "      <td>801.335527</td>\n",
       "      <td>0.985169</td>\n",
       "      <td>...</td>\n",
       "      <td>51.89699</td>\n",
       "      <td>2.170334</td>\n",
       "      <td>5.082047</td>\n",
       "      <td>7.0</td>\n",
       "      <td>0.073028</td>\n",
       "      <td>45.559851</td>\n",
       "      <td>0.949598</td>\n",
       "      <td>0.985077</td>\n",
       "      <td>-0.000091</td>\n",
       "      <td>-0.009276</td>\n",
       "    </tr>\n",
       "    <tr>\n",
       "      <th>2</th>\n",
       "      <td>39.040131</td>\n",
       "      <td>-344.96</td>\n",
       "      <td>464.566929</td>\n",
       "      <td>49.410448</td>\n",
       "      <td>82.445773</td>\n",
       "      <td>-321.351895</td>\n",
       "      <td>-0.014855</td>\n",
       "      <td>2000.0</td>\n",
       "      <td>801.335527</td>\n",
       "      <td>0.985169</td>\n",
       "      <td>...</td>\n",
       "      <td>51.89699</td>\n",
       "      <td>2.107861</td>\n",
       "      <td>5.082047</td>\n",
       "      <td>7.0</td>\n",
       "      <td>0.197785</td>\n",
       "      <td>45.559851</td>\n",
       "      <td>0.949598</td>\n",
       "      <td>0.985077</td>\n",
       "      <td>-0.000091</td>\n",
       "      <td>-0.009276</td>\n",
       "    </tr>\n",
       "    <tr>\n",
       "      <th>3</th>\n",
       "      <td>45.760131</td>\n",
       "      <td>-351.68</td>\n",
       "      <td>492.125984</td>\n",
       "      <td>47.598638</td>\n",
       "      <td>82.445773</td>\n",
       "      <td>-321.351895</td>\n",
       "      <td>-0.023658</td>\n",
       "      <td>2000.0</td>\n",
       "      <td>801.335527</td>\n",
       "      <td>0.985169</td>\n",
       "      <td>...</td>\n",
       "      <td>51.89699</td>\n",
       "      <td>3.504592</td>\n",
       "      <td>5.082047</td>\n",
       "      <td>7.0</td>\n",
       "      <td>0.330215</td>\n",
       "      <td>45.559851</td>\n",
       "      <td>0.949598</td>\n",
       "      <td>0.985077</td>\n",
       "      <td>-0.000091</td>\n",
       "      <td>-0.009276</td>\n",
       "    </tr>\n",
       "    <tr>\n",
       "      <th>4</th>\n",
       "      <td>62.560131</td>\n",
       "      <td>-277.76</td>\n",
       "      <td>425.984252</td>\n",
       "      <td>47.913382</td>\n",
       "      <td>82.445773</td>\n",
       "      <td>-321.351895</td>\n",
       "      <td>0.049918</td>\n",
       "      <td>2000.0</td>\n",
       "      <td>801.335527</td>\n",
       "      <td>0.985169</td>\n",
       "      <td>...</td>\n",
       "      <td>51.89699</td>\n",
       "      <td>3.404694</td>\n",
       "      <td>5.082047</td>\n",
       "      <td>7.0</td>\n",
       "      <td>0.197785</td>\n",
       "      <td>45.559851</td>\n",
       "      <td>0.949598</td>\n",
       "      <td>0.985077</td>\n",
       "      <td>-0.000091</td>\n",
       "      <td>-0.009276</td>\n",
       "    </tr>\n",
       "    <tr>\n",
       "      <th>5</th>\n",
       "      <td>106.240131</td>\n",
       "      <td>-371.84</td>\n",
       "      <td>651.968504</td>\n",
       "      <td>55.814157</td>\n",
       "      <td>82.445773</td>\n",
       "      <td>-321.351895</td>\n",
       "      <td>-0.060511</td>\n",
       "      <td>2000.0</td>\n",
       "      <td>801.335527</td>\n",
       "      <td>0.985169</td>\n",
       "      <td>...</td>\n",
       "      <td>51.89699</td>\n",
       "      <td>6.612821</td>\n",
       "      <td>5.082047</td>\n",
       "      <td>7.0</td>\n",
       "      <td>0.169530</td>\n",
       "      <td>45.559851</td>\n",
       "      <td>0.949598</td>\n",
       "      <td>0.985077</td>\n",
       "      <td>-0.000091</td>\n",
       "      <td>-0.009276</td>\n",
       "    </tr>\n",
       "    <tr>\n",
       "      <th>6</th>\n",
       "      <td>35.680131</td>\n",
       "      <td>-314.72</td>\n",
       "      <td>321.259843</td>\n",
       "      <td>47.233541</td>\n",
       "      <td>82.445773</td>\n",
       "      <td>-321.351895</td>\n",
       "      <td>0.017859</td>\n",
       "      <td>2000.0</td>\n",
       "      <td>801.335527</td>\n",
       "      <td>0.985169</td>\n",
       "      <td>...</td>\n",
       "      <td>51.89699</td>\n",
       "      <td>4.848545</td>\n",
       "      <td>5.082047</td>\n",
       "      <td>7.0</td>\n",
       "      <td>0.330215</td>\n",
       "      <td>45.559851</td>\n",
       "      <td>0.949598</td>\n",
       "      <td>0.985077</td>\n",
       "      <td>-0.000091</td>\n",
       "      <td>-0.009276</td>\n",
       "    </tr>\n",
       "    <tr>\n",
       "      <th>7</th>\n",
       "      <td>42.400131</td>\n",
       "      <td>-351.68</td>\n",
       "      <td>464.566929</td>\n",
       "      <td>50.233927</td>\n",
       "      <td>82.445773</td>\n",
       "      <td>-321.351895</td>\n",
       "      <td>-0.022763</td>\n",
       "      <td>2000.0</td>\n",
       "      <td>801.335527</td>\n",
       "      <td>0.985169</td>\n",
       "      <td>...</td>\n",
       "      <td>51.89699</td>\n",
       "      <td>0.980876</td>\n",
       "      <td>5.082047</td>\n",
       "      <td>7.0</td>\n",
       "      <td>0.132911</td>\n",
       "      <td>45.559851</td>\n",
       "      <td>0.949598</td>\n",
       "      <td>0.985077</td>\n",
       "      <td>-0.000091</td>\n",
       "      <td>-0.009276</td>\n",
       "    </tr>\n",
       "    <tr>\n",
       "      <th>8</th>\n",
       "      <td>86.080131</td>\n",
       "      <td>-274.40</td>\n",
       "      <td>525.196850</td>\n",
       "      <td>47.092346</td>\n",
       "      <td>82.445773</td>\n",
       "      <td>-321.351895</td>\n",
       "      <td>0.047048</td>\n",
       "      <td>2000.0</td>\n",
       "      <td>801.335527</td>\n",
       "      <td>0.985169</td>\n",
       "      <td>...</td>\n",
       "      <td>51.89699</td>\n",
       "      <td>4.357829</td>\n",
       "      <td>5.082047</td>\n",
       "      <td>7.0</td>\n",
       "      <td>0.330215</td>\n",
       "      <td>45.559851</td>\n",
       "      <td>0.949598</td>\n",
       "      <td>0.985077</td>\n",
       "      <td>-0.000091</td>\n",
       "      <td>-0.009276</td>\n",
       "    </tr>\n",
       "    <tr>\n",
       "      <th>9</th>\n",
       "      <td>72.640131</td>\n",
       "      <td>-375.20</td>\n",
       "      <td>497.637795</td>\n",
       "      <td>54.733618</td>\n",
       "      <td>82.445773</td>\n",
       "      <td>-321.351895</td>\n",
       "      <td>-0.055112</td>\n",
       "      <td>2000.0</td>\n",
       "      <td>801.335527</td>\n",
       "      <td>0.985169</td>\n",
       "      <td>...</td>\n",
       "      <td>51.89699</td>\n",
       "      <td>5.213046</td>\n",
       "      <td>5.082047</td>\n",
       "      <td>7.0</td>\n",
       "      <td>0.169530</td>\n",
       "      <td>45.559851</td>\n",
       "      <td>0.949598</td>\n",
       "      <td>0.985077</td>\n",
       "      <td>-0.000091</td>\n",
       "      <td>-0.009276</td>\n",
       "    </tr>\n",
       "    <tr>\n",
       "      <th>10</th>\n",
       "      <td>126.400131</td>\n",
       "      <td>-348.32</td>\n",
       "      <td>602.362205</td>\n",
       "      <td>51.568054</td>\n",
       "      <td>82.445773</td>\n",
       "      <td>-321.351895</td>\n",
       "      <td>-0.041628</td>\n",
       "      <td>2000.0</td>\n",
       "      <td>801.335527</td>\n",
       "      <td>0.985169</td>\n",
       "      <td>...</td>\n",
       "      <td>51.89699</td>\n",
       "      <td>1.323967</td>\n",
       "      <td>5.082047</td>\n",
       "      <td>7.0</td>\n",
       "      <td>0.073028</td>\n",
       "      <td>45.559851</td>\n",
       "      <td>0.949598</td>\n",
       "      <td>0.985077</td>\n",
       "      <td>-0.000091</td>\n",
       "      <td>-0.009276</td>\n",
       "    </tr>\n",
       "    <tr>\n",
       "      <th>11</th>\n",
       "      <td>52.480131</td>\n",
       "      <td>-368.48</td>\n",
       "      <td>354.330709</td>\n",
       "      <td>55.847990</td>\n",
       "      <td>82.445773</td>\n",
       "      <td>-321.351895</td>\n",
       "      <td>-0.042869</td>\n",
       "      <td>2000.0</td>\n",
       "      <td>801.335527</td>\n",
       "      <td>0.985169</td>\n",
       "      <td>...</td>\n",
       "      <td>51.89699</td>\n",
       "      <td>5.467840</td>\n",
       "      <td>5.082047</td>\n",
       "      <td>7.0</td>\n",
       "      <td>0.169530</td>\n",
       "      <td>45.559851</td>\n",
       "      <td>0.949598</td>\n",
       "      <td>0.985077</td>\n",
       "      <td>-0.000091</td>\n",
       "      <td>-0.009276</td>\n",
       "    </tr>\n",
       "    <tr>\n",
       "      <th>12</th>\n",
       "      <td>99.520131</td>\n",
       "      <td>-375.20</td>\n",
       "      <td>420.472441</td>\n",
       "      <td>56.490283</td>\n",
       "      <td>82.445773</td>\n",
       "      <td>-321.351895</td>\n",
       "      <td>-0.062189</td>\n",
       "      <td>2000.0</td>\n",
       "      <td>801.335527</td>\n",
       "      <td>0.985169</td>\n",
       "      <td>...</td>\n",
       "      <td>51.89699</td>\n",
       "      <td>7.364008</td>\n",
       "      <td>5.082047</td>\n",
       "      <td>7.0</td>\n",
       "      <td>0.065474</td>\n",
       "      <td>45.559851</td>\n",
       "      <td>0.949598</td>\n",
       "      <td>0.985077</td>\n",
       "      <td>-0.000091</td>\n",
       "      <td>-0.009276</td>\n",
       "    </tr>\n",
       "    <tr>\n",
       "      <th>13</th>\n",
       "      <td>49.120131</td>\n",
       "      <td>-361.76</td>\n",
       "      <td>343.307087</td>\n",
       "      <td>52.377604</td>\n",
       "      <td>82.445773</td>\n",
       "      <td>-321.351895</td>\n",
       "      <td>-0.035023</td>\n",
       "      <td>2000.0</td>\n",
       "      <td>801.335527</td>\n",
       "      <td>0.985169</td>\n",
       "      <td>...</td>\n",
       "      <td>51.89699</td>\n",
       "      <td>1.705301</td>\n",
       "      <td>5.082047</td>\n",
       "      <td>7.0</td>\n",
       "      <td>0.073028</td>\n",
       "      <td>45.559851</td>\n",
       "      <td>0.949598</td>\n",
       "      <td>0.985077</td>\n",
       "      <td>-0.000091</td>\n",
       "      <td>-0.009276</td>\n",
       "    </tr>\n",
       "    <tr>\n",
       "      <th>14</th>\n",
       "      <td>62.560131</td>\n",
       "      <td>-368.48</td>\n",
       "      <td>481.102362</td>\n",
       "      <td>51.151706</td>\n",
       "      <td>82.445773</td>\n",
       "      <td>-321.351895</td>\n",
       "      <td>-0.045529</td>\n",
       "      <td>2000.0</td>\n",
       "      <td>801.335527</td>\n",
       "      <td>0.985169</td>\n",
       "      <td>...</td>\n",
       "      <td>51.89699</td>\n",
       "      <td>1.187136</td>\n",
       "      <td>5.082047</td>\n",
       "      <td>7.0</td>\n",
       "      <td>0.073028</td>\n",
       "      <td>45.559851</td>\n",
       "      <td>0.949598</td>\n",
       "      <td>0.985077</td>\n",
       "      <td>-0.000091</td>\n",
       "      <td>-0.009276</td>\n",
       "    </tr>\n",
       "    <tr>\n",
       "      <th>15</th>\n",
       "      <td>99.520131</td>\n",
       "      <td>-277.76</td>\n",
       "      <td>365.354331</td>\n",
       "      <td>46.816525</td>\n",
       "      <td>82.445773</td>\n",
       "      <td>-321.351895</td>\n",
       "      <td>0.039758</td>\n",
       "      <td>2000.0</td>\n",
       "      <td>801.335527</td>\n",
       "      <td>0.985169</td>\n",
       "      <td>...</td>\n",
       "      <td>51.89699</td>\n",
       "      <td>4.899239</td>\n",
       "      <td>5.082047</td>\n",
       "      <td>7.0</td>\n",
       "      <td>0.330215</td>\n",
       "      <td>45.559851</td>\n",
       "      <td>0.949598</td>\n",
       "      <td>0.985077</td>\n",
       "      <td>-0.000091</td>\n",
       "      <td>-0.009276</td>\n",
       "    </tr>\n",
       "    <tr>\n",
       "      <th>16</th>\n",
       "      <td>35.680131</td>\n",
       "      <td>-318.08</td>\n",
       "      <td>685.039370</td>\n",
       "      <td>46.879960</td>\n",
       "      <td>82.445773</td>\n",
       "      <td>-321.351895</td>\n",
       "      <td>0.014303</td>\n",
       "      <td>2000.0</td>\n",
       "      <td>801.335527</td>\n",
       "      <td>0.985169</td>\n",
       "      <td>...</td>\n",
       "      <td>51.89699</td>\n",
       "      <td>5.207989</td>\n",
       "      <td>5.082047</td>\n",
       "      <td>7.0</td>\n",
       "      <td>0.330215</td>\n",
       "      <td>45.559851</td>\n",
       "      <td>0.949598</td>\n",
       "      <td>0.985077</td>\n",
       "      <td>-0.000091</td>\n",
       "      <td>-0.009276</td>\n",
       "    </tr>\n",
       "    <tr>\n",
       "      <th>17</th>\n",
       "      <td>35.680131</td>\n",
       "      <td>-328.16</td>\n",
       "      <td>376.377953</td>\n",
       "      <td>47.258604</td>\n",
       "      <td>82.445773</td>\n",
       "      <td>-321.351895</td>\n",
       "      <td>0.003667</td>\n",
       "      <td>2000.0</td>\n",
       "      <td>801.335527</td>\n",
       "      <td>0.985169</td>\n",
       "      <td>...</td>\n",
       "      <td>51.89699</td>\n",
       "      <td>4.732864</td>\n",
       "      <td>5.082047</td>\n",
       "      <td>7.0</td>\n",
       "      <td>0.330215</td>\n",
       "      <td>45.559851</td>\n",
       "      <td>0.949598</td>\n",
       "      <td>0.985077</td>\n",
       "      <td>-0.000091</td>\n",
       "      <td>-0.009276</td>\n",
       "    </tr>\n",
       "    <tr>\n",
       "      <th>18</th>\n",
       "      <td>52.480131</td>\n",
       "      <td>-287.84</td>\n",
       "      <td>525.196850</td>\n",
       "      <td>44.955388</td>\n",
       "      <td>82.445773</td>\n",
       "      <td>-321.351895</td>\n",
       "      <td>0.041882</td>\n",
       "      <td>2000.0</td>\n",
       "      <td>801.335527</td>\n",
       "      <td>0.985169</td>\n",
       "      <td>...</td>\n",
       "      <td>51.89699</td>\n",
       "      <td>6.721088</td>\n",
       "      <td>5.082047</td>\n",
       "      <td>7.0</td>\n",
       "      <td>0.258918</td>\n",
       "      <td>45.559851</td>\n",
       "      <td>0.949598</td>\n",
       "      <td>0.985077</td>\n",
       "      <td>-0.000091</td>\n",
       "      <td>-0.009276</td>\n",
       "    </tr>\n",
       "    <tr>\n",
       "      <th>19</th>\n",
       "      <td>109.600131</td>\n",
       "      <td>-284.48</td>\n",
       "      <td>403.937008</td>\n",
       "      <td>45.791875</td>\n",
       "      <td>82.445773</td>\n",
       "      <td>-321.351895</td>\n",
       "      <td>0.029830</td>\n",
       "      <td>2000.0</td>\n",
       "      <td>801.335527</td>\n",
       "      <td>0.985169</td>\n",
       "      <td>...</td>\n",
       "      <td>51.89699</td>\n",
       "      <td>6.187194</td>\n",
       "      <td>5.082047</td>\n",
       "      <td>7.0</td>\n",
       "      <td>0.258918</td>\n",
       "      <td>45.559851</td>\n",
       "      <td>0.949598</td>\n",
       "      <td>0.985077</td>\n",
       "      <td>-0.000091</td>\n",
       "      <td>-0.009276</td>\n",
       "    </tr>\n",
       "    <tr>\n",
       "      <th>20</th>\n",
       "      <td>79.360131</td>\n",
       "      <td>-274.40</td>\n",
       "      <td>519.685039</td>\n",
       "      <td>47.053179</td>\n",
       "      <td>82.445773</td>\n",
       "      <td>-321.351895</td>\n",
       "      <td>0.048897</td>\n",
       "      <td>2000.0</td>\n",
       "      <td>801.335527</td>\n",
       "      <td>0.985169</td>\n",
       "      <td>...</td>\n",
       "      <td>51.89699</td>\n",
       "      <td>4.320576</td>\n",
       "      <td>5.082047</td>\n",
       "      <td>7.0</td>\n",
       "      <td>0.330215</td>\n",
       "      <td>45.559851</td>\n",
       "      <td>0.949598</td>\n",
       "      <td>0.985077</td>\n",
       "      <td>-0.000091</td>\n",
       "      <td>-0.009276</td>\n",
       "    </tr>\n",
       "    <tr>\n",
       "      <th>21</th>\n",
       "      <td>123.040131</td>\n",
       "      <td>-361.76</td>\n",
       "      <td>398.425197</td>\n",
       "      <td>57.277542</td>\n",
       "      <td>82.445773</td>\n",
       "      <td>-321.351895</td>\n",
       "      <td>-0.054595</td>\n",
       "      <td>2000.0</td>\n",
       "      <td>801.335527</td>\n",
       "      <td>0.985169</td>\n",
       "      <td>...</td>\n",
       "      <td>51.89699</td>\n",
       "      <td>7.554099</td>\n",
       "      <td>5.082047</td>\n",
       "      <td>7.0</td>\n",
       "      <td>0.065474</td>\n",
       "      <td>45.559851</td>\n",
       "      <td>0.949598</td>\n",
       "      <td>0.985077</td>\n",
       "      <td>-0.000091</td>\n",
       "      <td>-0.009276</td>\n",
       "    </tr>\n",
       "    <tr>\n",
       "      <th>22</th>\n",
       "      <td>129.760131</td>\n",
       "      <td>-338.24</td>\n",
       "      <td>381.889764</td>\n",
       "      <td>50.237998</td>\n",
       "      <td>82.445773</td>\n",
       "      <td>-321.351895</td>\n",
       "      <td>-0.032086</td>\n",
       "      <td>2000.0</td>\n",
       "      <td>801.335527</td>\n",
       "      <td>0.985169</td>\n",
       "      <td>...</td>\n",
       "      <td>51.89699</td>\n",
       "      <td>0.512326</td>\n",
       "      <td>5.082047</td>\n",
       "      <td>7.0</td>\n",
       "      <td>0.132911</td>\n",
       "      <td>45.559851</td>\n",
       "      <td>0.949598</td>\n",
       "      <td>0.985077</td>\n",
       "      <td>-0.000091</td>\n",
       "      <td>-0.009276</td>\n",
       "    </tr>\n",
       "    <tr>\n",
       "      <th>23</th>\n",
       "      <td>126.400131</td>\n",
       "      <td>-355.04</td>\n",
       "      <td>558.267717</td>\n",
       "      <td>55.379364</td>\n",
       "      <td>82.445773</td>\n",
       "      <td>-321.351895</td>\n",
       "      <td>-0.048565</td>\n",
       "      <td>2000.0</td>\n",
       "      <td>801.335527</td>\n",
       "      <td>0.985169</td>\n",
       "      <td>...</td>\n",
       "      <td>51.89699</td>\n",
       "      <td>5.372536</td>\n",
       "      <td>5.082047</td>\n",
       "      <td>7.0</td>\n",
       "      <td>0.169530</td>\n",
       "      <td>45.559851</td>\n",
       "      <td>0.949598</td>\n",
       "      <td>0.985077</td>\n",
       "      <td>-0.000091</td>\n",
       "      <td>-0.009276</td>\n",
       "    </tr>\n",
       "    <tr>\n",
       "      <th>24</th>\n",
       "      <td>65.920131</td>\n",
       "      <td>-277.76</td>\n",
       "      <td>519.685039</td>\n",
       "      <td>46.619204</td>\n",
       "      <td>82.445773</td>\n",
       "      <td>-321.351895</td>\n",
       "      <td>0.048991</td>\n",
       "      <td>2000.0</td>\n",
       "      <td>801.335527</td>\n",
       "      <td>0.985169</td>\n",
       "      <td>...</td>\n",
       "      <td>51.89699</td>\n",
       "      <td>4.756419</td>\n",
       "      <td>5.082047</td>\n",
       "      <td>7.0</td>\n",
       "      <td>0.330215</td>\n",
       "      <td>45.559851</td>\n",
       "      <td>0.949598</td>\n",
       "      <td>0.985077</td>\n",
       "      <td>-0.000091</td>\n",
       "      <td>-0.009276</td>\n",
       "    </tr>\n",
       "    <tr>\n",
       "      <th>25</th>\n",
       "      <td>49.120131</td>\n",
       "      <td>-358.40</td>\n",
       "      <td>425.984252</td>\n",
       "      <td>49.831321</td>\n",
       "      <td>82.445773</td>\n",
       "      <td>-321.351895</td>\n",
       "      <td>-0.031537</td>\n",
       "      <td>2000.0</td>\n",
       "      <td>801.335527</td>\n",
       "      <td>0.985169</td>\n",
       "      <td>...</td>\n",
       "      <td>51.89699</td>\n",
       "      <td>0.933809</td>\n",
       "      <td>5.082047</td>\n",
       "      <td>7.0</td>\n",
       "      <td>0.132911</td>\n",
       "      <td>45.559851</td>\n",
       "      <td>0.949598</td>\n",
       "      <td>0.985077</td>\n",
       "      <td>-0.000091</td>\n",
       "      <td>-0.009276</td>\n",
       "    </tr>\n",
       "    <tr>\n",
       "      <th>26</th>\n",
       "      <td>49.120131</td>\n",
       "      <td>-368.48</td>\n",
       "      <td>337.795276</td>\n",
       "      <td>57.720505</td>\n",
       "      <td>82.445773</td>\n",
       "      <td>-321.351895</td>\n",
       "      <td>-0.041982</td>\n",
       "      <td>2000.0</td>\n",
       "      <td>801.335527</td>\n",
       "      <td>0.985169</td>\n",
       "      <td>...</td>\n",
       "      <td>51.89699</td>\n",
       "      <td>7.204730</td>\n",
       "      <td>5.082047</td>\n",
       "      <td>7.0</td>\n",
       "      <td>0.065474</td>\n",
       "      <td>45.559851</td>\n",
       "      <td>0.949598</td>\n",
       "      <td>0.985077</td>\n",
       "      <td>-0.000091</td>\n",
       "      <td>-0.009276</td>\n",
       "    </tr>\n",
       "    <tr>\n",
       "      <th>27</th>\n",
       "      <td>109.600131</td>\n",
       "      <td>-371.84</td>\n",
       "      <td>420.472441</td>\n",
       "      <td>57.327200</td>\n",
       "      <td>82.445773</td>\n",
       "      <td>-321.351895</td>\n",
       "      <td>-0.061398</td>\n",
       "      <td>2000.0</td>\n",
       "      <td>801.335527</td>\n",
       "      <td>0.985169</td>\n",
       "      <td>...</td>\n",
       "      <td>51.89699</td>\n",
       "      <td>8.079126</td>\n",
       "      <td>5.082047</td>\n",
       "      <td>7.0</td>\n",
       "      <td>0.065474</td>\n",
       "      <td>45.559851</td>\n",
       "      <td>0.949598</td>\n",
       "      <td>0.985077</td>\n",
       "      <td>-0.000091</td>\n",
       "      <td>-0.009276</td>\n",
       "    </tr>\n",
       "    <tr>\n",
       "      <th>28</th>\n",
       "      <td>129.760131</td>\n",
       "      <td>-331.52</td>\n",
       "      <td>541.732283</td>\n",
       "      <td>48.394615</td>\n",
       "      <td>82.445773</td>\n",
       "      <td>-321.351895</td>\n",
       "      <td>-0.025105</td>\n",
       "      <td>2000.0</td>\n",
       "      <td>801.335527</td>\n",
       "      <td>0.985169</td>\n",
       "      <td>...</td>\n",
       "      <td>51.89699</td>\n",
       "      <td>2.659828</td>\n",
       "      <td>5.082047</td>\n",
       "      <td>7.0</td>\n",
       "      <td>0.197785</td>\n",
       "      <td>45.559851</td>\n",
       "      <td>0.949598</td>\n",
       "      <td>0.985077</td>\n",
       "      <td>-0.000091</td>\n",
       "      <td>-0.009276</td>\n",
       "    </tr>\n",
       "    <tr>\n",
       "      <th>29</th>\n",
       "      <td>39.040131</td>\n",
       "      <td>-297.92</td>\n",
       "      <td>492.125984</td>\n",
       "      <td>49.326499</td>\n",
       "      <td>82.445773</td>\n",
       "      <td>-321.351895</td>\n",
       "      <td>0.034803</td>\n",
       "      <td>2000.0</td>\n",
       "      <td>801.335527</td>\n",
       "      <td>0.985169</td>\n",
       "      <td>...</td>\n",
       "      <td>51.89699</td>\n",
       "      <td>2.487062</td>\n",
       "      <td>5.082047</td>\n",
       "      <td>7.0</td>\n",
       "      <td>0.197785</td>\n",
       "      <td>45.559851</td>\n",
       "      <td>0.949598</td>\n",
       "      <td>0.985077</td>\n",
       "      <td>-0.000091</td>\n",
       "      <td>-0.009276</td>\n",
       "    </tr>\n",
       "    <tr>\n",
       "      <th>30</th>\n",
       "      <td>123.040131</td>\n",
       "      <td>-294.56</td>\n",
       "      <td>431.496063</td>\n",
       "      <td>48.638539</td>\n",
       "      <td>82.445773</td>\n",
       "      <td>-321.351895</td>\n",
       "      <td>0.015475</td>\n",
       "      <td>2000.0</td>\n",
       "      <td>801.335527</td>\n",
       "      <td>0.985169</td>\n",
       "      <td>...</td>\n",
       "      <td>51.89699</td>\n",
       "      <td>3.430245</td>\n",
       "      <td>5.082047</td>\n",
       "      <td>7.0</td>\n",
       "      <td>0.197785</td>\n",
       "      <td>45.559851</td>\n",
       "      <td>0.949598</td>\n",
       "      <td>0.985077</td>\n",
       "      <td>-0.000091</td>\n",
       "      <td>-0.009276</td>\n",
       "    </tr>\n",
       "    <tr>\n",
       "      <th>31</th>\n",
       "      <td>55.840131</td>\n",
       "      <td>-281.12</td>\n",
       "      <td>547.244094</td>\n",
       "      <td>48.233449</td>\n",
       "      <td>82.445773</td>\n",
       "      <td>-321.351895</td>\n",
       "      <td>0.048163</td>\n",
       "      <td>2000.0</td>\n",
       "      <td>801.335527</td>\n",
       "      <td>0.985169</td>\n",
       "      <td>...</td>\n",
       "      <td>51.89699</td>\n",
       "      <td>3.155021</td>\n",
       "      <td>5.082047</td>\n",
       "      <td>7.0</td>\n",
       "      <td>0.197785</td>\n",
       "      <td>45.559851</td>\n",
       "      <td>0.949598</td>\n",
       "      <td>0.985077</td>\n",
       "      <td>-0.000091</td>\n",
       "      <td>-0.009276</td>\n",
       "    </tr>\n",
       "    <tr>\n",
       "      <th>32</th>\n",
       "      <td>102.880131</td>\n",
       "      <td>-281.12</td>\n",
       "      <td>337.795276</td>\n",
       "      <td>45.123922</td>\n",
       "      <td>82.445773</td>\n",
       "      <td>-321.351895</td>\n",
       "      <td>0.035247</td>\n",
       "      <td>2000.0</td>\n",
       "      <td>801.335527</td>\n",
       "      <td>0.985169</td>\n",
       "      <td>...</td>\n",
       "      <td>51.89699</td>\n",
       "      <td>6.748379</td>\n",
       "      <td>5.082047</td>\n",
       "      <td>7.0</td>\n",
       "      <td>0.258918</td>\n",
       "      <td>45.559851</td>\n",
       "      <td>0.949598</td>\n",
       "      <td>0.985077</td>\n",
       "      <td>-0.000091</td>\n",
       "      <td>-0.009276</td>\n",
       "    </tr>\n",
       "    <tr>\n",
       "      <th>33</th>\n",
       "      <td>123.040131</td>\n",
       "      <td>-291.20</td>\n",
       "      <td>425.984252</td>\n",
       "      <td>50.567170</td>\n",
       "      <td>82.445773</td>\n",
       "      <td>-321.351895</td>\n",
       "      <td>0.019034</td>\n",
       "      <td>2000.0</td>\n",
       "      <td>801.335527</td>\n",
       "      <td>0.985169</td>\n",
       "      <td>...</td>\n",
       "      <td>51.89699</td>\n",
       "      <td>1.467493</td>\n",
       "      <td>5.082047</td>\n",
       "      <td>7.0</td>\n",
       "      <td>0.197785</td>\n",
       "      <td>45.559851</td>\n",
       "      <td>0.949598</td>\n",
       "      <td>0.985077</td>\n",
       "      <td>-0.000091</td>\n",
       "      <td>-0.009276</td>\n",
       "    </tr>\n",
       "    <tr>\n",
       "      <th>34</th>\n",
       "      <td>133.120131</td>\n",
       "      <td>-344.96</td>\n",
       "      <td>343.307087</td>\n",
       "      <td>55.903784</td>\n",
       "      <td>82.445773</td>\n",
       "      <td>-321.351895</td>\n",
       "      <td>-0.039944</td>\n",
       "      <td>2000.0</td>\n",
       "      <td>801.335527</td>\n",
       "      <td>0.985169</td>\n",
       "      <td>...</td>\n",
       "      <td>51.89699</td>\n",
       "      <td>5.355578</td>\n",
       "      <td>5.082047</td>\n",
       "      <td>7.0</td>\n",
       "      <td>0.169530</td>\n",
       "      <td>45.559851</td>\n",
       "      <td>0.949598</td>\n",
       "      <td>0.985077</td>\n",
       "      <td>-0.000091</td>\n",
       "      <td>-0.009276</td>\n",
       "    </tr>\n",
       "    <tr>\n",
       "      <th>35</th>\n",
       "      <td>45.760131</td>\n",
       "      <td>-291.20</td>\n",
       "      <td>541.732283</td>\n",
       "      <td>47.486558</td>\n",
       "      <td>82.445773</td>\n",
       "      <td>-321.351895</td>\n",
       "      <td>0.040136</td>\n",
       "      <td>2000.0</td>\n",
       "      <td>801.335527</td>\n",
       "      <td>0.985169</td>\n",
       "      <td>...</td>\n",
       "      <td>51.89699</td>\n",
       "      <td>4.206514</td>\n",
       "      <td>5.082047</td>\n",
       "      <td>7.0</td>\n",
       "      <td>0.330215</td>\n",
       "      <td>45.559851</td>\n",
       "      <td>0.949598</td>\n",
       "      <td>0.985077</td>\n",
       "      <td>-0.000091</td>\n",
       "      <td>-0.009276</td>\n",
       "    </tr>\n",
       "    <tr>\n",
       "      <th>36</th>\n",
       "      <td>82.720131</td>\n",
       "      <td>-381.92</td>\n",
       "      <td>359.842520</td>\n",
       "      <td>60.568726</td>\n",
       "      <td>82.445773</td>\n",
       "      <td>-321.351895</td>\n",
       "      <td>-0.064666</td>\n",
       "      <td>2000.0</td>\n",
       "      <td>801.335527</td>\n",
       "      <td>0.985169</td>\n",
       "      <td>...</td>\n",
       "      <td>51.89699</td>\n",
       "      <td>11.319215</td>\n",
       "      <td>5.082047</td>\n",
       "      <td>7.0</td>\n",
       "      <td>0.015312</td>\n",
       "      <td>45.559851</td>\n",
       "      <td>0.949598</td>\n",
       "      <td>0.985077</td>\n",
       "      <td>-0.000091</td>\n",
       "      <td>-0.009276</td>\n",
       "    </tr>\n",
       "  </tbody>\n",
       "</table>\n",
       "<p>37 rows × 51 columns</p>\n",
       "</div>"
      ]
     },
     "execution_count": 106,
     "metadata": {},
     "output_type": "execute_result"
    }
   ],
   "execution_count": 106
  },
  {
   "metadata": {
    "ExecuteTime": {
     "end_time": "2024-10-15T13:49:25.240394Z",
     "start_time": "2024-10-15T13:49:24.908437Z"
    }
   },
   "cell_type": "code",
   "source": [
    "plt.subplots(1, 2, figsize=(18, 6))\n",
    "plt.subplot(1, 2, 1)\n",
    "plt.hist(edf.r_c, bins='auto')\n",
    "plt.xlim((30, 90))\n",
    "plt.subplot(1, 2, 2)\n",
    "plt.hist(bdf.unfixed_calculated_r_2d_4_rsigms_4_tsigms, bins='auto')\n",
    "plt.xlim((30, 90))\n",
    "plt.show()"
   ],
   "outputs": [
    {
     "data": {
      "text/plain": [
       "<Figure size 1800x600 with 2 Axes>"
      ],
      "image/png": "[encoded data removed]"
     },
     "metadata": {},
     "output_type": "display_data"
    }
   ],
   "execution_count": 107
  },
  {
   "metadata": {
    "ExecuteTime": {
     "end_time": "2024-10-15T13:49:31.091069Z",
     "start_time": "2024-10-15T13:49:31.087946Z"
    }
   },
   "cell_type": "code",
   "source": "momentum_from_beta(0.985, 139.57)",
   "outputs": [
    {
     "data": {
      "text/plain": [
       "796.7139544777222"
      ]
     },
     "execution_count": 109,
     "metadata": {},
     "output_type": "execute_result"
    }
   ],
   "execution_count": 109
  },
  {
   "metadata": {
    "ExecuteTime": {
     "end_time": "2024-10-15T13:49:31.845013Z",
     "start_time": "2024-10-15T13:49:31.841774Z"
    }
   },
   "cell_type": "code",
   "source": "momentum_from_beta(0.995704, 139.57)",
   "outputs": [
    {
     "data": {
      "text/plain": [
       "1500.8667280793736"
      ]
     },
     "execution_count": 110,
     "metadata": {},
     "output_type": "execute_result"
    }
   ],
   "execution_count": 110
  },
  {
   "metadata": {
    "ExecuteTime": {
     "end_time": "2024-10-15T13:51:27.209447Z",
     "start_time": "2024-10-15T13:51:27.207257Z"
    }
   },
   "cell_type": "code",
   "source": "# edf.loc[30]",
   "outputs": [],
   "execution_count": 111
  },
  {
   "metadata": {
    "ExecuteTime": {
     "end_time": "2024-10-15T13:51:27.406388Z",
     "start_time": "2024-10-15T13:51:27.402730Z"
    }
   },
   "cell_type": "code",
   "source": "min(bdf.cos_theta_p)",
   "outputs": [
    {
     "data": {
      "text/plain": [
       "0.7033225901526667"
      ]
     },
     "execution_count": 112,
     "metadata": {},
     "output_type": "execute_result"
    }
   ],
   "execution_count": 112
  },
  {
   "metadata": {
    "ExecuteTime": {
     "end_time": "2024-10-15T13:51:27.632443Z",
     "start_time": "2024-10-15T13:51:27.497422Z"
    }
   },
   "cell_type": "code",
   "source": [
    "plt.hist(bdf.unfixed_calculated_r_2d_4_rsigms_4_tsigms, bins='auto')\n",
    "plt.show()"
   ],
   "outputs": [
    {
     "data": {
      "text/plain": [
       "<Figure size 640x480 with 1 Axes>"
      ],
      "image/png": "[encoded data removed]"
     },
     "metadata": {},
     "output_type": "display_data"
    }
   ],
   "execution_count": 113
  },
  {
   "metadata": {
    "ExecuteTime": {
     "end_time": "2024-10-15T13:51:27.789422Z",
     "start_time": "2024-10-15T13:51:27.738236Z"
    }
   },
   "cell_type": "code",
   "source": [
    "plt.hist(bdf.cos_theta_p, bins='auto')\n",
    "plt.show()"
   ],
   "outputs": [
    {
     "data": {
      "text/plain": [
       "<Figure size 640x480 with 1 Axes>"
      ],
      "image/png": "[encoded data removed]"
     },
     "metadata": {},
     "output_type": "display_data"
    }
   ],
   "execution_count": 114
  },
  {
   "metadata": {
    "ExecuteTime": {
     "end_time": "2024-10-15T13:51:27.966919Z",
     "start_time": "2024-10-15T13:51:27.911923Z"
    }
   },
   "cell_type": "code",
   "source": [
    "plt.hist(bdf.theta_p, bins='auto')\n",
    "plt.show()"
   ],
   "outputs": [
    {
     "data": {
      "text/plain": [
       "<Figure size 640x480 with 1 Axes>"
      ],
      "image/png": "[encoded data removed]"
     },
     "metadata": {},
     "output_type": "display_data"
    }
   ],
   "execution_count": 115
  },
  {
   "metadata": {
    "ExecuteTime": {
     "end_time": "2024-10-15T13:51:28.149859Z",
     "start_time": "2024-10-15T13:51:28.093952Z"
    }
   },
   "cell_type": "code",
   "source": [
    "plt.hist(bdf.beta, bins='auto')\n",
    "plt.show()"
   ],
   "outputs": [
    {
     "data": {
      "text/plain": [
       "<Figure size 640x480 with 1 Axes>"
      ],
      "image/png": "[encoded data removed]"
     },
     "metadata": {},
     "output_type": "display_data"
    }
   ],
   "execution_count": 116
  },
  {
   "metadata": {
    "ExecuteTime": {
     "end_time": "2024-10-15T13:51:28.368914Z",
     "start_time": "2024-10-15T13:51:28.315951Z"
    }
   },
   "cell_type": "code",
   "source": [
    "plt.hist(bdf.momentum, bins='auto')\n",
    "plt.show()"
   ],
   "outputs": [
    {
     "data": {
      "text/plain": [
       "<Figure size 640x480 with 1 Axes>"
      ],
      "image/png": "[encoded data removed]"
     },
     "metadata": {},
     "output_type": "display_data"
    }
   ],
   "execution_count": 117
  },
  {
   "metadata": {
    "ExecuteTime": {
     "end_time": "2024-10-15T13:51:28.485755Z",
     "start_time": "2024-10-15T13:51:28.423644Z"
    }
   },
   "cell_type": "code",
   "source": [
    "plt.hist(bdf.beta_from_calc_r_4_rsigms_4_tsigms, bins='auto')\n",
    "plt.show()"
   ],
   "outputs": [
    {
     "data": {
      "text/plain": [
       "<Figure size 640x480 with 1 Axes>"
      ],
      "image/png": "[encoded data removed]"
     },
     "metadata": {},
     "output_type": "display_data"
    }
   ],
   "execution_count": 118
  },
  {
   "metadata": {
    "ExecuteTime": {
     "end_time": "2024-10-15T13:51:28.786014Z",
     "start_time": "2024-10-15T13:51:28.566110Z"
    }
   },
   "cell_type": "code",
   "source": [
    "plt.hist(bdf.beta_from_calc_r_4_rsigms_4_tsigms - bdf.beta, bins='auto')\n",
    "plt.show()"
   ],
   "outputs": [
    {
     "data": {
      "text/plain": [
       "<Figure size 640x480 with 1 Axes>"
      ],
      "image/png": "[encoded data removed]"
     },
     "metadata": {},
     "output_type": "display_data"
    }
   ],
   "execution_count": 119
  },
  {
   "metadata": {},
   "cell_type": "code",
   "source": "ф",
   "outputs": [],
   "execution_count": null
  },
  {
   "metadata": {
    "ExecuteTime": {
     "end_time": "2024-10-15T13:57:42.972660Z",
     "start_time": "2024-10-15T13:57:42.967476Z"
    }
   },
   "cell_type": "code",
   "source": "bdf[bdf.unfixed_calculated_r_2d_4_rsigms_4_tsigms.isna()] # All rings with intersections outside the ring itself",
   "outputs": [
    {
     "data": {
      "text/plain": [
       "Empty DataFrame\n",
       "Columns: [r_c_mean, r_c_std, r_c_width, momentum, signal_counts, beta_group, theta_p, cos_theta_p, beta, unfixed_calculated_r_2d_4_rsigms_4_tsigms, beta_from_calc_r_4_rsigms_4_tsigms, delta_beta_4_rsigms_4_tsigms, eps_beta_4_rsigms_4_tsigms]\n",
       "Index: []"
      ],
      "text/html": [
       "<div>\n",
       "<style scoped>\n",
       "    .dataframe tbody tr th:only-of-type {\n",
       "        vertical-align: middle;\n",
       "    }\n",
       "\n",
       "    .dataframe tbody tr th {\n",
       "        vertical-align: top;\n",
       "    }\n",
       "\n",
       "    .dataframe thead th {\n",
       "        text-align: right;\n",
       "    }\n",
       "</style>\n",
       "<table border=\"1\" class=\"dataframe\">\n",
       "  <thead>\n",
       "    <tr style=\"text-align: right;\">\n",
       "      <th></th>\n",
       "      <th>r_c_mean</th>\n",
       "      <th>r_c_std</th>\n",
       "      <th>r_c_width</th>\n",
       "      <th>momentum</th>\n",
       "      <th>signal_counts</th>\n",
       "      <th>beta_group</th>\n",
       "      <th>theta_p</th>\n",
       "      <th>cos_theta_p</th>\n",
       "      <th>beta</th>\n",
       "      <th>unfixed_calculated_r_2d_4_rsigms_4_tsigms</th>\n",
       "      <th>beta_from_calc_r_4_rsigms_4_tsigms</th>\n",
       "      <th>delta_beta_4_rsigms_4_tsigms</th>\n",
       "      <th>eps_beta_4_rsigms_4_tsigms</th>\n",
       "    </tr>\n",
       "  </thead>\n",
       "  <tbody>\n",
       "  </tbody>\n",
       "</table>\n",
       "</div>"
      ]
     },
     "execution_count": 120,
     "metadata": {},
     "output_type": "execute_result"
    }
   ],
   "execution_count": 120
  },
  {
   "metadata": {
    "ExecuteTime": {
     "end_time": "2024-10-15T13:57:43.177892Z",
     "start_time": "2024-10-15T13:57:43.173913Z"
    }
   },
   "cell_type": "code",
   "source": "bdf.isna().sum()",
   "outputs": [
    {
     "data": {
      "text/plain": [
       "r_c_mean                                     0\n",
       "r_c_std                                      6\n",
       "r_c_width                                    0\n",
       "momentum                                     0\n",
       "signal_counts                                0\n",
       "beta_group                                   0\n",
       "theta_p                                      0\n",
       "cos_theta_p                                  0\n",
       "beta                                         0\n",
       "unfixed_calculated_r_2d_4_rsigms_4_tsigms    0\n",
       "beta_from_calc_r_4_rsigms_4_tsigms           0\n",
       "delta_beta_4_rsigms_4_tsigms                 0\n",
       "eps_beta_4_rsigms_4_tsigms                   0\n",
       "dtype: int64"
      ]
     },
     "execution_count": 121,
     "metadata": {},
     "output_type": "execute_result"
    }
   ],
   "execution_count": 121
  },
  {
   "metadata": {
    "ExecuteTime": {
     "end_time": "2024-10-15T13:57:43.320841Z",
     "start_time": "2024-10-15T13:57:43.316480Z"
    }
   },
   "cell_type": "code",
   "source": "bdf.dropna().isna().sum()",
   "outputs": [
    {
     "data": {
      "text/plain": [
       "r_c_mean                                     0\n",
       "r_c_std                                      0\n",
       "r_c_width                                    0\n",
       "momentum                                     0\n",
       "signal_counts                                0\n",
       "beta_group                                   0\n",
       "theta_p                                      0\n",
       "cos_theta_p                                  0\n",
       "beta                                         0\n",
       "unfixed_calculated_r_2d_4_rsigms_4_tsigms    0\n",
       "beta_from_calc_r_4_rsigms_4_tsigms           0\n",
       "delta_beta_4_rsigms_4_tsigms                 0\n",
       "eps_beta_4_rsigms_4_tsigms                   0\n",
       "dtype: int64"
      ]
     },
     "execution_count": 122,
     "metadata": {},
     "output_type": "execute_result"
    }
   ],
   "execution_count": 122
  },
  {
   "metadata": {
    "ExecuteTime": {
     "end_time": "2024-10-15T13:57:43.810292Z",
     "start_time": "2024-10-15T13:57:43.632221Z"
    }
   },
   "cell_type": "code",
   "source": [
    "event = edf.loc[30]\n",
    "plt.subplot()\n",
    "plt.scatter(event.phi_c, event.theta_c)\n",
    "plt.show()\n",
    "plt.subplot()\n",
    "plt.gca().invert_yaxis()\n",
    "plt.scatter(event.rotated_x, event.rotated_y)\n",
    "plt.scatter(event.rotated_x_i, event.rotated_y_i)\n",
    "plt.show()"
   ],
   "outputs": [
    {
     "data": {
      "text/plain": [
       "<Figure size 640x480 with 1 Axes>"
      ],
      "image/png": "[encoded data removed]"
     },
     "metadata": {},
     "output_type": "display_data"
    },
    {
     "data": {
      "text/plain": [
       "<Figure size 640x480 with 1 Axes>"
      ],
      "image/png": "[encoded data removed]"
     },
     "metadata": {},
     "output_type": "display_data"
    }
   ],
   "execution_count": 123
  },
  {
   "metadata": {
    "ExecuteTime": {
     "end_time": "2024-10-15T13:57:43.937710Z",
     "start_time": "2024-10-15T13:57:43.916633Z"
    }
   },
   "cell_type": "code",
   "source": "event",
   "outputs": [
    {
     "data": {
      "text/plain": [
       "                x_c      y_c        wv_c         r_c       x_i         y_i  \\\n",
       "subentry                                                                     \n",
       "0         72.640131  1042.72  321.259843  152.860770  3.105218  906.590243   \n",
       "1         72.640131   995.68  475.590551  113.013667  3.105218  906.590243   \n",
       "2        -88.639869   955.36  508.661417  103.902119  3.105218  906.590243   \n",
       "3        -88.639869   952.00  475.590551  102.367998  3.105218  906.590243   \n",
       "5         49.120131   878.08  470.078740   54.131379  3.105218  906.590243   \n",
       "6         59.200131  1072.96  470.078740  175.572023  3.105218  906.590243   \n",
       "7        -31.519869   851.20  315.748031   65.322092  3.105218  906.590243   \n",
       "10       -21.439869   851.20  409.448819   60.584984  3.105218  906.590243   \n",
       "11       -71.839869  1099.84  376.377953  207.273333  3.105218  906.590243   \n",
       "12        62.560131   901.60  398.425197   59.663969  3.105218  906.590243   \n",
       "13        69.280131  1052.80  437.007874  160.488044  3.105218  906.590243   \n",
       "14       -91.999869   978.88  602.362205  119.460398  3.105218  906.590243   \n",
       "15       -95.359869  1012.48  745.669291  144.596038  3.105218  906.590243   \n",
       "16        42.400131   871.36  574.803150   52.775564  3.105218  906.590243   \n",
       "17        45.760131   878.08  387.401575   51.305707  3.105218  906.590243   \n",
       "18        69.280131  1056.16  470.078740  163.554980  3.105218  906.590243   \n",
       "19       -88.639869   945.28  310.236220   99.569364  3.105218  906.590243   \n",
       "20       -11.359869   847.84  387.401575   60.504791  3.105218  906.590243   \n",
       "21       -81.919869   931.84  464.566929   88.695071  3.105218  906.590243   \n",
       "22        49.120131   881.44  437.007874   52.439555  3.105218  906.590243   \n",
       "23       -38.239869   861.28  453.543307   61.338686  3.105218  906.590243   \n",
       "25         2.080131   851.20  514.173228   55.399727  3.105218  906.590243   \n",
       "26       -95.359869   988.96  365.354331  128.375038  3.105218  906.590243   \n",
       "27        49.120131  1106.56  409.448819  205.195702  3.105218  906.590243   \n",
       "28       -44.959869   864.64  348.818898   63.797143  3.105218  906.590243   \n",
       "29        42.400131   874.72  425.984252   50.594491  3.105218  906.590243   \n",
       "30        59.200131   904.96  459.055118   56.118597  3.105218  906.590243   \n",
       "31       -61.759869   888.16  558.267717   67.432584  3.105218  906.590243   \n",
       "33        12.160131   851.20  381.889764   56.125488  3.105218  906.590243   \n",
       "34       -58.399869   881.44  481.102362   66.448555  3.105218  906.590243   \n",
       "36       -95.359869   968.80  359.842520  116.470714  3.105218  906.590243   \n",
       "37       -91.999869   972.16  409.448819  115.517837  3.105218  906.590243   \n",
       "38        62.560131  1096.48  431.496063  198.979915  3.105218  906.590243   \n",
       "39        72.640131  1046.08  464.566929  155.860503  3.105218  906.590243   \n",
       "40        65.920131   918.40  558.267717   63.915441  3.105218  906.590243   \n",
       "41        59.200131  1106.56  376.377953  207.688572  3.105218  906.590243   \n",
       "42       -61.759869   878.08  359.842520   70.854171  3.105218  906.590243   \n",
       "43       -78.559869   911.68  470.078740   81.823542  3.105218  906.590243   \n",
       "44        69.280131   921.76  525.196850   67.891388  3.105218  906.590243   \n",
       "45        65.920131   915.04  420.472441   63.380688  3.105218  906.590243   \n",
       "46       -81.919869  1106.56  414.960630  217.295120  3.105218  906.590243   \n",
       "47        72.640131  1049.44  519.685039  158.874659  3.105218  906.590243   \n",
       "49        72.640131   948.64  668.503937   81.260607  3.105218  906.590243   \n",
       "51         8.800131   854.56  508.661417   52.340980  3.105218  906.590243   \n",
       "52       -61.759869   891.52  657.480315   66.592730  3.105218  906.590243   \n",
       "53       -98.719869   985.60  481.102362  128.883242  3.105218  906.590243   \n",
       "54       -51.679869   871.36  403.937008   65.135058  3.105218  906.590243   \n",
       "55        25.600131   861.28  376.377953   50.586947  3.105218  906.590243   \n",
       "56        79.360131   982.24  359.842520  107.413675  3.105218  906.590243   \n",
       "58       -91.999869   958.72  437.007874  108.455010  3.105218  906.590243   \n",
       "60        79.360131   972.16  348.818898  100.569403  3.105218  906.590243   \n",
       "62       -98.719869  1076.32  370.866142  197.930642  3.105218  906.590243   \n",
       "64        22.240131   857.92  453.543307   52.296629  3.105218  906.590243   \n",
       "65       -85.279869   935.20  381.889764   92.900171  3.105218  906.590243   \n",
       "66        69.280131   928.48  381.889764   69.701367  3.105218  906.590243   \n",
       "67        -1.279869   851.20  348.818898   55.563549  3.105218  906.590243   \n",
       "68        55.840131   891.52  343.307087   54.845996  3.105218  906.590243   \n",
       "\n",
       "               t_c     z_c       true_p      beta  ...  mean_rotated_r_c  \\\n",
       "subentry                                           ...                     \n",
       "0        -0.355638  2000.0  1434.363165  0.995299  ...         105.79805   \n",
       "1        -0.241819  2000.0  1434.363165  0.995299  ...         105.79805   \n",
       "2        -0.139386  2000.0  1434.363165  0.995299  ...         105.79805   \n",
       "3        -0.130766  2000.0  1434.363165  0.995299  ...         105.79805   \n",
       "5         0.065290  2000.0  1434.363165  0.995299  ...         105.79805   \n",
       "6        -0.426438  2000.0  1434.363165  0.995299  ...         105.79805   \n",
       "7         0.141924  2000.0  1434.363165  0.995299  ...         105.79805   \n",
       "10        0.141795  2000.0  1434.363165  0.995299  ...         105.79805   \n",
       "11       -0.487907  2000.0  1434.363165  0.995299  ...         105.79805   \n",
       "12        0.000746  2000.0  1434.363165  0.995299  ...         105.79805   \n",
       "13       -0.379429  2000.0  1434.363165  0.995299  ...         105.79805   \n",
       "14       -0.198981  2000.0  1434.363165  0.995299  ...         105.79805   \n",
       "15       -0.282025  2000.0  1434.363165  0.995299  ...         105.79805   \n",
       "16        0.084074  2000.0  1434.363165  0.995299  ...         105.79805   \n",
       "17        0.065315  2000.0  1434.363165  0.995299  ...         105.79805   \n",
       "18       -0.387350  2000.0  1434.363165  0.995299  ...         105.79805   \n",
       "19       -0.113441  2000.0  1434.363165  0.995299  ...         105.79805   \n",
       "20        0.151340  2000.0  1434.363165  0.995299  ...         105.79805   \n",
       "21       -0.078467  2000.0  1434.363165  0.995299  ...         105.79805   \n",
       "22        0.055978  2000.0  1434.363165  0.995299  ...         105.79805   \n",
       "23        0.113253  2000.0  1434.363165  0.995299  ...         105.79805   \n",
       "25        0.141534  2000.0  1434.363165  0.995299  ...         105.79805   \n",
       "26       -0.224155  2000.0  1434.363165  0.995299  ...         105.79805   \n",
       "27       -0.503640  2000.0  1434.363165  0.995299  ...         105.79805   \n",
       "28        0.103834  2000.0  1434.363165  0.995299  ...         105.79805   \n",
       "29        0.074688  2000.0  1434.363165  0.995299  ...         105.79805   \n",
       "30       -0.008287  2000.0  1434.363165  0.995299  ...         105.79805   \n",
       "31        0.038536  2000.0  1434.363165  0.995299  ...         105.79805   \n",
       "33        0.141439  2000.0  1434.363165  0.995299  ...         105.79805   \n",
       "34        0.057030  2000.0  1434.363165  0.995299  ...         105.79805   \n",
       "36       -0.173609  2000.0  1434.363165  0.995299  ...         105.79805   \n",
       "37       -0.182086  2000.0  1434.363165  0.995299  ...         105.79805   \n",
       "38       -0.480895  2000.0  1434.363165  0.995299  ...         105.79805   \n",
       "39       -0.363615  2000.0  1434.363165  0.995299  ...         105.79805   \n",
       "40       -0.044285  2000.0  1434.363165  0.995299  ...         105.79805   \n",
       "41       -0.503885  2000.0  1434.363165  0.995299  ...         105.79805   \n",
       "42        0.066393  2000.0  1434.363165  0.995299  ...         105.79805   \n",
       "43       -0.025085  2000.0  1434.363165  0.995299  ...         105.79805   \n",
       "44       -0.053225  2000.0  1434.363165  0.995299  ...         105.79805   \n",
       "45       -0.035351  2000.0  1434.363165  0.995299  ...         105.79805   \n",
       "46       -0.503480  2000.0  1434.363165  0.995299  ...         105.79805   \n",
       "47       -0.371574  2000.0  1434.363165  0.995299  ...         105.79805   \n",
       "49       -0.123387  2000.0  1434.363165  0.995299  ...         105.79805   \n",
       "51        0.131849  2000.0  1434.363165  0.995299  ...         105.79805   \n",
       "52        0.029323  2000.0  1434.363165  0.995299  ...         105.79805   \n",
       "53       -0.215814  2000.0  1434.363165  0.995299  ...         105.79805   \n",
       "54        0.085019  2000.0  1434.363165  0.995299  ...         105.79805   \n",
       "55        0.112586  2000.0  1434.363165  0.995299  ...         105.79805   \n",
       "56       -0.208620  2000.0  1434.363165  0.995299  ...         105.79805   \n",
       "58       -0.147981  2000.0  1434.363165  0.995299  ...         105.79805   \n",
       "60       -0.183358  2000.0  1434.363165  0.995299  ...         105.79805   \n",
       "62       -0.434052  2000.0  1434.363165  0.995299  ...         105.79805   \n",
       "64        0.122153  2000.0  1434.363165  0.995299  ...         105.79805   \n",
       "65       -0.087246  2000.0  1434.363165  0.995299  ...         105.79805   \n",
       "66       -0.070936  2000.0  1434.363165  0.995299  ...         105.79805   \n",
       "67        0.141568  2000.0  1434.363165  0.995299  ...         105.79805   \n",
       "68        0.028207  2000.0  1434.363165  0.995299  ...         105.79805   \n",
       "\n",
       "          dist_from_mean_rotated_r_c  rotated_r_c_sigm  beta_group  \\\n",
       "subentry                                                             \n",
       "0                          60.485802         54.129426        10.0   \n",
       "1                          18.218551         54.129426        10.0   \n",
       "2                           1.974887         54.129426        10.0   \n",
       "3                           0.043603         54.129426        10.0   \n",
       "5                          50.684604         54.129426        10.0   \n",
       "6                          84.249895         54.129426        10.0   \n",
       "7                          33.224938         54.129426        10.0   \n",
       "10                         37.787531         54.129426        10.0   \n",
       "11                        113.021662         54.129426        10.0   \n",
       "12                         46.314343         54.129426        10.0   \n",
       "13                         68.541818         54.129426        10.0   \n",
       "14                         19.842779         54.129426        10.0   \n",
       "15                         47.419907         54.129426        10.0   \n",
       "16                         50.875363         54.129426        10.0   \n",
       "17                         53.549842         54.129426        10.0   \n",
       "18                         71.603706         54.129426        10.0   \n",
       "19                          3.535616         54.129426        10.0   \n",
       "20                         36.753683         54.129426        10.0   \n",
       "21                         15.476511         54.129426        10.0   \n",
       "22                         52.853367         54.129426        10.0   \n",
       "23                         39.970016         54.129426        10.0   \n",
       "25                         42.736579         54.129426        10.0   \n",
       "26                         29.358159         54.129426        10.0   \n",
       "27                        112.879707         54.129426        10.0   \n",
       "28                         38.346102         54.129426        10.0   \n",
       "29                         53.712027         54.129426        10.0   \n",
       "30                         49.694396         54.129426        10.0   \n",
       "31                         38.175651         54.129426        10.0   \n",
       "33                         42.063553         54.129426        10.0   \n",
       "34                         38.556013         54.129426        10.0   \n",
       "36                         15.420193         54.129426        10.0   \n",
       "37                         15.183785         54.129426        10.0   \n",
       "38                        106.369956         54.129426        10.0   \n",
       "39                         63.531387         54.129426        10.0   \n",
       "40                         40.709509         54.129426        10.0   \n",
       "41                        114.693937         54.129426        10.0   \n",
       "42                         33.658310         54.129426        10.0   \n",
       "43                         23.875753         54.129426        10.0   \n",
       "44                         36.452053         54.129426        10.0   \n",
       "45                         41.636607         54.129426        10.0   \n",
       "46                        121.635186         54.129426        10.0   \n",
       "47                         66.575433         54.129426        10.0   \n",
       "49                         19.374653         54.129426        10.0   \n",
       "51                         46.761543         54.129426        10.0   \n",
       "52                         39.227116         54.129426        10.0   \n",
       "53                         29.164611         54.129426        10.0   \n",
       "54                         38.388265         54.129426        10.0   \n",
       "55                         50.541657         54.129426        10.0   \n",
       "56                         10.478092         54.129426        10.0   \n",
       "58                          6.611438         54.129426        10.0   \n",
       "60                          2.459805         54.129426        10.0   \n",
       "62                        101.648454         54.129426        10.0   \n",
       "64                         47.889569         54.129426        10.0   \n",
       "65                         11.100627         54.129426        10.0   \n",
       "66                         33.722168         54.129426        10.0   \n",
       "67                         42.578238         54.129426        10.0   \n",
       "68                         51.186553         54.129426        10.0   \n",
       "\n",
       "          slice_counts_4_sigms  unfixed_calculated_r_2d_4_rsigms_4_tsigms  \\\n",
       "subentry                                                                    \n",
       "0                     0.000000                                  59.704646   \n",
       "1                     0.000000                                  59.704646   \n",
       "2                     0.000000                                  59.704646   \n",
       "3                     0.000000                                  59.704646   \n",
       "5                     0.140647                                  59.704646   \n",
       "6                     0.000000                                  59.704646   \n",
       "7                     0.041277                                  59.704646   \n",
       "10                    0.158228                                  59.704646   \n",
       "11                    0.000000                                  59.704646   \n",
       "12                    0.066622                                  59.704646   \n",
       "13                    0.000000                                  59.704646   \n",
       "14                    0.000000                                  59.704646   \n",
       "15                    0.000000                                  59.704646   \n",
       "16                    0.140647                                  59.704646   \n",
       "17                    0.148920                                  59.704646   \n",
       "18                    0.000000                                  59.704646   \n",
       "19                    0.000000                                  59.704646   \n",
       "20                    0.158228                                  59.704646   \n",
       "21                    0.000000                                  59.704646   \n",
       "22                    0.148920                                  59.704646   \n",
       "23                    0.195901                                  59.704646   \n",
       "25                    0.094937                                  59.704646   \n",
       "26                    0.000000                                  59.704646   \n",
       "27                    0.000000                                  59.704646   \n",
       "28                    0.158228                                  59.704646   \n",
       "29                    0.148920                                  59.704646   \n",
       "30                    0.140647                                  59.704646   \n",
       "31                    0.158228                                  59.704646   \n",
       "33                    0.195901                                  59.704646   \n",
       "34                    0.158228                                  59.704646   \n",
       "36                    0.000000                                  59.704646   \n",
       "37                    0.000000                                  59.704646   \n",
       "38                    0.000000                                  59.704646   \n",
       "39                    0.000000                                  59.704646   \n",
       "40                    0.195901                                  59.704646   \n",
       "41                    0.000000                                  59.704646   \n",
       "42                    0.041277                                  59.704646   \n",
       "43                    0.000000                                  59.704646   \n",
       "44                    0.158228                                  59.704646   \n",
       "45                    0.195901                                  59.704646   \n",
       "46                    0.000000                                  59.704646   \n",
       "47                    0.000000                                  59.704646   \n",
       "49                    0.000000                                  59.704646   \n",
       "51                    0.066622                                  59.704646   \n",
       "52                    0.158228                                  59.704646   \n",
       "53                    0.000000                                  59.704646   \n",
       "54                    0.158228                                  59.704646   \n",
       "55                    0.140647                                  59.704646   \n",
       "56                    0.000000                                  59.704646   \n",
       "58                    0.000000                                  59.704646   \n",
       "60                    0.000000                                  59.704646   \n",
       "62                    0.000000                                  59.704646   \n",
       "64                    0.066622                                  59.704646   \n",
       "65                    0.000000                                  59.704646   \n",
       "66                    0.041277                                  59.704646   \n",
       "67                    0.195901                                  59.704646   \n",
       "68                    0.140647                                  59.704646   \n",
       "\n",
       "          cos_theta_p  beta_from_calc_r_4_rsigms_4_tsigms  \\\n",
       "subentry                                                    \n",
       "0            0.742524                            0.980818   \n",
       "1            0.742524                            0.980818   \n",
       "2            0.742524                            0.980818   \n",
       "3            0.742524                            0.980818   \n",
       "5            0.742524                            0.980818   \n",
       "6            0.742524                            0.980818   \n",
       "7            0.742524                            0.980818   \n",
       "10           0.742524                            0.980818   \n",
       "11           0.742524                            0.980818   \n",
       "12           0.742524                            0.980818   \n",
       "13           0.742524                            0.980818   \n",
       "14           0.742524                            0.980818   \n",
       "15           0.742524                            0.980818   \n",
       "16           0.742524                            0.980818   \n",
       "17           0.742524                            0.980818   \n",
       "18           0.742524                            0.980818   \n",
       "19           0.742524                            0.980818   \n",
       "20           0.742524                            0.980818   \n",
       "21           0.742524                            0.980818   \n",
       "22           0.742524                            0.980818   \n",
       "23           0.742524                            0.980818   \n",
       "25           0.742524                            0.980818   \n",
       "26           0.742524                            0.980818   \n",
       "27           0.742524                            0.980818   \n",
       "28           0.742524                            0.980818   \n",
       "29           0.742524                            0.980818   \n",
       "30           0.742524                            0.980818   \n",
       "31           0.742524                            0.980818   \n",
       "33           0.742524                            0.980818   \n",
       "34           0.742524                            0.980818   \n",
       "36           0.742524                            0.980818   \n",
       "37           0.742524                            0.980818   \n",
       "38           0.742524                            0.980818   \n",
       "39           0.742524                            0.980818   \n",
       "40           0.742524                            0.980818   \n",
       "41           0.742524                            0.980818   \n",
       "42           0.742524                            0.980818   \n",
       "43           0.742524                            0.980818   \n",
       "44           0.742524                            0.980818   \n",
       "45           0.742524                            0.980818   \n",
       "46           0.742524                            0.980818   \n",
       "47           0.742524                            0.980818   \n",
       "49           0.742524                            0.980818   \n",
       "51           0.742524                            0.980818   \n",
       "52           0.742524                            0.980818   \n",
       "53           0.742524                            0.980818   \n",
       "54           0.742524                            0.980818   \n",
       "55           0.742524                            0.980818   \n",
       "56           0.742524                            0.980818   \n",
       "58           0.742524                            0.980818   \n",
       "60           0.742524                            0.980818   \n",
       "62           0.742524                            0.980818   \n",
       "64           0.742524                            0.980818   \n",
       "65           0.742524                            0.980818   \n",
       "66           0.742524                            0.980818   \n",
       "67           0.742524                            0.980818   \n",
       "68           0.742524                            0.980818   \n",
       "\n",
       "          delta_beta_4_rsigms_4_tsigms  eps_beta_4_rsigms_4_tsigms  \n",
       "subentry                                                            \n",
       "0                            -0.014482                   -1.455016  \n",
       "1                            -0.014482                   -1.455016  \n",
       "2                            -0.014482                   -1.455016  \n",
       "3                            -0.014482                   -1.455016  \n",
       "5                            -0.014482                   -1.455016  \n",
       "6                            -0.014482                   -1.455016  \n",
       "7                            -0.014482                   -1.455016  \n",
       "10                           -0.014482                   -1.455016  \n",
       "11                           -0.014482                   -1.455016  \n",
       "12                           -0.014482                   -1.455016  \n",
       "13                           -0.014482                   -1.455016  \n",
       "14                           -0.014482                   -1.455016  \n",
       "15                           -0.014482                   -1.455016  \n",
       "16                           -0.014482                   -1.455016  \n",
       "17                           -0.014482                   -1.455016  \n",
       "18                           -0.014482                   -1.455016  \n",
       "19                           -0.014482                   -1.455016  \n",
       "20                           -0.014482                   -1.455016  \n",
       "21                           -0.014482                   -1.455016  \n",
       "22                           -0.014482                   -1.455016  \n",
       "23                           -0.014482                   -1.455016  \n",
       "25                           -0.014482                   -1.455016  \n",
       "26                           -0.014482                   -1.455016  \n",
       "27                           -0.014482                   -1.455016  \n",
       "28                           -0.014482                   -1.455016  \n",
       "29                           -0.014482                   -1.455016  \n",
       "30                           -0.014482                   -1.455016  \n",
       "31                           -0.014482                   -1.455016  \n",
       "33                           -0.014482                   -1.455016  \n",
       "34                           -0.014482                   -1.455016  \n",
       "36                           -0.014482                   -1.455016  \n",
       "37                           -0.014482                   -1.455016  \n",
       "38                           -0.014482                   -1.455016  \n",
       "39                           -0.014482                   -1.455016  \n",
       "40                           -0.014482                   -1.455016  \n",
       "41                           -0.014482                   -1.455016  \n",
       "42                           -0.014482                   -1.455016  \n",
       "43                           -0.014482                   -1.455016  \n",
       "44                           -0.014482                   -1.455016  \n",
       "45                           -0.014482                   -1.455016  \n",
       "46                           -0.014482                   -1.455016  \n",
       "47                           -0.014482                   -1.455016  \n",
       "49                           -0.014482                   -1.455016  \n",
       "51                           -0.014482                   -1.455016  \n",
       "52                           -0.014482                   -1.455016  \n",
       "53                           -0.014482                   -1.455016  \n",
       "54                           -0.014482                   -1.455016  \n",
       "55                           -0.014482                   -1.455016  \n",
       "56                           -0.014482                   -1.455016  \n",
       "58                           -0.014482                   -1.455016  \n",
       "60                           -0.014482                   -1.455016  \n",
       "62                           -0.014482                   -1.455016  \n",
       "64                           -0.014482                   -1.455016  \n",
       "65                           -0.014482                   -1.455016  \n",
       "66                           -0.014482                   -1.455016  \n",
       "67                           -0.014482                   -1.455016  \n",
       "68                           -0.014482                   -1.455016  \n",
       "\n",
       "[57 rows x 51 columns]"
      ],
      "text/html": [
       "<div>\n",
       "<style scoped>\n",
       "    .dataframe tbody tr th:only-of-type {\n",
       "        vertical-align: middle;\n",
       "    }\n",
       "\n",
       "    .dataframe tbody tr th {\n",
       "        vertical-align: top;\n",
       "    }\n",
       "\n",
       "    .dataframe thead th {\n",
       "        text-align: right;\n",
       "    }\n",
       "</style>\n",
       "<table border=\"1\" class=\"dataframe\">\n",
       "  <thead>\n",
       "    <tr style=\"text-align: right;\">\n",
       "      <th></th>\n",
       "      <th>x_c</th>\n",
       "      <th>y_c</th>\n",
       "      <th>wv_c</th>\n",
       "      <th>r_c</th>\n",
       "      <th>x_i</th>\n",
       "      <th>y_i</th>\n",
       "      <th>t_c</th>\n",
       "      <th>z_c</th>\n",
       "      <th>true_p</th>\n",
       "      <th>beta</th>\n",
       "      <th>...</th>\n",
       "      <th>mean_rotated_r_c</th>\n",
       "      <th>dist_from_mean_rotated_r_c</th>\n",
       "      <th>rotated_r_c_sigm</th>\n",
       "      <th>beta_group</th>\n",
       "      <th>slice_counts_4_sigms</th>\n",
       "      <th>unfixed_calculated_r_2d_4_rsigms_4_tsigms</th>\n",
       "      <th>cos_theta_p</th>\n",
       "      <th>beta_from_calc_r_4_rsigms_4_tsigms</th>\n",
       "      <th>delta_beta_4_rsigms_4_tsigms</th>\n",
       "      <th>eps_beta_4_rsigms_4_tsigms</th>\n",
       "    </tr>\n",
       "    <tr>\n",
       "      <th>subentry</th>\n",
       "      <th></th>\n",
       "      <th></th>\n",
       "      <th></th>\n",
       "      <th></th>\n",
       "      <th></th>\n",
       "      <th></th>\n",
       "      <th></th>\n",
       "      <th></th>\n",
       "      <th></th>\n",
       "      <th></th>\n",
       "      <th></th>\n",
       "      <th></th>\n",
       "      <th></th>\n",
       "      <th></th>\n",
       "      <th></th>\n",
       "      <th></th>\n",
       "      <th></th>\n",
       "      <th></th>\n",
       "      <th></th>\n",
       "      <th></th>\n",
       "      <th></th>\n",
       "    </tr>\n",
       "  </thead>\n",
       "  <tbody>\n",
       "    <tr>\n",
       "      <th>0</th>\n",
       "      <td>72.640131</td>\n",
       "      <td>1042.72</td>\n",
       "      <td>321.259843</td>\n",
       "      <td>152.860770</td>\n",
       "      <td>3.105218</td>\n",
       "      <td>906.590243</td>\n",
       "      <td>-0.355638</td>\n",
       "      <td>2000.0</td>\n",
       "      <td>1434.363165</td>\n",
       "      <td>0.995299</td>\n",
       "      <td>...</td>\n",
       "      <td>105.79805</td>\n",
       "      <td>60.485802</td>\n",
       "      <td>54.129426</td>\n",
       "      <td>10.0</td>\n",
       "      <td>0.000000</td>\n",
       "      <td>59.704646</td>\n",
       "      <td>0.742524</td>\n",
       "      <td>0.980818</td>\n",
       "      <td>-0.014482</td>\n",
       "      <td>-1.455016</td>\n",
       "    </tr>\n",
       "    <tr>\n",
       "      <th>1</th>\n",
       "      <td>72.640131</td>\n",
       "      <td>995.68</td>\n",
       "      <td>475.590551</td>\n",
       "      <td>113.013667</td>\n",
       "      <td>3.105218</td>\n",
       "      <td>906.590243</td>\n",
       "      <td>-0.241819</td>\n",
       "      <td>2000.0</td>\n",
       "      <td>1434.363165</td>\n",
       "      <td>0.995299</td>\n",
       "      <td>...</td>\n",
       "      <td>105.79805</td>\n",
       "      <td>18.218551</td>\n",
       "      <td>54.129426</td>\n",
       "      <td>10.0</td>\n",
       "      <td>0.000000</td>\n",
       "      <td>59.704646</td>\n",
       "      <td>0.742524</td>\n",
       "      <td>0.980818</td>\n",
       "      <td>-0.014482</td>\n",
       "      <td>-1.455016</td>\n",
       "    </tr>\n",
       "    <tr>\n",
       "      <th>2</th>\n",
       "      <td>-88.639869</td>\n",
       "      <td>955.36</td>\n",
       "      <td>508.661417</td>\n",
       "      <td>103.902119</td>\n",
       "      <td>3.105218</td>\n",
       "      <td>906.590243</td>\n",
       "      <td>-0.139386</td>\n",
       "      <td>2000.0</td>\n",
       "      <td>1434.363165</td>\n",
       "      <td>0.995299</td>\n",
       "      <td>...</td>\n",
       "      <td>105.79805</td>\n",
       "      <td>1.974887</td>\n",
       "      <td>54.129426</td>\n",
       "      <td>10.0</td>\n",
       "      <td>0.000000</td>\n",
       "      <td>59.704646</td>\n",
       "      <td>0.742524</td>\n",
       "      <td>0.980818</td>\n",
       "      <td>-0.014482</td>\n",
       "      <td>-1.455016</td>\n",
       "    </tr>\n",
       "    <tr>\n",
       "      <th>3</th>\n",
       "      <td>-88.639869</td>\n",
       "      <td>952.00</td>\n",
       "      <td>475.590551</td>\n",
       "      <td>102.367998</td>\n",
       "      <td>3.105218</td>\n",
       "      <td>906.590243</td>\n",
       "      <td>-0.130766</td>\n",
       "      <td>2000.0</td>\n",
       "      <td>1434.363165</td>\n",
       "      <td>0.995299</td>\n",
       "      <td>...</td>\n",
       "      <td>105.79805</td>\n",
       "      <td>0.043603</td>\n",
       "      <td>54.129426</td>\n",
       "      <td>10.0</td>\n",
       "      <td>0.000000</td>\n",
       "      <td>59.704646</td>\n",
       "      <td>0.742524</td>\n",
       "      <td>0.980818</td>\n",
       "      <td>-0.014482</td>\n",
       "      <td>-1.455016</td>\n",
       "    </tr>\n",
       "    <tr>\n",
       "      <th>5</th>\n",
       "      <td>49.120131</td>\n",
       "      <td>878.08</td>\n",
       "      <td>470.078740</td>\n",
       "      <td>54.131379</td>\n",
       "      <td>3.105218</td>\n",
       "      <td>906.590243</td>\n",
       "      <td>0.065290</td>\n",
       "      <td>2000.0</td>\n",
       "      <td>1434.363165</td>\n",
       "      <td>0.995299</td>\n",
       "      <td>...</td>\n",
       "      <td>105.79805</td>\n",
       "      <td>50.684604</td>\n",
       "      <td>54.129426</td>\n",
       "      <td>10.0</td>\n",
       "      <td>0.140647</td>\n",
       "      <td>59.704646</td>\n",
       "      <td>0.742524</td>\n",
       "      <td>0.980818</td>\n",
       "      <td>-0.014482</td>\n",
       "      <td>-1.455016</td>\n",
       "    </tr>\n",
       "    <tr>\n",
       "      <th>6</th>\n",
       "      <td>59.200131</td>\n",
       "      <td>1072.96</td>\n",
       "      <td>470.078740</td>\n",
       "      <td>175.572023</td>\n",
       "      <td>3.105218</td>\n",
       "      <td>906.590243</td>\n",
       "      <td>-0.426438</td>\n",
       "      <td>2000.0</td>\n",
       "      <td>1434.363165</td>\n",
       "      <td>0.995299</td>\n",
       "      <td>...</td>\n",
       "      <td>105.79805</td>\n",
       "      <td>84.249895</td>\n",
       "      <td>54.129426</td>\n",
       "      <td>10.0</td>\n",
       "      <td>0.000000</td>\n",
       "      <td>59.704646</td>\n",
       "      <td>0.742524</td>\n",
       "      <td>0.980818</td>\n",
       "      <td>-0.014482</td>\n",
       "      <td>-1.455016</td>\n",
       "    </tr>\n",
       "    <tr>\n",
       "      <th>7</th>\n",
       "      <td>-31.519869</td>\n",
       "      <td>851.20</td>\n",
       "      <td>315.748031</td>\n",
       "      <td>65.322092</td>\n",
       "      <td>3.105218</td>\n",
       "      <td>906.590243</td>\n",
       "      <td>0.141924</td>\n",
       "      <td>2000.0</td>\n",
       "      <td>1434.363165</td>\n",
       "      <td>0.995299</td>\n",
       "      <td>...</td>\n",
       "      <td>105.79805</td>\n",
       "      <td>33.224938</td>\n",
       "      <td>54.129426</td>\n",
       "      <td>10.0</td>\n",
       "      <td>0.041277</td>\n",
       "      <td>59.704646</td>\n",
       "      <td>0.742524</td>\n",
       "      <td>0.980818</td>\n",
       "      <td>-0.014482</td>\n",
       "      <td>-1.455016</td>\n",
       "    </tr>\n",
       "    <tr>\n",
       "      <th>10</th>\n",
       "      <td>-21.439869</td>\n",
       "      <td>851.20</td>\n",
       "      <td>409.448819</td>\n",
       "      <td>60.584984</td>\n",
       "      <td>3.105218</td>\n",
       "      <td>906.590243</td>\n",
       "      <td>0.141795</td>\n",
       "      <td>2000.0</td>\n",
       "      <td>1434.363165</td>\n",
       "      <td>0.995299</td>\n",
       "      <td>...</td>\n",
       "      <td>105.79805</td>\n",
       "      <td>37.787531</td>\n",
       "      <td>54.129426</td>\n",
       "      <td>10.0</td>\n",
       "      <td>0.158228</td>\n",
       "      <td>59.704646</td>\n",
       "      <td>0.742524</td>\n",
       "      <td>0.980818</td>\n",
       "      <td>-0.014482</td>\n",
       "      <td>-1.455016</td>\n",
       "    </tr>\n",
       "    <tr>\n",
       "      <th>11</th>\n",
       "      <td>-71.839869</td>\n",
       "      <td>1099.84</td>\n",
       "      <td>376.377953</td>\n",
       "      <td>207.273333</td>\n",
       "      <td>3.105218</td>\n",
       "      <td>906.590243</td>\n",
       "      <td>-0.487907</td>\n",
       "      <td>2000.0</td>\n",
       "      <td>1434.363165</td>\n",
       "      <td>0.995299</td>\n",
       "      <td>...</td>\n",
       "      <td>105.79805</td>\n",
       "      <td>113.021662</td>\n",
       "      <td>54.129426</td>\n",
       "      <td>10.0</td>\n",
       "      <td>0.000000</td>\n",
       "      <td>59.704646</td>\n",
       "      <td>0.742524</td>\n",
       "      <td>0.980818</td>\n",
       "      <td>-0.014482</td>\n",
       "      <td>-1.455016</td>\n",
       "    </tr>\n",
       "    <tr>\n",
       "      <th>12</th>\n",
       "      <td>62.560131</td>\n",
       "      <td>901.60</td>\n",
       "      <td>398.425197</td>\n",
       "      <td>59.663969</td>\n",
       "      <td>3.105218</td>\n",
       "      <td>906.590243</td>\n",
       "      <td>0.000746</td>\n",
       "      <td>2000.0</td>\n",
       "      <td>1434.363165</td>\n",
       "      <td>0.995299</td>\n",
       "      <td>...</td>\n",
       "      <td>105.79805</td>\n",
       "      <td>46.314343</td>\n",
       "      <td>54.129426</td>\n",
       "      <td>10.0</td>\n",
       "      <td>0.066622</td>\n",
       "      <td>59.704646</td>\n",
       "      <td>0.742524</td>\n",
       "      <td>0.980818</td>\n",
       "      <td>-0.014482</td>\n",
       "      <td>-1.455016</td>\n",
       "    </tr>\n",
       "    <tr>\n",
       "      <th>13</th>\n",
       "      <td>69.280131</td>\n",
       "      <td>1052.80</td>\n",
       "      <td>437.007874</td>\n",
       "      <td>160.488044</td>\n",
       "      <td>3.105218</td>\n",
       "      <td>906.590243</td>\n",
       "      <td>-0.379429</td>\n",
       "      <td>2000.0</td>\n",
       "      <td>1434.363165</td>\n",
       "      <td>0.995299</td>\n",
       "      <td>...</td>\n",
       "      <td>105.79805</td>\n",
       "      <td>68.541818</td>\n",
       "      <td>54.129426</td>\n",
       "      <td>10.0</td>\n",
       "      <td>0.000000</td>\n",
       "      <td>59.704646</td>\n",
       "      <td>0.742524</td>\n",
       "      <td>0.980818</td>\n",
       "      <td>-0.014482</td>\n",
       "      <td>-1.455016</td>\n",
       "    </tr>\n",
       "    <tr>\n",
       "      <th>14</th>\n",
       "      <td>-91.999869</td>\n",
       "      <td>978.88</td>\n",
       "      <td>602.362205</td>\n",
       "      <td>119.460398</td>\n",
       "      <td>3.105218</td>\n",
       "      <td>906.590243</td>\n",
       "      <td>-0.198981</td>\n",
       "      <td>2000.0</td>\n",
       "      <td>1434.363165</td>\n",
       "      <td>0.995299</td>\n",
       "      <td>...</td>\n",
       "      <td>105.79805</td>\n",
       "      <td>19.842779</td>\n",
       "      <td>54.129426</td>\n",
       "      <td>10.0</td>\n",
       "      <td>0.000000</td>\n",
       "      <td>59.704646</td>\n",
       "      <td>0.742524</td>\n",
       "      <td>0.980818</td>\n",
       "      <td>-0.014482</td>\n",
       "      <td>-1.455016</td>\n",
       "    </tr>\n",
       "    <tr>\n",
       "      <th>15</th>\n",
       "      <td>-95.359869</td>\n",
       "      <td>1012.48</td>\n",
       "      <td>745.669291</td>\n",
       "      <td>144.596038</td>\n",
       "      <td>3.105218</td>\n",
       "      <td>906.590243</td>\n",
       "      <td>-0.282025</td>\n",
       "      <td>2000.0</td>\n",
       "      <td>1434.363165</td>\n",
       "      <td>0.995299</td>\n",
       "      <td>...</td>\n",
       "      <td>105.79805</td>\n",
       "      <td>47.419907</td>\n",
       "      <td>54.129426</td>\n",
       "      <td>10.0</td>\n",
       "      <td>0.000000</td>\n",
       "      <td>59.704646</td>\n",
       "      <td>0.742524</td>\n",
       "      <td>0.980818</td>\n",
       "      <td>-0.014482</td>\n",
       "      <td>-1.455016</td>\n",
       "    </tr>\n",
       "    <tr>\n",
       "      <th>16</th>\n",
       "      <td>42.400131</td>\n",
       "      <td>871.36</td>\n",
       "      <td>574.803150</td>\n",
       "      <td>52.775564</td>\n",
       "      <td>3.105218</td>\n",
       "      <td>906.590243</td>\n",
       "      <td>0.084074</td>\n",
       "      <td>2000.0</td>\n",
       "      <td>1434.363165</td>\n",
       "      <td>0.995299</td>\n",
       "      <td>...</td>\n",
       "      <td>105.79805</td>\n",
       "      <td>50.875363</td>\n",
       "      <td>54.129426</td>\n",
       "      <td>10.0</td>\n",
       "      <td>0.140647</td>\n",
       "      <td>59.704646</td>\n",
       "      <td>0.742524</td>\n",
       "      <td>0.980818</td>\n",
       "      <td>-0.014482</td>\n",
       "      <td>-1.455016</td>\n",
       "    </tr>\n",
       "    <tr>\n",
       "      <th>17</th>\n",
       "      <td>45.760131</td>\n",
       "      <td>878.08</td>\n",
       "      <td>387.401575</td>\n",
       "      <td>51.305707</td>\n",
       "      <td>3.105218</td>\n",
       "      <td>906.590243</td>\n",
       "      <td>0.065315</td>\n",
       "      <td>2000.0</td>\n",
       "      <td>1434.363165</td>\n",
       "      <td>0.995299</td>\n",
       "      <td>...</td>\n",
       "      <td>105.79805</td>\n",
       "      <td>53.549842</td>\n",
       "      <td>54.129426</td>\n",
       "      <td>10.0</td>\n",
       "      <td>0.148920</td>\n",
       "      <td>59.704646</td>\n",
       "      <td>0.742524</td>\n",
       "      <td>0.980818</td>\n",
       "      <td>-0.014482</td>\n",
       "      <td>-1.455016</td>\n",
       "    </tr>\n",
       "    <tr>\n",
       "      <th>18</th>\n",
       "      <td>69.280131</td>\n",
       "      <td>1056.16</td>\n",
       "      <td>470.078740</td>\n",
       "      <td>163.554980</td>\n",
       "      <td>3.105218</td>\n",
       "      <td>906.590243</td>\n",
       "      <td>-0.387350</td>\n",
       "      <td>2000.0</td>\n",
       "      <td>1434.363165</td>\n",
       "      <td>0.995299</td>\n",
       "      <td>...</td>\n",
       "      <td>105.79805</td>\n",
       "      <td>71.603706</td>\n",
       "      <td>54.129426</td>\n",
       "      <td>10.0</td>\n",
       "      <td>0.000000</td>\n",
       "      <td>59.704646</td>\n",
       "      <td>0.742524</td>\n",
       "      <td>0.980818</td>\n",
       "      <td>-0.014482</td>\n",
       "      <td>-1.455016</td>\n",
       "    </tr>\n",
       "    <tr>\n",
       "      <th>19</th>\n",
       "      <td>-88.639869</td>\n",
       "      <td>945.28</td>\n",
       "      <td>310.236220</td>\n",
       "      <td>99.569364</td>\n",
       "      <td>3.105218</td>\n",
       "      <td>906.590243</td>\n",
       "      <td>-0.113441</td>\n",
       "      <td>2000.0</td>\n",
       "      <td>1434.363165</td>\n",
       "      <td>0.995299</td>\n",
       "      <td>...</td>\n",
       "      <td>105.79805</td>\n",
       "      <td>3.535616</td>\n",
       "      <td>54.129426</td>\n",
       "      <td>10.0</td>\n",
       "      <td>0.000000</td>\n",
       "      <td>59.704646</td>\n",
       "      <td>0.742524</td>\n",
       "      <td>0.980818</td>\n",
       "      <td>-0.014482</td>\n",
       "      <td>-1.455016</td>\n",
       "    </tr>\n",
       "    <tr>\n",
       "      <th>20</th>\n",
       "      <td>-11.359869</td>\n",
       "      <td>847.84</td>\n",
       "      <td>387.401575</td>\n",
       "      <td>60.504791</td>\n",
       "      <td>3.105218</td>\n",
       "      <td>906.590243</td>\n",
       "      <td>0.151340</td>\n",
       "      <td>2000.0</td>\n",
       "      <td>1434.363165</td>\n",
       "      <td>0.995299</td>\n",
       "      <td>...</td>\n",
       "      <td>105.79805</td>\n",
       "      <td>36.753683</td>\n",
       "      <td>54.129426</td>\n",
       "      <td>10.0</td>\n",
       "      <td>0.158228</td>\n",
       "      <td>59.704646</td>\n",
       "      <td>0.742524</td>\n",
       "      <td>0.980818</td>\n",
       "      <td>-0.014482</td>\n",
       "      <td>-1.455016</td>\n",
       "    </tr>\n",
       "    <tr>\n",
       "      <th>21</th>\n",
       "      <td>-81.919869</td>\n",
       "      <td>931.84</td>\n",
       "      <td>464.566929</td>\n",
       "      <td>88.695071</td>\n",
       "      <td>3.105218</td>\n",
       "      <td>906.590243</td>\n",
       "      <td>-0.078467</td>\n",
       "      <td>2000.0</td>\n",
       "      <td>1434.363165</td>\n",
       "      <td>0.995299</td>\n",
       "      <td>...</td>\n",
       "      <td>105.79805</td>\n",
       "      <td>15.476511</td>\n",
       "      <td>54.129426</td>\n",
       "      <td>10.0</td>\n",
       "      <td>0.000000</td>\n",
       "      <td>59.704646</td>\n",
       "      <td>0.742524</td>\n",
       "      <td>0.980818</td>\n",
       "      <td>-0.014482</td>\n",
       "      <td>-1.455016</td>\n",
       "    </tr>\n",
       "    <tr>\n",
       "      <th>22</th>\n",
       "      <td>49.120131</td>\n",
       "      <td>881.44</td>\n",
       "      <td>437.007874</td>\n",
       "      <td>52.439555</td>\n",
       "      <td>3.105218</td>\n",
       "      <td>906.590243</td>\n",
       "      <td>0.055978</td>\n",
       "      <td>2000.0</td>\n",
       "      <td>1434.363165</td>\n",
       "      <td>0.995299</td>\n",
       "      <td>...</td>\n",
       "      <td>105.79805</td>\n",
       "      <td>52.853367</td>\n",
       "      <td>54.129426</td>\n",
       "      <td>10.0</td>\n",
       "      <td>0.148920</td>\n",
       "      <td>59.704646</td>\n",
       "      <td>0.742524</td>\n",
       "      <td>0.980818</td>\n",
       "      <td>-0.014482</td>\n",
       "      <td>-1.455016</td>\n",
       "    </tr>\n",
       "    <tr>\n",
       "      <th>23</th>\n",
       "      <td>-38.239869</td>\n",
       "      <td>861.28</td>\n",
       "      <td>453.543307</td>\n",
       "      <td>61.338686</td>\n",
       "      <td>3.105218</td>\n",
       "      <td>906.590243</td>\n",
       "      <td>0.113253</td>\n",
       "      <td>2000.0</td>\n",
       "      <td>1434.363165</td>\n",
       "      <td>0.995299</td>\n",
       "      <td>...</td>\n",
       "      <td>105.79805</td>\n",
       "      <td>39.970016</td>\n",
       "      <td>54.129426</td>\n",
       "      <td>10.0</td>\n",
       "      <td>0.195901</td>\n",
       "      <td>59.704646</td>\n",
       "      <td>0.742524</td>\n",
       "      <td>0.980818</td>\n",
       "      <td>-0.014482</td>\n",
       "      <td>-1.455016</td>\n",
       "    </tr>\n",
       "    <tr>\n",
       "      <th>25</th>\n",
       "      <td>2.080131</td>\n",
       "      <td>851.20</td>\n",
       "      <td>514.173228</td>\n",
       "      <td>55.399727</td>\n",
       "      <td>3.105218</td>\n",
       "      <td>906.590243</td>\n",
       "      <td>0.141534</td>\n",
       "      <td>2000.0</td>\n",
       "      <td>1434.363165</td>\n",
       "      <td>0.995299</td>\n",
       "      <td>...</td>\n",
       "      <td>105.79805</td>\n",
       "      <td>42.736579</td>\n",
       "      <td>54.129426</td>\n",
       "      <td>10.0</td>\n",
       "      <td>0.094937</td>\n",
       "      <td>59.704646</td>\n",
       "      <td>0.742524</td>\n",
       "      <td>0.980818</td>\n",
       "      <td>-0.014482</td>\n",
       "      <td>-1.455016</td>\n",
       "    </tr>\n",
       "    <tr>\n",
       "      <th>26</th>\n",
       "      <td>-95.359869</td>\n",
       "      <td>988.96</td>\n",
       "      <td>365.354331</td>\n",
       "      <td>128.375038</td>\n",
       "      <td>3.105218</td>\n",
       "      <td>906.590243</td>\n",
       "      <td>-0.224155</td>\n",
       "      <td>2000.0</td>\n",
       "      <td>1434.363165</td>\n",
       "      <td>0.995299</td>\n",
       "      <td>...</td>\n",
       "      <td>105.79805</td>\n",
       "      <td>29.358159</td>\n",
       "      <td>54.129426</td>\n",
       "      <td>10.0</td>\n",
       "      <td>0.000000</td>\n",
       "      <td>59.704646</td>\n",
       "      <td>0.742524</td>\n",
       "      <td>0.980818</td>\n",
       "      <td>-0.014482</td>\n",
       "      <td>-1.455016</td>\n",
       "    </tr>\n",
       "    <tr>\n",
       "      <th>27</th>\n",
       "      <td>49.120131</td>\n",
       "      <td>1106.56</td>\n",
       "      <td>409.448819</td>\n",
       "      <td>205.195702</td>\n",
       "      <td>3.105218</td>\n",
       "      <td>906.590243</td>\n",
       "      <td>-0.503640</td>\n",
       "      <td>2000.0</td>\n",
       "      <td>1434.363165</td>\n",
       "      <td>0.995299</td>\n",
       "      <td>...</td>\n",
       "      <td>105.79805</td>\n",
       "      <td>112.879707</td>\n",
       "      <td>54.129426</td>\n",
       "      <td>10.0</td>\n",
       "      <td>0.000000</td>\n",
       "      <td>59.704646</td>\n",
       "      <td>0.742524</td>\n",
       "      <td>0.980818</td>\n",
       "      <td>-0.014482</td>\n",
       "      <td>-1.455016</td>\n",
       "    </tr>\n",
       "    <tr>\n",
       "      <th>28</th>\n",
       "      <td>-44.959869</td>\n",
       "      <td>864.64</td>\n",
       "      <td>348.818898</td>\n",
       "      <td>63.797143</td>\n",
       "      <td>3.105218</td>\n",
       "      <td>906.590243</td>\n",
       "      <td>0.103834</td>\n",
       "      <td>2000.0</td>\n",
       "      <td>1434.363165</td>\n",
       "      <td>0.995299</td>\n",
       "      <td>...</td>\n",
       "      <td>105.79805</td>\n",
       "      <td>38.346102</td>\n",
       "      <td>54.129426</td>\n",
       "      <td>10.0</td>\n",
       "      <td>0.158228</td>\n",
       "      <td>59.704646</td>\n",
       "      <td>0.742524</td>\n",
       "      <td>0.980818</td>\n",
       "      <td>-0.014482</td>\n",
       "      <td>-1.455016</td>\n",
       "    </tr>\n",
       "    <tr>\n",
       "      <th>29</th>\n",
       "      <td>42.400131</td>\n",
       "      <td>874.72</td>\n",
       "      <td>425.984252</td>\n",
       "      <td>50.594491</td>\n",
       "      <td>3.105218</td>\n",
       "      <td>906.590243</td>\n",
       "      <td>0.074688</td>\n",
       "      <td>2000.0</td>\n",
       "      <td>1434.363165</td>\n",
       "      <td>0.995299</td>\n",
       "      <td>...</td>\n",
       "      <td>105.79805</td>\n",
       "      <td>53.712027</td>\n",
       "      <td>54.129426</td>\n",
       "      <td>10.0</td>\n",
       "      <td>0.148920</td>\n",
       "      <td>59.704646</td>\n",
       "      <td>0.742524</td>\n",
       "      <td>0.980818</td>\n",
       "      <td>-0.014482</td>\n",
       "      <td>-1.455016</td>\n",
       "    </tr>\n",
       "    <tr>\n",
       "      <th>30</th>\n",
       "      <td>59.200131</td>\n",
       "      <td>904.96</td>\n",
       "      <td>459.055118</td>\n",
       "      <td>56.118597</td>\n",
       "      <td>3.105218</td>\n",
       "      <td>906.590243</td>\n",
       "      <td>-0.008287</td>\n",
       "      <td>2000.0</td>\n",
       "      <td>1434.363165</td>\n",
       "      <td>0.995299</td>\n",
       "      <td>...</td>\n",
       "      <td>105.79805</td>\n",
       "      <td>49.694396</td>\n",
       "      <td>54.129426</td>\n",
       "      <td>10.0</td>\n",
       "      <td>0.140647</td>\n",
       "      <td>59.704646</td>\n",
       "      <td>0.742524</td>\n",
       "      <td>0.980818</td>\n",
       "      <td>-0.014482</td>\n",
       "      <td>-1.455016</td>\n",
       "    </tr>\n",
       "    <tr>\n",
       "      <th>31</th>\n",
       "      <td>-61.759869</td>\n",
       "      <td>888.16</td>\n",
       "      <td>558.267717</td>\n",
       "      <td>67.432584</td>\n",
       "      <td>3.105218</td>\n",
       "      <td>906.590243</td>\n",
       "      <td>0.038536</td>\n",
       "      <td>2000.0</td>\n",
       "      <td>1434.363165</td>\n",
       "      <td>0.995299</td>\n",
       "      <td>...</td>\n",
       "      <td>105.79805</td>\n",
       "      <td>38.175651</td>\n",
       "      <td>54.129426</td>\n",
       "      <td>10.0</td>\n",
       "      <td>0.158228</td>\n",
       "      <td>59.704646</td>\n",
       "      <td>0.742524</td>\n",
       "      <td>0.980818</td>\n",
       "      <td>-0.014482</td>\n",
       "      <td>-1.455016</td>\n",
       "    </tr>\n",
       "    <tr>\n",
       "      <th>33</th>\n",
       "      <td>12.160131</td>\n",
       "      <td>851.20</td>\n",
       "      <td>381.889764</td>\n",
       "      <td>56.125488</td>\n",
       "      <td>3.105218</td>\n",
       "      <td>906.590243</td>\n",
       "      <td>0.141439</td>\n",
       "      <td>2000.0</td>\n",
       "      <td>1434.363165</td>\n",
       "      <td>0.995299</td>\n",
       "      <td>...</td>\n",
       "      <td>105.79805</td>\n",
       "      <td>42.063553</td>\n",
       "      <td>54.129426</td>\n",
       "      <td>10.0</td>\n",
       "      <td>0.195901</td>\n",
       "      <td>59.704646</td>\n",
       "      <td>0.742524</td>\n",
       "      <td>0.980818</td>\n",
       "      <td>-0.014482</td>\n",
       "      <td>-1.455016</td>\n",
       "    </tr>\n",
       "    <tr>\n",
       "      <th>34</th>\n",
       "      <td>-58.399869</td>\n",
       "      <td>881.44</td>\n",
       "      <td>481.102362</td>\n",
       "      <td>66.448555</td>\n",
       "      <td>3.105218</td>\n",
       "      <td>906.590243</td>\n",
       "      <td>0.057030</td>\n",
       "      <td>2000.0</td>\n",
       "      <td>1434.363165</td>\n",
       "      <td>0.995299</td>\n",
       "      <td>...</td>\n",
       "      <td>105.79805</td>\n",
       "      <td>38.556013</td>\n",
       "      <td>54.129426</td>\n",
       "      <td>10.0</td>\n",
       "      <td>0.158228</td>\n",
       "      <td>59.704646</td>\n",
       "      <td>0.742524</td>\n",
       "      <td>0.980818</td>\n",
       "      <td>-0.014482</td>\n",
       "      <td>-1.455016</td>\n",
       "    </tr>\n",
       "    <tr>\n",
       "      <th>36</th>\n",
       "      <td>-95.359869</td>\n",
       "      <td>968.80</td>\n",
       "      <td>359.842520</td>\n",
       "      <td>116.470714</td>\n",
       "      <td>3.105218</td>\n",
       "      <td>906.590243</td>\n",
       "      <td>-0.173609</td>\n",
       "      <td>2000.0</td>\n",
       "      <td>1434.363165</td>\n",
       "      <td>0.995299</td>\n",
       "      <td>...</td>\n",
       "      <td>105.79805</td>\n",
       "      <td>15.420193</td>\n",
       "      <td>54.129426</td>\n",
       "      <td>10.0</td>\n",
       "      <td>0.000000</td>\n",
       "      <td>59.704646</td>\n",
       "      <td>0.742524</td>\n",
       "      <td>0.980818</td>\n",
       "      <td>-0.014482</td>\n",
       "      <td>-1.455016</td>\n",
       "    </tr>\n",
       "    <tr>\n",
       "      <th>37</th>\n",
       "      <td>-91.999869</td>\n",
       "      <td>972.16</td>\n",
       "      <td>409.448819</td>\n",
       "      <td>115.517837</td>\n",
       "      <td>3.105218</td>\n",
       "      <td>906.590243</td>\n",
       "      <td>-0.182086</td>\n",
       "      <td>2000.0</td>\n",
       "      <td>1434.363165</td>\n",
       "      <td>0.995299</td>\n",
       "      <td>...</td>\n",
       "      <td>105.79805</td>\n",
       "      <td>15.183785</td>\n",
       "      <td>54.129426</td>\n",
       "      <td>10.0</td>\n",
       "      <td>0.000000</td>\n",
       "      <td>59.704646</td>\n",
       "      <td>0.742524</td>\n",
       "      <td>0.980818</td>\n",
       "      <td>-0.014482</td>\n",
       "      <td>-1.455016</td>\n",
       "    </tr>\n",
       "    <tr>\n",
       "      <th>38</th>\n",
       "      <td>62.560131</td>\n",
       "      <td>1096.48</td>\n",
       "      <td>431.496063</td>\n",
       "      <td>198.979915</td>\n",
       "      <td>3.105218</td>\n",
       "      <td>906.590243</td>\n",
       "      <td>-0.480895</td>\n",
       "      <td>2000.0</td>\n",
       "      <td>1434.363165</td>\n",
       "      <td>0.995299</td>\n",
       "      <td>...</td>\n",
       "      <td>105.79805</td>\n",
       "      <td>106.369956</td>\n",
       "      <td>54.129426</td>\n",
       "      <td>10.0</td>\n",
       "      <td>0.000000</td>\n",
       "      <td>59.704646</td>\n",
       "      <td>0.742524</td>\n",
       "      <td>0.980818</td>\n",
       "      <td>-0.014482</td>\n",
       "      <td>-1.455016</td>\n",
       "    </tr>\n",
       "    <tr>\n",
       "      <th>39</th>\n",
       "      <td>72.640131</td>\n",
       "      <td>1046.08</td>\n",
       "      <td>464.566929</td>\n",
       "      <td>155.860503</td>\n",
       "      <td>3.105218</td>\n",
       "      <td>906.590243</td>\n",
       "      <td>-0.363615</td>\n",
       "      <td>2000.0</td>\n",
       "      <td>1434.363165</td>\n",
       "      <td>0.995299</td>\n",
       "      <td>...</td>\n",
       "      <td>105.79805</td>\n",
       "      <td>63.531387</td>\n",
       "      <td>54.129426</td>\n",
       "      <td>10.0</td>\n",
       "      <td>0.000000</td>\n",
       "      <td>59.704646</td>\n",
       "      <td>0.742524</td>\n",
       "      <td>0.980818</td>\n",
       "      <td>-0.014482</td>\n",
       "      <td>-1.455016</td>\n",
       "    </tr>\n",
       "    <tr>\n",
       "      <th>40</th>\n",
       "      <td>65.920131</td>\n",
       "      <td>918.40</td>\n",
       "      <td>558.267717</td>\n",
       "      <td>63.915441</td>\n",
       "      <td>3.105218</td>\n",
       "      <td>906.590243</td>\n",
       "      <td>-0.044285</td>\n",
       "      <td>2000.0</td>\n",
       "      <td>1434.363165</td>\n",
       "      <td>0.995299</td>\n",
       "      <td>...</td>\n",
       "      <td>105.79805</td>\n",
       "      <td>40.709509</td>\n",
       "      <td>54.129426</td>\n",
       "      <td>10.0</td>\n",
       "      <td>0.195901</td>\n",
       "      <td>59.704646</td>\n",
       "      <td>0.742524</td>\n",
       "      <td>0.980818</td>\n",
       "      <td>-0.014482</td>\n",
       "      <td>-1.455016</td>\n",
       "    </tr>\n",
       "    <tr>\n",
       "      <th>41</th>\n",
       "      <td>59.200131</td>\n",
       "      <td>1106.56</td>\n",
       "      <td>376.377953</td>\n",
       "      <td>207.688572</td>\n",
       "      <td>3.105218</td>\n",
       "      <td>906.590243</td>\n",
       "      <td>-0.503885</td>\n",
       "      <td>2000.0</td>\n",
       "      <td>1434.363165</td>\n",
       "      <td>0.995299</td>\n",
       "      <td>...</td>\n",
       "      <td>105.79805</td>\n",
       "      <td>114.693937</td>\n",
       "      <td>54.129426</td>\n",
       "      <td>10.0</td>\n",
       "      <td>0.000000</td>\n",
       "      <td>59.704646</td>\n",
       "      <td>0.742524</td>\n",
       "      <td>0.980818</td>\n",
       "      <td>-0.014482</td>\n",
       "      <td>-1.455016</td>\n",
       "    </tr>\n",
       "    <tr>\n",
       "      <th>42</th>\n",
       "      <td>-61.759869</td>\n",
       "      <td>878.08</td>\n",
       "      <td>359.842520</td>\n",
       "      <td>70.854171</td>\n",
       "      <td>3.105218</td>\n",
       "      <td>906.590243</td>\n",
       "      <td>0.066393</td>\n",
       "      <td>2000.0</td>\n",
       "      <td>1434.363165</td>\n",
       "      <td>0.995299</td>\n",
       "      <td>...</td>\n",
       "      <td>105.79805</td>\n",
       "      <td>33.658310</td>\n",
       "      <td>54.129426</td>\n",
       "      <td>10.0</td>\n",
       "      <td>0.041277</td>\n",
       "      <td>59.704646</td>\n",
       "      <td>0.742524</td>\n",
       "      <td>0.980818</td>\n",
       "      <td>-0.014482</td>\n",
       "      <td>-1.455016</td>\n",
       "    </tr>\n",
       "    <tr>\n",
       "      <th>43</th>\n",
       "      <td>-78.559869</td>\n",
       "      <td>911.68</td>\n",
       "      <td>470.078740</td>\n",
       "      <td>81.823542</td>\n",
       "      <td>3.105218</td>\n",
       "      <td>906.590243</td>\n",
       "      <td>-0.025085</td>\n",
       "      <td>2000.0</td>\n",
       "      <td>1434.363165</td>\n",
       "      <td>0.995299</td>\n",
       "      <td>...</td>\n",
       "      <td>105.79805</td>\n",
       "      <td>23.875753</td>\n",
       "      <td>54.129426</td>\n",
       "      <td>10.0</td>\n",
       "      <td>0.000000</td>\n",
       "      <td>59.704646</td>\n",
       "      <td>0.742524</td>\n",
       "      <td>0.980818</td>\n",
       "      <td>-0.014482</td>\n",
       "      <td>-1.455016</td>\n",
       "    </tr>\n",
       "    <tr>\n",
       "      <th>44</th>\n",
       "      <td>69.280131</td>\n",
       "      <td>921.76</td>\n",
       "      <td>525.196850</td>\n",
       "      <td>67.891388</td>\n",
       "      <td>3.105218</td>\n",
       "      <td>906.590243</td>\n",
       "      <td>-0.053225</td>\n",
       "      <td>2000.0</td>\n",
       "      <td>1434.363165</td>\n",
       "      <td>0.995299</td>\n",
       "      <td>...</td>\n",
       "      <td>105.79805</td>\n",
       "      <td>36.452053</td>\n",
       "      <td>54.129426</td>\n",
       "      <td>10.0</td>\n",
       "      <td>0.158228</td>\n",
       "      <td>59.704646</td>\n",
       "      <td>0.742524</td>\n",
       "      <td>0.980818</td>\n",
       "      <td>-0.014482</td>\n",
       "      <td>-1.455016</td>\n",
       "    </tr>\n",
       "    <tr>\n",
       "      <th>45</th>\n",
       "      <td>65.920131</td>\n",
       "      <td>915.04</td>\n",
       "      <td>420.472441</td>\n",
       "      <td>63.380688</td>\n",
       "      <td>3.105218</td>\n",
       "      <td>906.590243</td>\n",
       "      <td>-0.035351</td>\n",
       "      <td>2000.0</td>\n",
       "      <td>1434.363165</td>\n",
       "      <td>0.995299</td>\n",
       "      <td>...</td>\n",
       "      <td>105.79805</td>\n",
       "      <td>41.636607</td>\n",
       "      <td>54.129426</td>\n",
       "      <td>10.0</td>\n",
       "      <td>0.195901</td>\n",
       "      <td>59.704646</td>\n",
       "      <td>0.742524</td>\n",
       "      <td>0.980818</td>\n",
       "      <td>-0.014482</td>\n",
       "      <td>-1.455016</td>\n",
       "    </tr>\n",
       "    <tr>\n",
       "      <th>46</th>\n",
       "      <td>-81.919869</td>\n",
       "      <td>1106.56</td>\n",
       "      <td>414.960630</td>\n",
       "      <td>217.295120</td>\n",
       "      <td>3.105218</td>\n",
       "      <td>906.590243</td>\n",
       "      <td>-0.503480</td>\n",
       "      <td>2000.0</td>\n",
       "      <td>1434.363165</td>\n",
       "      <td>0.995299</td>\n",
       "      <td>...</td>\n",
       "      <td>105.79805</td>\n",
       "      <td>121.635186</td>\n",
       "      <td>54.129426</td>\n",
       "      <td>10.0</td>\n",
       "      <td>0.000000</td>\n",
       "      <td>59.704646</td>\n",
       "      <td>0.742524</td>\n",
       "      <td>0.980818</td>\n",
       "      <td>-0.014482</td>\n",
       "      <td>-1.455016</td>\n",
       "    </tr>\n",
       "    <tr>\n",
       "      <th>47</th>\n",
       "      <td>72.640131</td>\n",
       "      <td>1049.44</td>\n",
       "      <td>519.685039</td>\n",
       "      <td>158.874659</td>\n",
       "      <td>3.105218</td>\n",
       "      <td>906.590243</td>\n",
       "      <td>-0.371574</td>\n",
       "      <td>2000.0</td>\n",
       "      <td>1434.363165</td>\n",
       "      <td>0.995299</td>\n",
       "      <td>...</td>\n",
       "      <td>105.79805</td>\n",
       "      <td>66.575433</td>\n",
       "      <td>54.129426</td>\n",
       "      <td>10.0</td>\n",
       "      <td>0.000000</td>\n",
       "      <td>59.704646</td>\n",
       "      <td>0.742524</td>\n",
       "      <td>0.980818</td>\n",
       "      <td>-0.014482</td>\n",
       "      <td>-1.455016</td>\n",
       "    </tr>\n",
       "    <tr>\n",
       "      <th>49</th>\n",
       "      <td>72.640131</td>\n",
       "      <td>948.64</td>\n",
       "      <td>668.503937</td>\n",
       "      <td>81.260607</td>\n",
       "      <td>3.105218</td>\n",
       "      <td>906.590243</td>\n",
       "      <td>-0.123387</td>\n",
       "      <td>2000.0</td>\n",
       "      <td>1434.363165</td>\n",
       "      <td>0.995299</td>\n",
       "      <td>...</td>\n",
       "      <td>105.79805</td>\n",
       "      <td>19.374653</td>\n",
       "      <td>54.129426</td>\n",
       "      <td>10.0</td>\n",
       "      <td>0.000000</td>\n",
       "      <td>59.704646</td>\n",
       "      <td>0.742524</td>\n",
       "      <td>0.980818</td>\n",
       "      <td>-0.014482</td>\n",
       "      <td>-1.455016</td>\n",
       "    </tr>\n",
       "    <tr>\n",
       "      <th>51</th>\n",
       "      <td>8.800131</td>\n",
       "      <td>854.56</td>\n",
       "      <td>508.661417</td>\n",
       "      <td>52.340980</td>\n",
       "      <td>3.105218</td>\n",
       "      <td>906.590243</td>\n",
       "      <td>0.131849</td>\n",
       "      <td>2000.0</td>\n",
       "      <td>1434.363165</td>\n",
       "      <td>0.995299</td>\n",
       "      <td>...</td>\n",
       "      <td>105.79805</td>\n",
       "      <td>46.761543</td>\n",
       "      <td>54.129426</td>\n",
       "      <td>10.0</td>\n",
       "      <td>0.066622</td>\n",
       "      <td>59.704646</td>\n",
       "      <td>0.742524</td>\n",
       "      <td>0.980818</td>\n",
       "      <td>-0.014482</td>\n",
       "      <td>-1.455016</td>\n",
       "    </tr>\n",
       "    <tr>\n",
       "      <th>52</th>\n",
       "      <td>-61.759869</td>\n",
       "      <td>891.52</td>\n",
       "      <td>657.480315</td>\n",
       "      <td>66.592730</td>\n",
       "      <td>3.105218</td>\n",
       "      <td>906.590243</td>\n",
       "      <td>0.029323</td>\n",
       "      <td>2000.0</td>\n",
       "      <td>1434.363165</td>\n",
       "      <td>0.995299</td>\n",
       "      <td>...</td>\n",
       "      <td>105.79805</td>\n",
       "      <td>39.227116</td>\n",
       "      <td>54.129426</td>\n",
       "      <td>10.0</td>\n",
       "      <td>0.158228</td>\n",
       "      <td>59.704646</td>\n",
       "      <td>0.742524</td>\n",
       "      <td>0.980818</td>\n",
       "      <td>-0.014482</td>\n",
       "      <td>-1.455016</td>\n",
       "    </tr>\n",
       "    <tr>\n",
       "      <th>53</th>\n",
       "      <td>-98.719869</td>\n",
       "      <td>985.60</td>\n",
       "      <td>481.102362</td>\n",
       "      <td>128.883242</td>\n",
       "      <td>3.105218</td>\n",
       "      <td>906.590243</td>\n",
       "      <td>-0.215814</td>\n",
       "      <td>2000.0</td>\n",
       "      <td>1434.363165</td>\n",
       "      <td>0.995299</td>\n",
       "      <td>...</td>\n",
       "      <td>105.79805</td>\n",
       "      <td>29.164611</td>\n",
       "      <td>54.129426</td>\n",
       "      <td>10.0</td>\n",
       "      <td>0.000000</td>\n",
       "      <td>59.704646</td>\n",
       "      <td>0.742524</td>\n",
       "      <td>0.980818</td>\n",
       "      <td>-0.014482</td>\n",
       "      <td>-1.455016</td>\n",
       "    </tr>\n",
       "    <tr>\n",
       "      <th>54</th>\n",
       "      <td>-51.679869</td>\n",
       "      <td>871.36</td>\n",
       "      <td>403.937008</td>\n",
       "      <td>65.135058</td>\n",
       "      <td>3.105218</td>\n",
       "      <td>906.590243</td>\n",
       "      <td>0.085019</td>\n",
       "      <td>2000.0</td>\n",
       "      <td>1434.363165</td>\n",
       "      <td>0.995299</td>\n",
       "      <td>...</td>\n",
       "      <td>105.79805</td>\n",
       "      <td>38.388265</td>\n",
       "      <td>54.129426</td>\n",
       "      <td>10.0</td>\n",
       "      <td>0.158228</td>\n",
       "      <td>59.704646</td>\n",
       "      <td>0.742524</td>\n",
       "      <td>0.980818</td>\n",
       "      <td>-0.014482</td>\n",
       "      <td>-1.455016</td>\n",
       "    </tr>\n",
       "    <tr>\n",
       "      <th>55</th>\n",
       "      <td>25.600131</td>\n",
       "      <td>861.28</td>\n",
       "      <td>376.377953</td>\n",
       "      <td>50.586947</td>\n",
       "      <td>3.105218</td>\n",
       "      <td>906.590243</td>\n",
       "      <td>0.112586</td>\n",
       "      <td>2000.0</td>\n",
       "      <td>1434.363165</td>\n",
       "      <td>0.995299</td>\n",
       "      <td>...</td>\n",
       "      <td>105.79805</td>\n",
       "      <td>50.541657</td>\n",
       "      <td>54.129426</td>\n",
       "      <td>10.0</td>\n",
       "      <td>0.140647</td>\n",
       "      <td>59.704646</td>\n",
       "      <td>0.742524</td>\n",
       "      <td>0.980818</td>\n",
       "      <td>-0.014482</td>\n",
       "      <td>-1.455016</td>\n",
       "    </tr>\n",
       "    <tr>\n",
       "      <th>56</th>\n",
       "      <td>79.360131</td>\n",
       "      <td>982.24</td>\n",
       "      <td>359.842520</td>\n",
       "      <td>107.413675</td>\n",
       "      <td>3.105218</td>\n",
       "      <td>906.590243</td>\n",
       "      <td>-0.208620</td>\n",
       "      <td>2000.0</td>\n",
       "      <td>1434.363165</td>\n",
       "      <td>0.995299</td>\n",
       "      <td>...</td>\n",
       "      <td>105.79805</td>\n",
       "      <td>10.478092</td>\n",
       "      <td>54.129426</td>\n",
       "      <td>10.0</td>\n",
       "      <td>0.000000</td>\n",
       "      <td>59.704646</td>\n",
       "      <td>0.742524</td>\n",
       "      <td>0.980818</td>\n",
       "      <td>-0.014482</td>\n",
       "      <td>-1.455016</td>\n",
       "    </tr>\n",
       "    <tr>\n",
       "      <th>58</th>\n",
       "      <td>-91.999869</td>\n",
       "      <td>958.72</td>\n",
       "      <td>437.007874</td>\n",
       "      <td>108.455010</td>\n",
       "      <td>3.105218</td>\n",
       "      <td>906.590243</td>\n",
       "      <td>-0.147981</td>\n",
       "      <td>2000.0</td>\n",
       "      <td>1434.363165</td>\n",
       "      <td>0.995299</td>\n",
       "      <td>...</td>\n",
       "      <td>105.79805</td>\n",
       "      <td>6.611438</td>\n",
       "      <td>54.129426</td>\n",
       "      <td>10.0</td>\n",
       "      <td>0.000000</td>\n",
       "      <td>59.704646</td>\n",
       "      <td>0.742524</td>\n",
       "      <td>0.980818</td>\n",
       "      <td>-0.014482</td>\n",
       "      <td>-1.455016</td>\n",
       "    </tr>\n",
       "    <tr>\n",
       "      <th>60</th>\n",
       "      <td>79.360131</td>\n",
       "      <td>972.16</td>\n",
       "      <td>348.818898</td>\n",
       "      <td>100.569403</td>\n",
       "      <td>3.105218</td>\n",
       "      <td>906.590243</td>\n",
       "      <td>-0.183358</td>\n",
       "      <td>2000.0</td>\n",
       "      <td>1434.363165</td>\n",
       "      <td>0.995299</td>\n",
       "      <td>...</td>\n",
       "      <td>105.79805</td>\n",
       "      <td>2.459805</td>\n",
       "      <td>54.129426</td>\n",
       "      <td>10.0</td>\n",
       "      <td>0.000000</td>\n",
       "      <td>59.704646</td>\n",
       "      <td>0.742524</td>\n",
       "      <td>0.980818</td>\n",
       "      <td>-0.014482</td>\n",
       "      <td>-1.455016</td>\n",
       "    </tr>\n",
       "    <tr>\n",
       "      <th>62</th>\n",
       "      <td>-98.719869</td>\n",
       "      <td>1076.32</td>\n",
       "      <td>370.866142</td>\n",
       "      <td>197.930642</td>\n",
       "      <td>3.105218</td>\n",
       "      <td>906.590243</td>\n",
       "      <td>-0.434052</td>\n",
       "      <td>2000.0</td>\n",
       "      <td>1434.363165</td>\n",
       "      <td>0.995299</td>\n",
       "      <td>...</td>\n",
       "      <td>105.79805</td>\n",
       "      <td>101.648454</td>\n",
       "      <td>54.129426</td>\n",
       "      <td>10.0</td>\n",
       "      <td>0.000000</td>\n",
       "      <td>59.704646</td>\n",
       "      <td>0.742524</td>\n",
       "      <td>0.980818</td>\n",
       "      <td>-0.014482</td>\n",
       "      <td>-1.455016</td>\n",
       "    </tr>\n",
       "    <tr>\n",
       "      <th>64</th>\n",
       "      <td>22.240131</td>\n",
       "      <td>857.92</td>\n",
       "      <td>453.543307</td>\n",
       "      <td>52.296629</td>\n",
       "      <td>3.105218</td>\n",
       "      <td>906.590243</td>\n",
       "      <td>0.122153</td>\n",
       "      <td>2000.0</td>\n",
       "      <td>1434.363165</td>\n",
       "      <td>0.995299</td>\n",
       "      <td>...</td>\n",
       "      <td>105.79805</td>\n",
       "      <td>47.889569</td>\n",
       "      <td>54.129426</td>\n",
       "      <td>10.0</td>\n",
       "      <td>0.066622</td>\n",
       "      <td>59.704646</td>\n",
       "      <td>0.742524</td>\n",
       "      <td>0.980818</td>\n",
       "      <td>-0.014482</td>\n",
       "      <td>-1.455016</td>\n",
       "    </tr>\n",
       "    <tr>\n",
       "      <th>65</th>\n",
       "      <td>-85.279869</td>\n",
       "      <td>935.20</td>\n",
       "      <td>381.889764</td>\n",
       "      <td>92.900171</td>\n",
       "      <td>3.105218</td>\n",
       "      <td>906.590243</td>\n",
       "      <td>-0.087246</td>\n",
       "      <td>2000.0</td>\n",
       "      <td>1434.363165</td>\n",
       "      <td>0.995299</td>\n",
       "      <td>...</td>\n",
       "      <td>105.79805</td>\n",
       "      <td>11.100627</td>\n",
       "      <td>54.129426</td>\n",
       "      <td>10.0</td>\n",
       "      <td>0.000000</td>\n",
       "      <td>59.704646</td>\n",
       "      <td>0.742524</td>\n",
       "      <td>0.980818</td>\n",
       "      <td>-0.014482</td>\n",
       "      <td>-1.455016</td>\n",
       "    </tr>\n",
       "    <tr>\n",
       "      <th>66</th>\n",
       "      <td>69.280131</td>\n",
       "      <td>928.48</td>\n",
       "      <td>381.889764</td>\n",
       "      <td>69.701367</td>\n",
       "      <td>3.105218</td>\n",
       "      <td>906.590243</td>\n",
       "      <td>-0.070936</td>\n",
       "      <td>2000.0</td>\n",
       "      <td>1434.363165</td>\n",
       "      <td>0.995299</td>\n",
       "      <td>...</td>\n",
       "      <td>105.79805</td>\n",
       "      <td>33.722168</td>\n",
       "      <td>54.129426</td>\n",
       "      <td>10.0</td>\n",
       "      <td>0.041277</td>\n",
       "      <td>59.704646</td>\n",
       "      <td>0.742524</td>\n",
       "      <td>0.980818</td>\n",
       "      <td>-0.014482</td>\n",
       "      <td>-1.455016</td>\n",
       "    </tr>\n",
       "    <tr>\n",
       "      <th>67</th>\n",
       "      <td>-1.279869</td>\n",
       "      <td>851.20</td>\n",
       "      <td>348.818898</td>\n",
       "      <td>55.563549</td>\n",
       "      <td>3.105218</td>\n",
       "      <td>906.590243</td>\n",
       "      <td>0.141568</td>\n",
       "      <td>2000.0</td>\n",
       "      <td>1434.363165</td>\n",
       "      <td>0.995299</td>\n",
       "      <td>...</td>\n",
       "      <td>105.79805</td>\n",
       "      <td>42.578238</td>\n",
       "      <td>54.129426</td>\n",
       "      <td>10.0</td>\n",
       "      <td>0.195901</td>\n",
       "      <td>59.704646</td>\n",
       "      <td>0.742524</td>\n",
       "      <td>0.980818</td>\n",
       "      <td>-0.014482</td>\n",
       "      <td>-1.455016</td>\n",
       "    </tr>\n",
       "    <tr>\n",
       "      <th>68</th>\n",
       "      <td>55.840131</td>\n",
       "      <td>891.52</td>\n",
       "      <td>343.307087</td>\n",
       "      <td>54.845996</td>\n",
       "      <td>3.105218</td>\n",
       "      <td>906.590243</td>\n",
       "      <td>0.028207</td>\n",
       "      <td>2000.0</td>\n",
       "      <td>1434.363165</td>\n",
       "      <td>0.995299</td>\n",
       "      <td>...</td>\n",
       "      <td>105.79805</td>\n",
       "      <td>51.186553</td>\n",
       "      <td>54.129426</td>\n",
       "      <td>10.0</td>\n",
       "      <td>0.140647</td>\n",
       "      <td>59.704646</td>\n",
       "      <td>0.742524</td>\n",
       "      <td>0.980818</td>\n",
       "      <td>-0.014482</td>\n",
       "      <td>-1.455016</td>\n",
       "    </tr>\n",
       "  </tbody>\n",
       "</table>\n",
       "<p>57 rows × 51 columns</p>\n",
       "</div>"
      ]
     },
     "execution_count": 124,
     "metadata": {},
     "output_type": "execute_result"
    }
   ],
   "execution_count": 124
  },
  {
   "metadata": {
    "ExecuteTime": {
     "end_time": "2024-10-15T13:57:44.026713Z",
     "start_time": "2024-10-15T13:57:44.024071Z"
    }
   },
   "cell_type": "code",
   "source": "",
   "outputs": [],
   "execution_count": 125
  },
  {
   "metadata": {
    "ExecuteTime": {
     "end_time": "2024-10-15T13:57:44.870691Z",
     "start_time": "2024-10-15T13:57:44.865655Z"
    }
   },
   "cell_type": "code",
   "source": [
    "def betaGroupsRMS90(bdf: pd.DataFrame, avg_sigmas: tuple, avg_t_sigmas: tuple, n = 5):\n",
    "  beta_sigms = np.full((np.ptp(avg_sigmas), np.ptp(avg_t_sigmas), n), 0.)\n",
    "  beta_epss = np.full((np.ptp(avg_sigmas), np.ptp(avg_t_sigmas), n), 0.)\n",
    "  beta_sigms_sigms = np.full((np.ptp(avg_sigmas), np.ptp(avg_t_sigmas), n), 0.)\n",
    "\n",
    "  masses_mean = np.full((np.ptp(avg_sigmas), np.ptp(avg_t_sigmas), n), 0.)\n",
    "  masses_upper = np.full((np.ptp(avg_sigmas), np.ptp(avg_t_sigmas), n), 0.)\n",
    "  masses_lower = np.full((np.ptp(avg_sigmas), np.ptp(avg_t_sigmas), n), 0.)\n",
    "  \n",
    "  for group in range(1, n + 1):\n",
    "    data = bdf[bdf['beta_group'] == group]\n",
    "    for i in range(np.ptp(avg_sigmas)):\n",
    "      for j in range(np.ptp(avg_t_sigmas)):\n",
    "        population_fourth_moment = np.mean(bdf[f'delta_beta_{i + avg_sigmas[0]}_rsigms_{j + avg_t_sigmas[0]}_tsigms'] ** 4)\n",
    "        sample_fourth_moment = np.mean(data[f'delta_beta_{i + avg_sigmas[0]}_rsigms_{j + avg_t_sigmas[0]}_tsigms'] ** 4)\n",
    "        # print(np.std(data[f'delta_beta_{i + avg_sigmas[0]}_rsigms_{j + avg_t_sigmas[0]}_tsigms']))\n",
    "        beta_sigms[i, j, group - 1] = rms90(data[f'delta_beta_{i + avg_sigmas[0]}_rsigms_{j + avg_t_sigmas[0]}_tsigms'])\n",
    "        # assert not np.isnan(beta_sigms[i, j, group - 1])\n",
    "        beta_epss[i, j, group - 1] = rms90(data[f'eps_beta_{i + avg_sigmas[0]}_rsigms_{j + avg_t_sigmas[0]}_tsigms'])\n",
    "        beta_sigms_sigms[i, j, group - 1] = np.sqrt(2 * np.abs(sample_fourth_moment - population_fourth_moment) / (data.shape[0]))\n",
    "              \n",
    "        masses_mean[i, j, group - 1] = np.mean((data.momentum / data.beta_from_calc_r_4_rsigms_4_tsigms * np.sqrt(1 - data.beta_from_calc_r_4_rsigms_4_tsigms ** 2)).dropna())\n",
    "        masses_upper[i, j, group - 1] = np.mean((data.momentum / (data.beta_from_calc_r_4_rsigms_4_tsigms - beta_sigms[i, j, group - 1]) * np.sqrt(1 - (data.beta_from_calc_r_4_rsigms_4_tsigms - beta_sigms[i, j, group - 1]) ** 2)).dropna()) - masses_mean[i, j, group - 1] \n",
    "        masses_lower[i, j, group - 1] = masses_mean[i, j, group - 1] - np.mean((data.momentum / (data.beta_from_calc_r_4_rsigms_4_tsigms + beta_sigms[i, j, group - 1]) * np.sqrt(1 - (data.beta_from_calc_r_4_rsigms_4_tsigms + beta_sigms[i, j, group - 1]) ** 2)).dropna())\n",
    "\n",
    "\n",
    "  return beta_sigms, beta_epss, beta_sigms_sigms, masses_mean, masses_upper, masses_lower"
   ],
   "outputs": [],
   "execution_count": 126
  },
  {
   "metadata": {
    "ExecuteTime": {
     "end_time": "2024-10-15T14:06:44.156897Z",
     "start_time": "2024-10-15T14:06:44.082512Z"
    }
   },
   "cell_type": "code",
   "source": [
    "plt.hist((bdf.momentum / bdf.beta_from_calc_r_4_rsigms_4_tsigms * np.sqrt(1 - bdf.beta_from_calc_r_4_rsigms_4_tsigms ** 2)).dropna(), bins='auto')\n",
    "plt.show()"
   ],
   "outputs": [
    {
     "name": "stderr",
     "output_type": "stream",
     "text": [
      "Z:\\Prog\\FARICH\\venv\\Lib\\site-packages\\pandas\\core\\arraylike.py:399: RuntimeWarning: invalid value encountered in sqrt\n",
      "  result = getattr(ufunc, method)(*inputs, **kwargs)\n"
     ]
    },
    {
     "data": {
      "text/plain": [
       "<Figure size 640x480 with 1 Axes>"
      ],
      "image/png": "[encoded data removed]"
     },
     "metadata": {},
     "output_type": "display_data"
    }
   ],
   "execution_count": 145
  },
  {
   "metadata": {
    "ExecuteTime": {
     "end_time": "2024-10-15T14:01:58.237664Z",
     "start_time": "2024-10-15T14:01:58.229398Z"
    }
   },
   "cell_type": "code",
   "source": [
    "def plot_final_graph(beta_sigms, beta_sigms_yerr, avg_sigmas, avg_t_sigmas, r_width, t_width, r_factor, t_factor, weighed, to_save=True, deg_lim=False, num_of_groups=10, iteration=0):\n",
    "  # labels = ['0', '1e3', '1e4', '1e5', '1e6']\n",
    "  labels = ['0']\n",
    "  labels = ['DCR = ' + i + ' $Hz/mm^2$' for i in labels]\n",
    "  colors = ['c', 'y', 'g', 'r', 'm']\n",
    "  weight = 'weighed' if weighed else 'unweighed'\n",
    "  y = np.arange(1, num_of_groups + 1)\n",
    "  x = (y * (max(edf['beta']) - min(edf['beta'])) - max(edf['beta']) + (num_of_groups + 1) * min(edf['beta'])) / num_of_groups\n",
    "\n",
    "  fig, axs = plt.subplots(np.ptp(avg_sigmas), np.ptp(avg_t_sigmas), figsize=(10 * np.ptp(avg_t_sigmas), 10 * np.ptp(avg_sigmas)))\n",
    "  title = f'Method: N(r) / r; {weight} Avg\\nR Width = {r_width}mm, T Width = {t_width}ns\\nR step factor = {r_factor}, T step factor = {t_factor}'\n",
    "  if deg_lim:\n",
    "    title += '\\n' + r'$\\theta_p < 10\\deg$'\n",
    "  # fig.suptitle(title)\n",
    "\n",
    "  if np.ptp(avg_sigmas) > 1:\n",
    "    for i in range(np.ptp(avg_sigmas)):\n",
    "      for j in range(np.ptp(avg_t_sigmas)):\n",
    "        for k in range(beta_sigms.shape[0]):\n",
    "          axs[i, j].plot(x, beta_sigms[k, i, j], label=labels[k], c=colors[k])\n",
    "          axs[i, j].errorbar(x, beta_sigms[k, i, j], xerr=[np.diff(x)[0]/4 for _ in x], linestyle='', c=colors[k])\n",
    "          axs[i, j].errorbar(x, beta_sigms[k, i, j], yerr=beta_sigms_yerr[k, i, j], linestyle='', c=colors[k])\n",
    "        axs[i, j].legend(loc='upper right')\n",
    "        axs[i, j].set_xlabel('Beta Group')\n",
    "        axs[i, j].set_ylabel(r'RMS90($\\Delta\\beta$)')\n",
    "        axs[i, j].set_ylim((0, 0.004))\n",
    "        axs[i, j].set_title(f'Velocity resoultion for\\nr window width = {avg_sigmas[0] + i}$\\sigma$\\nt window width = {avg_t_sigmas[0] + j}$\\sigma$')\n",
    "        axs[i, j].grid()\n",
    "  elif np.ptp(avg_t_sigmas) > 1:\n",
    "    for j in range(np.ptp(avg_t_sigmas)):\n",
    "      for k in range(beta_sigms.shape[0]):\n",
    "        axs[j].plot(x, beta_sigms[k, 0, j], label=labels[k], c=colors[k])\n",
    "        axs[j].errorbar(x, beta_sigms[k, 0, j], xerr=[np.diff(x)[0]/4 for _ in x], linestyle='', c=colors[k])\n",
    "        axs[j].errorbar(x, beta_sigms[k, 0, j], yerr=beta_sigms_yerr[k, 0, j], linestyle='', c=colors[k])\n",
    "      axs[j].legend(loc='upper right')\n",
    "      axs[j].set_xlabel('Beta Group')\n",
    "      axs[j].set_ylabel(r'RMS90($\\Delta\\beta)$')\n",
    "      axs[j].set_ylim((0, 0.004))\n",
    "      axs[j].set_title(f'Velocity resoultion for\\nr window width = {avg_sigmas[0]}$\\sigma$\\nt window width = {avg_t_sigmas[0] + j}$\\sigma$')\n",
    "      axs[j].grid()\n",
    "  else:\n",
    "    for k in range(beta_sigms.shape[0]):\n",
    "      axs.plot(x, beta_sigms[k, 0, 0], label=labels[k], c=colors[k])\n",
    "      axs.errorbar(x, beta_sigms[k, 0, 0], xerr=[np.diff(x)[0]/4 for _ in x], linestyle='', c=colors[k])\n",
    "      axs.errorbar(x, beta_sigms[k, 0, 0], yerr=beta_sigms_yerr[k, 0, 0], linestyle='', c=colors[k])\n",
    "    axs.legend(loc='upper right')\n",
    "    axs.set_xlabel('Beta Group')\n",
    "    axs.set_ylabel(r'RMS90($\\Delta\\beta$)')\n",
    "      # axs.set_ylim((0, 0.002))\n",
    "        # revert back\n",
    "    axs.set_ylim((0, 0.004))\n",
    "        \n",
    "        \n",
    "        \n",
    "    axs.set_title(f'Velocity resoultion for\\nr window width = {avg_sigmas[0]}$\\sigma$\\nt window width = {avg_t_sigmas[0]}$\\sigma$')\n",
    "    axs.grid()\n",
    "\n",
    "  if to_save:\n",
    "    filename = f'{weight}_avg_rw={r_width}_tw={t_width}_rs={r_factor}_ts={t_factor}_rsigms={avg_sigmas[0]}-{avg_sigmas[-1]-1}_tsigms={avg_t_sigmas[0]}-{avg_t_sigmas[-1]-1}'\n",
    "    if deg_lim:\n",
    "      filename += '_10deg'\n",
    "    filename += f'_{iteration}'\n",
    "    filename += '.png'\n",
    "    fig.savefig(os.path.join('results_barrel', f'{filename}'))\n",
    "    plt.close(fig)\n",
    "  else:\n",
    "    plt.show()"
   ],
   "outputs": [],
   "execution_count": 142
  },
  {
   "metadata": {
    "ExecuteTime": {
     "end_time": "2024-10-15T13:57:53.085499Z",
     "start_time": "2024-10-15T13:57:53.080308Z"
    }
   },
   "cell_type": "code",
   "source": [
    "def plot_final_mass_graph(mass_mean, mass_upper, mass_lower, avg_sigmas, avg_t_sigmas, r_width, t_width, r_factor, t_factor, weighed, to_save=True, deg_lim=False, num_of_groups=10, iteration=0):\n",
    "    labels = ['0']\n",
    "    labels = ['DCR = ' + i + ' $Hz/mm^2$' for i in labels]\n",
    "    colors = ['c', 'y', 'g', 'r', 'm']\n",
    "    weight = 'weighed' if weighed else 'unweighed'\n",
    "    pi_mass = 139.57\n",
    "    mu_mass = 105.65\n",
    "    ka_mass = 493.67\n",
    "    y = np.arange(1, num_of_groups + 1)\n",
    "    x = (y * (max(edf['beta']) - min(edf['beta'])) - max(edf['beta']) + (num_of_groups + 1) * min(edf['beta'])) / num_of_groups\n",
    "    fig, axs = plt.subplots(1, 1, figsize=(10, 10))\n",
    "    title = f'Method: N(r) / r; {weight} Avg\\nR Width = {r_width}mm, T Width = {t_width}ns\\nR step factor = {r_factor}, T step factor = {t_factor}'\n",
    "    if deg_lim:\n",
    "        title += '\\n' + r'$\\theta_p < 10\\deg$'\n",
    "    for k in range(mass_mean.shape[0]):\n",
    "        axs.plot(x, mass_mean[k, 0], label=labels[k], c=colors[k])\n",
    "        axs.errorbar(x, mass_mean[k, 0], yerr= np.array(list(zip(mass_lower[k, 0], mass_upper[k, 0]))).T, linestyle='', c=colors[k])\n",
    "    \n",
    "    axs.plot((min(x), max(x)), (pi_mass, pi_mass), linestyle='--', c='red')\n",
    "    axs.plot((min(x), max(x)), (mu_mass, mu_mass), linestyle='--', c='red')\n",
    "    # axs.plot((min(x), max(x)), (ka_mass, ka_mass), linestyle='--', c='red')\n",
    "\n",
    "    axs.legend(loc='upper right')\n",
    "    axs.set_xlabel('Beta Group')\n",
    "    axs.set_ylabel(r'Measured Mass, MeV')\n",
    "    axs.set_title(f'Mass resoultion for\\nr window width = {avg_sigmas[0]}$\\sigma$\\nt window width = {avg_t_sigmas[0]}$\\sigma$')\n",
    "    axs.grid()\n",
    "    \n",
    "    if to_save:\n",
    "        filename = f'{weight}_avg_rw={r_width}_tw={t_width}_rs={r_factor}_ts={t_factor}_rsigms={avg_sigmas[0]}-{avg_sigmas[-1]-1}_tsigms={avg_t_sigmas[0]}-{avg_t_sigmas[-1]-1}'\n",
    "        if deg_lim:\n",
    "            filename += '_10deg'\n",
    "        filename += f'_{iteration}'\n",
    "        filename += '.png'\n",
    "        fig.savefig(os.path.join('results_barrel', f'{filename}'))\n",
    "        plt.close(fig)\n",
    "    else:\n",
    "        plt.show()"
   ],
   "outputs": [],
   "execution_count": 129
  },
  {
   "metadata": {
    "ExecuteTime": {
     "end_time": "2024-10-15T13:58:28.549377Z",
     "start_time": "2024-10-15T13:58:28.523958Z"
    }
   },
   "cell_type": "code",
   "source": [
    "bg = betaGroupsRMS90(bdf, avg_sigmas=avg_sigmas, avg_t_sigmas=avg_t_sigmas, n=num_of_groups)\n",
    "beta_sigms.append(bg[0])\n",
    "beta_sigms_yerr.append(bg[2])"
   ],
   "outputs": [
    {
     "name": "stderr",
     "output_type": "stream",
     "text": [
      "Z:\\Prog\\FARICH\\venv\\Lib\\site-packages\\pandas\\core\\arraylike.py:399: RuntimeWarning: invalid value encountered in sqrt\n",
      "  result = getattr(ufunc, method)(*inputs, **kwargs)\n"
     ]
    }
   ],
   "execution_count": 130
  },
  {
   "metadata": {
    "ExecuteTime": {
     "end_time": "2024-10-15T13:58:28.729854Z",
     "start_time": "2024-10-15T13:58:28.727329Z"
    }
   },
   "cell_type": "code",
   "source": "bg[3]",
   "outputs": [
    {
     "data": {
      "text/plain": [
       "array([[[194.09847688, 182.34495647, 174.80640115, 165.36557277,\n",
       "         154.75703966, 143.18964527, 136.10626432, 162.82014963,\n",
       "         141.35036677, 120.72220854]]])"
      ]
     },
     "execution_count": 131,
     "metadata": {},
     "output_type": "execute_result"
    }
   ],
   "execution_count": 131
  },
  {
   "metadata": {
    "ExecuteTime": {
     "end_time": "2024-10-15T13:58:28.885845Z",
     "start_time": "2024-10-15T13:58:28.882796Z"
    }
   },
   "cell_type": "code",
   "source": "bg[4]",
   "outputs": [
    {
     "data": {
      "text/plain": [
       "array([[[4.37173919, 3.83962593, 3.47352983, 3.36023469, 3.5748737 ,\n",
       "         3.45865945, 3.81887212, 4.94950874, 5.51355813, 6.67072652]]])"
      ]
     },
     "execution_count": 132,
     "metadata": {},
     "output_type": "execute_result"
    }
   ],
   "execution_count": 132
  },
  {
   "metadata": {
    "ExecuteTime": {
     "end_time": "2024-10-15T13:58:29.135501Z",
     "start_time": "2024-10-15T13:58:29.132903Z"
    }
   },
   "cell_type": "code",
   "source": "bg[5]",
   "outputs": [
    {
     "data": {
      "text/plain": [
       "array([[[4.45362462, 3.76628232, 3.53278211, 3.51850316, 3.56880894,\n",
       "         3.59109034, 3.91634022, 5.09980331, 5.80746858, 6.91917143]]])"
      ]
     },
     "execution_count": 133,
     "metadata": {},
     "output_type": "execute_result"
    }
   ],
   "execution_count": 133
  },
  {
   "metadata": {
    "ExecuteTime": {
     "end_time": "2024-10-15T13:58:30.610139Z",
     "start_time": "2024-10-15T13:58:30.443033Z"
    }
   },
   "cell_type": "code",
   "source": "plot_final_mass_graph(bg[3], bg[4], bg[5], avg_sigmas, avg_t_sigmas, r_width, t_width, r_factor, t_factor, weighed, to_save=False, deg_lim=False, num_of_groups=num_of_groups, iteration=0)",
   "outputs": [
    {
     "data": {
      "text/plain": [
       "<Figure size 1000x1000 with 1 Axes>"
      ],
      "image/png": "[encoded data removed]"
     },
     "metadata": {},
     "output_type": "display_data"
    }
   ],
   "execution_count": 134
  },
  {
   "metadata": {
    "ExecuteTime": {
     "end_time": "2024-10-15T13:58:33.763788Z",
     "start_time": "2024-10-15T13:58:33.761879Z"
    }
   },
   "cell_type": "code",
   "source": [
    "beta_sigms = np.array(beta_sigms)\n",
    "beta_sigms_yerr = np.array(beta_sigms_yerr)"
   ],
   "outputs": [],
   "execution_count": 135
  },
  {
   "metadata": {
    "ExecuteTime": {
     "end_time": "2024-10-15T13:58:33.949754Z",
     "start_time": "2024-10-15T13:58:33.948448Z"
    }
   },
   "cell_type": "code",
   "source": "",
   "outputs": [],
   "execution_count": 135
  },
  {
   "metadata": {
    "ExecuteTime": {
     "end_time": "2024-10-15T14:02:24.126965Z",
     "start_time": "2024-10-15T14:02:23.952844Z"
    }
   },
   "cell_type": "code",
   "source": "plot_final_graph(beta_sigms, beta_sigms_yerr, avg_sigmas, avg_t_sigmas, r_width, t_width, r_factor, t_factor, weighed, deg_lim=False, num_of_groups=num_of_groups, iteration=0)\n",
   "outputs": [],
   "execution_count": 144
  },
  {
   "metadata": {
    "ExecuteTime": {
     "end_time": "2024-10-15T13:59:02.883101Z",
     "start_time": "2024-10-15T13:59:02.851268Z"
    }
   },
   "cell_type": "code",
   "source": [
    "edf_d = edf[edf.theta_p <= 10. * np.pi / 180]\n",
    "edf_d = edf_d[edf_d.signal_counts >= 5]\n",
    "bdf_d = bdf[bdf.theta_p <= 10. * np.pi / 180]\n",
    "bdf_d = bdf_d[bdf_d.signal_counts >= 5]"
   ],
   "outputs": [],
   "execution_count": 137
  },
  {
   "metadata": {
    "ExecuteTime": {
     "end_time": "2024-10-15T13:59:13.417752Z",
     "start_time": "2024-10-15T13:59:13.398037Z"
    }
   },
   "cell_type": "code",
   "source": [
    "bg_deglim = betaGroupsRMS90(bdf_d, avg_sigmas=avg_sigmas, avg_t_sigmas=avg_t_sigmas, n=num_of_groups)\n",
    "beta_sigms_deglim.append(bg_deglim[0])\n",
    "beta_sigms_yerr_deglim.append(bg_deglim[2])"
   ],
   "outputs": [
    {
     "name": "stderr",
     "output_type": "stream",
     "text": [
      "Z:\\Prog\\FARICH\\venv\\Lib\\site-packages\\pandas\\core\\arraylike.py:399: RuntimeWarning: invalid value encountered in sqrt\n",
      "  result = getattr(ufunc, method)(*inputs, **kwargs)\n"
     ]
    }
   ],
   "execution_count": 138
  },
  {
   "metadata": {
    "ExecuteTime": {
     "end_time": "2024-10-15T14:00:03.102477Z",
     "start_time": "2024-10-15T14:00:02.935228Z"
    }
   },
   "cell_type": "code",
   "source": "plot_final_mass_graph(bg_deglim[3], bg_deglim[4], bg_deglim[5], avg_sigmas, avg_t_sigmas, r_width, t_width, r_factor, t_factor, weighed, to_save=False, deg_lim=True, num_of_groups=num_of_groups, iteration=0)",
   "outputs": [
    {
     "data": {
      "text/plain": [
       "<Figure size 1000x1000 with 1 Axes>"
      ],
      "image/png": "[encoded data removed]"
     },
     "metadata": {},
     "output_type": "display_data"
    }
   ],
   "execution_count": 141
  },
  {
   "metadata": {
    "ExecuteTime": {
     "end_time": "2024-10-15T13:59:17.887764Z",
     "start_time": "2024-10-15T13:59:17.885879Z"
    }
   },
   "cell_type": "code",
   "source": [
    "beta_sigms_deglim = np.array(beta_sigms_deglim)\n",
    "beta_sigms_yerr_deglim = np.array(beta_sigms_yerr_deglim)"
   ],
   "outputs": [],
   "execution_count": 139
  },
  {
   "metadata": {
    "ExecuteTime": {
     "end_time": "2024-10-15T14:02:06.949270Z",
     "start_time": "2024-10-15T14:02:06.789152Z"
    }
   },
   "cell_type": "code",
   "source": "plot_final_graph(beta_sigms_deglim, beta_sigms_yerr_deglim, avg_sigmas, avg_t_sigmas, r_width, t_width, r_factor, t_factor, weighed, deg_lim=True, num_of_groups=num_of_groups, iteration=0)",
   "outputs": [],
   "execution_count": 143
  },
  {
   "metadata": {},
   "cell_type": "code",
   "source": "",
   "outputs": [],
   "execution_count": null
  },
  {
   "metadata": {},
   "cell_type": "code",
   "source": "bdf",
   "outputs": [],
   "execution_count": null
  },
  {
   "metadata": {},
   "cell_type": "code",
   "source": "ы",
   "outputs": [],
   "execution_count": null
  },
  {
   "metadata": {},
   "cell_type": "code",
   "source": [
    "plt.hist(bdf.beta, bins='auto')\n",
    "plt.xlabel('beta')\n",
    "plt.show()"
   ],
   "outputs": [],
   "execution_count": null
  },
  {
   "metadata": {},
   "cell_type": "code",
   "source": [
    "plt.subplot()\n",
    "plt.hist(bdf.cos_theta_p, bins='auto')\n",
    "plt.xlabel('cos_theta_p')\n",
    "plt.show()\n",
    "plt.subplot()\n",
    "plt.hist(bdf.theta_p, bins='auto')\n",
    "plt.xlabel('theta_p')\n",
    "plt.show()"
   ],
   "outputs": [],
   "execution_count": null
  },
  {
   "cell_type": "markdown",
   "source": [
    "primary particle - last with wv = 0"
   ],
   "metadata": {
    "collapsed": false
   }
  },
  {
   "metadata": {},
   "cell_type": "code",
   "source": "",
   "outputs": [],
   "execution_count": null
  },
  {
   "cell_type": "code",
   "source": [
    "# coordinates[:,3]\n",
    "lambdas = np.concatenate(coordinates[:,3])"
   ],
   "metadata": {
    "collapsed": false
   },
   "outputs": [],
   "execution_count": null
  },
  {
   "cell_type": "code",
   "source": [
    "lambdas.shape"
   ],
   "metadata": {
    "collapsed": false
   },
   "outputs": [],
   "execution_count": null
  },
  {
   "cell_type": "code",
   "source": [
    "lambdas.shape[0] / coordinates.shape[0]"
   ],
   "metadata": {
    "collapsed": false
   },
   "outputs": [],
   "execution_count": null
  },
  {
   "cell_type": "code",
   "source": [
    "plt.hist(lambdas, bins=PDE_wvs)\n",
    "plt.xlabel('Wavelength, nm')\n",
    "plt.title(f'Energy: 1500 MeV\\nMean: {round(lambdas.mean(), 1)} nm' + '\\n' + f'Std: {round(lambdas.std(), 1)} nm')\n",
    "plt.ylabel('Hits')\n",
    "# plt.xlim((200, 900))\n",
    "plt.show()"
   ],
   "metadata": {
    "collapsed": false
   },
   "outputs": [],
   "execution_count": null
  },
  {
   "cell_type": "code",
   "source": [
    "# delta_r = np.sqrt(x ** 2 + y ** 2 - 1000 ** 2)\n",
    "plt.scatter(coordinates[0][0], coordinates[0][2], c='red', s=3)\n",
    "# plt.plot(1000 * np.cos(np.linspace(0, 2*np.pi,1000)), 1000 * np.sin(np.linspace(0, 2*np.pi,1000)))\n",
    "# plt.xlim((-160, 50))\n",
    "# plt.ylim((-1100, -650))\n",
    "plt.xlabel('X, mm')\n",
    "plt.ylabel('Z, mm')\n",
    "# plt.title('p = 1500 MeV' + f'\\n{coordinates[0][0].shape[0]} Hits')\n",
    "plt.show()"
   ],
   "metadata": {
    "collapsed": false
   },
   "outputs": [],
   "execution_count": null
  },
  {
   "cell_type": "code",
   "source": [
    "print(coordinates[0][0].shape)"
   ],
   "metadata": {
    "collapsed": false
   },
   "outputs": [],
   "execution_count": null
  },
  {
   "cell_type": "code",
   "source": [
    "plt.scatter(PDE_wvs, PDEs)\n",
    "plt.show()"
   ],
   "metadata": {
    "collapsed": false
   },
   "outputs": [],
   "execution_count": null
  },
  {
   "cell_type": "code",
   "source": [],
   "metadata": {
    "collapsed": false
   },
   "outputs": [],
   "execution_count": null
  },
  {
   "cell_type": "code",
   "source": [
    "events_len = []\n",
    "for i in range(coordinates.shape[0]):\n",
    "    events_len.append(len(coordinates[i][0]))\n",
    "events_len = np.array(events_len)\n",
    "plt.hist(events_len, bins='auto')\n",
    "plt.xlabel('Hits in event')\n",
    "plt.title(f'Energy: 1500 MeV\\nMean: {round(events_len.mean(), 1)}' + '\\n' + f'Std: {round(events_len.std(), 1)}')\n",
    "plt.ylabel('Events')\n",
    "plt.show()"
   ],
   "metadata": {
    "collapsed": false
   },
   "outputs": [],
   "execution_count": null
  },
  {
   "cell_type": "markdown",
   "source": [
    "# End of main"
   ],
   "metadata": {
    "collapsed": false
   }
  },
  {
   "metadata": {},
   "cell_type": "code",
   "source": [
    "n = np.array(file_prototype['info_sim;1']['info_rad']['m_layers']['m_layers.first'].array())[0]\n",
    "n\n",
    "l = np.array(file_prototype['info_sim;1']['info_rad']['m_layers']['m_layers.second'].array())[0]\n",
    "l\n",
    "cos = 1 / n\n",
    "cos\n",
    "theta = np.arccos(cos)\n",
    "theta\n",
    "tg = np.tan(theta)\n",
    "tg\n",
    "2 * (tg[3] / tg[2] * (200 + l[3] / 2) - 200 - l[3])\n",
    "l[3] * (1 + l[3] / 200)\n",
    "l * tg"
   ],
   "outputs": [],
   "execution_count": null
  },
  {
   "metadata": {},
   "cell_type": "code",
   "source": [
    "d = 205\n",
    "L = 35\n",
    "W = 2.65 # 2.65\n",
    "l_calc = np.array((-(d * (d + L) ** 3) ** (1/4) + d + L, (d * (d + L) ** 3) ** (1/4) * (-(d * (d + L) ** 3) ** (1/4) + d + L) / (d + L), (d * (d + L))  * (-(d * (d + L) ** 3) ** (1/4) + d + L) / ((d * (d + L) ** 3) ** (1/2)), -(d ** 3 + 2 * d * d * L + d * L * L - (d * (d + L) ** 3) ** (3/4)) / (d + L) ** 2))\n",
    "l_calc"
   ],
   "outputs": [],
   "execution_count": null
  },
  {
   "metadata": {},
   "cell_type": "code",
   "source": [
    "n_calc = 1 / np.cos(np.arctan(W / l_calc))\n",
    "n_calc"
   ],
   "outputs": [],
   "execution_count": null
  },
  {
   "metadata": {},
   "cell_type": "code",
   "source": [
    "with open(r'data\\rindex.txt', 'r') as rindex:\n",
    "    aerogel_1050 = np.array(list(map(lambda y: np.array([float(y[0]), float(y[1][:-2])]), list(map(lambda x: x.split('*eV '), rindex.readlines())))))\n",
    "print(aerogel_1050[39])\n",
    "aerogel_1040 = np.array([aerogel_1050[:, 0], aerogel_1050[:, 1] * n_calc[0] / aerogel_1050[39][1]])\n",
    "aerogel_1043 = np.array([aerogel_1050[:, 0], aerogel_1050[:, 1] * n_calc[1] / aerogel_1050[39][1]])\n",
    "aerogel_1047 = np.array([aerogel_1050[:, 0], aerogel_1050[:, 1] * n_calc[2] / aerogel_1050[39][1]])\n",
    "aerogel_10506 = np.array([aerogel_1050[:, 0], aerogel_1050[:, 1] * n_calc[3] / aerogel_1050[39][1]])\n",
    "aerogel_1040\n",
    "# aerogel_10506\n",
    "plt.scatter(aerogel_1050[:,0], aerogel_1050[:,1], label='aerogel_1050')\n",
    "plt.scatter(aerogel_1040[0], aerogel_1040[1], label='aerogel_1040')\n",
    "plt.scatter(aerogel_1043[0], aerogel_1043[1], label='aerogel_1043')\n",
    "plt.scatter(aerogel_1047[0], aerogel_1047[1], label='aerogel_1047')\n",
    "plt.scatter(aerogel_10506[0], aerogel_10506[1], label='aerogel_10506')\n",
    "plt.xlabel('Energy, eV')\n",
    "plt.ylabel('n')\n",
    "plt.legend()\n",
    "plt.show()"
   ],
   "outputs": [],
   "execution_count": null
  },
  {
   "metadata": {},
   "cell_type": "code",
   "source": [
    "text_1040 = text_1043 = text_1047 = text_10506 = ''\n",
    "for i in range(aerogel_1040.shape[1]):\n",
    "    text_1040 += f'    {round(aerogel_1040[0][i], 5)}*eV {round(aerogel_1040[1][i], 5)}\\n'\n",
    "    text_1043 += f'    {round(aerogel_1043[0][i], 5)}*eV {round(aerogel_1043[1][i], 5)}\\n'\n",
    "    text_1047 += f'    {round(aerogel_1047[0][i], 5)}*eV {round(aerogel_1047[1][i], 5)}\\n'\n",
    "    text_10506 += f'    {round(aerogel_10506[0][i], 5)}*eV {round(aerogel_10506[1][i], 5)}\\n'\n",
    "with open(r'data\\rindex_1040.txt', 'w') as rindex:\n",
    "    rindex.write(text_1040)\n",
    "with open(r'data\\rindex_1043.txt', 'w') as rindex:\n",
    "    rindex.write(text_1043)\n",
    "with open(r'data\\rindex_1047.txt', 'w') as rindex:\n",
    "    rindex.write(text_1047)\n",
    "with open(r'data\\rindex_10506.txt', 'w') as rindex:\n",
    "    rindex.write(text_10506)"
   ],
   "outputs": [],
   "execution_count": null
  }
 ],
 "metadata": {
  "kernelspec": {
   "display_name": "Python 3",
   "language": "python",
   "name": "python3"
  },
  "language_info": {
   "codemirror_mode": {
    "name": "ipython",
    "version": 2
   },
   "file_extension": ".py",
   "mimetype": "text/x-python",
   "name": "python",
   "nbconvert_exporter": "python",
   "pygments_lexer": "ipython2",
   "version": "2.7.6"
  }
 },
 "nbformat": 4,
 "nbformat_minor": 0
}
