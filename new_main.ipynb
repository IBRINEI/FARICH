{
 "cells": [
  {
   "cell_type": "code",
   "metadata": {
    "collapsed": true,
    "ExecuteTime": {
     "end_time": "2024-10-17T17:30:44.432821Z",
     "start_time": "2024-10-17T17:30:43.564369Z"
    }
   },
   "source": [
    "import os, sys, time\n",
    "import uproot3 as uproot\n",
    "import numpy as np\n",
    "import pandas as pd\n",
    "import matplotlib.pyplot as plt\n",
    "from numbers import Integral\n",
    "from scipy.optimize import curve_fit\n",
    "from sklearn.linear_model import LinearRegression\n",
    "from scipy.stats import norm, truncnorm, foldnorm\n",
    "import warnings\n",
    "from time import perf_counter\n",
    "from scipy.spatial.distance import cdist\n",
    "from sklearn.decomposition import PCA\n",
    "\n",
    "\n",
    "from farich_functions import *"
   ],
   "outputs": [],
   "execution_count": 1
  },
  {
   "cell_type": "code",
   "source": [
    "# %load_ext autoreload\n",
    "# %autoreload 2"
   ],
   "metadata": {
    "collapsed": false,
    "ExecuteTime": {
     "end_time": "2024-10-17T17:30:44.435522Z",
     "start_time": "2024-10-17T17:30:44.433823Z"
    }
   },
   "outputs": [],
   "execution_count": 2
  },
  {
   "cell_type": "code",
   "source": "datadir = 'data'",
   "metadata": {
    "collapsed": false,
    "ExecuteTime": {
     "end_time": "2024-10-17T17:30:44.447063Z",
     "start_time": "2024-10-17T17:30:44.435522Z"
    }
   },
   "outputs": [],
   "execution_count": 3
  },
  {
   "cell_type": "code",
   "source": [
    "# filepath = os.path.join(datadir, 'fullsim_optical_1000_pi_1500_no.root')\n",
    "# filepath_fixed = os.path.join(datadir, 'fullsim_optical_1000_pi_1500_fixed.root')\n",
    "# filepath_fixed = os.path.join(datadir, 'fullsim_optical_10000_pi_500_1500_FARICH_35mm_no.root')\n",
    "filepath_fixed = os.path.join(datadir, 'fullsim_optical_10000_pi_500_1500_FARICH_35mm_no_no_trackers.root')\n",
    "filepath_low_energies = os.path.join(datadir, 'fullsim_optical_10000_pi_500_800_FARICH_35mm_no_no_trackers.root')\n",
    "# filepath_monodir = os.path.join(datadir, 'fullsim_optical_1000_pi_1500_monodir_no.root')\n",
    "filepath_monodir = os.path.join(datadir, 'fullsim_optical_10000_pi_1500_monodir_FARICH_no.root')\n",
    "\n",
    "# filepath_2pi = os.path.join(datadir, 'fullsim_optical_1000_pi_1500_2pi_phi.root')\n",
    "# filepath_prototype = os.path.join(datadir, 'farichsim_10kevt.root')\n",
    "# filepath_new = os.path.join(datadir, 'fullsim_optical_1000_pi_1500_spectre_test_3.root')"
   ],
   "metadata": {
    "collapsed": false,
    "ExecuteTime": {
     "end_time": "2024-10-17T17:30:44.458662Z",
     "start_time": "2024-10-17T17:30:44.448067Z"
    }
   },
   "outputs": [],
   "execution_count": 4
  },
  {
   "cell_type": "code",
   "source": [
    "# file = uproot.open(filepath)\n",
    "file = uproot.open(filepath_fixed)\n",
    "file_low= uproot.open(filepath_low_energies)\n",
    "# file = uproot.open(filepath_monodir)\n",
    "# file_2pi = uproot.open(filepath_2pi)\n",
    "# file_prototype = uproot.open(filepath_prototype)\n",
    "# file_new = uproot.open(filepath_new)"
   ],
   "metadata": {
    "collapsed": false,
    "ExecuteTime": {
     "end_time": "2024-10-17T17:30:44.499311Z",
     "start_time": "2024-10-17T17:30:44.458662Z"
    }
   },
   "outputs": [],
   "execution_count": 5
  },
  {
   "cell_type": "code",
   "source": [
    "plt.style.use('default')"
   ],
   "metadata": {
    "collapsed": false,
    "ExecuteTime": {
     "end_time": "2024-10-17T17:30:44.502936Z",
     "start_time": "2024-10-17T17:30:44.499311Z"
    }
   },
   "outputs": [],
   "execution_count": 6
  },
  {
   "metadata": {
    "ExecuteTime": {
     "end_time": "2024-10-17T17:30:44.504678Z",
     "start_time": "2024-10-17T17:30:44.502936Z"
    }
   },
   "cell_type": "code",
   "source": "",
   "outputs": [],
   "execution_count": 6
  },
  {
   "metadata": {
    "ExecuteTime": {
     "end_time": "2024-10-17T17:30:44.517054Z",
     "start_time": "2024-10-17T17:30:44.504678Z"
    }
   },
   "cell_type": "code",
   "source": "# plot_cyl(file, transposed=True)",
   "outputs": [],
   "execution_count": 7
  },
  {
   "cell_type": "code",
   "source": "# np.concatenate(np.array(file['events;1']['FarichBarrelG4Hits.postStepPosition.x'].array())).shape",
   "metadata": {
    "collapsed": false,
    "ExecuteTime": {
     "end_time": "2024-10-17T17:30:44.528448Z",
     "start_time": "2024-10-17T17:30:44.517054Z"
    }
   },
   "outputs": [],
   "execution_count": 8
  },
  {
   "cell_type": "markdown",
   "source": [
    "# Main (tmp obv)"
   ],
   "metadata": {
    "collapsed": false
   }
  },
  {
   "metadata": {
    "ExecuteTime": {
     "end_time": "2024-10-17T17:30:44.539937Z",
     "start_time": "2024-10-17T17:30:44.529451Z"
    }
   },
   "cell_type": "code",
   "source": [
    "def init_sipm_eff():\n",
    "    pdes_tmp = pd.read_csv('PDE.csv', sep=';', names=['A'])\n",
    "    t1 = []\n",
    "    t2 = []\n",
    "    for inedx, row in pdes_tmp.iterrows():\n",
    "        t1.append(float(row['A'].split(';')[0].replace(',', '.')))\n",
    "        t2.append(float(row['A'].split(';')[1].replace(',', '.')))\n",
    "    PDE_wvs = np.linspace(200, 900, 128)\n",
    "    PDEs = np.interp(PDE_wvs, t1, t2, left=0, right=0)\n",
    "    sipm_eff = fix_PDE_plot(PDEs, PDE_wvs)\n",
    "    return sipm_eff, PDE_wvs"
   ],
   "outputs": [],
   "execution_count": 9
  },
  {
   "cell_type": "code",
   "source": "sipm_eff, PDE_wvs = init_sipm_eff()",
   "metadata": {
    "collapsed": false,
    "ExecuteTime": {
     "end_time": "2024-10-17T17:30:44.553481Z",
     "start_time": "2024-10-17T17:30:44.539937Z"
    }
   },
   "outputs": [],
   "execution_count": 10
  },
  {
   "metadata": {
    "ExecuteTime": {
     "end_time": "2024-10-17T17:30:44.563921Z",
     "start_time": "2024-10-17T17:30:44.553481Z"
    }
   },
   "cell_type": "code",
   "source": "max(sipm_eff.values())",
   "outputs": [
    {
     "data": {
      "text/plain": [
       "0.55414"
      ]
     },
     "execution_count": 11,
     "metadata": {},
     "output_type": "execute_result"
    }
   ],
   "execution_count": 11
  },
  {
   "metadata": {},
   "cell_type": "markdown",
   "source": "максисмальное значение в старом моделировании - 38%"
  },
  {
   "metadata": {
    "ExecuteTime": {
     "end_time": "2024-10-17T17:30:44.574395Z",
     "start_time": "2024-10-17T17:30:44.563921Z"
    }
   },
   "cell_type": "code",
   "source": [
    "for key in sipm_eff.keys():\n",
    "    sipm_eff[key] = sipm_eff[key] / 0.55414 * 0.38"
   ],
   "outputs": [],
   "execution_count": 12
  },
  {
   "metadata": {
    "ExecuteTime": {
     "end_time": "2024-10-17T17:30:44.586025Z",
     "start_time": "2024-10-17T17:30:44.574395Z"
    }
   },
   "cell_type": "code",
   "source": "max(sipm_eff.values())",
   "outputs": [
    {
     "data": {
      "text/plain": [
       "0.38"
      ]
     },
     "execution_count": 13,
     "metadata": {},
     "output_type": "execute_result"
    }
   ],
   "execution_count": 13
  },
  {
   "cell_type": "code",
   "source": [
    "x_grid = np.arange(-3*norm_r * np.sin(np.pi / 27), 3*norm_r * np.sin(np.pi / 27), SIPM_CELL_SIZE)\n",
    "z_grid = np.arange(-1400, 1400, SIPM_CELL_SIZE)\n",
    "grid = (x_grid, z_grid, PDE_wvs)"
   ],
   "metadata": {
    "collapsed": false,
    "ExecuteTime": {
     "end_time": "2024-10-17T17:30:44.596527Z",
     "start_time": "2024-10-17T17:30:44.586025Z"
    }
   },
   "outputs": [],
   "execution_count": 14
  },
  {
   "metadata": {
    "ExecuteTime": {
     "end_time": "2024-10-17T17:30:44.598569Z",
     "start_time": "2024-10-17T17:30:44.596527Z"
    }
   },
   "cell_type": "code",
   "source": "",
   "outputs": [],
   "execution_count": 14
  },
  {
   "metadata": {
    "ExecuteTime": {
     "end_time": "2024-10-17T17:30:44.607755Z",
     "start_time": "2024-10-17T17:30:44.598569Z"
    }
   },
   "cell_type": "code",
   "source": [
    "def init_coords(file, MAXIMUM_EVENT_GROUP_NUMBER):\n",
    "    x = np.array(file[f'events;{MAXIMUM_EVENT_GROUP_NUMBER}']['FarichBarrelG4Hits.postStepPosition.x'].array())\n",
    "    y = np.array(file[f'events;{MAXIMUM_EVENT_GROUP_NUMBER}']['FarichBarrelG4Hits.postStepPosition.y'].array())\n",
    "    z = np.array(file[f'events;{MAXIMUM_EVENT_GROUP_NUMBER}']['FarichBarrelG4Hits.postStepPosition.z'].array())\n",
    "    wvs = 1239.841 / np.array(file[f'events;{MAXIMUM_EVENT_GROUP_NUMBER}']['FarichBarrelG4Hits.energy'].array()) * 1e-9\n",
    "    x3 = np.array(file[f'events;{MAXIMUM_EVENT_GROUP_NUMBER}']['allGenParticles.core.p4.px'].array())\n",
    "    y3 = np.array(file[f'events;{MAXIMUM_EVENT_GROUP_NUMBER}']['allGenParticles.core.p4.py'].array())\n",
    "    z3 = np.array(file[f'events;{MAXIMUM_EVENT_GROUP_NUMBER}']['allGenParticles.core.p4.pz'].array())\n",
    "    true_direction_coordinates = np.column_stack((x3, y3, z3))\n",
    "    for i in range(len(wvs)):\n",
    "        wvs[i] = lin_move_to_grid(wvs[i], grid[2])\n",
    "    coordinates = np.column_stack((x, y, z, wvs))\n",
    "    return coordinates, true_direction_coordinates"
   ],
   "outputs": [],
   "execution_count": 15
  },
  {
   "metadata": {
    "ExecuteTime": {
     "end_time": "2024-10-17T17:30:44.792238Z",
     "start_time": "2024-10-17T17:30:44.789734Z"
    }
   },
   "cell_type": "code",
   "source": [
    "MAXIMUM_EVENT_GROUP_NUMBER = 9 # 13\n",
    "MAXIMUM_EVENT_GROUP_NUMBER_LOW = 6"
   ],
   "outputs": [],
   "execution_count": 16
  },
  {
   "metadata": {
    "ExecuteTime": {
     "end_time": "2024-10-17T17:30:47.012441Z",
     "start_time": "2024-10-17T17:30:45.179915Z"
    }
   },
   "cell_type": "code",
   "source": "coordinates, true_direction_coordinates = init_coords(file, MAXIMUM_EVENT_GROUP_NUMBER)",
   "outputs": [],
   "execution_count": 17
  },
  {
   "metadata": {
    "ExecuteTime": {
     "end_time": "2024-10-17T17:30:48.311344Z",
     "start_time": "2024-10-17T17:30:47.013455Z"
    }
   },
   "cell_type": "code",
   "source": "coordinates_low, true_direction_coordinates_low = init_coords(file_low, MAXIMUM_EVENT_GROUP_NUMBER_LOW)",
   "outputs": [],
   "execution_count": 18
  },
  {
   "metadata": {
    "ExecuteTime": {
     "end_time": "2024-10-17T17:30:48.314767Z",
     "start_time": "2024-10-17T17:30:48.311344Z"
    }
   },
   "cell_type": "code",
   "source": [
    "coordinates = np.concatenate((coordinates, coordinates_low), axis=0)\n",
    "true_direction_coordinates = np.concatenate((true_direction_coordinates, true_direction_coordinates_low), axis=0)"
   ],
   "outputs": [],
   "execution_count": 19
  },
  {
   "cell_type": "code",
   "source": [
    "# x = np.array(file[f'events;{MAXIMUM_EVENT_GROUP_NUMBER}']['FarichBarrelG4Hits.postStepPosition.x'].array())\n",
    "# y = np.array(file[f'events;{MAXIMUM_EVENT_GROUP_NUMBER}']['FarichBarrelG4Hits.postStepPosition.y'].array())\n",
    "# z = np.array(file[f'events;{MAXIMUM_EVENT_GROUP_NUMBER}']['FarichBarrelG4Hits.postStepPosition.z'].array())\n",
    "# wvs = 1239.841 / np.array(file[f'events;{MAXIMUM_EVENT_GROUP_NUMBER}']['FarichBarrelG4Hits.energy'].array()) * 1e-9"
   ],
   "metadata": {
    "collapsed": false,
    "ExecuteTime": {
     "end_time": "2024-10-17T17:30:48.325503Z",
     "start_time": "2024-10-17T17:30:48.314767Z"
    }
   },
   "outputs": [],
   "execution_count": 20
  },
  {
   "cell_type": "code",
   "source": [
    "# x1 = np.array(file['events;2']['DriftChamberG4Hits.postStepPosition.x'].array())\n",
    "# y1 = np.array(file['events;2']['DriftChamberG4Hits.postStepPosition.y'].array())\n",
    "# z1 = np.array(file['events;2']['DriftChamberG4Hits.postStepPosition.z'].array())\n",
    "# drift_chamber_coordinates = np.column_stack((x1, y1, z1))"
   ],
   "metadata": {
    "collapsed": false,
    "ExecuteTime": {
     "end_time": "2024-10-17T17:30:48.336532Z",
     "start_time": "2024-10-17T17:30:48.325503Z"
    }
   },
   "outputs": [],
   "execution_count": 21
  },
  {
   "metadata": {
    "ExecuteTime": {
     "end_time": "2024-10-17T17:30:48.347597Z",
     "start_time": "2024-10-17T17:30:48.336532Z"
    }
   },
   "cell_type": "code",
   "source": [
    "# x2 = np.array(file['events;2']['TPCG4Hits.postStepPosition.x'].array())\n",
    "# y2 = np.array(file['events;2']['TPCG4Hits.postStepPosition.y'].array())\n",
    "# z2 = np.array(file['events;2']['TPCG4Hits.postStepPosition.z'].array())\n",
    "# tpc_coordinates = np.column_stack((x2, y2, z2))"
   ],
   "outputs": [],
   "execution_count": 22
  },
  {
   "metadata": {
    "ExecuteTime": {
     "end_time": "2024-10-17T17:30:48.358189Z",
     "start_time": "2024-10-17T17:30:48.347597Z"
    }
   },
   "cell_type": "code",
   "source": [
    "# x3 = np.array(file[f'events;{MAXIMUM_EVENT_GROUP_NUMBER}']['allGenParticles.core.p4.px'].array())\n",
    "# y3 = np.array(file[f'events;{MAXIMUM_EVENT_GROUP_NUMBER}']['allGenParticles.core.p4.py'].array())\n",
    "# z3 = np.array(file[f'events;{MAXIMUM_EVENT_GROUP_NUMBER}']['allGenParticles.core.p4.pz'].array())\n",
    "# true_direction_coordinates = np.column_stack((x3, y3, z3))"
   ],
   "outputs": [],
   "execution_count": 23
  },
  {
   "cell_type": "code",
   "source": [
    "# for i in range(len(wvs)):\n",
    "#     wvs[i] = lin_move_to_grid(wvs[i], grid[2])"
   ],
   "metadata": {
    "collapsed": false,
    "ExecuteTime": {
     "end_time": "2024-10-17T17:30:48.369078Z",
     "start_time": "2024-10-17T17:30:48.358189Z"
    }
   },
   "outputs": [],
   "execution_count": 24
  },
  {
   "metadata": {
    "ExecuteTime": {
     "end_time": "2024-10-17T17:30:48.370892Z",
     "start_time": "2024-10-17T17:30:48.369078Z"
    }
   },
   "cell_type": "code",
   "source": "",
   "outputs": [],
   "execution_count": 24
  },
  {
   "cell_type": "code",
   "source": [
    "# coordinates = np.column_stack((x, y, z, wvs))\n",
    "\n",
    "coordinates.shape"
   ],
   "metadata": {
    "collapsed": false,
    "ExecuteTime": {
     "end_time": "2024-10-17T17:30:48.380854Z",
     "start_time": "2024-10-17T17:30:48.370892Z"
    }
   },
   "outputs": [
    {
     "data": {
      "text/plain": [
       "(19996, 4)"
      ]
     },
     "execution_count": 25,
     "metadata": {},
     "output_type": "execute_result"
    }
   ],
   "execution_count": 25
  },
  {
   "metadata": {
    "ExecuteTime": {
     "end_time": "2024-10-17T17:30:48.382874Z",
     "start_time": "2024-10-17T17:30:48.380854Z"
    }
   },
   "cell_type": "code",
   "source": "",
   "outputs": [],
   "execution_count": 25
  },
  {
   "cell_type": "code",
   "source": [
    "idx_to_drop = []\n",
    "for i in range(coordinates.shape[0]):\n",
    "    if coordinates[i][0].shape[0] == 0:\n",
    "        idx_to_drop.append(i)"
   ],
   "metadata": {
    "collapsed": false,
    "ExecuteTime": {
     "end_time": "2024-10-17T17:30:48.395009Z",
     "start_time": "2024-10-17T17:30:48.382874Z"
    }
   },
   "outputs": [],
   "execution_count": 26
  },
  {
   "cell_type": "code",
   "source": [
    "coordinates = np.delete(coordinates, idx_to_drop, axis=0)\n",
    "# drift_chamber_coordinates = np.delete(drift_chamber_coordinates, idx_to_drop, axis=0)\n",
    "# tpc_coordinates = np.delete(tpc_coordinates, idx_to_drop, axis=0)\n",
    "true_direction_coordinates = np.delete(true_direction_coordinates, idx_to_drop, axis=0)\n",
    "print(coordinates.shape)\n",
    "# print(drift_chamber_coordinates.shape)\n",
    "# print(tpc_coordinates.shape)\n",
    "print(true_direction_coordinates.shape)"
   ],
   "metadata": {
    "collapsed": false,
    "ExecuteTime": {
     "end_time": "2024-10-17T17:30:48.407149Z",
     "start_time": "2024-10-17T17:30:48.395009Z"
    }
   },
   "outputs": [
    {
     "name": "stdout",
     "output_type": "stream",
     "text": [
      "(19987, 4)\n",
      "(19987, 3)\n"
     ]
    }
   ],
   "execution_count": 27
  },
  {
   "metadata": {
    "ExecuteTime": {
     "end_time": "2024-10-17T17:30:48.417312Z",
     "start_time": "2024-10-17T17:30:48.407149Z"
    }
   },
   "cell_type": "code",
   "source": [
    "# ev = 123\n",
    "# plot_event(coordinates[ev], None, None, np.stack([np.concatenate(true_direction_coordinates[ev]), np.concatenate(true_direction_coordinates[ev] * 3000)], axis=1))\n",
    "# То есть есть события, когда направление первичной частицы не попадает в кольцо. Почему?\n"
   ],
   "outputs": [],
   "execution_count": 28
  },
  {
   "cell_type": "code",
   "source": "sipm_sim(coordinates, sipm_eff)",
   "metadata": {
    "collapsed": false,
    "ExecuteTime": {
     "end_time": "2024-10-17T17:30:49.278923Z",
     "start_time": "2024-10-17T17:30:48.417312Z"
    }
   },
   "outputs": [],
   "execution_count": 29
  },
  {
   "cell_type": "code",
   "source": "# plot_cyl(file, coordinates, True)",
   "metadata": {
    "collapsed": false,
    "ExecuteTime": {
     "end_time": "2024-10-17T17:30:49.281563Z",
     "start_time": "2024-10-17T17:30:49.278923Z"
    }
   },
   "outputs": [],
   "execution_count": 30
  },
  {
   "cell_type": "code",
   "source": [
    "idx_to_drop = []\n",
    "for i in range(coordinates.shape[0]):\n",
    "    if coordinates[i][0].shape[0] == 0:\n",
    "        idx_to_drop.append(i)\n",
    "coordinates = np.delete(coordinates, idx_to_drop, axis=0)\n",
    "# drift_chamber_coordinates = np.delete(drift_chamber_coordinates, idx_to_drop, axis=0)\n",
    "# tpc_coordinates = np.delete(tpc_coordinates, idx_to_drop, axis=0)\n",
    "true_direction_coordinates = np.delete(true_direction_coordinates, idx_to_drop, axis=0)\n",
    "\n",
    "print(coordinates.shape)\n",
    "# print(drift_chamber_coordinates.shape)\n",
    "# print(tpc_coordinates.shape)\n",
    "print(true_direction_coordinates.shape)"
   ],
   "metadata": {
    "collapsed": false,
    "ExecuteTime": {
     "end_time": "2024-10-17T17:30:49.298223Z",
     "start_time": "2024-10-17T17:30:49.281563Z"
    }
   },
   "outputs": [
    {
     "name": "stdout",
     "output_type": "stream",
     "text": [
      "(19882, 4)\n",
      "(19882, 3)\n"
     ]
    }
   ],
   "execution_count": 31
  },
  {
   "metadata": {
    "ExecuteTime": {
     "end_time": "2024-10-17T17:30:49.828993Z",
     "start_time": "2024-10-17T17:30:49.298223Z"
    }
   },
   "cell_type": "code",
   "source": "main_angles = rotate_lines(true_direction_coordinates)",
   "outputs": [],
   "execution_count": 32
  },
  {
   "metadata": {
    "ExecuteTime": {
     "end_time": "2024-10-17T17:30:53.248824Z",
     "start_time": "2024-10-17T17:30:49.828993Z"
    }
   },
   "cell_type": "code",
   "source": "intersections = find_intersections(true_direction_coordinates)",
   "outputs": [],
   "execution_count": 33
  },
  {
   "metadata": {
    "ExecuteTime": {
     "end_time": "2024-10-17T17:30:53.318162Z",
     "start_time": "2024-10-17T17:30:53.248824Z"
    }
   },
   "cell_type": "code",
   "source": [
    "\n",
    "num = 30 # unturned events\n",
    "# plt.scatter(rotate_event(coordinates[0], main_angles[0])[:,0], rotate_event(coordinates[0], main_angles[0])[:,2])\n",
    "plt.scatter(coordinates[num][0], coordinates[num][2])\n",
    "plt.scatter(intersections[num][0], intersections[num][2])\n",
    "print(true_direction_coordinates[num])\n",
    "plt.show()"
   ],
   "outputs": [
    {
     "name": "stdout",
     "output_type": "stream",
     "text": [
      "[array([0.00329075]) array([1.06504879]) array([0.96075904])]\n"
     ]
    },
    {
     "data": {
      "text/plain": [
       "<Figure size 640x480 with 1 Axes>"
      ],
      "image/png": "[encoded data removed]"
     },
     "metadata": {},
     "output_type": "display_data"
    }
   ],
   "execution_count": 34
  },
  {
   "metadata": {
    "ExecuteTime": {
     "end_time": "2024-10-17T17:30:53.319936Z",
     "start_time": "2024-10-17T17:30:53.318162Z"
    }
   },
   "cell_type": "code",
   "source": "",
   "outputs": [],
   "execution_count": 34
  },
  {
   "metadata": {
    "ExecuteTime": {
     "end_time": "2024-10-17T17:30:53.322054Z",
     "start_time": "2024-10-17T17:30:53.319936Z"
    }
   },
   "cell_type": "code",
   "source": "# plot_event(coordinates[num], drift_chamber_coordinates[num],tpc_coordinates[num] , transposed=True)",
   "outputs": [],
   "execution_count": 35
  },
  {
   "cell_type": "code",
   "source": [
    "rotate_events(coordinates, main_angles)"
   ],
   "metadata": {
    "collapsed": false,
    "ExecuteTime": {
     "end_time": "2024-10-17T17:30:54.293604Z",
     "start_time": "2024-10-17T17:30:53.322565Z"
    }
   },
   "outputs": [],
   "execution_count": 36
  },
  {
   "cell_type": "code",
   "source": "# plot_cyl(file, coordinates)",
   "metadata": {
    "collapsed": false,
    "ExecuteTime": {
     "end_time": "2024-10-17T17:30:54.295903Z",
     "start_time": "2024-10-17T17:30:54.293604Z"
    }
   },
   "outputs": [],
   "execution_count": 37
  },
  {
   "cell_type": "code",
   "source": [
    "move_events_to_grid(coordinates, grid)"
   ],
   "metadata": {
    "collapsed": false,
    "ExecuteTime": {
     "end_time": "2024-10-17T17:30:57.861292Z",
     "start_time": "2024-10-17T17:30:54.295903Z"
    }
   },
   "outputs": [],
   "execution_count": 38
  },
  {
   "cell_type": "code",
   "source": "# plot_cyl(file, coordinates, True)",
   "metadata": {
    "collapsed": false,
    "ExecuteTime": {
     "end_time": "2024-10-17T17:30:57.863750Z",
     "start_time": "2024-10-17T17:30:57.861292Z"
    }
   },
   "outputs": [],
   "execution_count": 39
  },
  {
   "cell_type": "code",
   "source": [
    "# num = 2\n",
    "# # plt.scatter(rotate_event(coordinates[0], main_angles[0])[:,0], rotate_event(coordinates[0], main_angles[0])[:,2])\n",
    "# plt.scatter(coordinates[num][0], coordinates[num][2])\n",
    "# plt.scatter(intersections[num][0], intersections[num][2])\n",
    "# plt.show()"
   ],
   "metadata": {
    "collapsed": false,
    "ExecuteTime": {
     "end_time": "2024-10-17T17:30:57.874870Z",
     "start_time": "2024-10-17T17:30:57.863750Z"
    }
   },
   "outputs": [],
   "execution_count": 40
  },
  {
   "cell_type": "code",
   "source": [
    "r_c = (coordinates[:,0] - intersections[:,0]) ** 2 + (coordinates[:,1] - intersections[:,1]) ** 2"
   ],
   "metadata": {
    "collapsed": false,
    "ExecuteTime": {
     "end_time": "2024-10-17T17:30:57.950974Z",
     "start_time": "2024-10-17T17:30:57.877906Z"
    }
   },
   "outputs": [],
   "execution_count": 41
  },
  {
   "metadata": {
    "ExecuteTime": {
     "end_time": "2024-10-17T17:30:57.956745Z",
     "start_time": "2024-10-17T17:30:57.950974Z"
    }
   },
   "cell_type": "code",
   "source": "repeat_nums = np.array([coord[0].shape[0] for coord in coordinates])",
   "outputs": [],
   "execution_count": 42
  },
  {
   "cell_type": "code",
   "source": [
    "edf = pd.DataFrame(coordinates, columns=['x_c', 'y_c', 'z_c', 'wv_c'])\n",
    "edf['r_c'] = r_c"
   ],
   "metadata": {
    "collapsed": false,
    "ExecuteTime": {
     "end_time": "2024-10-17T17:30:57.971508Z",
     "start_time": "2024-10-17T17:30:57.956745Z"
    }
   },
   "outputs": [],
   "execution_count": 43
  },
  {
   "cell_type": "code",
   "source": [
    "unraveled_data = {col: [] for col in edf.columns}\n",
    "row_indices = []\n",
    "\n",
    "# Iterate over the DataFrame and unravel the arrays\n",
    "for i, row in edf.iterrows():\n",
    "    max_length = max(len(row[col]) for col in edf.columns)\n",
    "    for k in range(max_length):\n",
    "        row_indices.append((i, k))\n",
    "        for col in edf.columns:\n",
    "            if k < len(row[col]):\n",
    "                unraveled_data[col].append(row[col][k])\n",
    "            else:\n",
    "                unraveled_data[col].append(np.nan)  # Handle cases where arrays are of different lengths\n",
    "\n",
    "# Create a new DataFrame from the unraveled data\n",
    "unraveled_df = pd.DataFrame(unraveled_data)\n",
    "\n",
    "# Create a MultiIndex for the rows\n",
    "multi_index = pd.MultiIndex.from_tuples(row_indices, names=['entry', 'subentry'])\n",
    "unraveled_df.index = multi_index\n"
   ],
   "metadata": {
    "collapsed": false,
    "ExecuteTime": {
     "end_time": "2024-10-17T17:31:05.045415Z",
     "start_time": "2024-10-17T17:30:57.971508Z"
    }
   },
   "outputs": [],
   "execution_count": 44
  },
  {
   "cell_type": "code",
   "source": [
    "unraveled_df['r_c'] = np.sqrt(unraveled_df.r_c)"
   ],
   "metadata": {
    "collapsed": false,
    "ExecuteTime": {
     "end_time": "2024-10-17T17:31:05.049465Z",
     "start_time": "2024-10-17T17:31:05.045415Z"
    }
   },
   "outputs": [],
   "execution_count": 45
  },
  {
   "cell_type": "code",
   "source": [
    "edf = unraveled_df"
   ],
   "metadata": {
    "collapsed": false,
    "ExecuteTime": {
     "end_time": "2024-10-17T17:31:05.059288Z",
     "start_time": "2024-10-17T17:31:05.049465Z"
    }
   },
   "outputs": [],
   "execution_count": 46
  },
  {
   "metadata": {
    "ExecuteTime": {
     "end_time": "2024-10-17T17:31:05.076531Z",
     "start_time": "2024-10-17T17:31:05.059288Z"
    }
   },
   "cell_type": "code",
   "source": [
    "edf['x_i'] = np.repeat(intersections[:,0], repeat_nums, axis=0)\n",
    "edf['z_i'] = np.repeat(intersections[:,2], repeat_nums, axis=0)"
   ],
   "outputs": [],
   "execution_count": 47
  },
  {
   "metadata": {
    "ExecuteTime": {
     "end_time": "2024-10-17T17:31:05.127429Z",
     "start_time": "2024-10-17T17:31:05.076531Z"
    }
   },
   "cell_type": "code",
   "source": "x = y = z = x3 = y3 = z3 = unraveled_data = row_indices = main_angles = intersections = wvs = coordinates = file = coordinates_low = file_low = 0",
   "outputs": [],
   "execution_count": 48
  },
  {
   "metadata": {
    "ExecuteTime": {
     "end_time": "2024-10-17T17:31:05.137944Z",
     "start_time": "2024-10-17T17:31:05.127429Z"
    }
   },
   "cell_type": "code",
   "source": "# edf[edf.wv_c < 1]",
   "outputs": [],
   "execution_count": 49
  },
  {
   "metadata": {
    "ExecuteTime": {
     "end_time": "2024-10-17T17:31:05.151841Z",
     "start_time": "2024-10-17T17:31:05.137944Z"
    }
   },
   "cell_type": "code",
   "source": [
    "# min_r_c = []\n",
    "# for entry, subentry in edf[edf.wv_c < 1].r_c.groupby(level=0):\n",
    "#     # print(min(subentry))\n",
    "#     min_r_c.append(min(subentry))"
   ],
   "outputs": [],
   "execution_count": 50
  },
  {
   "metadata": {
    "ExecuteTime": {
     "end_time": "2024-10-17T17:31:05.162394Z",
     "start_time": "2024-10-17T17:31:05.152349Z"
    }
   },
   "cell_type": "code",
   "source": "# min_r_c = np.array(min_r_c)",
   "outputs": [],
   "execution_count": 51
  },
  {
   "metadata": {
    "ExecuteTime": {
     "end_time": "2024-10-17T17:31:05.173126Z",
     "start_time": "2024-10-17T17:31:05.162394Z"
    }
   },
   "cell_type": "code",
   "source": "# min_r_c.shape",
   "outputs": [],
   "execution_count": 52
  },
  {
   "metadata": {
    "ExecuteTime": {
     "end_time": "2024-10-17T17:31:05.191114Z",
     "start_time": "2024-10-17T17:31:05.173126Z"
    }
   },
   "cell_type": "code",
   "source": "/",
   "outputs": [
    {
     "data": {
      "text/plain": [
       "()"
      ]
     },
     "execution_count": 53,
     "metadata": {},
     "output_type": "execute_result"
    }
   ],
   "execution_count": 53
  },
  {
   "cell_type": "code",
   "source": [
    "plt.hist(edf[edf.r_c<1000].r_c, bins='doane')\n",
    "plt.show()"
   ],
   "metadata": {
    "collapsed": false,
    "ExecuteTime": {
     "end_time": "2024-10-17T17:31:05.282449Z",
     "start_time": "2024-10-17T17:31:05.191114Z"
    }
   },
   "outputs": [
    {
     "data": {
      "text/plain": [
       "<Figure size 640x480 with 1 Axes>"
      ],
      "image/png": "[encoded data removed]"
     },
     "metadata": {},
     "output_type": "display_data"
    }
   ],
   "execution_count": 54
  },
  {
   "metadata": {
    "ExecuteTime": {
     "end_time": "2024-10-17T17:31:05.730066Z",
     "start_time": "2024-10-17T17:31:05.282449Z"
    }
   },
   "cell_type": "code",
   "source": [
    "bdf = pd.DataFrame()\n",
    "edf['t_c'] = np.zeros(edf.shape[0])\n",
    "edf.drop('y_c', axis=1, inplace=True)\n",
    "edf.rename(columns={'z_c': 'y_c', 'z_i': 'y_i'}, inplace=True)\n",
    "edf['z_c'] = np.zeros(edf.shape[0]) + 2000\n",
    "edf['true_p'] = np.repeat(np.linalg.norm(true_direction_coordinates.astype('float'), axis=1)*1000, repeat_nums, axis=0)\n",
    "edf['beta'] = edf.true_p / np.sqrt(139.57 ** 2 + edf.true_p ** 2)\n",
    "edf['nx_p'] = np.repeat((true_direction_coordinates / np.array([np.linalg.norm(true_direction_coordinates.astype('float'), axis=1) for i in range(3)]).T).astype('float')\n",
    "[:,0], repeat_nums, axis=0)\n",
    "edf['ny_p'] = np.repeat((true_direction_coordinates / np.array([np.linalg.norm(true_direction_coordinates.astype('float'), axis=1) for i in range(3)]).T).astype('float')\n",
    "[:,2], repeat_nums, axis=0)\n",
    "edf['nz_p'] = np.repeat((true_direction_coordinates / np.array([np.linalg.norm(true_direction_coordinates.astype('float'), axis=1) for i in range(3)]).T).astype('float')\n",
    "[:,1], repeat_nums, axis=0)"
   ],
   "outputs": [
    {
     "name": "stderr",
     "output_type": "stream",
     "text": [
      "C:\\Users\\BRINE\\AppData\\Local\\Temp\\ipykernel_17840\\1986587013.py:6: DeprecationWarning: Conversion of an array with ndim > 0 to a scalar is deprecated, and will error in future. Ensure you extract a single element from your array before performing this operation. (Deprecated NumPy 1.25.)\n",
      "  edf['true_p'] = np.repeat(np.linalg.norm(true_direction_coordinates.astype('float'), axis=1)*1000, repeat_nums, axis=0)\n",
      "C:\\Users\\BRINE\\AppData\\Local\\Temp\\ipykernel_17840\\1986587013.py:8: DeprecationWarning: Conversion of an array with ndim > 0 to a scalar is deprecated, and will error in future. Ensure you extract a single element from your array before performing this operation. (Deprecated NumPy 1.25.)\n",
      "  edf['nx_p'] = np.repeat((true_direction_coordinates / np.array([np.linalg.norm(true_direction_coordinates.astype('float'), axis=1) for i in range(3)]).T).astype('float')\n",
      "C:\\Users\\BRINE\\AppData\\Local\\Temp\\ipykernel_17840\\1986587013.py:10: DeprecationWarning: Conversion of an array with ndim > 0 to a scalar is deprecated, and will error in future. Ensure you extract a single element from your array before performing this operation. (Deprecated NumPy 1.25.)\n",
      "  edf['ny_p'] = np.repeat((true_direction_coordinates / np.array([np.linalg.norm(true_direction_coordinates.astype('float'), axis=1) for i in range(3)]).T).astype('float')\n",
      "C:\\Users\\BRINE\\AppData\\Local\\Temp\\ipykernel_17840\\1986587013.py:12: DeprecationWarning: Conversion of an array with ndim > 0 to a scalar is deprecated, and will error in future. Ensure you extract a single element from your array before performing this operation. (Deprecated NumPy 1.25.)\n",
      "  edf['nz_p'] = np.repeat((true_direction_coordinates / np.array([np.linalg.norm(true_direction_coordinates.astype('float'), axis=1) for i in range(3)]).T).astype('float')\n"
     ]
    }
   ],
   "execution_count": 55
  },
  {
   "metadata": {
    "ExecuteTime": {
     "end_time": "2024-10-17T17:31:05.736218Z",
     "start_time": "2024-10-17T17:31:05.730066Z"
    }
   },
   "cell_type": "code",
   "source": "true_direction_coordinates = repeat_nums = true_direction_coordinates_low = 0",
   "outputs": [],
   "execution_count": 56
  },
  {
   "metadata": {
    "ExecuteTime": {
     "end_time": "2024-10-17T17:31:05.750116Z",
     "start_time": "2024-10-17T17:31:05.736218Z"
    }
   },
   "cell_type": "code",
   "source": "edf.shape[0]",
   "outputs": [
    {
     "data": {
      "text/plain": [
       "623977"
      ]
     },
     "execution_count": 57,
     "metadata": {},
     "output_type": "execute_result"
    }
   ],
   "execution_count": 57
  },
  {
   "metadata": {
    "ExecuteTime": {
     "end_time": "2024-10-17T17:31:05.762915Z",
     "start_time": "2024-10-17T17:31:05.750116Z"
    }
   },
   "cell_type": "code",
   "source": [
    "idf = pd.DataFrame()\n",
    "idf['W'] = [35.]\n",
    "# idf['W'] = [40.]\n",
    "\n",
    "idf['zdis'] = [800.]\n",
    "idf['distance'] = [205.] # 200\n",
    "idf['n_mean'] = [1.04511]\n",
    "# \n",
    "# idf['n_mean'] = [1.0502]\n",
    "\n",
    "idf['pixel_size'] = [3.16]"
   ],
   "outputs": [],
   "execution_count": 58
  },
  {
   "metadata": {
    "ExecuteTime": {
     "end_time": "2024-10-17T17:31:05.776897Z",
     "start_time": "2024-10-17T17:31:05.762915Z"
    }
   },
   "cell_type": "code",
   "source": "idf",
   "outputs": [
    {
     "data": {
      "text/plain": [
       "      W   zdis  distance   n_mean  pixel_size\n",
       "0  35.0  800.0     205.0  1.04511        3.16"
      ],
      "text/html": [
       "<div>\n",
       "<style scoped>\n",
       "    .dataframe tbody tr th:only-of-type {\n",
       "        vertical-align: middle;\n",
       "    }\n",
       "\n",
       "    .dataframe tbody tr th {\n",
       "        vertical-align: top;\n",
       "    }\n",
       "\n",
       "    .dataframe thead th {\n",
       "        text-align: right;\n",
       "    }\n",
       "</style>\n",
       "<table border=\"1\" class=\"dataframe\">\n",
       "  <thead>\n",
       "    <tr style=\"text-align: right;\">\n",
       "      <th></th>\n",
       "      <th>W</th>\n",
       "      <th>zdis</th>\n",
       "      <th>distance</th>\n",
       "      <th>n_mean</th>\n",
       "      <th>pixel_size</th>\n",
       "    </tr>\n",
       "  </thead>\n",
       "  <tbody>\n",
       "    <tr>\n",
       "      <th>0</th>\n",
       "      <td>35.0</td>\n",
       "      <td>800.0</td>\n",
       "      <td>205.0</td>\n",
       "      <td>1.04511</td>\n",
       "      <td>3.16</td>\n",
       "    </tr>\n",
       "  </tbody>\n",
       "</table>\n",
       "</div>"
      ]
     },
     "execution_count": 59,
     "metadata": {},
     "output_type": "execute_result"
    }
   ],
   "execution_count": 59
  },
  {
   "metadata": {
    "ExecuteTime": {
     "end_time": "2024-10-17T17:31:05.809285Z",
     "start_time": "2024-10-17T17:31:05.776897Z"
    }
   },
   "cell_type": "code",
   "source": "edf = applySpaceCut(edf)",
   "outputs": [],
   "execution_count": 60
  },
  {
   "metadata": {
    "ExecuteTime": {
     "end_time": "2024-10-17T17:31:05.859636Z",
     "start_time": "2024-10-17T17:31:05.809285Z"
    }
   },
   "cell_type": "code",
   "source": "planeRecalculation(edf, idf)",
   "outputs": [
    {
     "name": "stderr",
     "output_type": "stream",
     "text": [
      "Z:\\Prog\\FARICH\\farich_functions.py:513: FutureWarning: Calling float on a single element Series is deprecated and will raise a TypeError in the future. Use float(ser.iloc[0]) instead\n",
      "  alpha = (float(dist)) / N[:, 2]\n",
      "Z:\\Prog\\FARICH\\farich_functions.py:526: SettingWithCopyWarning: \n",
      "A value is trying to be set on a copy of a slice from a DataFrame.\n",
      "Try using .loc[row_indexer,col_indexer] = value instead\n",
      "\n",
      "See the caveats in the documentation: https://pandas.pydata.org/pandas-docs/stable/user_guide/indexing.html#returning-a-view-versus-a-copy\n",
      "  edf[\"t_c\"] = edf[\"t_c\"] + np.sign(R_new[:, 2] - R[:, 2]) * t_dif\n",
      "Z:\\Prog\\FARICH\\farich_functions.py:528: SettingWithCopyWarning: \n",
      "A value is trying to be set on a copy of a slice from a DataFrame.\n",
      "Try using .loc[row_indexer,col_indexer] = value instead\n",
      "\n",
      "See the caveats in the documentation: https://pandas.pydata.org/pandas-docs/stable/user_guide/indexing.html#returning-a-view-versus-a-copy\n",
      "  edf[\"recalculated_x\"] = R_new[:, 0]\n",
      "Z:\\Prog\\FARICH\\farich_functions.py:529: SettingWithCopyWarning: \n",
      "A value is trying to be set on a copy of a slice from a DataFrame.\n",
      "Try using .loc[row_indexer,col_indexer] = value instead\n",
      "\n",
      "See the caveats in the documentation: https://pandas.pydata.org/pandas-docs/stable/user_guide/indexing.html#returning-a-view-versus-a-copy\n",
      "  edf[\"recalculated_y\"] = R_new[:, 1]\n",
      "Z:\\Prog\\FARICH\\farich_functions.py:530: SettingWithCopyWarning: \n",
      "A value is trying to be set on a copy of a slice from a DataFrame.\n",
      "Try using .loc[row_indexer,col_indexer] = value instead\n",
      "\n",
      "See the caveats in the documentation: https://pandas.pydata.org/pandas-docs/stable/user_guide/indexing.html#returning-a-view-versus-a-copy\n",
      "  edf[\"recalculated_z\"] = R_new[:, 2]\n"
     ]
    }
   ],
   "execution_count": 61
  },
  {
   "metadata": {
    "ExecuteTime": {
     "end_time": "2024-10-17T17:31:05.865627Z",
     "start_time": "2024-10-17T17:31:05.859636Z"
    }
   },
   "cell_type": "code",
   "source": [
    "edf['x_p'] = np.zeros(edf.shape[0])\n",
    "edf['y_p'] = np.zeros(edf.shape[0])\n",
    "edf['z_p'] = np.zeros(edf.shape[0])\n"
   ],
   "outputs": [
    {
     "name": "stderr",
     "output_type": "stream",
     "text": [
      "C:\\Users\\BRINE\\AppData\\Local\\Temp\\ipykernel_17840\\210028248.py:1: SettingWithCopyWarning: \n",
      "A value is trying to be set on a copy of a slice from a DataFrame.\n",
      "Try using .loc[row_indexer,col_indexer] = value instead\n",
      "\n",
      "See the caveats in the documentation: https://pandas.pydata.org/pandas-docs/stable/user_guide/indexing.html#returning-a-view-versus-a-copy\n",
      "  edf['x_p'] = np.zeros(edf.shape[0])\n",
      "C:\\Users\\BRINE\\AppData\\Local\\Temp\\ipykernel_17840\\210028248.py:2: SettingWithCopyWarning: \n",
      "A value is trying to be set on a copy of a slice from a DataFrame.\n",
      "Try using .loc[row_indexer,col_indexer] = value instead\n",
      "\n",
      "See the caveats in the documentation: https://pandas.pydata.org/pandas-docs/stable/user_guide/indexing.html#returning-a-view-versus-a-copy\n",
      "  edf['y_p'] = np.zeros(edf.shape[0])\n",
      "C:\\Users\\BRINE\\AppData\\Local\\Temp\\ipykernel_17840\\210028248.py:3: SettingWithCopyWarning: \n",
      "A value is trying to be set on a copy of a slice from a DataFrame.\n",
      "Try using .loc[row_indexer,col_indexer] = value instead\n",
      "\n",
      "See the caveats in the documentation: https://pandas.pydata.org/pandas-docs/stable/user_guide/indexing.html#returning-a-view-versus-a-copy\n",
      "  edf['z_p'] = np.zeros(edf.shape[0])\n"
     ]
    }
   ],
   "execution_count": 62
  },
  {
   "metadata": {
    "ExecuteTime": {
     "end_time": "2024-10-17T17:31:06.018207Z",
     "start_time": "2024-10-17T17:31:05.865627Z"
    }
   },
   "cell_type": "code",
   "source": "planeRotation(edf)",
   "outputs": [
    {
     "name": "stderr",
     "output_type": "stream",
     "text": [
      "Z:\\Prog\\FARICH\\farich_functions.py:571: SettingWithCopyWarning: \n",
      "A value is trying to be set on a copy of a slice from a DataFrame.\n",
      "Try using .loc[row_indexer,col_indexer] = value instead\n",
      "\n",
      "See the caveats in the documentation: https://pandas.pydata.org/pandas-docs/stable/user_guide/indexing.html#returning-a-view-versus-a-copy\n",
      "  edf[\"rotated_x\"] = rotated_R[:, 0]\n",
      "Z:\\Prog\\FARICH\\farich_functions.py:572: SettingWithCopyWarning: \n",
      "A value is trying to be set on a copy of a slice from a DataFrame.\n",
      "Try using .loc[row_indexer,col_indexer] = value instead\n",
      "\n",
      "See the caveats in the documentation: https://pandas.pydata.org/pandas-docs/stable/user_guide/indexing.html#returning-a-view-versus-a-copy\n",
      "  edf[\"rotated_y\"] = rotated_R[:, 1]\n",
      "Z:\\Prog\\FARICH\\farich_functions.py:573: SettingWithCopyWarning: \n",
      "A value is trying to be set on a copy of a slice from a DataFrame.\n",
      "Try using .loc[row_indexer,col_indexer] = value instead\n",
      "\n",
      "See the caveats in the documentation: https://pandas.pydata.org/pandas-docs/stable/user_guide/indexing.html#returning-a-view-versus-a-copy\n",
      "  edf[\"rotated_z\"] = rotated_R[:, 2]\n",
      "Z:\\Prog\\FARICH\\farich_functions.py:574: SettingWithCopyWarning: \n",
      "A value is trying to be set on a copy of a slice from a DataFrame.\n",
      "Try using .loc[row_indexer,col_indexer] = value instead\n",
      "\n",
      "See the caveats in the documentation: https://pandas.pydata.org/pandas-docs/stable/user_guide/indexing.html#returning-a-view-versus-a-copy\n",
      "  edf[\"rotated_x_i\"] = rotated_R_i[:, 0]\n",
      "Z:\\Prog\\FARICH\\farich_functions.py:575: SettingWithCopyWarning: \n",
      "A value is trying to be set on a copy of a slice from a DataFrame.\n",
      "Try using .loc[row_indexer,col_indexer] = value instead\n",
      "\n",
      "See the caveats in the documentation: https://pandas.pydata.org/pandas-docs/stable/user_guide/indexing.html#returning-a-view-versus-a-copy\n",
      "  edf[\"rotated_y_i\"] = rotated_R_i[:, 1]\n",
      "Z:\\Prog\\FARICH\\farich_functions.py:576: SettingWithCopyWarning: \n",
      "A value is trying to be set on a copy of a slice from a DataFrame.\n",
      "Try using .loc[row_indexer,col_indexer] = value instead\n",
      "\n",
      "See the caveats in the documentation: https://pandas.pydata.org/pandas-docs/stable/user_guide/indexing.html#returning-a-view-versus-a-copy\n",
      "  edf[\"rotated_z_i\"] = rotated_R_i[:, 2]\n",
      "Z:\\Prog\\FARICH\\farich_functions.py:577: SettingWithCopyWarning: \n",
      "A value is trying to be set on a copy of a slice from a DataFrame.\n",
      "Try using .loc[row_indexer,col_indexer] = value instead\n",
      "\n",
      "See the caveats in the documentation: https://pandas.pydata.org/pandas-docs/stable/user_guide/indexing.html#returning-a-view-versus-a-copy\n",
      "  edf[\"rotated_nx_p\"] = rotated_n[:, 0]\n",
      "Z:\\Prog\\FARICH\\farich_functions.py:578: SettingWithCopyWarning: \n",
      "A value is trying to be set on a copy of a slice from a DataFrame.\n",
      "Try using .loc[row_indexer,col_indexer] = value instead\n",
      "\n",
      "See the caveats in the documentation: https://pandas.pydata.org/pandas-docs/stable/user_guide/indexing.html#returning-a-view-versus-a-copy\n",
      "  edf[\"rotated_ny_p\"] = rotated_n[:, 1]\n",
      "Z:\\Prog\\FARICH\\farich_functions.py:579: SettingWithCopyWarning: \n",
      "A value is trying to be set on a copy of a slice from a DataFrame.\n",
      "Try using .loc[row_indexer,col_indexer] = value instead\n",
      "\n",
      "See the caveats in the documentation: https://pandas.pydata.org/pandas-docs/stable/user_guide/indexing.html#returning-a-view-versus-a-copy\n",
      "  edf[\"rotated_nz_p\"] = rotated_n[:, 2]\n"
     ]
    }
   ],
   "execution_count": 63
  },
  {
   "metadata": {
    "ExecuteTime": {
     "end_time": "2024-10-17T17:31:06.064052Z",
     "start_time": "2024-10-17T17:31:06.018207Z"
    }
   },
   "cell_type": "code",
   "source": "edf = applySecondSpaceCut(edf)",
   "outputs": [],
   "execution_count": 64
  },
  {
   "metadata": {
    "ExecuteTime": {
     "end_time": "2024-10-17T17:31:09.946789Z",
     "start_time": "2024-10-17T17:31:06.064052Z"
    }
   },
   "cell_type": "code",
   "source": [
    "bdf = pd.DataFrame()\n",
    "edf_to_bdf(edf.r_c.groupby(level=0).transform('mean'), bdf)\n",
    "bdf.rename(columns={'r_c': 'r_c_mean'}, inplace=True)\n",
    "edf_to_bdf(edf.r_c.groupby(level=0).transform('std'), bdf)\n",
    "bdf.rename(columns={'r_c': 'r_c_std'}, inplace=True)\n",
    "edf_to_bdf(edf.r_c.groupby(level=0).transform(lambda x: x.max() - x.min()), bdf)\n",
    "bdf.rename(columns={'r_c': 'r_c_width'}, inplace=True)\n",
    "edf_to_bdf(edf.true_p, bdf)\n",
    "bdf.rename(columns={'true_p': 'momentum'}, inplace=True)\n",
    "edf_to_bdf(edf.beta, bdf)"
   ],
   "outputs": [],
   "execution_count": 65
  },
  {
   "metadata": {
    "ExecuteTime": {
     "end_time": "2024-10-17T17:31:10.072238Z",
     "start_time": "2024-10-17T17:31:09.946789Z"
    }
   },
   "cell_type": "code",
   "source": "edf",
   "outputs": [
    {
     "data": {
      "text/plain": [
       "                       x_c     y_c        wv_c        r_c        x_i  \\\n",
       "entry subentry                                                         \n",
       "0     0         112.960131   68.32  437.007874  41.720917  71.239214   \n",
       "      1         123.040131  128.80  376.377953  51.800917  71.239214   \n",
       "      2         119.680131   75.04  409.448819  48.440917  71.239214   \n",
       "      3         119.680131   81.76  475.590551  48.440917  71.239214   \n",
       "      4          18.880131  112.00  414.960630  52.359083  71.239214   \n",
       "...                    ...     ...         ...        ...        ...   \n",
       "19881 14         32.320131 -381.92  558.267717  30.083026   2.237105   \n",
       "      15        -28.159869 -358.40  662.992126  30.396974   2.237105   \n",
       "      16         18.880131 -341.60  767.716535  16.643026   2.237105   \n",
       "      17        -18.079869 -341.60  475.590551  20.316974   2.237105   \n",
       "      18        -18.079869 -344.96  381.889764  20.316974   2.237105   \n",
       "\n",
       "                       y_i       t_c     z_c       true_p      beta  ...  z_p  \\\n",
       "entry subentry                                                       ...        \n",
       "0     0         102.379707  0.001716  2000.0  1408.464406  0.995126  ...  0.0   \n",
       "      1         102.379707 -0.021214  2000.0  1408.464406  0.995126  ...  0.0   \n",
       "      2         102.379707 -0.002171  2000.0  1408.464406  0.995126  ...  0.0   \n",
       "      3         102.379707 -0.004460  2000.0  1408.464406  0.995126  ...  0.0   \n",
       "      4         102.379707  0.009164  2000.0  1408.464406  0.995126  ...  0.0   \n",
       "...                    ...       ...     ...          ...       ...  ...  ...   \n",
       "19881 14       -363.199793 -0.022385  2000.0   511.674644  0.964753  ...  0.0   \n",
       "      15       -363.199793  0.005940  2000.0   511.674644  0.964753  ...  0.0   \n",
       "      16       -363.199793  0.025712  2000.0   511.674644  0.964753  ...  0.0   \n",
       "      17       -363.199793  0.025987  2000.0   511.674644  0.964753  ...  0.0   \n",
       "      18       -363.199793  0.021948  2000.0   511.674644  0.964753  ...  0.0   \n",
       "\n",
       "                 rotated_x   rotated_y    rotated_z  rotated_x_i  rotated_y_i  \\\n",
       "entry subentry                                                                  \n",
       "0     0         -28.965012 -135.685128  2000.059575   -70.691475  -101.592538   \n",
       "      1         -19.013148  -75.090711  2000.059575   -70.691475  -101.592538   \n",
       "      2         -22.261268 -128.894345  2000.059575   -70.691475  -101.592538   \n",
       "      3         -22.272558 -122.141978  2000.059575   -70.691475  -101.592538   \n",
       "      4        -123.239312  -92.046510  2000.059575   -70.691475  -101.592538   \n",
       "...                    ...         ...          ...          ...          ...   \n",
       "19881 14         27.815032  321.963144  2003.839929    -2.102706   341.379863   \n",
       "      15        -32.546694  346.400071  2003.839929    -2.102706   341.379863   \n",
       "      16         14.643030  364.043961  2003.839929    -2.102706   341.379863   \n",
       "      17        -22.559169  364.055306  2003.839929    -2.102706   341.379863   \n",
       "      18        -22.537476  360.509342  2003.839929    -2.102706   341.379863   \n",
       "\n",
       "                rotated_z_i  rotated_nx_p  rotated_ny_p  rotated_nz_p  \n",
       "entry subentry                                                         \n",
       "0     0         2000.059575     -0.035277     -0.050698      0.998091  \n",
       "      1         2000.059575     -0.035277     -0.050698      0.998091  \n",
       "      2         2000.059575     -0.035277     -0.050698      0.998091  \n",
       "      3         2000.059575     -0.035277     -0.050698      0.998091  \n",
       "      4         2000.059575     -0.035277     -0.050698      0.998091  \n",
       "...                     ...           ...           ...           ...  \n",
       "19881 14        2003.839929     -0.001034      0.167943      0.985796  \n",
       "      15        2003.839929     -0.001034      0.167943      0.985796  \n",
       "      16        2003.839929     -0.001034      0.167943      0.985796  \n",
       "      17        2003.839929     -0.001034      0.167943      0.985796  \n",
       "      18        2003.839929     -0.001034      0.167943      0.985796  \n",
       "\n",
       "[618555 rows x 28 columns]"
      ],
      "text/html": [
       "<div>\n",
       "<style scoped>\n",
       "    .dataframe tbody tr th:only-of-type {\n",
       "        vertical-align: middle;\n",
       "    }\n",
       "\n",
       "    .dataframe tbody tr th {\n",
       "        vertical-align: top;\n",
       "    }\n",
       "\n",
       "    .dataframe thead th {\n",
       "        text-align: right;\n",
       "    }\n",
       "</style>\n",
       "<table border=\"1\" class=\"dataframe\">\n",
       "  <thead>\n",
       "    <tr style=\"text-align: right;\">\n",
       "      <th></th>\n",
       "      <th></th>\n",
       "      <th>x_c</th>\n",
       "      <th>y_c</th>\n",
       "      <th>wv_c</th>\n",
       "      <th>r_c</th>\n",
       "      <th>x_i</th>\n",
       "      <th>y_i</th>\n",
       "      <th>t_c</th>\n",
       "      <th>z_c</th>\n",
       "      <th>true_p</th>\n",
       "      <th>beta</th>\n",
       "      <th>...</th>\n",
       "      <th>z_p</th>\n",
       "      <th>rotated_x</th>\n",
       "      <th>rotated_y</th>\n",
       "      <th>rotated_z</th>\n",
       "      <th>rotated_x_i</th>\n",
       "      <th>rotated_y_i</th>\n",
       "      <th>rotated_z_i</th>\n",
       "      <th>rotated_nx_p</th>\n",
       "      <th>rotated_ny_p</th>\n",
       "      <th>rotated_nz_p</th>\n",
       "    </tr>\n",
       "    <tr>\n",
       "      <th>entry</th>\n",
       "      <th>subentry</th>\n",
       "      <th></th>\n",
       "      <th></th>\n",
       "      <th></th>\n",
       "      <th></th>\n",
       "      <th></th>\n",
       "      <th></th>\n",
       "      <th></th>\n",
       "      <th></th>\n",
       "      <th></th>\n",
       "      <th></th>\n",
       "      <th></th>\n",
       "      <th></th>\n",
       "      <th></th>\n",
       "      <th></th>\n",
       "      <th></th>\n",
       "      <th></th>\n",
       "      <th></th>\n",
       "      <th></th>\n",
       "      <th></th>\n",
       "      <th></th>\n",
       "      <th></th>\n",
       "    </tr>\n",
       "  </thead>\n",
       "  <tbody>\n",
       "    <tr>\n",
       "      <th rowspan=\"5\" valign=\"top\">0</th>\n",
       "      <th>0</th>\n",
       "      <td>112.960131</td>\n",
       "      <td>68.32</td>\n",
       "      <td>437.007874</td>\n",
       "      <td>41.720917</td>\n",
       "      <td>71.239214</td>\n",
       "      <td>102.379707</td>\n",
       "      <td>0.001716</td>\n",
       "      <td>2000.0</td>\n",
       "      <td>1408.464406</td>\n",
       "      <td>0.995126</td>\n",
       "      <td>...</td>\n",
       "      <td>0.0</td>\n",
       "      <td>-28.965012</td>\n",
       "      <td>-135.685128</td>\n",
       "      <td>2000.059575</td>\n",
       "      <td>-70.691475</td>\n",
       "      <td>-101.592538</td>\n",
       "      <td>2000.059575</td>\n",
       "      <td>-0.035277</td>\n",
       "      <td>-0.050698</td>\n",
       "      <td>0.998091</td>\n",
       "    </tr>\n",
       "    <tr>\n",
       "      <th>1</th>\n",
       "      <td>123.040131</td>\n",
       "      <td>128.80</td>\n",
       "      <td>376.377953</td>\n",
       "      <td>51.800917</td>\n",
       "      <td>71.239214</td>\n",
       "      <td>102.379707</td>\n",
       "      <td>-0.021214</td>\n",
       "      <td>2000.0</td>\n",
       "      <td>1408.464406</td>\n",
       "      <td>0.995126</td>\n",
       "      <td>...</td>\n",
       "      <td>0.0</td>\n",
       "      <td>-19.013148</td>\n",
       "      <td>-75.090711</td>\n",
       "      <td>2000.059575</td>\n",
       "      <td>-70.691475</td>\n",
       "      <td>-101.592538</td>\n",
       "      <td>2000.059575</td>\n",
       "      <td>-0.035277</td>\n",
       "      <td>-0.050698</td>\n",
       "      <td>0.998091</td>\n",
       "    </tr>\n",
       "    <tr>\n",
       "      <th>2</th>\n",
       "      <td>119.680131</td>\n",
       "      <td>75.04</td>\n",
       "      <td>409.448819</td>\n",
       "      <td>48.440917</td>\n",
       "      <td>71.239214</td>\n",
       "      <td>102.379707</td>\n",
       "      <td>-0.002171</td>\n",
       "      <td>2000.0</td>\n",
       "      <td>1408.464406</td>\n",
       "      <td>0.995126</td>\n",
       "      <td>...</td>\n",
       "      <td>0.0</td>\n",
       "      <td>-22.261268</td>\n",
       "      <td>-128.894345</td>\n",
       "      <td>2000.059575</td>\n",
       "      <td>-70.691475</td>\n",
       "      <td>-101.592538</td>\n",
       "      <td>2000.059575</td>\n",
       "      <td>-0.035277</td>\n",
       "      <td>-0.050698</td>\n",
       "      <td>0.998091</td>\n",
       "    </tr>\n",
       "    <tr>\n",
       "      <th>3</th>\n",
       "      <td>119.680131</td>\n",
       "      <td>81.76</td>\n",
       "      <td>475.590551</td>\n",
       "      <td>48.440917</td>\n",
       "      <td>71.239214</td>\n",
       "      <td>102.379707</td>\n",
       "      <td>-0.004460</td>\n",
       "      <td>2000.0</td>\n",
       "      <td>1408.464406</td>\n",
       "      <td>0.995126</td>\n",
       "      <td>...</td>\n",
       "      <td>0.0</td>\n",
       "      <td>-22.272558</td>\n",
       "      <td>-122.141978</td>\n",
       "      <td>2000.059575</td>\n",
       "      <td>-70.691475</td>\n",
       "      <td>-101.592538</td>\n",
       "      <td>2000.059575</td>\n",
       "      <td>-0.035277</td>\n",
       "      <td>-0.050698</td>\n",
       "      <td>0.998091</td>\n",
       "    </tr>\n",
       "    <tr>\n",
       "      <th>4</th>\n",
       "      <td>18.880131</td>\n",
       "      <td>112.00</td>\n",
       "      <td>414.960630</td>\n",
       "      <td>52.359083</td>\n",
       "      <td>71.239214</td>\n",
       "      <td>102.379707</td>\n",
       "      <td>0.009164</td>\n",
       "      <td>2000.0</td>\n",
       "      <td>1408.464406</td>\n",
       "      <td>0.995126</td>\n",
       "      <td>...</td>\n",
       "      <td>0.0</td>\n",
       "      <td>-123.239312</td>\n",
       "      <td>-92.046510</td>\n",
       "      <td>2000.059575</td>\n",
       "      <td>-70.691475</td>\n",
       "      <td>-101.592538</td>\n",
       "      <td>2000.059575</td>\n",
       "      <td>-0.035277</td>\n",
       "      <td>-0.050698</td>\n",
       "      <td>0.998091</td>\n",
       "    </tr>\n",
       "    <tr>\n",
       "      <th>...</th>\n",
       "      <th>...</th>\n",
       "      <td>...</td>\n",
       "      <td>...</td>\n",
       "      <td>...</td>\n",
       "      <td>...</td>\n",
       "      <td>...</td>\n",
       "      <td>...</td>\n",
       "      <td>...</td>\n",
       "      <td>...</td>\n",
       "      <td>...</td>\n",
       "      <td>...</td>\n",
       "      <td>...</td>\n",
       "      <td>...</td>\n",
       "      <td>...</td>\n",
       "      <td>...</td>\n",
       "      <td>...</td>\n",
       "      <td>...</td>\n",
       "      <td>...</td>\n",
       "      <td>...</td>\n",
       "      <td>...</td>\n",
       "      <td>...</td>\n",
       "      <td>...</td>\n",
       "    </tr>\n",
       "    <tr>\n",
       "      <th rowspan=\"5\" valign=\"top\">19881</th>\n",
       "      <th>14</th>\n",
       "      <td>32.320131</td>\n",
       "      <td>-381.92</td>\n",
       "      <td>558.267717</td>\n",
       "      <td>30.083026</td>\n",
       "      <td>2.237105</td>\n",
       "      <td>-363.199793</td>\n",
       "      <td>-0.022385</td>\n",
       "      <td>2000.0</td>\n",
       "      <td>511.674644</td>\n",
       "      <td>0.964753</td>\n",
       "      <td>...</td>\n",
       "      <td>0.0</td>\n",
       "      <td>27.815032</td>\n",
       "      <td>321.963144</td>\n",
       "      <td>2003.839929</td>\n",
       "      <td>-2.102706</td>\n",
       "      <td>341.379863</td>\n",
       "      <td>2003.839929</td>\n",
       "      <td>-0.001034</td>\n",
       "      <td>0.167943</td>\n",
       "      <td>0.985796</td>\n",
       "    </tr>\n",
       "    <tr>\n",
       "      <th>15</th>\n",
       "      <td>-28.159869</td>\n",
       "      <td>-358.40</td>\n",
       "      <td>662.992126</td>\n",
       "      <td>30.396974</td>\n",
       "      <td>2.237105</td>\n",
       "      <td>-363.199793</td>\n",
       "      <td>0.005940</td>\n",
       "      <td>2000.0</td>\n",
       "      <td>511.674644</td>\n",
       "      <td>0.964753</td>\n",
       "      <td>...</td>\n",
       "      <td>0.0</td>\n",
       "      <td>-32.546694</td>\n",
       "      <td>346.400071</td>\n",
       "      <td>2003.839929</td>\n",
       "      <td>-2.102706</td>\n",
       "      <td>341.379863</td>\n",
       "      <td>2003.839929</td>\n",
       "      <td>-0.001034</td>\n",
       "      <td>0.167943</td>\n",
       "      <td>0.985796</td>\n",
       "    </tr>\n",
       "    <tr>\n",
       "      <th>16</th>\n",
       "      <td>18.880131</td>\n",
       "      <td>-341.60</td>\n",
       "      <td>767.716535</td>\n",
       "      <td>16.643026</td>\n",
       "      <td>2.237105</td>\n",
       "      <td>-363.199793</td>\n",
       "      <td>0.025712</td>\n",
       "      <td>2000.0</td>\n",
       "      <td>511.674644</td>\n",
       "      <td>0.964753</td>\n",
       "      <td>...</td>\n",
       "      <td>0.0</td>\n",
       "      <td>14.643030</td>\n",
       "      <td>364.043961</td>\n",
       "      <td>2003.839929</td>\n",
       "      <td>-2.102706</td>\n",
       "      <td>341.379863</td>\n",
       "      <td>2003.839929</td>\n",
       "      <td>-0.001034</td>\n",
       "      <td>0.167943</td>\n",
       "      <td>0.985796</td>\n",
       "    </tr>\n",
       "    <tr>\n",
       "      <th>17</th>\n",
       "      <td>-18.079869</td>\n",
       "      <td>-341.60</td>\n",
       "      <td>475.590551</td>\n",
       "      <td>20.316974</td>\n",
       "      <td>2.237105</td>\n",
       "      <td>-363.199793</td>\n",
       "      <td>0.025987</td>\n",
       "      <td>2000.0</td>\n",
       "      <td>511.674644</td>\n",
       "      <td>0.964753</td>\n",
       "      <td>...</td>\n",
       "      <td>0.0</td>\n",
       "      <td>-22.559169</td>\n",
       "      <td>364.055306</td>\n",
       "      <td>2003.839929</td>\n",
       "      <td>-2.102706</td>\n",
       "      <td>341.379863</td>\n",
       "      <td>2003.839929</td>\n",
       "      <td>-0.001034</td>\n",
       "      <td>0.167943</td>\n",
       "      <td>0.985796</td>\n",
       "    </tr>\n",
       "    <tr>\n",
       "      <th>18</th>\n",
       "      <td>-18.079869</td>\n",
       "      <td>-344.96</td>\n",
       "      <td>381.889764</td>\n",
       "      <td>20.316974</td>\n",
       "      <td>2.237105</td>\n",
       "      <td>-363.199793</td>\n",
       "      <td>0.021948</td>\n",
       "      <td>2000.0</td>\n",
       "      <td>511.674644</td>\n",
       "      <td>0.964753</td>\n",
       "      <td>...</td>\n",
       "      <td>0.0</td>\n",
       "      <td>-22.537476</td>\n",
       "      <td>360.509342</td>\n",
       "      <td>2003.839929</td>\n",
       "      <td>-2.102706</td>\n",
       "      <td>341.379863</td>\n",
       "      <td>2003.839929</td>\n",
       "      <td>-0.001034</td>\n",
       "      <td>0.167943</td>\n",
       "      <td>0.985796</td>\n",
       "    </tr>\n",
       "  </tbody>\n",
       "</table>\n",
       "<p>618555 rows × 28 columns</p>\n",
       "</div>"
      ]
     },
     "execution_count": 66,
     "metadata": {},
     "output_type": "execute_result"
    }
   ],
   "execution_count": 66
  },
  {
   "metadata": {
    "ExecuteTime": {
     "end_time": "2024-10-17T17:31:10.075767Z",
     "start_time": "2024-10-17T17:31:10.072744Z"
    }
   },
   "cell_type": "code",
   "source": "bdf.isna().sum()",
   "outputs": [
    {
     "data": {
      "text/plain": [
       "r_c_mean      0\n",
       "r_c_std      24\n",
       "r_c_width     0\n",
       "momentum      0\n",
       "beta          0\n",
       "dtype: int64"
      ]
     },
     "execution_count": 67,
     "metadata": {},
     "output_type": "execute_result"
    }
   ],
   "execution_count": 67
  },
  {
   "metadata": {
    "ExecuteTime": {
     "end_time": "2024-10-17T17:31:10.086033Z",
     "start_time": "2024-10-17T17:31:10.075767Z"
    }
   },
   "cell_type": "code",
   "source": "# np.tan(1 / (edf.beta.iloc[0] * idf.n_mean)) ",
   "outputs": [],
   "execution_count": 68
  },
  {
   "metadata": {
    "ExecuteTime": {
     "end_time": "2024-10-17T17:31:10.097618Z",
     "start_time": "2024-10-17T17:31:10.086033Z"
    }
   },
   "cell_type": "code",
   "source": "# idf.W * np.tan(1/(idf.n_mean * edf.beta.iloc[0]))",
   "outputs": [],
   "execution_count": 69
  },
  {
   "metadata": {
    "ExecuteTime": {
     "end_time": "2024-10-17T17:31:10.111304Z",
     "start_time": "2024-10-17T17:31:10.097618Z"
    }
   },
   "cell_type": "code",
   "source": [
    "# num = 7\n",
    "# event = edf.loc[num]\n",
    "# plt.scatter(event.rotated_x, event.rotated_y)\n",
    "# plt.scatter(event.rotated_x_i, event.rotated_y_i)\n",
    "# plt.show()"
   ],
   "outputs": [],
   "execution_count": 70
  },
  {
   "metadata": {
    "ExecuteTime": {
     "end_time": "2024-10-17T17:31:15.177474Z",
     "start_time": "2024-10-17T17:31:10.111304Z"
    }
   },
   "cell_type": "code",
   "source": "primaryDirectionRecalculation(edf)",
   "outputs": [],
   "execution_count": 71
  },
  {
   "metadata": {
    "ExecuteTime": {
     "end_time": "2024-10-17T17:31:15.186589Z",
     "start_time": "2024-10-17T17:31:15.177474Z"
    }
   },
   "cell_type": "code",
   "source": [
    "edf['rotated_r_c'] = np.sqrt((edf['rotated_x_i'] - edf['rotated_x']) ** 2 + (edf['rotated_y_i'] - edf['rotated_y']) ** 2)\n",
    "edf['signal'] = np.ones(edf.shape[0])"
   ],
   "outputs": [],
   "execution_count": 72
  },
  {
   "metadata": {
    "ExecuteTime": {
     "end_time": "2024-10-17T17:31:15.188492Z",
     "start_time": "2024-10-17T17:31:15.186589Z"
    }
   },
   "cell_type": "code",
   "source": "",
   "outputs": [],
   "execution_count": 72
  },
  {
   "metadata": {
    "ExecuteTime": {
     "end_time": "2024-10-17T17:31:15.291187Z",
     "start_time": "2024-10-17T17:31:15.188492Z"
    }
   },
   "cell_type": "code",
   "source": "recoAngles(edf, idf)",
   "outputs": [
    {
     "name": "stderr",
     "output_type": "stream",
     "text": [
      "Z:\\Prog\\FARICH\\farich_functions.py:646: FutureWarning: Calling float on a single element Series is deprecated and will raise a TypeError in the future. Use float(ser.iloc[0]) instead\n",
      "  dist = float(idf[\"distance\"])\n",
      "Z:\\Prog\\FARICH\\farich_functions.py:649: FutureWarning: Calling float on a single element Series is deprecated and will raise a TypeError in the future. Use float(ser.iloc[0]) instead\n",
      "  W = float(idf[\"W\"])\n",
      "Z:\\Prog\\FARICH\\farich_functions.py:652: FutureWarning: Calling float on a single element Series is deprecated and will raise a TypeError in the future. Use float(ser.iloc[0]) instead\n",
      "  rad_pos = float(idf[\"zdis\"])\n"
     ]
    }
   ],
   "execution_count": 73
  },
  {
   "metadata": {
    "ExecuteTime": {
     "end_time": "2024-10-17T17:31:15.387036Z",
     "start_time": "2024-10-17T17:31:15.291187Z"
    }
   },
   "cell_type": "code",
   "source": "recoAngles(edf, idf, rotation_mode=True)",
   "outputs": [
    {
     "name": "stderr",
     "output_type": "stream",
     "text": [
      "Z:\\Prog\\FARICH\\farich_functions.py:646: FutureWarning: Calling float on a single element Series is deprecated and will raise a TypeError in the future. Use float(ser.iloc[0]) instead\n",
      "  dist = float(idf[\"distance\"])\n",
      "Z:\\Prog\\FARICH\\farich_functions.py:649: FutureWarning: Calling float on a single element Series is deprecated and will raise a TypeError in the future. Use float(ser.iloc[0]) instead\n",
      "  W = float(idf[\"W\"])\n",
      "Z:\\Prog\\FARICH\\farich_functions.py:652: FutureWarning: Calling float on a single element Series is deprecated and will raise a TypeError in the future. Use float(ser.iloc[0]) instead\n",
      "  rad_pos = float(idf[\"zdis\"])\n",
      "Z:\\Prog\\FARICH\\farich_functions.py:673: FutureWarning: Calling float on a single element Series is deprecated and will raise a TypeError in the future. Use float(ser.iloc[0]) instead\n",
      "  n_mean = float(idf[\"n_mean\"])\n"
     ]
    }
   ],
   "execution_count": 74
  },
  {
   "metadata": {
    "ExecuteTime": {
     "end_time": "2024-10-17T17:31:15.418204Z",
     "start_time": "2024-10-17T17:31:15.388039Z"
    }
   },
   "cell_type": "code",
   "source": "calculateSignalCounts(edf, bdf)",
   "outputs": [],
   "execution_count": 75
  },
  {
   "metadata": {
    "ExecuteTime": {
     "end_time": "2024-10-17T17:31:15.422309Z",
     "start_time": "2024-10-17T17:31:15.418204Z"
    }
   },
   "cell_type": "code",
   "source": [
    "def exp_like(X, a, b):\n",
    "    return a * np.exp(b * X)\n",
    "def pol2_exp_like(X, a0, a1, a2, b0, b1, b2):\n",
    "    r, theta = X\n",
    "    return exp_like(r, a0 + a1 * theta + a2 * theta ** 2, b0 + b0 * theta + b1 * theta ** 2)\n",
    "def pol3(X, p0, p1, p2, p3):\n",
    "    return p0 + p1 * X + p2 * X ** 2 + p3 * X ** 3\n",
    "def lin(X, a, b):\n",
    "    return a * X + b\n",
    "def pol2_lin(X, a0, a1, a2, b0, b1, b2):\n",
    "    r, theta = X\n",
    "    return lin(r, a0 + a1 * theta + a2 * theta ** 2, b0 + b1 * theta + b2 * theta ** 2)\n",
    "def pol2_pol2(X, a0, a1, a2, b0, b1, b2, c0, c1, c2):\n",
    "    r, theta = X\n",
    "    return pol2(r, a0 + a1 * theta + a2 * theta ** 2, b0 + b1 * theta + b2 * theta ** 2, c0 + c1 * theta + c2 * theta ** 2)"
   ],
   "outputs": [],
   "execution_count": 76
  },
  {
   "metadata": {
    "ExecuteTime": {
     "end_time": "2024-10-17T17:31:15.434751Z",
     "start_time": "2024-10-17T17:31:15.422309Z"
    }
   },
   "cell_type": "code",
   "source": [
    "def calibration(edf: pd.DataFrame, bdf: pd.DataFrame, avg_sigmas: tuple, avg_t_sigmas: tuple, step=float(idf.pixel_size), method='N/r', t_window_width=2,\n",
    "                        r_width_factor=2, t_width_factor=8, full_width_t_hist = False, weighed=True, deg_lim=False, param_fit=False, calibration_func=pol, param_calibration_func=d3pol2, \n",
    "                num_of_calibration_params=3, num_of_param_fit_params=3, target_variable = 'momentum', target_angle = 'theta_p', num_of_theta_intervals=11, p0=(100, 1, 100), p0_c=(1.219, -0.5588, 0.2946, 864.4, -1922, 1055, -2535, 6572, -3751)):  \n",
    "  to_return_unbinned = np.full((np.ptp(avg_sigmas), np.ptp(avg_t_sigmas), num_of_theta_intervals - 1, num_of_calibration_params), 0.)\n",
    "\n",
    "  errs_tmp = np.full((np.ptp(avg_sigmas), np.ptp(avg_t_sigmas), num_of_theta_intervals - 1, num_of_calibration_params), 0.)\n",
    "  fit_params = np.full((np.ptp(avg_sigmas), np.ptp(avg_t_sigmas), num_of_calibration_params, num_of_param_fit_params), 0.)\n",
    "  fit_params = np.full((np.ptp(avg_sigmas), np.ptp(avg_t_sigmas), num_of_calibration_params * num_of_param_fit_params), 0.)\n",
    "\n",
    "  \n",
    "  \n",
    "  dir_to_save = f\"{'weighed' if weighed else 'unweighed'}_rw={step}_tw={t_window_width}_rs={r_width_factor}_ts={t_width_factor}\"\n",
    "  if not os.path.exists(os.path.join('calibrations_barrel', dir_to_save)):\n",
    "    os.mkdir(os.path.join('calibrations_barrel', dir_to_save))\n",
    "      \n",
    "      \n",
    "  for r_sigms in range(*avg_sigmas):\n",
    "    fig, axs = plt.subplots(num_of_theta_intervals - 1, np.ptp(avg_t_sigmas), figsize=(16 * np.ptp(avg_t_sigmas), 9 * (num_of_theta_intervals - 1)))\n",
    "    for t_sigms in range(*avg_t_sigmas):\n",
    "      chosen_column = f'unfixed_calculated_r_2d_{r_sigms}_rsigms_{t_sigms}_tsigms'\n",
    "\n",
    "      calibration_loop(bdf, chosen_column, r_sigms, t_sigms, num_of_theta_intervals, to_return_unbinned, errs_tmp, fig, axs, avg_sigmas, avg_t_sigmas, target_variable, target_angle, calibration_func, p0)\n",
    "      if param_fit:\n",
    "        param_fit_calibration(bdf, chosen_column, r_sigms, t_sigms, avg_sigmas, avg_t_sigmas, fit_params, num_of_calibration_params, num_of_param_fit_params, target_variable, target_angle, param_calibration_func, p0_c=p0_c)   \n",
    "    save_calibration_plot(fig, dir_to_save, deg_lim, r_sigms, avg_t_sigmas)        \n",
    "      \n",
    "  if param_fit:\n",
    "    return fit_params, errs_tmp\n",
    "  return to_return_unbinned, errs_tmp\n",
    "# cal_arr = np.array(calibration(edf, bdf, avg_sigmas=(1, 5), avg_t_sigmas=(1, 5))) # add r and t calibr - done"
   ],
   "outputs": [
    {
     "name": "stderr",
     "output_type": "stream",
     "text": [
      "C:\\Users\\BRINE\\AppData\\Local\\Temp\\ipykernel_17840\\4046434055.py:1: FutureWarning: Calling float on a single element Series is deprecated and will raise a TypeError in the future. Use float(ser.iloc[0]) instead\n",
      "  def calibration(edf: pd.DataFrame, bdf: pd.DataFrame, avg_sigmas: tuple, avg_t_sigmas: tuple, step=float(idf.pixel_size), method='N/r', t_window_width=2,\n"
     ]
    }
   ],
   "execution_count": 77
  },
  {
   "metadata": {
    "ExecuteTime": {
     "end_time": "2024-10-17T17:32:14.378275Z",
     "start_time": "2024-10-17T17:32:14.372995Z"
    }
   },
   "cell_type": "code",
   "source": [
    "def rSlidingWindow(edf: pd.DataFrame, idf: pd.DataFrame, bdf: pd.DataFrame, avg_sigmas: tuple, avg_t_sigmas: tuple, step=float(idf.pixel_size), method='N/r', cal_arr=False, t_window_width=2,\n",
    "                        r_width_factor=2, t_width_factor=8, full_width_t_hist = True, num_of_groups=5, weighed=True, deg_lim=False, param_fit=False, \n",
    "                   calibration_func=pol, param_calibration_func=d3pol2, num_of_calibration_params=3, num_of_param_fit_params=3, target_variable='beta', target_angle='cos_theta_p', num_of_theta_intervals=11, p0=(100, 1, 100), p0_c=(1.219, -0.5588, 0.2946, 864.4, -1922, 1055, -2535, 6572, -3751)):\n",
    "    rSlidingWindowIntro(edf, idf, bdf, avg_sigmas, avg_t_sigmas, step=step, method=method, cal_arr=cal_arr, t_window_width=t_window_width,\n",
    "                      r_width_factor=r_width_factor, t_width_factor=t_width_factor, num_of_groups=num_of_groups)\n",
    "    rSlidingWindowLoop1(edf, idf, bdf, avg_sigmas, avg_t_sigmas, step=step, method=method, cal_arr=cal_arr, t_window_width=t_window_width,\n",
    "                      r_width_factor=r_width_factor, t_width_factor=t_width_factor, full_width_t_hist=full_width_t_hist, weighed=weighed)\n",
    "    \n",
    "    bdf.dropna(subset=[f'unfixed_calculated_r_2d_{avg_sigmas[0]}_rsigms_4_tsigms'], inplace=True)\n",
    "    edf.dropna(subset=[f'unfixed_calculated_r_2d_{avg_sigmas[0]}_rsigms_4_tsigms'], inplace=True)\n",
    "\n",
    "    if cal_arr is False:\n",
    "        cal_arr, errs = calibration(edf, bdf, avg_sigmas=avg_sigmas, avg_t_sigmas=avg_t_sigmas, step=step, t_window_width=t_window_width,\n",
    "                                   r_width_factor=r_width_factor, t_width_factor=t_width_factor, weighed=weighed, deg_lim=deg_lim, param_fit=param_fit, calibration_func=calibration_func, param_calibration_func=param_calibration_func, num_of_calibration_params=num_of_calibration_params, num_of_param_fit_params=num_of_param_fit_params, target_variable=target_variable, target_angle=target_angle, num_of_theta_intervals=num_of_theta_intervals, p0=p0, p0_c=p0_c)\n",
    "\n",
    "    rSlidingWindowLoop2(edf, idf, bdf, avg_sigmas, avg_t_sigmas, step=step, method=method, cal_arr=cal_arr, t_window_width=t_window_width,\n",
    "                      r_width_factor=r_width_factor, t_width_factor=t_width_factor, param_fit=param_fit, calibration_func=calibration_func, param_calibration_func=param_calibration_func, target_variable=target_variable, target_angle=target_angle, num_of_theta_intervals=num_of_theta_intervals)\n",
    "\n",
    "    return cal_arr, errs"
   ],
   "outputs": [
    {
     "name": "stderr",
     "output_type": "stream",
     "text": [
      "C:\\Users\\BRINE\\AppData\\Local\\Temp\\ipykernel_17840\\4236704342.py:1: FutureWarning: Calling float on a single element Series is deprecated and will raise a TypeError in the future. Use float(ser.iloc[0]) instead\n",
      "  def rSlidingWindow(edf: pd.DataFrame, idf: pd.DataFrame, bdf: pd.DataFrame, avg_sigmas: tuple, avg_t_sigmas: tuple, step=float(idf.pixel_size), method='N/r', cal_arr=False, t_window_width=2,\n"
     ]
    }
   ],
   "execution_count": 92
  },
  {
   "metadata": {
    "ExecuteTime": {
     "end_time": "2024-10-17T17:32:17.145444Z",
     "start_time": "2024-10-17T17:32:17.141968Z"
    }
   },
   "cell_type": "code",
   "source": [
    "avg_sigmas = (4, 5)\n",
    "avg_t_sigmas = (4, 5)\n",
    "num_of_groups = 10\n",
    "r_width = float(idf.pixel_size.iloc[0]) * 2\n",
    "t_width = 0.25\n",
    "t_step = 0.25\n",
    "r_factor = 2 # not to change\n",
    "t_factor = int(t_width / t_step)\n",
    "weighed = True\n",
    "deg_lim = False\n",
    "param_fit = True # WORKS\n",
    "\n",
    "calibration_func = pol2 # pol\n",
    "param_calibration_func = pol2_pol2 # d3pol2\n",
    "p0 =  (.01, 1000, 1000)\n",
    "p0_c =  (1.219, -0.5588, 0.2946, 864.4, -1922, 1055, -2535, 6572, -3751)\n",
    "num_of_calibration_params = 3 # 3\n",
    "num_of_param_fit_params = 3 # for param fit both prev and this number are important, cal_func as well, therefore p0 and p0_C\n",
    "target_variable = 'beta'\n",
    "target_angle = 'theta_p'\n",
    "num_of_theta_intervals = 11 # 11\n",
    "\n",
    "\n",
    "# sample_size = 12\n",
    "cal_arr = False\n",
    "errs = False\n",
    "\n",
    "beta_sigms = []\n",
    "beta_sigms_yerr = []\n",
    "beta_sigms_deglim = []\n",
    "beta_sigms_yerr_deglim = []"
   ],
   "outputs": [],
   "execution_count": 93
  },
  {
   "metadata": {
    "ExecuteTime": {
     "end_time": "2024-10-17T17:32:37.767125Z",
     "start_time": "2024-10-17T17:32:17.369169Z"
    }
   },
   "cell_type": "code",
   "source": [
    "cal_arr, errs = rSlidingWindow(edf, idf, bdf, avg_sigmas=avg_sigmas, avg_t_sigmas=avg_t_sigmas, cal_arr=cal_arr, num_of_groups=num_of_groups,\n",
    "                               step=r_width, t_window_width=t_width, r_width_factor=r_factor, t_width_factor=t_factor, weighed=weighed, deg_lim=deg_lim, param_fit=param_fit, \n",
    "                         calibration_func=calibration_func, param_calibration_func=param_calibration_func, num_of_calibration_params=num_of_calibration_params, num_of_param_fit_params=num_of_param_fit_params, \n",
    "                         target_variable=target_variable, target_angle=target_angle, num_of_theta_intervals=num_of_theta_intervals, p0=p0, p0_c=p0_c)"
   ],
   "outputs": [
    {
     "name": "stdout",
     "output_type": "stream",
     "text": [
      "[ 1.00098112e+00 -6.42147447e-02  8.50148773e-02 -1.51633787e-03\n",
      "  3.40788962e-03 -3.72005473e-03  2.55481626e-05 -4.72831681e-05\n",
      "  3.89943563e-05]\n",
      "0\n"
     ]
    }
   ],
   "execution_count": 94
  },
  {
   "metadata": {},
   "cell_type": "markdown",
   "source": "need to run twice. To remove broken events?"
  },
  {
   "metadata": {
    "ExecuteTime": {
     "end_time": "2024-10-17T17:32:48.111176Z",
     "start_time": "2024-10-17T17:32:48.107820Z"
    }
   },
   "cell_type": "code",
   "source": "cal_arr",
   "outputs": [
    {
     "data": {
      "text/plain": [
       "array([[[ 1.00098112e+00, -6.42147447e-02,  8.50148773e-02,\n",
       "         -1.51633787e-03,  3.40788962e-03, -3.72005473e-03,\n",
       "          2.55481626e-05, -4.72831681e-05,  3.89943563e-05]]])"
      ]
     },
     "execution_count": 95,
     "metadata": {},
     "output_type": "execute_result"
    }
   ],
   "execution_count": 95
  },
  {
   "metadata": {
    "ExecuteTime": {
     "end_time": "2024-10-17T17:31:34.237268Z",
     "start_time": "2024-10-17T17:31:34.225549Z"
    }
   },
   "cell_type": "code",
   "source": "errs",
   "outputs": [
    {
     "data": {
      "text/plain": [
       "array([[[[2.22757038e-03, 1.10939164e-04, 1.36529361e-06],\n",
       "         [1.49722807e-03, 7.48413074e-05, 9.23316842e-07],\n",
       "         [1.42575866e-03, 7.17075915e-05, 8.87977053e-07],\n",
       "         [1.49612721e-03, 7.32428002e-05, 8.85670672e-07],\n",
       "         [1.45420907e-03, 6.92557398e-05, 8.12374297e-07],\n",
       "         [1.68074217e-03, 7.61224742e-05, 8.47880040e-07],\n",
       "         [1.59012492e-03, 6.85694920e-05, 7.27902605e-07],\n",
       "         [1.39512263e-03, 5.66592818e-05, 5.64206799e-07],\n",
       "         [1.41468434e-03, 5.40995711e-05, 5.07031318e-07],\n",
       "         [2.01899223e-03, 7.46844192e-05, 6.76111349e-07]]]])"
      ]
     },
     "execution_count": 82,
     "metadata": {},
     "output_type": "execute_result"
    }
   ],
   "execution_count": 82
  },
  {
   "metadata": {
    "ExecuteTime": {
     "end_time": "2024-10-17T17:32:51.614915Z",
     "start_time": "2024-10-17T17:32:51.611067Z"
    }
   },
   "cell_type": "code",
   "source": "((bdf.beta - bdf.beta_from_calc_r_4_rsigms_4_tsigms) ** 2 / bdf.beta_from_calc_r_4_rsigms_4_tsigms).sum() / num_of_calibration_params # chi2",
   "outputs": [
    {
     "data": {
      "text/plain": [
       "0.47648922320569104"
      ]
     },
     "execution_count": 97,
     "metadata": {},
     "output_type": "execute_result"
    }
   ],
   "execution_count": 97
  },
  {
   "metadata": {
    "ExecuteTime": {
     "end_time": "2024-10-17T17:32:57.727831Z",
     "start_time": "2024-10-17T17:32:57.722949Z"
    }
   },
   "cell_type": "code",
   "source": "print(bdf[round((bdf.momentum / bdf.beta * np.sqrt(1 - bdf.beta ** 2)), 2) == 139.57].shape[0] / bdf.shape[0])",
   "outputs": [
    {
     "name": "stdout",
     "output_type": "stream",
     "text": [
      "1.0\n"
     ]
    }
   ],
   "execution_count": 98
  },
  {
   "metadata": {
    "ExecuteTime": {
     "end_time": "2024-10-17T17:31:34.273298Z",
     "start_time": "2024-10-17T17:31:34.262687Z"
    }
   },
   "cell_type": "code",
   "source": [
    "print(bdf[round((bdf.momentum / bdf.beta * np.sqrt(1 - bdf.beta ** 2)), 2) == 139.57].shape[0])\n",
    "print(bdf.shape[0])"
   ],
   "outputs": [
    {
     "name": "stdout",
     "output_type": "stream",
     "text": [
      "19792\n",
      "19792\n"
     ]
    }
   ],
   "execution_count": 85
  },
  {
   "metadata": {
    "ExecuteTime": {
     "end_time": "2024-10-17T17:31:34.283887Z",
     "start_time": "2024-10-17T17:31:34.273298Z"
    }
   },
   "cell_type": "code",
   "source": "bdf.dropna(subset=[f'unfixed_calculated_r_2d_{avg_sigmas[0]}_rsigms_4_tsigms'], inplace=True)",
   "outputs": [],
   "execution_count": 86
  },
  {
   "metadata": {
    "ExecuteTime": {
     "end_time": "2024-10-17T17:31:34.294669Z",
     "start_time": "2024-10-17T17:31:34.283887Z"
    }
   },
   "cell_type": "code",
   "source": "bdf[round((bdf.momentum / bdf.beta * np.sqrt(1 - bdf.beta ** 2)), 2) == 139.57].shape[0] / bdf.shape[0]",
   "outputs": [
    {
     "data": {
      "text/plain": [
       "1.0"
      ]
     },
     "execution_count": 87,
     "metadata": {},
     "output_type": "execute_result"
    }
   ],
   "execution_count": 87
  },
  {
   "metadata": {
    "ExecuteTime": {
     "end_time": "2024-10-17T17:31:34.306020Z",
     "start_time": "2024-10-17T17:31:34.294669Z"
    }
   },
   "cell_type": "code",
   "source": [
    "print(bdf[round((bdf.momentum / bdf.beta * np.sqrt(1 - bdf.beta ** 2)), 2) == 139.57].shape[0])\n",
    "print(bdf.shape[0])"
   ],
   "outputs": [
    {
     "name": "stdout",
     "output_type": "stream",
     "text": [
      "19792\n",
      "19792\n"
     ]
    }
   ],
   "execution_count": 88
  },
  {
   "metadata": {},
   "cell_type": "markdown",
   "source": [
    "0.06363089185270614 - до обрезки\n",
    "0.07350276021667147 - после"
   ]
  },
  {
   "metadata": {},
   "cell_type": "markdown",
   "source": "пока что pol2 по качеству хуже pol"
  },
  {
   "metadata": {},
   "cell_type": "markdown",
   "source": "pol2_pol2 лучше чем pol, но на 10 градусах немного хуже"
  },
  {
   "metadata": {
    "ExecuteTime": {
     "end_time": "2024-10-17T17:33:01.419510Z",
     "start_time": "2024-10-17T17:33:01.400430Z"
    }
   },
   "cell_type": "code",
   "source": [
    "beta_on_grid = lin_move_to_grid(np.array(bdf.beta), np.linspace(min(bdf.beta), max(bdf.beta), 100))\n",
    "calc_beta_on_grid = lin_move_to_grid(np.array(bdf.beta_from_calc_r_4_rsigms_4_tsigms), np.linspace(min(bdf.beta), max(bdf.beta), 100))\n",
    "\n",
    "((beta_on_grid - calc_beta_on_grid) ** 2 / calc_beta_on_grid).sum() / num_of_calibration_params"
   ],
   "outputs": [
    {
     "data": {
      "text/plain": [
       "0.4742460429260253"
      ]
     },
     "execution_count": 99,
     "metadata": {},
     "output_type": "execute_result"
    }
   ],
   "execution_count": 99
  },
  {
   "metadata": {
    "ExecuteTime": {
     "end_time": "2024-10-17T17:31:34.336674Z",
     "start_time": "2024-10-17T17:31:34.332105Z"
    }
   },
   "cell_type": "code",
   "source": "np.linspace(min(bdf.theta_p), max(bdf.theta_p), num=num_of_theta_intervals-1)",
   "outputs": [
    {
     "data": {
      "text/plain": [
       "array([0.00234133, 0.0899407 , 0.17754006, 0.26513942, 0.35273879,\n",
       "       0.44033815, 0.52793751, 0.61553687, 0.70313624, 0.7907356 ])"
      ]
     },
     "execution_count": 90,
     "metadata": {},
     "output_type": "execute_result"
    }
   ],
   "execution_count": 90
  },
  {
   "metadata": {
    "ExecuteTime": {
     "end_time": "2024-10-17T17:31:34.606087Z",
     "start_time": "2024-10-17T17:31:34.336674Z"
    }
   },
   "cell_type": "code",
   "source": "cal_arr[0][0][:, 0]",
   "outputs": [
    {
     "ename": "IndexError",
     "evalue": "too many indices for array: array is 1-dimensional, but 2 were indexed",
     "output_type": "error",
     "traceback": [
      "\u001B[1;31m---------------------------------------------------------------------------\u001B[0m",
      "\u001B[1;31mIndexError\u001B[0m                                Traceback (most recent call last)",
      "Cell \u001B[1;32mIn[91], line 1\u001B[0m\n\u001B[1;32m----> 1\u001B[0m \u001B[43mcal_arr\u001B[49m\u001B[43m[\u001B[49m\u001B[38;5;241;43m0\u001B[39;49m\u001B[43m]\u001B[49m\u001B[43m[\u001B[49m\u001B[38;5;241;43m0\u001B[39;49m\u001B[43m]\u001B[49m\u001B[43m[\u001B[49m\u001B[43m:\u001B[49m\u001B[43m,\u001B[49m\u001B[43m \u001B[49m\u001B[38;5;241;43m0\u001B[39;49m\u001B[43m]\u001B[49m\n",
      "\u001B[1;31mIndexError\u001B[0m: too many indices for array: array is 1-dimensional, but 2 were indexed"
     ]
    }
   ],
   "execution_count": 91
  },
  {
   "metadata": {
    "ExecuteTime": {
     "end_time": "2024-10-17T17:31:34.608098Z",
     "start_time": "2024-10-17T17:31:34.607099Z"
    }
   },
   "cell_type": "code",
   "source": [
    "plt.subplots(1, 3, figsize=(27, 6))\n",
    "plt.subplot(1, 3, 1)\n",
    "plt.scatter(np.linspace(min(bdf.theta_p), max(bdf.theta_p), num=num_of_theta_intervals-1), cal_arr[0][0][:, 0])\n",
    "plt.errorbar(np.linspace(min(bdf.theta_p), max(bdf.theta_p), num=num_of_theta_intervals-1), cal_arr[0][0][:, 0], yerr=errs[0][0][:, 0], fmt='o')\n",
    "plt.ylim(())\n",
    "plt.subplot(1, 3, 2)\n",
    "plt.scatter(np.linspace(min(bdf.theta_p), max(bdf.theta_p), num=num_of_theta_intervals-1), cal_arr[0][0][:, 1])\n",
    "plt.errorbar(np.linspace(min(bdf.theta_p), max(bdf.theta_p), num=num_of_theta_intervals-1), cal_arr[0][0][:, 1], yerr=errs[0][0][:, 1], fmt='o')\n",
    "plt.subplot(1, 3, 3)\n",
    "plt.scatter(np.linspace(min(bdf.theta_p), max(bdf.theta_p), num=num_of_theta_intervals-1), cal_arr[0][0][:, 2])\n",
    "plt.errorbar(np.linspace(min(bdf.theta_p), max(bdf.theta_p), num=num_of_theta_intervals-1), cal_arr[0][0][:, 2], yerr=errs[0][0][:, 2], fmt='o')\n",
    "# plt.subplot(2, 3, 4)\n",
    "# plt.scatter(np.cos(np.linspace(min(bdf.theta_p), max(bdf.theta_p), num=num_of_theta_intervals-1)), cal_arr[0][0][:, 0])\n",
    "# plt.errorbar(np.cos(np.linspace(min(bdf.theta_p), max(bdf.theta_p), num=num_of_theta_intervals-1)), cal_arr[0][0][:, 0], yerr=errs[0][0][:, 0], fmt='o')\n",
    "# plt.subplot(2, 3, 5)\n",
    "# plt.scatter(np.cos(np.linspace(min(bdf.theta_p), max(bdf.theta_p), num=num_of_theta_intervals-1)), cal_arr[0][0][:, 1])\n",
    "# plt.errorbar(np.cos(np.linspace(min(bdf.theta_p), max(bdf.theta_p), num=num_of_theta_intervals-1)), cal_arr[0][0][:, 1], yerr=errs[0][0][:, 1], fmt='o')\n",
    "# plt.subplot(2, 3, 6)\n",
    "# plt.scatter(np.cos(np.linspace(min(bdf.theta_p), max(bdf.theta_p), num=num_of_theta_intervals-1)), cal_arr[0][0][:, 2])\n",
    "# plt.errorbar(np.cos(np.linspace(min(bdf.theta_p), max(bdf.theta_p), num=num_of_theta_intervals-1)), cal_arr[0][0][:, 2], yerr=errs[0][0][:, 2], fmt='o')\n",
    "plt.show()"
   ],
   "outputs": [],
   "execution_count": null
  },
  {
   "metadata": {
    "ExecuteTime": {
     "end_time": "2024-10-17T17:33:10.400398Z",
     "start_time": "2024-10-17T17:33:10.263677Z"
    }
   },
   "cell_type": "code",
   "source": [
    "plt.subplots(1, 3, figsize=(27, 6))\n",
    "\n",
    "plt.subplot(1, 3, 1)\n",
    "plt.plot((np.linspace(min(bdf.theta_p), max(bdf.theta_p))), pol2(np.cos(np.linspace(min(bdf.theta_p), max(bdf.theta_p))), *cal_arr[0][0][0:3]))\n",
    "# plt.ylim((0.945, 0.964))\n",
    "plt.subplot(1, 3, 2)\n",
    "plt.plot((np.linspace(min(bdf.theta_p), max(bdf.theta_p))), pol2(np.cos(np.linspace(min(bdf.theta_p), max(bdf.theta_p))), *cal_arr[0][0][3:6]))\n",
    "# plt.ylim((-27, 12))\n",
    "plt.subplot(1, 3, 3)\n",
    "plt.plot((np.linspace(min(bdf.theta_p), max(bdf.theta_p))), pol2(np.cos(np.linspace(min(bdf.theta_p), max(bdf.theta_p))), *cal_arr[0][0][6:9]))\n",
    "# plt.ylim((300, 390))\n",
    "plt.show()"
   ],
   "outputs": [
    {
     "data": {
      "text/plain": [
       "<Figure size 2700x600 with 3 Axes>"
      ],
      "image/png": "[encoded data removed]"
     },
     "metadata": {},
     "output_type": "display_data"
    }
   ],
   "execution_count": 100
  },
  {
   "metadata": {},
   "cell_type": "code",
   "source": "bdf",
   "outputs": [],
   "execution_count": null
  },
  {
   "metadata": {},
   "cell_type": "code",
   "source": [
    "group = 10\n",
    "bdf_group = bdf[bdf.beta_group == group]\n",
    "plt.subplots(1, 3, figsize=(27, 6))\n",
    "\n",
    "plt.subplot(1, 3, 1)\n",
    "plt.hist((bdf_group.momentum / bdf_group.beta_from_calc_r_4_rsigms_4_tsigms * np.sqrt(1 - bdf_group.beta_from_calc_r_4_rsigms_4_tsigms ** 2)).dropna(), bins='auto')\n",
    "plt.subplot(1, 3, 2)\n",
    "plt.hist((bdf_group.momentum / bdf_group.beta * np.sqrt(1 - bdf_group.beta ** 2)).dropna(), bins='auto')\n",
    "plt.subplot(1, 3, 3)\n",
    "plt.hist(bdf_group.momentum, bins='auto')\n",
    "plt.show()"
   ],
   "outputs": [],
   "execution_count": null
  },
  {
   "metadata": {},
   "cell_type": "code",
   "source": [
    "bdf_slice = bdf.iloc[0000:1620]\n",
    "# bdf_slice = bdf.iloc[1000:2620]\n",
    "plt.hist((bdf_slice.momentum / bdf_slice.beta * np.sqrt(1 - bdf_slice.beta ** 2)), bins='doane')\n",
    "# plt.hist(bdf_slice.momentum, bins='auto')\n",
    "plt.show()"
   ],
   "outputs": [],
   "execution_count": null
  },
  {
   "metadata": {},
   "cell_type": "code",
   "source": [
    "\n",
    "plt.hist(bdf[round((bdf.momentum / bdf.beta * np.sqrt(1 - bdf.beta ** 2)), 2) == 139.57].beta, bins='auto')\n",
    "plt.show()"
   ],
   "outputs": [],
   "execution_count": null
  },
  {
   "metadata": {},
   "cell_type": "code",
   "source": "bdf[round((bdf.momentum / bdf.beta * np.sqrt(1 - bdf.beta ** 2)), 2) == 139.57].shape[0] \n",
   "outputs": [],
   "execution_count": null
  },
  {
   "metadata": {},
   "cell_type": "code",
   "source": "edf[round((edf.true_p / edf.beta * np.sqrt(1 - edf.beta ** 2)), 2) == 139.57]",
   "outputs": [],
   "execution_count": null
  },
  {
   "metadata": {},
   "cell_type": "code",
   "source": "len([sub.iloc[0] for _, sub in edf.true_p.groupby(level=0)])",
   "outputs": [],
   "execution_count": null
  },
  {
   "metadata": {},
   "cell_type": "code",
   "source": "round((bdf.momentum / bdf.beta * np.sqrt(1 - bdf.beta ** 2)), 2)",
   "outputs": [],
   "execution_count": null
  },
  {
   "metadata": {},
   "cell_type": "code",
   "source": "bdf",
   "outputs": [],
   "execution_count": null
  },
  {
   "metadata": {},
   "cell_type": "code",
   "source": "bdf.iloc[1621]",
   "outputs": [],
   "execution_count": null
  },
  {
   "metadata": {},
   "cell_type": "code",
   "source": "bdf_slice",
   "outputs": [],
   "execution_count": null
  },
  {
   "metadata": {},
   "cell_type": "code",
   "source": "(bdf_slice.momentum / bdf_slice.beta * np.sqrt(1 - bdf_slice.beta ** 2)).dropna().iloc[0:2000]",
   "outputs": [],
   "execution_count": null
  },
  {
   "metadata": {},
   "cell_type": "code",
   "source": "momentum_from_beta(0.985, 139.57)",
   "outputs": [],
   "execution_count": null
  },
  {
   "metadata": {},
   "cell_type": "code",
   "source": "momentum_from_beta(0.995704, 139.57)",
   "outputs": [],
   "execution_count": null
  },
  {
   "metadata": {
    "ExecuteTime": {
     "end_time": "2024-10-17T17:34:08.810133Z",
     "start_time": "2024-10-17T17:34:08.808221Z"
    }
   },
   "cell_type": "code",
   "source": [
    "def beta_from_momentum(p, mass):\n",
    "    return p / np.sqrt(mass * mass + p * p)"
   ],
   "outputs": [],
   "execution_count": 101
  },
  {
   "metadata": {
    "ExecuteTime": {
     "end_time": "2024-10-17T17:34:08.996015Z",
     "start_time": "2024-10-17T17:34:08.992976Z"
    }
   },
   "cell_type": "code",
   "source": "beta_from_momentum(1500, 105.658)",
   "outputs": [
    {
     "data": {
      "text/plain": [
       "0.9975283906889574"
      ]
     },
     "execution_count": 102,
     "metadata": {},
     "output_type": "execute_result"
    }
   ],
   "execution_count": 102
  },
  {
   "metadata": {},
   "cell_type": "code",
   "source": "",
   "outputs": [],
   "execution_count": null
  },
  {
   "metadata": {},
   "cell_type": "code",
   "source": "# edf.loc[30]",
   "outputs": [],
   "execution_count": null
  },
  {
   "metadata": {},
   "cell_type": "code",
   "source": "min(bdf.cos_theta_p)",
   "outputs": [],
   "execution_count": null
  },
  {
   "metadata": {},
   "cell_type": "code",
   "source": "ф",
   "outputs": [],
   "execution_count": null
  },
  {
   "metadata": {
    "ExecuteTime": {
     "end_time": "2024-10-17T17:34:12.412250Z",
     "start_time": "2024-10-17T17:34:12.407437Z"
    }
   },
   "cell_type": "code",
   "source": "bdf[bdf.unfixed_calculated_r_2d_4_rsigms_4_tsigms.isna()] # All rings with intersections outside the ring itself",
   "outputs": [
    {
     "data": {
      "text/plain": [
       "Empty DataFrame\n",
       "Columns: [r_c_mean, r_c_std, r_c_width, momentum, beta, signal_counts, beta_group, theta_p, cos_theta_p, unfixed_calculated_r_2d_4_rsigms_4_tsigms, beta_from_calc_r_4_rsigms_4_tsigms, delta_beta_4_rsigms_4_tsigms, eps_beta_4_rsigms_4_tsigms]\n",
       "Index: []"
      ],
      "text/html": [
       "<div>\n",
       "<style scoped>\n",
       "    .dataframe tbody tr th:only-of-type {\n",
       "        vertical-align: middle;\n",
       "    }\n",
       "\n",
       "    .dataframe tbody tr th {\n",
       "        vertical-align: top;\n",
       "    }\n",
       "\n",
       "    .dataframe thead th {\n",
       "        text-align: right;\n",
       "    }\n",
       "</style>\n",
       "<table border=\"1\" class=\"dataframe\">\n",
       "  <thead>\n",
       "    <tr style=\"text-align: right;\">\n",
       "      <th></th>\n",
       "      <th>r_c_mean</th>\n",
       "      <th>r_c_std</th>\n",
       "      <th>r_c_width</th>\n",
       "      <th>momentum</th>\n",
       "      <th>beta</th>\n",
       "      <th>signal_counts</th>\n",
       "      <th>beta_group</th>\n",
       "      <th>theta_p</th>\n",
       "      <th>cos_theta_p</th>\n",
       "      <th>unfixed_calculated_r_2d_4_rsigms_4_tsigms</th>\n",
       "      <th>beta_from_calc_r_4_rsigms_4_tsigms</th>\n",
       "      <th>delta_beta_4_rsigms_4_tsigms</th>\n",
       "      <th>eps_beta_4_rsigms_4_tsigms</th>\n",
       "    </tr>\n",
       "  </thead>\n",
       "  <tbody>\n",
       "  </tbody>\n",
       "</table>\n",
       "</div>"
      ]
     },
     "execution_count": 103,
     "metadata": {},
     "output_type": "execute_result"
    }
   ],
   "execution_count": 103
  },
  {
   "metadata": {
    "ExecuteTime": {
     "end_time": "2024-10-17T17:34:12.695010Z",
     "start_time": "2024-10-17T17:34:12.691520Z"
    }
   },
   "cell_type": "code",
   "source": "bdf.isna().sum()",
   "outputs": [
    {
     "data": {
      "text/plain": [
       "r_c_mean                                      0\n",
       "r_c_std                                      15\n",
       "r_c_width                                     0\n",
       "momentum                                      0\n",
       "beta                                          0\n",
       "signal_counts                                 0\n",
       "beta_group                                    0\n",
       "theta_p                                       0\n",
       "cos_theta_p                                   0\n",
       "unfixed_calculated_r_2d_4_rsigms_4_tsigms     0\n",
       "beta_from_calc_r_4_rsigms_4_tsigms            0\n",
       "delta_beta_4_rsigms_4_tsigms                  0\n",
       "eps_beta_4_rsigms_4_tsigms                    0\n",
       "dtype: int64"
      ]
     },
     "execution_count": 104,
     "metadata": {},
     "output_type": "execute_result"
    }
   ],
   "execution_count": 104
  },
  {
   "metadata": {
    "ExecuteTime": {
     "end_time": "2024-10-17T17:34:13.041493Z",
     "start_time": "2024-10-17T17:34:12.954600Z"
    }
   },
   "cell_type": "code",
   "source": [
    "event = edf.loc[30]\n",
    "plt.subplot()\n",
    "plt.scatter(event.phi_c, event.theta_c)\n",
    "plt.show()\n",
    "plt.subplot()\n",
    "plt.gca().invert_yaxis()\n",
    "plt.scatter(event.rotated_x, event.rotated_y)\n",
    "plt.scatter(event.rotated_x_i, event.rotated_y_i)\n",
    "plt.show()"
   ],
   "outputs": [
    {
     "data": {
      "text/plain": [
       "<Figure size 640x480 with 1 Axes>"
      ],
      "image/png": "[encoded data removed]"
     },
     "metadata": {},
     "output_type": "display_data"
    },
    {
     "data": {
      "text/plain": [
       "<Figure size 640x480 with 1 Axes>"
      ],
      "image/png": "[encoded data removed]"
     },
     "metadata": {},
     "output_type": "display_data"
    }
   ],
   "execution_count": 105
  },
  {
   "metadata": {
    "ExecuteTime": {
     "end_time": "2024-10-17T17:34:13.207946Z",
     "start_time": "2024-10-17T17:34:13.197249Z"
    }
   },
   "cell_type": "code",
   "source": "event",
   "outputs": [
    {
     "data": {
      "text/plain": [
       "                x_c      y_c        wv_c         r_c       x_i         y_i  \\\n",
       "subentry                                                                     \n",
       "0         35.680131   864.64  437.007874   53.112596  3.105218  906.590243   \n",
       "1         39.040131   868.00  486.614173   52.730682  3.105218  906.590243   \n",
       "2         45.760131  1103.20  370.866142  201.183593  3.105218  906.590243   \n",
       "3         12.160131   851.20  552.755906   56.125488  3.105218  906.590243   \n",
       "4        -48.319869   864.64  326.771654   66.365371  3.105218  906.590243   \n",
       "...             ...      ...         ...         ...       ...         ...   \n",
       "65       -51.679869   871.36  403.937008   65.135058  3.105218  906.590243   \n",
       "66        79.360131  1046.08  387.401575  158.972337  3.105218  906.590243   \n",
       "68        72.640131   938.56  392.913386   76.532147  3.105218  906.590243   \n",
       "69        -1.279869   851.20  387.401575   55.563549  3.105218  906.590243   \n",
       "70        59.200131   901.60  437.007874   56.316443  3.105218  906.590243   \n",
       "\n",
       "               t_c     z_c       true_p      beta  ...  mean_rotated_r_c  \\\n",
       "subentry                                           ...                     \n",
       "0         0.103009  2000.0  1434.363165  0.995299  ...        100.570598   \n",
       "1         0.093523  2000.0  1434.363165  0.995299  ...        100.570598   \n",
       "2        -0.495890  2000.0  1434.363165  0.995299  ...        100.570598   \n",
       "3         0.141439  2000.0  1434.363165  0.995299  ...        100.570598   \n",
       "4         0.103878  2000.0  1434.363165  0.995299  ...        100.570598   \n",
       "...            ...     ...          ...       ...  ...               ...   \n",
       "65        0.085019  2000.0  1434.363165  0.995299  ...        100.570598   \n",
       "66       -0.363788  2000.0  1434.363165  0.995299  ...        100.570598   \n",
       "68       -0.097316  2000.0  1434.363165  0.995299  ...        100.570598   \n",
       "69        0.141568  2000.0  1434.363165  0.995299  ...        100.570598   \n",
       "70        0.000777  2000.0  1434.363165  0.995299  ...        100.570598   \n",
       "\n",
       "          dist_from_mean_rotated_r_c  rotated_r_c_sigm  beta_group  \\\n",
       "subentry                                                             \n",
       "0                          43.768963         49.135414        10.0   \n",
       "1                          44.963093         49.135414        10.0   \n",
       "2                         114.531813         49.135414        10.0   \n",
       "3                          36.836101         49.135414        10.0   \n",
       "4                          30.555397         49.135414        10.0   \n",
       "...                              ...               ...         ...   \n",
       "65                         33.160813         49.135414        10.0   \n",
       "66                         71.147659         49.135414        10.0   \n",
       "68                         20.407521         49.135414        10.0   \n",
       "69                         37.350786         49.135414        10.0   \n",
       "70                         44.446925         49.135414        10.0   \n",
       "\n",
       "          slice_counts_4_sigms  unfixed_calculated_r_2d_4_rsigms_4_tsigms  \\\n",
       "subentry                                                                    \n",
       "0                     0.175809                                   56.17341   \n",
       "1                     0.175809                                   56.17341   \n",
       "2                     0.000000                                   56.17341   \n",
       "3                     0.180832                                   56.17341   \n",
       "4                     0.068795                                   56.17341   \n",
       "...                        ...                                        ...   \n",
       "65                    0.158228                                   56.17341   \n",
       "66                    0.000000                                   56.17341   \n",
       "68                    0.012171                                   56.17341   \n",
       "69                    0.180832                                   56.17341   \n",
       "70                    0.175809                                   56.17341   \n",
       "\n",
       "          cos_theta_p  beta_from_calc_r_4_rsigms_4_tsigms  \\\n",
       "subentry                                                    \n",
       "0            0.742524                            0.979796   \n",
       "1            0.742524                            0.979796   \n",
       "2            0.742524                            0.979796   \n",
       "3            0.742524                            0.979796   \n",
       "4            0.742524                            0.979796   \n",
       "...               ...                                 ...   \n",
       "65           0.742524                            0.979796   \n",
       "66           0.742524                            0.979796   \n",
       "68           0.742524                            0.979796   \n",
       "69           0.742524                            0.979796   \n",
       "70           0.742524                            0.979796   \n",
       "\n",
       "          delta_beta_4_rsigms_4_tsigms  eps_beta_4_rsigms_4_tsigms  \n",
       "subentry                                                            \n",
       "0                            -0.015503                   -1.557648  \n",
       "1                            -0.015503                   -1.557648  \n",
       "2                            -0.015503                   -1.557648  \n",
       "3                            -0.015503                   -1.557648  \n",
       "4                            -0.015503                   -1.557648  \n",
       "...                                ...                         ...  \n",
       "65                           -0.015503                   -1.557648  \n",
       "66                           -0.015503                   -1.557648  \n",
       "68                           -0.015503                   -1.557648  \n",
       "69                           -0.015503                   -1.557648  \n",
       "70                           -0.015503                   -1.557648  \n",
       "\n",
       "[61 rows x 51 columns]"
      ],
      "text/html": [
       "<div>\n",
       "<style scoped>\n",
       "    .dataframe tbody tr th:only-of-type {\n",
       "        vertical-align: middle;\n",
       "    }\n",
       "\n",
       "    .dataframe tbody tr th {\n",
       "        vertical-align: top;\n",
       "    }\n",
       "\n",
       "    .dataframe thead th {\n",
       "        text-align: right;\n",
       "    }\n",
       "</style>\n",
       "<table border=\"1\" class=\"dataframe\">\n",
       "  <thead>\n",
       "    <tr style=\"text-align: right;\">\n",
       "      <th></th>\n",
       "      <th>x_c</th>\n",
       "      <th>y_c</th>\n",
       "      <th>wv_c</th>\n",
       "      <th>r_c</th>\n",
       "      <th>x_i</th>\n",
       "      <th>y_i</th>\n",
       "      <th>t_c</th>\n",
       "      <th>z_c</th>\n",
       "      <th>true_p</th>\n",
       "      <th>beta</th>\n",
       "      <th>...</th>\n",
       "      <th>mean_rotated_r_c</th>\n",
       "      <th>dist_from_mean_rotated_r_c</th>\n",
       "      <th>rotated_r_c_sigm</th>\n",
       "      <th>beta_group</th>\n",
       "      <th>slice_counts_4_sigms</th>\n",
       "      <th>unfixed_calculated_r_2d_4_rsigms_4_tsigms</th>\n",
       "      <th>cos_theta_p</th>\n",
       "      <th>beta_from_calc_r_4_rsigms_4_tsigms</th>\n",
       "      <th>delta_beta_4_rsigms_4_tsigms</th>\n",
       "      <th>eps_beta_4_rsigms_4_tsigms</th>\n",
       "    </tr>\n",
       "    <tr>\n",
       "      <th>subentry</th>\n",
       "      <th></th>\n",
       "      <th></th>\n",
       "      <th></th>\n",
       "      <th></th>\n",
       "      <th></th>\n",
       "      <th></th>\n",
       "      <th></th>\n",
       "      <th></th>\n",
       "      <th></th>\n",
       "      <th></th>\n",
       "      <th></th>\n",
       "      <th></th>\n",
       "      <th></th>\n",
       "      <th></th>\n",
       "      <th></th>\n",
       "      <th></th>\n",
       "      <th></th>\n",
       "      <th></th>\n",
       "      <th></th>\n",
       "      <th></th>\n",
       "      <th></th>\n",
       "    </tr>\n",
       "  </thead>\n",
       "  <tbody>\n",
       "    <tr>\n",
       "      <th>0</th>\n",
       "      <td>35.680131</td>\n",
       "      <td>864.64</td>\n",
       "      <td>437.007874</td>\n",
       "      <td>53.112596</td>\n",
       "      <td>3.105218</td>\n",
       "      <td>906.590243</td>\n",
       "      <td>0.103009</td>\n",
       "      <td>2000.0</td>\n",
       "      <td>1434.363165</td>\n",
       "      <td>0.995299</td>\n",
       "      <td>...</td>\n",
       "      <td>100.570598</td>\n",
       "      <td>43.768963</td>\n",
       "      <td>49.135414</td>\n",
       "      <td>10.0</td>\n",
       "      <td>0.175809</td>\n",
       "      <td>56.17341</td>\n",
       "      <td>0.742524</td>\n",
       "      <td>0.979796</td>\n",
       "      <td>-0.015503</td>\n",
       "      <td>-1.557648</td>\n",
       "    </tr>\n",
       "    <tr>\n",
       "      <th>1</th>\n",
       "      <td>39.040131</td>\n",
       "      <td>868.00</td>\n",
       "      <td>486.614173</td>\n",
       "      <td>52.730682</td>\n",
       "      <td>3.105218</td>\n",
       "      <td>906.590243</td>\n",
       "      <td>0.093523</td>\n",
       "      <td>2000.0</td>\n",
       "      <td>1434.363165</td>\n",
       "      <td>0.995299</td>\n",
       "      <td>...</td>\n",
       "      <td>100.570598</td>\n",
       "      <td>44.963093</td>\n",
       "      <td>49.135414</td>\n",
       "      <td>10.0</td>\n",
       "      <td>0.175809</td>\n",
       "      <td>56.17341</td>\n",
       "      <td>0.742524</td>\n",
       "      <td>0.979796</td>\n",
       "      <td>-0.015503</td>\n",
       "      <td>-1.557648</td>\n",
       "    </tr>\n",
       "    <tr>\n",
       "      <th>2</th>\n",
       "      <td>45.760131</td>\n",
       "      <td>1103.20</td>\n",
       "      <td>370.866142</td>\n",
       "      <td>201.183593</td>\n",
       "      <td>3.105218</td>\n",
       "      <td>906.590243</td>\n",
       "      <td>-0.495890</td>\n",
       "      <td>2000.0</td>\n",
       "      <td>1434.363165</td>\n",
       "      <td>0.995299</td>\n",
       "      <td>...</td>\n",
       "      <td>100.570598</td>\n",
       "      <td>114.531813</td>\n",
       "      <td>49.135414</td>\n",
       "      <td>10.0</td>\n",
       "      <td>0.000000</td>\n",
       "      <td>56.17341</td>\n",
       "      <td>0.742524</td>\n",
       "      <td>0.979796</td>\n",
       "      <td>-0.015503</td>\n",
       "      <td>-1.557648</td>\n",
       "    </tr>\n",
       "    <tr>\n",
       "      <th>3</th>\n",
       "      <td>12.160131</td>\n",
       "      <td>851.20</td>\n",
       "      <td>552.755906</td>\n",
       "      <td>56.125488</td>\n",
       "      <td>3.105218</td>\n",
       "      <td>906.590243</td>\n",
       "      <td>0.141439</td>\n",
       "      <td>2000.0</td>\n",
       "      <td>1434.363165</td>\n",
       "      <td>0.995299</td>\n",
       "      <td>...</td>\n",
       "      <td>100.570598</td>\n",
       "      <td>36.836101</td>\n",
       "      <td>49.135414</td>\n",
       "      <td>10.0</td>\n",
       "      <td>0.180832</td>\n",
       "      <td>56.17341</td>\n",
       "      <td>0.742524</td>\n",
       "      <td>0.979796</td>\n",
       "      <td>-0.015503</td>\n",
       "      <td>-1.557648</td>\n",
       "    </tr>\n",
       "    <tr>\n",
       "      <th>4</th>\n",
       "      <td>-48.319869</td>\n",
       "      <td>864.64</td>\n",
       "      <td>326.771654</td>\n",
       "      <td>66.365371</td>\n",
       "      <td>3.105218</td>\n",
       "      <td>906.590243</td>\n",
       "      <td>0.103878</td>\n",
       "      <td>2000.0</td>\n",
       "      <td>1434.363165</td>\n",
       "      <td>0.995299</td>\n",
       "      <td>...</td>\n",
       "      <td>100.570598</td>\n",
       "      <td>30.555397</td>\n",
       "      <td>49.135414</td>\n",
       "      <td>10.0</td>\n",
       "      <td>0.068795</td>\n",
       "      <td>56.17341</td>\n",
       "      <td>0.742524</td>\n",
       "      <td>0.979796</td>\n",
       "      <td>-0.015503</td>\n",
       "      <td>-1.557648</td>\n",
       "    </tr>\n",
       "    <tr>\n",
       "      <th>...</th>\n",
       "      <td>...</td>\n",
       "      <td>...</td>\n",
       "      <td>...</td>\n",
       "      <td>...</td>\n",
       "      <td>...</td>\n",
       "      <td>...</td>\n",
       "      <td>...</td>\n",
       "      <td>...</td>\n",
       "      <td>...</td>\n",
       "      <td>...</td>\n",
       "      <td>...</td>\n",
       "      <td>...</td>\n",
       "      <td>...</td>\n",
       "      <td>...</td>\n",
       "      <td>...</td>\n",
       "      <td>...</td>\n",
       "      <td>...</td>\n",
       "      <td>...</td>\n",
       "      <td>...</td>\n",
       "      <td>...</td>\n",
       "      <td>...</td>\n",
       "    </tr>\n",
       "    <tr>\n",
       "      <th>65</th>\n",
       "      <td>-51.679869</td>\n",
       "      <td>871.36</td>\n",
       "      <td>403.937008</td>\n",
       "      <td>65.135058</td>\n",
       "      <td>3.105218</td>\n",
       "      <td>906.590243</td>\n",
       "      <td>0.085019</td>\n",
       "      <td>2000.0</td>\n",
       "      <td>1434.363165</td>\n",
       "      <td>0.995299</td>\n",
       "      <td>...</td>\n",
       "      <td>100.570598</td>\n",
       "      <td>33.160813</td>\n",
       "      <td>49.135414</td>\n",
       "      <td>10.0</td>\n",
       "      <td>0.158228</td>\n",
       "      <td>56.17341</td>\n",
       "      <td>0.742524</td>\n",
       "      <td>0.979796</td>\n",
       "      <td>-0.015503</td>\n",
       "      <td>-1.557648</td>\n",
       "    </tr>\n",
       "    <tr>\n",
       "      <th>66</th>\n",
       "      <td>79.360131</td>\n",
       "      <td>1046.08</td>\n",
       "      <td>387.401575</td>\n",
       "      <td>158.972337</td>\n",
       "      <td>3.105218</td>\n",
       "      <td>906.590243</td>\n",
       "      <td>-0.363788</td>\n",
       "      <td>2000.0</td>\n",
       "      <td>1434.363165</td>\n",
       "      <td>0.995299</td>\n",
       "      <td>...</td>\n",
       "      <td>100.570598</td>\n",
       "      <td>71.147659</td>\n",
       "      <td>49.135414</td>\n",
       "      <td>10.0</td>\n",
       "      <td>0.000000</td>\n",
       "      <td>56.17341</td>\n",
       "      <td>0.742524</td>\n",
       "      <td>0.979796</td>\n",
       "      <td>-0.015503</td>\n",
       "      <td>-1.557648</td>\n",
       "    </tr>\n",
       "    <tr>\n",
       "      <th>68</th>\n",
       "      <td>72.640131</td>\n",
       "      <td>938.56</td>\n",
       "      <td>392.913386</td>\n",
       "      <td>76.532147</td>\n",
       "      <td>3.105218</td>\n",
       "      <td>906.590243</td>\n",
       "      <td>-0.097316</td>\n",
       "      <td>2000.0</td>\n",
       "      <td>1434.363165</td>\n",
       "      <td>0.995299</td>\n",
       "      <td>...</td>\n",
       "      <td>100.570598</td>\n",
       "      <td>20.407521</td>\n",
       "      <td>49.135414</td>\n",
       "      <td>10.0</td>\n",
       "      <td>0.012171</td>\n",
       "      <td>56.17341</td>\n",
       "      <td>0.742524</td>\n",
       "      <td>0.979796</td>\n",
       "      <td>-0.015503</td>\n",
       "      <td>-1.557648</td>\n",
       "    </tr>\n",
       "    <tr>\n",
       "      <th>69</th>\n",
       "      <td>-1.279869</td>\n",
       "      <td>851.20</td>\n",
       "      <td>387.401575</td>\n",
       "      <td>55.563549</td>\n",
       "      <td>3.105218</td>\n",
       "      <td>906.590243</td>\n",
       "      <td>0.141568</td>\n",
       "      <td>2000.0</td>\n",
       "      <td>1434.363165</td>\n",
       "      <td>0.995299</td>\n",
       "      <td>...</td>\n",
       "      <td>100.570598</td>\n",
       "      <td>37.350786</td>\n",
       "      <td>49.135414</td>\n",
       "      <td>10.0</td>\n",
       "      <td>0.180832</td>\n",
       "      <td>56.17341</td>\n",
       "      <td>0.742524</td>\n",
       "      <td>0.979796</td>\n",
       "      <td>-0.015503</td>\n",
       "      <td>-1.557648</td>\n",
       "    </tr>\n",
       "    <tr>\n",
       "      <th>70</th>\n",
       "      <td>59.200131</td>\n",
       "      <td>901.60</td>\n",
       "      <td>437.007874</td>\n",
       "      <td>56.316443</td>\n",
       "      <td>3.105218</td>\n",
       "      <td>906.590243</td>\n",
       "      <td>0.000777</td>\n",
       "      <td>2000.0</td>\n",
       "      <td>1434.363165</td>\n",
       "      <td>0.995299</td>\n",
       "      <td>...</td>\n",
       "      <td>100.570598</td>\n",
       "      <td>44.446925</td>\n",
       "      <td>49.135414</td>\n",
       "      <td>10.0</td>\n",
       "      <td>0.175809</td>\n",
       "      <td>56.17341</td>\n",
       "      <td>0.742524</td>\n",
       "      <td>0.979796</td>\n",
       "      <td>-0.015503</td>\n",
       "      <td>-1.557648</td>\n",
       "    </tr>\n",
       "  </tbody>\n",
       "</table>\n",
       "<p>61 rows × 51 columns</p>\n",
       "</div>"
      ]
     },
     "execution_count": 106,
     "metadata": {},
     "output_type": "execute_result"
    }
   ],
   "execution_count": 106
  },
  {
   "metadata": {
    "ExecuteTime": {
     "end_time": "2024-10-17T17:34:15.390239Z",
     "start_time": "2024-10-17T17:34:15.384867Z"
    }
   },
   "cell_type": "code",
   "source": [
    "def betaGroupsRMS90(bdf: pd.DataFrame, avg_sigmas: tuple, avg_t_sigmas: tuple, n = 5):\n",
    "  beta_sigms = np.full((np.ptp(avg_sigmas), np.ptp(avg_t_sigmas), n), 0.)\n",
    "  beta_epss = np.full((np.ptp(avg_sigmas), np.ptp(avg_t_sigmas), n), 0.)\n",
    "  beta_sigms_sigms = np.full((np.ptp(avg_sigmas), np.ptp(avg_t_sigmas), n), 0.)\n",
    "\n",
    "  masses_mean = np.full((np.ptp(avg_sigmas), np.ptp(avg_t_sigmas), n), 0.)\n",
    "  masses_upper = np.full((np.ptp(avg_sigmas), np.ptp(avg_t_sigmas), n), 0.)\n",
    "  masses_lower = np.full((np.ptp(avg_sigmas), np.ptp(avg_t_sigmas), n), 0.)\n",
    "  \n",
    "  for group in range(1, n + 1):\n",
    "    data = bdf[bdf['beta_group'] == group]\n",
    "    for i in range(np.ptp(avg_sigmas)):\n",
    "      for j in range(np.ptp(avg_t_sigmas)):\n",
    "        population_fourth_moment = np.mean(bdf[f'delta_beta_{i + avg_sigmas[0]}_rsigms_{j + avg_t_sigmas[0]}_tsigms'] ** 4)\n",
    "        sample_fourth_moment = np.mean(data[f'delta_beta_{i + avg_sigmas[0]}_rsigms_{j + avg_t_sigmas[0]}_tsigms'] ** 4)\n",
    "        # print(np.std(data[f'delta_beta_{i + avg_sigmas[0]}_rsigms_{j + avg_t_sigmas[0]}_tsigms']))\n",
    "        beta_sigms[i, j, group - 1] = rms90(data[f'delta_beta_{i + avg_sigmas[0]}_rsigms_{j + avg_t_sigmas[0]}_tsigms'])\n",
    "        # assert not np.isnan(beta_sigms[i, j, group - 1])\n",
    "        beta_epss[i, j, group - 1] = rms90(data[f'eps_beta_{i + avg_sigmas[0]}_rsigms_{j + avg_t_sigmas[0]}_tsigms'])\n",
    "        beta_sigms_sigms[i, j, group - 1] = np.sqrt(2 * np.abs(sample_fourth_moment - population_fourth_moment) / (data.shape[0]))\n",
    "              \n",
    "        masses_mean[i, j, group - 1] = np.mean((data.momentum / data.beta_from_calc_r_4_rsigms_4_tsigms * np.sqrt(1 - data.beta_from_calc_r_4_rsigms_4_tsigms ** 2)).dropna())\n",
    "        masses_upper[i, j, group - 1] = np.mean((data.momentum / (data.beta_from_calc_r_4_rsigms_4_tsigms - beta_sigms[i, j, group - 1]) * np.sqrt(1 - (data.beta_from_calc_r_4_rsigms_4_tsigms - beta_sigms[i, j, group - 1]) ** 2)).dropna()) - masses_mean[i, j, group - 1] \n",
    "        masses_lower[i, j, group - 1] = masses_mean[i, j, group - 1] - np.mean((data.momentum / (data.beta_from_calc_r_4_rsigms_4_tsigms + beta_sigms[i, j, group - 1]) * np.sqrt(1 - (data.beta_from_calc_r_4_rsigms_4_tsigms + beta_sigms[i, j, group - 1]) ** 2)).dropna())\n",
    "\n",
    "\n",
    "  return beta_sigms, beta_epss, beta_sigms_sigms, masses_mean, masses_upper, masses_lower"
   ],
   "outputs": [],
   "execution_count": 107
  },
  {
   "metadata": {
    "ExecuteTime": {
     "end_time": "2024-10-17T17:34:15.659659Z",
     "start_time": "2024-10-17T17:34:15.599361Z"
    }
   },
   "cell_type": "code",
   "source": [
    "plt.hist((bdf.momentum / bdf.beta_from_calc_r_4_rsigms_4_tsigms * np.sqrt(1 - bdf.beta_from_calc_r_4_rsigms_4_tsigms ** 2)).dropna(), bins='auto')\n",
    "plt.show()"
   ],
   "outputs": [
    {
     "name": "stderr",
     "output_type": "stream",
     "text": [
      "Z:\\Prog\\FARICH\\venv\\Lib\\site-packages\\pandas\\core\\arraylike.py:399: RuntimeWarning: invalid value encountered in sqrt\n",
      "  result = getattr(ufunc, method)(*inputs, **kwargs)\n"
     ]
    },
    {
     "data": {
      "text/plain": [
       "<Figure size 640x480 with 1 Axes>"
      ],
      "image/png": "[encoded data removed]"
     },
     "metadata": {},
     "output_type": "display_data"
    }
   ],
   "execution_count": 108
  },
  {
   "metadata": {
    "ExecuteTime": {
     "end_time": "2024-10-17T17:34:16.745414Z",
     "start_time": "2024-10-17T17:34:16.737355Z"
    }
   },
   "cell_type": "code",
   "source": [
    "def plot_final_graph(beta_sigms, beta_sigms_yerr, avg_sigmas, avg_t_sigmas, r_width, t_width, r_factor, t_factor, weighed, to_save=True, deg_lim=False, num_of_groups=10, iteration=0):\n",
    "  # labels = ['0', '1e3', '1e4', '1e5', '1e6']\n",
    "  pi_mass = 139.57\n",
    "  mu_mass = 105.65\n",
    "  ka_mass = 493.67\n",
    "  labels = ['0']\n",
    "  labels = ['DCR = ' + i + ' $Hz/mm^2$' for i in labels]\n",
    "  colors = ['c', 'y', 'g', 'r', 'm']\n",
    "  weight = 'weighed' if weighed else 'unweighed'\n",
    "  y = np.arange(1, num_of_groups + 1)\n",
    "  x = (y * (max(edf['beta']) - min(edf['beta'])) - max(edf['beta']) + (num_of_groups + 1) * min(edf['beta'])) / num_of_groups\n",
    "  required_separation = [(beta_from_momentum(momentum_from_beta(b, pi_mass), mu_mass) - b) / 3 for b in x]\n",
    "  fig, axs = plt.subplots(np.ptp(avg_sigmas), np.ptp(avg_t_sigmas), figsize=(10 * np.ptp(avg_t_sigmas), 10 * np.ptp(avg_sigmas)))\n",
    "  title = f'Method: N(r) / r; {weight} Avg\\nR Width = {r_width}mm, T Width = {t_width}ns\\nR step factor = {r_factor}, T step factor = {t_factor}'\n",
    "  if deg_lim:\n",
    "    title += '\\n' + r'$\\theta_p < 10\\deg$'\n",
    "  # fig.suptitle(title)\n",
    "\n",
    "  if np.ptp(avg_sigmas) > 1:\n",
    "    for i in range(np.ptp(avg_sigmas)):\n",
    "      for j in range(np.ptp(avg_t_sigmas)):\n",
    "        for k in range(beta_sigms.shape[0]):\n",
    "          axs[i, j].plot(x, beta_sigms[k, i, j], label=labels[k], c=colors[k])\n",
    "          axs[i, j].errorbar(x, beta_sigms[k, i, j], xerr=[np.diff(x)[0]/4 for _ in x], linestyle='', c=colors[k])\n",
    "          axs[i, j].errorbar(x, beta_sigms[k, i, j], yerr=beta_sigms_yerr[k, i, j], linestyle='', c=colors[k])\n",
    "        axs[i, j].legend(loc='upper right')\n",
    "        axs[i, j].set_xlabel('Beta Group')\n",
    "        axs[i, j].set_ylabel(r'RMS90($\\Delta\\beta$)')\n",
    "        axs[i, j].set_ylim((0, 0.004))\n",
    "        axs[i, j].set_title(f'Velocity resoultion for\\nr window width = {avg_sigmas[0] + i}$\\sigma$\\nt window width = {avg_t_sigmas[0] + j}$\\sigma$')\n",
    "        axs[i, j].grid()\n",
    "  elif np.ptp(avg_t_sigmas) > 1:\n",
    "    for j in range(np.ptp(avg_t_sigmas)):\n",
    "      for k in range(beta_sigms.shape[0]):\n",
    "        axs[j].plot(x, beta_sigms[k, 0, j], label=labels[k], c=colors[k])\n",
    "        axs[j].errorbar(x, beta_sigms[k, 0, j], xerr=[np.diff(x)[0]/4 for _ in x], linestyle='', c=colors[k])\n",
    "        axs[j].errorbar(x, beta_sigms[k, 0, j], yerr=beta_sigms_yerr[k, 0, j], linestyle='', c=colors[k])\n",
    "      axs[j].legend(loc='upper right')\n",
    "      axs[j].set_xlabel('Beta Group')\n",
    "      axs[j].set_ylabel(r'RMS90($\\Delta\\beta)$')\n",
    "      axs[j].set_ylim((0, 0.004))\n",
    "      axs[j].set_title(f'Velocity resoultion for\\nr window width = {avg_sigmas[0]}$\\sigma$\\nt window width = {avg_t_sigmas[0] + j}$\\sigma$')\n",
    "      axs[j].grid()\n",
    "  else:\n",
    "    for k in range(beta_sigms.shape[0]):\n",
    "      axs.plot(x, beta_sigms[k, 0, 0], label=labels[k], c=colors[k])\n",
    "      axs.errorbar(x, beta_sigms[k, 0, 0], xerr=[np.diff(x)[0]/4 for _ in x], linestyle='', c=colors[k])\n",
    "      axs.errorbar(x, beta_sigms[k, 0, 0], yerr=beta_sigms_yerr[k, 0, 0], linestyle='', c=colors[k])\n",
    "      axs.plot(x, required_separation, c='r', linestyle='--')\n",
    "    axs.legend(loc='upper right')\n",
    "    axs.set_xlabel('Beta Group')\n",
    "    axs.set_ylabel(r'RMS90($\\Delta\\beta$)')\n",
    "      # axs.set_ylim((0, 0.002))\n",
    "        # revert back\n",
    "    axs.set_ylim((0, 0.004))\n",
    "        \n",
    "        \n",
    "        \n",
    "    axs.set_title(f'Velocity resoultion for\\nr window width = {avg_sigmas[0]}$\\sigma$\\nt window width = {avg_t_sigmas[0]}$\\sigma$')\n",
    "    axs.grid()\n",
    "\n",
    "  if to_save:\n",
    "    filename = f'{weight}_avg_rw={r_width}_tw={t_width}_rs={r_factor}_ts={t_factor}_rsigms={avg_sigmas[0]}-{avg_sigmas[-1]-1}_tsigms={avg_t_sigmas[0]}-{avg_t_sigmas[-1]-1}'\n",
    "    if deg_lim:\n",
    "      filename += '_10deg'\n",
    "    filename += f'_{iteration}'\n",
    "    filename += '.png'\n",
    "    fig.savefig(os.path.join('results_barrel', f'{filename}'))\n",
    "    plt.close(fig)\n",
    "  else:\n",
    "    plt.show()"
   ],
   "outputs": [],
   "execution_count": 109
  },
  {
   "metadata": {
    "ExecuteTime": {
     "end_time": "2024-10-17T17:34:17.713961Z",
     "start_time": "2024-10-17T17:34:17.708169Z"
    }
   },
   "cell_type": "code",
   "source": [
    "def plot_final_mass_graph(mass_mean, mass_upper, mass_lower, avg_sigmas, avg_t_sigmas, r_width, t_width, r_factor, t_factor, weighed, to_save=True, deg_lim=False, num_of_groups=10, iteration=0):\n",
    "    labels = ['0']\n",
    "    labels = ['DCR = ' + i + ' $Hz/mm^2$' for i in labels]\n",
    "    colors = ['c', 'y', 'g', 'r', 'm']\n",
    "    weight = 'weighed' if weighed else 'unweighed'\n",
    "    pi_mass = 139.57\n",
    "    mu_mass = 105.65\n",
    "    ka_mass = 493.67\n",
    "    y = np.arange(1, num_of_groups + 1)\n",
    "    x = (y * (max(edf['beta']) - min(edf['beta'])) - max(edf['beta']) + (num_of_groups + 1) * min(edf['beta'])) / num_of_groups\n",
    "    \n",
    "    fig, axs = plt.subplots(1, 1, figsize=(10, 10))\n",
    "    title = f'Method: N(r) / r; {weight} Avg\\nR Width = {r_width}mm, T Width = {t_width}ns\\nR step factor = {r_factor}, T step factor = {t_factor}'\n",
    "    if deg_lim:\n",
    "        title += '\\n' + r'$\\theta_p < 10\\deg$'\n",
    "    for k in range(mass_mean.shape[0]):\n",
    "        axs.plot(x, mass_mean[k, 0], label=labels[k], c=colors[k])\n",
    "        axs.errorbar(x, mass_mean[k, 0], yerr= np.array(list(zip(mass_lower[k, 0], mass_upper[k, 0]))).T, linestyle='', c=colors[k])\n",
    "    \n",
    "    axs.plot((min(x), max(x)), (pi_mass, pi_mass), linestyle='--', c='red')\n",
    "    axs.plot((min(x), max(x)), (mu_mass, mu_mass), linestyle='--', c='red')\n",
    "    # axs.plot((min(x), max(x)), (ka_mass, ka_mass), linestyle='--', c='red')\n",
    "\n",
    "    axs.legend(loc='upper right')\n",
    "    axs.set_xlabel('Beta Group')\n",
    "    axs.set_ylabel(r'Measured Mass, MeV')\n",
    "    axs.set_title(f'Mass resoultion for\\nr window width = {avg_sigmas[0]}$\\sigma$\\nt window width = {avg_t_sigmas[0]}$\\sigma$')\n",
    "    axs.grid()\n",
    "    \n",
    "    if to_save:\n",
    "        filename = f'{weight}_avg_rw={r_width}_tw={t_width}_rs={r_factor}_ts={t_factor}_rsigms={avg_sigmas[0]}-{avg_sigmas[-1]-1}_tsigms={avg_t_sigmas[0]}-{avg_t_sigmas[-1]-1}'\n",
    "        if deg_lim:\n",
    "            filename += '_10deg'\n",
    "        filename += f'_{iteration}'\n",
    "        filename += '.png'\n",
    "        fig.savefig(os.path.join('results_barrel', f'{filename}'))\n",
    "        plt.close(fig)\n",
    "    else:\n",
    "        plt.show()"
   ],
   "outputs": [],
   "execution_count": 110
  },
  {
   "metadata": {
    "ExecuteTime": {
     "end_time": "2024-10-17T17:34:18.873832Z",
     "start_time": "2024-10-17T17:34:18.850658Z"
    }
   },
   "cell_type": "code",
   "source": [
    "bg = betaGroupsRMS90(bdf, avg_sigmas=avg_sigmas, avg_t_sigmas=avg_t_sigmas, n=num_of_groups)\n",
    "beta_sigms.append(bg[0])\n",
    "beta_sigms_yerr.append(bg[2])"
   ],
   "outputs": [
    {
     "name": "stderr",
     "output_type": "stream",
     "text": [
      "Z:\\Prog\\FARICH\\venv\\Lib\\site-packages\\pandas\\core\\arraylike.py:399: RuntimeWarning: invalid value encountered in sqrt\n",
      "  result = getattr(ufunc, method)(*inputs, **kwargs)\n"
     ]
    }
   ],
   "execution_count": 111
  },
  {
   "metadata": {
    "ExecuteTime": {
     "end_time": "2024-10-17T17:34:19.107765Z",
     "start_time": "2024-10-17T17:34:19.104144Z"
    }
   },
   "cell_type": "code",
   "source": "bg[3]",
   "outputs": [
    {
     "data": {
      "text/plain": [
       "array([[[151.65170529, 154.16766663, 153.42152592, 153.74532851,\n",
       "         149.79801504, 144.82542403, 143.97297358, 182.83401395,\n",
       "         172.85699807, 164.79525313]]])"
      ]
     },
     "execution_count": 112,
     "metadata": {},
     "output_type": "execute_result"
    }
   ],
   "execution_count": 112
  },
  {
   "metadata": {
    "ExecuteTime": {
     "end_time": "2024-10-17T17:34:19.273035Z",
     "start_time": "2024-10-17T17:34:19.270211Z"
    }
   },
   "cell_type": "code",
   "source": "bg[4]",
   "outputs": [
    {
     "data": {
      "text/plain": [
       "array([[[4.01668226, 3.30645667, 2.89525783, 2.64852557, 2.63574575,\n",
       "         2.69787235, 2.50307378, 3.54760299, 3.88180767, 4.39196404]]])"
      ]
     },
     "execution_count": 113,
     "metadata": {},
     "output_type": "execute_result"
    }
   ],
   "execution_count": 113
  },
  {
   "metadata": {
    "ExecuteTime": {
     "end_time": "2024-10-17T17:34:19.396116Z",
     "start_time": "2024-10-17T17:34:19.393293Z"
    }
   },
   "cell_type": "code",
   "source": "bg[5]",
   "outputs": [
    {
     "data": {
      "text/plain": [
       "array([[[4.11248924, 3.3712614 , 2.84103493, 2.68931611, 2.67913959,\n",
       "         2.69681563, 2.59705662, 3.73844243, 4.14096387, 4.62390654]]])"
      ]
     },
     "execution_count": 114,
     "metadata": {},
     "output_type": "execute_result"
    }
   ],
   "execution_count": 114
  },
  {
   "metadata": {
    "ExecuteTime": {
     "end_time": "2024-10-17T17:34:20.067829Z",
     "start_time": "2024-10-17T17:34:19.894841Z"
    }
   },
   "cell_type": "code",
   "source": "plot_final_mass_graph(bg[3], bg[4], bg[5], avg_sigmas, avg_t_sigmas, r_width, t_width, r_factor, t_factor, weighed, to_save=False, deg_lim=False, num_of_groups=num_of_groups, iteration=0)",
   "outputs": [
    {
     "data": {
      "text/plain": [
       "<Figure size 1000x1000 with 1 Axes>"
      ],
      "image/png": "[encoded data removed]"
     },
     "metadata": {},
     "output_type": "display_data"
    }
   ],
   "execution_count": 115
  },
  {
   "metadata": {},
   "cell_type": "code",
   "source": [
    "beta_sigms = np.array(beta_sigms)\n",
    "beta_sigms_yerr = np.array(beta_sigms_yerr)"
   ],
   "outputs": [],
   "execution_count": null
  },
  {
   "metadata": {},
   "cell_type": "code",
   "source": "",
   "outputs": [],
   "execution_count": null
  },
  {
   "metadata": {},
   "cell_type": "code",
   "source": "plot_final_graph(beta_sigms, beta_sigms_yerr, avg_sigmas, avg_t_sigmas, r_width, t_width, r_factor, t_factor, weighed, deg_lim=False, num_of_groups=num_of_groups, iteration=0)\n",
   "outputs": [],
   "execution_count": null
  },
  {
   "metadata": {},
   "cell_type": "code",
   "source": [
    "edf_d = edf[edf.theta_p <= 10. * np.pi / 180]\n",
    "edf_d = edf_d[edf_d.signal_counts >= 5]\n",
    "bdf_d = bdf[bdf.theta_p <= 10. * np.pi / 180]\n",
    "bdf_d = bdf_d[bdf_d.signal_counts >= 5]"
   ],
   "outputs": [],
   "execution_count": null
  },
  {
   "metadata": {},
   "cell_type": "code",
   "source": [
    "bg_deglim = betaGroupsRMS90(bdf_d, avg_sigmas=avg_sigmas, avg_t_sigmas=avg_t_sigmas, n=num_of_groups)\n",
    "beta_sigms_deglim.append(bg_deglim[0])\n",
    "beta_sigms_yerr_deglim.append(bg_deglim[2])"
   ],
   "outputs": [],
   "execution_count": null
  },
  {
   "metadata": {},
   "cell_type": "code",
   "source": "plot_final_mass_graph(bg_deglim[3], bg_deglim[4], bg_deglim[5], avg_sigmas, avg_t_sigmas, r_width, t_width, r_factor, t_factor, weighed, to_save=False, deg_lim=True, num_of_groups=num_of_groups, iteration=0)",
   "outputs": [],
   "execution_count": null
  },
  {
   "metadata": {},
   "cell_type": "code",
   "source": [
    "beta_sigms_deglim = np.array(beta_sigms_deglim)\n",
    "beta_sigms_yerr_deglim = np.array(beta_sigms_yerr_deglim)"
   ],
   "outputs": [],
   "execution_count": null
  },
  {
   "metadata": {},
   "cell_type": "code",
   "source": "plot_final_graph(beta_sigms_deglim, beta_sigms_yerr_deglim, avg_sigmas, avg_t_sigmas, r_width, t_width, r_factor, t_factor, weighed, deg_lim=True, num_of_groups=num_of_groups, iteration=0)",
   "outputs": [],
   "execution_count": null
  },
  {
   "metadata": {},
   "cell_type": "code",
   "source": "",
   "outputs": [],
   "execution_count": null
  },
  {
   "metadata": {},
   "cell_type": "code",
   "source": "bdf",
   "outputs": [],
   "execution_count": null
  },
  {
   "metadata": {},
   "cell_type": "code",
   "source": "ы",
   "outputs": [],
   "execution_count": null
  },
  {
   "metadata": {},
   "cell_type": "code",
   "source": [
    "plt.hist(bdf.beta, bins='auto')\n",
    "plt.xlabel('beta')\n",
    "plt.show()"
   ],
   "outputs": [],
   "execution_count": null
  },
  {
   "metadata": {},
   "cell_type": "code",
   "source": [
    "plt.subplot()\n",
    "plt.hist(bdf.cos_theta_p, bins='auto')\n",
    "plt.xlabel('cos_theta_p')\n",
    "plt.show()\n",
    "plt.subplot()\n",
    "plt.hist(bdf.theta_p, bins='auto')\n",
    "plt.xlabel('theta_p')\n",
    "plt.show()"
   ],
   "outputs": [],
   "execution_count": null
  },
  {
   "cell_type": "markdown",
   "source": [
    "primary particle - last with wv = 0"
   ],
   "metadata": {
    "collapsed": false
   }
  },
  {
   "metadata": {},
   "cell_type": "code",
   "source": "",
   "outputs": [],
   "execution_count": null
  },
  {
   "cell_type": "code",
   "source": [
    "# coordinates[:,3]\n",
    "lambdas = np.concatenate(coordinates[:,3])"
   ],
   "metadata": {
    "collapsed": false
   },
   "outputs": [],
   "execution_count": null
  },
  {
   "cell_type": "code",
   "source": [
    "lambdas.shape"
   ],
   "metadata": {
    "collapsed": false
   },
   "outputs": [],
   "execution_count": null
  },
  {
   "cell_type": "code",
   "source": [
    "lambdas.shape[0] / coordinates.shape[0]"
   ],
   "metadata": {
    "collapsed": false
   },
   "outputs": [],
   "execution_count": null
  },
  {
   "cell_type": "code",
   "source": [
    "plt.hist(lambdas, bins=PDE_wvs)\n",
    "plt.xlabel('Wavelength, nm')\n",
    "plt.title(f'Energy: 1500 MeV\\nMean: {round(lambdas.mean(), 1)} nm' + '\\n' + f'Std: {round(lambdas.std(), 1)} nm')\n",
    "plt.ylabel('Hits')\n",
    "# plt.xlim((200, 900))\n",
    "plt.show()"
   ],
   "metadata": {
    "collapsed": false
   },
   "outputs": [],
   "execution_count": null
  },
  {
   "cell_type": "code",
   "source": [
    "# delta_r = np.sqrt(x ** 2 + y ** 2 - 1000 ** 2)\n",
    "plt.scatter(coordinates[0][0], coordinates[0][2], c='red', s=3)\n",
    "# plt.plot(1000 * np.cos(np.linspace(0, 2*np.pi,1000)), 1000 * np.sin(np.linspace(0, 2*np.pi,1000)))\n",
    "# plt.xlim((-160, 50))\n",
    "# plt.ylim((-1100, -650))\n",
    "plt.xlabel('X, mm')\n",
    "plt.ylabel('Z, mm')\n",
    "# plt.title('p = 1500 MeV' + f'\\n{coordinates[0][0].shape[0]} Hits')\n",
    "plt.show()"
   ],
   "metadata": {
    "collapsed": false
   },
   "outputs": [],
   "execution_count": null
  },
  {
   "cell_type": "code",
   "source": [
    "print(coordinates[0][0].shape)"
   ],
   "metadata": {
    "collapsed": false
   },
   "outputs": [],
   "execution_count": null
  },
  {
   "cell_type": "code",
   "source": [
    "plt.scatter(PDE_wvs, PDEs)\n",
    "plt.show()"
   ],
   "metadata": {
    "collapsed": false
   },
   "outputs": [],
   "execution_count": null
  },
  {
   "cell_type": "code",
   "source": [],
   "metadata": {
    "collapsed": false
   },
   "outputs": [],
   "execution_count": null
  },
  {
   "cell_type": "code",
   "source": [
    "events_len = []\n",
    "for i in range(coordinates.shape[0]):\n",
    "    events_len.append(len(coordinates[i][0]))\n",
    "events_len = np.array(events_len)\n",
    "plt.hist(events_len, bins='auto')\n",
    "plt.xlabel('Hits in event')\n",
    "plt.title(f'Energy: 1500 MeV\\nMean: {round(events_len.mean(), 1)}' + '\\n' + f'Std: {round(events_len.std(), 1)}')\n",
    "plt.ylabel('Events')\n",
    "plt.show()"
   ],
   "metadata": {
    "collapsed": false
   },
   "outputs": [],
   "execution_count": null
  },
  {
   "cell_type": "markdown",
   "source": [
    "# End of main"
   ],
   "metadata": {
    "collapsed": false
   }
  },
  {
   "metadata": {},
   "cell_type": "code",
   "source": [
    "n = np.array(file_prototype['info_sim;1']['info_rad']['m_layers']['m_layers.first'].array())[0]\n",
    "n\n",
    "l = np.array(file_prototype['info_sim;1']['info_rad']['m_layers']['m_layers.second'].array())[0]\n",
    "l\n",
    "cos = 1 / n\n",
    "cos\n",
    "theta = np.arccos(cos)\n",
    "theta\n",
    "tg = np.tan(theta)\n",
    "tg\n",
    "2 * (tg[3] / tg[2] * (200 + l[3] / 2) - 200 - l[3])\n",
    "l[3] * (1 + l[3] / 200)\n",
    "l * tg"
   ],
   "outputs": [],
   "execution_count": null
  },
  {
   "metadata": {},
   "cell_type": "code",
   "source": [
    "d = 205\n",
    "L = 35\n",
    "W = 2.65 # 2.65\n",
    "l_calc = np.array((-(d * (d + L) ** 3) ** (1/4) + d + L, (d * (d + L) ** 3) ** (1/4) * (-(d * (d + L) ** 3) ** (1/4) + d + L) / (d + L), (d * (d + L))  * (-(d * (d + L) ** 3) ** (1/4) + d + L) / ((d * (d + L) ** 3) ** (1/2)), -(d ** 3 + 2 * d * d * L + d * L * L - (d * (d + L) ** 3) ** (3/4)) / (d + L) ** 2))\n",
    "l_calc"
   ],
   "outputs": [],
   "execution_count": null
  },
  {
   "metadata": {},
   "cell_type": "code",
   "source": [
    "n_calc = 1 / np.cos(np.arctan(W / l_calc))\n",
    "n_calc"
   ],
   "outputs": [],
   "execution_count": null
  },
  {
   "metadata": {},
   "cell_type": "code",
   "source": [
    "with open(r'data\\rindex.txt', 'r') as rindex:\n",
    "    aerogel_1050 = np.array(list(map(lambda y: np.array([float(y[0]), float(y[1][:-2])]), list(map(lambda x: x.split('*eV '), rindex.readlines())))))\n",
    "print(aerogel_1050[39])\n",
    "aerogel_1040 = np.array([aerogel_1050[:, 0], aerogel_1050[:, 1] * n_calc[0] / aerogel_1050[39][1]])\n",
    "aerogel_1043 = np.array([aerogel_1050[:, 0], aerogel_1050[:, 1] * n_calc[1] / aerogel_1050[39][1]])\n",
    "aerogel_1047 = np.array([aerogel_1050[:, 0], aerogel_1050[:, 1] * n_calc[2] / aerogel_1050[39][1]])\n",
    "aerogel_10506 = np.array([aerogel_1050[:, 0], aerogel_1050[:, 1] * n_calc[3] / aerogel_1050[39][1]])\n",
    "aerogel_1040\n",
    "# aerogel_10506\n",
    "plt.scatter(aerogel_1050[:,0], aerogel_1050[:,1], label='aerogel_1050')\n",
    "plt.scatter(aerogel_1040[0], aerogel_1040[1], label='aerogel_1040')\n",
    "plt.scatter(aerogel_1043[0], aerogel_1043[1], label='aerogel_1043')\n",
    "plt.scatter(aerogel_1047[0], aerogel_1047[1], label='aerogel_1047')\n",
    "plt.scatter(aerogel_10506[0], aerogel_10506[1], label='aerogel_10506')\n",
    "plt.xlabel('Energy, eV')\n",
    "plt.ylabel('n')\n",
    "plt.legend()\n",
    "plt.show()"
   ],
   "outputs": [],
   "execution_count": null
  },
  {
   "metadata": {},
   "cell_type": "code",
   "source": [
    "text_1040 = text_1043 = text_1047 = text_10506 = ''\n",
    "for i in range(aerogel_1040.shape[1]):\n",
    "    text_1040 += f'    {round(aerogel_1040[0][i], 5)}*eV {round(aerogel_1040[1][i], 5)}\\n'\n",
    "    text_1043 += f'    {round(aerogel_1043[0][i], 5)}*eV {round(aerogel_1043[1][i], 5)}\\n'\n",
    "    text_1047 += f'    {round(aerogel_1047[0][i], 5)}*eV {round(aerogel_1047[1][i], 5)}\\n'\n",
    "    text_10506 += f'    {round(aerogel_10506[0][i], 5)}*eV {round(aerogel_10506[1][i], 5)}\\n'\n",
    "with open(r'data\\rindex_1040.txt', 'w') as rindex:\n",
    "    rindex.write(text_1040)\n",
    "with open(r'data\\rindex_1043.txt', 'w') as rindex:\n",
    "    rindex.write(text_1043)\n",
    "with open(r'data\\rindex_1047.txt', 'w') as rindex:\n",
    "    rindex.write(text_1047)\n",
    "with open(r'data\\rindex_10506.txt', 'w') as rindex:\n",
    "    rindex.write(text_10506)"
   ],
   "outputs": [],
   "execution_count": null
  }
 ],
 "metadata": {
  "kernelspec": {
   "display_name": "Python 3",
   "language": "python",
   "name": "python3"
  },
  "language_info": {
   "codemirror_mode": {
    "name": "ipython",
    "version": 2
   },
   "file_extension": ".py",
   "mimetype": "text/x-python",
   "name": "python",
   "nbconvert_exporter": "python",
   "pygments_lexer": "ipython2",
   "version": "2.7.6"
  }
 },
 "nbformat": 4,
 "nbformat_minor": 0
}
