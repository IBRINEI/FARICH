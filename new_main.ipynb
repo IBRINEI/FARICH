{
 "cells": [
  {
   "cell_type": "code",
   "metadata": {
    "collapsed": true,
    "ExecuteTime": {
     "end_time": "2024-10-01T15:09:09.948066Z",
     "start_time": "2024-10-01T15:09:09.146618Z"
    }
   },
   "source": [
    "import os, sys, time\n",
    "import uproot3 as uproot\n",
    "import numpy as np\n",
    "import pandas as pd\n",
    "import matplotlib.pyplot as plt\n",
    "from numbers import Integral\n",
    "from scipy.optimize import curve_fit\n",
    "from sklearn.linear_model import LinearRegression\n",
    "from scipy.stats import norm, truncnorm, foldnorm\n",
    "import warnings\n",
    "from time import perf_counter\n",
    "from scipy.spatial.distance import cdist\n",
    "from sklearn.decomposition import PCA\n",
    "\n",
    "\n",
    "from farich_functions import *"
   ],
   "outputs": [],
   "execution_count": 1
  },
  {
   "cell_type": "code",
   "source": [
    "# %load_ext autoreload\n",
    "# %autoreload 2"
   ],
   "metadata": {
    "collapsed": false,
    "ExecuteTime": {
     "end_time": "2024-10-01T15:09:09.950683Z",
     "start_time": "2024-10-01T15:09:09.948066Z"
    }
   },
   "outputs": [],
   "execution_count": 2
  },
  {
   "cell_type": "code",
   "source": "datadir = 'data'",
   "metadata": {
    "collapsed": false,
    "ExecuteTime": {
     "end_time": "2024-10-01T15:09:09.962137Z",
     "start_time": "2024-10-01T15:09:09.950683Z"
    }
   },
   "outputs": [],
   "execution_count": 3
  },
  {
   "cell_type": "code",
   "source": [
    "# filepath = os.path.join(datadir, 'fullsim_optical_1000_pi_1500_no.root')\n",
    "# filepath_fixed = os.path.join(datadir, 'fullsim_optical_1000_pi_1500_fixed.root')\n",
    "# filepath_fixed = os.path.join(datadir, 'fullsim_optical_10000_pi_500_1500_FARICH_35mm_no.root')\n",
    "filepath_fixed = os.path.join(datadir, 'fullsim_optical_10000_pi_500_1500_FARICH_35mm_no_no_trackers.root')\n",
    "filepath_low_energies = os.path.join(datadir, 'fullsim_optical_10000_pi_500_800_FARICH_35mm_no_no_trackers.root')\n",
    "# filepath_monodir = os.path.join(datadir, 'fullsim_optical_1000_pi_1500_monodir_no.root')\n",
    "filepath_monodir = os.path.join(datadir, 'fullsim_optical_10000_pi_1500_monodir_FARICH_no.root')\n",
    "\n",
    "# filepath_2pi = os.path.join(datadir, 'fullsim_optical_1000_pi_1500_2pi_phi.root')\n",
    "# filepath_prototype = os.path.join(datadir, 'farichsim_10kevt.root')\n",
    "# filepath_new = os.path.join(datadir, 'fullsim_optical_1000_pi_1500_spectre_test_3.root')"
   ],
   "metadata": {
    "collapsed": false,
    "ExecuteTime": {
     "end_time": "2024-10-01T15:09:09.973713Z",
     "start_time": "2024-10-01T15:09:09.962137Z"
    }
   },
   "outputs": [],
   "execution_count": 4
  },
  {
   "cell_type": "code",
   "source": [
    "# file = uproot.open(filepath)\n",
    "file = uproot.open(filepath_fixed)\n",
    "file_low= uproot.open(filepath_low_energies)\n",
    "# file = uproot.open(filepath_monodir)\n",
    "# file_2pi = uproot.open(filepath_2pi)\n",
    "# file_prototype = uproot.open(filepath_prototype)\n",
    "# file_new = uproot.open(filepath_new)"
   ],
   "metadata": {
    "collapsed": false,
    "ExecuteTime": {
     "end_time": "2024-10-01T15:09:10.012456Z",
     "start_time": "2024-10-01T15:09:09.974922Z"
    }
   },
   "outputs": [],
   "execution_count": 5
  },
  {
   "cell_type": "code",
   "source": [
    "plt.style.use('default')"
   ],
   "metadata": {
    "collapsed": false,
    "ExecuteTime": {
     "end_time": "2024-10-01T15:09:10.015568Z",
     "start_time": "2024-10-01T15:09:10.012456Z"
    }
   },
   "outputs": [],
   "execution_count": 6
  },
  {
   "metadata": {
    "ExecuteTime": {
     "end_time": "2024-10-01T15:09:10.017223Z",
     "start_time": "2024-10-01T15:09:10.015568Z"
    }
   },
   "cell_type": "code",
   "source": "",
   "outputs": [],
   "execution_count": 6
  },
  {
   "metadata": {
    "ExecuteTime": {
     "end_time": "2024-10-01T15:09:10.026378Z",
     "start_time": "2024-10-01T15:09:10.017223Z"
    }
   },
   "cell_type": "code",
   "source": "# plot_cyl(file, transposed=True)",
   "outputs": [],
   "execution_count": 7
  },
  {
   "cell_type": "code",
   "source": "# np.concatenate(np.array(file['events;1']['FarichBarrelG4Hits.postStepPosition.x'].array())).shape",
   "metadata": {
    "collapsed": false,
    "ExecuteTime": {
     "end_time": "2024-10-01T15:09:10.037847Z",
     "start_time": "2024-10-01T15:09:10.026378Z"
    }
   },
   "outputs": [],
   "execution_count": 8
  },
  {
   "cell_type": "markdown",
   "source": [
    "# Main (tmp obv)"
   ],
   "metadata": {
    "collapsed": false
   }
  },
  {
   "metadata": {
    "ExecuteTime": {
     "end_time": "2024-10-01T15:09:10.049973Z",
     "start_time": "2024-10-01T15:09:10.037847Z"
    }
   },
   "cell_type": "code",
   "source": [
    "def init_sipm_eff():\n",
    "    pdes_tmp = pd.read_csv('PDE.csv', sep=';', names=['A'])\n",
    "    t1 = []\n",
    "    t2 = []\n",
    "    for inedx, row in pdes_tmp.iterrows():\n",
    "        t1.append(float(row['A'].split(';')[0].replace(',', '.')))\n",
    "        t2.append(float(row['A'].split(';')[1].replace(',', '.')))\n",
    "    PDE_wvs = np.linspace(200, 900, 128)\n",
    "    PDEs = np.interp(PDE_wvs, t1, t2, left=0, right=0)\n",
    "    sipm_eff = fix_PDE_plot(PDEs, PDE_wvs)\n",
    "    return sipm_eff, PDE_wvs"
   ],
   "outputs": [],
   "execution_count": 9
  },
  {
   "cell_type": "code",
   "source": "sipm_eff, PDE_wvs = init_sipm_eff()",
   "metadata": {
    "collapsed": false,
    "ExecuteTime": {
     "end_time": "2024-10-01T15:09:10.063992Z",
     "start_time": "2024-10-01T15:09:10.049973Z"
    }
   },
   "outputs": [],
   "execution_count": 10
  },
  {
   "metadata": {
    "ExecuteTime": {
     "end_time": "2024-10-01T15:09:10.073831Z",
     "start_time": "2024-10-01T15:09:10.063992Z"
    }
   },
   "cell_type": "code",
   "source": "max(sipm_eff.values())",
   "outputs": [
    {
     "data": {
      "text/plain": [
       "0.55414"
      ]
     },
     "execution_count": 11,
     "metadata": {},
     "output_type": "execute_result"
    }
   ],
   "execution_count": 11
  },
  {
   "metadata": {},
   "cell_type": "markdown",
   "source": "максисмальное значение в старом моделировании - 38%"
  },
  {
   "metadata": {
    "ExecuteTime": {
     "end_time": "2024-10-01T15:09:10.085050Z",
     "start_time": "2024-10-01T15:09:10.073831Z"
    }
   },
   "cell_type": "code",
   "source": [
    "for key in sipm_eff.keys():\n",
    "    sipm_eff[key] = sipm_eff[key] / 0.55414 * 0.38"
   ],
   "outputs": [],
   "execution_count": 12
  },
  {
   "metadata": {
    "ExecuteTime": {
     "end_time": "2024-10-01T15:09:10.096921Z",
     "start_time": "2024-10-01T15:09:10.086054Z"
    }
   },
   "cell_type": "code",
   "source": "max(sipm_eff.values())",
   "outputs": [
    {
     "data": {
      "text/plain": [
       "0.38"
      ]
     },
     "execution_count": 13,
     "metadata": {},
     "output_type": "execute_result"
    }
   ],
   "execution_count": 13
  },
  {
   "cell_type": "code",
   "source": [
    "x_grid = np.arange(-3*norm_r * np.sin(np.pi / 27), 3*norm_r * np.sin(np.pi / 27), SIPM_CELL_SIZE)\n",
    "z_grid = np.arange(-1400, 1400, SIPM_CELL_SIZE)\n",
    "grid = (x_grid, z_grid, PDE_wvs)"
   ],
   "metadata": {
    "collapsed": false,
    "ExecuteTime": {
     "end_time": "2024-10-01T15:09:10.106969Z",
     "start_time": "2024-10-01T15:09:10.096921Z"
    }
   },
   "outputs": [],
   "execution_count": 14
  },
  {
   "metadata": {
    "ExecuteTime": {
     "end_time": "2024-10-01T15:09:10.109125Z",
     "start_time": "2024-10-01T15:09:10.106969Z"
    }
   },
   "cell_type": "code",
   "source": "",
   "outputs": [],
   "execution_count": 14
  },
  {
   "metadata": {
    "ExecuteTime": {
     "end_time": "2024-10-01T15:09:10.118650Z",
     "start_time": "2024-10-01T15:09:10.109125Z"
    }
   },
   "cell_type": "code",
   "source": [
    "def init_coords(file, MAXIMUM_EVENT_GROUP_NUMBER):\n",
    "    x = np.array(file[f'events;{MAXIMUM_EVENT_GROUP_NUMBER}']['FarichBarrelG4Hits.postStepPosition.x'].array())\n",
    "    y = np.array(file[f'events;{MAXIMUM_EVENT_GROUP_NUMBER}']['FarichBarrelG4Hits.postStepPosition.y'].array())\n",
    "    z = np.array(file[f'events;{MAXIMUM_EVENT_GROUP_NUMBER}']['FarichBarrelG4Hits.postStepPosition.z'].array())\n",
    "    wvs = 1239.841 / np.array(file[f'events;{MAXIMUM_EVENT_GROUP_NUMBER}']['FarichBarrelG4Hits.energy'].array()) * 1e-9\n",
    "    x3 = np.array(file[f'events;{MAXIMUM_EVENT_GROUP_NUMBER}']['allGenParticles.core.p4.px'].array())\n",
    "    y3 = np.array(file[f'events;{MAXIMUM_EVENT_GROUP_NUMBER}']['allGenParticles.core.p4.py'].array())\n",
    "    z3 = np.array(file[f'events;{MAXIMUM_EVENT_GROUP_NUMBER}']['allGenParticles.core.p4.pz'].array())\n",
    "    true_direction_coordinates = np.column_stack((x3, y3, z3))\n",
    "    for i in range(len(wvs)):\n",
    "        wvs[i] = lin_move_to_grid(wvs[i], grid[2])\n",
    "    coordinates = np.column_stack((x, y, z, wvs))\n",
    "    return coordinates, true_direction_coordinates"
   ],
   "outputs": [],
   "execution_count": 15
  },
  {
   "metadata": {
    "ExecuteTime": {
     "end_time": "2024-10-01T15:09:10.129705Z",
     "start_time": "2024-10-01T15:09:10.118650Z"
    }
   },
   "cell_type": "code",
   "source": [
    "MAXIMUM_EVENT_GROUP_NUMBER = 9 # 13\n",
    "MAXIMUM_EVENT_GROUP_NUMBER_LOW = 6"
   ],
   "outputs": [],
   "execution_count": 16
  },
  {
   "metadata": {
    "ExecuteTime": {
     "end_time": "2024-10-01T15:09:11.969862Z",
     "start_time": "2024-10-01T15:09:10.129705Z"
    }
   },
   "cell_type": "code",
   "source": "coordinates, true_direction_coordinates = init_coords(file, MAXIMUM_EVENT_GROUP_NUMBER)",
   "outputs": [],
   "execution_count": 17
  },
  {
   "metadata": {
    "ExecuteTime": {
     "end_time": "2024-10-01T15:09:13.243646Z",
     "start_time": "2024-10-01T15:09:11.969862Z"
    }
   },
   "cell_type": "code",
   "source": "coordinates_low, true_direction_coordinates_low = init_coords(file_low, MAXIMUM_EVENT_GROUP_NUMBER_LOW)",
   "outputs": [],
   "execution_count": 18
  },
  {
   "metadata": {
    "ExecuteTime": {
     "end_time": "2024-10-01T15:09:13.246629Z",
     "start_time": "2024-10-01T15:09:13.243646Z"
    }
   },
   "cell_type": "code",
   "source": [
    "coordinates = np.concatenate((coordinates, coordinates_low), axis=0)\n",
    "true_direction_coordinates = np.concatenate((true_direction_coordinates, true_direction_coordinates_low), axis=0)"
   ],
   "outputs": [],
   "execution_count": 19
  },
  {
   "cell_type": "code",
   "source": [
    "# x = np.array(file[f'events;{MAXIMUM_EVENT_GROUP_NUMBER}']['FarichBarrelG4Hits.postStepPosition.x'].array())\n",
    "# y = np.array(file[f'events;{MAXIMUM_EVENT_GROUP_NUMBER}']['FarichBarrelG4Hits.postStepPosition.y'].array())\n",
    "# z = np.array(file[f'events;{MAXIMUM_EVENT_GROUP_NUMBER}']['FarichBarrelG4Hits.postStepPosition.z'].array())\n",
    "# wvs = 1239.841 / np.array(file[f'events;{MAXIMUM_EVENT_GROUP_NUMBER}']['FarichBarrelG4Hits.energy'].array()) * 1e-9"
   ],
   "metadata": {
    "collapsed": false,
    "ExecuteTime": {
     "end_time": "2024-10-01T15:09:13.258Z",
     "start_time": "2024-10-01T15:09:13.246629Z"
    }
   },
   "outputs": [],
   "execution_count": 20
  },
  {
   "cell_type": "code",
   "source": [
    "# x1 = np.array(file['events;2']['DriftChamberG4Hits.postStepPosition.x'].array())\n",
    "# y1 = np.array(file['events;2']['DriftChamberG4Hits.postStepPosition.y'].array())\n",
    "# z1 = np.array(file['events;2']['DriftChamberG4Hits.postStepPosition.z'].array())\n",
    "# drift_chamber_coordinates = np.column_stack((x1, y1, z1))"
   ],
   "metadata": {
    "collapsed": false,
    "ExecuteTime": {
     "end_time": "2024-10-01T15:09:13.269783Z",
     "start_time": "2024-10-01T15:09:13.258Z"
    }
   },
   "outputs": [],
   "execution_count": 21
  },
  {
   "metadata": {
    "ExecuteTime": {
     "end_time": "2024-10-01T15:09:13.281187Z",
     "start_time": "2024-10-01T15:09:13.270826Z"
    }
   },
   "cell_type": "code",
   "source": [
    "# x2 = np.array(file['events;2']['TPCG4Hits.postStepPosition.x'].array())\n",
    "# y2 = np.array(file['events;2']['TPCG4Hits.postStepPosition.y'].array())\n",
    "# z2 = np.array(file['events;2']['TPCG4Hits.postStepPosition.z'].array())\n",
    "# tpc_coordinates = np.column_stack((x2, y2, z2))"
   ],
   "outputs": [],
   "execution_count": 22
  },
  {
   "metadata": {
    "ExecuteTime": {
     "end_time": "2024-10-01T15:09:13.292130Z",
     "start_time": "2024-10-01T15:09:13.281187Z"
    }
   },
   "cell_type": "code",
   "source": [
    "# x3 = np.array(file[f'events;{MAXIMUM_EVENT_GROUP_NUMBER}']['allGenParticles.core.p4.px'].array())\n",
    "# y3 = np.array(file[f'events;{MAXIMUM_EVENT_GROUP_NUMBER}']['allGenParticles.core.p4.py'].array())\n",
    "# z3 = np.array(file[f'events;{MAXIMUM_EVENT_GROUP_NUMBER}']['allGenParticles.core.p4.pz'].array())\n",
    "# true_direction_coordinates = np.column_stack((x3, y3, z3))"
   ],
   "outputs": [],
   "execution_count": 23
  },
  {
   "cell_type": "code",
   "source": [
    "# for i in range(len(wvs)):\n",
    "#     wvs[i] = lin_move_to_grid(wvs[i], grid[2])"
   ],
   "metadata": {
    "collapsed": false,
    "ExecuteTime": {
     "end_time": "2024-10-01T15:09:13.302902Z",
     "start_time": "2024-10-01T15:09:13.292130Z"
    }
   },
   "outputs": [],
   "execution_count": 24
  },
  {
   "metadata": {
    "ExecuteTime": {
     "end_time": "2024-10-01T15:09:13.304798Z",
     "start_time": "2024-10-01T15:09:13.302902Z"
    }
   },
   "cell_type": "code",
   "source": "",
   "outputs": [],
   "execution_count": 24
  },
  {
   "cell_type": "code",
   "source": [
    "# coordinates = np.column_stack((x, y, z, wvs))\n",
    "\n",
    "coordinates.shape"
   ],
   "metadata": {
    "collapsed": false,
    "ExecuteTime": {
     "end_time": "2024-10-01T15:09:13.314709Z",
     "start_time": "2024-10-01T15:09:13.304798Z"
    }
   },
   "outputs": [
    {
     "data": {
      "text/plain": [
       "(19996, 4)"
      ]
     },
     "execution_count": 25,
     "metadata": {},
     "output_type": "execute_result"
    }
   ],
   "execution_count": 25
  },
  {
   "metadata": {
    "ExecuteTime": {
     "end_time": "2024-10-01T15:09:13.316703Z",
     "start_time": "2024-10-01T15:09:13.314709Z"
    }
   },
   "cell_type": "code",
   "source": "",
   "outputs": [],
   "execution_count": 25
  },
  {
   "cell_type": "code",
   "source": [
    "idx_to_drop = []\n",
    "for i in range(coordinates.shape[0]):\n",
    "    if coordinates[i][0].shape[0] == 0:\n",
    "        idx_to_drop.append(i)"
   ],
   "metadata": {
    "collapsed": false,
    "ExecuteTime": {
     "end_time": "2024-10-01T15:09:13.328180Z",
     "start_time": "2024-10-01T15:09:13.316703Z"
    }
   },
   "outputs": [],
   "execution_count": 26
  },
  {
   "cell_type": "code",
   "source": [
    "coordinates = np.delete(coordinates, idx_to_drop, axis=0)\n",
    "# drift_chamber_coordinates = np.delete(drift_chamber_coordinates, idx_to_drop, axis=0)\n",
    "# tpc_coordinates = np.delete(tpc_coordinates, idx_to_drop, axis=0)\n",
    "true_direction_coordinates = np.delete(true_direction_coordinates, idx_to_drop, axis=0)\n",
    "print(coordinates.shape)\n",
    "# print(drift_chamber_coordinates.shape)\n",
    "# print(tpc_coordinates.shape)\n",
    "print(true_direction_coordinates.shape)"
   ],
   "metadata": {
    "collapsed": false,
    "ExecuteTime": {
     "end_time": "2024-10-01T15:09:13.340278Z",
     "start_time": "2024-10-01T15:09:13.328180Z"
    }
   },
   "outputs": [
    {
     "name": "stdout",
     "output_type": "stream",
     "text": [
      "(19987, 4)\n",
      "(19987, 3)\n"
     ]
    }
   ],
   "execution_count": 27
  },
  {
   "metadata": {
    "ExecuteTime": {
     "end_time": "2024-10-01T15:09:13.350624Z",
     "start_time": "2024-10-01T15:09:13.340278Z"
    }
   },
   "cell_type": "code",
   "source": [
    "# ev = 123\n",
    "# plot_event(coordinates[ev], None, None, np.stack([np.concatenate(true_direction_coordinates[ev]), np.concatenate(true_direction_coordinates[ev] * 3000)], axis=1))\n",
    "# То есть есть события, когда направление первичной частицы не попадает в кольцо. Почему?\n"
   ],
   "outputs": [],
   "execution_count": 28
  },
  {
   "cell_type": "code",
   "source": "sipm_sim(coordinates, sipm_eff)",
   "metadata": {
    "collapsed": false,
    "ExecuteTime": {
     "end_time": "2024-10-01T15:09:14.222889Z",
     "start_time": "2024-10-01T15:09:13.350624Z"
    }
   },
   "outputs": [],
   "execution_count": 29
  },
  {
   "cell_type": "code",
   "source": "# plot_cyl(file, coordinates, True)",
   "metadata": {
    "collapsed": false,
    "ExecuteTime": {
     "end_time": "2024-10-01T15:09:14.225124Z",
     "start_time": "2024-10-01T15:09:14.222889Z"
    }
   },
   "outputs": [],
   "execution_count": 30
  },
  {
   "cell_type": "code",
   "source": [
    "idx_to_drop = []\n",
    "for i in range(coordinates.shape[0]):\n",
    "    if coordinates[i][0].shape[0] == 0:\n",
    "        idx_to_drop.append(i)\n",
    "coordinates = np.delete(coordinates, idx_to_drop, axis=0)\n",
    "# drift_chamber_coordinates = np.delete(drift_chamber_coordinates, idx_to_drop, axis=0)\n",
    "# tpc_coordinates = np.delete(tpc_coordinates, idx_to_drop, axis=0)\n",
    "true_direction_coordinates = np.delete(true_direction_coordinates, idx_to_drop, axis=0)\n",
    "\n",
    "print(coordinates.shape)\n",
    "# print(drift_chamber_coordinates.shape)\n",
    "# print(tpc_coordinates.shape)\n",
    "print(true_direction_coordinates.shape)"
   ],
   "metadata": {
    "collapsed": false,
    "ExecuteTime": {
     "end_time": "2024-10-01T15:09:14.241548Z",
     "start_time": "2024-10-01T15:09:14.225124Z"
    }
   },
   "outputs": [
    {
     "name": "stdout",
     "output_type": "stream",
     "text": [
      "(19883, 4)\n",
      "(19883, 3)\n"
     ]
    }
   ],
   "execution_count": 31
  },
  {
   "metadata": {
    "ExecuteTime": {
     "end_time": "2024-10-01T15:09:14.764218Z",
     "start_time": "2024-10-01T15:09:14.241548Z"
    }
   },
   "cell_type": "code",
   "source": "main_angles = rotate_lines(true_direction_coordinates)",
   "outputs": [],
   "execution_count": 32
  },
  {
   "metadata": {
    "ExecuteTime": {
     "end_time": "2024-10-01T15:09:18.102264Z",
     "start_time": "2024-10-01T15:09:14.764218Z"
    }
   },
   "cell_type": "code",
   "source": "intersections = find_intersections(true_direction_coordinates)",
   "outputs": [],
   "execution_count": 33
  },
  {
   "metadata": {
    "ExecuteTime": {
     "end_time": "2024-10-01T15:09:18.167491Z",
     "start_time": "2024-10-01T15:09:18.102264Z"
    }
   },
   "cell_type": "code",
   "source": [
    "\n",
    "num = 30 # unturned events\n",
    "# plt.scatter(rotate_event(coordinates[0], main_angles[0])[:,0], rotate_event(coordinates[0], main_angles[0])[:,2])\n",
    "plt.scatter(coordinates[num][0], coordinates[num][2])\n",
    "plt.scatter(intersections[num][0], intersections[num][2])\n",
    "print(true_direction_coordinates[num])\n",
    "plt.show()"
   ],
   "outputs": [
    {
     "name": "stdout",
     "output_type": "stream",
     "text": [
      "[array([0.00329075]) array([1.06504879]) array([0.96075904])]\n"
     ]
    },
    {
     "data": {
      "text/plain": [
       "<Figure size 640x480 with 1 Axes>"
      ],
      "image/png": "[encoded data removed]"
     },
     "metadata": {},
     "output_type": "display_data"
    }
   ],
   "execution_count": 34
  },
  {
   "metadata": {
    "ExecuteTime": {
     "end_time": "2024-10-01T15:09:18.169430Z",
     "start_time": "2024-10-01T15:09:18.167491Z"
    }
   },
   "cell_type": "code",
   "source": "",
   "outputs": [],
   "execution_count": 34
  },
  {
   "metadata": {
    "ExecuteTime": {
     "end_time": "2024-10-01T15:09:18.171283Z",
     "start_time": "2024-10-01T15:09:18.169430Z"
    }
   },
   "cell_type": "code",
   "source": "# plot_event(coordinates[num], drift_chamber_coordinates[num],tpc_coordinates[num] , transposed=True)",
   "outputs": [],
   "execution_count": 35
  },
  {
   "cell_type": "code",
   "source": [
    "rotate_events(coordinates, main_angles)"
   ],
   "metadata": {
    "collapsed": false,
    "ExecuteTime": {
     "end_time": "2024-10-01T15:09:19.117211Z",
     "start_time": "2024-10-01T15:09:18.171283Z"
    }
   },
   "outputs": [],
   "execution_count": 36
  },
  {
   "cell_type": "code",
   "source": "# plot_cyl(file, coordinates)",
   "metadata": {
    "collapsed": false,
    "ExecuteTime": {
     "end_time": "2024-10-01T15:09:19.119533Z",
     "start_time": "2024-10-01T15:09:19.117211Z"
    }
   },
   "outputs": [],
   "execution_count": 37
  },
  {
   "cell_type": "code",
   "source": [
    "move_events_to_grid(coordinates, grid)"
   ],
   "metadata": {
    "collapsed": false,
    "ExecuteTime": {
     "end_time": "2024-10-01T15:09:22.871704Z",
     "start_time": "2024-10-01T15:09:19.119533Z"
    }
   },
   "outputs": [],
   "execution_count": 38
  },
  {
   "cell_type": "code",
   "source": "# plot_cyl(file, coordinates, True)",
   "metadata": {
    "collapsed": false,
    "ExecuteTime": {
     "end_time": "2024-10-01T15:09:22.873843Z",
     "start_time": "2024-10-01T15:09:22.871704Z"
    }
   },
   "outputs": [],
   "execution_count": 39
  },
  {
   "cell_type": "code",
   "source": [
    "# num = 2\n",
    "# # plt.scatter(rotate_event(coordinates[0], main_angles[0])[:,0], rotate_event(coordinates[0], main_angles[0])[:,2])\n",
    "# plt.scatter(coordinates[num][0], coordinates[num][2])\n",
    "# plt.scatter(intersections[num][0], intersections[num][2])\n",
    "# plt.show()"
   ],
   "metadata": {
    "collapsed": false,
    "ExecuteTime": {
     "end_time": "2024-10-01T15:09:22.884973Z",
     "start_time": "2024-10-01T15:09:22.873843Z"
    }
   },
   "outputs": [],
   "execution_count": 40
  },
  {
   "cell_type": "code",
   "source": [
    "r_c = (coordinates[:,0] - intersections[:,0]) ** 2 + (coordinates[:,1] - intersections[:,1]) ** 2"
   ],
   "metadata": {
    "collapsed": false,
    "ExecuteTime": {
     "end_time": "2024-10-01T15:09:22.957608Z",
     "start_time": "2024-10-01T15:09:22.884973Z"
    }
   },
   "outputs": [],
   "execution_count": 41
  },
  {
   "metadata": {
    "ExecuteTime": {
     "end_time": "2024-10-01T15:09:22.963181Z",
     "start_time": "2024-10-01T15:09:22.957608Z"
    }
   },
   "cell_type": "code",
   "source": "repeat_nums = np.array([coord[0].shape[0] for coord in coordinates])",
   "outputs": [],
   "execution_count": 42
  },
  {
   "cell_type": "code",
   "source": [
    "edf = pd.DataFrame(coordinates, columns=['x_c', 'y_c', 'z_c', 'wv_c'])\n",
    "edf['r_c'] = r_c"
   ],
   "metadata": {
    "collapsed": false,
    "ExecuteTime": {
     "end_time": "2024-10-01T15:09:22.975508Z",
     "start_time": "2024-10-01T15:09:22.963181Z"
    }
   },
   "outputs": [],
   "execution_count": 43
  },
  {
   "cell_type": "code",
   "source": [
    "unraveled_data = {col: [] for col in edf.columns}\n",
    "row_indices = []\n",
    "\n",
    "# Iterate over the DataFrame and unravel the arrays\n",
    "for i, row in edf.iterrows():\n",
    "    max_length = max(len(row[col]) for col in edf.columns)\n",
    "    for k in range(max_length):\n",
    "        row_indices.append((i, k))\n",
    "        for col in edf.columns:\n",
    "            if k < len(row[col]):\n",
    "                unraveled_data[col].append(row[col][k])\n",
    "            else:\n",
    "                unraveled_data[col].append(np.nan)  # Handle cases where arrays are of different lengths\n",
    "\n",
    "# Create a new DataFrame from the unraveled data\n",
    "unraveled_df = pd.DataFrame(unraveled_data)\n",
    "\n",
    "# Create a MultiIndex for the rows\n",
    "multi_index = pd.MultiIndex.from_tuples(row_indices, names=['entry', 'subentry'])\n",
    "unraveled_df.index = multi_index\n"
   ],
   "metadata": {
    "collapsed": false,
    "ExecuteTime": {
     "end_time": "2024-10-01T15:09:29.810167Z",
     "start_time": "2024-10-01T15:09:22.975508Z"
    }
   },
   "outputs": [],
   "execution_count": 44
  },
  {
   "cell_type": "code",
   "source": [
    "unraveled_df['r_c'] = np.sqrt(unraveled_df.r_c)"
   ],
   "metadata": {
    "collapsed": false,
    "ExecuteTime": {
     "end_time": "2024-10-01T15:09:29.814222Z",
     "start_time": "2024-10-01T15:09:29.810167Z"
    }
   },
   "outputs": [],
   "execution_count": 45
  },
  {
   "cell_type": "code",
   "source": [
    "edf = unraveled_df"
   ],
   "metadata": {
    "collapsed": false,
    "ExecuteTime": {
     "end_time": "2024-10-01T15:09:29.824602Z",
     "start_time": "2024-10-01T15:09:29.814222Z"
    }
   },
   "outputs": [],
   "execution_count": 46
  },
  {
   "metadata": {
    "ExecuteTime": {
     "end_time": "2024-10-01T15:09:29.841807Z",
     "start_time": "2024-10-01T15:09:29.828063Z"
    }
   },
   "cell_type": "code",
   "source": [
    "edf['x_i'] = np.repeat(intersections[:,0], repeat_nums, axis=0)\n",
    "edf['z_i'] = np.repeat(intersections[:,2], repeat_nums, axis=0)"
   ],
   "outputs": [],
   "execution_count": 47
  },
  {
   "metadata": {
    "ExecuteTime": {
     "end_time": "2024-10-01T15:09:29.896685Z",
     "start_time": "2024-10-01T15:09:29.841807Z"
    }
   },
   "cell_type": "code",
   "source": "x = y = z = x3 = y3 = z3 = unraveled_data = row_indices = main_angles = intersections = wvs = coordinates = file = coordinates_low = file_low = 0",
   "outputs": [],
   "execution_count": 48
  },
  {
   "metadata": {
    "ExecuteTime": {
     "end_time": "2024-10-01T15:09:29.907872Z",
     "start_time": "2024-10-01T15:09:29.896685Z"
    }
   },
   "cell_type": "code",
   "source": "# edf[edf.wv_c < 1]",
   "outputs": [],
   "execution_count": 49
  },
  {
   "metadata": {
    "ExecuteTime": {
     "end_time": "2024-10-01T15:09:29.919036Z",
     "start_time": "2024-10-01T15:09:29.907872Z"
    }
   },
   "cell_type": "code",
   "source": [
    "# min_r_c = []\n",
    "# for entry, subentry in edf[edf.wv_c < 1].r_c.groupby(level=0):\n",
    "#     # print(min(subentry))\n",
    "#     min_r_c.append(min(subentry))"
   ],
   "outputs": [],
   "execution_count": 50
  },
  {
   "metadata": {
    "ExecuteTime": {
     "end_time": "2024-10-01T15:09:29.930391Z",
     "start_time": "2024-10-01T15:09:29.919036Z"
    }
   },
   "cell_type": "code",
   "source": "# min_r_c = np.array(min_r_c)",
   "outputs": [],
   "execution_count": 51
  },
  {
   "metadata": {
    "ExecuteTime": {
     "end_time": "2024-10-01T15:09:29.941848Z",
     "start_time": "2024-10-01T15:09:29.930391Z"
    }
   },
   "cell_type": "code",
   "source": "# min_r_c.shape",
   "outputs": [],
   "execution_count": 52
  },
  {
   "metadata": {
    "ExecuteTime": {
     "end_time": "2024-10-01T15:09:29.953834Z",
     "start_time": "2024-10-01T15:09:29.941848Z"
    }
   },
   "cell_type": "code",
   "source": "/",
   "outputs": [
    {
     "data": {
      "text/plain": [
       "()"
      ]
     },
     "execution_count": 53,
     "metadata": {},
     "output_type": "execute_result"
    }
   ],
   "execution_count": 53
  },
  {
   "cell_type": "code",
   "source": [
    "plt.hist(edf[edf.r_c<1000].r_c, bins='doane')\n",
    "plt.show()"
   ],
   "metadata": {
    "collapsed": false,
    "ExecuteTime": {
     "end_time": "2024-10-01T15:09:30.039111Z",
     "start_time": "2024-10-01T15:09:29.953834Z"
    }
   },
   "outputs": [
    {
     "data": {
      "text/plain": [
       "<Figure size 640x480 with 1 Axes>"
      ],
      "image/png": "[encoded data removed]"
     },
     "metadata": {},
     "output_type": "display_data"
    }
   ],
   "execution_count": 54
  },
  {
   "metadata": {
    "ExecuteTime": {
     "end_time": "2024-10-01T15:09:30.457293Z",
     "start_time": "2024-10-01T15:09:30.039111Z"
    }
   },
   "cell_type": "code",
   "source": [
    "bdf = pd.DataFrame()\n",
    "edf['t_c'] = np.zeros(edf.shape[0])\n",
    "edf.drop('y_c', axis=1, inplace=True)\n",
    "edf.rename(columns={'z_c': 'y_c', 'z_i': 'y_i'}, inplace=True)\n",
    "edf['z_c'] = np.zeros(edf.shape[0]) + 2000\n",
    "edf['true_p'] = np.repeat(np.linalg.norm(true_direction_coordinates.astype('float'), axis=1)*1000, repeat_nums, axis=0)\n",
    "edf['beta'] = edf.true_p / np.sqrt(139.57 ** 2 + edf.true_p ** 2)\n",
    "edf['nx_p'] = np.repeat((true_direction_coordinates / np.array([np.linalg.norm(true_direction_coordinates.astype('float'), axis=1) for i in range(3)]).T).astype('float')\n",
    "[:,0], repeat_nums, axis=0)\n",
    "edf['ny_p'] = np.repeat((true_direction_coordinates / np.array([np.linalg.norm(true_direction_coordinates.astype('float'), axis=1) for i in range(3)]).T).astype('float')\n",
    "[:,2], repeat_nums, axis=0)\n",
    "edf['nz_p'] = np.repeat((true_direction_coordinates / np.array([np.linalg.norm(true_direction_coordinates.astype('float'), axis=1) for i in range(3)]).T).astype('float')\n",
    "[:,1], repeat_nums, axis=0)"
   ],
   "outputs": [
    {
     "name": "stderr",
     "output_type": "stream",
     "text": [
      "C:\\Users\\BRINE\\AppData\\Local\\Temp\\ipykernel_23464\\1986587013.py:6: DeprecationWarning: Conversion of an array with ndim > 0 to a scalar is deprecated, and will error in future. Ensure you extract a single element from your array before performing this operation. (Deprecated NumPy 1.25.)\n",
      "  edf['true_p'] = np.repeat(np.linalg.norm(true_direction_coordinates.astype('float'), axis=1)*1000, repeat_nums, axis=0)\n",
      "C:\\Users\\BRINE\\AppData\\Local\\Temp\\ipykernel_23464\\1986587013.py:8: DeprecationWarning: Conversion of an array with ndim > 0 to a scalar is deprecated, and will error in future. Ensure you extract a single element from your array before performing this operation. (Deprecated NumPy 1.25.)\n",
      "  edf['nx_p'] = np.repeat((true_direction_coordinates / np.array([np.linalg.norm(true_direction_coordinates.astype('float'), axis=1) for i in range(3)]).T).astype('float')\n",
      "C:\\Users\\BRINE\\AppData\\Local\\Temp\\ipykernel_23464\\1986587013.py:10: DeprecationWarning: Conversion of an array with ndim > 0 to a scalar is deprecated, and will error in future. Ensure you extract a single element from your array before performing this operation. (Deprecated NumPy 1.25.)\n",
      "  edf['ny_p'] = np.repeat((true_direction_coordinates / np.array([np.linalg.norm(true_direction_coordinates.astype('float'), axis=1) for i in range(3)]).T).astype('float')\n",
      "C:\\Users\\BRINE\\AppData\\Local\\Temp\\ipykernel_23464\\1986587013.py:12: DeprecationWarning: Conversion of an array with ndim > 0 to a scalar is deprecated, and will error in future. Ensure you extract a single element from your array before performing this operation. (Deprecated NumPy 1.25.)\n",
      "  edf['nz_p'] = np.repeat((true_direction_coordinates / np.array([np.linalg.norm(true_direction_coordinates.astype('float'), axis=1) for i in range(3)]).T).astype('float')\n"
     ]
    }
   ],
   "execution_count": 55
  },
  {
   "metadata": {
    "ExecuteTime": {
     "end_time": "2024-10-01T15:09:30.463557Z",
     "start_time": "2024-10-01T15:09:30.457293Z"
    }
   },
   "cell_type": "code",
   "source": "true_direction_coordinates = repeat_nums = true_direction_coordinates_low = 0",
   "outputs": [],
   "execution_count": 56
  },
  {
   "metadata": {
    "ExecuteTime": {
     "end_time": "2024-10-01T15:09:30.476978Z",
     "start_time": "2024-10-01T15:09:30.463557Z"
    }
   },
   "cell_type": "code",
   "source": "edf.shape[0]",
   "outputs": [
    {
     "data": {
      "text/plain": [
       "624613"
      ]
     },
     "execution_count": 57,
     "metadata": {},
     "output_type": "execute_result"
    }
   ],
   "execution_count": 57
  },
  {
   "metadata": {
    "ExecuteTime": {
     "end_time": "2024-10-01T15:09:30.495451Z",
     "start_time": "2024-10-01T15:09:30.476978Z"
    }
   },
   "cell_type": "code",
   "source": [
    "idf = pd.DataFrame()\n",
    "idf['W'] = [35.]\n",
    "# idf['W'] = [40.]\n",
    "\n",
    "idf['zdis'] = [800.]\n",
    "idf['distance'] = [205.] # 200\n",
    "idf['n_mean'] = [1.04511]\n",
    "# \n",
    "# idf['n_mean'] = [1.0502]\n",
    "\n",
    "idf['pixel_size'] = [3.16]"
   ],
   "outputs": [],
   "execution_count": 58
  },
  {
   "metadata": {
    "ExecuteTime": {
     "end_time": "2024-10-01T15:09:30.511340Z",
     "start_time": "2024-10-01T15:09:30.495451Z"
    }
   },
   "cell_type": "code",
   "source": "idf",
   "outputs": [
    {
     "data": {
      "text/plain": [
       "      W   zdis  distance   n_mean  pixel_size\n",
       "0  35.0  800.0     205.0  1.04511        3.16"
      ],
      "text/html": [
       "<div>\n",
       "<style scoped>\n",
       "    .dataframe tbody tr th:only-of-type {\n",
       "        vertical-align: middle;\n",
       "    }\n",
       "\n",
       "    .dataframe tbody tr th {\n",
       "        vertical-align: top;\n",
       "    }\n",
       "\n",
       "    .dataframe thead th {\n",
       "        text-align: right;\n",
       "    }\n",
       "</style>\n",
       "<table border=\"1\" class=\"dataframe\">\n",
       "  <thead>\n",
       "    <tr style=\"text-align: right;\">\n",
       "      <th></th>\n",
       "      <th>W</th>\n",
       "      <th>zdis</th>\n",
       "      <th>distance</th>\n",
       "      <th>n_mean</th>\n",
       "      <th>pixel_size</th>\n",
       "    </tr>\n",
       "  </thead>\n",
       "  <tbody>\n",
       "    <tr>\n",
       "      <th>0</th>\n",
       "      <td>35.0</td>\n",
       "      <td>800.0</td>\n",
       "      <td>205.0</td>\n",
       "      <td>1.04511</td>\n",
       "      <td>3.16</td>\n",
       "    </tr>\n",
       "  </tbody>\n",
       "</table>\n",
       "</div>"
      ]
     },
     "execution_count": 59,
     "metadata": {},
     "output_type": "execute_result"
    }
   ],
   "execution_count": 59
  },
  {
   "metadata": {
    "ExecuteTime": {
     "end_time": "2024-10-01T15:09:30.542739Z",
     "start_time": "2024-10-01T15:09:30.511340Z"
    }
   },
   "cell_type": "code",
   "source": "edf = applySpaceCut(edf)",
   "outputs": [],
   "execution_count": 60
  },
  {
   "metadata": {
    "ExecuteTime": {
     "end_time": "2024-10-01T15:09:30.593620Z",
     "start_time": "2024-10-01T15:09:30.542739Z"
    }
   },
   "cell_type": "code",
   "source": "planeRecalculation(edf, idf)",
   "outputs": [
    {
     "name": "stderr",
     "output_type": "stream",
     "text": [
      "Z:\\Prog\\FARICH\\farich_functions.py:513: FutureWarning: Calling float on a single element Series is deprecated and will raise a TypeError in the future. Use float(ser.iloc[0]) instead\n",
      "  alpha = (float(dist)) / N[:, 2]\n",
      "Z:\\Prog\\FARICH\\farich_functions.py:526: SettingWithCopyWarning: \n",
      "A value is trying to be set on a copy of a slice from a DataFrame.\n",
      "Try using .loc[row_indexer,col_indexer] = value instead\n",
      "\n",
      "See the caveats in the documentation: https://pandas.pydata.org/pandas-docs/stable/user_guide/indexing.html#returning-a-view-versus-a-copy\n",
      "  edf[\"t_c\"] = edf[\"t_c\"] + np.sign(R_new[:, 2] - R[:, 2]) * t_dif\n",
      "Z:\\Prog\\FARICH\\farich_functions.py:528: SettingWithCopyWarning: \n",
      "A value is trying to be set on a copy of a slice from a DataFrame.\n",
      "Try using .loc[row_indexer,col_indexer] = value instead\n",
      "\n",
      "See the caveats in the documentation: https://pandas.pydata.org/pandas-docs/stable/user_guide/indexing.html#returning-a-view-versus-a-copy\n",
      "  edf[\"recalculated_x\"] = R_new[:, 0]\n",
      "Z:\\Prog\\FARICH\\farich_functions.py:529: SettingWithCopyWarning: \n",
      "A value is trying to be set on a copy of a slice from a DataFrame.\n",
      "Try using .loc[row_indexer,col_indexer] = value instead\n",
      "\n",
      "See the caveats in the documentation: https://pandas.pydata.org/pandas-docs/stable/user_guide/indexing.html#returning-a-view-versus-a-copy\n",
      "  edf[\"recalculated_y\"] = R_new[:, 1]\n",
      "Z:\\Prog\\FARICH\\farich_functions.py:530: SettingWithCopyWarning: \n",
      "A value is trying to be set on a copy of a slice from a DataFrame.\n",
      "Try using .loc[row_indexer,col_indexer] = value instead\n",
      "\n",
      "See the caveats in the documentation: https://pandas.pydata.org/pandas-docs/stable/user_guide/indexing.html#returning-a-view-versus-a-copy\n",
      "  edf[\"recalculated_z\"] = R_new[:, 2]\n"
     ]
    }
   ],
   "execution_count": 61
  },
  {
   "metadata": {
    "ExecuteTime": {
     "end_time": "2024-10-01T15:09:30.600719Z",
     "start_time": "2024-10-01T15:09:30.594618Z"
    }
   },
   "cell_type": "code",
   "source": [
    "edf['x_p'] = np.zeros(edf.shape[0])\n",
    "edf['y_p'] = np.zeros(edf.shape[0])\n",
    "edf['z_p'] = np.zeros(edf.shape[0])\n"
   ],
   "outputs": [
    {
     "name": "stderr",
     "output_type": "stream",
     "text": [
      "C:\\Users\\BRINE\\AppData\\Local\\Temp\\ipykernel_23464\\210028248.py:1: SettingWithCopyWarning: \n",
      "A value is trying to be set on a copy of a slice from a DataFrame.\n",
      "Try using .loc[row_indexer,col_indexer] = value instead\n",
      "\n",
      "See the caveats in the documentation: https://pandas.pydata.org/pandas-docs/stable/user_guide/indexing.html#returning-a-view-versus-a-copy\n",
      "  edf['x_p'] = np.zeros(edf.shape[0])\n",
      "C:\\Users\\BRINE\\AppData\\Local\\Temp\\ipykernel_23464\\210028248.py:2: SettingWithCopyWarning: \n",
      "A value is trying to be set on a copy of a slice from a DataFrame.\n",
      "Try using .loc[row_indexer,col_indexer] = value instead\n",
      "\n",
      "See the caveats in the documentation: https://pandas.pydata.org/pandas-docs/stable/user_guide/indexing.html#returning-a-view-versus-a-copy\n",
      "  edf['y_p'] = np.zeros(edf.shape[0])\n",
      "C:\\Users\\BRINE\\AppData\\Local\\Temp\\ipykernel_23464\\210028248.py:3: SettingWithCopyWarning: \n",
      "A value is trying to be set on a copy of a slice from a DataFrame.\n",
      "Try using .loc[row_indexer,col_indexer] = value instead\n",
      "\n",
      "See the caveats in the documentation: https://pandas.pydata.org/pandas-docs/stable/user_guide/indexing.html#returning-a-view-versus-a-copy\n",
      "  edf['z_p'] = np.zeros(edf.shape[0])\n"
     ]
    }
   ],
   "execution_count": 62
  },
  {
   "metadata": {
    "ExecuteTime": {
     "end_time": "2024-10-01T15:09:30.751085Z",
     "start_time": "2024-10-01T15:09:30.600719Z"
    }
   },
   "cell_type": "code",
   "source": "planeRotation(edf)",
   "outputs": [
    {
     "name": "stderr",
     "output_type": "stream",
     "text": [
      "Z:\\Prog\\FARICH\\farich_functions.py:571: SettingWithCopyWarning: \n",
      "A value is trying to be set on a copy of a slice from a DataFrame.\n",
      "Try using .loc[row_indexer,col_indexer] = value instead\n",
      "\n",
      "See the caveats in the documentation: https://pandas.pydata.org/pandas-docs/stable/user_guide/indexing.html#returning-a-view-versus-a-copy\n",
      "  edf[\"rotated_x\"] = rotated_R[:, 0]\n",
      "Z:\\Prog\\FARICH\\farich_functions.py:572: SettingWithCopyWarning: \n",
      "A value is trying to be set on a copy of a slice from a DataFrame.\n",
      "Try using .loc[row_indexer,col_indexer] = value instead\n",
      "\n",
      "See the caveats in the documentation: https://pandas.pydata.org/pandas-docs/stable/user_guide/indexing.html#returning-a-view-versus-a-copy\n",
      "  edf[\"rotated_y\"] = rotated_R[:, 1]\n",
      "Z:\\Prog\\FARICH\\farich_functions.py:573: SettingWithCopyWarning: \n",
      "A value is trying to be set on a copy of a slice from a DataFrame.\n",
      "Try using .loc[row_indexer,col_indexer] = value instead\n",
      "\n",
      "See the caveats in the documentation: https://pandas.pydata.org/pandas-docs/stable/user_guide/indexing.html#returning-a-view-versus-a-copy\n",
      "  edf[\"rotated_z\"] = rotated_R[:, 2]\n",
      "Z:\\Prog\\FARICH\\farich_functions.py:574: SettingWithCopyWarning: \n",
      "A value is trying to be set on a copy of a slice from a DataFrame.\n",
      "Try using .loc[row_indexer,col_indexer] = value instead\n",
      "\n",
      "See the caveats in the documentation: https://pandas.pydata.org/pandas-docs/stable/user_guide/indexing.html#returning-a-view-versus-a-copy\n",
      "  edf[\"rotated_x_i\"] = rotated_R_i[:, 0]\n",
      "Z:\\Prog\\FARICH\\farich_functions.py:575: SettingWithCopyWarning: \n",
      "A value is trying to be set on a copy of a slice from a DataFrame.\n",
      "Try using .loc[row_indexer,col_indexer] = value instead\n",
      "\n",
      "See the caveats in the documentation: https://pandas.pydata.org/pandas-docs/stable/user_guide/indexing.html#returning-a-view-versus-a-copy\n",
      "  edf[\"rotated_y_i\"] = rotated_R_i[:, 1]\n",
      "Z:\\Prog\\FARICH\\farich_functions.py:576: SettingWithCopyWarning: \n",
      "A value is trying to be set on a copy of a slice from a DataFrame.\n",
      "Try using .loc[row_indexer,col_indexer] = value instead\n",
      "\n",
      "See the caveats in the documentation: https://pandas.pydata.org/pandas-docs/stable/user_guide/indexing.html#returning-a-view-versus-a-copy\n",
      "  edf[\"rotated_z_i\"] = rotated_R_i[:, 2]\n",
      "Z:\\Prog\\FARICH\\farich_functions.py:577: SettingWithCopyWarning: \n",
      "A value is trying to be set on a copy of a slice from a DataFrame.\n",
      "Try using .loc[row_indexer,col_indexer] = value instead\n",
      "\n",
      "See the caveats in the documentation: https://pandas.pydata.org/pandas-docs/stable/user_guide/indexing.html#returning-a-view-versus-a-copy\n",
      "  edf[\"rotated_nx_p\"] = rotated_n[:, 0]\n",
      "Z:\\Prog\\FARICH\\farich_functions.py:578: SettingWithCopyWarning: \n",
      "A value is trying to be set on a copy of a slice from a DataFrame.\n",
      "Try using .loc[row_indexer,col_indexer] = value instead\n",
      "\n",
      "See the caveats in the documentation: https://pandas.pydata.org/pandas-docs/stable/user_guide/indexing.html#returning-a-view-versus-a-copy\n",
      "  edf[\"rotated_ny_p\"] = rotated_n[:, 1]\n",
      "Z:\\Prog\\FARICH\\farich_functions.py:579: SettingWithCopyWarning: \n",
      "A value is trying to be set on a copy of a slice from a DataFrame.\n",
      "Try using .loc[row_indexer,col_indexer] = value instead\n",
      "\n",
      "See the caveats in the documentation: https://pandas.pydata.org/pandas-docs/stable/user_guide/indexing.html#returning-a-view-versus-a-copy\n",
      "  edf[\"rotated_nz_p\"] = rotated_n[:, 2]\n"
     ]
    }
   ],
   "execution_count": 63
  },
  {
   "metadata": {
    "ExecuteTime": {
     "end_time": "2024-10-01T15:09:30.796546Z",
     "start_time": "2024-10-01T15:09:30.751085Z"
    }
   },
   "cell_type": "code",
   "source": "edf = applySecondSpaceCut(edf)",
   "outputs": [],
   "execution_count": 64
  },
  {
   "metadata": {
    "ExecuteTime": {
     "end_time": "2024-10-01T15:09:34.101915Z",
     "start_time": "2024-10-01T15:09:30.796546Z"
    }
   },
   "cell_type": "code",
   "source": [
    "bdf = pd.DataFrame()\n",
    "edf_to_bdf(edf.r_c.groupby(level=0).transform('mean'), bdf)\n",
    "bdf.rename(columns={'r_c': 'r_c_mean'}, inplace=True)\n",
    "edf_to_bdf(edf.r_c.groupby(level=0).transform('std'), bdf)\n",
    "bdf.rename(columns={'r_c': 'r_c_std'}, inplace=True)\n",
    "edf_to_bdf(edf.r_c.groupby(level=0).transform(lambda x: x.max() - x.min()), bdf)\n",
    "bdf.rename(columns={'r_c': 'r_c_width'}, inplace=True)\n",
    "edf_to_bdf(edf.true_p, bdf)\n",
    "bdf.rename(columns={'true_p': 'momentum'}, inplace=True)"
   ],
   "outputs": [],
   "execution_count": 65
  },
  {
   "metadata": {
    "ExecuteTime": {
     "end_time": "2024-10-01T15:09:34.225897Z",
     "start_time": "2024-10-01T15:09:34.101915Z"
    }
   },
   "cell_type": "code",
   "source": "edf",
   "outputs": [
    {
     "data": {
      "text/plain": [
       "                       x_c     y_c        wv_c        r_c        x_i  \\\n",
       "entry subentry                                                         \n",
       "0     0          28.960131  135.52  398.425197  42.279083  71.239214   \n",
       "      1         112.960131  142.24  354.330709  41.720917  71.239214   \n",
       "      2         119.680131   75.04  409.448819  48.440917  71.239214   \n",
       "      3          59.200131   54.88  508.661417  12.039083  71.239214   \n",
       "      4          22.240131  122.08  359.842520  48.999083  71.239214   \n",
       "...                    ...     ...         ...        ...        ...   \n",
       "19882 11         28.960131 -351.68  492.125984  26.723026   2.237105   \n",
       "      12         25.600131 -388.64  409.448819  23.363026   2.237105   \n",
       "      13        -18.079869 -341.60  475.590551  20.316974   2.237105   \n",
       "      14         12.160131 -334.88  431.496063   9.923026   2.237105   \n",
       "      15        -18.079869 -344.96  381.889764  20.316974   2.237105   \n",
       "\n",
       "                       y_i       t_c     z_c       true_p      beta  ...  z_p  \\\n",
       "entry subentry                                                       ...        \n",
       "0     0         102.379707 -0.001269  2000.0  1408.464406  0.995126  ...  0.0   \n",
       "      1         102.379707 -0.023385  2000.0  1408.464406  0.995126  ...  0.0   \n",
       "      2         102.379707 -0.002171  2000.0  1408.464406  0.995126  ...  0.0   \n",
       "      3         102.379707  0.019134  2000.0  1408.464406  0.995126  ...  0.0   \n",
       "      4         102.379707  0.004915  2000.0  1408.464406  0.995126  ...  0.0   \n",
       "...                    ...       ...     ...          ...       ...  ...  ...   \n",
       "19882 11       -363.199793  0.013547  2000.0   511.674644  0.964753  ...  0.0   \n",
       "      12       -363.199793 -0.030241  2000.0   511.674644  0.964753  ...  0.0   \n",
       "      13       -363.199793  0.025987  2000.0   511.674644  0.964753  ...  0.0   \n",
       "      14       -363.199793  0.033859  2000.0   511.674644  0.964753  ...  0.0   \n",
       "      15       -363.199793  0.021948  2000.0   511.674644  0.964753  ...  0.0   \n",
       "\n",
       "                 rotated_x   rotated_y    rotated_z  rotated_x_i  rotated_y_i  \\\n",
       "entry subentry                                                                  \n",
       "0     0        -112.947671  -68.449522  2000.059575   -70.691475  -101.592538   \n",
       "      1         -29.046061  -61.721871  2000.059575   -70.691475  -101.592538   \n",
       "      2         -22.261268 -128.894345  2000.059575   -70.691475  -101.592538   \n",
       "      3         -82.929370 -149.524410  2000.059575   -70.691475  -101.592538   \n",
       "      4        -119.787602  -81.919524  2000.059575   -70.691475  -101.592538   \n",
       "...                    ...         ...          ...          ...          ...   \n",
       "19882 11         24.708979  353.425544  2003.839929    -2.102706   341.379863   \n",
       "      12         21.088445  315.050330  2003.839929    -2.102706   341.379863   \n",
       "      13        -22.559169  364.055306  2003.839929    -2.102706   341.379863   \n",
       "      14          7.897959  371.159235  2003.839929    -2.102706   341.379863   \n",
       "      15        -22.537476  360.509342  2003.839929    -2.102706   341.379863   \n",
       "\n",
       "                rotated_z_i  rotated_nx_p  rotated_ny_p  rotated_nz_p  \n",
       "entry subentry                                                         \n",
       "0     0         2000.059575     -0.035277     -0.050698      0.998091  \n",
       "      1         2000.059575     -0.035277     -0.050698      0.998091  \n",
       "      2         2000.059575     -0.035277     -0.050698      0.998091  \n",
       "      3         2000.059575     -0.035277     -0.050698      0.998091  \n",
       "      4         2000.059575     -0.035277     -0.050698      0.998091  \n",
       "...                     ...           ...           ...           ...  \n",
       "19882 11        2003.839929     -0.001034      0.167943      0.985796  \n",
       "      12        2003.839929     -0.001034      0.167943      0.985796  \n",
       "      13        2003.839929     -0.001034      0.167943      0.985796  \n",
       "      14        2003.839929     -0.001034      0.167943      0.985796  \n",
       "      15        2003.839929     -0.001034      0.167943      0.985796  \n",
       "\n",
       "[619186 rows x 28 columns]"
      ],
      "text/html": [
       "<div>\n",
       "<style scoped>\n",
       "    .dataframe tbody tr th:only-of-type {\n",
       "        vertical-align: middle;\n",
       "    }\n",
       "\n",
       "    .dataframe tbody tr th {\n",
       "        vertical-align: top;\n",
       "    }\n",
       "\n",
       "    .dataframe thead th {\n",
       "        text-align: right;\n",
       "    }\n",
       "</style>\n",
       "<table border=\"1\" class=\"dataframe\">\n",
       "  <thead>\n",
       "    <tr style=\"text-align: right;\">\n",
       "      <th></th>\n",
       "      <th></th>\n",
       "      <th>x_c</th>\n",
       "      <th>y_c</th>\n",
       "      <th>wv_c</th>\n",
       "      <th>r_c</th>\n",
       "      <th>x_i</th>\n",
       "      <th>y_i</th>\n",
       "      <th>t_c</th>\n",
       "      <th>z_c</th>\n",
       "      <th>true_p</th>\n",
       "      <th>beta</th>\n",
       "      <th>...</th>\n",
       "      <th>z_p</th>\n",
       "      <th>rotated_x</th>\n",
       "      <th>rotated_y</th>\n",
       "      <th>rotated_z</th>\n",
       "      <th>rotated_x_i</th>\n",
       "      <th>rotated_y_i</th>\n",
       "      <th>rotated_z_i</th>\n",
       "      <th>rotated_nx_p</th>\n",
       "      <th>rotated_ny_p</th>\n",
       "      <th>rotated_nz_p</th>\n",
       "    </tr>\n",
       "    <tr>\n",
       "      <th>entry</th>\n",
       "      <th>subentry</th>\n",
       "      <th></th>\n",
       "      <th></th>\n",
       "      <th></th>\n",
       "      <th></th>\n",
       "      <th></th>\n",
       "      <th></th>\n",
       "      <th></th>\n",
       "      <th></th>\n",
       "      <th></th>\n",
       "      <th></th>\n",
       "      <th></th>\n",
       "      <th></th>\n",
       "      <th></th>\n",
       "      <th></th>\n",
       "      <th></th>\n",
       "      <th></th>\n",
       "      <th></th>\n",
       "      <th></th>\n",
       "      <th></th>\n",
       "      <th></th>\n",
       "      <th></th>\n",
       "    </tr>\n",
       "  </thead>\n",
       "  <tbody>\n",
       "    <tr>\n",
       "      <th rowspan=\"5\" valign=\"top\">0</th>\n",
       "      <th>0</th>\n",
       "      <td>28.960131</td>\n",
       "      <td>135.52</td>\n",
       "      <td>398.425197</td>\n",
       "      <td>42.279083</td>\n",
       "      <td>71.239214</td>\n",
       "      <td>102.379707</td>\n",
       "      <td>-0.001269</td>\n",
       "      <td>2000.0</td>\n",
       "      <td>1408.464406</td>\n",
       "      <td>0.995126</td>\n",
       "      <td>...</td>\n",
       "      <td>0.0</td>\n",
       "      <td>-112.947671</td>\n",
       "      <td>-68.449522</td>\n",
       "      <td>2000.059575</td>\n",
       "      <td>-70.691475</td>\n",
       "      <td>-101.592538</td>\n",
       "      <td>2000.059575</td>\n",
       "      <td>-0.035277</td>\n",
       "      <td>-0.050698</td>\n",
       "      <td>0.998091</td>\n",
       "    </tr>\n",
       "    <tr>\n",
       "      <th>1</th>\n",
       "      <td>112.960131</td>\n",
       "      <td>142.24</td>\n",
       "      <td>354.330709</td>\n",
       "      <td>41.720917</td>\n",
       "      <td>71.239214</td>\n",
       "      <td>102.379707</td>\n",
       "      <td>-0.023385</td>\n",
       "      <td>2000.0</td>\n",
       "      <td>1408.464406</td>\n",
       "      <td>0.995126</td>\n",
       "      <td>...</td>\n",
       "      <td>0.0</td>\n",
       "      <td>-29.046061</td>\n",
       "      <td>-61.721871</td>\n",
       "      <td>2000.059575</td>\n",
       "      <td>-70.691475</td>\n",
       "      <td>-101.592538</td>\n",
       "      <td>2000.059575</td>\n",
       "      <td>-0.035277</td>\n",
       "      <td>-0.050698</td>\n",
       "      <td>0.998091</td>\n",
       "    </tr>\n",
       "    <tr>\n",
       "      <th>2</th>\n",
       "      <td>119.680131</td>\n",
       "      <td>75.04</td>\n",
       "      <td>409.448819</td>\n",
       "      <td>48.440917</td>\n",
       "      <td>71.239214</td>\n",
       "      <td>102.379707</td>\n",
       "      <td>-0.002171</td>\n",
       "      <td>2000.0</td>\n",
       "      <td>1408.464406</td>\n",
       "      <td>0.995126</td>\n",
       "      <td>...</td>\n",
       "      <td>0.0</td>\n",
       "      <td>-22.261268</td>\n",
       "      <td>-128.894345</td>\n",
       "      <td>2000.059575</td>\n",
       "      <td>-70.691475</td>\n",
       "      <td>-101.592538</td>\n",
       "      <td>2000.059575</td>\n",
       "      <td>-0.035277</td>\n",
       "      <td>-0.050698</td>\n",
       "      <td>0.998091</td>\n",
       "    </tr>\n",
       "    <tr>\n",
       "      <th>3</th>\n",
       "      <td>59.200131</td>\n",
       "      <td>54.88</td>\n",
       "      <td>508.661417</td>\n",
       "      <td>12.039083</td>\n",
       "      <td>71.239214</td>\n",
       "      <td>102.379707</td>\n",
       "      <td>0.019134</td>\n",
       "      <td>2000.0</td>\n",
       "      <td>1408.464406</td>\n",
       "      <td>0.995126</td>\n",
       "      <td>...</td>\n",
       "      <td>0.0</td>\n",
       "      <td>-82.929370</td>\n",
       "      <td>-149.524410</td>\n",
       "      <td>2000.059575</td>\n",
       "      <td>-70.691475</td>\n",
       "      <td>-101.592538</td>\n",
       "      <td>2000.059575</td>\n",
       "      <td>-0.035277</td>\n",
       "      <td>-0.050698</td>\n",
       "      <td>0.998091</td>\n",
       "    </tr>\n",
       "    <tr>\n",
       "      <th>4</th>\n",
       "      <td>22.240131</td>\n",
       "      <td>122.08</td>\n",
       "      <td>359.842520</td>\n",
       "      <td>48.999083</td>\n",
       "      <td>71.239214</td>\n",
       "      <td>102.379707</td>\n",
       "      <td>0.004915</td>\n",
       "      <td>2000.0</td>\n",
       "      <td>1408.464406</td>\n",
       "      <td>0.995126</td>\n",
       "      <td>...</td>\n",
       "      <td>0.0</td>\n",
       "      <td>-119.787602</td>\n",
       "      <td>-81.919524</td>\n",
       "      <td>2000.059575</td>\n",
       "      <td>-70.691475</td>\n",
       "      <td>-101.592538</td>\n",
       "      <td>2000.059575</td>\n",
       "      <td>-0.035277</td>\n",
       "      <td>-0.050698</td>\n",
       "      <td>0.998091</td>\n",
       "    </tr>\n",
       "    <tr>\n",
       "      <th>...</th>\n",
       "      <th>...</th>\n",
       "      <td>...</td>\n",
       "      <td>...</td>\n",
       "      <td>...</td>\n",
       "      <td>...</td>\n",
       "      <td>...</td>\n",
       "      <td>...</td>\n",
       "      <td>...</td>\n",
       "      <td>...</td>\n",
       "      <td>...</td>\n",
       "      <td>...</td>\n",
       "      <td>...</td>\n",
       "      <td>...</td>\n",
       "      <td>...</td>\n",
       "      <td>...</td>\n",
       "      <td>...</td>\n",
       "      <td>...</td>\n",
       "      <td>...</td>\n",
       "      <td>...</td>\n",
       "      <td>...</td>\n",
       "      <td>...</td>\n",
       "      <td>...</td>\n",
       "    </tr>\n",
       "    <tr>\n",
       "      <th rowspan=\"5\" valign=\"top\">19882</th>\n",
       "      <th>11</th>\n",
       "      <td>28.960131</td>\n",
       "      <td>-351.68</td>\n",
       "      <td>492.125984</td>\n",
       "      <td>26.723026</td>\n",
       "      <td>2.237105</td>\n",
       "      <td>-363.199793</td>\n",
       "      <td>0.013547</td>\n",
       "      <td>2000.0</td>\n",
       "      <td>511.674644</td>\n",
       "      <td>0.964753</td>\n",
       "      <td>...</td>\n",
       "      <td>0.0</td>\n",
       "      <td>24.708979</td>\n",
       "      <td>353.425544</td>\n",
       "      <td>2003.839929</td>\n",
       "      <td>-2.102706</td>\n",
       "      <td>341.379863</td>\n",
       "      <td>2003.839929</td>\n",
       "      <td>-0.001034</td>\n",
       "      <td>0.167943</td>\n",
       "      <td>0.985796</td>\n",
       "    </tr>\n",
       "    <tr>\n",
       "      <th>12</th>\n",
       "      <td>25.600131</td>\n",
       "      <td>-388.64</td>\n",
       "      <td>409.448819</td>\n",
       "      <td>23.363026</td>\n",
       "      <td>2.237105</td>\n",
       "      <td>-363.199793</td>\n",
       "      <td>-0.030241</td>\n",
       "      <td>2000.0</td>\n",
       "      <td>511.674644</td>\n",
       "      <td>0.964753</td>\n",
       "      <td>...</td>\n",
       "      <td>0.0</td>\n",
       "      <td>21.088445</td>\n",
       "      <td>315.050330</td>\n",
       "      <td>2003.839929</td>\n",
       "      <td>-2.102706</td>\n",
       "      <td>341.379863</td>\n",
       "      <td>2003.839929</td>\n",
       "      <td>-0.001034</td>\n",
       "      <td>0.167943</td>\n",
       "      <td>0.985796</td>\n",
       "    </tr>\n",
       "    <tr>\n",
       "      <th>13</th>\n",
       "      <td>-18.079869</td>\n",
       "      <td>-341.60</td>\n",
       "      <td>475.590551</td>\n",
       "      <td>20.316974</td>\n",
       "      <td>2.237105</td>\n",
       "      <td>-363.199793</td>\n",
       "      <td>0.025987</td>\n",
       "      <td>2000.0</td>\n",
       "      <td>511.674644</td>\n",
       "      <td>0.964753</td>\n",
       "      <td>...</td>\n",
       "      <td>0.0</td>\n",
       "      <td>-22.559169</td>\n",
       "      <td>364.055306</td>\n",
       "      <td>2003.839929</td>\n",
       "      <td>-2.102706</td>\n",
       "      <td>341.379863</td>\n",
       "      <td>2003.839929</td>\n",
       "      <td>-0.001034</td>\n",
       "      <td>0.167943</td>\n",
       "      <td>0.985796</td>\n",
       "    </tr>\n",
       "    <tr>\n",
       "      <th>14</th>\n",
       "      <td>12.160131</td>\n",
       "      <td>-334.88</td>\n",
       "      <td>431.496063</td>\n",
       "      <td>9.923026</td>\n",
       "      <td>2.237105</td>\n",
       "      <td>-363.199793</td>\n",
       "      <td>0.033859</td>\n",
       "      <td>2000.0</td>\n",
       "      <td>511.674644</td>\n",
       "      <td>0.964753</td>\n",
       "      <td>...</td>\n",
       "      <td>0.0</td>\n",
       "      <td>7.897959</td>\n",
       "      <td>371.159235</td>\n",
       "      <td>2003.839929</td>\n",
       "      <td>-2.102706</td>\n",
       "      <td>341.379863</td>\n",
       "      <td>2003.839929</td>\n",
       "      <td>-0.001034</td>\n",
       "      <td>0.167943</td>\n",
       "      <td>0.985796</td>\n",
       "    </tr>\n",
       "    <tr>\n",
       "      <th>15</th>\n",
       "      <td>-18.079869</td>\n",
       "      <td>-344.96</td>\n",
       "      <td>381.889764</td>\n",
       "      <td>20.316974</td>\n",
       "      <td>2.237105</td>\n",
       "      <td>-363.199793</td>\n",
       "      <td>0.021948</td>\n",
       "      <td>2000.0</td>\n",
       "      <td>511.674644</td>\n",
       "      <td>0.964753</td>\n",
       "      <td>...</td>\n",
       "      <td>0.0</td>\n",
       "      <td>-22.537476</td>\n",
       "      <td>360.509342</td>\n",
       "      <td>2003.839929</td>\n",
       "      <td>-2.102706</td>\n",
       "      <td>341.379863</td>\n",
       "      <td>2003.839929</td>\n",
       "      <td>-0.001034</td>\n",
       "      <td>0.167943</td>\n",
       "      <td>0.985796</td>\n",
       "    </tr>\n",
       "  </tbody>\n",
       "</table>\n",
       "<p>619186 rows × 28 columns</p>\n",
       "</div>"
      ]
     },
     "execution_count": 66,
     "metadata": {},
     "output_type": "execute_result"
    }
   ],
   "execution_count": 66
  },
  {
   "metadata": {
    "ExecuteTime": {
     "end_time": "2024-10-01T15:09:34.229630Z",
     "start_time": "2024-10-01T15:09:34.225897Z"
    }
   },
   "cell_type": "code",
   "source": "bdf.isna().sum()",
   "outputs": [
    {
     "data": {
      "text/plain": [
       "r_c_mean      0\n",
       "r_c_std      18\n",
       "r_c_width     0\n",
       "momentum      0\n",
       "dtype: int64"
      ]
     },
     "execution_count": 67,
     "metadata": {},
     "output_type": "execute_result"
    }
   ],
   "execution_count": 67
  },
  {
   "metadata": {
    "ExecuteTime": {
     "end_time": "2024-10-01T15:09:34.334870Z",
     "start_time": "2024-10-01T15:09:34.229630Z"
    }
   },
   "cell_type": "code",
   "source": [
    "plt.hist(bdf[bdf.r_c_width < 1000].r_c_width, bins='auto')\n",
    "plt.show()"
   ],
   "outputs": [
    {
     "data": {
      "text/plain": [
       "<Figure size 640x480 with 1 Axes>"
      ],
      "image/png": "[encoded data removed]"
     },
     "metadata": {},
     "output_type": "display_data"
    }
   ],
   "execution_count": 68
  },
  {
   "metadata": {
    "ExecuteTime": {
     "end_time": "2024-10-01T15:09:34.448915Z",
     "start_time": "2024-10-01T15:09:34.334870Z"
    }
   },
   "cell_type": "code",
   "source": [
    "plt.hist(bdf[bdf.r_c_std < 1000].r_c_std, bins='auto')\n",
    "plt.show()"
   ],
   "outputs": [
    {
     "data": {
      "text/plain": [
       "<Figure size 640x480 with 1 Axes>"
      ],
      "image/png": "[encoded data removed]"
     },
     "metadata": {},
     "output_type": "display_data"
    }
   ],
   "execution_count": 69
  },
  {
   "metadata": {
    "ExecuteTime": {
     "end_time": "2024-10-01T15:09:34.630538Z",
     "start_time": "2024-10-01T15:09:34.448915Z"
    }
   },
   "cell_type": "code",
   "source": [
    "plt.hist(bdf[bdf.r_c_mean < 1000].r_c_mean, bins='auto')\n",
    "plt.show()"
   ],
   "outputs": [
    {
     "data": {
      "text/plain": [
       "<Figure size 640x480 with 1 Axes>"
      ],
      "image/png": "[encoded data removed]"
     },
     "metadata": {},
     "output_type": "display_data"
    }
   ],
   "execution_count": 70
  },
  {
   "metadata": {
    "ExecuteTime": {
     "end_time": "2024-10-01T15:09:34.632708Z",
     "start_time": "2024-10-01T15:09:34.630538Z"
    }
   },
   "cell_type": "code",
   "source": "# np.tan(1 / (edf.beta.iloc[0] * idf.n_mean)) ",
   "outputs": [],
   "execution_count": 71
  },
  {
   "metadata": {
    "ExecuteTime": {
     "end_time": "2024-10-01T15:09:34.644448Z",
     "start_time": "2024-10-01T15:09:34.632708Z"
    }
   },
   "cell_type": "code",
   "source": "# idf.W * np.tan(1/(idf.n_mean * edf.beta.iloc[0]))",
   "outputs": [],
   "execution_count": 72
  },
  {
   "metadata": {
    "ExecuteTime": {
     "end_time": "2024-10-01T15:09:34.655619Z",
     "start_time": "2024-10-01T15:09:34.644448Z"
    }
   },
   "cell_type": "code",
   "source": [
    "# num = 7\n",
    "# event = edf.loc[num]\n",
    "# plt.scatter(event.rotated_x, event.rotated_y)\n",
    "# plt.scatter(event.rotated_x_i, event.rotated_y_i)\n",
    "# plt.show()"
   ],
   "outputs": [],
   "execution_count": 73
  },
  {
   "metadata": {
    "ExecuteTime": {
     "end_time": "2024-10-01T15:09:39.512122Z",
     "start_time": "2024-10-01T15:09:34.655619Z"
    }
   },
   "cell_type": "code",
   "source": "primaryDirectionRecalculation(edf)",
   "outputs": [],
   "execution_count": 74
  },
  {
   "metadata": {
    "ExecuteTime": {
     "end_time": "2024-10-01T15:09:39.521896Z",
     "start_time": "2024-10-01T15:09:39.512122Z"
    }
   },
   "cell_type": "code",
   "source": [
    "edf['rotated_r_c'] = np.sqrt((edf['rotated_x_i'] - edf['rotated_x']) ** 2 + (edf['rotated_y_i'] - edf['rotated_y']) ** 2)\n",
    "edf['signal'] = np.ones(edf.shape[0])"
   ],
   "outputs": [],
   "execution_count": 75
  },
  {
   "metadata": {
    "ExecuteTime": {
     "end_time": "2024-10-01T15:09:39.523689Z",
     "start_time": "2024-10-01T15:09:39.521896Z"
    }
   },
   "cell_type": "code",
   "source": "",
   "outputs": [],
   "execution_count": 75
  },
  {
   "metadata": {
    "ExecuteTime": {
     "end_time": "2024-10-01T15:09:39.632928Z",
     "start_time": "2024-10-01T15:09:39.523689Z"
    }
   },
   "cell_type": "code",
   "source": "recoAngles(edf, idf)",
   "outputs": [
    {
     "name": "stderr",
     "output_type": "stream",
     "text": [
      "Z:\\Prog\\FARICH\\farich_functions.py:646: FutureWarning: Calling float on a single element Series is deprecated and will raise a TypeError in the future. Use float(ser.iloc[0]) instead\n",
      "  dist = float(idf[\"distance\"])\n",
      "Z:\\Prog\\FARICH\\farich_functions.py:649: FutureWarning: Calling float on a single element Series is deprecated and will raise a TypeError in the future. Use float(ser.iloc[0]) instead\n",
      "  W = float(idf[\"W\"])\n",
      "Z:\\Prog\\FARICH\\farich_functions.py:652: FutureWarning: Calling float on a single element Series is deprecated and will raise a TypeError in the future. Use float(ser.iloc[0]) instead\n",
      "  rad_pos = float(idf[\"zdis\"])\n"
     ]
    }
   ],
   "execution_count": 76
  },
  {
   "metadata": {
    "ExecuteTime": {
     "end_time": "2024-10-01T15:09:39.717312Z",
     "start_time": "2024-10-01T15:09:39.632928Z"
    }
   },
   "cell_type": "code",
   "source": "recoAngles(edf, idf, rotation_mode=True)",
   "outputs": [
    {
     "name": "stderr",
     "output_type": "stream",
     "text": [
      "Z:\\Prog\\FARICH\\farich_functions.py:646: FutureWarning: Calling float on a single element Series is deprecated and will raise a TypeError in the future. Use float(ser.iloc[0]) instead\n",
      "  dist = float(idf[\"distance\"])\n",
      "Z:\\Prog\\FARICH\\farich_functions.py:649: FutureWarning: Calling float on a single element Series is deprecated and will raise a TypeError in the future. Use float(ser.iloc[0]) instead\n",
      "  W = float(idf[\"W\"])\n",
      "Z:\\Prog\\FARICH\\farich_functions.py:652: FutureWarning: Calling float on a single element Series is deprecated and will raise a TypeError in the future. Use float(ser.iloc[0]) instead\n",
      "  rad_pos = float(idf[\"zdis\"])\n",
      "Z:\\Prog\\FARICH\\farich_functions.py:673: FutureWarning: Calling float on a single element Series is deprecated and will raise a TypeError in the future. Use float(ser.iloc[0]) instead\n",
      "  n_mean = float(idf[\"n_mean\"])\n"
     ]
    }
   ],
   "execution_count": 77
  },
  {
   "metadata": {
    "ExecuteTime": {
     "end_time": "2024-10-01T15:09:39.748303Z",
     "start_time": "2024-10-01T15:09:39.717312Z"
    }
   },
   "cell_type": "code",
   "source": "calculateSignalCounts(edf, bdf)",
   "outputs": [],
   "execution_count": 78
  },
  {
   "metadata": {
    "ExecuteTime": {
     "end_time": "2024-10-01T15:09:39.754168Z",
     "start_time": "2024-10-01T15:09:39.748303Z"
    }
   },
   "cell_type": "code",
   "source": [
    "def calibration(edf: pd.DataFrame, bdf: pd.DataFrame, avg_sigmas: tuple, avg_t_sigmas: tuple, step=float(idf.pixel_size), method='N/r', t_window_width=2,\n",
    "                        r_width_factor=2, t_width_factor=8, full_width_t_hist = False, weighed=True, deg_lim=False, param_fit=False, calibration_func=pol, param_calibration_func=d3pol2, \n",
    "                num_of_calibration_params=3, num_of_param_fit_params=3, target_variable = 'momentum', target_angle = 'theta_p', num_of_theta_intervals=11, p0=(100, 1, 100), p0_c=(1.219, -0.5588, 0.2946, 864.4, -1922, 1055, -2535, 6572, -3751)):  \n",
    "  to_return_unbinned = np.full((np.ptp(avg_sigmas), np.ptp(avg_t_sigmas), num_of_theta_intervals - 1, num_of_calibration_params), 0.)\n",
    "\n",
    "  errs_tmp = np.full((np.ptp(avg_sigmas), np.ptp(avg_t_sigmas), num_of_theta_intervals - 1, num_of_calibration_params), 0.)\n",
    "  fit_params = np.full((np.ptp(avg_sigmas), np.ptp(avg_t_sigmas), num_of_calibration_params, num_of_param_fit_params), 0.)\n",
    "  fit_params = np.full((np.ptp(avg_sigmas), np.ptp(avg_t_sigmas), num_of_calibration_params * num_of_param_fit_params), 0.)\n",
    "\n",
    "  \n",
    "  \n",
    "  dir_to_save = f\"{'weighed' if weighed else 'unweighed'}_rw={step}_tw={t_window_width}_rs={r_width_factor}_ts={t_width_factor}\"\n",
    "  if not os.path.exists(os.path.join('calibrations_barrel', dir_to_save)):\n",
    "    os.mkdir(os.path.join('calibrations_barrel', dir_to_save))\n",
    "      \n",
    "      \n",
    "  for r_sigms in range(*avg_sigmas):\n",
    "    fig, axs = plt.subplots(num_of_theta_intervals - 1, np.ptp(avg_t_sigmas), figsize=(16 * np.ptp(avg_t_sigmas), 9 * (num_of_theta_intervals - 1)))\n",
    "    for t_sigms in range(*avg_t_sigmas):\n",
    "      chosen_column = f'unfixed_calculated_r_2d_{r_sigms}_rsigms_{t_sigms}_tsigms'\n",
    "\n",
    "      calibration_loop(bdf, chosen_column, r_sigms, t_sigms, num_of_theta_intervals, to_return_unbinned, errs_tmp, fig, axs, avg_sigmas, avg_t_sigmas, target_variable, target_angle, calibration_func, p0)\n",
    "      if param_fit:\n",
    "        param_fit_calibration(bdf, chosen_column, r_sigms, t_sigms, avg_sigmas, avg_t_sigmas, fit_params, num_of_calibration_params, num_of_param_fit_params, target_variable, target_angle, param_calibration_func, p0_c=p0_c)   \n",
    "    save_calibration_plot(fig, dir_to_save, deg_lim, r_sigms, avg_t_sigmas)        \n",
    "\n",
    "\n",
    "\n",
    "  if param_fit:\n",
    "    return fit_params\n",
    "  return to_return_unbinned\n",
    "# cal_arr = np.array(calibration(edf, bdf, avg_sigmas=(1, 5), avg_t_sigmas=(1, 5))) # add r and t calibr - done"
   ],
   "outputs": [
    {
     "name": "stderr",
     "output_type": "stream",
     "text": [
      "C:\\Users\\BRINE\\AppData\\Local\\Temp\\ipykernel_23464\\468805407.py:1: FutureWarning: Calling float on a single element Series is deprecated and will raise a TypeError in the future. Use float(ser.iloc[0]) instead\n",
      "  def calibration(edf: pd.DataFrame, bdf: pd.DataFrame, avg_sigmas: tuple, avg_t_sigmas: tuple, step=float(idf.pixel_size), method='N/r', t_window_width=2,\n"
     ]
    }
   ],
   "execution_count": 79
  },
  {
   "metadata": {
    "ExecuteTime": {
     "end_time": "2024-10-01T15:09:39.765943Z",
     "start_time": "2024-10-01T15:09:39.754168Z"
    }
   },
   "cell_type": "code",
   "source": [
    "def rSlidingWindow(edf: pd.DataFrame, idf: pd.DataFrame, bdf: pd.DataFrame, avg_sigmas: tuple, avg_t_sigmas: tuple, step=float(idf.pixel_size), method='N/r', cal_arr=False, t_window_width=2,\n",
    "                        r_width_factor=2, t_width_factor=8, full_width_t_hist = True, num_of_groups=5, weighed=True, deg_lim=False, param_fit=False, \n",
    "                   calibration_func=pol, param_calibration_func=d3pol2, num_of_calibration_params=3, num_of_param_fit_params=3, target_variable='beta', target_angle='cos_theta_p', num_of_theta_intervals=11, p0=(100, 1, 100), p0_c=(1.219, -0.5588, 0.2946, 864.4, -1922, 1055, -2535, 6572, -3751)):\n",
    "  rSlidingWindowIntro(edf, idf, bdf, avg_sigmas, avg_t_sigmas, step=step, method=method, cal_arr=cal_arr, t_window_width=t_window_width,\n",
    "                      r_width_factor=r_width_factor, t_width_factor=t_width_factor, num_of_groups=num_of_groups)\n",
    "  rSlidingWindowLoop1(edf, idf, bdf, avg_sigmas, avg_t_sigmas, step=step, method=method, cal_arr=cal_arr, t_window_width=t_window_width,\n",
    "                      r_width_factor=r_width_factor, t_width_factor=t_width_factor, full_width_t_hist=full_width_t_hist, weighed=weighed)\n",
    "  bdf.dropna(subset=[f'unfixed_calculated_r_2d_{avg_sigmas[0]}_rsigms_4_tsigms'], inplace=True)\n",
    "  edf.dropna(subset=[f'unfixed_calculated_r_2d_{avg_sigmas[0]}_rsigms_4_tsigms'], inplace=True)\n",
    "  if cal_arr is False:\n",
    "    cal_arr = np.array(calibration(edf, bdf, avg_sigmas=avg_sigmas, avg_t_sigmas=avg_t_sigmas, step=step, t_window_width=t_window_width,\n",
    "                                   r_width_factor=r_width_factor, t_width_factor=t_width_factor, weighed=weighed, deg_lim=deg_lim, param_fit=param_fit, calibration_func=calibration_func, param_calibration_func=param_calibration_func, num_of_calibration_params=num_of_calibration_params, num_of_param_fit_params=num_of_param_fit_params, target_variable=target_variable, target_angle=target_angle, num_of_theta_intervals=num_of_theta_intervals, p0=p0, p0_c=p0_c)) \n",
    "  print(cal_arr)\n",
    "  print(cal_arr.shape)\n",
    "  rSlidingWindowLoop2(edf, idf, bdf, avg_sigmas, avg_t_sigmas, step=step, method=method, cal_arr=cal_arr, t_window_width=t_window_width,\n",
    "                      r_width_factor=r_width_factor, t_width_factor=t_width_factor, param_fit=param_fit, calibration_func=calibration_func, param_calibration_func=param_calibration_func, target_variable=target_variable, target_angle=target_angle, num_of_theta_intervals=num_of_theta_intervals)\n",
    "  return cal_arr"
   ],
   "outputs": [
    {
     "name": "stderr",
     "output_type": "stream",
     "text": [
      "C:\\Users\\BRINE\\AppData\\Local\\Temp\\ipykernel_23464\\3348242276.py:1: FutureWarning: Calling float on a single element Series is deprecated and will raise a TypeError in the future. Use float(ser.iloc[0]) instead\n",
      "  def rSlidingWindow(edf: pd.DataFrame, idf: pd.DataFrame, bdf: pd.DataFrame, avg_sigmas: tuple, avg_t_sigmas: tuple, step=float(idf.pixel_size), method='N/r', cal_arr=False, t_window_width=2,\n"
     ]
    }
   ],
   "execution_count": 80
  },
  {
   "metadata": {
    "ExecuteTime": {
     "end_time": "2024-10-01T15:09:39.767868Z",
     "start_time": "2024-10-01T15:09:39.765943Z"
    }
   },
   "cell_type": "code",
   "source": "",
   "outputs": [],
   "execution_count": 80
  },
  {
   "metadata": {
    "ExecuteTime": {
     "end_time": "2024-10-01T15:09:39.777351Z",
     "start_time": "2024-10-01T15:09:39.767868Z"
    }
   },
   "cell_type": "code",
   "source": [
    "def exp_like(X, a, b):\n",
    "    return a * np.exp(b * X)"
   ],
   "outputs": [],
   "execution_count": 81
  },
  {
   "metadata": {
    "ExecuteTime": {
     "end_time": "2024-10-01T15:09:39.788149Z",
     "start_time": "2024-10-01T15:09:39.777351Z"
    }
   },
   "cell_type": "code",
   "source": [
    "def pol2_exp_like(X, a0, a1, a2, b0, b1, b2):\n",
    "    r, theta = X\n",
    "    return exp_like(r, a0 + a1 * theta + a2 * theta ** 2, b0 + b0 * theta + b1 * theta ** 2)"
   ],
   "outputs": [],
   "execution_count": 82
  },
  {
   "metadata": {
    "ExecuteTime": {
     "end_time": "2024-10-01T15:09:39.799221Z",
     "start_time": "2024-10-01T15:09:39.788149Z"
    }
   },
   "cell_type": "code",
   "source": [
    "def pol3(X, p0, p1, p2, p3):\n",
    "    return p0 + p1 * X + p2 * X ** 2 + p3 * X ** 3"
   ],
   "outputs": [],
   "execution_count": 83
  },
  {
   "metadata": {
    "ExecuteTime": {
     "end_time": "2024-10-01T15:09:39.809763Z",
     "start_time": "2024-10-01T15:09:39.799221Z"
    }
   },
   "cell_type": "code",
   "source": [
    "def lin(X, a, b):\n",
    "    return a * X + b"
   ],
   "outputs": [],
   "execution_count": 84
  },
  {
   "metadata": {
    "ExecuteTime": {
     "end_time": "2024-10-01T15:09:39.820432Z",
     "start_time": "2024-10-01T15:09:39.809763Z"
    }
   },
   "cell_type": "code",
   "source": [
    "def pol2_lin(X, a0, a1, a2, b0, b1, b2):\n",
    "    r, theta = X\n",
    "    return lin(r, a0 + a1 * theta + a2 * theta ** 2, b0 + b0 * theta + b1 * theta ** 2)"
   ],
   "outputs": [],
   "execution_count": 85
  },
  {
   "metadata": {
    "ExecuteTime": {
     "end_time": "2024-10-01T15:11:55.304948Z",
     "start_time": "2024-10-01T15:11:55.301437Z"
    }
   },
   "cell_type": "code",
   "source": [
    "avg_sigmas = (4, 5)\n",
    "avg_t_sigmas = (4, 5)\n",
    "num_of_groups = 10\n",
    "r_width = float(idf.pixel_size) * 2\n",
    "t_width = 0.25\n",
    "t_step = 0.25\n",
    "r_factor = 2 # not to change\n",
    "t_factor = int(t_width / t_step)\n",
    "weighed = True\n",
    "deg_lim = False\n",
    "param_fit = False # WORKS\n",
    "\n",
    "calibration_func = pol # pol\n",
    "param_calibration_func = d3pol2 # d3pol2\n",
    "p0 =  (100, 1, 100)\n",
    "p0_c =  (1.219, -0.5588, 0.2946, 864.4, -1922, 1055, -2535, 6572, -3751)\n",
    "num_of_calibration_params = 3 # 3\n",
    "num_of_param_fit_params = 3 # for param fit both prev and this number are important, cal_func as well, therefore p0 and p0_C\n",
    "target_variable = 'beta'\n",
    "target_angle = 'theta_p'\n",
    "num_of_theta_intervals = 11\n",
    "\n",
    "\n",
    "# sample_size = 12\n",
    "cal_arr = False\n",
    "beta_sigms = []\n",
    "beta_sigms_yerr = []\n",
    "beta_sigms_deglim = []\n",
    "beta_sigms_yerr_deglim = []"
   ],
   "outputs": [
    {
     "name": "stderr",
     "output_type": "stream",
     "text": [
      "C:\\Users\\BRINE\\AppData\\Local\\Temp\\ipykernel_23464\\338217538.py:4: FutureWarning: Calling float on a single element Series is deprecated and will raise a TypeError in the future. Use float(ser.iloc[0]) instead\n",
      "  r_width = float(idf.pixel_size) * 2\n"
     ]
    }
   ],
   "execution_count": 110
  },
  {
   "metadata": {
    "ExecuteTime": {
     "end_time": "2024-10-01T15:12:16.430106Z",
     "start_time": "2024-10-01T15:11:55.787433Z"
    }
   },
   "cell_type": "code",
   "source": [
    "cal_arr = rSlidingWindow(edf, idf, bdf, avg_sigmas=avg_sigmas, avg_t_sigmas=avg_t_sigmas, cal_arr=cal_arr, num_of_groups=num_of_groups,\n",
    "                               step=r_width, t_window_width=t_width, r_width_factor=r_factor, t_width_factor=t_factor, weighed=weighed, deg_lim=deg_lim, param_fit=param_fit, \n",
    "                         calibration_func=calibration_func, param_calibration_func=param_calibration_func, num_of_calibration_params=num_of_calibration_params, num_of_param_fit_params=num_of_param_fit_params, \n",
    "                         target_variable=target_variable, target_angle=target_angle, num_of_theta_intervals=num_of_theta_intervals, p0=p0, p0_c=p0_c)"
   ],
   "outputs": [
    {
     "name": "stdout",
     "output_type": "stream",
     "text": [
      "[[[[  0.94380506 -31.22939544 359.30801943]\n",
      "   [  0.91218178 -95.0612589  497.71998868]\n",
      "   [  0.92723191 -65.34660724 442.31047463]\n",
      "   [  0.93296893 -59.13985515 445.03392721]\n",
      "   [  0.93853806 -43.75374937 409.00488878]\n",
      "   [  0.95902848  -1.00891198 304.41103965]\n",
      "   [  0.96061704   1.59509993 318.78352195]\n",
      "   [  0.95970545   1.63084689 332.97081074]\n",
      "   [  0.96661235  23.03585651 273.28043171]\n",
      "   [  0.96824178  33.1747768  239.72293958]]]]\n",
      "(1, 1, 10, 3)\n",
      "0\n"
     ]
    }
   ],
   "execution_count": 111
  },
  {
   "metadata": {},
   "cell_type": "markdown",
   "source": "need to run twice. To remove broken events?"
  },
  {
   "metadata": {
    "ExecuteTime": {
     "end_time": "2024-10-01T15:12:31.697237Z",
     "start_time": "2024-10-01T15:12:31.694028Z"
    }
   },
   "cell_type": "code",
   "source": "cal_arr",
   "outputs": [
    {
     "data": {
      "text/plain": [
       "array([[[[  0.94380506, -31.22939544, 359.30801943],\n",
       "         [  0.91218178, -95.0612589 , 497.71998868],\n",
       "         [  0.92723191, -65.34660724, 442.31047463],\n",
       "         [  0.93296893, -59.13985515, 445.03392721],\n",
       "         [  0.93853806, -43.75374937, 409.00488878],\n",
       "         [  0.95902848,  -1.00891198, 304.41103965],\n",
       "         [  0.96061704,   1.59509993, 318.78352195],\n",
       "         [  0.95970545,   1.63084689, 332.97081074],\n",
       "         [  0.96661235,  23.03585651, 273.28043171],\n",
       "         [  0.96824178,  33.1747768 , 239.72293958]]]])"
      ]
     },
     "execution_count": 112,
     "metadata": {},
     "output_type": "execute_result"
    }
   ],
   "execution_count": 112
  },
  {
   "metadata": {
    "ExecuteTime": {
     "end_time": "2024-10-01T15:12:31.950043Z",
     "start_time": "2024-10-01T15:12:31.946968Z"
    }
   },
   "cell_type": "code",
   "source": "((bdf.beta - bdf.beta_from_calc_r_4_rsigms_4_tsigms) ** 2 / bdf.beta_from_calc_r_4_rsigms_4_tsigms).sum() / num_of_calibration_params # chi2",
   "outputs": [
    {
     "data": {
      "text/plain": [
       "0.06363089185270614"
      ]
     },
     "execution_count": 113,
     "metadata": {},
     "output_type": "execute_result"
    }
   ],
   "execution_count": 113
  },
  {
   "metadata": {
    "ExecuteTime": {
     "end_time": "2024-10-01T15:10:02.105174Z",
     "start_time": "2024-10-01T15:10:02.089803Z"
    }
   },
   "cell_type": "code",
   "source": "bdf",
   "outputs": [
    {
     "data": {
      "text/plain": [
       "        r_c_mean    r_c_std   r_c_width     momentum  signal_counts  \\\n",
       "0      33.226841  17.762249   53.760000  1408.464406           42.0   \n",
       "1      38.838049  16.123991   51.498893   932.768102           39.0   \n",
       "2      78.440184  50.136337  204.960000   770.366650           90.0   \n",
       "3      30.284396  13.355656   47.040000   868.738138           34.0   \n",
       "4      29.673423  16.217948   48.793319   891.133356           37.0   \n",
       "...          ...        ...         ...          ...            ...   \n",
       "19865  29.208468  15.588874   50.400000   765.358532           32.0   \n",
       "19866  37.960931  20.459889   60.480000   772.556603           46.0   \n",
       "19867  17.499324   9.760168   29.966762   511.352902           15.0   \n",
       "19868  30.580733  14.161868   43.680000   787.607792           26.0   \n",
       "19869  16.800000   8.886069   29.926052   511.674644           16.0   \n",
       "\n",
       "       beta_group   theta_p  cos_theta_p      beta  \\\n",
       "0            10.0  0.124085     0.992311  0.995126   \n",
       "1             8.0  0.454187     0.898618  0.988990   \n",
       "2             7.0  0.761376     0.723888  0.983981   \n",
       "3             8.0  0.117904     0.993057  0.987339   \n",
       "4             8.0  0.307330     0.953145  0.987956   \n",
       "...           ...       ...          ...       ...   \n",
       "19865         7.0  0.315050     0.950781  0.983776   \n",
       "19866         7.0  0.668863     0.784528  0.984070   \n",
       "19867         1.0  0.370776     0.932046  0.964711   \n",
       "19868         7.0  0.212217     0.977566  0.984659   \n",
       "19869         1.0  0.348391     0.939923  0.964753   \n",
       "\n",
       "       unfixed_calculated_r_2d_4_rsigms_4_tsigms  \\\n",
       "0                                      50.396168   \n",
       "1                                      52.392776   \n",
       "2                                      60.715660   \n",
       "3                                      44.875662   \n",
       "4                                      47.242859   \n",
       "...                                          ...   \n",
       "19865                                  43.753665   \n",
       "19866                                  59.957176   \n",
       "19867                                  25.306258   \n",
       "19868                                  43.190392   \n",
       "19869                                  25.591235   \n",
       "\n",
       "       beta_from_calc_r_4_rsigms_4_tsigms  delta_beta_4_rsigms_4_tsigms  \\\n",
       "0                                1.289515                      0.294389   \n",
       "1                                1.296574                      0.307584   \n",
       "2                                0.990425                      0.006444   \n",
       "3                                1.294869                      0.307530   \n",
       "4                                1.237471                      0.249515   \n",
       "...                                   ...                           ...   \n",
       "19865                                 NaN                           NaN   \n",
       "19866                                 NaN                           NaN   \n",
       "19867                                 NaN                           NaN   \n",
       "19868                                 NaN                           NaN   \n",
       "19869                                 NaN                           NaN   \n",
       "\n",
       "       eps_beta_4_rsigms_4_tsigms  \n",
       "0                       29.583095  \n",
       "1                       31.100844  \n",
       "2                        0.654874  \n",
       "3                       31.147361  \n",
       "4                       25.255629  \n",
       "...                           ...  \n",
       "19865                         NaN  \n",
       "19866                         NaN  \n",
       "19867                         NaN  \n",
       "19868                         NaN  \n",
       "19869                         NaN  \n",
       "\n",
       "[19791 rows x 13 columns]"
      ],
      "text/html": [
       "<div>\n",
       "<style scoped>\n",
       "    .dataframe tbody tr th:only-of-type {\n",
       "        vertical-align: middle;\n",
       "    }\n",
       "\n",
       "    .dataframe tbody tr th {\n",
       "        vertical-align: top;\n",
       "    }\n",
       "\n",
       "    .dataframe thead th {\n",
       "        text-align: right;\n",
       "    }\n",
       "</style>\n",
       "<table border=\"1\" class=\"dataframe\">\n",
       "  <thead>\n",
       "    <tr style=\"text-align: right;\">\n",
       "      <th></th>\n",
       "      <th>r_c_mean</th>\n",
       "      <th>r_c_std</th>\n",
       "      <th>r_c_width</th>\n",
       "      <th>momentum</th>\n",
       "      <th>signal_counts</th>\n",
       "      <th>beta_group</th>\n",
       "      <th>theta_p</th>\n",
       "      <th>cos_theta_p</th>\n",
       "      <th>beta</th>\n",
       "      <th>unfixed_calculated_r_2d_4_rsigms_4_tsigms</th>\n",
       "      <th>beta_from_calc_r_4_rsigms_4_tsigms</th>\n",
       "      <th>delta_beta_4_rsigms_4_tsigms</th>\n",
       "      <th>eps_beta_4_rsigms_4_tsigms</th>\n",
       "    </tr>\n",
       "  </thead>\n",
       "  <tbody>\n",
       "    <tr>\n",
       "      <th>0</th>\n",
       "      <td>33.226841</td>\n",
       "      <td>17.762249</td>\n",
       "      <td>53.760000</td>\n",
       "      <td>1408.464406</td>\n",
       "      <td>42.0</td>\n",
       "      <td>10.0</td>\n",
       "      <td>0.124085</td>\n",
       "      <td>0.992311</td>\n",
       "      <td>0.995126</td>\n",
       "      <td>50.396168</td>\n",
       "      <td>1.289515</td>\n",
       "      <td>0.294389</td>\n",
       "      <td>29.583095</td>\n",
       "    </tr>\n",
       "    <tr>\n",
       "      <th>1</th>\n",
       "      <td>38.838049</td>\n",
       "      <td>16.123991</td>\n",
       "      <td>51.498893</td>\n",
       "      <td>932.768102</td>\n",
       "      <td>39.0</td>\n",
       "      <td>8.0</td>\n",
       "      <td>0.454187</td>\n",
       "      <td>0.898618</td>\n",
       "      <td>0.988990</td>\n",
       "      <td>52.392776</td>\n",
       "      <td>1.296574</td>\n",
       "      <td>0.307584</td>\n",
       "      <td>31.100844</td>\n",
       "    </tr>\n",
       "    <tr>\n",
       "      <th>2</th>\n",
       "      <td>78.440184</td>\n",
       "      <td>50.136337</td>\n",
       "      <td>204.960000</td>\n",
       "      <td>770.366650</td>\n",
       "      <td>90.0</td>\n",
       "      <td>7.0</td>\n",
       "      <td>0.761376</td>\n",
       "      <td>0.723888</td>\n",
       "      <td>0.983981</td>\n",
       "      <td>60.715660</td>\n",
       "      <td>0.990425</td>\n",
       "      <td>0.006444</td>\n",
       "      <td>0.654874</td>\n",
       "    </tr>\n",
       "    <tr>\n",
       "      <th>3</th>\n",
       "      <td>30.284396</td>\n",
       "      <td>13.355656</td>\n",
       "      <td>47.040000</td>\n",
       "      <td>868.738138</td>\n",
       "      <td>34.0</td>\n",
       "      <td>8.0</td>\n",
       "      <td>0.117904</td>\n",
       "      <td>0.993057</td>\n",
       "      <td>0.987339</td>\n",
       "      <td>44.875662</td>\n",
       "      <td>1.294869</td>\n",
       "      <td>0.307530</td>\n",
       "      <td>31.147361</td>\n",
       "    </tr>\n",
       "    <tr>\n",
       "      <th>4</th>\n",
       "      <td>29.673423</td>\n",
       "      <td>16.217948</td>\n",
       "      <td>48.793319</td>\n",
       "      <td>891.133356</td>\n",
       "      <td>37.0</td>\n",
       "      <td>8.0</td>\n",
       "      <td>0.307330</td>\n",
       "      <td>0.953145</td>\n",
       "      <td>0.987956</td>\n",
       "      <td>47.242859</td>\n",
       "      <td>1.237471</td>\n",
       "      <td>0.249515</td>\n",
       "      <td>25.255629</td>\n",
       "    </tr>\n",
       "    <tr>\n",
       "      <th>...</th>\n",
       "      <td>...</td>\n",
       "      <td>...</td>\n",
       "      <td>...</td>\n",
       "      <td>...</td>\n",
       "      <td>...</td>\n",
       "      <td>...</td>\n",
       "      <td>...</td>\n",
       "      <td>...</td>\n",
       "      <td>...</td>\n",
       "      <td>...</td>\n",
       "      <td>...</td>\n",
       "      <td>...</td>\n",
       "      <td>...</td>\n",
       "    </tr>\n",
       "    <tr>\n",
       "      <th>19865</th>\n",
       "      <td>29.208468</td>\n",
       "      <td>15.588874</td>\n",
       "      <td>50.400000</td>\n",
       "      <td>765.358532</td>\n",
       "      <td>32.0</td>\n",
       "      <td>7.0</td>\n",
       "      <td>0.315050</td>\n",
       "      <td>0.950781</td>\n",
       "      <td>0.983776</td>\n",
       "      <td>43.753665</td>\n",
       "      <td>NaN</td>\n",
       "      <td>NaN</td>\n",
       "      <td>NaN</td>\n",
       "    </tr>\n",
       "    <tr>\n",
       "      <th>19866</th>\n",
       "      <td>37.960931</td>\n",
       "      <td>20.459889</td>\n",
       "      <td>60.480000</td>\n",
       "      <td>772.556603</td>\n",
       "      <td>46.0</td>\n",
       "      <td>7.0</td>\n",
       "      <td>0.668863</td>\n",
       "      <td>0.784528</td>\n",
       "      <td>0.984070</td>\n",
       "      <td>59.957176</td>\n",
       "      <td>NaN</td>\n",
       "      <td>NaN</td>\n",
       "      <td>NaN</td>\n",
       "    </tr>\n",
       "    <tr>\n",
       "      <th>19867</th>\n",
       "      <td>17.499324</td>\n",
       "      <td>9.760168</td>\n",
       "      <td>29.966762</td>\n",
       "      <td>511.352902</td>\n",
       "      <td>15.0</td>\n",
       "      <td>1.0</td>\n",
       "      <td>0.370776</td>\n",
       "      <td>0.932046</td>\n",
       "      <td>0.964711</td>\n",
       "      <td>25.306258</td>\n",
       "      <td>NaN</td>\n",
       "      <td>NaN</td>\n",
       "      <td>NaN</td>\n",
       "    </tr>\n",
       "    <tr>\n",
       "      <th>19868</th>\n",
       "      <td>30.580733</td>\n",
       "      <td>14.161868</td>\n",
       "      <td>43.680000</td>\n",
       "      <td>787.607792</td>\n",
       "      <td>26.0</td>\n",
       "      <td>7.0</td>\n",
       "      <td>0.212217</td>\n",
       "      <td>0.977566</td>\n",
       "      <td>0.984659</td>\n",
       "      <td>43.190392</td>\n",
       "      <td>NaN</td>\n",
       "      <td>NaN</td>\n",
       "      <td>NaN</td>\n",
       "    </tr>\n",
       "    <tr>\n",
       "      <th>19869</th>\n",
       "      <td>16.800000</td>\n",
       "      <td>8.886069</td>\n",
       "      <td>29.926052</td>\n",
       "      <td>511.674644</td>\n",
       "      <td>16.0</td>\n",
       "      <td>1.0</td>\n",
       "      <td>0.348391</td>\n",
       "      <td>0.939923</td>\n",
       "      <td>0.964753</td>\n",
       "      <td>25.591235</td>\n",
       "      <td>NaN</td>\n",
       "      <td>NaN</td>\n",
       "      <td>NaN</td>\n",
       "    </tr>\n",
       "  </tbody>\n",
       "</table>\n",
       "<p>19791 rows × 13 columns</p>\n",
       "</div>"
      ]
     },
     "execution_count": 90,
     "metadata": {},
     "output_type": "execute_result"
    }
   ],
   "execution_count": 90
  },
  {
   "metadata": {
    "ExecuteTime": {
     "end_time": "2024-10-01T15:10:02.106912Z",
     "start_time": "2024-10-01T15:10:02.105174Z"
    }
   },
   "cell_type": "code",
   "source": "",
   "outputs": [],
   "execution_count": 90
  },
  {
   "metadata": {
    "ExecuteTime": {
     "end_time": "2024-10-01T15:10:02.244452Z",
     "start_time": "2024-10-01T15:10:02.106912Z"
    }
   },
   "cell_type": "code",
   "source": "edf",
   "outputs": [
    {
     "data": {
      "text/plain": [
       "                       x_c     y_c        wv_c        r_c       x_i  \\\n",
       "entry subentry                                                        \n",
       "0     0          28.960131  135.52  398.425197  53.687794  71.59541   \n",
       "      1         112.960131  142.24  354.330709  57.090597  71.59541   \n",
       "      2         119.680131   75.04  409.448819  55.568447  71.59541   \n",
       "      3          59.200131   54.88  508.661417  49.585857  71.59541   \n",
       "      4          22.240131  122.08  359.842520  52.954113  71.59541   \n",
       "...                    ...     ...         ...        ...       ...   \n",
       "19882 11         28.960131 -351.68  492.125984  29.855749   2.24829   \n",
       "      12         25.600131 -388.64  409.448819  33.217640   2.24829   \n",
       "      13        -18.079869 -341.60  475.590551  31.008602   2.24829   \n",
       "      14         12.160131 -334.88  431.496063  31.723975   2.24829   \n",
       "      15        -18.079869 -344.96  381.889764  28.556416   2.24829   \n",
       "\n",
       "                       y_i       t_c     z_c       true_p      beta  ...  \\\n",
       "entry subentry                                                       ...   \n",
       "0     0         102.891605 -0.001269  2000.0  1408.464406  0.995126  ...   \n",
       "      1         102.891605 -0.023385  2000.0  1408.464406  0.995126  ...   \n",
       "      2         102.891605 -0.002171  2000.0  1408.464406  0.995126  ...   \n",
       "      3         102.891605  0.019134  2000.0  1408.464406  0.995126  ...   \n",
       "      4         102.891605  0.004915  2000.0  1408.464406  0.995126  ...   \n",
       "...                    ...       ...     ...          ...       ...  ...   \n",
       "19882 11       -365.015792  0.013547  2000.0   511.674644  0.964753  ...   \n",
       "      12       -365.015792 -0.030241  2000.0   511.674644  0.964753  ...   \n",
       "      13       -365.015792  0.025987  2000.0   511.674644  0.964753  ...   \n",
       "      14       -365.015792  0.033859  2000.0   511.674644  0.964753  ...   \n",
       "      15       -365.015792  0.021948  2000.0   511.674644  0.964753  ...   \n",
       "\n",
       "                mean_rotated_r_c  dist_from_mean_rotated_r_c  \\\n",
       "entry subentry                                                 \n",
       "0     0                54.187622                    0.484311   \n",
       "      1                54.187622                    3.466612   \n",
       "      2                54.187622                    1.408005   \n",
       "      3                54.187622                    4.718132   \n",
       "      4                54.187622                    1.296629   \n",
       "...                          ...                         ...   \n",
       "19882 11               28.375306                    1.017973   \n",
       "      12               28.375306                    6.711355   \n",
       "      13               28.375306                    2.163891   \n",
       "      14               28.375306                    3.038453   \n",
       "      15               28.375306                    0.383937   \n",
       "\n",
       "                rotated_r_c_sigm  beta_group  slice_counts_4_sigms  \\\n",
       "entry subentry                                                       \n",
       "0     0                 2.275199        10.0              0.419912   \n",
       "      1                 2.275199        10.0              0.101718   \n",
       "      2                 2.275199        10.0              0.281294   \n",
       "      3                 2.275199        10.0              0.257120   \n",
       "      4                 2.275199        10.0              0.419912   \n",
       "...                          ...         ...                   ...   \n",
       "19882 11                3.983168         1.0              0.237342   \n",
       "      12                3.983168         1.0              0.027923   \n",
       "      13                3.983168         1.0              0.221519   \n",
       "      14                3.983168         1.0              0.221519   \n",
       "      15                3.983168         1.0              0.237342   \n",
       "\n",
       "                unfixed_calculated_r_2d_4_rsigms_4_tsigms  cos_theta_p  \\\n",
       "entry subentry                                                           \n",
       "0     0                                         50.396168     0.992311   \n",
       "      1                                         50.396168     0.992311   \n",
       "      2                                         50.396168     0.992311   \n",
       "      3                                         50.396168     0.992311   \n",
       "      4                                         50.396168     0.992311   \n",
       "...                                                   ...          ...   \n",
       "19882 11                                        25.591235     0.939923   \n",
       "      12                                        25.591235     0.939923   \n",
       "      13                                        25.591235     0.939923   \n",
       "      14                                        25.591235     0.939923   \n",
       "      15                                        25.591235     0.939923   \n",
       "\n",
       "                beta_from_calc_r_4_rsigms_4_tsigms  \\\n",
       "entry subentry                                       \n",
       "0     0                                   1.289515   \n",
       "      1                                   1.289515   \n",
       "      2                                   1.289515   \n",
       "      3                                   1.289515   \n",
       "      4                                   1.289515   \n",
       "...                                            ...   \n",
       "19882 11                                  1.269126   \n",
       "      12                                  1.269126   \n",
       "      13                                  1.269126   \n",
       "      14                                  1.269126   \n",
       "      15                                  1.269126   \n",
       "\n",
       "                delta_beta_4_rsigms_4_tsigms  eps_beta_4_rsigms_4_tsigms  \n",
       "entry subentry                                                            \n",
       "0     0                             0.294389                   29.583095  \n",
       "      1                             0.294389                   29.583095  \n",
       "      2                             0.294389                   29.583095  \n",
       "      3                             0.294389                   29.583095  \n",
       "      4                             0.294389                   29.583095  \n",
       "...                                      ...                         ...  \n",
       "19882 11                            0.304373                   31.549350  \n",
       "      12                            0.304373                   31.549350  \n",
       "      13                            0.304373                   31.549350  \n",
       "      14                            0.304373                   31.549350  \n",
       "      15                            0.304373                   31.549350  \n",
       "\n",
       "[618127 rows x 51 columns]"
      ],
      "text/html": [
       "<div>\n",
       "<style scoped>\n",
       "    .dataframe tbody tr th:only-of-type {\n",
       "        vertical-align: middle;\n",
       "    }\n",
       "\n",
       "    .dataframe tbody tr th {\n",
       "        vertical-align: top;\n",
       "    }\n",
       "\n",
       "    .dataframe thead th {\n",
       "        text-align: right;\n",
       "    }\n",
       "</style>\n",
       "<table border=\"1\" class=\"dataframe\">\n",
       "  <thead>\n",
       "    <tr style=\"text-align: right;\">\n",
       "      <th></th>\n",
       "      <th></th>\n",
       "      <th>x_c</th>\n",
       "      <th>y_c</th>\n",
       "      <th>wv_c</th>\n",
       "      <th>r_c</th>\n",
       "      <th>x_i</th>\n",
       "      <th>y_i</th>\n",
       "      <th>t_c</th>\n",
       "      <th>z_c</th>\n",
       "      <th>true_p</th>\n",
       "      <th>beta</th>\n",
       "      <th>...</th>\n",
       "      <th>mean_rotated_r_c</th>\n",
       "      <th>dist_from_mean_rotated_r_c</th>\n",
       "      <th>rotated_r_c_sigm</th>\n",
       "      <th>beta_group</th>\n",
       "      <th>slice_counts_4_sigms</th>\n",
       "      <th>unfixed_calculated_r_2d_4_rsigms_4_tsigms</th>\n",
       "      <th>cos_theta_p</th>\n",
       "      <th>beta_from_calc_r_4_rsigms_4_tsigms</th>\n",
       "      <th>delta_beta_4_rsigms_4_tsigms</th>\n",
       "      <th>eps_beta_4_rsigms_4_tsigms</th>\n",
       "    </tr>\n",
       "    <tr>\n",
       "      <th>entry</th>\n",
       "      <th>subentry</th>\n",
       "      <th></th>\n",
       "      <th></th>\n",
       "      <th></th>\n",
       "      <th></th>\n",
       "      <th></th>\n",
       "      <th></th>\n",
       "      <th></th>\n",
       "      <th></th>\n",
       "      <th></th>\n",
       "      <th></th>\n",
       "      <th></th>\n",
       "      <th></th>\n",
       "      <th></th>\n",
       "      <th></th>\n",
       "      <th></th>\n",
       "      <th></th>\n",
       "      <th></th>\n",
       "      <th></th>\n",
       "      <th></th>\n",
       "      <th></th>\n",
       "      <th></th>\n",
       "    </tr>\n",
       "  </thead>\n",
       "  <tbody>\n",
       "    <tr>\n",
       "      <th rowspan=\"5\" valign=\"top\">0</th>\n",
       "      <th>0</th>\n",
       "      <td>28.960131</td>\n",
       "      <td>135.52</td>\n",
       "      <td>398.425197</td>\n",
       "      <td>53.687794</td>\n",
       "      <td>71.59541</td>\n",
       "      <td>102.891605</td>\n",
       "      <td>-0.001269</td>\n",
       "      <td>2000.0</td>\n",
       "      <td>1408.464406</td>\n",
       "      <td>0.995126</td>\n",
       "      <td>...</td>\n",
       "      <td>54.187622</td>\n",
       "      <td>0.484311</td>\n",
       "      <td>2.275199</td>\n",
       "      <td>10.0</td>\n",
       "      <td>0.419912</td>\n",
       "      <td>50.396168</td>\n",
       "      <td>0.992311</td>\n",
       "      <td>1.289515</td>\n",
       "      <td>0.294389</td>\n",
       "      <td>29.583095</td>\n",
       "    </tr>\n",
       "    <tr>\n",
       "      <th>1</th>\n",
       "      <td>112.960131</td>\n",
       "      <td>142.24</td>\n",
       "      <td>354.330709</td>\n",
       "      <td>57.090597</td>\n",
       "      <td>71.59541</td>\n",
       "      <td>102.891605</td>\n",
       "      <td>-0.023385</td>\n",
       "      <td>2000.0</td>\n",
       "      <td>1408.464406</td>\n",
       "      <td>0.995126</td>\n",
       "      <td>...</td>\n",
       "      <td>54.187622</td>\n",
       "      <td>3.466612</td>\n",
       "      <td>2.275199</td>\n",
       "      <td>10.0</td>\n",
       "      <td>0.101718</td>\n",
       "      <td>50.396168</td>\n",
       "      <td>0.992311</td>\n",
       "      <td>1.289515</td>\n",
       "      <td>0.294389</td>\n",
       "      <td>29.583095</td>\n",
       "    </tr>\n",
       "    <tr>\n",
       "      <th>2</th>\n",
       "      <td>119.680131</td>\n",
       "      <td>75.04</td>\n",
       "      <td>409.448819</td>\n",
       "      <td>55.568447</td>\n",
       "      <td>71.59541</td>\n",
       "      <td>102.891605</td>\n",
       "      <td>-0.002171</td>\n",
       "      <td>2000.0</td>\n",
       "      <td>1408.464406</td>\n",
       "      <td>0.995126</td>\n",
       "      <td>...</td>\n",
       "      <td>54.187622</td>\n",
       "      <td>1.408005</td>\n",
       "      <td>2.275199</td>\n",
       "      <td>10.0</td>\n",
       "      <td>0.281294</td>\n",
       "      <td>50.396168</td>\n",
       "      <td>0.992311</td>\n",
       "      <td>1.289515</td>\n",
       "      <td>0.294389</td>\n",
       "      <td>29.583095</td>\n",
       "    </tr>\n",
       "    <tr>\n",
       "      <th>3</th>\n",
       "      <td>59.200131</td>\n",
       "      <td>54.88</td>\n",
       "      <td>508.661417</td>\n",
       "      <td>49.585857</td>\n",
       "      <td>71.59541</td>\n",
       "      <td>102.891605</td>\n",
       "      <td>0.019134</td>\n",
       "      <td>2000.0</td>\n",
       "      <td>1408.464406</td>\n",
       "      <td>0.995126</td>\n",
       "      <td>...</td>\n",
       "      <td>54.187622</td>\n",
       "      <td>4.718132</td>\n",
       "      <td>2.275199</td>\n",
       "      <td>10.0</td>\n",
       "      <td>0.257120</td>\n",
       "      <td>50.396168</td>\n",
       "      <td>0.992311</td>\n",
       "      <td>1.289515</td>\n",
       "      <td>0.294389</td>\n",
       "      <td>29.583095</td>\n",
       "    </tr>\n",
       "    <tr>\n",
       "      <th>4</th>\n",
       "      <td>22.240131</td>\n",
       "      <td>122.08</td>\n",
       "      <td>359.842520</td>\n",
       "      <td>52.954113</td>\n",
       "      <td>71.59541</td>\n",
       "      <td>102.891605</td>\n",
       "      <td>0.004915</td>\n",
       "      <td>2000.0</td>\n",
       "      <td>1408.464406</td>\n",
       "      <td>0.995126</td>\n",
       "      <td>...</td>\n",
       "      <td>54.187622</td>\n",
       "      <td>1.296629</td>\n",
       "      <td>2.275199</td>\n",
       "      <td>10.0</td>\n",
       "      <td>0.419912</td>\n",
       "      <td>50.396168</td>\n",
       "      <td>0.992311</td>\n",
       "      <td>1.289515</td>\n",
       "      <td>0.294389</td>\n",
       "      <td>29.583095</td>\n",
       "    </tr>\n",
       "    <tr>\n",
       "      <th>...</th>\n",
       "      <th>...</th>\n",
       "      <td>...</td>\n",
       "      <td>...</td>\n",
       "      <td>...</td>\n",
       "      <td>...</td>\n",
       "      <td>...</td>\n",
       "      <td>...</td>\n",
       "      <td>...</td>\n",
       "      <td>...</td>\n",
       "      <td>...</td>\n",
       "      <td>...</td>\n",
       "      <td>...</td>\n",
       "      <td>...</td>\n",
       "      <td>...</td>\n",
       "      <td>...</td>\n",
       "      <td>...</td>\n",
       "      <td>...</td>\n",
       "      <td>...</td>\n",
       "      <td>...</td>\n",
       "      <td>...</td>\n",
       "      <td>...</td>\n",
       "      <td>...</td>\n",
       "    </tr>\n",
       "    <tr>\n",
       "      <th rowspan=\"5\" valign=\"top\">19882</th>\n",
       "      <th>11</th>\n",
       "      <td>28.960131</td>\n",
       "      <td>-351.68</td>\n",
       "      <td>492.125984</td>\n",
       "      <td>29.855749</td>\n",
       "      <td>2.24829</td>\n",
       "      <td>-365.015792</td>\n",
       "      <td>0.013547</td>\n",
       "      <td>2000.0</td>\n",
       "      <td>511.674644</td>\n",
       "      <td>0.964753</td>\n",
       "      <td>...</td>\n",
       "      <td>28.375306</td>\n",
       "      <td>1.017973</td>\n",
       "      <td>3.983168</td>\n",
       "      <td>1.0</td>\n",
       "      <td>0.237342</td>\n",
       "      <td>25.591235</td>\n",
       "      <td>0.939923</td>\n",
       "      <td>1.269126</td>\n",
       "      <td>0.304373</td>\n",
       "      <td>31.549350</td>\n",
       "    </tr>\n",
       "    <tr>\n",
       "      <th>12</th>\n",
       "      <td>25.600131</td>\n",
       "      <td>-388.64</td>\n",
       "      <td>409.448819</td>\n",
       "      <td>33.217640</td>\n",
       "      <td>2.24829</td>\n",
       "      <td>-365.015792</td>\n",
       "      <td>-0.030241</td>\n",
       "      <td>2000.0</td>\n",
       "      <td>511.674644</td>\n",
       "      <td>0.964753</td>\n",
       "      <td>...</td>\n",
       "      <td>28.375306</td>\n",
       "      <td>6.711355</td>\n",
       "      <td>3.983168</td>\n",
       "      <td>1.0</td>\n",
       "      <td>0.027923</td>\n",
       "      <td>25.591235</td>\n",
       "      <td>0.939923</td>\n",
       "      <td>1.269126</td>\n",
       "      <td>0.304373</td>\n",
       "      <td>31.549350</td>\n",
       "    </tr>\n",
       "    <tr>\n",
       "      <th>13</th>\n",
       "      <td>-18.079869</td>\n",
       "      <td>-341.60</td>\n",
       "      <td>475.590551</td>\n",
       "      <td>31.008602</td>\n",
       "      <td>2.24829</td>\n",
       "      <td>-365.015792</td>\n",
       "      <td>0.025987</td>\n",
       "      <td>2000.0</td>\n",
       "      <td>511.674644</td>\n",
       "      <td>0.964753</td>\n",
       "      <td>...</td>\n",
       "      <td>28.375306</td>\n",
       "      <td>2.163891</td>\n",
       "      <td>3.983168</td>\n",
       "      <td>1.0</td>\n",
       "      <td>0.221519</td>\n",
       "      <td>25.591235</td>\n",
       "      <td>0.939923</td>\n",
       "      <td>1.269126</td>\n",
       "      <td>0.304373</td>\n",
       "      <td>31.549350</td>\n",
       "    </tr>\n",
       "    <tr>\n",
       "      <th>14</th>\n",
       "      <td>12.160131</td>\n",
       "      <td>-334.88</td>\n",
       "      <td>431.496063</td>\n",
       "      <td>31.723975</td>\n",
       "      <td>2.24829</td>\n",
       "      <td>-365.015792</td>\n",
       "      <td>0.033859</td>\n",
       "      <td>2000.0</td>\n",
       "      <td>511.674644</td>\n",
       "      <td>0.964753</td>\n",
       "      <td>...</td>\n",
       "      <td>28.375306</td>\n",
       "      <td>3.038453</td>\n",
       "      <td>3.983168</td>\n",
       "      <td>1.0</td>\n",
       "      <td>0.221519</td>\n",
       "      <td>25.591235</td>\n",
       "      <td>0.939923</td>\n",
       "      <td>1.269126</td>\n",
       "      <td>0.304373</td>\n",
       "      <td>31.549350</td>\n",
       "    </tr>\n",
       "    <tr>\n",
       "      <th>15</th>\n",
       "      <td>-18.079869</td>\n",
       "      <td>-344.96</td>\n",
       "      <td>381.889764</td>\n",
       "      <td>28.556416</td>\n",
       "      <td>2.24829</td>\n",
       "      <td>-365.015792</td>\n",
       "      <td>0.021948</td>\n",
       "      <td>2000.0</td>\n",
       "      <td>511.674644</td>\n",
       "      <td>0.964753</td>\n",
       "      <td>...</td>\n",
       "      <td>28.375306</td>\n",
       "      <td>0.383937</td>\n",
       "      <td>3.983168</td>\n",
       "      <td>1.0</td>\n",
       "      <td>0.237342</td>\n",
       "      <td>25.591235</td>\n",
       "      <td>0.939923</td>\n",
       "      <td>1.269126</td>\n",
       "      <td>0.304373</td>\n",
       "      <td>31.549350</td>\n",
       "    </tr>\n",
       "  </tbody>\n",
       "</table>\n",
       "<p>618127 rows × 51 columns</p>\n",
       "</div>"
      ]
     },
     "execution_count": 91,
     "metadata": {},
     "output_type": "execute_result"
    }
   ],
   "execution_count": 91
  },
  {
   "metadata": {
    "ExecuteTime": {
     "end_time": "2024-10-01T15:10:02.528843Z",
     "start_time": "2024-10-01T15:10:02.244452Z"
    }
   },
   "cell_type": "code",
   "source": [
    "plt.subplots(1, 2, figsize=(18, 6))\n",
    "plt.subplot(1, 2, 1)\n",
    "plt.hist(bdf.r_c_std, bins='auto')\n",
    "plt.subplot(1, 2, 2)\n",
    "plt.hist(bdf.r_c_width, bins='auto')\n",
    "plt.show()"
   ],
   "outputs": [
    {
     "data": {
      "text/plain": [
       "<Figure size 1800x600 with 2 Axes>"
      ],
      "image/png": "[encoded data removed]"
     },
     "metadata": {},
     "output_type": "display_data"
    }
   ],
   "execution_count": 92
  },
  {
   "metadata": {
    "ExecuteTime": {
     "end_time": "2024-10-01T15:10:02.532325Z",
     "start_time": "2024-10-01T15:10:02.528843Z"
    }
   },
   "cell_type": "code",
   "source": "np.tan(np.arccos(1 / (idf.n_mean * bdf.iloc[0].beta))) * 40",
   "outputs": [
    {
     "data": {
      "text/plain": [
       "0    11.428647\n",
       "Name: n_mean, dtype: float64"
      ]
     },
     "execution_count": 93,
     "metadata": {},
     "output_type": "execute_result"
    }
   ],
   "execution_count": 93
  },
  {
   "metadata": {
    "ExecuteTime": {
     "end_time": "2024-10-01T15:10:02.543937Z",
     "start_time": "2024-10-01T15:10:02.532325Z"
    }
   },
   "cell_type": "code",
   "source": "np.sin(np.arccos(1 / (idf.n_mean * bdf.iloc[0].beta))) ** 2 * 90 * 40",
   "outputs": [
    {
     "data": {
      "text/plain": [
       "0    271.701444\n",
       "Name: n_mean, dtype: float64"
      ]
     },
     "execution_count": 94,
     "metadata": {},
     "output_type": "execute_result"
    }
   ],
   "execution_count": 94
  },
  {
   "metadata": {
    "ExecuteTime": {
     "end_time": "2024-10-01T15:10:02.673895Z",
     "start_time": "2024-10-01T15:10:02.543937Z"
    }
   },
   "cell_type": "code",
   "source": [
    "event = edf.loc[12]\n",
    "plt.subplots(1, 3, figsize=(24, 6))\n",
    "plt.subplot(1, 3, 1)\n",
    "plt.scatter(event.x_c, event.y_c)\n",
    "plt.scatter(event.x_i, event.y_i)\n",
    "# plt.xlim((-70, 70))\n",
    "# plt.ylim((-70, 70))\n",
    "plt.subplot(1, 3, 2)\n",
    "plt.scatter(event.rotated_r_c, event.slice_counts_4_sigms)\n",
    "plt.xlim((45, 70))\n",
    "plt.subplot(1, 3, 3)\n",
    "plt.hist(event.rotated_r_c, bins='auto')\n",
    "plt.show()"
   ],
   "outputs": [
    {
     "data": {
      "text/plain": [
       "<Figure size 2400x600 with 3 Axes>"
      ],
      "image/png": "[encoded data removed]"
     },
     "metadata": {},
     "output_type": "display_data"
    }
   ],
   "execution_count": 95
  },
  {
   "metadata": {
    "ExecuteTime": {
     "end_time": "2024-10-01T15:10:02.745946Z",
     "start_time": "2024-10-01T15:10:02.673895Z"
    }
   },
   "cell_type": "code",
   "source": [
    "plt.scatter(bdf.beta, bdf.signal_counts)\n",
    "plt.show()"
   ],
   "outputs": [
    {
     "data": {
      "text/plain": [
       "<Figure size 640x480 with 1 Axes>"
      ],
      "image/png": "[encoded data removed]"
     },
     "metadata": {},
     "output_type": "display_data"
    }
   ],
   "execution_count": 96
  },
  {
   "metadata": {
    "ExecuteTime": {
     "end_time": "2024-10-01T15:10:02.761767Z",
     "start_time": "2024-10-01T15:10:02.745946Z"
    }
   },
   "cell_type": "code",
   "source": "event",
   "outputs": [
    {
     "data": {
      "text/plain": [
       "                 x_c     y_c        wv_c        r_c        x_i         y_i  \\\n",
       "subentry                                                                     \n",
       "0         126.400131 -311.36  640.944882  45.075753  82.445773 -321.351895   \n",
       "1          39.040131 -341.60  740.157480  47.896091  82.445773 -321.351895   \n",
       "2         112.960131 -287.84  392.913386  45.322987  82.445773 -321.351895   \n",
       "3         109.600131 -284.48  442.519685  45.791875  82.445773 -321.351895   \n",
       "4         126.400131 -304.64  414.960630  47.024174  82.445773 -321.351895   \n",
       "5          52.480131 -284.48  348.818898  47.512908  82.445773 -321.351895   \n",
       "6         109.600131 -365.12  492.125984  51.507340  82.445773 -321.351895   \n",
       "7          35.680131 -331.52  624.409449  47.858287  82.445773 -321.351895   \n",
       "8          69.280131 -371.84  414.960630  52.176459  82.445773 -321.351895   \n",
       "9         129.760131 -328.16  552.755906  47.801660  82.445773 -321.351895   \n",
       "10        123.040131 -355.04  497.637795  52.752159  82.445773 -321.351895   \n",
       "11        126.400131 -308.00  784.251969  45.937552  82.445773 -321.351895   \n",
       "12         99.520131 -277.76  365.354331  46.816525  82.445773 -321.351895   \n",
       "13         45.760131 -287.84  337.795276  49.687861  82.445773 -321.351895   \n",
       "14        123.040131 -297.92  459.055118  46.871693  82.445773 -321.351895   \n",
       "15        123.040131 -294.56  365.354331  48.638539  82.445773 -321.351895   \n",
       "16        106.240131 -277.76  321.259843  49.663113  82.445773 -321.351895   \n",
       "17        102.880131 -277.76  448.031496  48.143705  82.445773 -321.351895   \n",
       "18         39.040131 -348.32  585.826772  51.101159  82.445773 -321.351895   \n",
       "19         65.920131 -277.76  381.889764  46.619204  82.445773 -321.351895   \n",
       "20        123.040131 -361.76  398.425197  57.277542  82.445773 -321.351895   \n",
       "21         39.040131 -304.64  668.503937  46.511690  82.445773 -321.351895   \n",
       "22        116.320131 -365.12  392.913386  55.345452  82.445773 -321.351895   \n",
       "23        129.760131 -308.00  354.330709  49.162196  82.445773 -321.351895   \n",
       "24         49.120131 -358.40  425.984252  49.831321  82.445773 -321.351895   \n",
       "25        133.120131 -334.88  370.866142  52.449024  82.445773 -321.351895   \n",
       "26         65.920131 -371.84  712.598425  53.123870  82.445773 -321.351895   \n",
       "27        119.680131 -365.12  525.196850  57.463417  82.445773 -321.351895   \n",
       "28        129.760131 -318.08  519.685039  47.427352  82.445773 -321.351895   \n",
       "29        133.120131 -341.60  420.472441  54.569921  82.445773 -321.351895   \n",
       "30         82.720131 -274.40  503.149606  46.952697  82.445773 -321.351895   \n",
       "31         45.760131 -361.76  464.566929  54.577022  82.445773 -321.351895   \n",
       "32         55.840131 -281.12  343.307087  48.233449  82.445773 -321.351895   \n",
       "\n",
       "               t_c     z_c      true_p      beta  ...  mean_rotated_r_c  \\\n",
       "subentry                                          ...                     \n",
       "0        -0.003140  2000.0  801.335527  0.985169  ...         50.332896   \n",
       "1        -0.011342  2000.0  801.335527  0.985169  ...         50.332896   \n",
       "2         0.025340  2000.0  801.335527  0.985169  ...         50.332896   \n",
       "3         0.029830  2000.0  801.335527  0.985169  ...         50.332896   \n",
       "4         0.003925  2000.0  801.335527  0.985169  ...         50.332896   \n",
       "5         0.045484  2000.0  801.335527  0.985169  ...         50.332896   \n",
       "6        -0.054492  2000.0  801.335527  0.985169  ...         50.332896   \n",
       "7         0.000133  2000.0  801.335527  0.985169  ...         50.332896   \n",
       "8        -0.050767  2000.0  801.335527  0.985169  ...         50.332896   \n",
       "9        -0.021608  2000.0  801.335527  0.985169  ...         50.332896   \n",
       "10       -0.047672  2000.0  801.335527  0.985169  ...         50.332896   \n",
       "11        0.000390  2000.0  801.335527  0.985169  ...         50.332896   \n",
       "12        0.039758  2000.0  801.335527  0.985169  ...         50.332896   \n",
       "13        0.043734  2000.0  801.335527  0.985169  ...         50.332896   \n",
       "14        0.011922  2000.0  801.335527  0.985169  ...         50.332896   \n",
       "15        0.015475  2000.0  801.335527  0.985169  ...         50.332896   \n",
       "16        0.037920  2000.0  801.335527  0.985169  ...         50.332896   \n",
       "17        0.038839  2000.0  801.335527  0.985169  ...         50.332896   \n",
       "18       -0.018363  2000.0  801.335527  0.985169  ...         50.332896   \n",
       "19        0.048991  2000.0  801.335527  0.985169  ...         50.332896   \n",
       "20       -0.054595  2000.0  801.335527  0.985169  ...         50.332896   \n",
       "21        0.027642  2000.0  801.335527  0.985169  ...         50.332896   \n",
       "22       -0.056270  2000.0  801.335527  0.985169  ...         50.332896   \n",
       "23       -0.000516  2000.0  801.335527  0.985169  ...         50.332896   \n",
       "24       -0.031537  2000.0  801.335527  0.985169  ...         50.332896   \n",
       "25       -0.029497  2000.0  801.335527  0.985169  ...         50.332896   \n",
       "26       -0.049882  2000.0  801.335527  0.985169  ...         50.332896   \n",
       "27       -0.057160  2000.0  801.335527  0.985169  ...         50.332896   \n",
       "28       -0.011086  2000.0  801.335527  0.985169  ...         50.332896   \n",
       "29       -0.036466  2000.0  801.335527  0.985169  ...         50.332896   \n",
       "30        0.047972  2000.0  801.335527  0.985169  ...         50.332896   \n",
       "31       -0.034132  2000.0  801.335527  0.985169  ...         50.332896   \n",
       "32        0.048163  2000.0  801.335527  0.985169  ...         50.332896   \n",
       "\n",
       "          dist_from_mean_rotated_r_c  rotated_r_c_sigm  beta_group  \\\n",
       "subentry                                                             \n",
       "0                           5.210539          4.240312         7.0   \n",
       "1                           2.161377          4.240312         7.0   \n",
       "2                           5.167982          4.240312         7.0   \n",
       "3                           4.623100          4.240312         7.0   \n",
       "4                           3.408125          4.240312         7.0   \n",
       "5                           2.428656          4.240312         7.0   \n",
       "6                           3.733222          4.240312         7.0   \n",
       "7                           2.505678          4.240312         7.0   \n",
       "8                           4.079126          4.240312         7.0   \n",
       "9                           1.841102          4.240312         7.0   \n",
       "10                          4.402901          4.240312         7.0   \n",
       "11                          4.433297          4.240312         7.0   \n",
       "12                          3.335145          4.240312         7.0   \n",
       "13                          0.286037          4.240312         7.0   \n",
       "14                          3.643809          4.240312         7.0   \n",
       "15                          1.866151          4.240312         7.0   \n",
       "16                          0.497853          4.240312         7.0   \n",
       "17                          2.014584          4.240312         7.0   \n",
       "18                          1.249523          4.240312         7.0   \n",
       "19                          3.192325          4.240312         7.0   \n",
       "20                          9.118193          4.240312         7.0   \n",
       "21                          3.928068          4.240312         7.0   \n",
       "22                          7.430192          4.240312         7.0   \n",
       "23                          1.188690          4.240312         7.0   \n",
       "24                          0.630285          4.240312         7.0   \n",
       "25                          3.050506          4.240312         7.0   \n",
       "26                          4.903399          4.240312         7.0   \n",
       "27                          9.467228          4.240312         7.0   \n",
       "28                          2.633511          4.240312         7.0   \n",
       "29                          5.452425          4.240312         7.0   \n",
       "30                          2.897412          4.240312         7.0   \n",
       "31                          5.337369          4.240312         7.0   \n",
       "32                          1.590927          4.240312         7.0   \n",
       "\n",
       "          slice_counts_4_sigms  unfixed_calculated_r_2d_4_rsigms_4_tsigms  \\\n",
       "subentry                                                                    \n",
       "0                     0.323648                                  45.427974   \n",
       "1                     0.350853                                  45.427974   \n",
       "2                     0.323648                                  45.427974   \n",
       "3                     0.323648                                  45.427974   \n",
       "4                     0.350853                                  45.427974   \n",
       "5                     0.350853                                  45.427974   \n",
       "6                     0.127799                                  45.427974   \n",
       "7                     0.350853                                  45.427974   \n",
       "8                     0.127799                                  45.427974   \n",
       "9                     0.158228                                  45.427974   \n",
       "10                    0.127799                                  45.427974   \n",
       "11                    0.323648                                  45.427974   \n",
       "12                    0.350853                                  45.427974   \n",
       "13                    0.158228                                  45.427974   \n",
       "14                    0.350853                                  45.427974   \n",
       "15                    0.158228                                  45.427974   \n",
       "16                    0.158228                                  45.427974   \n",
       "17                    0.350853                                  45.427974   \n",
       "18                    0.113924                                  45.427974   \n",
       "19                    0.350853                                  45.427974   \n",
       "20                    0.032737                                  45.427974   \n",
       "21                    0.350853                                  45.427974   \n",
       "22                    0.050859                                  45.427974   \n",
       "23                    0.158228                                  45.427974   \n",
       "24                    0.113924                                  45.427974   \n",
       "25                    0.127799                                  45.427974   \n",
       "26                    0.070323                                  45.427974   \n",
       "27                    0.032737                                  45.427974   \n",
       "28                    0.350853                                  45.427974   \n",
       "29                    0.070323                                  45.427974   \n",
       "30                    0.350853                                  45.427974   \n",
       "31                    0.070323                                  45.427974   \n",
       "32                    0.158228                                  45.427974   \n",
       "\n",
       "          cos_theta_p  beta_from_calc_r_4_rsigms_4_tsigms  \\\n",
       "subentry                                                    \n",
       "0            0.949598                            1.238808   \n",
       "1            0.949598                            1.238808   \n",
       "2            0.949598                            1.238808   \n",
       "3            0.949598                            1.238808   \n",
       "4            0.949598                            1.238808   \n",
       "5            0.949598                            1.238808   \n",
       "6            0.949598                            1.238808   \n",
       "7            0.949598                            1.238808   \n",
       "8            0.949598                            1.238808   \n",
       "9            0.949598                            1.238808   \n",
       "10           0.949598                            1.238808   \n",
       "11           0.949598                            1.238808   \n",
       "12           0.949598                            1.238808   \n",
       "13           0.949598                            1.238808   \n",
       "14           0.949598                            1.238808   \n",
       "15           0.949598                            1.238808   \n",
       "16           0.949598                            1.238808   \n",
       "17           0.949598                            1.238808   \n",
       "18           0.949598                            1.238808   \n",
       "19           0.949598                            1.238808   \n",
       "20           0.949598                            1.238808   \n",
       "21           0.949598                            1.238808   \n",
       "22           0.949598                            1.238808   \n",
       "23           0.949598                            1.238808   \n",
       "24           0.949598                            1.238808   \n",
       "25           0.949598                            1.238808   \n",
       "26           0.949598                            1.238808   \n",
       "27           0.949598                            1.238808   \n",
       "28           0.949598                            1.238808   \n",
       "29           0.949598                            1.238808   \n",
       "30           0.949598                            1.238808   \n",
       "31           0.949598                            1.238808   \n",
       "32           0.949598                            1.238808   \n",
       "\n",
       "          delta_beta_4_rsigms_4_tsigms  eps_beta_4_rsigms_4_tsigms  \n",
       "subentry                                                            \n",
       "0                             0.253639                   25.745792  \n",
       "1                             0.253639                   25.745792  \n",
       "2                             0.253639                   25.745792  \n",
       "3                             0.253639                   25.745792  \n",
       "4                             0.253639                   25.745792  \n",
       "5                             0.253639                   25.745792  \n",
       "6                             0.253639                   25.745792  \n",
       "7                             0.253639                   25.745792  \n",
       "8                             0.253639                   25.745792  \n",
       "9                             0.253639                   25.745792  \n",
       "10                            0.253639                   25.745792  \n",
       "11                            0.253639                   25.745792  \n",
       "12                            0.253639                   25.745792  \n",
       "13                            0.253639                   25.745792  \n",
       "14                            0.253639                   25.745792  \n",
       "15                            0.253639                   25.745792  \n",
       "16                            0.253639                   25.745792  \n",
       "17                            0.253639                   25.745792  \n",
       "18                            0.253639                   25.745792  \n",
       "19                            0.253639                   25.745792  \n",
       "20                            0.253639                   25.745792  \n",
       "21                            0.253639                   25.745792  \n",
       "22                            0.253639                   25.745792  \n",
       "23                            0.253639                   25.745792  \n",
       "24                            0.253639                   25.745792  \n",
       "25                            0.253639                   25.745792  \n",
       "26                            0.253639                   25.745792  \n",
       "27                            0.253639                   25.745792  \n",
       "28                            0.253639                   25.745792  \n",
       "29                            0.253639                   25.745792  \n",
       "30                            0.253639                   25.745792  \n",
       "31                            0.253639                   25.745792  \n",
       "32                            0.253639                   25.745792  \n",
       "\n",
       "[33 rows x 51 columns]"
      ],
      "text/html": [
       "<div>\n",
       "<style scoped>\n",
       "    .dataframe tbody tr th:only-of-type {\n",
       "        vertical-align: middle;\n",
       "    }\n",
       "\n",
       "    .dataframe tbody tr th {\n",
       "        vertical-align: top;\n",
       "    }\n",
       "\n",
       "    .dataframe thead th {\n",
       "        text-align: right;\n",
       "    }\n",
       "</style>\n",
       "<table border=\"1\" class=\"dataframe\">\n",
       "  <thead>\n",
       "    <tr style=\"text-align: right;\">\n",
       "      <th></th>\n",
       "      <th>x_c</th>\n",
       "      <th>y_c</th>\n",
       "      <th>wv_c</th>\n",
       "      <th>r_c</th>\n",
       "      <th>x_i</th>\n",
       "      <th>y_i</th>\n",
       "      <th>t_c</th>\n",
       "      <th>z_c</th>\n",
       "      <th>true_p</th>\n",
       "      <th>beta</th>\n",
       "      <th>...</th>\n",
       "      <th>mean_rotated_r_c</th>\n",
       "      <th>dist_from_mean_rotated_r_c</th>\n",
       "      <th>rotated_r_c_sigm</th>\n",
       "      <th>beta_group</th>\n",
       "      <th>slice_counts_4_sigms</th>\n",
       "      <th>unfixed_calculated_r_2d_4_rsigms_4_tsigms</th>\n",
       "      <th>cos_theta_p</th>\n",
       "      <th>beta_from_calc_r_4_rsigms_4_tsigms</th>\n",
       "      <th>delta_beta_4_rsigms_4_tsigms</th>\n",
       "      <th>eps_beta_4_rsigms_4_tsigms</th>\n",
       "    </tr>\n",
       "    <tr>\n",
       "      <th>subentry</th>\n",
       "      <th></th>\n",
       "      <th></th>\n",
       "      <th></th>\n",
       "      <th></th>\n",
       "      <th></th>\n",
       "      <th></th>\n",
       "      <th></th>\n",
       "      <th></th>\n",
       "      <th></th>\n",
       "      <th></th>\n",
       "      <th></th>\n",
       "      <th></th>\n",
       "      <th></th>\n",
       "      <th></th>\n",
       "      <th></th>\n",
       "      <th></th>\n",
       "      <th></th>\n",
       "      <th></th>\n",
       "      <th></th>\n",
       "      <th></th>\n",
       "      <th></th>\n",
       "    </tr>\n",
       "  </thead>\n",
       "  <tbody>\n",
       "    <tr>\n",
       "      <th>0</th>\n",
       "      <td>126.400131</td>\n",
       "      <td>-311.36</td>\n",
       "      <td>640.944882</td>\n",
       "      <td>45.075753</td>\n",
       "      <td>82.445773</td>\n",
       "      <td>-321.351895</td>\n",
       "      <td>-0.003140</td>\n",
       "      <td>2000.0</td>\n",
       "      <td>801.335527</td>\n",
       "      <td>0.985169</td>\n",
       "      <td>...</td>\n",
       "      <td>50.332896</td>\n",
       "      <td>5.210539</td>\n",
       "      <td>4.240312</td>\n",
       "      <td>7.0</td>\n",
       "      <td>0.323648</td>\n",
       "      <td>45.427974</td>\n",
       "      <td>0.949598</td>\n",
       "      <td>1.238808</td>\n",
       "      <td>0.253639</td>\n",
       "      <td>25.745792</td>\n",
       "    </tr>\n",
       "    <tr>\n",
       "      <th>1</th>\n",
       "      <td>39.040131</td>\n",
       "      <td>-341.60</td>\n",
       "      <td>740.157480</td>\n",
       "      <td>47.896091</td>\n",
       "      <td>82.445773</td>\n",
       "      <td>-321.351895</td>\n",
       "      <td>-0.011342</td>\n",
       "      <td>2000.0</td>\n",
       "      <td>801.335527</td>\n",
       "      <td>0.985169</td>\n",
       "      <td>...</td>\n",
       "      <td>50.332896</td>\n",
       "      <td>2.161377</td>\n",
       "      <td>4.240312</td>\n",
       "      <td>7.0</td>\n",
       "      <td>0.350853</td>\n",
       "      <td>45.427974</td>\n",
       "      <td>0.949598</td>\n",
       "      <td>1.238808</td>\n",
       "      <td>0.253639</td>\n",
       "      <td>25.745792</td>\n",
       "    </tr>\n",
       "    <tr>\n",
       "      <th>2</th>\n",
       "      <td>112.960131</td>\n",
       "      <td>-287.84</td>\n",
       "      <td>392.913386</td>\n",
       "      <td>45.322987</td>\n",
       "      <td>82.445773</td>\n",
       "      <td>-321.351895</td>\n",
       "      <td>0.025340</td>\n",
       "      <td>2000.0</td>\n",
       "      <td>801.335527</td>\n",
       "      <td>0.985169</td>\n",
       "      <td>...</td>\n",
       "      <td>50.332896</td>\n",
       "      <td>5.167982</td>\n",
       "      <td>4.240312</td>\n",
       "      <td>7.0</td>\n",
       "      <td>0.323648</td>\n",
       "      <td>45.427974</td>\n",
       "      <td>0.949598</td>\n",
       "      <td>1.238808</td>\n",
       "      <td>0.253639</td>\n",
       "      <td>25.745792</td>\n",
       "    </tr>\n",
       "    <tr>\n",
       "      <th>3</th>\n",
       "      <td>109.600131</td>\n",
       "      <td>-284.48</td>\n",
       "      <td>442.519685</td>\n",
       "      <td>45.791875</td>\n",
       "      <td>82.445773</td>\n",
       "      <td>-321.351895</td>\n",
       "      <td>0.029830</td>\n",
       "      <td>2000.0</td>\n",
       "      <td>801.335527</td>\n",
       "      <td>0.985169</td>\n",
       "      <td>...</td>\n",
       "      <td>50.332896</td>\n",
       "      <td>4.623100</td>\n",
       "      <td>4.240312</td>\n",
       "      <td>7.0</td>\n",
       "      <td>0.323648</td>\n",
       "      <td>45.427974</td>\n",
       "      <td>0.949598</td>\n",
       "      <td>1.238808</td>\n",
       "      <td>0.253639</td>\n",
       "      <td>25.745792</td>\n",
       "    </tr>\n",
       "    <tr>\n",
       "      <th>4</th>\n",
       "      <td>126.400131</td>\n",
       "      <td>-304.64</td>\n",
       "      <td>414.960630</td>\n",
       "      <td>47.024174</td>\n",
       "      <td>82.445773</td>\n",
       "      <td>-321.351895</td>\n",
       "      <td>0.003925</td>\n",
       "      <td>2000.0</td>\n",
       "      <td>801.335527</td>\n",
       "      <td>0.985169</td>\n",
       "      <td>...</td>\n",
       "      <td>50.332896</td>\n",
       "      <td>3.408125</td>\n",
       "      <td>4.240312</td>\n",
       "      <td>7.0</td>\n",
       "      <td>0.350853</td>\n",
       "      <td>45.427974</td>\n",
       "      <td>0.949598</td>\n",
       "      <td>1.238808</td>\n",
       "      <td>0.253639</td>\n",
       "      <td>25.745792</td>\n",
       "    </tr>\n",
       "    <tr>\n",
       "      <th>5</th>\n",
       "      <td>52.480131</td>\n",
       "      <td>-284.48</td>\n",
       "      <td>348.818898</td>\n",
       "      <td>47.512908</td>\n",
       "      <td>82.445773</td>\n",
       "      <td>-321.351895</td>\n",
       "      <td>0.045484</td>\n",
       "      <td>2000.0</td>\n",
       "      <td>801.335527</td>\n",
       "      <td>0.985169</td>\n",
       "      <td>...</td>\n",
       "      <td>50.332896</td>\n",
       "      <td>2.428656</td>\n",
       "      <td>4.240312</td>\n",
       "      <td>7.0</td>\n",
       "      <td>0.350853</td>\n",
       "      <td>45.427974</td>\n",
       "      <td>0.949598</td>\n",
       "      <td>1.238808</td>\n",
       "      <td>0.253639</td>\n",
       "      <td>25.745792</td>\n",
       "    </tr>\n",
       "    <tr>\n",
       "      <th>6</th>\n",
       "      <td>109.600131</td>\n",
       "      <td>-365.12</td>\n",
       "      <td>492.125984</td>\n",
       "      <td>51.507340</td>\n",
       "      <td>82.445773</td>\n",
       "      <td>-321.351895</td>\n",
       "      <td>-0.054492</td>\n",
       "      <td>2000.0</td>\n",
       "      <td>801.335527</td>\n",
       "      <td>0.985169</td>\n",
       "      <td>...</td>\n",
       "      <td>50.332896</td>\n",
       "      <td>3.733222</td>\n",
       "      <td>4.240312</td>\n",
       "      <td>7.0</td>\n",
       "      <td>0.127799</td>\n",
       "      <td>45.427974</td>\n",
       "      <td>0.949598</td>\n",
       "      <td>1.238808</td>\n",
       "      <td>0.253639</td>\n",
       "      <td>25.745792</td>\n",
       "    </tr>\n",
       "    <tr>\n",
       "      <th>7</th>\n",
       "      <td>35.680131</td>\n",
       "      <td>-331.52</td>\n",
       "      <td>624.409449</td>\n",
       "      <td>47.858287</td>\n",
       "      <td>82.445773</td>\n",
       "      <td>-321.351895</td>\n",
       "      <td>0.000133</td>\n",
       "      <td>2000.0</td>\n",
       "      <td>801.335527</td>\n",
       "      <td>0.985169</td>\n",
       "      <td>...</td>\n",
       "      <td>50.332896</td>\n",
       "      <td>2.505678</td>\n",
       "      <td>4.240312</td>\n",
       "      <td>7.0</td>\n",
       "      <td>0.350853</td>\n",
       "      <td>45.427974</td>\n",
       "      <td>0.949598</td>\n",
       "      <td>1.238808</td>\n",
       "      <td>0.253639</td>\n",
       "      <td>25.745792</td>\n",
       "    </tr>\n",
       "    <tr>\n",
       "      <th>8</th>\n",
       "      <td>69.280131</td>\n",
       "      <td>-371.84</td>\n",
       "      <td>414.960630</td>\n",
       "      <td>52.176459</td>\n",
       "      <td>82.445773</td>\n",
       "      <td>-321.351895</td>\n",
       "      <td>-0.050767</td>\n",
       "      <td>2000.0</td>\n",
       "      <td>801.335527</td>\n",
       "      <td>0.985169</td>\n",
       "      <td>...</td>\n",
       "      <td>50.332896</td>\n",
       "      <td>4.079126</td>\n",
       "      <td>4.240312</td>\n",
       "      <td>7.0</td>\n",
       "      <td>0.127799</td>\n",
       "      <td>45.427974</td>\n",
       "      <td>0.949598</td>\n",
       "      <td>1.238808</td>\n",
       "      <td>0.253639</td>\n",
       "      <td>25.745792</td>\n",
       "    </tr>\n",
       "    <tr>\n",
       "      <th>9</th>\n",
       "      <td>129.760131</td>\n",
       "      <td>-328.16</td>\n",
       "      <td>552.755906</td>\n",
       "      <td>47.801660</td>\n",
       "      <td>82.445773</td>\n",
       "      <td>-321.351895</td>\n",
       "      <td>-0.021608</td>\n",
       "      <td>2000.0</td>\n",
       "      <td>801.335527</td>\n",
       "      <td>0.985169</td>\n",
       "      <td>...</td>\n",
       "      <td>50.332896</td>\n",
       "      <td>1.841102</td>\n",
       "      <td>4.240312</td>\n",
       "      <td>7.0</td>\n",
       "      <td>0.158228</td>\n",
       "      <td>45.427974</td>\n",
       "      <td>0.949598</td>\n",
       "      <td>1.238808</td>\n",
       "      <td>0.253639</td>\n",
       "      <td>25.745792</td>\n",
       "    </tr>\n",
       "    <tr>\n",
       "      <th>10</th>\n",
       "      <td>123.040131</td>\n",
       "      <td>-355.04</td>\n",
       "      <td>497.637795</td>\n",
       "      <td>52.752159</td>\n",
       "      <td>82.445773</td>\n",
       "      <td>-321.351895</td>\n",
       "      <td>-0.047672</td>\n",
       "      <td>2000.0</td>\n",
       "      <td>801.335527</td>\n",
       "      <td>0.985169</td>\n",
       "      <td>...</td>\n",
       "      <td>50.332896</td>\n",
       "      <td>4.402901</td>\n",
       "      <td>4.240312</td>\n",
       "      <td>7.0</td>\n",
       "      <td>0.127799</td>\n",
       "      <td>45.427974</td>\n",
       "      <td>0.949598</td>\n",
       "      <td>1.238808</td>\n",
       "      <td>0.253639</td>\n",
       "      <td>25.745792</td>\n",
       "    </tr>\n",
       "    <tr>\n",
       "      <th>11</th>\n",
       "      <td>126.400131</td>\n",
       "      <td>-308.00</td>\n",
       "      <td>784.251969</td>\n",
       "      <td>45.937552</td>\n",
       "      <td>82.445773</td>\n",
       "      <td>-321.351895</td>\n",
       "      <td>0.000390</td>\n",
       "      <td>2000.0</td>\n",
       "      <td>801.335527</td>\n",
       "      <td>0.985169</td>\n",
       "      <td>...</td>\n",
       "      <td>50.332896</td>\n",
       "      <td>4.433297</td>\n",
       "      <td>4.240312</td>\n",
       "      <td>7.0</td>\n",
       "      <td>0.323648</td>\n",
       "      <td>45.427974</td>\n",
       "      <td>0.949598</td>\n",
       "      <td>1.238808</td>\n",
       "      <td>0.253639</td>\n",
       "      <td>25.745792</td>\n",
       "    </tr>\n",
       "    <tr>\n",
       "      <th>12</th>\n",
       "      <td>99.520131</td>\n",
       "      <td>-277.76</td>\n",
       "      <td>365.354331</td>\n",
       "      <td>46.816525</td>\n",
       "      <td>82.445773</td>\n",
       "      <td>-321.351895</td>\n",
       "      <td>0.039758</td>\n",
       "      <td>2000.0</td>\n",
       "      <td>801.335527</td>\n",
       "      <td>0.985169</td>\n",
       "      <td>...</td>\n",
       "      <td>50.332896</td>\n",
       "      <td>3.335145</td>\n",
       "      <td>4.240312</td>\n",
       "      <td>7.0</td>\n",
       "      <td>0.350853</td>\n",
       "      <td>45.427974</td>\n",
       "      <td>0.949598</td>\n",
       "      <td>1.238808</td>\n",
       "      <td>0.253639</td>\n",
       "      <td>25.745792</td>\n",
       "    </tr>\n",
       "    <tr>\n",
       "      <th>13</th>\n",
       "      <td>45.760131</td>\n",
       "      <td>-287.84</td>\n",
       "      <td>337.795276</td>\n",
       "      <td>49.687861</td>\n",
       "      <td>82.445773</td>\n",
       "      <td>-321.351895</td>\n",
       "      <td>0.043734</td>\n",
       "      <td>2000.0</td>\n",
       "      <td>801.335527</td>\n",
       "      <td>0.985169</td>\n",
       "      <td>...</td>\n",
       "      <td>50.332896</td>\n",
       "      <td>0.286037</td>\n",
       "      <td>4.240312</td>\n",
       "      <td>7.0</td>\n",
       "      <td>0.158228</td>\n",
       "      <td>45.427974</td>\n",
       "      <td>0.949598</td>\n",
       "      <td>1.238808</td>\n",
       "      <td>0.253639</td>\n",
       "      <td>25.745792</td>\n",
       "    </tr>\n",
       "    <tr>\n",
       "      <th>14</th>\n",
       "      <td>123.040131</td>\n",
       "      <td>-297.92</td>\n",
       "      <td>459.055118</td>\n",
       "      <td>46.871693</td>\n",
       "      <td>82.445773</td>\n",
       "      <td>-321.351895</td>\n",
       "      <td>0.011922</td>\n",
       "      <td>2000.0</td>\n",
       "      <td>801.335527</td>\n",
       "      <td>0.985169</td>\n",
       "      <td>...</td>\n",
       "      <td>50.332896</td>\n",
       "      <td>3.643809</td>\n",
       "      <td>4.240312</td>\n",
       "      <td>7.0</td>\n",
       "      <td>0.350853</td>\n",
       "      <td>45.427974</td>\n",
       "      <td>0.949598</td>\n",
       "      <td>1.238808</td>\n",
       "      <td>0.253639</td>\n",
       "      <td>25.745792</td>\n",
       "    </tr>\n",
       "    <tr>\n",
       "      <th>15</th>\n",
       "      <td>123.040131</td>\n",
       "      <td>-294.56</td>\n",
       "      <td>365.354331</td>\n",
       "      <td>48.638539</td>\n",
       "      <td>82.445773</td>\n",
       "      <td>-321.351895</td>\n",
       "      <td>0.015475</td>\n",
       "      <td>2000.0</td>\n",
       "      <td>801.335527</td>\n",
       "      <td>0.985169</td>\n",
       "      <td>...</td>\n",
       "      <td>50.332896</td>\n",
       "      <td>1.866151</td>\n",
       "      <td>4.240312</td>\n",
       "      <td>7.0</td>\n",
       "      <td>0.158228</td>\n",
       "      <td>45.427974</td>\n",
       "      <td>0.949598</td>\n",
       "      <td>1.238808</td>\n",
       "      <td>0.253639</td>\n",
       "      <td>25.745792</td>\n",
       "    </tr>\n",
       "    <tr>\n",
       "      <th>16</th>\n",
       "      <td>106.240131</td>\n",
       "      <td>-277.76</td>\n",
       "      <td>321.259843</td>\n",
       "      <td>49.663113</td>\n",
       "      <td>82.445773</td>\n",
       "      <td>-321.351895</td>\n",
       "      <td>0.037920</td>\n",
       "      <td>2000.0</td>\n",
       "      <td>801.335527</td>\n",
       "      <td>0.985169</td>\n",
       "      <td>...</td>\n",
       "      <td>50.332896</td>\n",
       "      <td>0.497853</td>\n",
       "      <td>4.240312</td>\n",
       "      <td>7.0</td>\n",
       "      <td>0.158228</td>\n",
       "      <td>45.427974</td>\n",
       "      <td>0.949598</td>\n",
       "      <td>1.238808</td>\n",
       "      <td>0.253639</td>\n",
       "      <td>25.745792</td>\n",
       "    </tr>\n",
       "    <tr>\n",
       "      <th>17</th>\n",
       "      <td>102.880131</td>\n",
       "      <td>-277.76</td>\n",
       "      <td>448.031496</td>\n",
       "      <td>48.143705</td>\n",
       "      <td>82.445773</td>\n",
       "      <td>-321.351895</td>\n",
       "      <td>0.038839</td>\n",
       "      <td>2000.0</td>\n",
       "      <td>801.335527</td>\n",
       "      <td>0.985169</td>\n",
       "      <td>...</td>\n",
       "      <td>50.332896</td>\n",
       "      <td>2.014584</td>\n",
       "      <td>4.240312</td>\n",
       "      <td>7.0</td>\n",
       "      <td>0.350853</td>\n",
       "      <td>45.427974</td>\n",
       "      <td>0.949598</td>\n",
       "      <td>1.238808</td>\n",
       "      <td>0.253639</td>\n",
       "      <td>25.745792</td>\n",
       "    </tr>\n",
       "    <tr>\n",
       "      <th>18</th>\n",
       "      <td>39.040131</td>\n",
       "      <td>-348.32</td>\n",
       "      <td>585.826772</td>\n",
       "      <td>51.101159</td>\n",
       "      <td>82.445773</td>\n",
       "      <td>-321.351895</td>\n",
       "      <td>-0.018363</td>\n",
       "      <td>2000.0</td>\n",
       "      <td>801.335527</td>\n",
       "      <td>0.985169</td>\n",
       "      <td>...</td>\n",
       "      <td>50.332896</td>\n",
       "      <td>1.249523</td>\n",
       "      <td>4.240312</td>\n",
       "      <td>7.0</td>\n",
       "      <td>0.113924</td>\n",
       "      <td>45.427974</td>\n",
       "      <td>0.949598</td>\n",
       "      <td>1.238808</td>\n",
       "      <td>0.253639</td>\n",
       "      <td>25.745792</td>\n",
       "    </tr>\n",
       "    <tr>\n",
       "      <th>19</th>\n",
       "      <td>65.920131</td>\n",
       "      <td>-277.76</td>\n",
       "      <td>381.889764</td>\n",
       "      <td>46.619204</td>\n",
       "      <td>82.445773</td>\n",
       "      <td>-321.351895</td>\n",
       "      <td>0.048991</td>\n",
       "      <td>2000.0</td>\n",
       "      <td>801.335527</td>\n",
       "      <td>0.985169</td>\n",
       "      <td>...</td>\n",
       "      <td>50.332896</td>\n",
       "      <td>3.192325</td>\n",
       "      <td>4.240312</td>\n",
       "      <td>7.0</td>\n",
       "      <td>0.350853</td>\n",
       "      <td>45.427974</td>\n",
       "      <td>0.949598</td>\n",
       "      <td>1.238808</td>\n",
       "      <td>0.253639</td>\n",
       "      <td>25.745792</td>\n",
       "    </tr>\n",
       "    <tr>\n",
       "      <th>20</th>\n",
       "      <td>123.040131</td>\n",
       "      <td>-361.76</td>\n",
       "      <td>398.425197</td>\n",
       "      <td>57.277542</td>\n",
       "      <td>82.445773</td>\n",
       "      <td>-321.351895</td>\n",
       "      <td>-0.054595</td>\n",
       "      <td>2000.0</td>\n",
       "      <td>801.335527</td>\n",
       "      <td>0.985169</td>\n",
       "      <td>...</td>\n",
       "      <td>50.332896</td>\n",
       "      <td>9.118193</td>\n",
       "      <td>4.240312</td>\n",
       "      <td>7.0</td>\n",
       "      <td>0.032737</td>\n",
       "      <td>45.427974</td>\n",
       "      <td>0.949598</td>\n",
       "      <td>1.238808</td>\n",
       "      <td>0.253639</td>\n",
       "      <td>25.745792</td>\n",
       "    </tr>\n",
       "    <tr>\n",
       "      <th>21</th>\n",
       "      <td>39.040131</td>\n",
       "      <td>-304.64</td>\n",
       "      <td>668.503937</td>\n",
       "      <td>46.511690</td>\n",
       "      <td>82.445773</td>\n",
       "      <td>-321.351895</td>\n",
       "      <td>0.027642</td>\n",
       "      <td>2000.0</td>\n",
       "      <td>801.335527</td>\n",
       "      <td>0.985169</td>\n",
       "      <td>...</td>\n",
       "      <td>50.332896</td>\n",
       "      <td>3.928068</td>\n",
       "      <td>4.240312</td>\n",
       "      <td>7.0</td>\n",
       "      <td>0.350853</td>\n",
       "      <td>45.427974</td>\n",
       "      <td>0.949598</td>\n",
       "      <td>1.238808</td>\n",
       "      <td>0.253639</td>\n",
       "      <td>25.745792</td>\n",
       "    </tr>\n",
       "    <tr>\n",
       "      <th>22</th>\n",
       "      <td>116.320131</td>\n",
       "      <td>-365.12</td>\n",
       "      <td>392.913386</td>\n",
       "      <td>55.345452</td>\n",
       "      <td>82.445773</td>\n",
       "      <td>-321.351895</td>\n",
       "      <td>-0.056270</td>\n",
       "      <td>2000.0</td>\n",
       "      <td>801.335527</td>\n",
       "      <td>0.985169</td>\n",
       "      <td>...</td>\n",
       "      <td>50.332896</td>\n",
       "      <td>7.430192</td>\n",
       "      <td>4.240312</td>\n",
       "      <td>7.0</td>\n",
       "      <td>0.050859</td>\n",
       "      <td>45.427974</td>\n",
       "      <td>0.949598</td>\n",
       "      <td>1.238808</td>\n",
       "      <td>0.253639</td>\n",
       "      <td>25.745792</td>\n",
       "    </tr>\n",
       "    <tr>\n",
       "      <th>23</th>\n",
       "      <td>129.760131</td>\n",
       "      <td>-308.00</td>\n",
       "      <td>354.330709</td>\n",
       "      <td>49.162196</td>\n",
       "      <td>82.445773</td>\n",
       "      <td>-321.351895</td>\n",
       "      <td>-0.000516</td>\n",
       "      <td>2000.0</td>\n",
       "      <td>801.335527</td>\n",
       "      <td>0.985169</td>\n",
       "      <td>...</td>\n",
       "      <td>50.332896</td>\n",
       "      <td>1.188690</td>\n",
       "      <td>4.240312</td>\n",
       "      <td>7.0</td>\n",
       "      <td>0.158228</td>\n",
       "      <td>45.427974</td>\n",
       "      <td>0.949598</td>\n",
       "      <td>1.238808</td>\n",
       "      <td>0.253639</td>\n",
       "      <td>25.745792</td>\n",
       "    </tr>\n",
       "    <tr>\n",
       "      <th>24</th>\n",
       "      <td>49.120131</td>\n",
       "      <td>-358.40</td>\n",
       "      <td>425.984252</td>\n",
       "      <td>49.831321</td>\n",
       "      <td>82.445773</td>\n",
       "      <td>-321.351895</td>\n",
       "      <td>-0.031537</td>\n",
       "      <td>2000.0</td>\n",
       "      <td>801.335527</td>\n",
       "      <td>0.985169</td>\n",
       "      <td>...</td>\n",
       "      <td>50.332896</td>\n",
       "      <td>0.630285</td>\n",
       "      <td>4.240312</td>\n",
       "      <td>7.0</td>\n",
       "      <td>0.113924</td>\n",
       "      <td>45.427974</td>\n",
       "      <td>0.949598</td>\n",
       "      <td>1.238808</td>\n",
       "      <td>0.253639</td>\n",
       "      <td>25.745792</td>\n",
       "    </tr>\n",
       "    <tr>\n",
       "      <th>25</th>\n",
       "      <td>133.120131</td>\n",
       "      <td>-334.88</td>\n",
       "      <td>370.866142</td>\n",
       "      <td>52.449024</td>\n",
       "      <td>82.445773</td>\n",
       "      <td>-321.351895</td>\n",
       "      <td>-0.029497</td>\n",
       "      <td>2000.0</td>\n",
       "      <td>801.335527</td>\n",
       "      <td>0.985169</td>\n",
       "      <td>...</td>\n",
       "      <td>50.332896</td>\n",
       "      <td>3.050506</td>\n",
       "      <td>4.240312</td>\n",
       "      <td>7.0</td>\n",
       "      <td>0.127799</td>\n",
       "      <td>45.427974</td>\n",
       "      <td>0.949598</td>\n",
       "      <td>1.238808</td>\n",
       "      <td>0.253639</td>\n",
       "      <td>25.745792</td>\n",
       "    </tr>\n",
       "    <tr>\n",
       "      <th>26</th>\n",
       "      <td>65.920131</td>\n",
       "      <td>-371.84</td>\n",
       "      <td>712.598425</td>\n",
       "      <td>53.123870</td>\n",
       "      <td>82.445773</td>\n",
       "      <td>-321.351895</td>\n",
       "      <td>-0.049882</td>\n",
       "      <td>2000.0</td>\n",
       "      <td>801.335527</td>\n",
       "      <td>0.985169</td>\n",
       "      <td>...</td>\n",
       "      <td>50.332896</td>\n",
       "      <td>4.903399</td>\n",
       "      <td>4.240312</td>\n",
       "      <td>7.0</td>\n",
       "      <td>0.070323</td>\n",
       "      <td>45.427974</td>\n",
       "      <td>0.949598</td>\n",
       "      <td>1.238808</td>\n",
       "      <td>0.253639</td>\n",
       "      <td>25.745792</td>\n",
       "    </tr>\n",
       "    <tr>\n",
       "      <th>27</th>\n",
       "      <td>119.680131</td>\n",
       "      <td>-365.12</td>\n",
       "      <td>525.196850</td>\n",
       "      <td>57.463417</td>\n",
       "      <td>82.445773</td>\n",
       "      <td>-321.351895</td>\n",
       "      <td>-0.057160</td>\n",
       "      <td>2000.0</td>\n",
       "      <td>801.335527</td>\n",
       "      <td>0.985169</td>\n",
       "      <td>...</td>\n",
       "      <td>50.332896</td>\n",
       "      <td>9.467228</td>\n",
       "      <td>4.240312</td>\n",
       "      <td>7.0</td>\n",
       "      <td>0.032737</td>\n",
       "      <td>45.427974</td>\n",
       "      <td>0.949598</td>\n",
       "      <td>1.238808</td>\n",
       "      <td>0.253639</td>\n",
       "      <td>25.745792</td>\n",
       "    </tr>\n",
       "    <tr>\n",
       "      <th>28</th>\n",
       "      <td>129.760131</td>\n",
       "      <td>-318.08</td>\n",
       "      <td>519.685039</td>\n",
       "      <td>47.427352</td>\n",
       "      <td>82.445773</td>\n",
       "      <td>-321.351895</td>\n",
       "      <td>-0.011086</td>\n",
       "      <td>2000.0</td>\n",
       "      <td>801.335527</td>\n",
       "      <td>0.985169</td>\n",
       "      <td>...</td>\n",
       "      <td>50.332896</td>\n",
       "      <td>2.633511</td>\n",
       "      <td>4.240312</td>\n",
       "      <td>7.0</td>\n",
       "      <td>0.350853</td>\n",
       "      <td>45.427974</td>\n",
       "      <td>0.949598</td>\n",
       "      <td>1.238808</td>\n",
       "      <td>0.253639</td>\n",
       "      <td>25.745792</td>\n",
       "    </tr>\n",
       "    <tr>\n",
       "      <th>29</th>\n",
       "      <td>133.120131</td>\n",
       "      <td>-341.60</td>\n",
       "      <td>420.472441</td>\n",
       "      <td>54.569921</td>\n",
       "      <td>82.445773</td>\n",
       "      <td>-321.351895</td>\n",
       "      <td>-0.036466</td>\n",
       "      <td>2000.0</td>\n",
       "      <td>801.335527</td>\n",
       "      <td>0.985169</td>\n",
       "      <td>...</td>\n",
       "      <td>50.332896</td>\n",
       "      <td>5.452425</td>\n",
       "      <td>4.240312</td>\n",
       "      <td>7.0</td>\n",
       "      <td>0.070323</td>\n",
       "      <td>45.427974</td>\n",
       "      <td>0.949598</td>\n",
       "      <td>1.238808</td>\n",
       "      <td>0.253639</td>\n",
       "      <td>25.745792</td>\n",
       "    </tr>\n",
       "    <tr>\n",
       "      <th>30</th>\n",
       "      <td>82.720131</td>\n",
       "      <td>-274.40</td>\n",
       "      <td>503.149606</td>\n",
       "      <td>46.952697</td>\n",
       "      <td>82.445773</td>\n",
       "      <td>-321.351895</td>\n",
       "      <td>0.047972</td>\n",
       "      <td>2000.0</td>\n",
       "      <td>801.335527</td>\n",
       "      <td>0.985169</td>\n",
       "      <td>...</td>\n",
       "      <td>50.332896</td>\n",
       "      <td>2.897412</td>\n",
       "      <td>4.240312</td>\n",
       "      <td>7.0</td>\n",
       "      <td>0.350853</td>\n",
       "      <td>45.427974</td>\n",
       "      <td>0.949598</td>\n",
       "      <td>1.238808</td>\n",
       "      <td>0.253639</td>\n",
       "      <td>25.745792</td>\n",
       "    </tr>\n",
       "    <tr>\n",
       "      <th>31</th>\n",
       "      <td>45.760131</td>\n",
       "      <td>-361.76</td>\n",
       "      <td>464.566929</td>\n",
       "      <td>54.577022</td>\n",
       "      <td>82.445773</td>\n",
       "      <td>-321.351895</td>\n",
       "      <td>-0.034132</td>\n",
       "      <td>2000.0</td>\n",
       "      <td>801.335527</td>\n",
       "      <td>0.985169</td>\n",
       "      <td>...</td>\n",
       "      <td>50.332896</td>\n",
       "      <td>5.337369</td>\n",
       "      <td>4.240312</td>\n",
       "      <td>7.0</td>\n",
       "      <td>0.070323</td>\n",
       "      <td>45.427974</td>\n",
       "      <td>0.949598</td>\n",
       "      <td>1.238808</td>\n",
       "      <td>0.253639</td>\n",
       "      <td>25.745792</td>\n",
       "    </tr>\n",
       "    <tr>\n",
       "      <th>32</th>\n",
       "      <td>55.840131</td>\n",
       "      <td>-281.12</td>\n",
       "      <td>343.307087</td>\n",
       "      <td>48.233449</td>\n",
       "      <td>82.445773</td>\n",
       "      <td>-321.351895</td>\n",
       "      <td>0.048163</td>\n",
       "      <td>2000.0</td>\n",
       "      <td>801.335527</td>\n",
       "      <td>0.985169</td>\n",
       "      <td>...</td>\n",
       "      <td>50.332896</td>\n",
       "      <td>1.590927</td>\n",
       "      <td>4.240312</td>\n",
       "      <td>7.0</td>\n",
       "      <td>0.158228</td>\n",
       "      <td>45.427974</td>\n",
       "      <td>0.949598</td>\n",
       "      <td>1.238808</td>\n",
       "      <td>0.253639</td>\n",
       "      <td>25.745792</td>\n",
       "    </tr>\n",
       "  </tbody>\n",
       "</table>\n",
       "<p>33 rows × 51 columns</p>\n",
       "</div>"
      ]
     },
     "execution_count": 97,
     "metadata": {},
     "output_type": "execute_result"
    }
   ],
   "execution_count": 97
  },
  {
   "metadata": {
    "ExecuteTime": {
     "end_time": "2024-10-01T15:10:03.077696Z",
     "start_time": "2024-10-01T15:10:02.761767Z"
    }
   },
   "cell_type": "code",
   "source": [
    "plt.subplots(1, 2, figsize=(18, 6))\n",
    "plt.subplot(1, 2, 1)\n",
    "plt.hist(edf.r_c, bins='auto')\n",
    "plt.xlim((30, 90))\n",
    "plt.subplot(1, 2, 2)\n",
    "plt.hist(bdf.unfixed_calculated_r_2d_4_rsigms_4_tsigms, bins='auto')\n",
    "plt.xlim((30, 90))\n",
    "plt.show()"
   ],
   "outputs": [
    {
     "data": {
      "text/plain": [
       "<Figure size 1800x600 with 2 Axes>"
      ],
      "image/png": "[encoded data removed]"
     },
     "metadata": {},
     "output_type": "display_data"
    }
   ],
   "execution_count": 98
  },
  {
   "metadata": {
    "ExecuteTime": {
     "end_time": "2024-10-01T15:10:03.092533Z",
     "start_time": "2024-10-01T15:10:03.077696Z"
    }
   },
   "cell_type": "code",
   "source": "event",
   "outputs": [
    {
     "data": {
      "text/plain": [
       "                 x_c     y_c        wv_c        r_c        x_i         y_i  \\\n",
       "subentry                                                                     \n",
       "0         126.400131 -311.36  640.944882  45.075753  82.445773 -321.351895   \n",
       "1          39.040131 -341.60  740.157480  47.896091  82.445773 -321.351895   \n",
       "2         112.960131 -287.84  392.913386  45.322987  82.445773 -321.351895   \n",
       "3         109.600131 -284.48  442.519685  45.791875  82.445773 -321.351895   \n",
       "4         126.400131 -304.64  414.960630  47.024174  82.445773 -321.351895   \n",
       "5          52.480131 -284.48  348.818898  47.512908  82.445773 -321.351895   \n",
       "6         109.600131 -365.12  492.125984  51.507340  82.445773 -321.351895   \n",
       "7          35.680131 -331.52  624.409449  47.858287  82.445773 -321.351895   \n",
       "8          69.280131 -371.84  414.960630  52.176459  82.445773 -321.351895   \n",
       "9         129.760131 -328.16  552.755906  47.801660  82.445773 -321.351895   \n",
       "10        123.040131 -355.04  497.637795  52.752159  82.445773 -321.351895   \n",
       "11        126.400131 -308.00  784.251969  45.937552  82.445773 -321.351895   \n",
       "12         99.520131 -277.76  365.354331  46.816525  82.445773 -321.351895   \n",
       "13         45.760131 -287.84  337.795276  49.687861  82.445773 -321.351895   \n",
       "14        123.040131 -297.92  459.055118  46.871693  82.445773 -321.351895   \n",
       "15        123.040131 -294.56  365.354331  48.638539  82.445773 -321.351895   \n",
       "16        106.240131 -277.76  321.259843  49.663113  82.445773 -321.351895   \n",
       "17        102.880131 -277.76  448.031496  48.143705  82.445773 -321.351895   \n",
       "18         39.040131 -348.32  585.826772  51.101159  82.445773 -321.351895   \n",
       "19         65.920131 -277.76  381.889764  46.619204  82.445773 -321.351895   \n",
       "20        123.040131 -361.76  398.425197  57.277542  82.445773 -321.351895   \n",
       "21         39.040131 -304.64  668.503937  46.511690  82.445773 -321.351895   \n",
       "22        116.320131 -365.12  392.913386  55.345452  82.445773 -321.351895   \n",
       "23        129.760131 -308.00  354.330709  49.162196  82.445773 -321.351895   \n",
       "24         49.120131 -358.40  425.984252  49.831321  82.445773 -321.351895   \n",
       "25        133.120131 -334.88  370.866142  52.449024  82.445773 -321.351895   \n",
       "26         65.920131 -371.84  712.598425  53.123870  82.445773 -321.351895   \n",
       "27        119.680131 -365.12  525.196850  57.463417  82.445773 -321.351895   \n",
       "28        129.760131 -318.08  519.685039  47.427352  82.445773 -321.351895   \n",
       "29        133.120131 -341.60  420.472441  54.569921  82.445773 -321.351895   \n",
       "30         82.720131 -274.40  503.149606  46.952697  82.445773 -321.351895   \n",
       "31         45.760131 -361.76  464.566929  54.577022  82.445773 -321.351895   \n",
       "32         55.840131 -281.12  343.307087  48.233449  82.445773 -321.351895   \n",
       "\n",
       "               t_c     z_c      true_p      beta  ...  mean_rotated_r_c  \\\n",
       "subentry                                          ...                     \n",
       "0        -0.003140  2000.0  801.335527  0.985169  ...         50.332896   \n",
       "1        -0.011342  2000.0  801.335527  0.985169  ...         50.332896   \n",
       "2         0.025340  2000.0  801.335527  0.985169  ...         50.332896   \n",
       "3         0.029830  2000.0  801.335527  0.985169  ...         50.332896   \n",
       "4         0.003925  2000.0  801.335527  0.985169  ...         50.332896   \n",
       "5         0.045484  2000.0  801.335527  0.985169  ...         50.332896   \n",
       "6        -0.054492  2000.0  801.335527  0.985169  ...         50.332896   \n",
       "7         0.000133  2000.0  801.335527  0.985169  ...         50.332896   \n",
       "8        -0.050767  2000.0  801.335527  0.985169  ...         50.332896   \n",
       "9        -0.021608  2000.0  801.335527  0.985169  ...         50.332896   \n",
       "10       -0.047672  2000.0  801.335527  0.985169  ...         50.332896   \n",
       "11        0.000390  2000.0  801.335527  0.985169  ...         50.332896   \n",
       "12        0.039758  2000.0  801.335527  0.985169  ...         50.332896   \n",
       "13        0.043734  2000.0  801.335527  0.985169  ...         50.332896   \n",
       "14        0.011922  2000.0  801.335527  0.985169  ...         50.332896   \n",
       "15        0.015475  2000.0  801.335527  0.985169  ...         50.332896   \n",
       "16        0.037920  2000.0  801.335527  0.985169  ...         50.332896   \n",
       "17        0.038839  2000.0  801.335527  0.985169  ...         50.332896   \n",
       "18       -0.018363  2000.0  801.335527  0.985169  ...         50.332896   \n",
       "19        0.048991  2000.0  801.335527  0.985169  ...         50.332896   \n",
       "20       -0.054595  2000.0  801.335527  0.985169  ...         50.332896   \n",
       "21        0.027642  2000.0  801.335527  0.985169  ...         50.332896   \n",
       "22       -0.056270  2000.0  801.335527  0.985169  ...         50.332896   \n",
       "23       -0.000516  2000.0  801.335527  0.985169  ...         50.332896   \n",
       "24       -0.031537  2000.0  801.335527  0.985169  ...         50.332896   \n",
       "25       -0.029497  2000.0  801.335527  0.985169  ...         50.332896   \n",
       "26       -0.049882  2000.0  801.335527  0.985169  ...         50.332896   \n",
       "27       -0.057160  2000.0  801.335527  0.985169  ...         50.332896   \n",
       "28       -0.011086  2000.0  801.335527  0.985169  ...         50.332896   \n",
       "29       -0.036466  2000.0  801.335527  0.985169  ...         50.332896   \n",
       "30        0.047972  2000.0  801.335527  0.985169  ...         50.332896   \n",
       "31       -0.034132  2000.0  801.335527  0.985169  ...         50.332896   \n",
       "32        0.048163  2000.0  801.335527  0.985169  ...         50.332896   \n",
       "\n",
       "          dist_from_mean_rotated_r_c  rotated_r_c_sigm  beta_group  \\\n",
       "subentry                                                             \n",
       "0                           5.210539          4.240312         7.0   \n",
       "1                           2.161377          4.240312         7.0   \n",
       "2                           5.167982          4.240312         7.0   \n",
       "3                           4.623100          4.240312         7.0   \n",
       "4                           3.408125          4.240312         7.0   \n",
       "5                           2.428656          4.240312         7.0   \n",
       "6                           3.733222          4.240312         7.0   \n",
       "7                           2.505678          4.240312         7.0   \n",
       "8                           4.079126          4.240312         7.0   \n",
       "9                           1.841102          4.240312         7.0   \n",
       "10                          4.402901          4.240312         7.0   \n",
       "11                          4.433297          4.240312         7.0   \n",
       "12                          3.335145          4.240312         7.0   \n",
       "13                          0.286037          4.240312         7.0   \n",
       "14                          3.643809          4.240312         7.0   \n",
       "15                          1.866151          4.240312         7.0   \n",
       "16                          0.497853          4.240312         7.0   \n",
       "17                          2.014584          4.240312         7.0   \n",
       "18                          1.249523          4.240312         7.0   \n",
       "19                          3.192325          4.240312         7.0   \n",
       "20                          9.118193          4.240312         7.0   \n",
       "21                          3.928068          4.240312         7.0   \n",
       "22                          7.430192          4.240312         7.0   \n",
       "23                          1.188690          4.240312         7.0   \n",
       "24                          0.630285          4.240312         7.0   \n",
       "25                          3.050506          4.240312         7.0   \n",
       "26                          4.903399          4.240312         7.0   \n",
       "27                          9.467228          4.240312         7.0   \n",
       "28                          2.633511          4.240312         7.0   \n",
       "29                          5.452425          4.240312         7.0   \n",
       "30                          2.897412          4.240312         7.0   \n",
       "31                          5.337369          4.240312         7.0   \n",
       "32                          1.590927          4.240312         7.0   \n",
       "\n",
       "          slice_counts_4_sigms  unfixed_calculated_r_2d_4_rsigms_4_tsigms  \\\n",
       "subentry                                                                    \n",
       "0                     0.323648                                  45.427974   \n",
       "1                     0.350853                                  45.427974   \n",
       "2                     0.323648                                  45.427974   \n",
       "3                     0.323648                                  45.427974   \n",
       "4                     0.350853                                  45.427974   \n",
       "5                     0.350853                                  45.427974   \n",
       "6                     0.127799                                  45.427974   \n",
       "7                     0.350853                                  45.427974   \n",
       "8                     0.127799                                  45.427974   \n",
       "9                     0.158228                                  45.427974   \n",
       "10                    0.127799                                  45.427974   \n",
       "11                    0.323648                                  45.427974   \n",
       "12                    0.350853                                  45.427974   \n",
       "13                    0.158228                                  45.427974   \n",
       "14                    0.350853                                  45.427974   \n",
       "15                    0.158228                                  45.427974   \n",
       "16                    0.158228                                  45.427974   \n",
       "17                    0.350853                                  45.427974   \n",
       "18                    0.113924                                  45.427974   \n",
       "19                    0.350853                                  45.427974   \n",
       "20                    0.032737                                  45.427974   \n",
       "21                    0.350853                                  45.427974   \n",
       "22                    0.050859                                  45.427974   \n",
       "23                    0.158228                                  45.427974   \n",
       "24                    0.113924                                  45.427974   \n",
       "25                    0.127799                                  45.427974   \n",
       "26                    0.070323                                  45.427974   \n",
       "27                    0.032737                                  45.427974   \n",
       "28                    0.350853                                  45.427974   \n",
       "29                    0.070323                                  45.427974   \n",
       "30                    0.350853                                  45.427974   \n",
       "31                    0.070323                                  45.427974   \n",
       "32                    0.158228                                  45.427974   \n",
       "\n",
       "          cos_theta_p  beta_from_calc_r_4_rsigms_4_tsigms  \\\n",
       "subentry                                                    \n",
       "0            0.949598                            1.238808   \n",
       "1            0.949598                            1.238808   \n",
       "2            0.949598                            1.238808   \n",
       "3            0.949598                            1.238808   \n",
       "4            0.949598                            1.238808   \n",
       "5            0.949598                            1.238808   \n",
       "6            0.949598                            1.238808   \n",
       "7            0.949598                            1.238808   \n",
       "8            0.949598                            1.238808   \n",
       "9            0.949598                            1.238808   \n",
       "10           0.949598                            1.238808   \n",
       "11           0.949598                            1.238808   \n",
       "12           0.949598                            1.238808   \n",
       "13           0.949598                            1.238808   \n",
       "14           0.949598                            1.238808   \n",
       "15           0.949598                            1.238808   \n",
       "16           0.949598                            1.238808   \n",
       "17           0.949598                            1.238808   \n",
       "18           0.949598                            1.238808   \n",
       "19           0.949598                            1.238808   \n",
       "20           0.949598                            1.238808   \n",
       "21           0.949598                            1.238808   \n",
       "22           0.949598                            1.238808   \n",
       "23           0.949598                            1.238808   \n",
       "24           0.949598                            1.238808   \n",
       "25           0.949598                            1.238808   \n",
       "26           0.949598                            1.238808   \n",
       "27           0.949598                            1.238808   \n",
       "28           0.949598                            1.238808   \n",
       "29           0.949598                            1.238808   \n",
       "30           0.949598                            1.238808   \n",
       "31           0.949598                            1.238808   \n",
       "32           0.949598                            1.238808   \n",
       "\n",
       "          delta_beta_4_rsigms_4_tsigms  eps_beta_4_rsigms_4_tsigms  \n",
       "subentry                                                            \n",
       "0                             0.253639                   25.745792  \n",
       "1                             0.253639                   25.745792  \n",
       "2                             0.253639                   25.745792  \n",
       "3                             0.253639                   25.745792  \n",
       "4                             0.253639                   25.745792  \n",
       "5                             0.253639                   25.745792  \n",
       "6                             0.253639                   25.745792  \n",
       "7                             0.253639                   25.745792  \n",
       "8                             0.253639                   25.745792  \n",
       "9                             0.253639                   25.745792  \n",
       "10                            0.253639                   25.745792  \n",
       "11                            0.253639                   25.745792  \n",
       "12                            0.253639                   25.745792  \n",
       "13                            0.253639                   25.745792  \n",
       "14                            0.253639                   25.745792  \n",
       "15                            0.253639                   25.745792  \n",
       "16                            0.253639                   25.745792  \n",
       "17                            0.253639                   25.745792  \n",
       "18                            0.253639                   25.745792  \n",
       "19                            0.253639                   25.745792  \n",
       "20                            0.253639                   25.745792  \n",
       "21                            0.253639                   25.745792  \n",
       "22                            0.253639                   25.745792  \n",
       "23                            0.253639                   25.745792  \n",
       "24                            0.253639                   25.745792  \n",
       "25                            0.253639                   25.745792  \n",
       "26                            0.253639                   25.745792  \n",
       "27                            0.253639                   25.745792  \n",
       "28                            0.253639                   25.745792  \n",
       "29                            0.253639                   25.745792  \n",
       "30                            0.253639                   25.745792  \n",
       "31                            0.253639                   25.745792  \n",
       "32                            0.253639                   25.745792  \n",
       "\n",
       "[33 rows x 51 columns]"
      ],
      "text/html": [
       "<div>\n",
       "<style scoped>\n",
       "    .dataframe tbody tr th:only-of-type {\n",
       "        vertical-align: middle;\n",
       "    }\n",
       "\n",
       "    .dataframe tbody tr th {\n",
       "        vertical-align: top;\n",
       "    }\n",
       "\n",
       "    .dataframe thead th {\n",
       "        text-align: right;\n",
       "    }\n",
       "</style>\n",
       "<table border=\"1\" class=\"dataframe\">\n",
       "  <thead>\n",
       "    <tr style=\"text-align: right;\">\n",
       "      <th></th>\n",
       "      <th>x_c</th>\n",
       "      <th>y_c</th>\n",
       "      <th>wv_c</th>\n",
       "      <th>r_c</th>\n",
       "      <th>x_i</th>\n",
       "      <th>y_i</th>\n",
       "      <th>t_c</th>\n",
       "      <th>z_c</th>\n",
       "      <th>true_p</th>\n",
       "      <th>beta</th>\n",
       "      <th>...</th>\n",
       "      <th>mean_rotated_r_c</th>\n",
       "      <th>dist_from_mean_rotated_r_c</th>\n",
       "      <th>rotated_r_c_sigm</th>\n",
       "      <th>beta_group</th>\n",
       "      <th>slice_counts_4_sigms</th>\n",
       "      <th>unfixed_calculated_r_2d_4_rsigms_4_tsigms</th>\n",
       "      <th>cos_theta_p</th>\n",
       "      <th>beta_from_calc_r_4_rsigms_4_tsigms</th>\n",
       "      <th>delta_beta_4_rsigms_4_tsigms</th>\n",
       "      <th>eps_beta_4_rsigms_4_tsigms</th>\n",
       "    </tr>\n",
       "    <tr>\n",
       "      <th>subentry</th>\n",
       "      <th></th>\n",
       "      <th></th>\n",
       "      <th></th>\n",
       "      <th></th>\n",
       "      <th></th>\n",
       "      <th></th>\n",
       "      <th></th>\n",
       "      <th></th>\n",
       "      <th></th>\n",
       "      <th></th>\n",
       "      <th></th>\n",
       "      <th></th>\n",
       "      <th></th>\n",
       "      <th></th>\n",
       "      <th></th>\n",
       "      <th></th>\n",
       "      <th></th>\n",
       "      <th></th>\n",
       "      <th></th>\n",
       "      <th></th>\n",
       "      <th></th>\n",
       "    </tr>\n",
       "  </thead>\n",
       "  <tbody>\n",
       "    <tr>\n",
       "      <th>0</th>\n",
       "      <td>126.400131</td>\n",
       "      <td>-311.36</td>\n",
       "      <td>640.944882</td>\n",
       "      <td>45.075753</td>\n",
       "      <td>82.445773</td>\n",
       "      <td>-321.351895</td>\n",
       "      <td>-0.003140</td>\n",
       "      <td>2000.0</td>\n",
       "      <td>801.335527</td>\n",
       "      <td>0.985169</td>\n",
       "      <td>...</td>\n",
       "      <td>50.332896</td>\n",
       "      <td>5.210539</td>\n",
       "      <td>4.240312</td>\n",
       "      <td>7.0</td>\n",
       "      <td>0.323648</td>\n",
       "      <td>45.427974</td>\n",
       "      <td>0.949598</td>\n",
       "      <td>1.238808</td>\n",
       "      <td>0.253639</td>\n",
       "      <td>25.745792</td>\n",
       "    </tr>\n",
       "    <tr>\n",
       "      <th>1</th>\n",
       "      <td>39.040131</td>\n",
       "      <td>-341.60</td>\n",
       "      <td>740.157480</td>\n",
       "      <td>47.896091</td>\n",
       "      <td>82.445773</td>\n",
       "      <td>-321.351895</td>\n",
       "      <td>-0.011342</td>\n",
       "      <td>2000.0</td>\n",
       "      <td>801.335527</td>\n",
       "      <td>0.985169</td>\n",
       "      <td>...</td>\n",
       "      <td>50.332896</td>\n",
       "      <td>2.161377</td>\n",
       "      <td>4.240312</td>\n",
       "      <td>7.0</td>\n",
       "      <td>0.350853</td>\n",
       "      <td>45.427974</td>\n",
       "      <td>0.949598</td>\n",
       "      <td>1.238808</td>\n",
       "      <td>0.253639</td>\n",
       "      <td>25.745792</td>\n",
       "    </tr>\n",
       "    <tr>\n",
       "      <th>2</th>\n",
       "      <td>112.960131</td>\n",
       "      <td>-287.84</td>\n",
       "      <td>392.913386</td>\n",
       "      <td>45.322987</td>\n",
       "      <td>82.445773</td>\n",
       "      <td>-321.351895</td>\n",
       "      <td>0.025340</td>\n",
       "      <td>2000.0</td>\n",
       "      <td>801.335527</td>\n",
       "      <td>0.985169</td>\n",
       "      <td>...</td>\n",
       "      <td>50.332896</td>\n",
       "      <td>5.167982</td>\n",
       "      <td>4.240312</td>\n",
       "      <td>7.0</td>\n",
       "      <td>0.323648</td>\n",
       "      <td>45.427974</td>\n",
       "      <td>0.949598</td>\n",
       "      <td>1.238808</td>\n",
       "      <td>0.253639</td>\n",
       "      <td>25.745792</td>\n",
       "    </tr>\n",
       "    <tr>\n",
       "      <th>3</th>\n",
       "      <td>109.600131</td>\n",
       "      <td>-284.48</td>\n",
       "      <td>442.519685</td>\n",
       "      <td>45.791875</td>\n",
       "      <td>82.445773</td>\n",
       "      <td>-321.351895</td>\n",
       "      <td>0.029830</td>\n",
       "      <td>2000.0</td>\n",
       "      <td>801.335527</td>\n",
       "      <td>0.985169</td>\n",
       "      <td>...</td>\n",
       "      <td>50.332896</td>\n",
       "      <td>4.623100</td>\n",
       "      <td>4.240312</td>\n",
       "      <td>7.0</td>\n",
       "      <td>0.323648</td>\n",
       "      <td>45.427974</td>\n",
       "      <td>0.949598</td>\n",
       "      <td>1.238808</td>\n",
       "      <td>0.253639</td>\n",
       "      <td>25.745792</td>\n",
       "    </tr>\n",
       "    <tr>\n",
       "      <th>4</th>\n",
       "      <td>126.400131</td>\n",
       "      <td>-304.64</td>\n",
       "      <td>414.960630</td>\n",
       "      <td>47.024174</td>\n",
       "      <td>82.445773</td>\n",
       "      <td>-321.351895</td>\n",
       "      <td>0.003925</td>\n",
       "      <td>2000.0</td>\n",
       "      <td>801.335527</td>\n",
       "      <td>0.985169</td>\n",
       "      <td>...</td>\n",
       "      <td>50.332896</td>\n",
       "      <td>3.408125</td>\n",
       "      <td>4.240312</td>\n",
       "      <td>7.0</td>\n",
       "      <td>0.350853</td>\n",
       "      <td>45.427974</td>\n",
       "      <td>0.949598</td>\n",
       "      <td>1.238808</td>\n",
       "      <td>0.253639</td>\n",
       "      <td>25.745792</td>\n",
       "    </tr>\n",
       "    <tr>\n",
       "      <th>5</th>\n",
       "      <td>52.480131</td>\n",
       "      <td>-284.48</td>\n",
       "      <td>348.818898</td>\n",
       "      <td>47.512908</td>\n",
       "      <td>82.445773</td>\n",
       "      <td>-321.351895</td>\n",
       "      <td>0.045484</td>\n",
       "      <td>2000.0</td>\n",
       "      <td>801.335527</td>\n",
       "      <td>0.985169</td>\n",
       "      <td>...</td>\n",
       "      <td>50.332896</td>\n",
       "      <td>2.428656</td>\n",
       "      <td>4.240312</td>\n",
       "      <td>7.0</td>\n",
       "      <td>0.350853</td>\n",
       "      <td>45.427974</td>\n",
       "      <td>0.949598</td>\n",
       "      <td>1.238808</td>\n",
       "      <td>0.253639</td>\n",
       "      <td>25.745792</td>\n",
       "    </tr>\n",
       "    <tr>\n",
       "      <th>6</th>\n",
       "      <td>109.600131</td>\n",
       "      <td>-365.12</td>\n",
       "      <td>492.125984</td>\n",
       "      <td>51.507340</td>\n",
       "      <td>82.445773</td>\n",
       "      <td>-321.351895</td>\n",
       "      <td>-0.054492</td>\n",
       "      <td>2000.0</td>\n",
       "      <td>801.335527</td>\n",
       "      <td>0.985169</td>\n",
       "      <td>...</td>\n",
       "      <td>50.332896</td>\n",
       "      <td>3.733222</td>\n",
       "      <td>4.240312</td>\n",
       "      <td>7.0</td>\n",
       "      <td>0.127799</td>\n",
       "      <td>45.427974</td>\n",
       "      <td>0.949598</td>\n",
       "      <td>1.238808</td>\n",
       "      <td>0.253639</td>\n",
       "      <td>25.745792</td>\n",
       "    </tr>\n",
       "    <tr>\n",
       "      <th>7</th>\n",
       "      <td>35.680131</td>\n",
       "      <td>-331.52</td>\n",
       "      <td>624.409449</td>\n",
       "      <td>47.858287</td>\n",
       "      <td>82.445773</td>\n",
       "      <td>-321.351895</td>\n",
       "      <td>0.000133</td>\n",
       "      <td>2000.0</td>\n",
       "      <td>801.335527</td>\n",
       "      <td>0.985169</td>\n",
       "      <td>...</td>\n",
       "      <td>50.332896</td>\n",
       "      <td>2.505678</td>\n",
       "      <td>4.240312</td>\n",
       "      <td>7.0</td>\n",
       "      <td>0.350853</td>\n",
       "      <td>45.427974</td>\n",
       "      <td>0.949598</td>\n",
       "      <td>1.238808</td>\n",
       "      <td>0.253639</td>\n",
       "      <td>25.745792</td>\n",
       "    </tr>\n",
       "    <tr>\n",
       "      <th>8</th>\n",
       "      <td>69.280131</td>\n",
       "      <td>-371.84</td>\n",
       "      <td>414.960630</td>\n",
       "      <td>52.176459</td>\n",
       "      <td>82.445773</td>\n",
       "      <td>-321.351895</td>\n",
       "      <td>-0.050767</td>\n",
       "      <td>2000.0</td>\n",
       "      <td>801.335527</td>\n",
       "      <td>0.985169</td>\n",
       "      <td>...</td>\n",
       "      <td>50.332896</td>\n",
       "      <td>4.079126</td>\n",
       "      <td>4.240312</td>\n",
       "      <td>7.0</td>\n",
       "      <td>0.127799</td>\n",
       "      <td>45.427974</td>\n",
       "      <td>0.949598</td>\n",
       "      <td>1.238808</td>\n",
       "      <td>0.253639</td>\n",
       "      <td>25.745792</td>\n",
       "    </tr>\n",
       "    <tr>\n",
       "      <th>9</th>\n",
       "      <td>129.760131</td>\n",
       "      <td>-328.16</td>\n",
       "      <td>552.755906</td>\n",
       "      <td>47.801660</td>\n",
       "      <td>82.445773</td>\n",
       "      <td>-321.351895</td>\n",
       "      <td>-0.021608</td>\n",
       "      <td>2000.0</td>\n",
       "      <td>801.335527</td>\n",
       "      <td>0.985169</td>\n",
       "      <td>...</td>\n",
       "      <td>50.332896</td>\n",
       "      <td>1.841102</td>\n",
       "      <td>4.240312</td>\n",
       "      <td>7.0</td>\n",
       "      <td>0.158228</td>\n",
       "      <td>45.427974</td>\n",
       "      <td>0.949598</td>\n",
       "      <td>1.238808</td>\n",
       "      <td>0.253639</td>\n",
       "      <td>25.745792</td>\n",
       "    </tr>\n",
       "    <tr>\n",
       "      <th>10</th>\n",
       "      <td>123.040131</td>\n",
       "      <td>-355.04</td>\n",
       "      <td>497.637795</td>\n",
       "      <td>52.752159</td>\n",
       "      <td>82.445773</td>\n",
       "      <td>-321.351895</td>\n",
       "      <td>-0.047672</td>\n",
       "      <td>2000.0</td>\n",
       "      <td>801.335527</td>\n",
       "      <td>0.985169</td>\n",
       "      <td>...</td>\n",
       "      <td>50.332896</td>\n",
       "      <td>4.402901</td>\n",
       "      <td>4.240312</td>\n",
       "      <td>7.0</td>\n",
       "      <td>0.127799</td>\n",
       "      <td>45.427974</td>\n",
       "      <td>0.949598</td>\n",
       "      <td>1.238808</td>\n",
       "      <td>0.253639</td>\n",
       "      <td>25.745792</td>\n",
       "    </tr>\n",
       "    <tr>\n",
       "      <th>11</th>\n",
       "      <td>126.400131</td>\n",
       "      <td>-308.00</td>\n",
       "      <td>784.251969</td>\n",
       "      <td>45.937552</td>\n",
       "      <td>82.445773</td>\n",
       "      <td>-321.351895</td>\n",
       "      <td>0.000390</td>\n",
       "      <td>2000.0</td>\n",
       "      <td>801.335527</td>\n",
       "      <td>0.985169</td>\n",
       "      <td>...</td>\n",
       "      <td>50.332896</td>\n",
       "      <td>4.433297</td>\n",
       "      <td>4.240312</td>\n",
       "      <td>7.0</td>\n",
       "      <td>0.323648</td>\n",
       "      <td>45.427974</td>\n",
       "      <td>0.949598</td>\n",
       "      <td>1.238808</td>\n",
       "      <td>0.253639</td>\n",
       "      <td>25.745792</td>\n",
       "    </tr>\n",
       "    <tr>\n",
       "      <th>12</th>\n",
       "      <td>99.520131</td>\n",
       "      <td>-277.76</td>\n",
       "      <td>365.354331</td>\n",
       "      <td>46.816525</td>\n",
       "      <td>82.445773</td>\n",
       "      <td>-321.351895</td>\n",
       "      <td>0.039758</td>\n",
       "      <td>2000.0</td>\n",
       "      <td>801.335527</td>\n",
       "      <td>0.985169</td>\n",
       "      <td>...</td>\n",
       "      <td>50.332896</td>\n",
       "      <td>3.335145</td>\n",
       "      <td>4.240312</td>\n",
       "      <td>7.0</td>\n",
       "      <td>0.350853</td>\n",
       "      <td>45.427974</td>\n",
       "      <td>0.949598</td>\n",
       "      <td>1.238808</td>\n",
       "      <td>0.253639</td>\n",
       "      <td>25.745792</td>\n",
       "    </tr>\n",
       "    <tr>\n",
       "      <th>13</th>\n",
       "      <td>45.760131</td>\n",
       "      <td>-287.84</td>\n",
       "      <td>337.795276</td>\n",
       "      <td>49.687861</td>\n",
       "      <td>82.445773</td>\n",
       "      <td>-321.351895</td>\n",
       "      <td>0.043734</td>\n",
       "      <td>2000.0</td>\n",
       "      <td>801.335527</td>\n",
       "      <td>0.985169</td>\n",
       "      <td>...</td>\n",
       "      <td>50.332896</td>\n",
       "      <td>0.286037</td>\n",
       "      <td>4.240312</td>\n",
       "      <td>7.0</td>\n",
       "      <td>0.158228</td>\n",
       "      <td>45.427974</td>\n",
       "      <td>0.949598</td>\n",
       "      <td>1.238808</td>\n",
       "      <td>0.253639</td>\n",
       "      <td>25.745792</td>\n",
       "    </tr>\n",
       "    <tr>\n",
       "      <th>14</th>\n",
       "      <td>123.040131</td>\n",
       "      <td>-297.92</td>\n",
       "      <td>459.055118</td>\n",
       "      <td>46.871693</td>\n",
       "      <td>82.445773</td>\n",
       "      <td>-321.351895</td>\n",
       "      <td>0.011922</td>\n",
       "      <td>2000.0</td>\n",
       "      <td>801.335527</td>\n",
       "      <td>0.985169</td>\n",
       "      <td>...</td>\n",
       "      <td>50.332896</td>\n",
       "      <td>3.643809</td>\n",
       "      <td>4.240312</td>\n",
       "      <td>7.0</td>\n",
       "      <td>0.350853</td>\n",
       "      <td>45.427974</td>\n",
       "      <td>0.949598</td>\n",
       "      <td>1.238808</td>\n",
       "      <td>0.253639</td>\n",
       "      <td>25.745792</td>\n",
       "    </tr>\n",
       "    <tr>\n",
       "      <th>15</th>\n",
       "      <td>123.040131</td>\n",
       "      <td>-294.56</td>\n",
       "      <td>365.354331</td>\n",
       "      <td>48.638539</td>\n",
       "      <td>82.445773</td>\n",
       "      <td>-321.351895</td>\n",
       "      <td>0.015475</td>\n",
       "      <td>2000.0</td>\n",
       "      <td>801.335527</td>\n",
       "      <td>0.985169</td>\n",
       "      <td>...</td>\n",
       "      <td>50.332896</td>\n",
       "      <td>1.866151</td>\n",
       "      <td>4.240312</td>\n",
       "      <td>7.0</td>\n",
       "      <td>0.158228</td>\n",
       "      <td>45.427974</td>\n",
       "      <td>0.949598</td>\n",
       "      <td>1.238808</td>\n",
       "      <td>0.253639</td>\n",
       "      <td>25.745792</td>\n",
       "    </tr>\n",
       "    <tr>\n",
       "      <th>16</th>\n",
       "      <td>106.240131</td>\n",
       "      <td>-277.76</td>\n",
       "      <td>321.259843</td>\n",
       "      <td>49.663113</td>\n",
       "      <td>82.445773</td>\n",
       "      <td>-321.351895</td>\n",
       "      <td>0.037920</td>\n",
       "      <td>2000.0</td>\n",
       "      <td>801.335527</td>\n",
       "      <td>0.985169</td>\n",
       "      <td>...</td>\n",
       "      <td>50.332896</td>\n",
       "      <td>0.497853</td>\n",
       "      <td>4.240312</td>\n",
       "      <td>7.0</td>\n",
       "      <td>0.158228</td>\n",
       "      <td>45.427974</td>\n",
       "      <td>0.949598</td>\n",
       "      <td>1.238808</td>\n",
       "      <td>0.253639</td>\n",
       "      <td>25.745792</td>\n",
       "    </tr>\n",
       "    <tr>\n",
       "      <th>17</th>\n",
       "      <td>102.880131</td>\n",
       "      <td>-277.76</td>\n",
       "      <td>448.031496</td>\n",
       "      <td>48.143705</td>\n",
       "      <td>82.445773</td>\n",
       "      <td>-321.351895</td>\n",
       "      <td>0.038839</td>\n",
       "      <td>2000.0</td>\n",
       "      <td>801.335527</td>\n",
       "      <td>0.985169</td>\n",
       "      <td>...</td>\n",
       "      <td>50.332896</td>\n",
       "      <td>2.014584</td>\n",
       "      <td>4.240312</td>\n",
       "      <td>7.0</td>\n",
       "      <td>0.350853</td>\n",
       "      <td>45.427974</td>\n",
       "      <td>0.949598</td>\n",
       "      <td>1.238808</td>\n",
       "      <td>0.253639</td>\n",
       "      <td>25.745792</td>\n",
       "    </tr>\n",
       "    <tr>\n",
       "      <th>18</th>\n",
       "      <td>39.040131</td>\n",
       "      <td>-348.32</td>\n",
       "      <td>585.826772</td>\n",
       "      <td>51.101159</td>\n",
       "      <td>82.445773</td>\n",
       "      <td>-321.351895</td>\n",
       "      <td>-0.018363</td>\n",
       "      <td>2000.0</td>\n",
       "      <td>801.335527</td>\n",
       "      <td>0.985169</td>\n",
       "      <td>...</td>\n",
       "      <td>50.332896</td>\n",
       "      <td>1.249523</td>\n",
       "      <td>4.240312</td>\n",
       "      <td>7.0</td>\n",
       "      <td>0.113924</td>\n",
       "      <td>45.427974</td>\n",
       "      <td>0.949598</td>\n",
       "      <td>1.238808</td>\n",
       "      <td>0.253639</td>\n",
       "      <td>25.745792</td>\n",
       "    </tr>\n",
       "    <tr>\n",
       "      <th>19</th>\n",
       "      <td>65.920131</td>\n",
       "      <td>-277.76</td>\n",
       "      <td>381.889764</td>\n",
       "      <td>46.619204</td>\n",
       "      <td>82.445773</td>\n",
       "      <td>-321.351895</td>\n",
       "      <td>0.048991</td>\n",
       "      <td>2000.0</td>\n",
       "      <td>801.335527</td>\n",
       "      <td>0.985169</td>\n",
       "      <td>...</td>\n",
       "      <td>50.332896</td>\n",
       "      <td>3.192325</td>\n",
       "      <td>4.240312</td>\n",
       "      <td>7.0</td>\n",
       "      <td>0.350853</td>\n",
       "      <td>45.427974</td>\n",
       "      <td>0.949598</td>\n",
       "      <td>1.238808</td>\n",
       "      <td>0.253639</td>\n",
       "      <td>25.745792</td>\n",
       "    </tr>\n",
       "    <tr>\n",
       "      <th>20</th>\n",
       "      <td>123.040131</td>\n",
       "      <td>-361.76</td>\n",
       "      <td>398.425197</td>\n",
       "      <td>57.277542</td>\n",
       "      <td>82.445773</td>\n",
       "      <td>-321.351895</td>\n",
       "      <td>-0.054595</td>\n",
       "      <td>2000.0</td>\n",
       "      <td>801.335527</td>\n",
       "      <td>0.985169</td>\n",
       "      <td>...</td>\n",
       "      <td>50.332896</td>\n",
       "      <td>9.118193</td>\n",
       "      <td>4.240312</td>\n",
       "      <td>7.0</td>\n",
       "      <td>0.032737</td>\n",
       "      <td>45.427974</td>\n",
       "      <td>0.949598</td>\n",
       "      <td>1.238808</td>\n",
       "      <td>0.253639</td>\n",
       "      <td>25.745792</td>\n",
       "    </tr>\n",
       "    <tr>\n",
       "      <th>21</th>\n",
       "      <td>39.040131</td>\n",
       "      <td>-304.64</td>\n",
       "      <td>668.503937</td>\n",
       "      <td>46.511690</td>\n",
       "      <td>82.445773</td>\n",
       "      <td>-321.351895</td>\n",
       "      <td>0.027642</td>\n",
       "      <td>2000.0</td>\n",
       "      <td>801.335527</td>\n",
       "      <td>0.985169</td>\n",
       "      <td>...</td>\n",
       "      <td>50.332896</td>\n",
       "      <td>3.928068</td>\n",
       "      <td>4.240312</td>\n",
       "      <td>7.0</td>\n",
       "      <td>0.350853</td>\n",
       "      <td>45.427974</td>\n",
       "      <td>0.949598</td>\n",
       "      <td>1.238808</td>\n",
       "      <td>0.253639</td>\n",
       "      <td>25.745792</td>\n",
       "    </tr>\n",
       "    <tr>\n",
       "      <th>22</th>\n",
       "      <td>116.320131</td>\n",
       "      <td>-365.12</td>\n",
       "      <td>392.913386</td>\n",
       "      <td>55.345452</td>\n",
       "      <td>82.445773</td>\n",
       "      <td>-321.351895</td>\n",
       "      <td>-0.056270</td>\n",
       "      <td>2000.0</td>\n",
       "      <td>801.335527</td>\n",
       "      <td>0.985169</td>\n",
       "      <td>...</td>\n",
       "      <td>50.332896</td>\n",
       "      <td>7.430192</td>\n",
       "      <td>4.240312</td>\n",
       "      <td>7.0</td>\n",
       "      <td>0.050859</td>\n",
       "      <td>45.427974</td>\n",
       "      <td>0.949598</td>\n",
       "      <td>1.238808</td>\n",
       "      <td>0.253639</td>\n",
       "      <td>25.745792</td>\n",
       "    </tr>\n",
       "    <tr>\n",
       "      <th>23</th>\n",
       "      <td>129.760131</td>\n",
       "      <td>-308.00</td>\n",
       "      <td>354.330709</td>\n",
       "      <td>49.162196</td>\n",
       "      <td>82.445773</td>\n",
       "      <td>-321.351895</td>\n",
       "      <td>-0.000516</td>\n",
       "      <td>2000.0</td>\n",
       "      <td>801.335527</td>\n",
       "      <td>0.985169</td>\n",
       "      <td>...</td>\n",
       "      <td>50.332896</td>\n",
       "      <td>1.188690</td>\n",
       "      <td>4.240312</td>\n",
       "      <td>7.0</td>\n",
       "      <td>0.158228</td>\n",
       "      <td>45.427974</td>\n",
       "      <td>0.949598</td>\n",
       "      <td>1.238808</td>\n",
       "      <td>0.253639</td>\n",
       "      <td>25.745792</td>\n",
       "    </tr>\n",
       "    <tr>\n",
       "      <th>24</th>\n",
       "      <td>49.120131</td>\n",
       "      <td>-358.40</td>\n",
       "      <td>425.984252</td>\n",
       "      <td>49.831321</td>\n",
       "      <td>82.445773</td>\n",
       "      <td>-321.351895</td>\n",
       "      <td>-0.031537</td>\n",
       "      <td>2000.0</td>\n",
       "      <td>801.335527</td>\n",
       "      <td>0.985169</td>\n",
       "      <td>...</td>\n",
       "      <td>50.332896</td>\n",
       "      <td>0.630285</td>\n",
       "      <td>4.240312</td>\n",
       "      <td>7.0</td>\n",
       "      <td>0.113924</td>\n",
       "      <td>45.427974</td>\n",
       "      <td>0.949598</td>\n",
       "      <td>1.238808</td>\n",
       "      <td>0.253639</td>\n",
       "      <td>25.745792</td>\n",
       "    </tr>\n",
       "    <tr>\n",
       "      <th>25</th>\n",
       "      <td>133.120131</td>\n",
       "      <td>-334.88</td>\n",
       "      <td>370.866142</td>\n",
       "      <td>52.449024</td>\n",
       "      <td>82.445773</td>\n",
       "      <td>-321.351895</td>\n",
       "      <td>-0.029497</td>\n",
       "      <td>2000.0</td>\n",
       "      <td>801.335527</td>\n",
       "      <td>0.985169</td>\n",
       "      <td>...</td>\n",
       "      <td>50.332896</td>\n",
       "      <td>3.050506</td>\n",
       "      <td>4.240312</td>\n",
       "      <td>7.0</td>\n",
       "      <td>0.127799</td>\n",
       "      <td>45.427974</td>\n",
       "      <td>0.949598</td>\n",
       "      <td>1.238808</td>\n",
       "      <td>0.253639</td>\n",
       "      <td>25.745792</td>\n",
       "    </tr>\n",
       "    <tr>\n",
       "      <th>26</th>\n",
       "      <td>65.920131</td>\n",
       "      <td>-371.84</td>\n",
       "      <td>712.598425</td>\n",
       "      <td>53.123870</td>\n",
       "      <td>82.445773</td>\n",
       "      <td>-321.351895</td>\n",
       "      <td>-0.049882</td>\n",
       "      <td>2000.0</td>\n",
       "      <td>801.335527</td>\n",
       "      <td>0.985169</td>\n",
       "      <td>...</td>\n",
       "      <td>50.332896</td>\n",
       "      <td>4.903399</td>\n",
       "      <td>4.240312</td>\n",
       "      <td>7.0</td>\n",
       "      <td>0.070323</td>\n",
       "      <td>45.427974</td>\n",
       "      <td>0.949598</td>\n",
       "      <td>1.238808</td>\n",
       "      <td>0.253639</td>\n",
       "      <td>25.745792</td>\n",
       "    </tr>\n",
       "    <tr>\n",
       "      <th>27</th>\n",
       "      <td>119.680131</td>\n",
       "      <td>-365.12</td>\n",
       "      <td>525.196850</td>\n",
       "      <td>57.463417</td>\n",
       "      <td>82.445773</td>\n",
       "      <td>-321.351895</td>\n",
       "      <td>-0.057160</td>\n",
       "      <td>2000.0</td>\n",
       "      <td>801.335527</td>\n",
       "      <td>0.985169</td>\n",
       "      <td>...</td>\n",
       "      <td>50.332896</td>\n",
       "      <td>9.467228</td>\n",
       "      <td>4.240312</td>\n",
       "      <td>7.0</td>\n",
       "      <td>0.032737</td>\n",
       "      <td>45.427974</td>\n",
       "      <td>0.949598</td>\n",
       "      <td>1.238808</td>\n",
       "      <td>0.253639</td>\n",
       "      <td>25.745792</td>\n",
       "    </tr>\n",
       "    <tr>\n",
       "      <th>28</th>\n",
       "      <td>129.760131</td>\n",
       "      <td>-318.08</td>\n",
       "      <td>519.685039</td>\n",
       "      <td>47.427352</td>\n",
       "      <td>82.445773</td>\n",
       "      <td>-321.351895</td>\n",
       "      <td>-0.011086</td>\n",
       "      <td>2000.0</td>\n",
       "      <td>801.335527</td>\n",
       "      <td>0.985169</td>\n",
       "      <td>...</td>\n",
       "      <td>50.332896</td>\n",
       "      <td>2.633511</td>\n",
       "      <td>4.240312</td>\n",
       "      <td>7.0</td>\n",
       "      <td>0.350853</td>\n",
       "      <td>45.427974</td>\n",
       "      <td>0.949598</td>\n",
       "      <td>1.238808</td>\n",
       "      <td>0.253639</td>\n",
       "      <td>25.745792</td>\n",
       "    </tr>\n",
       "    <tr>\n",
       "      <th>29</th>\n",
       "      <td>133.120131</td>\n",
       "      <td>-341.60</td>\n",
       "      <td>420.472441</td>\n",
       "      <td>54.569921</td>\n",
       "      <td>82.445773</td>\n",
       "      <td>-321.351895</td>\n",
       "      <td>-0.036466</td>\n",
       "      <td>2000.0</td>\n",
       "      <td>801.335527</td>\n",
       "      <td>0.985169</td>\n",
       "      <td>...</td>\n",
       "      <td>50.332896</td>\n",
       "      <td>5.452425</td>\n",
       "      <td>4.240312</td>\n",
       "      <td>7.0</td>\n",
       "      <td>0.070323</td>\n",
       "      <td>45.427974</td>\n",
       "      <td>0.949598</td>\n",
       "      <td>1.238808</td>\n",
       "      <td>0.253639</td>\n",
       "      <td>25.745792</td>\n",
       "    </tr>\n",
       "    <tr>\n",
       "      <th>30</th>\n",
       "      <td>82.720131</td>\n",
       "      <td>-274.40</td>\n",
       "      <td>503.149606</td>\n",
       "      <td>46.952697</td>\n",
       "      <td>82.445773</td>\n",
       "      <td>-321.351895</td>\n",
       "      <td>0.047972</td>\n",
       "      <td>2000.0</td>\n",
       "      <td>801.335527</td>\n",
       "      <td>0.985169</td>\n",
       "      <td>...</td>\n",
       "      <td>50.332896</td>\n",
       "      <td>2.897412</td>\n",
       "      <td>4.240312</td>\n",
       "      <td>7.0</td>\n",
       "      <td>0.350853</td>\n",
       "      <td>45.427974</td>\n",
       "      <td>0.949598</td>\n",
       "      <td>1.238808</td>\n",
       "      <td>0.253639</td>\n",
       "      <td>25.745792</td>\n",
       "    </tr>\n",
       "    <tr>\n",
       "      <th>31</th>\n",
       "      <td>45.760131</td>\n",
       "      <td>-361.76</td>\n",
       "      <td>464.566929</td>\n",
       "      <td>54.577022</td>\n",
       "      <td>82.445773</td>\n",
       "      <td>-321.351895</td>\n",
       "      <td>-0.034132</td>\n",
       "      <td>2000.0</td>\n",
       "      <td>801.335527</td>\n",
       "      <td>0.985169</td>\n",
       "      <td>...</td>\n",
       "      <td>50.332896</td>\n",
       "      <td>5.337369</td>\n",
       "      <td>4.240312</td>\n",
       "      <td>7.0</td>\n",
       "      <td>0.070323</td>\n",
       "      <td>45.427974</td>\n",
       "      <td>0.949598</td>\n",
       "      <td>1.238808</td>\n",
       "      <td>0.253639</td>\n",
       "      <td>25.745792</td>\n",
       "    </tr>\n",
       "    <tr>\n",
       "      <th>32</th>\n",
       "      <td>55.840131</td>\n",
       "      <td>-281.12</td>\n",
       "      <td>343.307087</td>\n",
       "      <td>48.233449</td>\n",
       "      <td>82.445773</td>\n",
       "      <td>-321.351895</td>\n",
       "      <td>0.048163</td>\n",
       "      <td>2000.0</td>\n",
       "      <td>801.335527</td>\n",
       "      <td>0.985169</td>\n",
       "      <td>...</td>\n",
       "      <td>50.332896</td>\n",
       "      <td>1.590927</td>\n",
       "      <td>4.240312</td>\n",
       "      <td>7.0</td>\n",
       "      <td>0.158228</td>\n",
       "      <td>45.427974</td>\n",
       "      <td>0.949598</td>\n",
       "      <td>1.238808</td>\n",
       "      <td>0.253639</td>\n",
       "      <td>25.745792</td>\n",
       "    </tr>\n",
       "  </tbody>\n",
       "</table>\n",
       "<p>33 rows × 51 columns</p>\n",
       "</div>"
      ]
     },
     "execution_count": 99,
     "metadata": {},
     "output_type": "execute_result"
    }
   ],
   "execution_count": 99
  },
  {
   "metadata": {
    "ExecuteTime": {
     "end_time": "2024-10-01T15:10:03.098546Z",
     "start_time": "2024-10-01T15:10:03.092533Z"
    }
   },
   "cell_type": "code",
   "source": "momentum_from_beta(0.985, 139.57)",
   "outputs": [
    {
     "data": {
      "text/plain": [
       "796.7139544777222"
      ]
     },
     "execution_count": 100,
     "metadata": {},
     "output_type": "execute_result"
    }
   ],
   "execution_count": 100
  },
  {
   "metadata": {
    "ExecuteTime": {
     "end_time": "2024-10-01T15:10:03.109824Z",
     "start_time": "2024-10-01T15:10:03.098546Z"
    }
   },
   "cell_type": "code",
   "source": "momentum_from_beta(0.995704, 139.57)",
   "outputs": [
    {
     "data": {
      "text/plain": [
       "1500.8667280793736"
      ]
     },
     "execution_count": 101,
     "metadata": {},
     "output_type": "execute_result"
    }
   ],
   "execution_count": 101
  },
  {
   "metadata": {
    "ExecuteTime": {
     "end_time": "2024-10-01T15:10:03.120509Z",
     "start_time": "2024-10-01T15:10:03.109824Z"
    }
   },
   "cell_type": "code",
   "source": "# edf.loc[30]",
   "outputs": [],
   "execution_count": 102
  },
  {
   "metadata": {
    "ExecuteTime": {
     "end_time": "2024-10-01T15:10:03.133811Z",
     "start_time": "2024-10-01T15:10:03.120509Z"
    }
   },
   "cell_type": "code",
   "source": "min(bdf.cos_theta_p)",
   "outputs": [
    {
     "data": {
      "text/plain": [
       "0.7033225901526667"
      ]
     },
     "execution_count": 103,
     "metadata": {},
     "output_type": "execute_result"
    }
   ],
   "execution_count": 103
  },
  {
   "metadata": {
    "ExecuteTime": {
     "end_time": "2024-10-01T15:10:03.199290Z",
     "start_time": "2024-10-01T15:10:03.133811Z"
    }
   },
   "cell_type": "code",
   "source": [
    "plt.hist(bdf.unfixed_calculated_r_2d_4_rsigms_4_tsigms, bins='auto')\n",
    "plt.show()"
   ],
   "outputs": [
    {
     "data": {
      "text/plain": [
       "<Figure size 640x480 with 1 Axes>"
      ],
      "image/png": "[encoded data removed]"
     },
     "metadata": {},
     "output_type": "display_data"
    }
   ],
   "execution_count": 104
  },
  {
   "metadata": {
    "ExecuteTime": {
     "end_time": "2024-10-01T15:10:03.250558Z",
     "start_time": "2024-10-01T15:10:03.199290Z"
    }
   },
   "cell_type": "code",
   "source": [
    "plt.hist(bdf.cos_theta_p, bins='auto')\n",
    "plt.show()"
   ],
   "outputs": [
    {
     "data": {
      "text/plain": [
       "<Figure size 640x480 with 1 Axes>"
      ],
      "image/png": "[encoded data removed]"
     },
     "metadata": {},
     "output_type": "display_data"
    }
   ],
   "execution_count": 105
  },
  {
   "metadata": {
    "ExecuteTime": {
     "end_time": "2024-10-01T15:10:03.405236Z",
     "start_time": "2024-10-01T15:10:03.250558Z"
    }
   },
   "cell_type": "code",
   "source": [
    "plt.hist(bdf.theta_p, bins='auto')\n",
    "plt.show()"
   ],
   "outputs": [
    {
     "data": {
      "text/plain": [
       "<Figure size 640x480 with 1 Axes>"
      ],
      "image/png": "[encoded data removed]"
     },
     "metadata": {},
     "output_type": "display_data"
    }
   ],
   "execution_count": 106
  },
  {
   "metadata": {
    "ExecuteTime": {
     "end_time": "2024-10-01T15:10:03.459811Z",
     "start_time": "2024-10-01T15:10:03.405236Z"
    }
   },
   "cell_type": "code",
   "source": [
    "plt.hist(bdf.beta, bins='auto')\n",
    "plt.show()"
   ],
   "outputs": [
    {
     "data": {
      "text/plain": [
       "<Figure size 640x480 with 1 Axes>"
      ],
      "image/png": "[encoded data removed]"
     },
     "metadata": {},
     "output_type": "display_data"
    }
   ],
   "execution_count": 107
  },
  {
   "metadata": {
    "ExecuteTime": {
     "end_time": "2024-10-01T15:10:03.508797Z",
     "start_time": "2024-10-01T15:10:03.459811Z"
    }
   },
   "cell_type": "code",
   "source": [
    "plt.hist(bdf.momentum, bins='auto')\n",
    "plt.show()"
   ],
   "outputs": [
    {
     "data": {
      "text/plain": [
       "<Figure size 640x480 with 1 Axes>"
      ],
      "image/png": "[encoded data removed]"
     },
     "metadata": {},
     "output_type": "display_data"
    }
   ],
   "execution_count": 108
  },
  {
   "metadata": {
    "ExecuteTime": {
     "end_time": "2024-10-01T15:10:04.111496Z",
     "start_time": "2024-10-01T15:10:03.508797Z"
    }
   },
   "cell_type": "code",
   "source": [
    "plt.hist(bdf.beta_from_calc_r_4_rsigms_4_tsigms, bins='auto')\n",
    "plt.show()"
   ],
   "outputs": [
    {
     "ename": "ValueError",
     "evalue": "supplied range of [0.96238092808269, inf] is not finite",
     "output_type": "error",
     "traceback": [
      "\u001B[1;31m---------------------------------------------------------------------------\u001B[0m",
      "\u001B[1;31mValueError\u001B[0m                                Traceback (most recent call last)",
      "Cell \u001B[1;32mIn[109], line 1\u001B[0m\n\u001B[1;32m----> 1\u001B[0m \u001B[43mplt\u001B[49m\u001B[38;5;241;43m.\u001B[39;49m\u001B[43mhist\u001B[49m\u001B[43m(\u001B[49m\u001B[43mbdf\u001B[49m\u001B[38;5;241;43m.\u001B[39;49m\u001B[43mbeta_from_calc_r_4_rsigms_4_tsigms\u001B[49m\u001B[43m,\u001B[49m\u001B[43m \u001B[49m\u001B[43mbins\u001B[49m\u001B[38;5;241;43m=\u001B[39;49m\u001B[38;5;124;43m'\u001B[39;49m\u001B[38;5;124;43mauto\u001B[39;49m\u001B[38;5;124;43m'\u001B[39;49m\u001B[43m)\u001B[49m\n\u001B[0;32m      2\u001B[0m plt\u001B[38;5;241m.\u001B[39mshow()\n",
      "File \u001B[1;32mZ:\\Prog\\FARICH\\venv\\Lib\\site-packages\\matplotlib\\pyplot.py:3354\u001B[0m, in \u001B[0;36mhist\u001B[1;34m(x, bins, range, density, weights, cumulative, bottom, histtype, align, orientation, rwidth, log, color, label, stacked, data, **kwargs)\u001B[0m\n\u001B[0;32m   3329\u001B[0m \u001B[38;5;129m@_copy_docstring_and_deprecators\u001B[39m(Axes\u001B[38;5;241m.\u001B[39mhist)\n\u001B[0;32m   3330\u001B[0m \u001B[38;5;28;01mdef\u001B[39;00m \u001B[38;5;21mhist\u001B[39m(\n\u001B[0;32m   3331\u001B[0m     x: ArrayLike \u001B[38;5;241m|\u001B[39m Sequence[ArrayLike],\n\u001B[1;32m   (...)\u001B[0m\n\u001B[0;32m   3352\u001B[0m     BarContainer \u001B[38;5;241m|\u001B[39m Polygon \u001B[38;5;241m|\u001B[39m \u001B[38;5;28mlist\u001B[39m[BarContainer \u001B[38;5;241m|\u001B[39m Polygon],\n\u001B[0;32m   3353\u001B[0m ]:\n\u001B[1;32m-> 3354\u001B[0m     \u001B[38;5;28;01mreturn\u001B[39;00m \u001B[43mgca\u001B[49m\u001B[43m(\u001B[49m\u001B[43m)\u001B[49m\u001B[38;5;241;43m.\u001B[39;49m\u001B[43mhist\u001B[49m\u001B[43m(\u001B[49m\n\u001B[0;32m   3355\u001B[0m \u001B[43m        \u001B[49m\u001B[43mx\u001B[49m\u001B[43m,\u001B[49m\n\u001B[0;32m   3356\u001B[0m \u001B[43m        \u001B[49m\u001B[43mbins\u001B[49m\u001B[38;5;241;43m=\u001B[39;49m\u001B[43mbins\u001B[49m\u001B[43m,\u001B[49m\n\u001B[0;32m   3357\u001B[0m \u001B[43m        \u001B[49m\u001B[38;5;28;43mrange\u001B[39;49m\u001B[38;5;241;43m=\u001B[39;49m\u001B[38;5;28;43mrange\u001B[39;49m\u001B[43m,\u001B[49m\n\u001B[0;32m   3358\u001B[0m \u001B[43m        \u001B[49m\u001B[43mdensity\u001B[49m\u001B[38;5;241;43m=\u001B[39;49m\u001B[43mdensity\u001B[49m\u001B[43m,\u001B[49m\n\u001B[0;32m   3359\u001B[0m \u001B[43m        \u001B[49m\u001B[43mweights\u001B[49m\u001B[38;5;241;43m=\u001B[39;49m\u001B[43mweights\u001B[49m\u001B[43m,\u001B[49m\n\u001B[0;32m   3360\u001B[0m \u001B[43m        \u001B[49m\u001B[43mcumulative\u001B[49m\u001B[38;5;241;43m=\u001B[39;49m\u001B[43mcumulative\u001B[49m\u001B[43m,\u001B[49m\n\u001B[0;32m   3361\u001B[0m \u001B[43m        \u001B[49m\u001B[43mbottom\u001B[49m\u001B[38;5;241;43m=\u001B[39;49m\u001B[43mbottom\u001B[49m\u001B[43m,\u001B[49m\n\u001B[0;32m   3362\u001B[0m \u001B[43m        \u001B[49m\u001B[43mhisttype\u001B[49m\u001B[38;5;241;43m=\u001B[39;49m\u001B[43mhisttype\u001B[49m\u001B[43m,\u001B[49m\n\u001B[0;32m   3363\u001B[0m \u001B[43m        \u001B[49m\u001B[43malign\u001B[49m\u001B[38;5;241;43m=\u001B[39;49m\u001B[43malign\u001B[49m\u001B[43m,\u001B[49m\n\u001B[0;32m   3364\u001B[0m \u001B[43m        \u001B[49m\u001B[43morientation\u001B[49m\u001B[38;5;241;43m=\u001B[39;49m\u001B[43morientation\u001B[49m\u001B[43m,\u001B[49m\n\u001B[0;32m   3365\u001B[0m \u001B[43m        \u001B[49m\u001B[43mrwidth\u001B[49m\u001B[38;5;241;43m=\u001B[39;49m\u001B[43mrwidth\u001B[49m\u001B[43m,\u001B[49m\n\u001B[0;32m   3366\u001B[0m \u001B[43m        \u001B[49m\u001B[43mlog\u001B[49m\u001B[38;5;241;43m=\u001B[39;49m\u001B[43mlog\u001B[49m\u001B[43m,\u001B[49m\n\u001B[0;32m   3367\u001B[0m \u001B[43m        \u001B[49m\u001B[43mcolor\u001B[49m\u001B[38;5;241;43m=\u001B[39;49m\u001B[43mcolor\u001B[49m\u001B[43m,\u001B[49m\n\u001B[0;32m   3368\u001B[0m \u001B[43m        \u001B[49m\u001B[43mlabel\u001B[49m\u001B[38;5;241;43m=\u001B[39;49m\u001B[43mlabel\u001B[49m\u001B[43m,\u001B[49m\n\u001B[0;32m   3369\u001B[0m \u001B[43m        \u001B[49m\u001B[43mstacked\u001B[49m\u001B[38;5;241;43m=\u001B[39;49m\u001B[43mstacked\u001B[49m\u001B[43m,\u001B[49m\n\u001B[0;32m   3370\u001B[0m \u001B[43m        \u001B[49m\u001B[38;5;241;43m*\u001B[39;49m\u001B[38;5;241;43m*\u001B[39;49m\u001B[43m(\u001B[49m\u001B[43m{\u001B[49m\u001B[38;5;124;43m\"\u001B[39;49m\u001B[38;5;124;43mdata\u001B[39;49m\u001B[38;5;124;43m\"\u001B[39;49m\u001B[43m:\u001B[49m\u001B[43m \u001B[49m\u001B[43mdata\u001B[49m\u001B[43m}\u001B[49m\u001B[43m \u001B[49m\u001B[38;5;28;43;01mif\u001B[39;49;00m\u001B[43m \u001B[49m\u001B[43mdata\u001B[49m\u001B[43m \u001B[49m\u001B[38;5;129;43;01mis\u001B[39;49;00m\u001B[43m \u001B[49m\u001B[38;5;129;43;01mnot\u001B[39;49;00m\u001B[43m \u001B[49m\u001B[38;5;28;43;01mNone\u001B[39;49;00m\u001B[43m \u001B[49m\u001B[38;5;28;43;01melse\u001B[39;49;00m\u001B[43m \u001B[49m\u001B[43m{\u001B[49m\u001B[43m}\u001B[49m\u001B[43m)\u001B[49m\u001B[43m,\u001B[49m\n\u001B[0;32m   3371\u001B[0m \u001B[43m        \u001B[49m\u001B[38;5;241;43m*\u001B[39;49m\u001B[38;5;241;43m*\u001B[39;49m\u001B[43mkwargs\u001B[49m\u001B[43m,\u001B[49m\n\u001B[0;32m   3372\u001B[0m \u001B[43m    \u001B[49m\u001B[43m)\u001B[49m\n",
      "File \u001B[1;32mZ:\\Prog\\FARICH\\venv\\Lib\\site-packages\\matplotlib\\__init__.py:1486\u001B[0m, in \u001B[0;36m_preprocess_data.<locals>.inner\u001B[1;34m(ax, data, *args, **kwargs)\u001B[0m\n\u001B[0;32m   1483\u001B[0m \u001B[38;5;129m@functools\u001B[39m\u001B[38;5;241m.\u001B[39mwraps(func)\n\u001B[0;32m   1484\u001B[0m \u001B[38;5;28;01mdef\u001B[39;00m \u001B[38;5;21minner\u001B[39m(ax, \u001B[38;5;241m*\u001B[39margs, data\u001B[38;5;241m=\u001B[39m\u001B[38;5;28;01mNone\u001B[39;00m, \u001B[38;5;241m*\u001B[39m\u001B[38;5;241m*\u001B[39mkwargs):\n\u001B[0;32m   1485\u001B[0m     \u001B[38;5;28;01mif\u001B[39;00m data \u001B[38;5;129;01mis\u001B[39;00m \u001B[38;5;28;01mNone\u001B[39;00m:\n\u001B[1;32m-> 1486\u001B[0m         \u001B[38;5;28;01mreturn\u001B[39;00m \u001B[43mfunc\u001B[49m\u001B[43m(\u001B[49m\n\u001B[0;32m   1487\u001B[0m \u001B[43m            \u001B[49m\u001B[43max\u001B[49m\u001B[43m,\u001B[49m\n\u001B[0;32m   1488\u001B[0m \u001B[43m            \u001B[49m\u001B[38;5;241;43m*\u001B[39;49m\u001B[38;5;28;43mmap\u001B[39;49m\u001B[43m(\u001B[49m\u001B[43msanitize_sequence\u001B[49m\u001B[43m,\u001B[49m\u001B[43m \u001B[49m\u001B[43margs\u001B[49m\u001B[43m)\u001B[49m\u001B[43m,\u001B[49m\n\u001B[0;32m   1489\u001B[0m \u001B[43m            \u001B[49m\u001B[38;5;241;43m*\u001B[39;49m\u001B[38;5;241;43m*\u001B[39;49m\u001B[43m{\u001B[49m\u001B[43mk\u001B[49m\u001B[43m:\u001B[49m\u001B[43m \u001B[49m\u001B[43msanitize_sequence\u001B[49m\u001B[43m(\u001B[49m\u001B[43mv\u001B[49m\u001B[43m)\u001B[49m\u001B[43m \u001B[49m\u001B[38;5;28;43;01mfor\u001B[39;49;00m\u001B[43m \u001B[49m\u001B[43mk\u001B[49m\u001B[43m,\u001B[49m\u001B[43m \u001B[49m\u001B[43mv\u001B[49m\u001B[43m \u001B[49m\u001B[38;5;129;43;01min\u001B[39;49;00m\u001B[43m \u001B[49m\u001B[43mkwargs\u001B[49m\u001B[38;5;241;43m.\u001B[39;49m\u001B[43mitems\u001B[49m\u001B[43m(\u001B[49m\u001B[43m)\u001B[49m\u001B[43m}\u001B[49m\u001B[43m)\u001B[49m\n\u001B[0;32m   1491\u001B[0m     bound \u001B[38;5;241m=\u001B[39m new_sig\u001B[38;5;241m.\u001B[39mbind(ax, \u001B[38;5;241m*\u001B[39margs, \u001B[38;5;241m*\u001B[39m\u001B[38;5;241m*\u001B[39mkwargs)\n\u001B[0;32m   1492\u001B[0m     auto_label \u001B[38;5;241m=\u001B[39m (bound\u001B[38;5;241m.\u001B[39marguments\u001B[38;5;241m.\u001B[39mget(label_namer)\n\u001B[0;32m   1493\u001B[0m                   \u001B[38;5;129;01mor\u001B[39;00m bound\u001B[38;5;241m.\u001B[39mkwargs\u001B[38;5;241m.\u001B[39mget(label_namer))\n",
      "File \u001B[1;32mZ:\\Prog\\FARICH\\venv\\Lib\\site-packages\\matplotlib\\axes\\_axes.py:7001\u001B[0m, in \u001B[0;36mAxes.hist\u001B[1;34m(self, x, bins, range, density, weights, cumulative, bottom, histtype, align, orientation, rwidth, log, color, label, stacked, **kwargs)\u001B[0m\n\u001B[0;32m   6997\u001B[0m \u001B[38;5;66;03m# Loop through datasets\u001B[39;00m\n\u001B[0;32m   6998\u001B[0m \u001B[38;5;28;01mfor\u001B[39;00m i \u001B[38;5;129;01min\u001B[39;00m \u001B[38;5;28mrange\u001B[39m(nx):\n\u001B[0;32m   6999\u001B[0m     \u001B[38;5;66;03m# this will automatically overwrite bins,\u001B[39;00m\n\u001B[0;32m   7000\u001B[0m     \u001B[38;5;66;03m# so that each histogram uses the same bins\u001B[39;00m\n\u001B[1;32m-> 7001\u001B[0m     m, bins \u001B[38;5;241m=\u001B[39m \u001B[43mnp\u001B[49m\u001B[38;5;241;43m.\u001B[39;49m\u001B[43mhistogram\u001B[49m\u001B[43m(\u001B[49m\u001B[43mx\u001B[49m\u001B[43m[\u001B[49m\u001B[43mi\u001B[49m\u001B[43m]\u001B[49m\u001B[43m,\u001B[49m\u001B[43m \u001B[49m\u001B[43mbins\u001B[49m\u001B[43m,\u001B[49m\u001B[43m \u001B[49m\u001B[43mweights\u001B[49m\u001B[38;5;241;43m=\u001B[39;49m\u001B[43mw\u001B[49m\u001B[43m[\u001B[49m\u001B[43mi\u001B[49m\u001B[43m]\u001B[49m\u001B[43m,\u001B[49m\u001B[43m \u001B[49m\u001B[38;5;241;43m*\u001B[39;49m\u001B[38;5;241;43m*\u001B[39;49m\u001B[43mhist_kwargs\u001B[49m\u001B[43m)\u001B[49m\n\u001B[0;32m   7002\u001B[0m     tops\u001B[38;5;241m.\u001B[39mappend(m)\n\u001B[0;32m   7003\u001B[0m tops \u001B[38;5;241m=\u001B[39m np\u001B[38;5;241m.\u001B[39marray(tops, \u001B[38;5;28mfloat\u001B[39m)  \u001B[38;5;66;03m# causes problems later if it's an int\u001B[39;00m\n",
      "File \u001B[1;32mZ:\\Prog\\FARICH\\venv\\Lib\\site-packages\\numpy\\lib\\histograms.py:780\u001B[0m, in \u001B[0;36mhistogram\u001B[1;34m(a, bins, range, density, weights)\u001B[0m\n\u001B[0;32m    680\u001B[0m \u001B[38;5;250m\u001B[39m\u001B[38;5;124mr\u001B[39m\u001B[38;5;124;03m\"\"\"\u001B[39;00m\n\u001B[0;32m    681\u001B[0m \u001B[38;5;124;03mCompute the histogram of a dataset.\u001B[39;00m\n\u001B[0;32m    682\u001B[0m \n\u001B[1;32m   (...)\u001B[0m\n\u001B[0;32m    776\u001B[0m \n\u001B[0;32m    777\u001B[0m \u001B[38;5;124;03m\"\"\"\u001B[39;00m\n\u001B[0;32m    778\u001B[0m a, weights \u001B[38;5;241m=\u001B[39m _ravel_and_check_weights(a, weights)\n\u001B[1;32m--> 780\u001B[0m bin_edges, uniform_bins \u001B[38;5;241m=\u001B[39m \u001B[43m_get_bin_edges\u001B[49m\u001B[43m(\u001B[49m\u001B[43ma\u001B[49m\u001B[43m,\u001B[49m\u001B[43m \u001B[49m\u001B[43mbins\u001B[49m\u001B[43m,\u001B[49m\u001B[43m \u001B[49m\u001B[38;5;28;43mrange\u001B[39;49m\u001B[43m,\u001B[49m\u001B[43m \u001B[49m\u001B[43mweights\u001B[49m\u001B[43m)\u001B[49m\n\u001B[0;32m    782\u001B[0m \u001B[38;5;66;03m# Histogram is an integer or a float array depending on the weights.\u001B[39;00m\n\u001B[0;32m    783\u001B[0m \u001B[38;5;28;01mif\u001B[39;00m weights \u001B[38;5;129;01mis\u001B[39;00m \u001B[38;5;28;01mNone\u001B[39;00m:\n",
      "File \u001B[1;32mZ:\\Prog\\FARICH\\venv\\Lib\\site-packages\\numpy\\lib\\histograms.py:396\u001B[0m, in \u001B[0;36m_get_bin_edges\u001B[1;34m(a, bins, range, weights)\u001B[0m\n\u001B[0;32m    392\u001B[0m \u001B[38;5;28;01mif\u001B[39;00m weights \u001B[38;5;129;01mis\u001B[39;00m \u001B[38;5;129;01mnot\u001B[39;00m \u001B[38;5;28;01mNone\u001B[39;00m:\n\u001B[0;32m    393\u001B[0m     \u001B[38;5;28;01mraise\u001B[39;00m \u001B[38;5;167;01mTypeError\u001B[39;00m(\u001B[38;5;124m\"\u001B[39m\u001B[38;5;124mAutomated estimation of the number of \u001B[39m\u001B[38;5;124m\"\u001B[39m\n\u001B[0;32m    394\u001B[0m                     \u001B[38;5;124m\"\u001B[39m\u001B[38;5;124mbins is not supported for weighted data\u001B[39m\u001B[38;5;124m\"\u001B[39m)\n\u001B[1;32m--> 396\u001B[0m first_edge, last_edge \u001B[38;5;241m=\u001B[39m \u001B[43m_get_outer_edges\u001B[49m\u001B[43m(\u001B[49m\u001B[43ma\u001B[49m\u001B[43m,\u001B[49m\u001B[43m \u001B[49m\u001B[38;5;28;43mrange\u001B[39;49m\u001B[43m)\u001B[49m\n\u001B[0;32m    398\u001B[0m \u001B[38;5;66;03m# truncate the range if needed\u001B[39;00m\n\u001B[0;32m    399\u001B[0m \u001B[38;5;28;01mif\u001B[39;00m \u001B[38;5;28mrange\u001B[39m \u001B[38;5;129;01mis\u001B[39;00m \u001B[38;5;129;01mnot\u001B[39;00m \u001B[38;5;28;01mNone\u001B[39;00m:\n",
      "File \u001B[1;32mZ:\\Prog\\FARICH\\venv\\Lib\\site-packages\\numpy\\lib\\histograms.py:315\u001B[0m, in \u001B[0;36m_get_outer_edges\u001B[1;34m(a, range)\u001B[0m\n\u001B[0;32m    312\u001B[0m         \u001B[38;5;28;01mraise\u001B[39;00m \u001B[38;5;167;01mValueError\u001B[39;00m(\n\u001B[0;32m    313\u001B[0m             \u001B[38;5;124m'\u001B[39m\u001B[38;5;124mmax must be larger than min in range parameter.\u001B[39m\u001B[38;5;124m'\u001B[39m)\n\u001B[0;32m    314\u001B[0m     \u001B[38;5;28;01mif\u001B[39;00m \u001B[38;5;129;01mnot\u001B[39;00m (np\u001B[38;5;241m.\u001B[39misfinite(first_edge) \u001B[38;5;129;01mand\u001B[39;00m np\u001B[38;5;241m.\u001B[39misfinite(last_edge)):\n\u001B[1;32m--> 315\u001B[0m         \u001B[38;5;28;01mraise\u001B[39;00m \u001B[38;5;167;01mValueError\u001B[39;00m(\n\u001B[0;32m    316\u001B[0m             \u001B[38;5;124m\"\u001B[39m\u001B[38;5;124msupplied range of [\u001B[39m\u001B[38;5;132;01m{}\u001B[39;00m\u001B[38;5;124m, \u001B[39m\u001B[38;5;132;01m{}\u001B[39;00m\u001B[38;5;124m] is not finite\u001B[39m\u001B[38;5;124m\"\u001B[39m\u001B[38;5;241m.\u001B[39mformat(first_edge, last_edge))\n\u001B[0;32m    317\u001B[0m \u001B[38;5;28;01melif\u001B[39;00m a\u001B[38;5;241m.\u001B[39msize \u001B[38;5;241m==\u001B[39m \u001B[38;5;241m0\u001B[39m:\n\u001B[0;32m    318\u001B[0m     \u001B[38;5;66;03m# handle empty arrays. Can't determine range, so use 0-1.\u001B[39;00m\n\u001B[0;32m    319\u001B[0m     first_edge, last_edge \u001B[38;5;241m=\u001B[39m \u001B[38;5;241m0\u001B[39m, \u001B[38;5;241m1\u001B[39m\n",
      "\u001B[1;31mValueError\u001B[0m: supplied range of [0.96238092808269, inf] is not finite"
     ]
    },
    {
     "data": {
      "text/plain": [
       "<Figure size 640x480 with 1 Axes>"
      ],
      "image/png": "[encoded data removed]"
     },
     "metadata": {},
     "output_type": "display_data"
    }
   ],
   "execution_count": 109
  },
  {
   "metadata": {
    "ExecuteTime": {
     "end_time": "2024-10-01T15:10:04.112493Z",
     "start_time": "2024-10-01T15:10:04.112493Z"
    }
   },
   "cell_type": "code",
   "source": [
    "plt.hist(bdf.beta_from_calc_r_4_rsigms_4_tsigms - bdf.beta, bins='auto')\n",
    "plt.show()"
   ],
   "outputs": [],
   "execution_count": null
  },
  {
   "metadata": {
    "ExecuteTime": {
     "end_time": "2024-10-01T15:10:04.112493Z",
     "start_time": "2024-10-01T15:10:04.112493Z"
    }
   },
   "cell_type": "code",
   "source": "ф",
   "outputs": [],
   "execution_count": null
  },
  {
   "metadata": {},
   "cell_type": "code",
   "source": "bdf[bdf.unfixed_calculated_r_2d_4_rsigms_4_tsigms.isna()] # All rings with intersections outside the ring itself",
   "outputs": [],
   "execution_count": null
  },
  {
   "metadata": {},
   "cell_type": "code",
   "source": "bdf.isna().sum()",
   "outputs": [],
   "execution_count": null
  },
  {
   "metadata": {},
   "cell_type": "code",
   "source": "bdf.dropna().isna().sum()",
   "outputs": [],
   "execution_count": null
  },
  {
   "metadata": {},
   "cell_type": "code",
   "source": [
    "event = edf.loc[30]\n",
    "plt.subplot()\n",
    "plt.scatter(event.phi_c, event.theta_c)\n",
    "plt.show()\n",
    "plt.subplot()\n",
    "plt.gca().invert_yaxis()\n",
    "plt.scatter(event.rotated_x, event.rotated_y)\n",
    "plt.scatter(event.rotated_x_i, event.rotated_y_i)\n",
    "plt.show()"
   ],
   "outputs": [],
   "execution_count": null
  },
  {
   "metadata": {},
   "cell_type": "code",
   "source": "event",
   "outputs": [],
   "execution_count": null
  },
  {
   "metadata": {},
   "cell_type": "code",
   "source": [
    "def rms90(arr):\n",
    "    # Calculate the mean and standard deviation of the array\n",
    "    arr = arr.dropna()\n",
    "    # arr_mean = np.mean(arr)\n",
    "    # arr_std = np.std(arr)\n",
    "\n",
    "    # Define the upper and lower limits for the 90% range\n",
    "    lower_limit = np.percentile(arr, 5)\n",
    "    upper_limit = np.percentile(arr, 95)\n",
    "    # print(lower_limit, upper_limit)\n",
    "    # print(arr)\n",
    "    # Select the values within the 90% range\n",
    "    arr_filtered = arr[(arr >= lower_limit) & (arr <= upper_limit)]\n",
    "    # print(arr_filtered)\n",
    "    assert arr_filtered.shape\n",
    "    # Calculate the root mean square of the filtered values\n",
    "    rms = np.std(arr_filtered)\n",
    "\n",
    "    return rms"
   ],
   "outputs": [],
   "execution_count": null
  },
  {
   "metadata": {},
   "cell_type": "code",
   "source": [
    "def betaGroupsRMS90(bdf: pd.DataFrame, avg_sigmas: tuple, avg_t_sigmas: tuple, n = 5):\n",
    "  beta_sigms = np.full((np.ptp(avg_sigmas), np.ptp(avg_t_sigmas), n), 0.)\n",
    "  beta_epss = np.full((np.ptp(avg_sigmas), np.ptp(avg_t_sigmas), n), 0.)\n",
    "  beta_sigms_sigms = np.full((np.ptp(avg_sigmas), np.ptp(avg_t_sigmas), n), 0.)\n",
    "\n",
    "  for group in range(1, n + 1):\n",
    "    data = bdf[bdf['beta_group'] == group]\n",
    "    for i in range(np.ptp(avg_sigmas)):\n",
    "      for j in range(np.ptp(avg_t_sigmas)):\n",
    "        population_fourth_moment = np.mean(bdf[f'delta_beta_{i + avg_sigmas[0]}_rsigms_{j + avg_t_sigmas[0]}_tsigms'] ** 4)\n",
    "        sample_fourth_moment = np.mean(data[f'delta_beta_{i + avg_sigmas[0]}_rsigms_{j + avg_t_sigmas[0]}_tsigms'] ** 4)\n",
    "        # print(np.std(data[f'delta_beta_{i + avg_sigmas[0]}_rsigms_{j + avg_t_sigmas[0]}_tsigms']))\n",
    "        beta_sigms[i, j, group - 1] = rms90(data[f'delta_beta_{i + avg_sigmas[0]}_rsigms_{j + avg_t_sigmas[0]}_tsigms'])\n",
    "        # assert not np.isnan(beta_sigms[i, j, group - 1])\n",
    "        beta_epss[i, j, group - 1] = rms90(data[f'eps_beta_{i + avg_sigmas[0]}_rsigms_{j + avg_t_sigmas[0]}_tsigms'])\n",
    "        beta_sigms_sigms[i, j, group - 1] = np.sqrt(2 * np.abs(sample_fourth_moment - population_fourth_moment) / (data.shape[0]))\n",
    "\n",
    "  return beta_sigms, beta_epss, beta_sigms_sigms"
   ],
   "outputs": [],
   "execution_count": null
  },
  {
   "metadata": {},
   "cell_type": "code",
   "source": [
    "def plot_final_graph(beta_sigms, beta_sigms_yerr, avg_sigmas, avg_t_sigmas, r_width, t_width, r_factor, t_factor, weighed, to_save=True, deg_lim=False, num_of_groups=10, iteration=0):\n",
    "  # labels = ['0', '1e3', '1e4', '1e5', '1e6']\n",
    "  labels = ['0']\n",
    "  labels = ['DCR = ' + i + ' $Hz/mm^2$' for i in labels]\n",
    "  colors = ['c', 'y', 'g', 'r', 'm']\n",
    "  weight = 'weighed' if weighed else 'unweighed'\n",
    "  y = np.arange(1, num_of_groups + 1)\n",
    "  x = (y * (max(edf['beta']) - min(edf['beta'])) - max(edf['beta']) + (num_of_groups + 1) * min(edf['beta'])) / num_of_groups\n",
    "\n",
    "  fig, axs = plt.subplots(np.ptp(avg_sigmas), np.ptp(avg_t_sigmas), figsize=(10 * np.ptp(avg_t_sigmas), 10 * np.ptp(avg_sigmas)))\n",
    "  title = f'Method: N(r) / r; {weight} Avg\\nR Width = {r_width}mm, T Width = {t_width}ns\\nR step factor = {r_factor}, T step factor = {t_factor}'\n",
    "  if deg_lim:\n",
    "    title += '\\n' + r'$\\theta_p < 10\\deg$'\n",
    "  # fig.suptitle(title)\n",
    "\n",
    "  if np.ptp(avg_sigmas) > 1:\n",
    "    for i in range(np.ptp(avg_sigmas)):\n",
    "      for j in range(np.ptp(avg_t_sigmas)):\n",
    "        for k in range(beta_sigms.shape[0]):\n",
    "          axs[i, j].plot(x, beta_sigms[k, i, j], label=labels[k], c=colors[k])\n",
    "          axs[i, j].errorbar(x, beta_sigms[k, i, j], xerr=[np.diff(x)[0]/4 for _ in x], linestyle='', c=colors[k])\n",
    "          axs[i, j].errorbar(x, beta_sigms[k, i, j], yerr=beta_sigms_yerr[k, i, j], linestyle='', c=colors[k])\n",
    "        axs[i, j].legend(loc='upper right')\n",
    "        axs[i, j].set_xlabel('Beta Group')\n",
    "        axs[i, j].set_ylabel(r'RMS90($\\Delta\\beta$)')\n",
    "        if deg_lim:\n",
    "          axs[i, j].set_ylim((0, 0.004))\n",
    "        axs[i, j].set_title(f'Velocity resoultion for\\nr window width = {avg_sigmas[0] + i}$\\sigma$\\nt window width = {avg_t_sigmas[0] + j}$\\sigma$')\n",
    "        axs[i, j].grid()\n",
    "  elif np.ptp(avg_t_sigmas) > 1:\n",
    "    for j in range(np.ptp(avg_t_sigmas)):\n",
    "      for k in range(beta_sigms.shape[0]):\n",
    "        axs[j].plot(x, beta_sigms[k, 0, j], label=labels[k], c=colors[k])\n",
    "        axs[j].errorbar(x, beta_sigms[k, 0, j], xerr=[np.diff(x)[0]/4 for _ in x], linestyle='', c=colors[k])\n",
    "        axs[j].errorbar(x, beta_sigms[k, 0, j], yerr=beta_sigms_yerr[k, 0, j], linestyle='', c=colors[k])\n",
    "      axs[j].legend(loc='upper right')\n",
    "      axs[j].set_xlabel('Beta Group')\n",
    "      axs[j].set_ylabel(r'RMS90($\\Delta\\beta)$')\n",
    "      if deg_lim:\n",
    "        axs[j].set_ylim((0, 0.004))\n",
    "      axs[j].set_title(f'Velocity resoultion for\\nr window width = {avg_sigmas[0]}$\\sigma$\\nt window width = {avg_t_sigmas[0] + j}$\\sigma$')\n",
    "      axs[j].grid()\n",
    "  else:\n",
    "    for k in range(beta_sigms.shape[0]):\n",
    "      axs.plot(x, beta_sigms[k, 0, 0], label=labels[k], c=colors[k])\n",
    "      axs.errorbar(x, beta_sigms[k, 0, 0], xerr=[np.diff(x)[0]/4 for _ in x], linestyle='', c=colors[k])\n",
    "      axs.errorbar(x, beta_sigms[k, 0, 0], yerr=beta_sigms_yerr[k, 0, 0], linestyle='', c=colors[k])\n",
    "    axs.legend(loc='upper right')\n",
    "    axs.set_xlabel('Beta Group')\n",
    "    axs.set_ylabel(r'RMS90($\\Delta\\beta$)')\n",
    "    if deg_lim:\n",
    "      # axs.set_ylim((0, 0.002))\n",
    "        # revert back\n",
    "      axs.set_ylim((0, 0.004))\n",
    "        \n",
    "        \n",
    "        \n",
    "    axs.set_title(f'Velocity resoultion for\\nr window width = {avg_sigmas[0]}$\\sigma$\\nt window width = {avg_t_sigmas[0]}$\\sigma$')\n",
    "    axs.grid()\n",
    "\n",
    "  if to_save:\n",
    "    filename = f'{weight}_avg_rw={r_width}_tw={t_width}_rs={r_factor}_ts={t_factor}_rsigms={avg_sigmas[0]}-{avg_sigmas[-1]-1}_tsigms={avg_t_sigmas[0]}-{avg_t_sigmas[-1]-1}'\n",
    "    if deg_lim:\n",
    "      filename += '_10deg'\n",
    "    filename += f'_{iteration}'\n",
    "    filename += '.png'\n",
    "    fig.savefig(os.path.join('results_barrel', f'{filename}'))\n",
    "    plt.close(fig)\n",
    "  else:\n",
    "    plt.show()"
   ],
   "outputs": [],
   "execution_count": null
  },
  {
   "metadata": {},
   "cell_type": "code",
   "source": [
    "bg = betaGroupsRMS90(bdf, avg_sigmas=avg_sigmas, avg_t_sigmas=avg_t_sigmas, n=num_of_groups)\n",
    "beta_sigms.append(bg[0])\n",
    "beta_sigms_yerr.append(bg[2])"
   ],
   "outputs": [],
   "execution_count": null
  },
  {
   "metadata": {},
   "cell_type": "code",
   "source": [
    "beta_sigms = np.array(beta_sigms)\n",
    "beta_sigms_yerr = np.array(beta_sigms_yerr)"
   ],
   "outputs": [],
   "execution_count": null
  },
  {
   "metadata": {},
   "cell_type": "code",
   "source": "",
   "outputs": [],
   "execution_count": null
  },
  {
   "metadata": {},
   "cell_type": "code",
   "source": "plot_final_graph(beta_sigms, beta_sigms_yerr, avg_sigmas, avg_t_sigmas, r_width, t_width, r_factor, t_factor, weighed, deg_lim=False, num_of_groups=num_of_groups, iteration=0)\n",
   "outputs": [],
   "execution_count": null
  },
  {
   "metadata": {},
   "cell_type": "code",
   "source": [
    "edf_d = edf[edf.theta_p <= 10. * np.pi / 180]\n",
    "edf_d = edf_d[edf_d.signal_counts >= 5]\n",
    "bdf_d = bdf[bdf.theta_p <= 10. * np.pi / 180]\n",
    "bdf_d = bdf_d[bdf_d.signal_counts >= 5]"
   ],
   "outputs": [],
   "execution_count": null
  },
  {
   "metadata": {},
   "cell_type": "code",
   "source": [
    "bg_deglim = betaGroupsRMS90(bdf_d, avg_sigmas=avg_sigmas, avg_t_sigmas=avg_t_sigmas, n=num_of_groups)\n",
    "beta_sigms_deglim.append(bg_deglim[0])\n",
    "beta_sigms_yerr_deglim.append(bg_deglim[2])"
   ],
   "outputs": [],
   "execution_count": null
  },
  {
   "metadata": {},
   "cell_type": "code",
   "source": [
    "beta_sigms_deglim = np.array(beta_sigms_deglim)\n",
    "beta_sigms_yerr_deglim = np.array(beta_sigms_yerr_deglim)"
   ],
   "outputs": [],
   "execution_count": null
  },
  {
   "metadata": {},
   "cell_type": "code",
   "source": "plot_final_graph(beta_sigms_deglim, beta_sigms_yerr_deglim, avg_sigmas, avg_t_sigmas, r_width, t_width, r_factor, t_factor, weighed, deg_lim=True, num_of_groups=num_of_groups, iteration=0)",
   "outputs": [],
   "execution_count": null
  },
  {
   "metadata": {},
   "cell_type": "code",
   "source": "",
   "outputs": [],
   "execution_count": null
  },
  {
   "metadata": {},
   "cell_type": "code",
   "source": "bdf",
   "outputs": [],
   "execution_count": null
  },
  {
   "metadata": {},
   "cell_type": "code",
   "source": "ы",
   "outputs": [],
   "execution_count": null
  },
  {
   "metadata": {},
   "cell_type": "code",
   "source": [
    "plt.hist(bdf.beta, bins='auto')\n",
    "plt.xlabel('beta')\n",
    "plt.show()"
   ],
   "outputs": [],
   "execution_count": null
  },
  {
   "metadata": {},
   "cell_type": "code",
   "source": [
    "plt.subplot()\n",
    "plt.hist(bdf.cos_theta_p, bins='auto')\n",
    "plt.xlabel('cos_theta_p')\n",
    "plt.show()\n",
    "plt.subplot()\n",
    "plt.hist(bdf.theta_p, bins='auto')\n",
    "plt.xlabel('theta_p')\n",
    "plt.show()"
   ],
   "outputs": [],
   "execution_count": null
  },
  {
   "cell_type": "markdown",
   "source": [
    "primary particle - last with wv = 0"
   ],
   "metadata": {
    "collapsed": false
   }
  },
  {
   "metadata": {},
   "cell_type": "code",
   "source": "",
   "outputs": [],
   "execution_count": null
  },
  {
   "cell_type": "code",
   "source": [
    "# coordinates[:,3]\n",
    "lambdas = np.concatenate(coordinates[:,3])"
   ],
   "metadata": {
    "collapsed": false
   },
   "outputs": [],
   "execution_count": null
  },
  {
   "cell_type": "code",
   "source": [
    "lambdas.shape"
   ],
   "metadata": {
    "collapsed": false
   },
   "outputs": [],
   "execution_count": null
  },
  {
   "cell_type": "code",
   "source": [
    "lambdas.shape[0] / coordinates.shape[0]"
   ],
   "metadata": {
    "collapsed": false
   },
   "outputs": [],
   "execution_count": null
  },
  {
   "cell_type": "code",
   "source": [
    "plt.hist(lambdas, bins=PDE_wvs)\n",
    "plt.xlabel('Wavelength, nm')\n",
    "plt.title(f'Energy: 1500 MeV\\nMean: {round(lambdas.mean(), 1)} nm' + '\\n' + f'Std: {round(lambdas.std(), 1)} nm')\n",
    "plt.ylabel('Hits')\n",
    "# plt.xlim((200, 900))\n",
    "plt.show()"
   ],
   "metadata": {
    "collapsed": false
   },
   "outputs": [],
   "execution_count": null
  },
  {
   "cell_type": "code",
   "source": [
    "# delta_r = np.sqrt(x ** 2 + y ** 2 - 1000 ** 2)\n",
    "plt.scatter(coordinates[0][0], coordinates[0][2], c='red', s=3)\n",
    "# plt.plot(1000 * np.cos(np.linspace(0, 2*np.pi,1000)), 1000 * np.sin(np.linspace(0, 2*np.pi,1000)))\n",
    "# plt.xlim((-160, 50))\n",
    "# plt.ylim((-1100, -650))\n",
    "plt.xlabel('X, mm')\n",
    "plt.ylabel('Z, mm')\n",
    "# plt.title('p = 1500 MeV' + f'\\n{coordinates[0][0].shape[0]} Hits')\n",
    "plt.show()"
   ],
   "metadata": {
    "collapsed": false
   },
   "outputs": [],
   "execution_count": null
  },
  {
   "cell_type": "code",
   "source": [
    "print(coordinates[0][0].shape)"
   ],
   "metadata": {
    "collapsed": false
   },
   "outputs": [],
   "execution_count": null
  },
  {
   "cell_type": "code",
   "source": [
    "plt.scatter(PDE_wvs, PDEs)\n",
    "plt.show()"
   ],
   "metadata": {
    "collapsed": false
   },
   "outputs": [],
   "execution_count": null
  },
  {
   "cell_type": "code",
   "source": [],
   "metadata": {
    "collapsed": false
   },
   "outputs": [],
   "execution_count": null
  },
  {
   "cell_type": "code",
   "source": [
    "events_len = []\n",
    "for i in range(coordinates.shape[0]):\n",
    "    events_len.append(len(coordinates[i][0]))\n",
    "events_len = np.array(events_len)\n",
    "plt.hist(events_len, bins='auto')\n",
    "plt.xlabel('Hits in event')\n",
    "plt.title(f'Energy: 1500 MeV\\nMean: {round(events_len.mean(), 1)}' + '\\n' + f'Std: {round(events_len.std(), 1)}')\n",
    "plt.ylabel('Events')\n",
    "plt.show()"
   ],
   "metadata": {
    "collapsed": false
   },
   "outputs": [],
   "execution_count": null
  },
  {
   "cell_type": "markdown",
   "source": [
    "# End of main"
   ],
   "metadata": {
    "collapsed": false
   }
  },
  {
   "metadata": {},
   "cell_type": "code",
   "source": [
    "n = np.array(file_prototype['info_sim;1']['info_rad']['m_layers']['m_layers.first'].array())[0]\n",
    "n\n",
    "l = np.array(file_prototype['info_sim;1']['info_rad']['m_layers']['m_layers.second'].array())[0]\n",
    "l\n",
    "cos = 1 / n\n",
    "cos\n",
    "theta = np.arccos(cos)\n",
    "theta\n",
    "tg = np.tan(theta)\n",
    "tg\n",
    "2 * (tg[3] / tg[2] * (200 + l[3] / 2) - 200 - l[3])\n",
    "l[3] * (1 + l[3] / 200)\n",
    "l * tg"
   ],
   "outputs": [],
   "execution_count": null
  },
  {
   "metadata": {},
   "cell_type": "code",
   "source": [
    "d = 205\n",
    "L = 35\n",
    "W = 2.65 # 2.65\n",
    "l_calc = np.array((-(d * (d + L) ** 3) ** (1/4) + d + L, (d * (d + L) ** 3) ** (1/4) * (-(d * (d + L) ** 3) ** (1/4) + d + L) / (d + L), (d * (d + L))  * (-(d * (d + L) ** 3) ** (1/4) + d + L) / ((d * (d + L) ** 3) ** (1/2)), -(d ** 3 + 2 * d * d * L + d * L * L - (d * (d + L) ** 3) ** (3/4)) / (d + L) ** 2))\n",
    "l_calc"
   ],
   "outputs": [],
   "execution_count": null
  },
  {
   "metadata": {},
   "cell_type": "code",
   "source": [
    "n_calc = 1 / np.cos(np.arctan(W / l_calc))\n",
    "n_calc"
   ],
   "outputs": [],
   "execution_count": null
  },
  {
   "metadata": {},
   "cell_type": "code",
   "source": [
    "with open(r'data\\rindex.txt', 'r') as rindex:\n",
    "    aerogel_1050 = np.array(list(map(lambda y: np.array([float(y[0]), float(y[1][:-2])]), list(map(lambda x: x.split('*eV '), rindex.readlines())))))\n",
    "print(aerogel_1050[39])\n",
    "aerogel_1040 = np.array([aerogel_1050[:, 0], aerogel_1050[:, 1] * n_calc[0] / aerogel_1050[39][1]])\n",
    "aerogel_1043 = np.array([aerogel_1050[:, 0], aerogel_1050[:, 1] * n_calc[1] / aerogel_1050[39][1]])\n",
    "aerogel_1047 = np.array([aerogel_1050[:, 0], aerogel_1050[:, 1] * n_calc[2] / aerogel_1050[39][1]])\n",
    "aerogel_10506 = np.array([aerogel_1050[:, 0], aerogel_1050[:, 1] * n_calc[3] / aerogel_1050[39][1]])\n",
    "aerogel_1040\n",
    "# aerogel_10506\n",
    "plt.scatter(aerogel_1050[:,0], aerogel_1050[:,1], label='aerogel_1050')\n",
    "plt.scatter(aerogel_1040[0], aerogel_1040[1], label='aerogel_1040')\n",
    "plt.scatter(aerogel_1043[0], aerogel_1043[1], label='aerogel_1043')\n",
    "plt.scatter(aerogel_1047[0], aerogel_1047[1], label='aerogel_1047')\n",
    "plt.scatter(aerogel_10506[0], aerogel_10506[1], label='aerogel_10506')\n",
    "plt.xlabel('Energy, eV')\n",
    "plt.ylabel('n')\n",
    "plt.legend()\n",
    "plt.show()"
   ],
   "outputs": [],
   "execution_count": null
  },
  {
   "metadata": {},
   "cell_type": "code",
   "source": [
    "text_1040 = text_1043 = text_1047 = text_10506 = ''\n",
    "for i in range(aerogel_1040.shape[1]):\n",
    "    text_1040 += f'    {round(aerogel_1040[0][i], 5)}*eV {round(aerogel_1040[1][i], 5)}\\n'\n",
    "    text_1043 += f'    {round(aerogel_1043[0][i], 5)}*eV {round(aerogel_1043[1][i], 5)}\\n'\n",
    "    text_1047 += f'    {round(aerogel_1047[0][i], 5)}*eV {round(aerogel_1047[1][i], 5)}\\n'\n",
    "    text_10506 += f'    {round(aerogel_10506[0][i], 5)}*eV {round(aerogel_10506[1][i], 5)}\\n'\n",
    "with open(r'data\\rindex_1040.txt', 'w') as rindex:\n",
    "    rindex.write(text_1040)\n",
    "with open(r'data\\rindex_1043.txt', 'w') as rindex:\n",
    "    rindex.write(text_1043)\n",
    "with open(r'data\\rindex_1047.txt', 'w') as rindex:\n",
    "    rindex.write(text_1047)\n",
    "with open(r'data\\rindex_10506.txt', 'w') as rindex:\n",
    "    rindex.write(text_10506)"
   ],
   "outputs": [],
   "execution_count": null
  }
 ],
 "metadata": {
  "kernelspec": {
   "display_name": "Python 3",
   "language": "python",
   "name": "python3"
  },
  "language_info": {
   "codemirror_mode": {
    "name": "ipython",
    "version": 2
   },
   "file_extension": ".py",
   "mimetype": "text/x-python",
   "name": "python",
   "nbconvert_exporter": "python",
   "pygments_lexer": "ipython2",
   "version": "2.7.6"
  }
 },
 "nbformat": 4,
 "nbformat_minor": 0
}
